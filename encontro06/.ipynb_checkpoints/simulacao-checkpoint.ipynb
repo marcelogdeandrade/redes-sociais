{
 "cells": [
  {
   "cell_type": "markdown",
   "metadata": {},
   "source": [
    "# Encontro 06: Simulação de Negociações\n",
    "\n",
    "Importando a biblioteca:"
   ]
  },
  {
   "cell_type": "code",
   "execution_count": 1,
   "metadata": {
    "scrolled": true
   },
   "outputs": [
    {
     "data": {
      "text/html": [
       "<script>requirejs.config({paths: { 'plotly': ['https://cdn.plot.ly/plotly-latest.min']},});if(!window.Plotly) {{require(['plotly'],function(plotly) {window.Plotly=plotly;});}}</script>"
      ],
      "text/vnd.plotly.v1+html": [
       "<script>requirejs.config({paths: { 'plotly': ['https://cdn.plot.ly/plotly-latest.min']},});if(!window.Plotly) {{require(['plotly'],function(plotly) {window.Plotly=plotly;});}}</script>"
      ]
     },
     "metadata": {},
     "output_type": "display_data"
    }
   ],
   "source": [
    "import sys\n",
    "sys.path.append('..')\n",
    "\n",
    "import socnet as sn"
   ]
  },
  {
   "cell_type": "markdown",
   "metadata": {},
   "source": [
    "Configurando a biblioteca:"
   ]
  },
  {
   "cell_type": "code",
   "execution_count": 2,
   "metadata": {
    "collapsed": true
   },
   "outputs": [],
   "source": [
    "sn.graph_width = 360\n",
    "sn.graph_height = 360\n",
    "sn.node_size = 25\n",
    "\n",
    "\n",
    "def load_graph(path):\n",
    "    g = sn.load_graph(path, has_pos=True)\n",
    "\n",
    "    for n, m in g.edges():\n",
    "        g.edge[n][m]['strong'] = bool(g.edge[n][m]['strong'])\n",
    "\n",
    "    return g\n",
    "\n",
    "\n",
    "def set_colors(g):\n",
    "    for n, m in g.edges():\n",
    "        if g.edge[n][m]['strong']:\n",
    "            g.edge[n][m]['color'] = (0, 0, 0)\n",
    "        else:\n",
    "            g.edge[n][m]['color'] = (192, 192, 192)\n",
    "\n",
    "\n",
    "def show_graph(g):\n",
    "    set_colors(g)\n",
    "\n",
    "    sn.show_graph(g, nlab=True)"
   ]
  },
  {
   "cell_type": "markdown",
   "metadata": {},
   "source": [
    "O objetivo desta atividade é escrever uma simulação **animada** de negociações e executá-la sobre seis grafos diferentes."
   ]
  },
  {
   "cell_type": "markdown",
   "metadata": {},
   "source": [
    "Primeiro grafo:"
   ]
  },
  {
   "cell_type": "code",
   "execution_count": 3,
   "metadata": {},
   "outputs": [
    {
     "data": {
      "application/vnd.plotly.v1+json": {
       "data": [
        {
         "hoverinfo": "none",
         "line": {
          "color": "rgb(192, 192, 192)",
          "width": 2
         },
         "mode": "lines",
         "x": [
          0.5,
          0,
          null,
          0.5,
          1,
          null,
          0,
          1,
          null
         ],
         "y": [
          1,
          0,
          null,
          1,
          0,
          null,
          0,
          0,
          null
         ]
        },
        {
         "hoverinfo": "none",
         "line": {
          "color": "rgb(0, 0, 0)",
          "width": 2
         },
         "mode": "lines",
         "x": [
          0.5,
          0.5,
          null,
          0.5,
          0,
          null,
          0.5,
          1,
          null
         ],
         "y": [
          0.4,
          1,
          null,
          0.4,
          0,
          null,
          0.4,
          0,
          null
         ]
        },
        {
         "hoverinfo": "none",
         "marker": {
          "color": "rgb(255, 255, 255)",
          "line": {
           "color": "rgb(0, 0, 0)",
           "width": 2
          },
          "size": 25
         },
         "mode": "markers+text",
         "text": [
          "A",
          "B1",
          "B2",
          "B3"
         ],
         "textfont": {
          "color": "rgb(0, 0, 0)"
         },
         "textposition": "middle center",
         "x": [
          0.5,
          0.5,
          0,
          1
         ],
         "y": [
          0.4,
          1,
          0,
          0
         ]
        }
       ],
       "layout": {
        "height": 360,
        "margin": {
         "b": 0,
         "l": 0,
         "r": 0,
         "t": 0
        },
        "showlegend": false,
        "width": 360,
        "xaxis": {
         "showgrid": false,
         "showticklabels": false,
         "zeroline": false
        },
        "yaxis": {
         "showgrid": false,
         "showticklabels": false,
         "zeroline": false
        }
       }
      },
      "text/html": [
       "<div id=\"d5ad1fbf-7ee0-4344-89a1-06ca53018b33\" style=\"height: 360px; width: 360px;\" class=\"plotly-graph-div\"></div><script type=\"text/javascript\">require([\"plotly\"], function(Plotly) { window.PLOTLYENV=window.PLOTLYENV || {};window.PLOTLYENV.BASE_URL=\"https://plot.ly\";Plotly.newPlot(\"d5ad1fbf-7ee0-4344-89a1-06ca53018b33\", [{\"hoverinfo\": \"none\", \"mode\": \"lines\", \"y\": [1.0, 0.0, null, 1.0, 0.0, null, 0.0, 0.0, null], \"x\": [0.5, 0.0, null, 0.5, 1.0, null, 0.0, 1.0, null], \"line\": {\"width\": 2, \"color\": \"rgb(192, 192, 192)\"}}, {\"hoverinfo\": \"none\", \"mode\": \"lines\", \"y\": [0.4, 1.0, null, 0.4, 0.0, null, 0.4, 0.0, null], \"x\": [0.5, 0.5, null, 0.5, 0.0, null, 0.5, 1.0, null], \"line\": {\"width\": 2, \"color\": \"rgb(0, 0, 0)\"}}, {\"hoverinfo\": \"none\", \"textfont\": {\"color\": \"rgb(0, 0, 0)\"}, \"text\": [\"A\", \"B1\", \"B2\", \"B3\"], \"textposition\": \"middle center\", \"x\": [0.5, 0.5, 0.0, 1.0], \"y\": [0.4, 1.0, 0.0, 0.0], \"mode\": \"markers+text\", \"marker\": {\"size\": 25, \"color\": \"rgb(255, 255, 255)\", \"line\": {\"width\": 2, \"color\": \"rgb(0, 0, 0)\"}}}], {\"margin\": {\"b\": 0, \"l\": 0, \"r\": 0, \"t\": 0}, \"width\": 360, \"height\": 360, \"showlegend\": false, \"xaxis\": {\"zeroline\": false, \"showticklabels\": false, \"showgrid\": false}, \"yaxis\": {\"zeroline\": false, \"showticklabels\": false, \"showgrid\": false}}, {\"showLink\": false, \"linkText\": \"Export to plot.ly\", \"displayModeBar\": false})});</script>"
      ],
      "text/vnd.plotly.v1+html": [
       "<div id=\"d5ad1fbf-7ee0-4344-89a1-06ca53018b33\" style=\"height: 360px; width: 360px;\" class=\"plotly-graph-div\"></div><script type=\"text/javascript\">require([\"plotly\"], function(Plotly) { window.PLOTLYENV=window.PLOTLYENV || {};window.PLOTLYENV.BASE_URL=\"https://plot.ly\";Plotly.newPlot(\"d5ad1fbf-7ee0-4344-89a1-06ca53018b33\", [{\"hoverinfo\": \"none\", \"mode\": \"lines\", \"y\": [1.0, 0.0, null, 1.0, 0.0, null, 0.0, 0.0, null], \"x\": [0.5, 0.0, null, 0.5, 1.0, null, 0.0, 1.0, null], \"line\": {\"width\": 2, \"color\": \"rgb(192, 192, 192)\"}}, {\"hoverinfo\": \"none\", \"mode\": \"lines\", \"y\": [0.4, 1.0, null, 0.4, 0.0, null, 0.4, 0.0, null], \"x\": [0.5, 0.5, null, 0.5, 0.0, null, 0.5, 1.0, null], \"line\": {\"width\": 2, \"color\": \"rgb(0, 0, 0)\"}}, {\"hoverinfo\": \"none\", \"textfont\": {\"color\": \"rgb(0, 0, 0)\"}, \"text\": [\"A\", \"B1\", \"B2\", \"B3\"], \"textposition\": \"middle center\", \"x\": [0.5, 0.5, 0.0, 1.0], \"y\": [0.4, 1.0, 0.0, 0.0], \"mode\": \"markers+text\", \"marker\": {\"size\": 25, \"color\": \"rgb(255, 255, 255)\", \"line\": {\"width\": 2, \"color\": \"rgb(0, 0, 0)\"}}}], {\"margin\": {\"b\": 0, \"l\": 0, \"r\": 0, \"t\": 0}, \"width\": 360, \"height\": 360, \"showlegend\": false, \"xaxis\": {\"zeroline\": false, \"showticklabels\": false, \"showgrid\": false}, \"yaxis\": {\"zeroline\": false, \"showticklabels\": false, \"showgrid\": false}}, {\"showLink\": false, \"linkText\": \"Export to plot.ly\", \"displayModeBar\": false})});</script>"
      ]
     },
     "metadata": {},
     "output_type": "display_data"
    }
   ],
   "source": [
    "g1 = load_graph('power-1.gml')\n",
    "\n",
    "show_graph(g1)"
   ]
  },
  {
   "cell_type": "markdown",
   "metadata": {},
   "source": [
    "Segundo grafo:"
   ]
  },
  {
   "cell_type": "code",
   "execution_count": 4,
   "metadata": {},
   "outputs": [
    {
     "data": {
      "application/vnd.plotly.v1+json": {
       "data": [
        {
         "hoverinfo": "none",
         "line": {
          "color": "rgb(0, 0, 0)",
          "width": 2
         },
         "mode": "lines",
         "x": [
          0.5,
          0.5,
          null,
          0.5,
          0,
          null,
          0.5,
          1,
          null,
          0.5,
          0,
          null,
          0.5,
          1,
          null,
          0,
          1,
          null
         ],
         "y": [
          0.4,
          1,
          null,
          0.4,
          0,
          null,
          0.4,
          0,
          null,
          1,
          0,
          null,
          1,
          0,
          null,
          0,
          0,
          null
         ]
        },
        {
         "hoverinfo": "none",
         "marker": {
          "color": "rgb(255, 255, 255)",
          "line": {
           "color": "rgb(0, 0, 0)",
           "width": 2
          },
          "size": 25
         },
         "mode": "markers+text",
         "text": [
          "C1",
          "C2",
          "C3",
          "C4"
         ],
         "textfont": {
          "color": "rgb(0, 0, 0)"
         },
         "textposition": "middle center",
         "x": [
          0.5,
          0.5,
          0,
          1
         ],
         "y": [
          0.4,
          1,
          0,
          0
         ]
        }
       ],
       "layout": {
        "height": 360,
        "margin": {
         "b": 0,
         "l": 0,
         "r": 0,
         "t": 0
        },
        "showlegend": false,
        "width": 360,
        "xaxis": {
         "showgrid": false,
         "showticklabels": false,
         "zeroline": false
        },
        "yaxis": {
         "showgrid": false,
         "showticklabels": false,
         "zeroline": false
        }
       }
      },
      "text/html": [
       "<div id=\"25217de2-0fa7-430b-b343-b7e0acd9a950\" style=\"height: 360px; width: 360px;\" class=\"plotly-graph-div\"></div><script type=\"text/javascript\">require([\"plotly\"], function(Plotly) { window.PLOTLYENV=window.PLOTLYENV || {};window.PLOTLYENV.BASE_URL=\"https://plot.ly\";Plotly.newPlot(\"25217de2-0fa7-430b-b343-b7e0acd9a950\", [{\"hoverinfo\": \"none\", \"mode\": \"lines\", \"y\": [0.4, 1.0, null, 0.4, 0.0, null, 0.4, 0.0, null, 1.0, 0.0, null, 1.0, 0.0, null, 0.0, 0.0, null], \"x\": [0.5, 0.5, null, 0.5, 0.0, null, 0.5, 1.0, null, 0.5, 0.0, null, 0.5, 1.0, null, 0.0, 1.0, null], \"line\": {\"width\": 2, \"color\": \"rgb(0, 0, 0)\"}}, {\"hoverinfo\": \"none\", \"textfont\": {\"color\": \"rgb(0, 0, 0)\"}, \"text\": [\"C1\", \"C2\", \"C3\", \"C4\"], \"textposition\": \"middle center\", \"x\": [0.5, 0.5, 0.0, 1.0], \"y\": [0.4, 1.0, 0.0, 0.0], \"mode\": \"markers+text\", \"marker\": {\"size\": 25, \"color\": \"rgb(255, 255, 255)\", \"line\": {\"width\": 2, \"color\": \"rgb(0, 0, 0)\"}}}], {\"margin\": {\"b\": 0, \"l\": 0, \"r\": 0, \"t\": 0}, \"width\": 360, \"height\": 360, \"showlegend\": false, \"xaxis\": {\"zeroline\": false, \"showticklabels\": false, \"showgrid\": false}, \"yaxis\": {\"zeroline\": false, \"showticklabels\": false, \"showgrid\": false}}, {\"showLink\": false, \"linkText\": \"Export to plot.ly\", \"displayModeBar\": false})});</script>"
      ],
      "text/vnd.plotly.v1+html": [
       "<div id=\"25217de2-0fa7-430b-b343-b7e0acd9a950\" style=\"height: 360px; width: 360px;\" class=\"plotly-graph-div\"></div><script type=\"text/javascript\">require([\"plotly\"], function(Plotly) { window.PLOTLYENV=window.PLOTLYENV || {};window.PLOTLYENV.BASE_URL=\"https://plot.ly\";Plotly.newPlot(\"25217de2-0fa7-430b-b343-b7e0acd9a950\", [{\"hoverinfo\": \"none\", \"mode\": \"lines\", \"y\": [0.4, 1.0, null, 0.4, 0.0, null, 0.4, 0.0, null, 1.0, 0.0, null, 1.0, 0.0, null, 0.0, 0.0, null], \"x\": [0.5, 0.5, null, 0.5, 0.0, null, 0.5, 1.0, null, 0.5, 0.0, null, 0.5, 1.0, null, 0.0, 1.0, null], \"line\": {\"width\": 2, \"color\": \"rgb(0, 0, 0)\"}}, {\"hoverinfo\": \"none\", \"textfont\": {\"color\": \"rgb(0, 0, 0)\"}, \"text\": [\"C1\", \"C2\", \"C3\", \"C4\"], \"textposition\": \"middle center\", \"x\": [0.5, 0.5, 0.0, 1.0], \"y\": [0.4, 1.0, 0.0, 0.0], \"mode\": \"markers+text\", \"marker\": {\"size\": 25, \"color\": \"rgb(255, 255, 255)\", \"line\": {\"width\": 2, \"color\": \"rgb(0, 0, 0)\"}}}], {\"margin\": {\"b\": 0, \"l\": 0, \"r\": 0, \"t\": 0}, \"width\": 360, \"height\": 360, \"showlegend\": false, \"xaxis\": {\"zeroline\": false, \"showticklabels\": false, \"showgrid\": false}, \"yaxis\": {\"zeroline\": false, \"showticklabels\": false, \"showgrid\": false}}, {\"showLink\": false, \"linkText\": \"Export to plot.ly\", \"displayModeBar\": false})});</script>"
      ]
     },
     "metadata": {},
     "output_type": "display_data"
    }
   ],
   "source": [
    "g2 = load_graph('power-2.gml')\n",
    "\n",
    "show_graph(g2)"
   ]
  },
  {
   "cell_type": "markdown",
   "metadata": {},
   "source": [
    "Terceiro grafo:"
   ]
  },
  {
   "cell_type": "code",
   "execution_count": 5,
   "metadata": {},
   "outputs": [
    {
     "data": {
      "application/vnd.plotly.v1+json": {
       "data": [
        {
         "hoverinfo": "none",
         "line": {
          "color": "rgb(192, 192, 192)",
          "width": 2
         },
         "mode": "lines",
         "x": [
          0,
          1,
          null
         ],
         "y": [
          0,
          0,
          null
         ]
        },
        {
         "hoverinfo": "none",
         "line": {
          "color": "rgb(0, 0, 0)",
          "width": 2
         },
         "mode": "lines",
         "x": [
          0.5,
          0,
          null,
          0.5,
          1,
          null,
          0,
          0,
          null,
          1,
          1,
          null
         ],
         "y": [
          1,
          0.6,
          null,
          1,
          0.6,
          null,
          0.6,
          0,
          null,
          0.6,
          0,
          null
         ]
        },
        {
         "hoverinfo": "none",
         "marker": {
          "color": "rgb(255, 255, 255)",
          "line": {
           "color": "rgb(0, 0, 0)",
           "width": 2
          },
          "size": 25
         },
         "mode": "markers+text",
         "text": [
          "D1",
          "E1",
          "E2",
          "F1",
          "F2"
         ],
         "textfont": {
          "color": "rgb(0, 0, 0)"
         },
         "textposition": "middle center",
         "x": [
          0.5,
          0,
          1,
          0,
          1
         ],
         "y": [
          1,
          0.6,
          0.6,
          0,
          0
         ]
        }
       ],
       "layout": {
        "height": 360,
        "margin": {
         "b": 0,
         "l": 0,
         "r": 0,
         "t": 0
        },
        "showlegend": false,
        "width": 360,
        "xaxis": {
         "showgrid": false,
         "showticklabels": false,
         "zeroline": false
        },
        "yaxis": {
         "showgrid": false,
         "showticklabels": false,
         "zeroline": false
        }
       }
      },
      "text/html": [
       "<div id=\"dacfecbc-5632-40cf-ac99-6ae0e767c877\" style=\"height: 360px; width: 360px;\" class=\"plotly-graph-div\"></div><script type=\"text/javascript\">require([\"plotly\"], function(Plotly) { window.PLOTLYENV=window.PLOTLYENV || {};window.PLOTLYENV.BASE_URL=\"https://plot.ly\";Plotly.newPlot(\"dacfecbc-5632-40cf-ac99-6ae0e767c877\", [{\"hoverinfo\": \"none\", \"mode\": \"lines\", \"y\": [0.0, 0.0, null], \"x\": [0.0, 1.0, null], \"line\": {\"width\": 2, \"color\": \"rgb(192, 192, 192)\"}}, {\"hoverinfo\": \"none\", \"mode\": \"lines\", \"y\": [1.0, 0.6, null, 1.0, 0.6, null, 0.6, 0.0, null, 0.6, 0.0, null], \"x\": [0.5, 0.0, null, 0.5, 1.0, null, 0.0, 0.0, null, 1.0, 1.0, null], \"line\": {\"width\": 2, \"color\": \"rgb(0, 0, 0)\"}}, {\"hoverinfo\": \"none\", \"textfont\": {\"color\": \"rgb(0, 0, 0)\"}, \"text\": [\"D1\", \"E1\", \"E2\", \"F1\", \"F2\"], \"textposition\": \"middle center\", \"x\": [0.5, 0.0, 1.0, 0.0, 1.0], \"y\": [1.0, 0.6, 0.6, 0.0, 0.0], \"mode\": \"markers+text\", \"marker\": {\"size\": 25, \"color\": \"rgb(255, 255, 255)\", \"line\": {\"width\": 2, \"color\": \"rgb(0, 0, 0)\"}}}], {\"margin\": {\"b\": 0, \"l\": 0, \"r\": 0, \"t\": 0}, \"width\": 360, \"height\": 360, \"showlegend\": false, \"xaxis\": {\"zeroline\": false, \"showticklabels\": false, \"showgrid\": false}, \"yaxis\": {\"zeroline\": false, \"showticklabels\": false, \"showgrid\": false}}, {\"showLink\": false, \"linkText\": \"Export to plot.ly\", \"displayModeBar\": false})});</script>"
      ],
      "text/vnd.plotly.v1+html": [
       "<div id=\"dacfecbc-5632-40cf-ac99-6ae0e767c877\" style=\"height: 360px; width: 360px;\" class=\"plotly-graph-div\"></div><script type=\"text/javascript\">require([\"plotly\"], function(Plotly) { window.PLOTLYENV=window.PLOTLYENV || {};window.PLOTLYENV.BASE_URL=\"https://plot.ly\";Plotly.newPlot(\"dacfecbc-5632-40cf-ac99-6ae0e767c877\", [{\"hoverinfo\": \"none\", \"mode\": \"lines\", \"y\": [0.0, 0.0, null], \"x\": [0.0, 1.0, null], \"line\": {\"width\": 2, \"color\": \"rgb(192, 192, 192)\"}}, {\"hoverinfo\": \"none\", \"mode\": \"lines\", \"y\": [1.0, 0.6, null, 1.0, 0.6, null, 0.6, 0.0, null, 0.6, 0.0, null], \"x\": [0.5, 0.0, null, 0.5, 1.0, null, 0.0, 0.0, null, 1.0, 1.0, null], \"line\": {\"width\": 2, \"color\": \"rgb(0, 0, 0)\"}}, {\"hoverinfo\": \"none\", \"textfont\": {\"color\": \"rgb(0, 0, 0)\"}, \"text\": [\"D1\", \"E1\", \"E2\", \"F1\", \"F2\"], \"textposition\": \"middle center\", \"x\": [0.5, 0.0, 1.0, 0.0, 1.0], \"y\": [1.0, 0.6, 0.6, 0.0, 0.0], \"mode\": \"markers+text\", \"marker\": {\"size\": 25, \"color\": \"rgb(255, 255, 255)\", \"line\": {\"width\": 2, \"color\": \"rgb(0, 0, 0)\"}}}], {\"margin\": {\"b\": 0, \"l\": 0, \"r\": 0, \"t\": 0}, \"width\": 360, \"height\": 360, \"showlegend\": false, \"xaxis\": {\"zeroline\": false, \"showticklabels\": false, \"showgrid\": false}, \"yaxis\": {\"zeroline\": false, \"showticklabels\": false, \"showgrid\": false}}, {\"showLink\": false, \"linkText\": \"Export to plot.ly\", \"displayModeBar\": false})});</script>"
      ]
     },
     "metadata": {},
     "output_type": "display_data"
    }
   ],
   "source": [
    "g3 = load_graph('power-3.gml')\n",
    "\n",
    "show_graph(g3)"
   ]
  },
  {
   "cell_type": "markdown",
   "metadata": {},
   "source": [
    "Quarto grafo:"
   ]
  },
  {
   "cell_type": "code",
   "execution_count": 6,
   "metadata": {},
   "outputs": [
    {
     "data": {
      "application/vnd.plotly.v1+json": {
       "data": [
        {
         "hoverinfo": "none",
         "line": {
          "color": "rgb(192, 192, 192)",
          "width": 2
         },
         "mode": "lines",
         "x": [
          0.5,
          0,
          null,
          0.5,
          1,
          null,
          0,
          1,
          null
         ],
         "y": [
          1,
          0,
          null,
          1,
          0,
          null,
          0,
          0,
          null
         ]
        },
        {
         "hoverinfo": "none",
         "line": {
          "color": "rgb(0, 0, 0)",
          "width": 2
         },
         "mode": "lines",
         "x": [
          0.5,
          0.5,
          null,
          0.5,
          0.25,
          null,
          0.5,
          0.75,
          null,
          0.5,
          0.5,
          null,
          0.25,
          0,
          null,
          0.75,
          1,
          null
         ],
         "y": [
          0.4,
          0.7,
          null,
          0.4,
          0.2,
          null,
          0.4,
          0.2,
          null,
          0.7,
          1,
          null,
          0.2,
          0,
          null,
          0.2,
          0,
          null
         ]
        },
        {
         "hoverinfo": "none",
         "marker": {
          "color": "rgb(255, 255, 255)",
          "line": {
           "color": "rgb(0, 0, 0)",
           "width": 2
          },
          "size": 25
         },
         "mode": "markers+text",
         "text": [
          "D2",
          "E3",
          "E4",
          "E5",
          "F3",
          "F4",
          "F5"
         ],
         "textfont": {
          "color": "rgb(0, 0, 0)"
         },
         "textposition": "middle center",
         "x": [
          0.5,
          0.5,
          0.25,
          0.75,
          0.5,
          0,
          1
         ],
         "y": [
          0.4,
          0.7,
          0.2,
          0.2,
          1,
          0,
          0
         ]
        }
       ],
       "layout": {
        "height": 360,
        "margin": {
         "b": 0,
         "l": 0,
         "r": 0,
         "t": 0
        },
        "showlegend": false,
        "width": 360,
        "xaxis": {
         "showgrid": false,
         "showticklabels": false,
         "zeroline": false
        },
        "yaxis": {
         "showgrid": false,
         "showticklabels": false,
         "zeroline": false
        }
       }
      },
      "text/html": [
       "<div id=\"0a9682b1-b39b-4819-8a05-d38635242646\" style=\"height: 360px; width: 360px;\" class=\"plotly-graph-div\"></div><script type=\"text/javascript\">require([\"plotly\"], function(Plotly) { window.PLOTLYENV=window.PLOTLYENV || {};window.PLOTLYENV.BASE_URL=\"https://plot.ly\";Plotly.newPlot(\"0a9682b1-b39b-4819-8a05-d38635242646\", [{\"hoverinfo\": \"none\", \"mode\": \"lines\", \"y\": [1.0, 0.0, null, 1.0, 0.0, null, 0.0, 0.0, null], \"x\": [0.5, 0.0, null, 0.5, 1.0, null, 0.0, 1.0, null], \"line\": {\"width\": 2, \"color\": \"rgb(192, 192, 192)\"}}, {\"hoverinfo\": \"none\", \"mode\": \"lines\", \"y\": [0.4, 0.7, null, 0.4, 0.2, null, 0.4, 0.2, null, 0.7, 1.0, null, 0.2, 0.0, null, 0.2, 0.0, null], \"x\": [0.5, 0.5, null, 0.5, 0.25, null, 0.5, 0.75, null, 0.5, 0.5, null, 0.25, 0.0, null, 0.75, 1.0, null], \"line\": {\"width\": 2, \"color\": \"rgb(0, 0, 0)\"}}, {\"hoverinfo\": \"none\", \"textfont\": {\"color\": \"rgb(0, 0, 0)\"}, \"text\": [\"D2\", \"E3\", \"E4\", \"E5\", \"F3\", \"F4\", \"F5\"], \"textposition\": \"middle center\", \"x\": [0.5, 0.5, 0.25, 0.75, 0.5, 0.0, 1.0], \"y\": [0.4, 0.7, 0.2, 0.2, 1.0, 0.0, 0.0], \"mode\": \"markers+text\", \"marker\": {\"size\": 25, \"color\": \"rgb(255, 255, 255)\", \"line\": {\"width\": 2, \"color\": \"rgb(0, 0, 0)\"}}}], {\"margin\": {\"b\": 0, \"l\": 0, \"r\": 0, \"t\": 0}, \"width\": 360, \"height\": 360, \"showlegend\": false, \"xaxis\": {\"zeroline\": false, \"showticklabels\": false, \"showgrid\": false}, \"yaxis\": {\"zeroline\": false, \"showticklabels\": false, \"showgrid\": false}}, {\"showLink\": false, \"linkText\": \"Export to plot.ly\", \"displayModeBar\": false})});</script>"
      ],
      "text/vnd.plotly.v1+html": [
       "<div id=\"0a9682b1-b39b-4819-8a05-d38635242646\" style=\"height: 360px; width: 360px;\" class=\"plotly-graph-div\"></div><script type=\"text/javascript\">require([\"plotly\"], function(Plotly) { window.PLOTLYENV=window.PLOTLYENV || {};window.PLOTLYENV.BASE_URL=\"https://plot.ly\";Plotly.newPlot(\"0a9682b1-b39b-4819-8a05-d38635242646\", [{\"hoverinfo\": \"none\", \"mode\": \"lines\", \"y\": [1.0, 0.0, null, 1.0, 0.0, null, 0.0, 0.0, null], \"x\": [0.5, 0.0, null, 0.5, 1.0, null, 0.0, 1.0, null], \"line\": {\"width\": 2, \"color\": \"rgb(192, 192, 192)\"}}, {\"hoverinfo\": \"none\", \"mode\": \"lines\", \"y\": [0.4, 0.7, null, 0.4, 0.2, null, 0.4, 0.2, null, 0.7, 1.0, null, 0.2, 0.0, null, 0.2, 0.0, null], \"x\": [0.5, 0.5, null, 0.5, 0.25, null, 0.5, 0.75, null, 0.5, 0.5, null, 0.25, 0.0, null, 0.75, 1.0, null], \"line\": {\"width\": 2, \"color\": \"rgb(0, 0, 0)\"}}, {\"hoverinfo\": \"none\", \"textfont\": {\"color\": \"rgb(0, 0, 0)\"}, \"text\": [\"D2\", \"E3\", \"E4\", \"E5\", \"F3\", \"F4\", \"F5\"], \"textposition\": \"middle center\", \"x\": [0.5, 0.5, 0.25, 0.75, 0.5, 0.0, 1.0], \"y\": [0.4, 0.7, 0.2, 0.2, 1.0, 0.0, 0.0], \"mode\": \"markers+text\", \"marker\": {\"size\": 25, \"color\": \"rgb(255, 255, 255)\", \"line\": {\"width\": 2, \"color\": \"rgb(0, 0, 0)\"}}}], {\"margin\": {\"b\": 0, \"l\": 0, \"r\": 0, \"t\": 0}, \"width\": 360, \"height\": 360, \"showlegend\": false, \"xaxis\": {\"zeroline\": false, \"showticklabels\": false, \"showgrid\": false}, \"yaxis\": {\"zeroline\": false, \"showticklabels\": false, \"showgrid\": false}}, {\"showLink\": false, \"linkText\": \"Export to plot.ly\", \"displayModeBar\": false})});</script>"
      ]
     },
     "metadata": {},
     "output_type": "display_data"
    }
   ],
   "source": [
    "g4 = load_graph('power-4.gml')\n",
    "\n",
    "show_graph(g4)"
   ]
  },
  {
   "cell_type": "markdown",
   "metadata": {},
   "source": [
    "Quinto grafo:"
   ]
  },
  {
   "cell_type": "code",
   "execution_count": 7,
   "metadata": {},
   "outputs": [
    {
     "data": {
      "application/vnd.plotly.v1+json": {
       "data": [
        {
         "hoverinfo": "none",
         "line": {
          "color": "rgb(192, 192, 192)",
          "width": 2
         },
         "mode": "lines",
         "x": [
          0.25,
          0.75,
          null,
          0.25,
          0,
          null,
          0.75,
          1,
          null,
          0,
          0.25,
          null,
          0.25,
          0.75,
          null,
          1,
          0.75,
          null
         ],
         "y": [
          1,
          1,
          null,
          1,
          0.5,
          null,
          1,
          0.5,
          null,
          0.5,
          0,
          null,
          0,
          0,
          null,
          0.5,
          0,
          null
         ]
        },
        {
         "hoverinfo": "none",
         "line": {
          "color": "rgb(0, 0, 0)",
          "width": 2
         },
         "mode": "lines",
         "x": [
          0.5,
          0.5,
          null,
          0.5,
          0.25,
          null,
          0.5,
          0.75,
          null,
          0.5,
          0.25,
          null,
          0.5,
          0.75,
          null,
          0.25,
          0,
          null,
          0.25,
          0.25,
          null,
          0.75,
          0.75,
          null,
          0.75,
          1,
          null
         ],
         "y": [
          0.5,
          0.85,
          null,
          0.5,
          0.35,
          null,
          0.5,
          0.35,
          null,
          0.85,
          1,
          null,
          0.85,
          1,
          null,
          0.35,
          0.5,
          null,
          0.35,
          0,
          null,
          0.35,
          0,
          null,
          0.35,
          0.5,
          null
         ]
        },
        {
         "hoverinfo": "none",
         "marker": {
          "color": "rgb(255, 255, 255)",
          "line": {
           "color": "rgb(0, 0, 0)",
           "width": 2
          },
          "size": 25
         },
         "mode": "markers+text",
         "text": [
          "D3",
          "E6",
          "E7",
          "E8",
          "F6",
          "F7",
          "F8",
          "F9",
          "F10",
          "F11"
         ],
         "textfont": {
          "color": "rgb(0, 0, 0)"
         },
         "textposition": "middle center",
         "x": [
          0.5,
          0.5,
          0.25,
          0.75,
          0.25,
          0.75,
          0,
          0.25,
          1,
          0.75
         ],
         "y": [
          0.5,
          0.85,
          0.35,
          0.35,
          1,
          1,
          0.5,
          0,
          0.5,
          0
         ]
        }
       ],
       "layout": {
        "height": 360,
        "margin": {
         "b": 0,
         "l": 0,
         "r": 0,
         "t": 0
        },
        "showlegend": false,
        "width": 360,
        "xaxis": {
         "showgrid": false,
         "showticklabels": false,
         "zeroline": false
        },
        "yaxis": {
         "showgrid": false,
         "showticklabels": false,
         "zeroline": false
        }
       }
      },
      "text/html": [
       "<div id=\"f64aec64-a928-4914-a978-6861be515156\" style=\"height: 360px; width: 360px;\" class=\"plotly-graph-div\"></div><script type=\"text/javascript\">require([\"plotly\"], function(Plotly) { window.PLOTLYENV=window.PLOTLYENV || {};window.PLOTLYENV.BASE_URL=\"https://plot.ly\";Plotly.newPlot(\"f64aec64-a928-4914-a978-6861be515156\", [{\"hoverinfo\": \"none\", \"mode\": \"lines\", \"y\": [1.0, 1.0, null, 1.0, 0.5, null, 1.0, 0.5, null, 0.5, 0.0, null, 0.0, 0.0, null, 0.5, 0.0, null], \"x\": [0.25, 0.75, null, 0.25, 0.0, null, 0.75, 1.0, null, 0.0, 0.25, null, 0.25, 0.75, null, 1.0, 0.75, null], \"line\": {\"width\": 2, \"color\": \"rgb(192, 192, 192)\"}}, {\"hoverinfo\": \"none\", \"mode\": \"lines\", \"y\": [0.5, 0.85, null, 0.5, 0.35, null, 0.5, 0.35, null, 0.85, 1.0, null, 0.85, 1.0, null, 0.35, 0.5, null, 0.35, 0.0, null, 0.35, 0.0, null, 0.35, 0.5, null], \"x\": [0.5, 0.5, null, 0.5, 0.25, null, 0.5, 0.75, null, 0.5, 0.25, null, 0.5, 0.75, null, 0.25, 0.0, null, 0.25, 0.25, null, 0.75, 0.75, null, 0.75, 1.0, null], \"line\": {\"width\": 2, \"color\": \"rgb(0, 0, 0)\"}}, {\"hoverinfo\": \"none\", \"textfont\": {\"color\": \"rgb(0, 0, 0)\"}, \"text\": [\"D3\", \"E6\", \"E7\", \"E8\", \"F6\", \"F7\", \"F8\", \"F9\", \"F10\", \"F11\"], \"textposition\": \"middle center\", \"x\": [0.5, 0.5, 0.25, 0.75, 0.25, 0.75, 0.0, 0.25, 1.0, 0.75], \"y\": [0.5, 0.85, 0.35, 0.35, 1.0, 1.0, 0.5, 0.0, 0.5, 0.0], \"mode\": \"markers+text\", \"marker\": {\"size\": 25, \"color\": \"rgb(255, 255, 255)\", \"line\": {\"width\": 2, \"color\": \"rgb(0, 0, 0)\"}}}], {\"margin\": {\"b\": 0, \"l\": 0, \"r\": 0, \"t\": 0}, \"width\": 360, \"height\": 360, \"showlegend\": false, \"xaxis\": {\"zeroline\": false, \"showticklabels\": false, \"showgrid\": false}, \"yaxis\": {\"zeroline\": false, \"showticklabels\": false, \"showgrid\": false}}, {\"showLink\": false, \"linkText\": \"Export to plot.ly\", \"displayModeBar\": false})});</script>"
      ],
      "text/vnd.plotly.v1+html": [
       "<div id=\"f64aec64-a928-4914-a978-6861be515156\" style=\"height: 360px; width: 360px;\" class=\"plotly-graph-div\"></div><script type=\"text/javascript\">require([\"plotly\"], function(Plotly) { window.PLOTLYENV=window.PLOTLYENV || {};window.PLOTLYENV.BASE_URL=\"https://plot.ly\";Plotly.newPlot(\"f64aec64-a928-4914-a978-6861be515156\", [{\"hoverinfo\": \"none\", \"mode\": \"lines\", \"y\": [1.0, 1.0, null, 1.0, 0.5, null, 1.0, 0.5, null, 0.5, 0.0, null, 0.0, 0.0, null, 0.5, 0.0, null], \"x\": [0.25, 0.75, null, 0.25, 0.0, null, 0.75, 1.0, null, 0.0, 0.25, null, 0.25, 0.75, null, 1.0, 0.75, null], \"line\": {\"width\": 2, \"color\": \"rgb(192, 192, 192)\"}}, {\"hoverinfo\": \"none\", \"mode\": \"lines\", \"y\": [0.5, 0.85, null, 0.5, 0.35, null, 0.5, 0.35, null, 0.85, 1.0, null, 0.85, 1.0, null, 0.35, 0.5, null, 0.35, 0.0, null, 0.35, 0.0, null, 0.35, 0.5, null], \"x\": [0.5, 0.5, null, 0.5, 0.25, null, 0.5, 0.75, null, 0.5, 0.25, null, 0.5, 0.75, null, 0.25, 0.0, null, 0.25, 0.25, null, 0.75, 0.75, null, 0.75, 1.0, null], \"line\": {\"width\": 2, \"color\": \"rgb(0, 0, 0)\"}}, {\"hoverinfo\": \"none\", \"textfont\": {\"color\": \"rgb(0, 0, 0)\"}, \"text\": [\"D3\", \"E6\", \"E7\", \"E8\", \"F6\", \"F7\", \"F8\", \"F9\", \"F10\", \"F11\"], \"textposition\": \"middle center\", \"x\": [0.5, 0.5, 0.25, 0.75, 0.25, 0.75, 0.0, 0.25, 1.0, 0.75], \"y\": [0.5, 0.85, 0.35, 0.35, 1.0, 1.0, 0.5, 0.0, 0.5, 0.0], \"mode\": \"markers+text\", \"marker\": {\"size\": 25, \"color\": \"rgb(255, 255, 255)\", \"line\": {\"width\": 2, \"color\": \"rgb(0, 0, 0)\"}}}], {\"margin\": {\"b\": 0, \"l\": 0, \"r\": 0, \"t\": 0}, \"width\": 360, \"height\": 360, \"showlegend\": false, \"xaxis\": {\"zeroline\": false, \"showticklabels\": false, \"showgrid\": false}, \"yaxis\": {\"zeroline\": false, \"showticklabels\": false, \"showgrid\": false}}, {\"showLink\": false, \"linkText\": \"Export to plot.ly\", \"displayModeBar\": false})});</script>"
      ]
     },
     "metadata": {},
     "output_type": "display_data"
    }
   ],
   "source": [
    "g5 = load_graph('power-5.gml')\n",
    "\n",
    "show_graph(g5)"
   ]
  },
  {
   "cell_type": "markdown",
   "metadata": {},
   "source": [
    "Sexto grafo:"
   ]
  },
  {
   "cell_type": "code",
   "execution_count": 8,
   "metadata": {},
   "outputs": [
    {
     "data": {
      "application/vnd.plotly.v1+json": {
       "data": [
        {
         "hoverinfo": "none",
         "line": {
          "color": "rgb(192, 192, 192)",
          "width": 2
         },
         "mode": "lines",
         "x": [
          0.25,
          0.5,
          null,
          0.25,
          0.05,
          null,
          0.5,
          0.75,
          null,
          0.75,
          0.95,
          null,
          0.05,
          0,
          null,
          0,
          0.25,
          null,
          0.25,
          0.75,
          null,
          0.95,
          1,
          null,
          1,
          0.75,
          null
         ],
         "y": [
          0.8,
          1,
          null,
          0.8,
          0.5,
          null,
          1,
          0.8,
          null,
          0.8,
          0.5,
          null,
          0.5,
          0.1,
          null,
          0.1,
          0,
          null,
          0,
          0,
          null,
          0.5,
          0.1,
          null,
          0.1,
          0,
          null
         ]
        },
        {
         "hoverinfo": "none",
         "line": {
          "color": "rgb(0, 0, 0)",
          "width": 2
         },
         "mode": "lines",
         "x": [
          0.5,
          0.5,
          null,
          0.5,
          0.25,
          null,
          0.5,
          0.75,
          null,
          0.5,
          0.25,
          null,
          0.5,
          0.5,
          null,
          0.5,
          0.75,
          null,
          0.25,
          0,
          null,
          0.25,
          0.25,
          null,
          0.25,
          0.05,
          null,
          0.75,
          0.95,
          null,
          0.75,
          1,
          null,
          0.75,
          0.75,
          null
         ],
         "y": [
          0.5,
          0.75,
          null,
          0.5,
          0.25,
          null,
          0.5,
          0.25,
          null,
          0.75,
          0.8,
          null,
          0.75,
          1,
          null,
          0.75,
          0.8,
          null,
          0.25,
          0.1,
          null,
          0.25,
          0,
          null,
          0.25,
          0.5,
          null,
          0.25,
          0.5,
          null,
          0.25,
          0.1,
          null,
          0.25,
          0,
          null
         ]
        },
        {
         "hoverinfo": "none",
         "marker": {
          "color": "rgb(255, 255, 255)",
          "line": {
           "color": "rgb(0, 0, 0)",
           "width": 2
          },
          "size": 25
         },
         "mode": "markers+text",
         "text": [
          "D4",
          "E9",
          "E10",
          "E11",
          "F12",
          "F13",
          "F14",
          "F15",
          "F16",
          "F17",
          "F18",
          "F19",
          "F20"
         ],
         "textfont": {
          "color": "rgb(0, 0, 0)"
         },
         "textposition": "middle center",
         "x": [
          0.5,
          0.5,
          0.25,
          0.75,
          0.25,
          0.5,
          0.75,
          0.05,
          0,
          0.25,
          0.95,
          1,
          0.75
         ],
         "y": [
          0.5,
          0.75,
          0.25,
          0.25,
          0.8,
          1,
          0.8,
          0.5,
          0.1,
          0,
          0.5,
          0.1,
          0
         ]
        }
       ],
       "layout": {
        "height": 360,
        "margin": {
         "b": 0,
         "l": 0,
         "r": 0,
         "t": 0
        },
        "showlegend": false,
        "width": 360,
        "xaxis": {
         "showgrid": false,
         "showticklabels": false,
         "zeroline": false
        },
        "yaxis": {
         "showgrid": false,
         "showticklabels": false,
         "zeroline": false
        }
       }
      },
      "text/html": [
       "<div id=\"d91579d2-edf8-41ed-b046-2cb53426ad16\" style=\"height: 360px; width: 360px;\" class=\"plotly-graph-div\"></div><script type=\"text/javascript\">require([\"plotly\"], function(Plotly) { window.PLOTLYENV=window.PLOTLYENV || {};window.PLOTLYENV.BASE_URL=\"https://plot.ly\";Plotly.newPlot(\"d91579d2-edf8-41ed-b046-2cb53426ad16\", [{\"hoverinfo\": \"none\", \"mode\": \"lines\", \"y\": [0.8, 1.0, null, 0.8, 0.5, null, 1.0, 0.8, null, 0.8, 0.5, null, 0.5, 0.1, null, 0.1, 0.0, null, 0.0, 0.0, null, 0.5, 0.1, null, 0.1, 0.0, null], \"x\": [0.25, 0.5, null, 0.25, 0.05, null, 0.5, 0.75, null, 0.75, 0.95, null, 0.05, 0.0, null, 0.0, 0.25, null, 0.25, 0.75, null, 0.95, 1.0, null, 1.0, 0.75, null], \"line\": {\"width\": 2, \"color\": \"rgb(192, 192, 192)\"}}, {\"hoverinfo\": \"none\", \"mode\": \"lines\", \"y\": [0.5, 0.75, null, 0.5, 0.25, null, 0.5, 0.25, null, 0.75, 0.8, null, 0.75, 1.0, null, 0.75, 0.8, null, 0.25, 0.1, null, 0.25, 0.0, null, 0.25, 0.5, null, 0.25, 0.5, null, 0.25, 0.1, null, 0.25, 0.0, null], \"x\": [0.5, 0.5, null, 0.5, 0.25, null, 0.5, 0.75, null, 0.5, 0.25, null, 0.5, 0.5, null, 0.5, 0.75, null, 0.25, 0.0, null, 0.25, 0.25, null, 0.25, 0.05, null, 0.75, 0.95, null, 0.75, 1.0, null, 0.75, 0.75, null], \"line\": {\"width\": 2, \"color\": \"rgb(0, 0, 0)\"}}, {\"hoverinfo\": \"none\", \"textfont\": {\"color\": \"rgb(0, 0, 0)\"}, \"text\": [\"D4\", \"E9\", \"E10\", \"E11\", \"F12\", \"F13\", \"F14\", \"F15\", \"F16\", \"F17\", \"F18\", \"F19\", \"F20\"], \"textposition\": \"middle center\", \"x\": [0.5, 0.5, 0.25, 0.75, 0.25, 0.5, 0.75, 0.05, 0.0, 0.25, 0.95, 1.0, 0.75], \"y\": [0.5, 0.75, 0.25, 0.25, 0.8, 1.0, 0.8, 0.5, 0.1, 0.0, 0.5, 0.1, 0.0], \"mode\": \"markers+text\", \"marker\": {\"size\": 25, \"color\": \"rgb(255, 255, 255)\", \"line\": {\"width\": 2, \"color\": \"rgb(0, 0, 0)\"}}}], {\"margin\": {\"b\": 0, \"l\": 0, \"r\": 0, \"t\": 0}, \"width\": 360, \"height\": 360, \"showlegend\": false, \"xaxis\": {\"zeroline\": false, \"showticklabels\": false, \"showgrid\": false}, \"yaxis\": {\"zeroline\": false, \"showticklabels\": false, \"showgrid\": false}}, {\"showLink\": false, \"linkText\": \"Export to plot.ly\", \"displayModeBar\": false})});</script>"
      ],
      "text/vnd.plotly.v1+html": [
       "<div id=\"d91579d2-edf8-41ed-b046-2cb53426ad16\" style=\"height: 360px; width: 360px;\" class=\"plotly-graph-div\"></div><script type=\"text/javascript\">require([\"plotly\"], function(Plotly) { window.PLOTLYENV=window.PLOTLYENV || {};window.PLOTLYENV.BASE_URL=\"https://plot.ly\";Plotly.newPlot(\"d91579d2-edf8-41ed-b046-2cb53426ad16\", [{\"hoverinfo\": \"none\", \"mode\": \"lines\", \"y\": [0.8, 1.0, null, 0.8, 0.5, null, 1.0, 0.8, null, 0.8, 0.5, null, 0.5, 0.1, null, 0.1, 0.0, null, 0.0, 0.0, null, 0.5, 0.1, null, 0.1, 0.0, null], \"x\": [0.25, 0.5, null, 0.25, 0.05, null, 0.5, 0.75, null, 0.75, 0.95, null, 0.05, 0.0, null, 0.0, 0.25, null, 0.25, 0.75, null, 0.95, 1.0, null, 1.0, 0.75, null], \"line\": {\"width\": 2, \"color\": \"rgb(192, 192, 192)\"}}, {\"hoverinfo\": \"none\", \"mode\": \"lines\", \"y\": [0.5, 0.75, null, 0.5, 0.25, null, 0.5, 0.25, null, 0.75, 0.8, null, 0.75, 1.0, null, 0.75, 0.8, null, 0.25, 0.1, null, 0.25, 0.0, null, 0.25, 0.5, null, 0.25, 0.5, null, 0.25, 0.1, null, 0.25, 0.0, null], \"x\": [0.5, 0.5, null, 0.5, 0.25, null, 0.5, 0.75, null, 0.5, 0.25, null, 0.5, 0.5, null, 0.5, 0.75, null, 0.25, 0.0, null, 0.25, 0.25, null, 0.25, 0.05, null, 0.75, 0.95, null, 0.75, 1.0, null, 0.75, 0.75, null], \"line\": {\"width\": 2, \"color\": \"rgb(0, 0, 0)\"}}, {\"hoverinfo\": \"none\", \"textfont\": {\"color\": \"rgb(0, 0, 0)\"}, \"text\": [\"D4\", \"E9\", \"E10\", \"E11\", \"F12\", \"F13\", \"F14\", \"F15\", \"F16\", \"F17\", \"F18\", \"F19\", \"F20\"], \"textposition\": \"middle center\", \"x\": [0.5, 0.5, 0.25, 0.75, 0.25, 0.5, 0.75, 0.05, 0.0, 0.25, 0.95, 1.0, 0.75], \"y\": [0.5, 0.75, 0.25, 0.25, 0.8, 1.0, 0.8, 0.5, 0.1, 0.0, 0.5, 0.1, 0.0], \"mode\": \"markers+text\", \"marker\": {\"size\": 25, \"color\": \"rgb(255, 255, 255)\", \"line\": {\"width\": 2, \"color\": \"rgb(0, 0, 0)\"}}}], {\"margin\": {\"b\": 0, \"l\": 0, \"r\": 0, \"t\": 0}, \"width\": 360, \"height\": 360, \"showlegend\": false, \"xaxis\": {\"zeroline\": false, \"showticklabels\": false, \"showgrid\": false}, \"yaxis\": {\"zeroline\": false, \"showticklabels\": false, \"showgrid\": false}}, {\"showLink\": false, \"linkText\": \"Export to plot.ly\", \"displayModeBar\": false})});</script>"
      ]
     },
     "metadata": {},
     "output_type": "display_data"
    }
   ],
   "source": [
    "g6 = load_graph('power-6.gml')\n",
    "\n",
    "show_graph(g6)"
   ]
  },
  {
   "cell_type": "markdown",
   "metadata": {},
   "source": [
    "## Definições\n",
    "\n",
    "* A **demanda** de um nó é um inteiro de $1$ a $23$.\n",
    "\n",
    "* A **oferta** de um nó $n$ para um nó $m$ é 24 menos a demanda de $n$ (se a aresta $\\{n, m\\}$ é forte) ou 8 menos a demanda de $n$ (se a aresta $\\{n, m\\}$ não é forte). Note que essa definição permite que a oferta seja negativa.\n",
    "\n",
    "* Um vizinho $m$ de $n$ é **aceitável** se a oferta de $m$ para $n$ é máxima em relação aos vizinhos de $n$ e maior ou igual que a demanda de $n$. Note que a segunda condição implica que um nó pode não ter vizinhos aceitáveis.\n",
    "\n",
    "## Algoritmo\n",
    "\n",
    "1. Inicialize a demanda de cada nó como um inteiro aleatório de $1$ a $23$.\n",
    "\n",
    "2. Para cada nó $n$, escolha aleatoriamente um (e apenas um) vizinho aceitável $m$. Defina que $n$ aceita $m$. Se não tem vizinhos aceitáveis, defina que não aceita ninguém.\n",
    "\n",
    "3. Para cada aresta $\\{n, m\\}$, defina que $n$ e $m$ fecharam se $n$ aceita $m$ e $m$ aceita $n$.\n",
    "\n",
    "4. Para cada nó $n$, incremente a demanda (se fechou e a demanda é menor que $23$) ou decremente a demanda (se não fechou e a demanda é maior que $1$).\n",
    "\n",
    "5. Repita os passos de 2 a 4 até as demandas convergirem."
   ]
  },
  {
   "cell_type": "code",
   "execution_count": 26,
   "metadata": {},
   "outputs": [
    {
     "name": "stdout",
     "output_type": "stream",
     "text": [
      "[1, 2, 3]\n",
      "[0, 2, 3]\n",
      "[0, 1, 3]\n",
      "[0, 3]\n",
      "[0, 1, 2]\n"
     ]
    },
    {
     "data": {
      "application/vnd.plotly.v1+json": {
       "data": [
        {
         "hoverinfo": "none",
         "line": {
          "color": "rgb(0, 0, 0)",
          "width": 2
         },
         "mode": "lines",
         "x": [
          0.5,
          0.5,
          null
         ],
         "y": [
          0.4,
          1,
          null
         ]
        },
        {
         "hoverinfo": "none",
         "line": {
          "color": "rgb(0, 0, 0)",
          "width": 2
         },
         "mode": "lines",
         "x": [
          0.5,
          0,
          null
         ],
         "y": [
          0.4,
          0,
          null
         ]
        },
        {
         "hoverinfo": "none",
         "line": {
          "color": "rgb(0, 0, 0)",
          "width": 2
         },
         "mode": "lines",
         "x": [
          0.5,
          1,
          null
         ],
         "y": [
          0.4,
          0,
          null
         ]
        },
        {
         "hoverinfo": "none",
         "line": {
          "color": "rgb(192, 192, 192)",
          "width": 2
         },
         "mode": "lines",
         "x": [
          0.5,
          0,
          null
         ],
         "y": [
          1,
          0,
          null
         ]
        },
        {
         "hoverinfo": "none",
         "line": {
          "color": "rgb(192, 192, 192)",
          "width": 2
         },
         "mode": "lines",
         "x": [
          0.5,
          1,
          null
         ],
         "y": [
          1,
          0,
          null
         ]
        },
        {
         "hoverinfo": "none",
         "line": {
          "color": "rgb(192, 192, 192)",
          "width": 2
         },
         "mode": "lines",
         "x": [
          0,
          1,
          null
         ],
         "y": [
          0,
          0,
          null
         ]
        },
        {
         "hoverinfo": "none",
         "marker": {
          "color": "rgb(255, 255, 255)",
          "line": {
           "color": "rgb(0, 0, 0)",
           "width": 2
          },
          "size": 25
         },
         "mode": "markers+text",
         "text": [
          "3"
         ],
         "textfont": {
          "color": "rgb(0, 0, 0)"
         },
         "textposition": "middle center",
         "x": [
          0.5
         ],
         "y": [
          0.4
         ]
        },
        {
         "hoverinfo": "none",
         "marker": {
          "color": "rgb(255, 255, 255)",
          "line": {
           "color": "rgb(0, 0, 0)",
           "width": 2
          },
          "size": 25
         },
         "mode": "markers+text",
         "text": [
          "8"
         ],
         "textfont": {
          "color": "rgb(0, 0, 0)"
         },
         "textposition": "middle center",
         "x": [
          0.5
         ],
         "y": [
          1
         ]
        },
        {
         "hoverinfo": "none",
         "marker": {
          "color": "rgb(255, 255, 255)",
          "line": {
           "color": "rgb(0, 0, 0)",
           "width": 2
          },
          "size": 25
         },
         "mode": "markers+text",
         "text": [
          "22"
         ],
         "textfont": {
          "color": "rgb(0, 0, 0)"
         },
         "textposition": "middle center",
         "x": [
          0
         ],
         "y": [
          0
         ]
        },
        {
         "hoverinfo": "none",
         "marker": {
          "color": "rgb(255, 255, 255)",
          "line": {
           "color": "rgb(0, 0, 0)",
           "width": 2
          },
          "size": 25
         },
         "mode": "markers+text",
         "text": [
          "17"
         ],
         "textfont": {
          "color": "rgb(0, 0, 0)"
         },
         "textposition": "middle center",
         "x": [
          1
         ],
         "y": [
          0
         ]
        }
       ],
       "frames": [
        {
         "data": [
          {
           "hoverinfo": "none",
           "line": {
            "color": "rgb(0, 0, 0)",
            "width": 2
           },
           "mode": "lines",
           "x": [
            0.5,
            0.5,
            null
           ],
           "y": [
            0.4,
            1,
            null
           ]
          },
          {
           "hoverinfo": "none",
           "line": {
            "color": "rgb(0, 0, 0)",
            "width": 2
           },
           "mode": "lines",
           "x": [
            0.5,
            0,
            null
           ],
           "y": [
            0.4,
            0,
            null
           ]
          },
          {
           "hoverinfo": "none",
           "line": {
            "color": "rgb(0, 0, 0)",
            "width": 2
           },
           "mode": "lines",
           "x": [
            0.5,
            1,
            null
           ],
           "y": [
            0.4,
            0,
            null
           ]
          },
          {
           "hoverinfo": "none",
           "line": {
            "color": "rgb(192, 192, 192)",
            "width": 2
           },
           "mode": "lines",
           "x": [
            0.5,
            0,
            null
           ],
           "y": [
            1,
            0,
            null
           ]
          },
          {
           "hoverinfo": "none",
           "line": {
            "color": "rgb(192, 192, 192)",
            "width": 2
           },
           "mode": "lines",
           "x": [
            0.5,
            1,
            null
           ],
           "y": [
            1,
            0,
            null
           ]
          },
          {
           "hoverinfo": "none",
           "line": {
            "color": "rgb(192, 192, 192)",
            "width": 2
           },
           "mode": "lines",
           "x": [
            0,
            1,
            null
           ],
           "y": [
            0,
            0,
            null
           ]
          },
          {
           "hoverinfo": "none",
           "marker": {
            "color": "rgb(255, 255, 255)",
            "line": {
             "color": "rgb(0, 0, 0)",
             "width": 2
            },
            "size": 25
           },
           "mode": "markers+text",
           "text": [
            "3"
           ],
           "textfont": {
            "color": "rgb(0, 0, 0)"
           },
           "textposition": "middle center",
           "x": [
            0.5
           ],
           "y": [
            0.4
           ]
          },
          {
           "hoverinfo": "none",
           "marker": {
            "color": "rgb(255, 255, 255)",
            "line": {
             "color": "rgb(0, 0, 0)",
             "width": 2
            },
            "size": 25
           },
           "mode": "markers+text",
           "text": [
            "8"
           ],
           "textfont": {
            "color": "rgb(0, 0, 0)"
           },
           "textposition": "middle center",
           "x": [
            0.5
           ],
           "y": [
            1
           ]
          },
          {
           "hoverinfo": "none",
           "marker": {
            "color": "rgb(255, 255, 255)",
            "line": {
             "color": "rgb(0, 0, 0)",
             "width": 2
            },
            "size": 25
           },
           "mode": "markers+text",
           "text": [
            "22"
           ],
           "textfont": {
            "color": "rgb(0, 0, 0)"
           },
           "textposition": "middle center",
           "x": [
            0
           ],
           "y": [
            0
           ]
          },
          {
           "hoverinfo": "none",
           "marker": {
            "color": "rgb(255, 255, 255)",
            "line": {
             "color": "rgb(0, 0, 0)",
             "width": 2
            },
            "size": 25
           },
           "mode": "markers+text",
           "text": [
            "17"
           ],
           "textfont": {
            "color": "rgb(0, 0, 0)"
           },
           "textposition": "middle center",
           "x": [
            1
           ],
           "y": [
            0
           ]
          }
         ],
         "name": 0
        }
       ],
       "layout": {
        "height": 436,
        "margin": {
         "b": 0,
         "l": 0,
         "r": 0,
         "t": 0
        },
        "showlegend": false,
        "sliders": [
         {
          "currentvalue": {
           "visible": false
          },
          "steps": [
           {
            "args": [
             [
              0
             ],
             {
              "frame": {
               "redraw": false
              },
              "mode": "immediate"
             }
            ],
            "label": "",
            "method": "animate"
           }
          ]
         }
        ],
        "updatemenus": [
         {
          "buttons": [
           {
            "args": [
             null,
             {
              "frame": {
               "redraw": false
              },
              "fromcurrent": true
             }
            ],
            "label": "Play",
            "method": "animate"
           },
           {
            "args": [
             [
              null
             ],
             {
              "frame": {
               "redraw": false
              },
              "mode": "immediate"
             }
            ],
            "label": "Pause",
            "method": "animate"
           }
          ],
          "showactive": true,
          "type": "buttons"
         }
        ],
        "width": 450,
        "xaxis": {
         "showgrid": false,
         "showticklabels": false,
         "zeroline": false
        },
        "yaxis": {
         "showgrid": false,
         "showticklabels": false,
         "zeroline": false
        }
       }
      },
      "text/html": [
       "<div id=\"02f399c2-4313-4257-b3b5-def55817562b\" style=\"height: 436.0px; width: 450.0px;\" class=\"plotly-graph-div\"></div><script type=\"text/javascript\">require([\"plotly\"], function(Plotly) { window.PLOTLYENV=window.PLOTLYENV || {};window.PLOTLYENV.BASE_URL=\"https://plot.ly\";\n",
       "        Plotly.plot(\n",
       "            '02f399c2-4313-4257-b3b5-def55817562b',\n",
       "            [{\"hoverinfo\": \"none\", \"mode\": \"lines\", \"y\": [0.4, 1.0, null], \"x\": [0.5, 0.5, null], \"line\": {\"width\": 2, \"color\": \"rgb(0, 0, 0)\"}}, {\"hoverinfo\": \"none\", \"mode\": \"lines\", \"y\": [0.4, 0.0, null], \"x\": [0.5, 0.0, null], \"line\": {\"width\": 2, \"color\": \"rgb(0, 0, 0)\"}}, {\"hoverinfo\": \"none\", \"mode\": \"lines\", \"y\": [0.4, 0.0, null], \"x\": [0.5, 1.0, null], \"line\": {\"width\": 2, \"color\": \"rgb(0, 0, 0)\"}}, {\"hoverinfo\": \"none\", \"mode\": \"lines\", \"y\": [1.0, 0.0, null], \"x\": [0.5, 0.0, null], \"line\": {\"width\": 2, \"color\": \"rgb(192, 192, 192)\"}}, {\"hoverinfo\": \"none\", \"mode\": \"lines\", \"y\": [1.0, 0.0, null], \"x\": [0.5, 1.0, null], \"line\": {\"width\": 2, \"color\": \"rgb(192, 192, 192)\"}}, {\"hoverinfo\": \"none\", \"mode\": \"lines\", \"y\": [0.0, 0.0, null], \"x\": [0.0, 1.0, null], \"line\": {\"width\": 2, \"color\": \"rgb(192, 192, 192)\"}}, {\"hoverinfo\": \"none\", \"textfont\": {\"color\": \"rgb(0, 0, 0)\"}, \"text\": [\"3\"], \"textposition\": \"middle center\", \"x\": [0.5], \"y\": [0.4], \"mode\": \"markers+text\", \"marker\": {\"size\": 25, \"color\": \"rgb(255, 255, 255)\", \"line\": {\"width\": 2, \"color\": \"rgb(0, 0, 0)\"}}}, {\"hoverinfo\": \"none\", \"textfont\": {\"color\": \"rgb(0, 0, 0)\"}, \"text\": [\"8\"], \"textposition\": \"middle center\", \"x\": [0.5], \"y\": [1.0], \"mode\": \"markers+text\", \"marker\": {\"size\": 25, \"color\": \"rgb(255, 255, 255)\", \"line\": {\"width\": 2, \"color\": \"rgb(0, 0, 0)\"}}}, {\"hoverinfo\": \"none\", \"textfont\": {\"color\": \"rgb(0, 0, 0)\"}, \"text\": [\"22\"], \"textposition\": \"middle center\", \"x\": [0.0], \"y\": [0.0], \"mode\": \"markers+text\", \"marker\": {\"size\": 25, \"color\": \"rgb(255, 255, 255)\", \"line\": {\"width\": 2, \"color\": \"rgb(0, 0, 0)\"}}}, {\"hoverinfo\": \"none\", \"textfont\": {\"color\": \"rgb(0, 0, 0)\"}, \"text\": [\"17\"], \"textposition\": \"middle center\", \"x\": [1.0], \"y\": [0.0], \"mode\": \"markers+text\", \"marker\": {\"size\": 25, \"color\": \"rgb(255, 255, 255)\", \"line\": {\"width\": 2, \"color\": \"rgb(0, 0, 0)\"}}}],\n",
       "            {\"margin\": {\"b\": 0, \"l\": 0, \"r\": 0, \"t\": 0}, \"width\": 450.0, \"height\": 436.0, \"sliders\": [{\"steps\": [{\"method\": \"animate\", \"args\": [[0], {\"mode\": \"immediate\", \"frame\": {\"redraw\": false}}], \"label\": \"\"}], \"currentvalue\": {\"visible\": false}}], \"showlegend\": false, \"xaxis\": {\"zeroline\": false, \"showticklabels\": false, \"showgrid\": false}, \"updatemenus\": [{\"buttons\": [{\"method\": \"animate\", \"args\": [null, {\"frame\": {\"redraw\": false}, \"fromcurrent\": true}], \"label\": \"Play\"}, {\"method\": \"animate\", \"args\": [[null], {\"mode\": \"immediate\", \"frame\": {\"redraw\": false}}], \"label\": \"Pause\"}], \"showactive\": true, \"type\": \"buttons\"}], \"yaxis\": {\"zeroline\": false, \"showticklabels\": false, \"showgrid\": false}},\n",
       "            {\"showLink\": false, \"linkText\": \"Export to plot.ly\", \"displayModeBar\": false}\n",
       "        ).then(function () {return Plotly.addFrames('02f399c2-4313-4257-b3b5-def55817562b',[{\"data\": [{\"hoverinfo\": \"none\", \"mode\": \"lines\", \"y\": [0.4, 1.0, null], \"x\": [0.5, 0.5, null], \"line\": {\"width\": 2, \"color\": \"rgb(0, 0, 0)\"}}, {\"hoverinfo\": \"none\", \"mode\": \"lines\", \"y\": [0.4, 0.0, null], \"x\": [0.5, 0.0, null], \"line\": {\"width\": 2, \"color\": \"rgb(0, 0, 0)\"}}, {\"hoverinfo\": \"none\", \"mode\": \"lines\", \"y\": [0.4, 0.0, null], \"x\": [0.5, 1.0, null], \"line\": {\"width\": 2, \"color\": \"rgb(0, 0, 0)\"}}, {\"hoverinfo\": \"none\", \"mode\": \"lines\", \"y\": [1.0, 0.0, null], \"x\": [0.5, 0.0, null], \"line\": {\"width\": 2, \"color\": \"rgb(192, 192, 192)\"}}, {\"hoverinfo\": \"none\", \"mode\": \"lines\", \"y\": [1.0, 0.0, null], \"x\": [0.5, 1.0, null], \"line\": {\"width\": 2, \"color\": \"rgb(192, 192, 192)\"}}, {\"hoverinfo\": \"none\", \"mode\": \"lines\", \"y\": [0.0, 0.0, null], \"x\": [0.0, 1.0, null], \"line\": {\"width\": 2, \"color\": \"rgb(192, 192, 192)\"}}, {\"hoverinfo\": \"none\", \"textfont\": {\"color\": \"rgb(0, 0, 0)\"}, \"text\": [\"3\"], \"textposition\": \"middle center\", \"x\": [0.5], \"y\": [0.4], \"mode\": \"markers+text\", \"marker\": {\"size\": 25, \"color\": \"rgb(255, 255, 255)\", \"line\": {\"width\": 2, \"color\": \"rgb(0, 0, 0)\"}}}, {\"hoverinfo\": \"none\", \"textfont\": {\"color\": \"rgb(0, 0, 0)\"}, \"text\": [\"8\"], \"textposition\": \"middle center\", \"x\": [0.5], \"y\": [1.0], \"mode\": \"markers+text\", \"marker\": {\"size\": 25, \"color\": \"rgb(255, 255, 255)\", \"line\": {\"width\": 2, \"color\": \"rgb(0, 0, 0)\"}}}, {\"hoverinfo\": \"none\", \"textfont\": {\"color\": \"rgb(0, 0, 0)\"}, \"text\": [\"22\"], \"textposition\": \"middle center\", \"x\": [0.0], \"y\": [0.0], \"mode\": \"markers+text\", \"marker\": {\"size\": 25, \"color\": \"rgb(255, 255, 255)\", \"line\": {\"width\": 2, \"color\": \"rgb(0, 0, 0)\"}}}, {\"hoverinfo\": \"none\", \"textfont\": {\"color\": \"rgb(0, 0, 0)\"}, \"text\": [\"17\"], \"textposition\": \"middle center\", \"x\": [1.0], \"y\": [0.0], \"mode\": \"markers+text\", \"marker\": {\"size\": 25, \"color\": \"rgb(255, 255, 255)\", \"line\": {\"width\": 2, \"color\": \"rgb(0, 0, 0)\"}}}], \"name\": 0}]);}).then(function(){Plotly.animate('02f399c2-4313-4257-b3b5-def55817562b');})\n",
       "        });</script>"
      ],
      "text/vnd.plotly.v1+html": [
       "<div id=\"02f399c2-4313-4257-b3b5-def55817562b\" style=\"height: 436.0px; width: 450.0px;\" class=\"plotly-graph-div\"></div><script type=\"text/javascript\">require([\"plotly\"], function(Plotly) { window.PLOTLYENV=window.PLOTLYENV || {};window.PLOTLYENV.BASE_URL=\"https://plot.ly\";\n",
       "        Plotly.plot(\n",
       "            '02f399c2-4313-4257-b3b5-def55817562b',\n",
       "            [{\"hoverinfo\": \"none\", \"mode\": \"lines\", \"y\": [0.4, 1.0, null], \"x\": [0.5, 0.5, null], \"line\": {\"width\": 2, \"color\": \"rgb(0, 0, 0)\"}}, {\"hoverinfo\": \"none\", \"mode\": \"lines\", \"y\": [0.4, 0.0, null], \"x\": [0.5, 0.0, null], \"line\": {\"width\": 2, \"color\": \"rgb(0, 0, 0)\"}}, {\"hoverinfo\": \"none\", \"mode\": \"lines\", \"y\": [0.4, 0.0, null], \"x\": [0.5, 1.0, null], \"line\": {\"width\": 2, \"color\": \"rgb(0, 0, 0)\"}}, {\"hoverinfo\": \"none\", \"mode\": \"lines\", \"y\": [1.0, 0.0, null], \"x\": [0.5, 0.0, null], \"line\": {\"width\": 2, \"color\": \"rgb(192, 192, 192)\"}}, {\"hoverinfo\": \"none\", \"mode\": \"lines\", \"y\": [1.0, 0.0, null], \"x\": [0.5, 1.0, null], \"line\": {\"width\": 2, \"color\": \"rgb(192, 192, 192)\"}}, {\"hoverinfo\": \"none\", \"mode\": \"lines\", \"y\": [0.0, 0.0, null], \"x\": [0.0, 1.0, null], \"line\": {\"width\": 2, \"color\": \"rgb(192, 192, 192)\"}}, {\"hoverinfo\": \"none\", \"textfont\": {\"color\": \"rgb(0, 0, 0)\"}, \"text\": [\"3\"], \"textposition\": \"middle center\", \"x\": [0.5], \"y\": [0.4], \"mode\": \"markers+text\", \"marker\": {\"size\": 25, \"color\": \"rgb(255, 255, 255)\", \"line\": {\"width\": 2, \"color\": \"rgb(0, 0, 0)\"}}}, {\"hoverinfo\": \"none\", \"textfont\": {\"color\": \"rgb(0, 0, 0)\"}, \"text\": [\"8\"], \"textposition\": \"middle center\", \"x\": [0.5], \"y\": [1.0], \"mode\": \"markers+text\", \"marker\": {\"size\": 25, \"color\": \"rgb(255, 255, 255)\", \"line\": {\"width\": 2, \"color\": \"rgb(0, 0, 0)\"}}}, {\"hoverinfo\": \"none\", \"textfont\": {\"color\": \"rgb(0, 0, 0)\"}, \"text\": [\"22\"], \"textposition\": \"middle center\", \"x\": [0.0], \"y\": [0.0], \"mode\": \"markers+text\", \"marker\": {\"size\": 25, \"color\": \"rgb(255, 255, 255)\", \"line\": {\"width\": 2, \"color\": \"rgb(0, 0, 0)\"}}}, {\"hoverinfo\": \"none\", \"textfont\": {\"color\": \"rgb(0, 0, 0)\"}, \"text\": [\"17\"], \"textposition\": \"middle center\", \"x\": [1.0], \"y\": [0.0], \"mode\": \"markers+text\", \"marker\": {\"size\": 25, \"color\": \"rgb(255, 255, 255)\", \"line\": {\"width\": 2, \"color\": \"rgb(0, 0, 0)\"}}}],\n",
       "            {\"margin\": {\"b\": 0, \"l\": 0, \"r\": 0, \"t\": 0}, \"width\": 450.0, \"height\": 436.0, \"sliders\": [{\"steps\": [{\"method\": \"animate\", \"args\": [[0], {\"mode\": \"immediate\", \"frame\": {\"redraw\": false}}], \"label\": \"\"}], \"currentvalue\": {\"visible\": false}}], \"showlegend\": false, \"xaxis\": {\"zeroline\": false, \"showticklabels\": false, \"showgrid\": false}, \"updatemenus\": [{\"buttons\": [{\"method\": \"animate\", \"args\": [null, {\"frame\": {\"redraw\": false}, \"fromcurrent\": true}], \"label\": \"Play\"}, {\"method\": \"animate\", \"args\": [[null], {\"mode\": \"immediate\", \"frame\": {\"redraw\": false}}], \"label\": \"Pause\"}], \"showactive\": true, \"type\": \"buttons\"}], \"yaxis\": {\"zeroline\": false, \"showticklabels\": false, \"showgrid\": false}},\n",
       "            {\"showLink\": false, \"linkText\": \"Export to plot.ly\", \"displayModeBar\": false}\n",
       "        ).then(function () {return Plotly.addFrames('02f399c2-4313-4257-b3b5-def55817562b',[{\"data\": [{\"hoverinfo\": \"none\", \"mode\": \"lines\", \"y\": [0.4, 1.0, null], \"x\": [0.5, 0.5, null], \"line\": {\"width\": 2, \"color\": \"rgb(0, 0, 0)\"}}, {\"hoverinfo\": \"none\", \"mode\": \"lines\", \"y\": [0.4, 0.0, null], \"x\": [0.5, 0.0, null], \"line\": {\"width\": 2, \"color\": \"rgb(0, 0, 0)\"}}, {\"hoverinfo\": \"none\", \"mode\": \"lines\", \"y\": [0.4, 0.0, null], \"x\": [0.5, 1.0, null], \"line\": {\"width\": 2, \"color\": \"rgb(0, 0, 0)\"}}, {\"hoverinfo\": \"none\", \"mode\": \"lines\", \"y\": [1.0, 0.0, null], \"x\": [0.5, 0.0, null], \"line\": {\"width\": 2, \"color\": \"rgb(192, 192, 192)\"}}, {\"hoverinfo\": \"none\", \"mode\": \"lines\", \"y\": [1.0, 0.0, null], \"x\": [0.5, 1.0, null], \"line\": {\"width\": 2, \"color\": \"rgb(192, 192, 192)\"}}, {\"hoverinfo\": \"none\", \"mode\": \"lines\", \"y\": [0.0, 0.0, null], \"x\": [0.0, 1.0, null], \"line\": {\"width\": 2, \"color\": \"rgb(192, 192, 192)\"}}, {\"hoverinfo\": \"none\", \"textfont\": {\"color\": \"rgb(0, 0, 0)\"}, \"text\": [\"3\"], \"textposition\": \"middle center\", \"x\": [0.5], \"y\": [0.4], \"mode\": \"markers+text\", \"marker\": {\"size\": 25, \"color\": \"rgb(255, 255, 255)\", \"line\": {\"width\": 2, \"color\": \"rgb(0, 0, 0)\"}}}, {\"hoverinfo\": \"none\", \"textfont\": {\"color\": \"rgb(0, 0, 0)\"}, \"text\": [\"8\"], \"textposition\": \"middle center\", \"x\": [0.5], \"y\": [1.0], \"mode\": \"markers+text\", \"marker\": {\"size\": 25, \"color\": \"rgb(255, 255, 255)\", \"line\": {\"width\": 2, \"color\": \"rgb(0, 0, 0)\"}}}, {\"hoverinfo\": \"none\", \"textfont\": {\"color\": \"rgb(0, 0, 0)\"}, \"text\": [\"22\"], \"textposition\": \"middle center\", \"x\": [0.0], \"y\": [0.0], \"mode\": \"markers+text\", \"marker\": {\"size\": 25, \"color\": \"rgb(255, 255, 255)\", \"line\": {\"width\": 2, \"color\": \"rgb(0, 0, 0)\"}}}, {\"hoverinfo\": \"none\", \"textfont\": {\"color\": \"rgb(0, 0, 0)\"}, \"text\": [\"17\"], \"textposition\": \"middle center\", \"x\": [1.0], \"y\": [0.0], \"mode\": \"markers+text\", \"marker\": {\"size\": 25, \"color\": \"rgb(255, 255, 255)\", \"line\": {\"width\": 2, \"color\": \"rgb(0, 0, 0)\"}}}], \"name\": 0}]);}).then(function(){Plotly.animate('02f399c2-4313-4257-b3b5-def55817562b');})\n",
       "        });</script>"
      ]
     },
     "metadata": {},
     "output_type": "display_data"
    }
   ],
   "source": [
    "from random import randint, choice\n",
    "\n",
    "TIMES = 1\n",
    "\n",
    "\n",
    "def offer(g, n, m):\n",
    "    if g.edge[n][m]['strong']:\n",
    "        return 24 - g.node[m]['demand']\n",
    "    return 8 - g.node[m]['demand']\n",
    "\n",
    "\n",
    "def snapshot(g, frames):\n",
    "    for n in g.nodes():\n",
    "        g.node[n]['label'] = str(g.node[n]['demand'])\n",
    "    frame = sn.generate_frame(g, nlab=True)\n",
    "    frames.append(frame)\n",
    "\n",
    "\n",
    "def simulate(g):\n",
    "    frames = []\n",
    "\n",
    "    for n in g.nodes():\n",
    "        g.node[n]['demand'] = randint(1, 23)\n",
    "\n",
    "    snapshot(g, frames)\n",
    "    x = 0\n",
    "    for _ in range(TIMES):\n",
    "        #Reset\n",
    "        for n in g.nodes():\n",
    "            g.node[n]['accept'] = None\n",
    "            g.node[n]['closed'] = False\n",
    "        for n,m in g.edges_iter():\n",
    "            g.edge[n][m]['closed'] = False\n",
    "        #\n",
    "        for n in g.nodes():\n",
    "            neighbors = g.neighbors(n)\n",
    "            while neighbors:\n",
    "                neighbor = choice(g.neighbors(n))\n",
    "                print(neighbors)\n",
    "                if offer(g, neighbor, n) <= g.node[n]['demand'] and neighbor in neighbors:\n",
    "                    neighbors.remove(neighbor)\n",
    "                else:\n",
    "                    g.node[n]['accept'] = neighbor\n",
    "                    break\n",
    "        for n,m in g.edges_iter():\n",
    "            if g.node[n]['accept'] == m and g.node[m]['accept'] == n:\n",
    "                g.edge[m][n]['closed'] = True\n",
    "                g.node[n]['closed'] = True\n",
    "                g.node[m]['closed'] = True\n",
    "            else:\n",
    "                g.edge[m][n]['closed'] = False\n",
    "        for n in g.nodes():\n",
    "            if g.node[n]['closed']:\n",
    "                g.node[n]['demand'] += 1\n",
    "            else:\n",
    "                g.node[n]['demand'] -= 1\n",
    "        if x == 100:\n",
    "            snapshot(g, frames)\n",
    "            x = 0\n",
    "        else:\n",
    "            x += 1\n",
    "\n",
    "\n",
    "            \n",
    "                \n",
    "    sn.show_animation(frames)\n",
    "\n",
    "\n",
    "simulate(g1)"
   ]
  },
  {
   "cell_type": "markdown",
   "metadata": {},
   "source": [
    "O vídeo `exemplo.mp4` no repositório ilustra como a simulação deve ser: as negociações são destacadas e as demandas são atualizadas."
   ]
  },
  {
   "cell_type": "markdown",
   "metadata": {},
   "source": [
    "## Avançado\n",
    "\n",
    "Na consolidação do módulo de centralidade, você pode atingir conceito avançado no objetivo **traduzir conceitos sociológicos para teoria dos grafos e algoritmos em grafos** se adicionar ao código da simulação um *cálculo de lucro acumulado*. Essa adição deve ser entregue na mesma data e deve incluir um comentário que explique *como você distribui o lucro no caso em que a soma das demandas é menor que o dinheiro disponível*.\n",
    "\n",
    "Entender esse enunciado sozinho faz parte da entrega."
   ]
  },
  {
   "cell_type": "code",
   "execution_count": null,
   "metadata": {
    "collapsed": true
   },
   "outputs": [],
   "source": []
  }
 ],
 "metadata": {
  "kernelspec": {
   "display_name": "Python 3",
   "language": "python",
   "name": "python3"
  },
  "language_info": {
   "codemirror_mode": {
    "name": "ipython",
    "version": 3
   },
   "file_extension": ".py",
   "mimetype": "text/x-python",
   "name": "python",
   "nbconvert_exporter": "python",
   "pygments_lexer": "ipython3",
   "version": "3.5.2"
  }
 },
 "nbformat": 4,
 "nbformat_minor": 1
}
