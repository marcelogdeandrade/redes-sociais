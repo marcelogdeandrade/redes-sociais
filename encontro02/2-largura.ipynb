{
 "cells": [
  {
   "cell_type": "markdown",
   "metadata": {},
   "source": [
    "# Encontro 02, Parte 2: Revisão de Busca em Largura\n",
    "\n",
    "Este guia foi escrito para ajudar você a atingir os seguintes objetivos:\n",
    "\n",
    "* implementar o algoritmo de busca em largura;\n",
    "* usar funcionalidades avançadas da biblioteca da disciplina.\n",
    "\n",
    "Primeiramente, vamos importar a biblioteca:"
   ]
  },
  {
   "cell_type": "code",
   "execution_count": 1,
   "metadata": {},
   "outputs": [
    {
     "data": {
      "text/html": [
       "<script>requirejs.config({paths: { 'plotly': ['https://cdn.plot.ly/plotly-latest.min']},});if(!window.Plotly) {{require(['plotly'],function(plotly) {window.Plotly=plotly;});}}</script>"
      ],
      "text/vnd.plotly.v1+html": [
       "<script>requirejs.config({paths: { 'plotly': ['https://cdn.plot.ly/plotly-latest.min']},});if(!window.Plotly) {{require(['plotly'],function(plotly) {window.Plotly=plotly;});}}</script>"
      ]
     },
     "metadata": {},
     "output_type": "display_data"
    }
   ],
   "source": [
    "import sys\n",
    "sys.path.append('..')\n",
    "\n",
    "import socnet as sn"
   ]
  },
  {
   "cell_type": "markdown",
   "metadata": {},
   "source": [
    "A seguir, vamos configurar as propriedades visuais:"
   ]
  },
  {
   "cell_type": "code",
   "execution_count": 2,
   "metadata": {
    "collapsed": true
   },
   "outputs": [],
   "source": [
    "sn.graph_width = 320\n",
    "sn.graph_height = 180"
   ]
  },
  {
   "cell_type": "markdown",
   "metadata": {},
   "source": [
    "Por fim, vamos carregar e visualizar um grafo:"
   ]
  },
  {
   "cell_type": "code",
   "execution_count": 3,
   "metadata": {},
   "outputs": [
    {
     "data": {
      "application/vnd.plotly.v1+json": {
       "data": [
        {
         "hoverinfo": "none",
         "line": {
          "color": "rgb(0, 0, 0)",
          "width": 2
         },
         "mode": "lines",
         "x": [
          0,
          0.3,
          null,
          0,
          0,
          null,
          0.3,
          0.3,
          null,
          0.7,
          1,
          null,
          0.7,
          0.3,
          null,
          0.7,
          0.7,
          null,
          1,
          0.7,
          null,
          1,
          1,
          null,
          0.3,
          0.7,
          null,
          0.7,
          1,
          null
         ],
         "y": [
          1,
          1,
          null,
          1,
          0,
          null,
          1,
          0,
          null,
          1,
          1,
          null,
          1,
          0,
          null,
          1,
          0,
          null,
          1,
          0,
          null,
          1,
          0,
          null,
          0,
          0,
          null,
          0,
          0,
          null
         ]
        },
        {
         "hoverinfo": "none",
         "marker": {
          "color": "rgb(255, 255, 255)",
          "line": {
           "color": "rgb(0, 0, 0)",
           "width": 2
          },
          "size": 20
         },
         "mode": "markers+text",
         "text": [],
         "textfont": {
          "color": "rgb(0, 0, 0)"
         },
         "textposition": "middle center",
         "x": [
          0,
          0.3,
          0.7,
          1,
          0,
          0.3,
          0.7,
          1
         ],
         "y": [
          1,
          1,
          1,
          1,
          0,
          0,
          0,
          0
         ]
        }
       ],
       "layout": {
        "height": 180,
        "margin": {
         "b": 0,
         "l": 0,
         "r": 0,
         "t": 0
        },
        "showlegend": false,
        "width": 320,
        "xaxis": {
         "showgrid": false,
         "showticklabels": false,
         "zeroline": false
        },
        "yaxis": {
         "showgrid": false,
         "showticklabels": false,
         "zeroline": false
        }
       }
      },
      "text/html": [
       "<div id=\"7bb0824a-1b88-4e05-9115-e836b09288ce\" style=\"height: 180px; width: 320px;\" class=\"plotly-graph-div\"></div><script type=\"text/javascript\">require([\"plotly\"], function(Plotly) { window.PLOTLYENV=window.PLOTLYENV || {};window.PLOTLYENV.BASE_URL=\"https://plot.ly\";Plotly.newPlot(\"7bb0824a-1b88-4e05-9115-e836b09288ce\", [{\"y\": [1.0, 1.0, null, 1.0, 0.0, null, 1.0, 0.0, null, 1.0, 1.0, null, 1.0, 0.0, null, 1.0, 0.0, null, 1.0, 0.0, null, 1.0, 0.0, null, 0.0, 0.0, null, 0.0, 0.0, null], \"mode\": \"lines\", \"x\": [0.0, 0.3, null, 0.0, 0.0, null, 0.3, 0.3, null, 0.7, 1.0, null, 0.7, 0.3, null, 0.7, 0.7, null, 1.0, 0.7, null, 1.0, 1.0, null, 0.3, 0.7, null, 0.7, 1.0, null], \"line\": {\"width\": 2, \"color\": \"rgb(0, 0, 0)\"}, \"hoverinfo\": \"none\"}, {\"y\": [1.0, 1.0, 1.0, 1.0, 0.0, 0.0, 0.0, 0.0], \"mode\": \"markers+text\", \"marker\": {\"line\": {\"width\": 2, \"color\": \"rgb(0, 0, 0)\"}, \"color\": \"rgb(255, 255, 255)\", \"size\": 20}, \"textposition\": \"middle center\", \"x\": [0.0, 0.3, 0.7, 1.0, 0.0, 0.3, 0.7, 1.0], \"hoverinfo\": \"none\", \"textfont\": {\"color\": \"rgb(0, 0, 0)\"}, \"text\": []}], {\"margin\": {\"b\": 0, \"t\": 0, \"r\": 0, \"l\": 0}, \"height\": 180, \"xaxis\": {\"showgrid\": false, \"zeroline\": false, \"showticklabels\": false}, \"showlegend\": false, \"yaxis\": {\"showgrid\": false, \"zeroline\": false, \"showticklabels\": false}, \"width\": 320}, {\"displayModeBar\": false, \"linkText\": \"Export to plot.ly\", \"showLink\": false})});</script>"
      ],
      "text/vnd.plotly.v1+html": [
       "<div id=\"7bb0824a-1b88-4e05-9115-e836b09288ce\" style=\"height: 180px; width: 320px;\" class=\"plotly-graph-div\"></div><script type=\"text/javascript\">require([\"plotly\"], function(Plotly) { window.PLOTLYENV=window.PLOTLYENV || {};window.PLOTLYENV.BASE_URL=\"https://plot.ly\";Plotly.newPlot(\"7bb0824a-1b88-4e05-9115-e836b09288ce\", [{\"y\": [1.0, 1.0, null, 1.0, 0.0, null, 1.0, 0.0, null, 1.0, 1.0, null, 1.0, 0.0, null, 1.0, 0.0, null, 1.0, 0.0, null, 1.0, 0.0, null, 0.0, 0.0, null, 0.0, 0.0, null], \"mode\": \"lines\", \"x\": [0.0, 0.3, null, 0.0, 0.0, null, 0.3, 0.3, null, 0.7, 1.0, null, 0.7, 0.3, null, 0.7, 0.7, null, 1.0, 0.7, null, 1.0, 1.0, null, 0.3, 0.7, null, 0.7, 1.0, null], \"line\": {\"width\": 2, \"color\": \"rgb(0, 0, 0)\"}, \"hoverinfo\": \"none\"}, {\"y\": [1.0, 1.0, 1.0, 1.0, 0.0, 0.0, 0.0, 0.0], \"mode\": \"markers+text\", \"marker\": {\"line\": {\"width\": 2, \"color\": \"rgb(0, 0, 0)\"}, \"color\": \"rgb(255, 255, 255)\", \"size\": 20}, \"textposition\": \"middle center\", \"x\": [0.0, 0.3, 0.7, 1.0, 0.0, 0.3, 0.7, 1.0], \"hoverinfo\": \"none\", \"textfont\": {\"color\": \"rgb(0, 0, 0)\"}, \"text\": []}], {\"margin\": {\"b\": 0, \"t\": 0, \"r\": 0, \"l\": 0}, \"height\": 180, \"xaxis\": {\"showgrid\": false, \"zeroline\": false, \"showticklabels\": false}, \"showlegend\": false, \"yaxis\": {\"showgrid\": false, \"zeroline\": false, \"showticklabels\": false}, \"width\": 320}, {\"displayModeBar\": false, \"linkText\": \"Export to plot.ly\", \"showLink\": false})});</script>"
      ]
     },
     "metadata": {},
     "output_type": "display_data"
    }
   ],
   "source": [
    "g = sn.load_graph('2-largura.gml', has_pos=True)\n",
    "\n",
    "sn.show_graph(g)"
   ]
  },
  {
   "cell_type": "markdown",
   "metadata": {},
   "source": [
    "## Caminhos de comprimento mínimo\n",
    "\n",
    "Seja $\\langle n_0, n_1, \\ldots, n_{k-1} \\rangle$ um caminho. Dizemos que:\n",
    "* $n_0$ é a **origem** desse caminho, ou seja, o nó no qual ele *começa*;\n",
    "* $n_{k-1}$ é o **destino** desse caminho, ou seja, o nó no qual ele *termina*;\n",
    "* $k-1$ é o **comprimento** desse caminho, ou seja, a *quantidade de arestas* pelas quais ele passa.\n",
    "\n",
    "Um caminho de origem $s$ e destino $t$ tem **comprimento mínimo** se não existe outro caminho de origem $s$ e destino $t$ de comprimento menor. Note que podem existir múltiplos caminhos de comprimento mínimo.\n",
    "\n",
    "A **distância** de $s$ a $t$ é o comprimento mínimo de um caminho de origem $s$ e destino $t$. Por completude, dizemos que a distância de $s$ a $t$ é $\\infty$ se não existe caminho de origem $s$ e destino $t$.\n",
    "\n",
    "## Algoritmo de busca em largura\n",
    "\n",
    "Dado um nó $s$, podemos eficientemente calcular as distâncias desse a todos os outros nós do grafo usando o **algoritmo de busca em largura**. A ideia desse algoritmo é simples: a partir dos nós de distância $0$, ou seja apenas o próprio $s$, podemos descobrir os nós de distância $1$, a partir dos nós de distância $1$ podemos descobrir os nós de distância $2$, e assim em diante.\n",
    "\n",
    "Podemos usar uma *fila* para garantir que os nós são visitados nessa ordem."
   ]
  },
  {
   "cell_type": "code",
   "execution_count": 4,
   "metadata": {},
   "outputs": [
    {
     "name": "stdout",
     "output_type": "stream",
     "text": [
      "distância de 0: 1\n",
      "distância de 1: 0\n",
      "distância de 2: 2\n",
      "distância de 3: 3\n",
      "distância de 4: 2\n",
      "distância de 5: 1\n",
      "distância de 6: 2\n",
      "distância de 7: 3\n"
     ]
    }
   ],
   "source": [
    "from math import inf, isinf\n",
    "from queue import Queue\n",
    "\n",
    "s = 1\n",
    "q = Queue()\n",
    "\n",
    "for n in g.nodes():\n",
    "    g.node[n]['d'] = inf\n",
    "\n",
    "g.node[s]['d'] = 0\n",
    "q.put(s)\n",
    "\n",
    "while not q.empty():\n",
    "    n = q.get()\n",
    "\n",
    "    for m in g.neighbors(n):\n",
    "        if isinf(g.node[m]['d']):\n",
    "            g.node[m]['d'] = g.node[n]['d'] + 1\n",
    "            q.put(m)\n",
    "\n",
    "for n in g.nodes():\n",
    "    print('distância de {}: {}'.format(n, g.node[n]['d']))"
   ]
  },
  {
   "cell_type": "markdown",
   "metadata": {},
   "source": [
    "## Visualizando algoritmos\n",
    "\n",
    "A função `generate_frame` é parecida com a função `show_graph` mas, em vez de mostrar uma imagem imediatamente, gera um *quadro* que pode ser usado para montar uma *animação*.\n",
    "\n",
    "Vamos então definir uma função de conveniência que cria atributos `label` a partir de distâncias e adiciona um quadro a uma lista."
   ]
  },
  {
   "cell_type": "code",
   "execution_count": 5,
   "metadata": {
    "collapsed": true
   },
   "outputs": [],
   "source": [
    "def snapshot(g, frames):\n",
    "    for n in g.nodes():\n",
    "        if isinf(g.node[n]['d']):\n",
    "            g.node[n]['label'] = '∞'\n",
    "        else:\n",
    "            g.node[n]['label'] = str(g.node[n]['d'])\n",
    "\n",
    "    frame = sn.generate_frame(g, nlab=True)\n",
    "\n",
    "    frames.append(frame)"
   ]
  },
  {
   "cell_type": "markdown",
   "metadata": {},
   "source": [
    "Vamos agora escrever uma versão alternativa da busca em largura."
   ]
  },
  {
   "cell_type": "code",
   "execution_count": 6,
   "metadata": {},
   "outputs": [
    {
     "data": {
      "application/vnd.plotly.v1+json": {
       "data": [
        {
         "hoverinfo": "none",
         "line": {
          "color": "rgb(0, 0, 0)",
          "width": 2
         },
         "mode": "lines",
         "x": [
          0,
          0.3,
          null
         ],
         "y": [
          1,
          1,
          null
         ]
        },
        {
         "hoverinfo": "none",
         "line": {
          "color": "rgb(0, 0, 0)",
          "width": 2
         },
         "mode": "lines",
         "x": [
          0,
          0,
          null
         ],
         "y": [
          1,
          0,
          null
         ]
        },
        {
         "hoverinfo": "none",
         "line": {
          "color": "rgb(0, 0, 0)",
          "width": 2
         },
         "mode": "lines",
         "x": [
          0.3,
          0.3,
          null
         ],
         "y": [
          1,
          0,
          null
         ]
        },
        {
         "hoverinfo": "none",
         "line": {
          "color": "rgb(0, 0, 0)",
          "width": 2
         },
         "mode": "lines",
         "x": [
          0.7,
          1,
          null
         ],
         "y": [
          1,
          1,
          null
         ]
        },
        {
         "hoverinfo": "none",
         "line": {
          "color": "rgb(0, 0, 0)",
          "width": 2
         },
         "mode": "lines",
         "x": [
          0.7,
          0.3,
          null
         ],
         "y": [
          1,
          0,
          null
         ]
        },
        {
         "hoverinfo": "none",
         "line": {
          "color": "rgb(0, 0, 0)",
          "width": 2
         },
         "mode": "lines",
         "x": [
          0.7,
          0.7,
          null
         ],
         "y": [
          1,
          0,
          null
         ]
        },
        {
         "hoverinfo": "none",
         "line": {
          "color": "rgb(0, 0, 0)",
          "width": 2
         },
         "mode": "lines",
         "x": [
          1,
          0.7,
          null
         ],
         "y": [
          1,
          0,
          null
         ]
        },
        {
         "hoverinfo": "none",
         "line": {
          "color": "rgb(0, 0, 0)",
          "width": 2
         },
         "mode": "lines",
         "x": [
          1,
          1,
          null
         ],
         "y": [
          1,
          0,
          null
         ]
        },
        {
         "hoverinfo": "none",
         "line": {
          "color": "rgb(0, 0, 0)",
          "width": 2
         },
         "mode": "lines",
         "x": [
          0.3,
          0.7,
          null
         ],
         "y": [
          0,
          0,
          null
         ]
        },
        {
         "hoverinfo": "none",
         "line": {
          "color": "rgb(0, 0, 0)",
          "width": 2
         },
         "mode": "lines",
         "x": [
          0.7,
          1,
          null
         ],
         "y": [
          0,
          0,
          null
         ]
        },
        {
         "hoverinfo": "none",
         "marker": {
          "color": "rgb(255, 255, 255)",
          "line": {
           "color": "rgb(0, 0, 0)",
           "width": 2
          },
          "size": 20
         },
         "mode": "markers+text",
         "text": [
          "∞"
         ],
         "textfont": {
          "color": "rgb(0, 0, 0)"
         },
         "textposition": "middle center",
         "x": [
          0
         ],
         "y": [
          1
         ]
        },
        {
         "hoverinfo": "none",
         "marker": {
          "color": "rgb(255, 255, 255)",
          "line": {
           "color": "rgb(0, 0, 0)",
           "width": 2
          },
          "size": 20
         },
         "mode": "markers+text",
         "text": [
          "0"
         ],
         "textfont": {
          "color": "rgb(0, 0, 0)"
         },
         "textposition": "middle center",
         "x": [
          0.3
         ],
         "y": [
          1
         ]
        },
        {
         "hoverinfo": "none",
         "marker": {
          "color": "rgb(255, 255, 255)",
          "line": {
           "color": "rgb(0, 0, 0)",
           "width": 2
          },
          "size": 20
         },
         "mode": "markers+text",
         "text": [
          "∞"
         ],
         "textfont": {
          "color": "rgb(0, 0, 0)"
         },
         "textposition": "middle center",
         "x": [
          0.7
         ],
         "y": [
          1
         ]
        },
        {
         "hoverinfo": "none",
         "marker": {
          "color": "rgb(255, 255, 255)",
          "line": {
           "color": "rgb(0, 0, 0)",
           "width": 2
          },
          "size": 20
         },
         "mode": "markers+text",
         "text": [
          "∞"
         ],
         "textfont": {
          "color": "rgb(0, 0, 0)"
         },
         "textposition": "middle center",
         "x": [
          1
         ],
         "y": [
          1
         ]
        },
        {
         "hoverinfo": "none",
         "marker": {
          "color": "rgb(255, 255, 255)",
          "line": {
           "color": "rgb(0, 0, 0)",
           "width": 2
          },
          "size": 20
         },
         "mode": "markers+text",
         "text": [
          "∞"
         ],
         "textfont": {
          "color": "rgb(0, 0, 0)"
         },
         "textposition": "middle center",
         "x": [
          0
         ],
         "y": [
          0
         ]
        },
        {
         "hoverinfo": "none",
         "marker": {
          "color": "rgb(255, 255, 255)",
          "line": {
           "color": "rgb(0, 0, 0)",
           "width": 2
          },
          "size": 20
         },
         "mode": "markers+text",
         "text": [
          "∞"
         ],
         "textfont": {
          "color": "rgb(0, 0, 0)"
         },
         "textposition": "middle center",
         "x": [
          0.3
         ],
         "y": [
          0
         ]
        },
        {
         "hoverinfo": "none",
         "marker": {
          "color": "rgb(255, 255, 255)",
          "line": {
           "color": "rgb(0, 0, 0)",
           "width": 2
          },
          "size": 20
         },
         "mode": "markers+text",
         "text": [
          "∞"
         ],
         "textfont": {
          "color": "rgb(0, 0, 0)"
         },
         "textposition": "middle center",
         "x": [
          0.7
         ],
         "y": [
          0
         ]
        },
        {
         "hoverinfo": "none",
         "marker": {
          "color": "rgb(255, 255, 255)",
          "line": {
           "color": "rgb(0, 0, 0)",
           "width": 2
          },
          "size": 20
         },
         "mode": "markers+text",
         "text": [
          "∞"
         ],
         "textfont": {
          "color": "rgb(0, 0, 0)"
         },
         "textposition": "middle center",
         "x": [
          1
         ],
         "y": [
          0
         ]
        }
       ],
       "frames": [
        {
         "data": [
          {
           "hoverinfo": "none",
           "line": {
            "color": "rgb(0, 0, 0)",
            "width": 2
           },
           "mode": "lines",
           "x": [
            0,
            0.3,
            null
           ],
           "y": [
            1,
            1,
            null
           ]
          },
          {
           "hoverinfo": "none",
           "line": {
            "color": "rgb(0, 0, 0)",
            "width": 2
           },
           "mode": "lines",
           "x": [
            0,
            0,
            null
           ],
           "y": [
            1,
            0,
            null
           ]
          },
          {
           "hoverinfo": "none",
           "line": {
            "color": "rgb(0, 0, 0)",
            "width": 2
           },
           "mode": "lines",
           "x": [
            0.3,
            0.3,
            null
           ],
           "y": [
            1,
            0,
            null
           ]
          },
          {
           "hoverinfo": "none",
           "line": {
            "color": "rgb(0, 0, 0)",
            "width": 2
           },
           "mode": "lines",
           "x": [
            0.7,
            1,
            null
           ],
           "y": [
            1,
            1,
            null
           ]
          },
          {
           "hoverinfo": "none",
           "line": {
            "color": "rgb(0, 0, 0)",
            "width": 2
           },
           "mode": "lines",
           "x": [
            0.7,
            0.3,
            null
           ],
           "y": [
            1,
            0,
            null
           ]
          },
          {
           "hoverinfo": "none",
           "line": {
            "color": "rgb(0, 0, 0)",
            "width": 2
           },
           "mode": "lines",
           "x": [
            0.7,
            0.7,
            null
           ],
           "y": [
            1,
            0,
            null
           ]
          },
          {
           "hoverinfo": "none",
           "line": {
            "color": "rgb(0, 0, 0)",
            "width": 2
           },
           "mode": "lines",
           "x": [
            1,
            0.7,
            null
           ],
           "y": [
            1,
            0,
            null
           ]
          },
          {
           "hoverinfo": "none",
           "line": {
            "color": "rgb(0, 0, 0)",
            "width": 2
           },
           "mode": "lines",
           "x": [
            1,
            1,
            null
           ],
           "y": [
            1,
            0,
            null
           ]
          },
          {
           "hoverinfo": "none",
           "line": {
            "color": "rgb(0, 0, 0)",
            "width": 2
           },
           "mode": "lines",
           "x": [
            0.3,
            0.7,
            null
           ],
           "y": [
            0,
            0,
            null
           ]
          },
          {
           "hoverinfo": "none",
           "line": {
            "color": "rgb(0, 0, 0)",
            "width": 2
           },
           "mode": "lines",
           "x": [
            0.7,
            1,
            null
           ],
           "y": [
            0,
            0,
            null
           ]
          },
          {
           "hoverinfo": "none",
           "marker": {
            "color": "rgb(255, 255, 255)",
            "line": {
             "color": "rgb(0, 0, 0)",
             "width": 2
            },
            "size": 20
           },
           "mode": "markers+text",
           "text": [
            "∞"
           ],
           "textfont": {
            "color": "rgb(0, 0, 0)"
           },
           "textposition": "middle center",
           "x": [
            0
           ],
           "y": [
            1
           ]
          },
          {
           "hoverinfo": "none",
           "marker": {
            "color": "rgb(255, 255, 255)",
            "line": {
             "color": "rgb(0, 0, 0)",
             "width": 2
            },
            "size": 20
           },
           "mode": "markers+text",
           "text": [
            "0"
           ],
           "textfont": {
            "color": "rgb(0, 0, 0)"
           },
           "textposition": "middle center",
           "x": [
            0.3
           ],
           "y": [
            1
           ]
          },
          {
           "hoverinfo": "none",
           "marker": {
            "color": "rgb(255, 255, 255)",
            "line": {
             "color": "rgb(0, 0, 0)",
             "width": 2
            },
            "size": 20
           },
           "mode": "markers+text",
           "text": [
            "∞"
           ],
           "textfont": {
            "color": "rgb(0, 0, 0)"
           },
           "textposition": "middle center",
           "x": [
            0.7
           ],
           "y": [
            1
           ]
          },
          {
           "hoverinfo": "none",
           "marker": {
            "color": "rgb(255, 255, 255)",
            "line": {
             "color": "rgb(0, 0, 0)",
             "width": 2
            },
            "size": 20
           },
           "mode": "markers+text",
           "text": [
            "∞"
           ],
           "textfont": {
            "color": "rgb(0, 0, 0)"
           },
           "textposition": "middle center",
           "x": [
            1
           ],
           "y": [
            1
           ]
          },
          {
           "hoverinfo": "none",
           "marker": {
            "color": "rgb(255, 255, 255)",
            "line": {
             "color": "rgb(0, 0, 0)",
             "width": 2
            },
            "size": 20
           },
           "mode": "markers+text",
           "text": [
            "∞"
           ],
           "textfont": {
            "color": "rgb(0, 0, 0)"
           },
           "textposition": "middle center",
           "x": [
            0
           ],
           "y": [
            0
           ]
          },
          {
           "hoverinfo": "none",
           "marker": {
            "color": "rgb(255, 255, 255)",
            "line": {
             "color": "rgb(0, 0, 0)",
             "width": 2
            },
            "size": 20
           },
           "mode": "markers+text",
           "text": [
            "∞"
           ],
           "textfont": {
            "color": "rgb(0, 0, 0)"
           },
           "textposition": "middle center",
           "x": [
            0.3
           ],
           "y": [
            0
           ]
          },
          {
           "hoverinfo": "none",
           "marker": {
            "color": "rgb(255, 255, 255)",
            "line": {
             "color": "rgb(0, 0, 0)",
             "width": 2
            },
            "size": 20
           },
           "mode": "markers+text",
           "text": [
            "∞"
           ],
           "textfont": {
            "color": "rgb(0, 0, 0)"
           },
           "textposition": "middle center",
           "x": [
            0.7
           ],
           "y": [
            0
           ]
          },
          {
           "hoverinfo": "none",
           "marker": {
            "color": "rgb(255, 255, 255)",
            "line": {
             "color": "rgb(0, 0, 0)",
             "width": 2
            },
            "size": 20
           },
           "mode": "markers+text",
           "text": [
            "∞"
           ],
           "textfont": {
            "color": "rgb(0, 0, 0)"
           },
           "textposition": "middle center",
           "x": [
            1
           ],
           "y": [
            0
           ]
          }
         ],
         "name": 0
        },
        {
         "data": [
          {
           "hoverinfo": "none",
           "line": {
            "color": "rgb(0, 0, 0)",
            "width": 2
           },
           "mode": "lines",
           "x": [
            0,
            0.3,
            null
           ],
           "y": [
            1,
            1,
            null
           ]
          },
          {
           "hoverinfo": "none",
           "line": {
            "color": "rgb(0, 0, 0)",
            "width": 2
           },
           "mode": "lines",
           "x": [
            0,
            0,
            null
           ],
           "y": [
            1,
            0,
            null
           ]
          },
          {
           "hoverinfo": "none",
           "line": {
            "color": "rgb(0, 0, 0)",
            "width": 2
           },
           "mode": "lines",
           "x": [
            0.3,
            0.3,
            null
           ],
           "y": [
            1,
            0,
            null
           ]
          },
          {
           "hoverinfo": "none",
           "line": {
            "color": "rgb(0, 0, 0)",
            "width": 2
           },
           "mode": "lines",
           "x": [
            0.7,
            1,
            null
           ],
           "y": [
            1,
            1,
            null
           ]
          },
          {
           "hoverinfo": "none",
           "line": {
            "color": "rgb(0, 0, 0)",
            "width": 2
           },
           "mode": "lines",
           "x": [
            0.7,
            0.3,
            null
           ],
           "y": [
            1,
            0,
            null
           ]
          },
          {
           "hoverinfo": "none",
           "line": {
            "color": "rgb(0, 0, 0)",
            "width": 2
           },
           "mode": "lines",
           "x": [
            0.7,
            0.7,
            null
           ],
           "y": [
            1,
            0,
            null
           ]
          },
          {
           "hoverinfo": "none",
           "line": {
            "color": "rgb(0, 0, 0)",
            "width": 2
           },
           "mode": "lines",
           "x": [
            1,
            0.7,
            null
           ],
           "y": [
            1,
            0,
            null
           ]
          },
          {
           "hoverinfo": "none",
           "line": {
            "color": "rgb(0, 0, 0)",
            "width": 2
           },
           "mode": "lines",
           "x": [
            1,
            1,
            null
           ],
           "y": [
            1,
            0,
            null
           ]
          },
          {
           "hoverinfo": "none",
           "line": {
            "color": "rgb(0, 0, 0)",
            "width": 2
           },
           "mode": "lines",
           "x": [
            0.3,
            0.7,
            null
           ],
           "y": [
            0,
            0,
            null
           ]
          },
          {
           "hoverinfo": "none",
           "line": {
            "color": "rgb(0, 0, 0)",
            "width": 2
           },
           "mode": "lines",
           "x": [
            0.7,
            1,
            null
           ],
           "y": [
            0,
            0,
            null
           ]
          },
          {
           "hoverinfo": "none",
           "marker": {
            "color": "rgb(255, 255, 255)",
            "line": {
             "color": "rgb(0, 0, 0)",
             "width": 2
            },
            "size": 20
           },
           "mode": "markers+text",
           "text": [
            "∞"
           ],
           "textfont": {
            "color": "rgb(0, 0, 0)"
           },
           "textposition": "middle center",
           "x": [
            0
           ],
           "y": [
            1
           ]
          },
          {
           "hoverinfo": "none",
           "marker": {
            "color": "rgb(255, 0, 0)",
            "line": {
             "color": "rgb(0, 0, 0)",
             "width": 2
            },
            "size": 20
           },
           "mode": "markers+text",
           "text": [
            "0"
           ],
           "textfont": {
            "color": "rgb(255, 255, 255)"
           },
           "textposition": "middle center",
           "x": [
            0.3
           ],
           "y": [
            1
           ]
          },
          {
           "hoverinfo": "none",
           "marker": {
            "color": "rgb(255, 255, 255)",
            "line": {
             "color": "rgb(0, 0, 0)",
             "width": 2
            },
            "size": 20
           },
           "mode": "markers+text",
           "text": [
            "∞"
           ],
           "textfont": {
            "color": "rgb(0, 0, 0)"
           },
           "textposition": "middle center",
           "x": [
            0.7
           ],
           "y": [
            1
           ]
          },
          {
           "hoverinfo": "none",
           "marker": {
            "color": "rgb(255, 255, 255)",
            "line": {
             "color": "rgb(0, 0, 0)",
             "width": 2
            },
            "size": 20
           },
           "mode": "markers+text",
           "text": [
            "∞"
           ],
           "textfont": {
            "color": "rgb(0, 0, 0)"
           },
           "textposition": "middle center",
           "x": [
            1
           ],
           "y": [
            1
           ]
          },
          {
           "hoverinfo": "none",
           "marker": {
            "color": "rgb(255, 255, 255)",
            "line": {
             "color": "rgb(0, 0, 0)",
             "width": 2
            },
            "size": 20
           },
           "mode": "markers+text",
           "text": [
            "∞"
           ],
           "textfont": {
            "color": "rgb(0, 0, 0)"
           },
           "textposition": "middle center",
           "x": [
            0
           ],
           "y": [
            0
           ]
          },
          {
           "hoverinfo": "none",
           "marker": {
            "color": "rgb(255, 255, 255)",
            "line": {
             "color": "rgb(0, 0, 0)",
             "width": 2
            },
            "size": 20
           },
           "mode": "markers+text",
           "text": [
            "∞"
           ],
           "textfont": {
            "color": "rgb(0, 0, 0)"
           },
           "textposition": "middle center",
           "x": [
            0.3
           ],
           "y": [
            0
           ]
          },
          {
           "hoverinfo": "none",
           "marker": {
            "color": "rgb(255, 255, 255)",
            "line": {
             "color": "rgb(0, 0, 0)",
             "width": 2
            },
            "size": 20
           },
           "mode": "markers+text",
           "text": [
            "∞"
           ],
           "textfont": {
            "color": "rgb(0, 0, 0)"
           },
           "textposition": "middle center",
           "x": [
            0.7
           ],
           "y": [
            0
           ]
          },
          {
           "hoverinfo": "none",
           "marker": {
            "color": "rgb(255, 255, 255)",
            "line": {
             "color": "rgb(0, 0, 0)",
             "width": 2
            },
            "size": 20
           },
           "mode": "markers+text",
           "text": [
            "∞"
           ],
           "textfont": {
            "color": "rgb(0, 0, 0)"
           },
           "textposition": "middle center",
           "x": [
            1
           ],
           "y": [
            0
           ]
          }
         ],
         "name": 1
        },
        {
         "data": [
          {
           "hoverinfo": "none",
           "line": {
            "color": "rgb(255, 0, 0)",
            "width": 2
           },
           "mode": "lines",
           "x": [
            0,
            0.3,
            null
           ],
           "y": [
            1,
            1,
            null
           ]
          },
          {
           "hoverinfo": "none",
           "line": {
            "color": "rgb(0, 0, 0)",
            "width": 2
           },
           "mode": "lines",
           "x": [
            0,
            0,
            null
           ],
           "y": [
            1,
            0,
            null
           ]
          },
          {
           "hoverinfo": "none",
           "line": {
            "color": "rgb(0, 0, 0)",
            "width": 2
           },
           "mode": "lines",
           "x": [
            0.3,
            0.3,
            null
           ],
           "y": [
            1,
            0,
            null
           ]
          },
          {
           "hoverinfo": "none",
           "line": {
            "color": "rgb(0, 0, 0)",
            "width": 2
           },
           "mode": "lines",
           "x": [
            0.7,
            1,
            null
           ],
           "y": [
            1,
            1,
            null
           ]
          },
          {
           "hoverinfo": "none",
           "line": {
            "color": "rgb(0, 0, 0)",
            "width": 2
           },
           "mode": "lines",
           "x": [
            0.7,
            0.3,
            null
           ],
           "y": [
            1,
            0,
            null
           ]
          },
          {
           "hoverinfo": "none",
           "line": {
            "color": "rgb(0, 0, 0)",
            "width": 2
           },
           "mode": "lines",
           "x": [
            0.7,
            0.7,
            null
           ],
           "y": [
            1,
            0,
            null
           ]
          },
          {
           "hoverinfo": "none",
           "line": {
            "color": "rgb(0, 0, 0)",
            "width": 2
           },
           "mode": "lines",
           "x": [
            1,
            0.7,
            null
           ],
           "y": [
            1,
            0,
            null
           ]
          },
          {
           "hoverinfo": "none",
           "line": {
            "color": "rgb(0, 0, 0)",
            "width": 2
           },
           "mode": "lines",
           "x": [
            1,
            1,
            null
           ],
           "y": [
            1,
            0,
            null
           ]
          },
          {
           "hoverinfo": "none",
           "line": {
            "color": "rgb(0, 0, 0)",
            "width": 2
           },
           "mode": "lines",
           "x": [
            0.3,
            0.7,
            null
           ],
           "y": [
            0,
            0,
            null
           ]
          },
          {
           "hoverinfo": "none",
           "line": {
            "color": "rgb(0, 0, 0)",
            "width": 2
           },
           "mode": "lines",
           "x": [
            0.7,
            1,
            null
           ],
           "y": [
            0,
            0,
            null
           ]
          },
          {
           "hoverinfo": "none",
           "marker": {
            "color": "rgb(255, 255, 255)",
            "line": {
             "color": "rgb(0, 0, 0)",
             "width": 2
            },
            "size": 20
           },
           "mode": "markers+text",
           "text": [
            "∞"
           ],
           "textfont": {
            "color": "rgb(0, 0, 0)"
           },
           "textposition": "middle center",
           "x": [
            0
           ],
           "y": [
            1
           ]
          },
          {
           "hoverinfo": "none",
           "marker": {
            "color": "rgb(255, 0, 0)",
            "line": {
             "color": "rgb(0, 0, 0)",
             "width": 2
            },
            "size": 20
           },
           "mode": "markers+text",
           "text": [
            "0"
           ],
           "textfont": {
            "color": "rgb(255, 255, 255)"
           },
           "textposition": "middle center",
           "x": [
            0.3
           ],
           "y": [
            1
           ]
          },
          {
           "hoverinfo": "none",
           "marker": {
            "color": "rgb(255, 255, 255)",
            "line": {
             "color": "rgb(0, 0, 0)",
             "width": 2
            },
            "size": 20
           },
           "mode": "markers+text",
           "text": [
            "∞"
           ],
           "textfont": {
            "color": "rgb(0, 0, 0)"
           },
           "textposition": "middle center",
           "x": [
            0.7
           ],
           "y": [
            1
           ]
          },
          {
           "hoverinfo": "none",
           "marker": {
            "color": "rgb(255, 255, 255)",
            "line": {
             "color": "rgb(0, 0, 0)",
             "width": 2
            },
            "size": 20
           },
           "mode": "markers+text",
           "text": [
            "∞"
           ],
           "textfont": {
            "color": "rgb(0, 0, 0)"
           },
           "textposition": "middle center",
           "x": [
            1
           ],
           "y": [
            1
           ]
          },
          {
           "hoverinfo": "none",
           "marker": {
            "color": "rgb(255, 255, 255)",
            "line": {
             "color": "rgb(0, 0, 0)",
             "width": 2
            },
            "size": 20
           },
           "mode": "markers+text",
           "text": [
            "∞"
           ],
           "textfont": {
            "color": "rgb(0, 0, 0)"
           },
           "textposition": "middle center",
           "x": [
            0
           ],
           "y": [
            0
           ]
          },
          {
           "hoverinfo": "none",
           "marker": {
            "color": "rgb(255, 255, 255)",
            "line": {
             "color": "rgb(0, 0, 0)",
             "width": 2
            },
            "size": 20
           },
           "mode": "markers+text",
           "text": [
            "∞"
           ],
           "textfont": {
            "color": "rgb(0, 0, 0)"
           },
           "textposition": "middle center",
           "x": [
            0.3
           ],
           "y": [
            0
           ]
          },
          {
           "hoverinfo": "none",
           "marker": {
            "color": "rgb(255, 255, 255)",
            "line": {
             "color": "rgb(0, 0, 0)",
             "width": 2
            },
            "size": 20
           },
           "mode": "markers+text",
           "text": [
            "∞"
           ],
           "textfont": {
            "color": "rgb(0, 0, 0)"
           },
           "textposition": "middle center",
           "x": [
            0.7
           ],
           "y": [
            0
           ]
          },
          {
           "hoverinfo": "none",
           "marker": {
            "color": "rgb(255, 255, 255)",
            "line": {
             "color": "rgb(0, 0, 0)",
             "width": 2
            },
            "size": 20
           },
           "mode": "markers+text",
           "text": [
            "∞"
           ],
           "textfont": {
            "color": "rgb(0, 0, 0)"
           },
           "textposition": "middle center",
           "x": [
            1
           ],
           "y": [
            0
           ]
          }
         ],
         "name": 2
        },
        {
         "data": [
          {
           "hoverinfo": "none",
           "line": {
            "color": "rgb(0, 0, 0)",
            "width": 2
           },
           "mode": "lines",
           "x": [
            0,
            0.3,
            null
           ],
           "y": [
            1,
            1,
            null
           ]
          },
          {
           "hoverinfo": "none",
           "line": {
            "color": "rgb(0, 0, 0)",
            "width": 2
           },
           "mode": "lines",
           "x": [
            0,
            0,
            null
           ],
           "y": [
            1,
            0,
            null
           ]
          },
          {
           "hoverinfo": "none",
           "line": {
            "color": "rgb(0, 0, 0)",
            "width": 2
           },
           "mode": "lines",
           "x": [
            0.3,
            0.3,
            null
           ],
           "y": [
            1,
            0,
            null
           ]
          },
          {
           "hoverinfo": "none",
           "line": {
            "color": "rgb(0, 0, 0)",
            "width": 2
           },
           "mode": "lines",
           "x": [
            0.7,
            1,
            null
           ],
           "y": [
            1,
            1,
            null
           ]
          },
          {
           "hoverinfo": "none",
           "line": {
            "color": "rgb(0, 0, 0)",
            "width": 2
           },
           "mode": "lines",
           "x": [
            0.7,
            0.3,
            null
           ],
           "y": [
            1,
            0,
            null
           ]
          },
          {
           "hoverinfo": "none",
           "line": {
            "color": "rgb(0, 0, 0)",
            "width": 2
           },
           "mode": "lines",
           "x": [
            0.7,
            0.7,
            null
           ],
           "y": [
            1,
            0,
            null
           ]
          },
          {
           "hoverinfo": "none",
           "line": {
            "color": "rgb(0, 0, 0)",
            "width": 2
           },
           "mode": "lines",
           "x": [
            1,
            0.7,
            null
           ],
           "y": [
            1,
            0,
            null
           ]
          },
          {
           "hoverinfo": "none",
           "line": {
            "color": "rgb(0, 0, 0)",
            "width": 2
           },
           "mode": "lines",
           "x": [
            1,
            1,
            null
           ],
           "y": [
            1,
            0,
            null
           ]
          },
          {
           "hoverinfo": "none",
           "line": {
            "color": "rgb(0, 0, 0)",
            "width": 2
           },
           "mode": "lines",
           "x": [
            0.3,
            0.7,
            null
           ],
           "y": [
            0,
            0,
            null
           ]
          },
          {
           "hoverinfo": "none",
           "line": {
            "color": "rgb(0, 0, 0)",
            "width": 2
           },
           "mode": "lines",
           "x": [
            0.7,
            1,
            null
           ],
           "y": [
            0,
            0,
            null
           ]
          },
          {
           "hoverinfo": "none",
           "marker": {
            "color": "rgb(255, 255, 255)",
            "line": {
             "color": "rgb(0, 0, 0)",
             "width": 2
            },
            "size": 20
           },
           "mode": "markers+text",
           "text": [
            "1"
           ],
           "textfont": {
            "color": "rgb(0, 0, 0)"
           },
           "textposition": "middle center",
           "x": [
            0
           ],
           "y": [
            1
           ]
          },
          {
           "hoverinfo": "none",
           "marker": {
            "color": "rgb(255, 0, 0)",
            "line": {
             "color": "rgb(0, 0, 0)",
             "width": 2
            },
            "size": 20
           },
           "mode": "markers+text",
           "text": [
            "0"
           ],
           "textfont": {
            "color": "rgb(255, 255, 255)"
           },
           "textposition": "middle center",
           "x": [
            0.3
           ],
           "y": [
            1
           ]
          },
          {
           "hoverinfo": "none",
           "marker": {
            "color": "rgb(255, 255, 255)",
            "line": {
             "color": "rgb(0, 0, 0)",
             "width": 2
            },
            "size": 20
           },
           "mode": "markers+text",
           "text": [
            "∞"
           ],
           "textfont": {
            "color": "rgb(0, 0, 0)"
           },
           "textposition": "middle center",
           "x": [
            0.7
           ],
           "y": [
            1
           ]
          },
          {
           "hoverinfo": "none",
           "marker": {
            "color": "rgb(255, 255, 255)",
            "line": {
             "color": "rgb(0, 0, 0)",
             "width": 2
            },
            "size": 20
           },
           "mode": "markers+text",
           "text": [
            "∞"
           ],
           "textfont": {
            "color": "rgb(0, 0, 0)"
           },
           "textposition": "middle center",
           "x": [
            1
           ],
           "y": [
            1
           ]
          },
          {
           "hoverinfo": "none",
           "marker": {
            "color": "rgb(255, 255, 255)",
            "line": {
             "color": "rgb(0, 0, 0)",
             "width": 2
            },
            "size": 20
           },
           "mode": "markers+text",
           "text": [
            "∞"
           ],
           "textfont": {
            "color": "rgb(0, 0, 0)"
           },
           "textposition": "middle center",
           "x": [
            0
           ],
           "y": [
            0
           ]
          },
          {
           "hoverinfo": "none",
           "marker": {
            "color": "rgb(255, 255, 255)",
            "line": {
             "color": "rgb(0, 0, 0)",
             "width": 2
            },
            "size": 20
           },
           "mode": "markers+text",
           "text": [
            "∞"
           ],
           "textfont": {
            "color": "rgb(0, 0, 0)"
           },
           "textposition": "middle center",
           "x": [
            0.3
           ],
           "y": [
            0
           ]
          },
          {
           "hoverinfo": "none",
           "marker": {
            "color": "rgb(255, 255, 255)",
            "line": {
             "color": "rgb(0, 0, 0)",
             "width": 2
            },
            "size": 20
           },
           "mode": "markers+text",
           "text": [
            "∞"
           ],
           "textfont": {
            "color": "rgb(0, 0, 0)"
           },
           "textposition": "middle center",
           "x": [
            0.7
           ],
           "y": [
            0
           ]
          },
          {
           "hoverinfo": "none",
           "marker": {
            "color": "rgb(255, 255, 255)",
            "line": {
             "color": "rgb(0, 0, 0)",
             "width": 2
            },
            "size": 20
           },
           "mode": "markers+text",
           "text": [
            "∞"
           ],
           "textfont": {
            "color": "rgb(0, 0, 0)"
           },
           "textposition": "middle center",
           "x": [
            1
           ],
           "y": [
            0
           ]
          }
         ],
         "name": 3
        },
        {
         "data": [
          {
           "hoverinfo": "none",
           "line": {
            "color": "rgb(0, 0, 0)",
            "width": 2
           },
           "mode": "lines",
           "x": [
            0,
            0.3,
            null
           ],
           "y": [
            1,
            1,
            null
           ]
          },
          {
           "hoverinfo": "none",
           "line": {
            "color": "rgb(0, 0, 0)",
            "width": 2
           },
           "mode": "lines",
           "x": [
            0,
            0,
            null
           ],
           "y": [
            1,
            0,
            null
           ]
          },
          {
           "hoverinfo": "none",
           "line": {
            "color": "rgb(255, 0, 0)",
            "width": 2
           },
           "mode": "lines",
           "x": [
            0.3,
            0.3,
            null
           ],
           "y": [
            1,
            0,
            null
           ]
          },
          {
           "hoverinfo": "none",
           "line": {
            "color": "rgb(0, 0, 0)",
            "width": 2
           },
           "mode": "lines",
           "x": [
            0.7,
            1,
            null
           ],
           "y": [
            1,
            1,
            null
           ]
          },
          {
           "hoverinfo": "none",
           "line": {
            "color": "rgb(0, 0, 0)",
            "width": 2
           },
           "mode": "lines",
           "x": [
            0.7,
            0.3,
            null
           ],
           "y": [
            1,
            0,
            null
           ]
          },
          {
           "hoverinfo": "none",
           "line": {
            "color": "rgb(0, 0, 0)",
            "width": 2
           },
           "mode": "lines",
           "x": [
            0.7,
            0.7,
            null
           ],
           "y": [
            1,
            0,
            null
           ]
          },
          {
           "hoverinfo": "none",
           "line": {
            "color": "rgb(0, 0, 0)",
            "width": 2
           },
           "mode": "lines",
           "x": [
            1,
            0.7,
            null
           ],
           "y": [
            1,
            0,
            null
           ]
          },
          {
           "hoverinfo": "none",
           "line": {
            "color": "rgb(0, 0, 0)",
            "width": 2
           },
           "mode": "lines",
           "x": [
            1,
            1,
            null
           ],
           "y": [
            1,
            0,
            null
           ]
          },
          {
           "hoverinfo": "none",
           "line": {
            "color": "rgb(0, 0, 0)",
            "width": 2
           },
           "mode": "lines",
           "x": [
            0.3,
            0.7,
            null
           ],
           "y": [
            0,
            0,
            null
           ]
          },
          {
           "hoverinfo": "none",
           "line": {
            "color": "rgb(0, 0, 0)",
            "width": 2
           },
           "mode": "lines",
           "x": [
            0.7,
            1,
            null
           ],
           "y": [
            0,
            0,
            null
           ]
          },
          {
           "hoverinfo": "none",
           "marker": {
            "color": "rgb(255, 255, 255)",
            "line": {
             "color": "rgb(0, 0, 0)",
             "width": 2
            },
            "size": 20
           },
           "mode": "markers+text",
           "text": [
            "1"
           ],
           "textfont": {
            "color": "rgb(0, 0, 0)"
           },
           "textposition": "middle center",
           "x": [
            0
           ],
           "y": [
            1
           ]
          },
          {
           "hoverinfo": "none",
           "marker": {
            "color": "rgb(255, 0, 0)",
            "line": {
             "color": "rgb(0, 0, 0)",
             "width": 2
            },
            "size": 20
           },
           "mode": "markers+text",
           "text": [
            "0"
           ],
           "textfont": {
            "color": "rgb(255, 255, 255)"
           },
           "textposition": "middle center",
           "x": [
            0.3
           ],
           "y": [
            1
           ]
          },
          {
           "hoverinfo": "none",
           "marker": {
            "color": "rgb(255, 255, 255)",
            "line": {
             "color": "rgb(0, 0, 0)",
             "width": 2
            },
            "size": 20
           },
           "mode": "markers+text",
           "text": [
            "∞"
           ],
           "textfont": {
            "color": "rgb(0, 0, 0)"
           },
           "textposition": "middle center",
           "x": [
            0.7
           ],
           "y": [
            1
           ]
          },
          {
           "hoverinfo": "none",
           "marker": {
            "color": "rgb(255, 255, 255)",
            "line": {
             "color": "rgb(0, 0, 0)",
             "width": 2
            },
            "size": 20
           },
           "mode": "markers+text",
           "text": [
            "∞"
           ],
           "textfont": {
            "color": "rgb(0, 0, 0)"
           },
           "textposition": "middle center",
           "x": [
            1
           ],
           "y": [
            1
           ]
          },
          {
           "hoverinfo": "none",
           "marker": {
            "color": "rgb(255, 255, 255)",
            "line": {
             "color": "rgb(0, 0, 0)",
             "width": 2
            },
            "size": 20
           },
           "mode": "markers+text",
           "text": [
            "∞"
           ],
           "textfont": {
            "color": "rgb(0, 0, 0)"
           },
           "textposition": "middle center",
           "x": [
            0
           ],
           "y": [
            0
           ]
          },
          {
           "hoverinfo": "none",
           "marker": {
            "color": "rgb(255, 255, 255)",
            "line": {
             "color": "rgb(0, 0, 0)",
             "width": 2
            },
            "size": 20
           },
           "mode": "markers+text",
           "text": [
            "∞"
           ],
           "textfont": {
            "color": "rgb(0, 0, 0)"
           },
           "textposition": "middle center",
           "x": [
            0.3
           ],
           "y": [
            0
           ]
          },
          {
           "hoverinfo": "none",
           "marker": {
            "color": "rgb(255, 255, 255)",
            "line": {
             "color": "rgb(0, 0, 0)",
             "width": 2
            },
            "size": 20
           },
           "mode": "markers+text",
           "text": [
            "∞"
           ],
           "textfont": {
            "color": "rgb(0, 0, 0)"
           },
           "textposition": "middle center",
           "x": [
            0.7
           ],
           "y": [
            0
           ]
          },
          {
           "hoverinfo": "none",
           "marker": {
            "color": "rgb(255, 255, 255)",
            "line": {
             "color": "rgb(0, 0, 0)",
             "width": 2
            },
            "size": 20
           },
           "mode": "markers+text",
           "text": [
            "∞"
           ],
           "textfont": {
            "color": "rgb(0, 0, 0)"
           },
           "textposition": "middle center",
           "x": [
            1
           ],
           "y": [
            0
           ]
          }
         ],
         "name": 4
        },
        {
         "data": [
          {
           "hoverinfo": "none",
           "line": {
            "color": "rgb(0, 0, 0)",
            "width": 2
           },
           "mode": "lines",
           "x": [
            0,
            0.3,
            null
           ],
           "y": [
            1,
            1,
            null
           ]
          },
          {
           "hoverinfo": "none",
           "line": {
            "color": "rgb(0, 0, 0)",
            "width": 2
           },
           "mode": "lines",
           "x": [
            0,
            0,
            null
           ],
           "y": [
            1,
            0,
            null
           ]
          },
          {
           "hoverinfo": "none",
           "line": {
            "color": "rgb(0, 0, 0)",
            "width": 2
           },
           "mode": "lines",
           "x": [
            0.3,
            0.3,
            null
           ],
           "y": [
            1,
            0,
            null
           ]
          },
          {
           "hoverinfo": "none",
           "line": {
            "color": "rgb(0, 0, 0)",
            "width": 2
           },
           "mode": "lines",
           "x": [
            0.7,
            1,
            null
           ],
           "y": [
            1,
            1,
            null
           ]
          },
          {
           "hoverinfo": "none",
           "line": {
            "color": "rgb(0, 0, 0)",
            "width": 2
           },
           "mode": "lines",
           "x": [
            0.7,
            0.3,
            null
           ],
           "y": [
            1,
            0,
            null
           ]
          },
          {
           "hoverinfo": "none",
           "line": {
            "color": "rgb(0, 0, 0)",
            "width": 2
           },
           "mode": "lines",
           "x": [
            0.7,
            0.7,
            null
           ],
           "y": [
            1,
            0,
            null
           ]
          },
          {
           "hoverinfo": "none",
           "line": {
            "color": "rgb(0, 0, 0)",
            "width": 2
           },
           "mode": "lines",
           "x": [
            1,
            0.7,
            null
           ],
           "y": [
            1,
            0,
            null
           ]
          },
          {
           "hoverinfo": "none",
           "line": {
            "color": "rgb(0, 0, 0)",
            "width": 2
           },
           "mode": "lines",
           "x": [
            1,
            1,
            null
           ],
           "y": [
            1,
            0,
            null
           ]
          },
          {
           "hoverinfo": "none",
           "line": {
            "color": "rgb(0, 0, 0)",
            "width": 2
           },
           "mode": "lines",
           "x": [
            0.3,
            0.7,
            null
           ],
           "y": [
            0,
            0,
            null
           ]
          },
          {
           "hoverinfo": "none",
           "line": {
            "color": "rgb(0, 0, 0)",
            "width": 2
           },
           "mode": "lines",
           "x": [
            0.7,
            1,
            null
           ],
           "y": [
            0,
            0,
            null
           ]
          },
          {
           "hoverinfo": "none",
           "marker": {
            "color": "rgb(255, 255, 255)",
            "line": {
             "color": "rgb(0, 0, 0)",
             "width": 2
            },
            "size": 20
           },
           "mode": "markers+text",
           "text": [
            "1"
           ],
           "textfont": {
            "color": "rgb(0, 0, 0)"
           },
           "textposition": "middle center",
           "x": [
            0
           ],
           "y": [
            1
           ]
          },
          {
           "hoverinfo": "none",
           "marker": {
            "color": "rgb(255, 0, 0)",
            "line": {
             "color": "rgb(0, 0, 0)",
             "width": 2
            },
            "size": 20
           },
           "mode": "markers+text",
           "text": [
            "0"
           ],
           "textfont": {
            "color": "rgb(255, 255, 255)"
           },
           "textposition": "middle center",
           "x": [
            0.3
           ],
           "y": [
            1
           ]
          },
          {
           "hoverinfo": "none",
           "marker": {
            "color": "rgb(255, 255, 255)",
            "line": {
             "color": "rgb(0, 0, 0)",
             "width": 2
            },
            "size": 20
           },
           "mode": "markers+text",
           "text": [
            "∞"
           ],
           "textfont": {
            "color": "rgb(0, 0, 0)"
           },
           "textposition": "middle center",
           "x": [
            0.7
           ],
           "y": [
            1
           ]
          },
          {
           "hoverinfo": "none",
           "marker": {
            "color": "rgb(255, 255, 255)",
            "line": {
             "color": "rgb(0, 0, 0)",
             "width": 2
            },
            "size": 20
           },
           "mode": "markers+text",
           "text": [
            "∞"
           ],
           "textfont": {
            "color": "rgb(0, 0, 0)"
           },
           "textposition": "middle center",
           "x": [
            1
           ],
           "y": [
            1
           ]
          },
          {
           "hoverinfo": "none",
           "marker": {
            "color": "rgb(255, 255, 255)",
            "line": {
             "color": "rgb(0, 0, 0)",
             "width": 2
            },
            "size": 20
           },
           "mode": "markers+text",
           "text": [
            "∞"
           ],
           "textfont": {
            "color": "rgb(0, 0, 0)"
           },
           "textposition": "middle center",
           "x": [
            0
           ],
           "y": [
            0
           ]
          },
          {
           "hoverinfo": "none",
           "marker": {
            "color": "rgb(255, 255, 255)",
            "line": {
             "color": "rgb(0, 0, 0)",
             "width": 2
            },
            "size": 20
           },
           "mode": "markers+text",
           "text": [
            "1"
           ],
           "textfont": {
            "color": "rgb(0, 0, 0)"
           },
           "textposition": "middle center",
           "x": [
            0.3
           ],
           "y": [
            0
           ]
          },
          {
           "hoverinfo": "none",
           "marker": {
            "color": "rgb(255, 255, 255)",
            "line": {
             "color": "rgb(0, 0, 0)",
             "width": 2
            },
            "size": 20
           },
           "mode": "markers+text",
           "text": [
            "∞"
           ],
           "textfont": {
            "color": "rgb(0, 0, 0)"
           },
           "textposition": "middle center",
           "x": [
            0.7
           ],
           "y": [
            0
           ]
          },
          {
           "hoverinfo": "none",
           "marker": {
            "color": "rgb(255, 255, 255)",
            "line": {
             "color": "rgb(0, 0, 0)",
             "width": 2
            },
            "size": 20
           },
           "mode": "markers+text",
           "text": [
            "∞"
           ],
           "textfont": {
            "color": "rgb(0, 0, 0)"
           },
           "textposition": "middle center",
           "x": [
            1
           ],
           "y": [
            0
           ]
          }
         ],
         "name": 5
        },
        {
         "data": [
          {
           "hoverinfo": "none",
           "line": {
            "color": "rgb(0, 0, 0)",
            "width": 2
           },
           "mode": "lines",
           "x": [
            0,
            0.3,
            null
           ],
           "y": [
            1,
            1,
            null
           ]
          },
          {
           "hoverinfo": "none",
           "line": {
            "color": "rgb(0, 0, 0)",
            "width": 2
           },
           "mode": "lines",
           "x": [
            0,
            0,
            null
           ],
           "y": [
            1,
            0,
            null
           ]
          },
          {
           "hoverinfo": "none",
           "line": {
            "color": "rgb(0, 0, 0)",
            "width": 2
           },
           "mode": "lines",
           "x": [
            0.3,
            0.3,
            null
           ],
           "y": [
            1,
            0,
            null
           ]
          },
          {
           "hoverinfo": "none",
           "line": {
            "color": "rgb(0, 0, 0)",
            "width": 2
           },
           "mode": "lines",
           "x": [
            0.7,
            1,
            null
           ],
           "y": [
            1,
            1,
            null
           ]
          },
          {
           "hoverinfo": "none",
           "line": {
            "color": "rgb(0, 0, 0)",
            "width": 2
           },
           "mode": "lines",
           "x": [
            0.7,
            0.3,
            null
           ],
           "y": [
            1,
            0,
            null
           ]
          },
          {
           "hoverinfo": "none",
           "line": {
            "color": "rgb(0, 0, 0)",
            "width": 2
           },
           "mode": "lines",
           "x": [
            0.7,
            0.7,
            null
           ],
           "y": [
            1,
            0,
            null
           ]
          },
          {
           "hoverinfo": "none",
           "line": {
            "color": "rgb(0, 0, 0)",
            "width": 2
           },
           "mode": "lines",
           "x": [
            1,
            0.7,
            null
           ],
           "y": [
            1,
            0,
            null
           ]
          },
          {
           "hoverinfo": "none",
           "line": {
            "color": "rgb(0, 0, 0)",
            "width": 2
           },
           "mode": "lines",
           "x": [
            1,
            1,
            null
           ],
           "y": [
            1,
            0,
            null
           ]
          },
          {
           "hoverinfo": "none",
           "line": {
            "color": "rgb(0, 0, 0)",
            "width": 2
           },
           "mode": "lines",
           "x": [
            0.3,
            0.7,
            null
           ],
           "y": [
            0,
            0,
            null
           ]
          },
          {
           "hoverinfo": "none",
           "line": {
            "color": "rgb(0, 0, 0)",
            "width": 2
           },
           "mode": "lines",
           "x": [
            0.7,
            1,
            null
           ],
           "y": [
            0,
            0,
            null
           ]
          },
          {
           "hoverinfo": "none",
           "marker": {
            "color": "rgb(255, 255, 255)",
            "line": {
             "color": "rgb(0, 0, 0)",
             "width": 2
            },
            "size": 20
           },
           "mode": "markers+text",
           "text": [
            "1"
           ],
           "textfont": {
            "color": "rgb(0, 0, 0)"
           },
           "textposition": "middle center",
           "x": [
            0
           ],
           "y": [
            1
           ]
          },
          {
           "hoverinfo": "none",
           "marker": {
            "color": "rgb(0, 0, 255)",
            "line": {
             "color": "rgb(0, 0, 0)",
             "width": 2
            },
            "size": 20
           },
           "mode": "markers+text",
           "text": [
            "0"
           ],
           "textfont": {
            "color": "rgb(255, 255, 255)"
           },
           "textposition": "middle center",
           "x": [
            0.3
           ],
           "y": [
            1
           ]
          },
          {
           "hoverinfo": "none",
           "marker": {
            "color": "rgb(255, 255, 255)",
            "line": {
             "color": "rgb(0, 0, 0)",
             "width": 2
            },
            "size": 20
           },
           "mode": "markers+text",
           "text": [
            "∞"
           ],
           "textfont": {
            "color": "rgb(0, 0, 0)"
           },
           "textposition": "middle center",
           "x": [
            0.7
           ],
           "y": [
            1
           ]
          },
          {
           "hoverinfo": "none",
           "marker": {
            "color": "rgb(255, 255, 255)",
            "line": {
             "color": "rgb(0, 0, 0)",
             "width": 2
            },
            "size": 20
           },
           "mode": "markers+text",
           "text": [
            "∞"
           ],
           "textfont": {
            "color": "rgb(0, 0, 0)"
           },
           "textposition": "middle center",
           "x": [
            1
           ],
           "y": [
            1
           ]
          },
          {
           "hoverinfo": "none",
           "marker": {
            "color": "rgb(255, 255, 255)",
            "line": {
             "color": "rgb(0, 0, 0)",
             "width": 2
            },
            "size": 20
           },
           "mode": "markers+text",
           "text": [
            "∞"
           ],
           "textfont": {
            "color": "rgb(0, 0, 0)"
           },
           "textposition": "middle center",
           "x": [
            0
           ],
           "y": [
            0
           ]
          },
          {
           "hoverinfo": "none",
           "marker": {
            "color": "rgb(255, 255, 255)",
            "line": {
             "color": "rgb(0, 0, 0)",
             "width": 2
            },
            "size": 20
           },
           "mode": "markers+text",
           "text": [
            "1"
           ],
           "textfont": {
            "color": "rgb(0, 0, 0)"
           },
           "textposition": "middle center",
           "x": [
            0.3
           ],
           "y": [
            0
           ]
          },
          {
           "hoverinfo": "none",
           "marker": {
            "color": "rgb(255, 255, 255)",
            "line": {
             "color": "rgb(0, 0, 0)",
             "width": 2
            },
            "size": 20
           },
           "mode": "markers+text",
           "text": [
            "∞"
           ],
           "textfont": {
            "color": "rgb(0, 0, 0)"
           },
           "textposition": "middle center",
           "x": [
            0.7
           ],
           "y": [
            0
           ]
          },
          {
           "hoverinfo": "none",
           "marker": {
            "color": "rgb(255, 255, 255)",
            "line": {
             "color": "rgb(0, 0, 0)",
             "width": 2
            },
            "size": 20
           },
           "mode": "markers+text",
           "text": [
            "∞"
           ],
           "textfont": {
            "color": "rgb(0, 0, 0)"
           },
           "textposition": "middle center",
           "x": [
            1
           ],
           "y": [
            0
           ]
          }
         ],
         "name": 6
        },
        {
         "data": [
          {
           "hoverinfo": "none",
           "line": {
            "color": "rgb(0, 0, 0)",
            "width": 2
           },
           "mode": "lines",
           "x": [
            0,
            0.3,
            null
           ],
           "y": [
            1,
            1,
            null
           ]
          },
          {
           "hoverinfo": "none",
           "line": {
            "color": "rgb(0, 0, 0)",
            "width": 2
           },
           "mode": "lines",
           "x": [
            0,
            0,
            null
           ],
           "y": [
            1,
            0,
            null
           ]
          },
          {
           "hoverinfo": "none",
           "line": {
            "color": "rgb(0, 0, 0)",
            "width": 2
           },
           "mode": "lines",
           "x": [
            0.3,
            0.3,
            null
           ],
           "y": [
            1,
            0,
            null
           ]
          },
          {
           "hoverinfo": "none",
           "line": {
            "color": "rgb(0, 0, 0)",
            "width": 2
           },
           "mode": "lines",
           "x": [
            0.7,
            1,
            null
           ],
           "y": [
            1,
            1,
            null
           ]
          },
          {
           "hoverinfo": "none",
           "line": {
            "color": "rgb(0, 0, 0)",
            "width": 2
           },
           "mode": "lines",
           "x": [
            0.7,
            0.3,
            null
           ],
           "y": [
            1,
            0,
            null
           ]
          },
          {
           "hoverinfo": "none",
           "line": {
            "color": "rgb(0, 0, 0)",
            "width": 2
           },
           "mode": "lines",
           "x": [
            0.7,
            0.7,
            null
           ],
           "y": [
            1,
            0,
            null
           ]
          },
          {
           "hoverinfo": "none",
           "line": {
            "color": "rgb(0, 0, 0)",
            "width": 2
           },
           "mode": "lines",
           "x": [
            1,
            0.7,
            null
           ],
           "y": [
            1,
            0,
            null
           ]
          },
          {
           "hoverinfo": "none",
           "line": {
            "color": "rgb(0, 0, 0)",
            "width": 2
           },
           "mode": "lines",
           "x": [
            1,
            1,
            null
           ],
           "y": [
            1,
            0,
            null
           ]
          },
          {
           "hoverinfo": "none",
           "line": {
            "color": "rgb(0, 0, 0)",
            "width": 2
           },
           "mode": "lines",
           "x": [
            0.3,
            0.7,
            null
           ],
           "y": [
            0,
            0,
            null
           ]
          },
          {
           "hoverinfo": "none",
           "line": {
            "color": "rgb(0, 0, 0)",
            "width": 2
           },
           "mode": "lines",
           "x": [
            0.7,
            1,
            null
           ],
           "y": [
            0,
            0,
            null
           ]
          },
          {
           "hoverinfo": "none",
           "marker": {
            "color": "rgb(255, 0, 0)",
            "line": {
             "color": "rgb(0, 0, 0)",
             "width": 2
            },
            "size": 20
           },
           "mode": "markers+text",
           "text": [
            "1"
           ],
           "textfont": {
            "color": "rgb(255, 255, 255)"
           },
           "textposition": "middle center",
           "x": [
            0
           ],
           "y": [
            1
           ]
          },
          {
           "hoverinfo": "none",
           "marker": {
            "color": "rgb(0, 0, 255)",
            "line": {
             "color": "rgb(0, 0, 0)",
             "width": 2
            },
            "size": 20
           },
           "mode": "markers+text",
           "text": [
            "0"
           ],
           "textfont": {
            "color": "rgb(255, 255, 255)"
           },
           "textposition": "middle center",
           "x": [
            0.3
           ],
           "y": [
            1
           ]
          },
          {
           "hoverinfo": "none",
           "marker": {
            "color": "rgb(255, 255, 255)",
            "line": {
             "color": "rgb(0, 0, 0)",
             "width": 2
            },
            "size": 20
           },
           "mode": "markers+text",
           "text": [
            "∞"
           ],
           "textfont": {
            "color": "rgb(0, 0, 0)"
           },
           "textposition": "middle center",
           "x": [
            0.7
           ],
           "y": [
            1
           ]
          },
          {
           "hoverinfo": "none",
           "marker": {
            "color": "rgb(255, 255, 255)",
            "line": {
             "color": "rgb(0, 0, 0)",
             "width": 2
            },
            "size": 20
           },
           "mode": "markers+text",
           "text": [
            "∞"
           ],
           "textfont": {
            "color": "rgb(0, 0, 0)"
           },
           "textposition": "middle center",
           "x": [
            1
           ],
           "y": [
            1
           ]
          },
          {
           "hoverinfo": "none",
           "marker": {
            "color": "rgb(255, 255, 255)",
            "line": {
             "color": "rgb(0, 0, 0)",
             "width": 2
            },
            "size": 20
           },
           "mode": "markers+text",
           "text": [
            "∞"
           ],
           "textfont": {
            "color": "rgb(0, 0, 0)"
           },
           "textposition": "middle center",
           "x": [
            0
           ],
           "y": [
            0
           ]
          },
          {
           "hoverinfo": "none",
           "marker": {
            "color": "rgb(255, 255, 255)",
            "line": {
             "color": "rgb(0, 0, 0)",
             "width": 2
            },
            "size": 20
           },
           "mode": "markers+text",
           "text": [
            "1"
           ],
           "textfont": {
            "color": "rgb(0, 0, 0)"
           },
           "textposition": "middle center",
           "x": [
            0.3
           ],
           "y": [
            0
           ]
          },
          {
           "hoverinfo": "none",
           "marker": {
            "color": "rgb(255, 255, 255)",
            "line": {
             "color": "rgb(0, 0, 0)",
             "width": 2
            },
            "size": 20
           },
           "mode": "markers+text",
           "text": [
            "∞"
           ],
           "textfont": {
            "color": "rgb(0, 0, 0)"
           },
           "textposition": "middle center",
           "x": [
            0.7
           ],
           "y": [
            0
           ]
          },
          {
           "hoverinfo": "none",
           "marker": {
            "color": "rgb(255, 255, 255)",
            "line": {
             "color": "rgb(0, 0, 0)",
             "width": 2
            },
            "size": 20
           },
           "mode": "markers+text",
           "text": [
            "∞"
           ],
           "textfont": {
            "color": "rgb(0, 0, 0)"
           },
           "textposition": "middle center",
           "x": [
            1
           ],
           "y": [
            0
           ]
          }
         ],
         "name": 7
        },
        {
         "data": [
          {
           "hoverinfo": "none",
           "line": {
            "color": "rgb(255, 0, 0)",
            "width": 2
           },
           "mode": "lines",
           "x": [
            0,
            0.3,
            null
           ],
           "y": [
            1,
            1,
            null
           ]
          },
          {
           "hoverinfo": "none",
           "line": {
            "color": "rgb(0, 0, 0)",
            "width": 2
           },
           "mode": "lines",
           "x": [
            0,
            0,
            null
           ],
           "y": [
            1,
            0,
            null
           ]
          },
          {
           "hoverinfo": "none",
           "line": {
            "color": "rgb(0, 0, 0)",
            "width": 2
           },
           "mode": "lines",
           "x": [
            0.3,
            0.3,
            null
           ],
           "y": [
            1,
            0,
            null
           ]
          },
          {
           "hoverinfo": "none",
           "line": {
            "color": "rgb(0, 0, 0)",
            "width": 2
           },
           "mode": "lines",
           "x": [
            0.7,
            1,
            null
           ],
           "y": [
            1,
            1,
            null
           ]
          },
          {
           "hoverinfo": "none",
           "line": {
            "color": "rgb(0, 0, 0)",
            "width": 2
           },
           "mode": "lines",
           "x": [
            0.7,
            0.3,
            null
           ],
           "y": [
            1,
            0,
            null
           ]
          },
          {
           "hoverinfo": "none",
           "line": {
            "color": "rgb(0, 0, 0)",
            "width": 2
           },
           "mode": "lines",
           "x": [
            0.7,
            0.7,
            null
           ],
           "y": [
            1,
            0,
            null
           ]
          },
          {
           "hoverinfo": "none",
           "line": {
            "color": "rgb(0, 0, 0)",
            "width": 2
           },
           "mode": "lines",
           "x": [
            1,
            0.7,
            null
           ],
           "y": [
            1,
            0,
            null
           ]
          },
          {
           "hoverinfo": "none",
           "line": {
            "color": "rgb(0, 0, 0)",
            "width": 2
           },
           "mode": "lines",
           "x": [
            1,
            1,
            null
           ],
           "y": [
            1,
            0,
            null
           ]
          },
          {
           "hoverinfo": "none",
           "line": {
            "color": "rgb(0, 0, 0)",
            "width": 2
           },
           "mode": "lines",
           "x": [
            0.3,
            0.7,
            null
           ],
           "y": [
            0,
            0,
            null
           ]
          },
          {
           "hoverinfo": "none",
           "line": {
            "color": "rgb(0, 0, 0)",
            "width": 2
           },
           "mode": "lines",
           "x": [
            0.7,
            1,
            null
           ],
           "y": [
            0,
            0,
            null
           ]
          },
          {
           "hoverinfo": "none",
           "marker": {
            "color": "rgb(255, 0, 0)",
            "line": {
             "color": "rgb(0, 0, 0)",
             "width": 2
            },
            "size": 20
           },
           "mode": "markers+text",
           "text": [
            "1"
           ],
           "textfont": {
            "color": "rgb(255, 255, 255)"
           },
           "textposition": "middle center",
           "x": [
            0
           ],
           "y": [
            1
           ]
          },
          {
           "hoverinfo": "none",
           "marker": {
            "color": "rgb(0, 0, 255)",
            "line": {
             "color": "rgb(0, 0, 0)",
             "width": 2
            },
            "size": 20
           },
           "mode": "markers+text",
           "text": [
            "0"
           ],
           "textfont": {
            "color": "rgb(255, 255, 255)"
           },
           "textposition": "middle center",
           "x": [
            0.3
           ],
           "y": [
            1
           ]
          },
          {
           "hoverinfo": "none",
           "marker": {
            "color": "rgb(255, 255, 255)",
            "line": {
             "color": "rgb(0, 0, 0)",
             "width": 2
            },
            "size": 20
           },
           "mode": "markers+text",
           "text": [
            "∞"
           ],
           "textfont": {
            "color": "rgb(0, 0, 0)"
           },
           "textposition": "middle center",
           "x": [
            0.7
           ],
           "y": [
            1
           ]
          },
          {
           "hoverinfo": "none",
           "marker": {
            "color": "rgb(255, 255, 255)",
            "line": {
             "color": "rgb(0, 0, 0)",
             "width": 2
            },
            "size": 20
           },
           "mode": "markers+text",
           "text": [
            "∞"
           ],
           "textfont": {
            "color": "rgb(0, 0, 0)"
           },
           "textposition": "middle center",
           "x": [
            1
           ],
           "y": [
            1
           ]
          },
          {
           "hoverinfo": "none",
           "marker": {
            "color": "rgb(255, 255, 255)",
            "line": {
             "color": "rgb(0, 0, 0)",
             "width": 2
            },
            "size": 20
           },
           "mode": "markers+text",
           "text": [
            "∞"
           ],
           "textfont": {
            "color": "rgb(0, 0, 0)"
           },
           "textposition": "middle center",
           "x": [
            0
           ],
           "y": [
            0
           ]
          },
          {
           "hoverinfo": "none",
           "marker": {
            "color": "rgb(255, 255, 255)",
            "line": {
             "color": "rgb(0, 0, 0)",
             "width": 2
            },
            "size": 20
           },
           "mode": "markers+text",
           "text": [
            "1"
           ],
           "textfont": {
            "color": "rgb(0, 0, 0)"
           },
           "textposition": "middle center",
           "x": [
            0.3
           ],
           "y": [
            0
           ]
          },
          {
           "hoverinfo": "none",
           "marker": {
            "color": "rgb(255, 255, 255)",
            "line": {
             "color": "rgb(0, 0, 0)",
             "width": 2
            },
            "size": 20
           },
           "mode": "markers+text",
           "text": [
            "∞"
           ],
           "textfont": {
            "color": "rgb(0, 0, 0)"
           },
           "textposition": "middle center",
           "x": [
            0.7
           ],
           "y": [
            0
           ]
          },
          {
           "hoverinfo": "none",
           "marker": {
            "color": "rgb(255, 255, 255)",
            "line": {
             "color": "rgb(0, 0, 0)",
             "width": 2
            },
            "size": 20
           },
           "mode": "markers+text",
           "text": [
            "∞"
           ],
           "textfont": {
            "color": "rgb(0, 0, 0)"
           },
           "textposition": "middle center",
           "x": [
            1
           ],
           "y": [
            0
           ]
          }
         ],
         "name": 8
        },
        {
         "data": [
          {
           "hoverinfo": "none",
           "line": {
            "color": "rgb(0, 0, 0)",
            "width": 2
           },
           "mode": "lines",
           "x": [
            0,
            0.3,
            null
           ],
           "y": [
            1,
            1,
            null
           ]
          },
          {
           "hoverinfo": "none",
           "line": {
            "color": "rgb(0, 0, 0)",
            "width": 2
           },
           "mode": "lines",
           "x": [
            0,
            0,
            null
           ],
           "y": [
            1,
            0,
            null
           ]
          },
          {
           "hoverinfo": "none",
           "line": {
            "color": "rgb(0, 0, 0)",
            "width": 2
           },
           "mode": "lines",
           "x": [
            0.3,
            0.3,
            null
           ],
           "y": [
            1,
            0,
            null
           ]
          },
          {
           "hoverinfo": "none",
           "line": {
            "color": "rgb(0, 0, 0)",
            "width": 2
           },
           "mode": "lines",
           "x": [
            0.7,
            1,
            null
           ],
           "y": [
            1,
            1,
            null
           ]
          },
          {
           "hoverinfo": "none",
           "line": {
            "color": "rgb(0, 0, 0)",
            "width": 2
           },
           "mode": "lines",
           "x": [
            0.7,
            0.3,
            null
           ],
           "y": [
            1,
            0,
            null
           ]
          },
          {
           "hoverinfo": "none",
           "line": {
            "color": "rgb(0, 0, 0)",
            "width": 2
           },
           "mode": "lines",
           "x": [
            0.7,
            0.7,
            null
           ],
           "y": [
            1,
            0,
            null
           ]
          },
          {
           "hoverinfo": "none",
           "line": {
            "color": "rgb(0, 0, 0)",
            "width": 2
           },
           "mode": "lines",
           "x": [
            1,
            0.7,
            null
           ],
           "y": [
            1,
            0,
            null
           ]
          },
          {
           "hoverinfo": "none",
           "line": {
            "color": "rgb(0, 0, 0)",
            "width": 2
           },
           "mode": "lines",
           "x": [
            1,
            1,
            null
           ],
           "y": [
            1,
            0,
            null
           ]
          },
          {
           "hoverinfo": "none",
           "line": {
            "color": "rgb(0, 0, 0)",
            "width": 2
           },
           "mode": "lines",
           "x": [
            0.3,
            0.7,
            null
           ],
           "y": [
            0,
            0,
            null
           ]
          },
          {
           "hoverinfo": "none",
           "line": {
            "color": "rgb(0, 0, 0)",
            "width": 2
           },
           "mode": "lines",
           "x": [
            0.7,
            1,
            null
           ],
           "y": [
            0,
            0,
            null
           ]
          },
          {
           "hoverinfo": "none",
           "marker": {
            "color": "rgb(255, 0, 0)",
            "line": {
             "color": "rgb(0, 0, 0)",
             "width": 2
            },
            "size": 20
           },
           "mode": "markers+text",
           "text": [
            "1"
           ],
           "textfont": {
            "color": "rgb(255, 255, 255)"
           },
           "textposition": "middle center",
           "x": [
            0
           ],
           "y": [
            1
           ]
          },
          {
           "hoverinfo": "none",
           "marker": {
            "color": "rgb(0, 0, 255)",
            "line": {
             "color": "rgb(0, 0, 0)",
             "width": 2
            },
            "size": 20
           },
           "mode": "markers+text",
           "text": [
            "0"
           ],
           "textfont": {
            "color": "rgb(255, 255, 255)"
           },
           "textposition": "middle center",
           "x": [
            0.3
           ],
           "y": [
            1
           ]
          },
          {
           "hoverinfo": "none",
           "marker": {
            "color": "rgb(255, 255, 255)",
            "line": {
             "color": "rgb(0, 0, 0)",
             "width": 2
            },
            "size": 20
           },
           "mode": "markers+text",
           "text": [
            "∞"
           ],
           "textfont": {
            "color": "rgb(0, 0, 0)"
           },
           "textposition": "middle center",
           "x": [
            0.7
           ],
           "y": [
            1
           ]
          },
          {
           "hoverinfo": "none",
           "marker": {
            "color": "rgb(255, 255, 255)",
            "line": {
             "color": "rgb(0, 0, 0)",
             "width": 2
            },
            "size": 20
           },
           "mode": "markers+text",
           "text": [
            "∞"
           ],
           "textfont": {
            "color": "rgb(0, 0, 0)"
           },
           "textposition": "middle center",
           "x": [
            1
           ],
           "y": [
            1
           ]
          },
          {
           "hoverinfo": "none",
           "marker": {
            "color": "rgb(255, 255, 255)",
            "line": {
             "color": "rgb(0, 0, 0)",
             "width": 2
            },
            "size": 20
           },
           "mode": "markers+text",
           "text": [
            "∞"
           ],
           "textfont": {
            "color": "rgb(0, 0, 0)"
           },
           "textposition": "middle center",
           "x": [
            0
           ],
           "y": [
            0
           ]
          },
          {
           "hoverinfo": "none",
           "marker": {
            "color": "rgb(255, 255, 255)",
            "line": {
             "color": "rgb(0, 0, 0)",
             "width": 2
            },
            "size": 20
           },
           "mode": "markers+text",
           "text": [
            "1"
           ],
           "textfont": {
            "color": "rgb(0, 0, 0)"
           },
           "textposition": "middle center",
           "x": [
            0.3
           ],
           "y": [
            0
           ]
          },
          {
           "hoverinfo": "none",
           "marker": {
            "color": "rgb(255, 255, 255)",
            "line": {
             "color": "rgb(0, 0, 0)",
             "width": 2
            },
            "size": 20
           },
           "mode": "markers+text",
           "text": [
            "∞"
           ],
           "textfont": {
            "color": "rgb(0, 0, 0)"
           },
           "textposition": "middle center",
           "x": [
            0.7
           ],
           "y": [
            0
           ]
          },
          {
           "hoverinfo": "none",
           "marker": {
            "color": "rgb(255, 255, 255)",
            "line": {
             "color": "rgb(0, 0, 0)",
             "width": 2
            },
            "size": 20
           },
           "mode": "markers+text",
           "text": [
            "∞"
           ],
           "textfont": {
            "color": "rgb(0, 0, 0)"
           },
           "textposition": "middle center",
           "x": [
            1
           ],
           "y": [
            0
           ]
          }
         ],
         "name": 9
        },
        {
         "data": [
          {
           "hoverinfo": "none",
           "line": {
            "color": "rgb(0, 0, 0)",
            "width": 2
           },
           "mode": "lines",
           "x": [
            0,
            0.3,
            null
           ],
           "y": [
            1,
            1,
            null
           ]
          },
          {
           "hoverinfo": "none",
           "line": {
            "color": "rgb(255, 0, 0)",
            "width": 2
           },
           "mode": "lines",
           "x": [
            0,
            0,
            null
           ],
           "y": [
            1,
            0,
            null
           ]
          },
          {
           "hoverinfo": "none",
           "line": {
            "color": "rgb(0, 0, 0)",
            "width": 2
           },
           "mode": "lines",
           "x": [
            0.3,
            0.3,
            null
           ],
           "y": [
            1,
            0,
            null
           ]
          },
          {
           "hoverinfo": "none",
           "line": {
            "color": "rgb(0, 0, 0)",
            "width": 2
           },
           "mode": "lines",
           "x": [
            0.7,
            1,
            null
           ],
           "y": [
            1,
            1,
            null
           ]
          },
          {
           "hoverinfo": "none",
           "line": {
            "color": "rgb(0, 0, 0)",
            "width": 2
           },
           "mode": "lines",
           "x": [
            0.7,
            0.3,
            null
           ],
           "y": [
            1,
            0,
            null
           ]
          },
          {
           "hoverinfo": "none",
           "line": {
            "color": "rgb(0, 0, 0)",
            "width": 2
           },
           "mode": "lines",
           "x": [
            0.7,
            0.7,
            null
           ],
           "y": [
            1,
            0,
            null
           ]
          },
          {
           "hoverinfo": "none",
           "line": {
            "color": "rgb(0, 0, 0)",
            "width": 2
           },
           "mode": "lines",
           "x": [
            1,
            0.7,
            null
           ],
           "y": [
            1,
            0,
            null
           ]
          },
          {
           "hoverinfo": "none",
           "line": {
            "color": "rgb(0, 0, 0)",
            "width": 2
           },
           "mode": "lines",
           "x": [
            1,
            1,
            null
           ],
           "y": [
            1,
            0,
            null
           ]
          },
          {
           "hoverinfo": "none",
           "line": {
            "color": "rgb(0, 0, 0)",
            "width": 2
           },
           "mode": "lines",
           "x": [
            0.3,
            0.7,
            null
           ],
           "y": [
            0,
            0,
            null
           ]
          },
          {
           "hoverinfo": "none",
           "line": {
            "color": "rgb(0, 0, 0)",
            "width": 2
           },
           "mode": "lines",
           "x": [
            0.7,
            1,
            null
           ],
           "y": [
            0,
            0,
            null
           ]
          },
          {
           "hoverinfo": "none",
           "marker": {
            "color": "rgb(255, 0, 0)",
            "line": {
             "color": "rgb(0, 0, 0)",
             "width": 2
            },
            "size": 20
           },
           "mode": "markers+text",
           "text": [
            "1"
           ],
           "textfont": {
            "color": "rgb(255, 255, 255)"
           },
           "textposition": "middle center",
           "x": [
            0
           ],
           "y": [
            1
           ]
          },
          {
           "hoverinfo": "none",
           "marker": {
            "color": "rgb(0, 0, 255)",
            "line": {
             "color": "rgb(0, 0, 0)",
             "width": 2
            },
            "size": 20
           },
           "mode": "markers+text",
           "text": [
            "0"
           ],
           "textfont": {
            "color": "rgb(255, 255, 255)"
           },
           "textposition": "middle center",
           "x": [
            0.3
           ],
           "y": [
            1
           ]
          },
          {
           "hoverinfo": "none",
           "marker": {
            "color": "rgb(255, 255, 255)",
            "line": {
             "color": "rgb(0, 0, 0)",
             "width": 2
            },
            "size": 20
           },
           "mode": "markers+text",
           "text": [
            "∞"
           ],
           "textfont": {
            "color": "rgb(0, 0, 0)"
           },
           "textposition": "middle center",
           "x": [
            0.7
           ],
           "y": [
            1
           ]
          },
          {
           "hoverinfo": "none",
           "marker": {
            "color": "rgb(255, 255, 255)",
            "line": {
             "color": "rgb(0, 0, 0)",
             "width": 2
            },
            "size": 20
           },
           "mode": "markers+text",
           "text": [
            "∞"
           ],
           "textfont": {
            "color": "rgb(0, 0, 0)"
           },
           "textposition": "middle center",
           "x": [
            1
           ],
           "y": [
            1
           ]
          },
          {
           "hoverinfo": "none",
           "marker": {
            "color": "rgb(255, 255, 255)",
            "line": {
             "color": "rgb(0, 0, 0)",
             "width": 2
            },
            "size": 20
           },
           "mode": "markers+text",
           "text": [
            "∞"
           ],
           "textfont": {
            "color": "rgb(0, 0, 0)"
           },
           "textposition": "middle center",
           "x": [
            0
           ],
           "y": [
            0
           ]
          },
          {
           "hoverinfo": "none",
           "marker": {
            "color": "rgb(255, 255, 255)",
            "line": {
             "color": "rgb(0, 0, 0)",
             "width": 2
            },
            "size": 20
           },
           "mode": "markers+text",
           "text": [
            "1"
           ],
           "textfont": {
            "color": "rgb(0, 0, 0)"
           },
           "textposition": "middle center",
           "x": [
            0.3
           ],
           "y": [
            0
           ]
          },
          {
           "hoverinfo": "none",
           "marker": {
            "color": "rgb(255, 255, 255)",
            "line": {
             "color": "rgb(0, 0, 0)",
             "width": 2
            },
            "size": 20
           },
           "mode": "markers+text",
           "text": [
            "∞"
           ],
           "textfont": {
            "color": "rgb(0, 0, 0)"
           },
           "textposition": "middle center",
           "x": [
            0.7
           ],
           "y": [
            0
           ]
          },
          {
           "hoverinfo": "none",
           "marker": {
            "color": "rgb(255, 255, 255)",
            "line": {
             "color": "rgb(0, 0, 0)",
             "width": 2
            },
            "size": 20
           },
           "mode": "markers+text",
           "text": [
            "∞"
           ],
           "textfont": {
            "color": "rgb(0, 0, 0)"
           },
           "textposition": "middle center",
           "x": [
            1
           ],
           "y": [
            0
           ]
          }
         ],
         "name": 10
        },
        {
         "data": [
          {
           "hoverinfo": "none",
           "line": {
            "color": "rgb(0, 0, 0)",
            "width": 2
           },
           "mode": "lines",
           "x": [
            0,
            0.3,
            null
           ],
           "y": [
            1,
            1,
            null
           ]
          },
          {
           "hoverinfo": "none",
           "line": {
            "color": "rgb(0, 0, 0)",
            "width": 2
           },
           "mode": "lines",
           "x": [
            0,
            0,
            null
           ],
           "y": [
            1,
            0,
            null
           ]
          },
          {
           "hoverinfo": "none",
           "line": {
            "color": "rgb(0, 0, 0)",
            "width": 2
           },
           "mode": "lines",
           "x": [
            0.3,
            0.3,
            null
           ],
           "y": [
            1,
            0,
            null
           ]
          },
          {
           "hoverinfo": "none",
           "line": {
            "color": "rgb(0, 0, 0)",
            "width": 2
           },
           "mode": "lines",
           "x": [
            0.7,
            1,
            null
           ],
           "y": [
            1,
            1,
            null
           ]
          },
          {
           "hoverinfo": "none",
           "line": {
            "color": "rgb(0, 0, 0)",
            "width": 2
           },
           "mode": "lines",
           "x": [
            0.7,
            0.3,
            null
           ],
           "y": [
            1,
            0,
            null
           ]
          },
          {
           "hoverinfo": "none",
           "line": {
            "color": "rgb(0, 0, 0)",
            "width": 2
           },
           "mode": "lines",
           "x": [
            0.7,
            0.7,
            null
           ],
           "y": [
            1,
            0,
            null
           ]
          },
          {
           "hoverinfo": "none",
           "line": {
            "color": "rgb(0, 0, 0)",
            "width": 2
           },
           "mode": "lines",
           "x": [
            1,
            0.7,
            null
           ],
           "y": [
            1,
            0,
            null
           ]
          },
          {
           "hoverinfo": "none",
           "line": {
            "color": "rgb(0, 0, 0)",
            "width": 2
           },
           "mode": "lines",
           "x": [
            1,
            1,
            null
           ],
           "y": [
            1,
            0,
            null
           ]
          },
          {
           "hoverinfo": "none",
           "line": {
            "color": "rgb(0, 0, 0)",
            "width": 2
           },
           "mode": "lines",
           "x": [
            0.3,
            0.7,
            null
           ],
           "y": [
            0,
            0,
            null
           ]
          },
          {
           "hoverinfo": "none",
           "line": {
            "color": "rgb(0, 0, 0)",
            "width": 2
           },
           "mode": "lines",
           "x": [
            0.7,
            1,
            null
           ],
           "y": [
            0,
            0,
            null
           ]
          },
          {
           "hoverinfo": "none",
           "marker": {
            "color": "rgb(255, 0, 0)",
            "line": {
             "color": "rgb(0, 0, 0)",
             "width": 2
            },
            "size": 20
           },
           "mode": "markers+text",
           "text": [
            "1"
           ],
           "textfont": {
            "color": "rgb(255, 255, 255)"
           },
           "textposition": "middle center",
           "x": [
            0
           ],
           "y": [
            1
           ]
          },
          {
           "hoverinfo": "none",
           "marker": {
            "color": "rgb(0, 0, 255)",
            "line": {
             "color": "rgb(0, 0, 0)",
             "width": 2
            },
            "size": 20
           },
           "mode": "markers+text",
           "text": [
            "0"
           ],
           "textfont": {
            "color": "rgb(255, 255, 255)"
           },
           "textposition": "middle center",
           "x": [
            0.3
           ],
           "y": [
            1
           ]
          },
          {
           "hoverinfo": "none",
           "marker": {
            "color": "rgb(255, 255, 255)",
            "line": {
             "color": "rgb(0, 0, 0)",
             "width": 2
            },
            "size": 20
           },
           "mode": "markers+text",
           "text": [
            "∞"
           ],
           "textfont": {
            "color": "rgb(0, 0, 0)"
           },
           "textposition": "middle center",
           "x": [
            0.7
           ],
           "y": [
            1
           ]
          },
          {
           "hoverinfo": "none",
           "marker": {
            "color": "rgb(255, 255, 255)",
            "line": {
             "color": "rgb(0, 0, 0)",
             "width": 2
            },
            "size": 20
           },
           "mode": "markers+text",
           "text": [
            "∞"
           ],
           "textfont": {
            "color": "rgb(0, 0, 0)"
           },
           "textposition": "middle center",
           "x": [
            1
           ],
           "y": [
            1
           ]
          },
          {
           "hoverinfo": "none",
           "marker": {
            "color": "rgb(255, 255, 255)",
            "line": {
             "color": "rgb(0, 0, 0)",
             "width": 2
            },
            "size": 20
           },
           "mode": "markers+text",
           "text": [
            "2"
           ],
           "textfont": {
            "color": "rgb(0, 0, 0)"
           },
           "textposition": "middle center",
           "x": [
            0
           ],
           "y": [
            0
           ]
          },
          {
           "hoverinfo": "none",
           "marker": {
            "color": "rgb(255, 255, 255)",
            "line": {
             "color": "rgb(0, 0, 0)",
             "width": 2
            },
            "size": 20
           },
           "mode": "markers+text",
           "text": [
            "1"
           ],
           "textfont": {
            "color": "rgb(0, 0, 0)"
           },
           "textposition": "middle center",
           "x": [
            0.3
           ],
           "y": [
            0
           ]
          },
          {
           "hoverinfo": "none",
           "marker": {
            "color": "rgb(255, 255, 255)",
            "line": {
             "color": "rgb(0, 0, 0)",
             "width": 2
            },
            "size": 20
           },
           "mode": "markers+text",
           "text": [
            "∞"
           ],
           "textfont": {
            "color": "rgb(0, 0, 0)"
           },
           "textposition": "middle center",
           "x": [
            0.7
           ],
           "y": [
            0
           ]
          },
          {
           "hoverinfo": "none",
           "marker": {
            "color": "rgb(255, 255, 255)",
            "line": {
             "color": "rgb(0, 0, 0)",
             "width": 2
            },
            "size": 20
           },
           "mode": "markers+text",
           "text": [
            "∞"
           ],
           "textfont": {
            "color": "rgb(0, 0, 0)"
           },
           "textposition": "middle center",
           "x": [
            1
           ],
           "y": [
            0
           ]
          }
         ],
         "name": 11
        },
        {
         "data": [
          {
           "hoverinfo": "none",
           "line": {
            "color": "rgb(0, 0, 0)",
            "width": 2
           },
           "mode": "lines",
           "x": [
            0,
            0.3,
            null
           ],
           "y": [
            1,
            1,
            null
           ]
          },
          {
           "hoverinfo": "none",
           "line": {
            "color": "rgb(0, 0, 0)",
            "width": 2
           },
           "mode": "lines",
           "x": [
            0,
            0,
            null
           ],
           "y": [
            1,
            0,
            null
           ]
          },
          {
           "hoverinfo": "none",
           "line": {
            "color": "rgb(0, 0, 0)",
            "width": 2
           },
           "mode": "lines",
           "x": [
            0.3,
            0.3,
            null
           ],
           "y": [
            1,
            0,
            null
           ]
          },
          {
           "hoverinfo": "none",
           "line": {
            "color": "rgb(0, 0, 0)",
            "width": 2
           },
           "mode": "lines",
           "x": [
            0.7,
            1,
            null
           ],
           "y": [
            1,
            1,
            null
           ]
          },
          {
           "hoverinfo": "none",
           "line": {
            "color": "rgb(0, 0, 0)",
            "width": 2
           },
           "mode": "lines",
           "x": [
            0.7,
            0.3,
            null
           ],
           "y": [
            1,
            0,
            null
           ]
          },
          {
           "hoverinfo": "none",
           "line": {
            "color": "rgb(0, 0, 0)",
            "width": 2
           },
           "mode": "lines",
           "x": [
            0.7,
            0.7,
            null
           ],
           "y": [
            1,
            0,
            null
           ]
          },
          {
           "hoverinfo": "none",
           "line": {
            "color": "rgb(0, 0, 0)",
            "width": 2
           },
           "mode": "lines",
           "x": [
            1,
            0.7,
            null
           ],
           "y": [
            1,
            0,
            null
           ]
          },
          {
           "hoverinfo": "none",
           "line": {
            "color": "rgb(0, 0, 0)",
            "width": 2
           },
           "mode": "lines",
           "x": [
            1,
            1,
            null
           ],
           "y": [
            1,
            0,
            null
           ]
          },
          {
           "hoverinfo": "none",
           "line": {
            "color": "rgb(0, 0, 0)",
            "width": 2
           },
           "mode": "lines",
           "x": [
            0.3,
            0.7,
            null
           ],
           "y": [
            0,
            0,
            null
           ]
          },
          {
           "hoverinfo": "none",
           "line": {
            "color": "rgb(0, 0, 0)",
            "width": 2
           },
           "mode": "lines",
           "x": [
            0.7,
            1,
            null
           ],
           "y": [
            0,
            0,
            null
           ]
          },
          {
           "hoverinfo": "none",
           "marker": {
            "color": "rgb(0, 0, 255)",
            "line": {
             "color": "rgb(0, 0, 0)",
             "width": 2
            },
            "size": 20
           },
           "mode": "markers+text",
           "text": [
            "1"
           ],
           "textfont": {
            "color": "rgb(255, 255, 255)"
           },
           "textposition": "middle center",
           "x": [
            0
           ],
           "y": [
            1
           ]
          },
          {
           "hoverinfo": "none",
           "marker": {
            "color": "rgb(0, 0, 255)",
            "line": {
             "color": "rgb(0, 0, 0)",
             "width": 2
            },
            "size": 20
           },
           "mode": "markers+text",
           "text": [
            "0"
           ],
           "textfont": {
            "color": "rgb(255, 255, 255)"
           },
           "textposition": "middle center",
           "x": [
            0.3
           ],
           "y": [
            1
           ]
          },
          {
           "hoverinfo": "none",
           "marker": {
            "color": "rgb(255, 255, 255)",
            "line": {
             "color": "rgb(0, 0, 0)",
             "width": 2
            },
            "size": 20
           },
           "mode": "markers+text",
           "text": [
            "∞"
           ],
           "textfont": {
            "color": "rgb(0, 0, 0)"
           },
           "textposition": "middle center",
           "x": [
            0.7
           ],
           "y": [
            1
           ]
          },
          {
           "hoverinfo": "none",
           "marker": {
            "color": "rgb(255, 255, 255)",
            "line": {
             "color": "rgb(0, 0, 0)",
             "width": 2
            },
            "size": 20
           },
           "mode": "markers+text",
           "text": [
            "∞"
           ],
           "textfont": {
            "color": "rgb(0, 0, 0)"
           },
           "textposition": "middle center",
           "x": [
            1
           ],
           "y": [
            1
           ]
          },
          {
           "hoverinfo": "none",
           "marker": {
            "color": "rgb(255, 255, 255)",
            "line": {
             "color": "rgb(0, 0, 0)",
             "width": 2
            },
            "size": 20
           },
           "mode": "markers+text",
           "text": [
            "2"
           ],
           "textfont": {
            "color": "rgb(0, 0, 0)"
           },
           "textposition": "middle center",
           "x": [
            0
           ],
           "y": [
            0
           ]
          },
          {
           "hoverinfo": "none",
           "marker": {
            "color": "rgb(255, 255, 255)",
            "line": {
             "color": "rgb(0, 0, 0)",
             "width": 2
            },
            "size": 20
           },
           "mode": "markers+text",
           "text": [
            "1"
           ],
           "textfont": {
            "color": "rgb(0, 0, 0)"
           },
           "textposition": "middle center",
           "x": [
            0.3
           ],
           "y": [
            0
           ]
          },
          {
           "hoverinfo": "none",
           "marker": {
            "color": "rgb(255, 255, 255)",
            "line": {
             "color": "rgb(0, 0, 0)",
             "width": 2
            },
            "size": 20
           },
           "mode": "markers+text",
           "text": [
            "∞"
           ],
           "textfont": {
            "color": "rgb(0, 0, 0)"
           },
           "textposition": "middle center",
           "x": [
            0.7
           ],
           "y": [
            0
           ]
          },
          {
           "hoverinfo": "none",
           "marker": {
            "color": "rgb(255, 255, 255)",
            "line": {
             "color": "rgb(0, 0, 0)",
             "width": 2
            },
            "size": 20
           },
           "mode": "markers+text",
           "text": [
            "∞"
           ],
           "textfont": {
            "color": "rgb(0, 0, 0)"
           },
           "textposition": "middle center",
           "x": [
            1
           ],
           "y": [
            0
           ]
          }
         ],
         "name": 12
        },
        {
         "data": [
          {
           "hoverinfo": "none",
           "line": {
            "color": "rgb(0, 0, 0)",
            "width": 2
           },
           "mode": "lines",
           "x": [
            0,
            0.3,
            null
           ],
           "y": [
            1,
            1,
            null
           ]
          },
          {
           "hoverinfo": "none",
           "line": {
            "color": "rgb(0, 0, 0)",
            "width": 2
           },
           "mode": "lines",
           "x": [
            0,
            0,
            null
           ],
           "y": [
            1,
            0,
            null
           ]
          },
          {
           "hoverinfo": "none",
           "line": {
            "color": "rgb(0, 0, 0)",
            "width": 2
           },
           "mode": "lines",
           "x": [
            0.3,
            0.3,
            null
           ],
           "y": [
            1,
            0,
            null
           ]
          },
          {
           "hoverinfo": "none",
           "line": {
            "color": "rgb(0, 0, 0)",
            "width": 2
           },
           "mode": "lines",
           "x": [
            0.7,
            1,
            null
           ],
           "y": [
            1,
            1,
            null
           ]
          },
          {
           "hoverinfo": "none",
           "line": {
            "color": "rgb(0, 0, 0)",
            "width": 2
           },
           "mode": "lines",
           "x": [
            0.7,
            0.3,
            null
           ],
           "y": [
            1,
            0,
            null
           ]
          },
          {
           "hoverinfo": "none",
           "line": {
            "color": "rgb(0, 0, 0)",
            "width": 2
           },
           "mode": "lines",
           "x": [
            0.7,
            0.7,
            null
           ],
           "y": [
            1,
            0,
            null
           ]
          },
          {
           "hoverinfo": "none",
           "line": {
            "color": "rgb(0, 0, 0)",
            "width": 2
           },
           "mode": "lines",
           "x": [
            1,
            0.7,
            null
           ],
           "y": [
            1,
            0,
            null
           ]
          },
          {
           "hoverinfo": "none",
           "line": {
            "color": "rgb(0, 0, 0)",
            "width": 2
           },
           "mode": "lines",
           "x": [
            1,
            1,
            null
           ],
           "y": [
            1,
            0,
            null
           ]
          },
          {
           "hoverinfo": "none",
           "line": {
            "color": "rgb(0, 0, 0)",
            "width": 2
           },
           "mode": "lines",
           "x": [
            0.3,
            0.7,
            null
           ],
           "y": [
            0,
            0,
            null
           ]
          },
          {
           "hoverinfo": "none",
           "line": {
            "color": "rgb(0, 0, 0)",
            "width": 2
           },
           "mode": "lines",
           "x": [
            0.7,
            1,
            null
           ],
           "y": [
            0,
            0,
            null
           ]
          },
          {
           "hoverinfo": "none",
           "marker": {
            "color": "rgb(0, 0, 255)",
            "line": {
             "color": "rgb(0, 0, 0)",
             "width": 2
            },
            "size": 20
           },
           "mode": "markers+text",
           "text": [
            "1"
           ],
           "textfont": {
            "color": "rgb(255, 255, 255)"
           },
           "textposition": "middle center",
           "x": [
            0
           ],
           "y": [
            1
           ]
          },
          {
           "hoverinfo": "none",
           "marker": {
            "color": "rgb(0, 0, 255)",
            "line": {
             "color": "rgb(0, 0, 0)",
             "width": 2
            },
            "size": 20
           },
           "mode": "markers+text",
           "text": [
            "0"
           ],
           "textfont": {
            "color": "rgb(255, 255, 255)"
           },
           "textposition": "middle center",
           "x": [
            0.3
           ],
           "y": [
            1
           ]
          },
          {
           "hoverinfo": "none",
           "marker": {
            "color": "rgb(255, 255, 255)",
            "line": {
             "color": "rgb(0, 0, 0)",
             "width": 2
            },
            "size": 20
           },
           "mode": "markers+text",
           "text": [
            "∞"
           ],
           "textfont": {
            "color": "rgb(0, 0, 0)"
           },
           "textposition": "middle center",
           "x": [
            0.7
           ],
           "y": [
            1
           ]
          },
          {
           "hoverinfo": "none",
           "marker": {
            "color": "rgb(255, 255, 255)",
            "line": {
             "color": "rgb(0, 0, 0)",
             "width": 2
            },
            "size": 20
           },
           "mode": "markers+text",
           "text": [
            "∞"
           ],
           "textfont": {
            "color": "rgb(0, 0, 0)"
           },
           "textposition": "middle center",
           "x": [
            1
           ],
           "y": [
            1
           ]
          },
          {
           "hoverinfo": "none",
           "marker": {
            "color": "rgb(255, 255, 255)",
            "line": {
             "color": "rgb(0, 0, 0)",
             "width": 2
            },
            "size": 20
           },
           "mode": "markers+text",
           "text": [
            "2"
           ],
           "textfont": {
            "color": "rgb(0, 0, 0)"
           },
           "textposition": "middle center",
           "x": [
            0
           ],
           "y": [
            0
           ]
          },
          {
           "hoverinfo": "none",
           "marker": {
            "color": "rgb(255, 0, 0)",
            "line": {
             "color": "rgb(0, 0, 0)",
             "width": 2
            },
            "size": 20
           },
           "mode": "markers+text",
           "text": [
            "1"
           ],
           "textfont": {
            "color": "rgb(255, 255, 255)"
           },
           "textposition": "middle center",
           "x": [
            0.3
           ],
           "y": [
            0
           ]
          },
          {
           "hoverinfo": "none",
           "marker": {
            "color": "rgb(255, 255, 255)",
            "line": {
             "color": "rgb(0, 0, 0)",
             "width": 2
            },
            "size": 20
           },
           "mode": "markers+text",
           "text": [
            "∞"
           ],
           "textfont": {
            "color": "rgb(0, 0, 0)"
           },
           "textposition": "middle center",
           "x": [
            0.7
           ],
           "y": [
            0
           ]
          },
          {
           "hoverinfo": "none",
           "marker": {
            "color": "rgb(255, 255, 255)",
            "line": {
             "color": "rgb(0, 0, 0)",
             "width": 2
            },
            "size": 20
           },
           "mode": "markers+text",
           "text": [
            "∞"
           ],
           "textfont": {
            "color": "rgb(0, 0, 0)"
           },
           "textposition": "middle center",
           "x": [
            1
           ],
           "y": [
            0
           ]
          }
         ],
         "name": 13
        },
        {
         "data": [
          {
           "hoverinfo": "none",
           "line": {
            "color": "rgb(0, 0, 0)",
            "width": 2
           },
           "mode": "lines",
           "x": [
            0,
            0.3,
            null
           ],
           "y": [
            1,
            1,
            null
           ]
          },
          {
           "hoverinfo": "none",
           "line": {
            "color": "rgb(0, 0, 0)",
            "width": 2
           },
           "mode": "lines",
           "x": [
            0,
            0,
            null
           ],
           "y": [
            1,
            0,
            null
           ]
          },
          {
           "hoverinfo": "none",
           "line": {
            "color": "rgb(255, 0, 0)",
            "width": 2
           },
           "mode": "lines",
           "x": [
            0.3,
            0.3,
            null
           ],
           "y": [
            1,
            0,
            null
           ]
          },
          {
           "hoverinfo": "none",
           "line": {
            "color": "rgb(0, 0, 0)",
            "width": 2
           },
           "mode": "lines",
           "x": [
            0.7,
            1,
            null
           ],
           "y": [
            1,
            1,
            null
           ]
          },
          {
           "hoverinfo": "none",
           "line": {
            "color": "rgb(0, 0, 0)",
            "width": 2
           },
           "mode": "lines",
           "x": [
            0.7,
            0.3,
            null
           ],
           "y": [
            1,
            0,
            null
           ]
          },
          {
           "hoverinfo": "none",
           "line": {
            "color": "rgb(0, 0, 0)",
            "width": 2
           },
           "mode": "lines",
           "x": [
            0.7,
            0.7,
            null
           ],
           "y": [
            1,
            0,
            null
           ]
          },
          {
           "hoverinfo": "none",
           "line": {
            "color": "rgb(0, 0, 0)",
            "width": 2
           },
           "mode": "lines",
           "x": [
            1,
            0.7,
            null
           ],
           "y": [
            1,
            0,
            null
           ]
          },
          {
           "hoverinfo": "none",
           "line": {
            "color": "rgb(0, 0, 0)",
            "width": 2
           },
           "mode": "lines",
           "x": [
            1,
            1,
            null
           ],
           "y": [
            1,
            0,
            null
           ]
          },
          {
           "hoverinfo": "none",
           "line": {
            "color": "rgb(0, 0, 0)",
            "width": 2
           },
           "mode": "lines",
           "x": [
            0.3,
            0.7,
            null
           ],
           "y": [
            0,
            0,
            null
           ]
          },
          {
           "hoverinfo": "none",
           "line": {
            "color": "rgb(0, 0, 0)",
            "width": 2
           },
           "mode": "lines",
           "x": [
            0.7,
            1,
            null
           ],
           "y": [
            0,
            0,
            null
           ]
          },
          {
           "hoverinfo": "none",
           "marker": {
            "color": "rgb(0, 0, 255)",
            "line": {
             "color": "rgb(0, 0, 0)",
             "width": 2
            },
            "size": 20
           },
           "mode": "markers+text",
           "text": [
            "1"
           ],
           "textfont": {
            "color": "rgb(255, 255, 255)"
           },
           "textposition": "middle center",
           "x": [
            0
           ],
           "y": [
            1
           ]
          },
          {
           "hoverinfo": "none",
           "marker": {
            "color": "rgb(0, 0, 255)",
            "line": {
             "color": "rgb(0, 0, 0)",
             "width": 2
            },
            "size": 20
           },
           "mode": "markers+text",
           "text": [
            "0"
           ],
           "textfont": {
            "color": "rgb(255, 255, 255)"
           },
           "textposition": "middle center",
           "x": [
            0.3
           ],
           "y": [
            1
           ]
          },
          {
           "hoverinfo": "none",
           "marker": {
            "color": "rgb(255, 255, 255)",
            "line": {
             "color": "rgb(0, 0, 0)",
             "width": 2
            },
            "size": 20
           },
           "mode": "markers+text",
           "text": [
            "∞"
           ],
           "textfont": {
            "color": "rgb(0, 0, 0)"
           },
           "textposition": "middle center",
           "x": [
            0.7
           ],
           "y": [
            1
           ]
          },
          {
           "hoverinfo": "none",
           "marker": {
            "color": "rgb(255, 255, 255)",
            "line": {
             "color": "rgb(0, 0, 0)",
             "width": 2
            },
            "size": 20
           },
           "mode": "markers+text",
           "text": [
            "∞"
           ],
           "textfont": {
            "color": "rgb(0, 0, 0)"
           },
           "textposition": "middle center",
           "x": [
            1
           ],
           "y": [
            1
           ]
          },
          {
           "hoverinfo": "none",
           "marker": {
            "color": "rgb(255, 255, 255)",
            "line": {
             "color": "rgb(0, 0, 0)",
             "width": 2
            },
            "size": 20
           },
           "mode": "markers+text",
           "text": [
            "2"
           ],
           "textfont": {
            "color": "rgb(0, 0, 0)"
           },
           "textposition": "middle center",
           "x": [
            0
           ],
           "y": [
            0
           ]
          },
          {
           "hoverinfo": "none",
           "marker": {
            "color": "rgb(255, 0, 0)",
            "line": {
             "color": "rgb(0, 0, 0)",
             "width": 2
            },
            "size": 20
           },
           "mode": "markers+text",
           "text": [
            "1"
           ],
           "textfont": {
            "color": "rgb(255, 255, 255)"
           },
           "textposition": "middle center",
           "x": [
            0.3
           ],
           "y": [
            0
           ]
          },
          {
           "hoverinfo": "none",
           "marker": {
            "color": "rgb(255, 255, 255)",
            "line": {
             "color": "rgb(0, 0, 0)",
             "width": 2
            },
            "size": 20
           },
           "mode": "markers+text",
           "text": [
            "∞"
           ],
           "textfont": {
            "color": "rgb(0, 0, 0)"
           },
           "textposition": "middle center",
           "x": [
            0.7
           ],
           "y": [
            0
           ]
          },
          {
           "hoverinfo": "none",
           "marker": {
            "color": "rgb(255, 255, 255)",
            "line": {
             "color": "rgb(0, 0, 0)",
             "width": 2
            },
            "size": 20
           },
           "mode": "markers+text",
           "text": [
            "∞"
           ],
           "textfont": {
            "color": "rgb(0, 0, 0)"
           },
           "textposition": "middle center",
           "x": [
            1
           ],
           "y": [
            0
           ]
          }
         ],
         "name": 14
        },
        {
         "data": [
          {
           "hoverinfo": "none",
           "line": {
            "color": "rgb(0, 0, 0)",
            "width": 2
           },
           "mode": "lines",
           "x": [
            0,
            0.3,
            null
           ],
           "y": [
            1,
            1,
            null
           ]
          },
          {
           "hoverinfo": "none",
           "line": {
            "color": "rgb(0, 0, 0)",
            "width": 2
           },
           "mode": "lines",
           "x": [
            0,
            0,
            null
           ],
           "y": [
            1,
            0,
            null
           ]
          },
          {
           "hoverinfo": "none",
           "line": {
            "color": "rgb(0, 0, 0)",
            "width": 2
           },
           "mode": "lines",
           "x": [
            0.3,
            0.3,
            null
           ],
           "y": [
            1,
            0,
            null
           ]
          },
          {
           "hoverinfo": "none",
           "line": {
            "color": "rgb(0, 0, 0)",
            "width": 2
           },
           "mode": "lines",
           "x": [
            0.7,
            1,
            null
           ],
           "y": [
            1,
            1,
            null
           ]
          },
          {
           "hoverinfo": "none",
           "line": {
            "color": "rgb(0, 0, 0)",
            "width": 2
           },
           "mode": "lines",
           "x": [
            0.7,
            0.3,
            null
           ],
           "y": [
            1,
            0,
            null
           ]
          },
          {
           "hoverinfo": "none",
           "line": {
            "color": "rgb(0, 0, 0)",
            "width": 2
           },
           "mode": "lines",
           "x": [
            0.7,
            0.7,
            null
           ],
           "y": [
            1,
            0,
            null
           ]
          },
          {
           "hoverinfo": "none",
           "line": {
            "color": "rgb(0, 0, 0)",
            "width": 2
           },
           "mode": "lines",
           "x": [
            1,
            0.7,
            null
           ],
           "y": [
            1,
            0,
            null
           ]
          },
          {
           "hoverinfo": "none",
           "line": {
            "color": "rgb(0, 0, 0)",
            "width": 2
           },
           "mode": "lines",
           "x": [
            1,
            1,
            null
           ],
           "y": [
            1,
            0,
            null
           ]
          },
          {
           "hoverinfo": "none",
           "line": {
            "color": "rgb(0, 0, 0)",
            "width": 2
           },
           "mode": "lines",
           "x": [
            0.3,
            0.7,
            null
           ],
           "y": [
            0,
            0,
            null
           ]
          },
          {
           "hoverinfo": "none",
           "line": {
            "color": "rgb(0, 0, 0)",
            "width": 2
           },
           "mode": "lines",
           "x": [
            0.7,
            1,
            null
           ],
           "y": [
            0,
            0,
            null
           ]
          },
          {
           "hoverinfo": "none",
           "marker": {
            "color": "rgb(0, 0, 255)",
            "line": {
             "color": "rgb(0, 0, 0)",
             "width": 2
            },
            "size": 20
           },
           "mode": "markers+text",
           "text": [
            "1"
           ],
           "textfont": {
            "color": "rgb(255, 255, 255)"
           },
           "textposition": "middle center",
           "x": [
            0
           ],
           "y": [
            1
           ]
          },
          {
           "hoverinfo": "none",
           "marker": {
            "color": "rgb(0, 0, 255)",
            "line": {
             "color": "rgb(0, 0, 0)",
             "width": 2
            },
            "size": 20
           },
           "mode": "markers+text",
           "text": [
            "0"
           ],
           "textfont": {
            "color": "rgb(255, 255, 255)"
           },
           "textposition": "middle center",
           "x": [
            0.3
           ],
           "y": [
            1
           ]
          },
          {
           "hoverinfo": "none",
           "marker": {
            "color": "rgb(255, 255, 255)",
            "line": {
             "color": "rgb(0, 0, 0)",
             "width": 2
            },
            "size": 20
           },
           "mode": "markers+text",
           "text": [
            "∞"
           ],
           "textfont": {
            "color": "rgb(0, 0, 0)"
           },
           "textposition": "middle center",
           "x": [
            0.7
           ],
           "y": [
            1
           ]
          },
          {
           "hoverinfo": "none",
           "marker": {
            "color": "rgb(255, 255, 255)",
            "line": {
             "color": "rgb(0, 0, 0)",
             "width": 2
            },
            "size": 20
           },
           "mode": "markers+text",
           "text": [
            "∞"
           ],
           "textfont": {
            "color": "rgb(0, 0, 0)"
           },
           "textposition": "middle center",
           "x": [
            1
           ],
           "y": [
            1
           ]
          },
          {
           "hoverinfo": "none",
           "marker": {
            "color": "rgb(255, 255, 255)",
            "line": {
             "color": "rgb(0, 0, 0)",
             "width": 2
            },
            "size": 20
           },
           "mode": "markers+text",
           "text": [
            "2"
           ],
           "textfont": {
            "color": "rgb(0, 0, 0)"
           },
           "textposition": "middle center",
           "x": [
            0
           ],
           "y": [
            0
           ]
          },
          {
           "hoverinfo": "none",
           "marker": {
            "color": "rgb(255, 0, 0)",
            "line": {
             "color": "rgb(0, 0, 0)",
             "width": 2
            },
            "size": 20
           },
           "mode": "markers+text",
           "text": [
            "1"
           ],
           "textfont": {
            "color": "rgb(255, 255, 255)"
           },
           "textposition": "middle center",
           "x": [
            0.3
           ],
           "y": [
            0
           ]
          },
          {
           "hoverinfo": "none",
           "marker": {
            "color": "rgb(255, 255, 255)",
            "line": {
             "color": "rgb(0, 0, 0)",
             "width": 2
            },
            "size": 20
           },
           "mode": "markers+text",
           "text": [
            "∞"
           ],
           "textfont": {
            "color": "rgb(0, 0, 0)"
           },
           "textposition": "middle center",
           "x": [
            0.7
           ],
           "y": [
            0
           ]
          },
          {
           "hoverinfo": "none",
           "marker": {
            "color": "rgb(255, 255, 255)",
            "line": {
             "color": "rgb(0, 0, 0)",
             "width": 2
            },
            "size": 20
           },
           "mode": "markers+text",
           "text": [
            "∞"
           ],
           "textfont": {
            "color": "rgb(0, 0, 0)"
           },
           "textposition": "middle center",
           "x": [
            1
           ],
           "y": [
            0
           ]
          }
         ],
         "name": 15
        },
        {
         "data": [
          {
           "hoverinfo": "none",
           "line": {
            "color": "rgb(0, 0, 0)",
            "width": 2
           },
           "mode": "lines",
           "x": [
            0,
            0.3,
            null
           ],
           "y": [
            1,
            1,
            null
           ]
          },
          {
           "hoverinfo": "none",
           "line": {
            "color": "rgb(0, 0, 0)",
            "width": 2
           },
           "mode": "lines",
           "x": [
            0,
            0,
            null
           ],
           "y": [
            1,
            0,
            null
           ]
          },
          {
           "hoverinfo": "none",
           "line": {
            "color": "rgb(0, 0, 0)",
            "width": 2
           },
           "mode": "lines",
           "x": [
            0.3,
            0.3,
            null
           ],
           "y": [
            1,
            0,
            null
           ]
          },
          {
           "hoverinfo": "none",
           "line": {
            "color": "rgb(0, 0, 0)",
            "width": 2
           },
           "mode": "lines",
           "x": [
            0.7,
            1,
            null
           ],
           "y": [
            1,
            1,
            null
           ]
          },
          {
           "hoverinfo": "none",
           "line": {
            "color": "rgb(255, 0, 0)",
            "width": 2
           },
           "mode": "lines",
           "x": [
            0.7,
            0.3,
            null
           ],
           "y": [
            1,
            0,
            null
           ]
          },
          {
           "hoverinfo": "none",
           "line": {
            "color": "rgb(0, 0, 0)",
            "width": 2
           },
           "mode": "lines",
           "x": [
            0.7,
            0.7,
            null
           ],
           "y": [
            1,
            0,
            null
           ]
          },
          {
           "hoverinfo": "none",
           "line": {
            "color": "rgb(0, 0, 0)",
            "width": 2
           },
           "mode": "lines",
           "x": [
            1,
            0.7,
            null
           ],
           "y": [
            1,
            0,
            null
           ]
          },
          {
           "hoverinfo": "none",
           "line": {
            "color": "rgb(0, 0, 0)",
            "width": 2
           },
           "mode": "lines",
           "x": [
            1,
            1,
            null
           ],
           "y": [
            1,
            0,
            null
           ]
          },
          {
           "hoverinfo": "none",
           "line": {
            "color": "rgb(0, 0, 0)",
            "width": 2
           },
           "mode": "lines",
           "x": [
            0.3,
            0.7,
            null
           ],
           "y": [
            0,
            0,
            null
           ]
          },
          {
           "hoverinfo": "none",
           "line": {
            "color": "rgb(0, 0, 0)",
            "width": 2
           },
           "mode": "lines",
           "x": [
            0.7,
            1,
            null
           ],
           "y": [
            0,
            0,
            null
           ]
          },
          {
           "hoverinfo": "none",
           "marker": {
            "color": "rgb(0, 0, 255)",
            "line": {
             "color": "rgb(0, 0, 0)",
             "width": 2
            },
            "size": 20
           },
           "mode": "markers+text",
           "text": [
            "1"
           ],
           "textfont": {
            "color": "rgb(255, 255, 255)"
           },
           "textposition": "middle center",
           "x": [
            0
           ],
           "y": [
            1
           ]
          },
          {
           "hoverinfo": "none",
           "marker": {
            "color": "rgb(0, 0, 255)",
            "line": {
             "color": "rgb(0, 0, 0)",
             "width": 2
            },
            "size": 20
           },
           "mode": "markers+text",
           "text": [
            "0"
           ],
           "textfont": {
            "color": "rgb(255, 255, 255)"
           },
           "textposition": "middle center",
           "x": [
            0.3
           ],
           "y": [
            1
           ]
          },
          {
           "hoverinfo": "none",
           "marker": {
            "color": "rgb(255, 255, 255)",
            "line": {
             "color": "rgb(0, 0, 0)",
             "width": 2
            },
            "size": 20
           },
           "mode": "markers+text",
           "text": [
            "∞"
           ],
           "textfont": {
            "color": "rgb(0, 0, 0)"
           },
           "textposition": "middle center",
           "x": [
            0.7
           ],
           "y": [
            1
           ]
          },
          {
           "hoverinfo": "none",
           "marker": {
            "color": "rgb(255, 255, 255)",
            "line": {
             "color": "rgb(0, 0, 0)",
             "width": 2
            },
            "size": 20
           },
           "mode": "markers+text",
           "text": [
            "∞"
           ],
           "textfont": {
            "color": "rgb(0, 0, 0)"
           },
           "textposition": "middle center",
           "x": [
            1
           ],
           "y": [
            1
           ]
          },
          {
           "hoverinfo": "none",
           "marker": {
            "color": "rgb(255, 255, 255)",
            "line": {
             "color": "rgb(0, 0, 0)",
             "width": 2
            },
            "size": 20
           },
           "mode": "markers+text",
           "text": [
            "2"
           ],
           "textfont": {
            "color": "rgb(0, 0, 0)"
           },
           "textposition": "middle center",
           "x": [
            0
           ],
           "y": [
            0
           ]
          },
          {
           "hoverinfo": "none",
           "marker": {
            "color": "rgb(255, 0, 0)",
            "line": {
             "color": "rgb(0, 0, 0)",
             "width": 2
            },
            "size": 20
           },
           "mode": "markers+text",
           "text": [
            "1"
           ],
           "textfont": {
            "color": "rgb(255, 255, 255)"
           },
           "textposition": "middle center",
           "x": [
            0.3
           ],
           "y": [
            0
           ]
          },
          {
           "hoverinfo": "none",
           "marker": {
            "color": "rgb(255, 255, 255)",
            "line": {
             "color": "rgb(0, 0, 0)",
             "width": 2
            },
            "size": 20
           },
           "mode": "markers+text",
           "text": [
            "∞"
           ],
           "textfont": {
            "color": "rgb(0, 0, 0)"
           },
           "textposition": "middle center",
           "x": [
            0.7
           ],
           "y": [
            0
           ]
          },
          {
           "hoverinfo": "none",
           "marker": {
            "color": "rgb(255, 255, 255)",
            "line": {
             "color": "rgb(0, 0, 0)",
             "width": 2
            },
            "size": 20
           },
           "mode": "markers+text",
           "text": [
            "∞"
           ],
           "textfont": {
            "color": "rgb(0, 0, 0)"
           },
           "textposition": "middle center",
           "x": [
            1
           ],
           "y": [
            0
           ]
          }
         ],
         "name": 16
        },
        {
         "data": [
          {
           "hoverinfo": "none",
           "line": {
            "color": "rgb(0, 0, 0)",
            "width": 2
           },
           "mode": "lines",
           "x": [
            0,
            0.3,
            null
           ],
           "y": [
            1,
            1,
            null
           ]
          },
          {
           "hoverinfo": "none",
           "line": {
            "color": "rgb(0, 0, 0)",
            "width": 2
           },
           "mode": "lines",
           "x": [
            0,
            0,
            null
           ],
           "y": [
            1,
            0,
            null
           ]
          },
          {
           "hoverinfo": "none",
           "line": {
            "color": "rgb(0, 0, 0)",
            "width": 2
           },
           "mode": "lines",
           "x": [
            0.3,
            0.3,
            null
           ],
           "y": [
            1,
            0,
            null
           ]
          },
          {
           "hoverinfo": "none",
           "line": {
            "color": "rgb(0, 0, 0)",
            "width": 2
           },
           "mode": "lines",
           "x": [
            0.7,
            1,
            null
           ],
           "y": [
            1,
            1,
            null
           ]
          },
          {
           "hoverinfo": "none",
           "line": {
            "color": "rgb(0, 0, 0)",
            "width": 2
           },
           "mode": "lines",
           "x": [
            0.7,
            0.3,
            null
           ],
           "y": [
            1,
            0,
            null
           ]
          },
          {
           "hoverinfo": "none",
           "line": {
            "color": "rgb(0, 0, 0)",
            "width": 2
           },
           "mode": "lines",
           "x": [
            0.7,
            0.7,
            null
           ],
           "y": [
            1,
            0,
            null
           ]
          },
          {
           "hoverinfo": "none",
           "line": {
            "color": "rgb(0, 0, 0)",
            "width": 2
           },
           "mode": "lines",
           "x": [
            1,
            0.7,
            null
           ],
           "y": [
            1,
            0,
            null
           ]
          },
          {
           "hoverinfo": "none",
           "line": {
            "color": "rgb(0, 0, 0)",
            "width": 2
           },
           "mode": "lines",
           "x": [
            1,
            1,
            null
           ],
           "y": [
            1,
            0,
            null
           ]
          },
          {
           "hoverinfo": "none",
           "line": {
            "color": "rgb(0, 0, 0)",
            "width": 2
           },
           "mode": "lines",
           "x": [
            0.3,
            0.7,
            null
           ],
           "y": [
            0,
            0,
            null
           ]
          },
          {
           "hoverinfo": "none",
           "line": {
            "color": "rgb(0, 0, 0)",
            "width": 2
           },
           "mode": "lines",
           "x": [
            0.7,
            1,
            null
           ],
           "y": [
            0,
            0,
            null
           ]
          },
          {
           "hoverinfo": "none",
           "marker": {
            "color": "rgb(0, 0, 255)",
            "line": {
             "color": "rgb(0, 0, 0)",
             "width": 2
            },
            "size": 20
           },
           "mode": "markers+text",
           "text": [
            "1"
           ],
           "textfont": {
            "color": "rgb(255, 255, 255)"
           },
           "textposition": "middle center",
           "x": [
            0
           ],
           "y": [
            1
           ]
          },
          {
           "hoverinfo": "none",
           "marker": {
            "color": "rgb(0, 0, 255)",
            "line": {
             "color": "rgb(0, 0, 0)",
             "width": 2
            },
            "size": 20
           },
           "mode": "markers+text",
           "text": [
            "0"
           ],
           "textfont": {
            "color": "rgb(255, 255, 255)"
           },
           "textposition": "middle center",
           "x": [
            0.3
           ],
           "y": [
            1
           ]
          },
          {
           "hoverinfo": "none",
           "marker": {
            "color": "rgb(255, 255, 255)",
            "line": {
             "color": "rgb(0, 0, 0)",
             "width": 2
            },
            "size": 20
           },
           "mode": "markers+text",
           "text": [
            "2"
           ],
           "textfont": {
            "color": "rgb(0, 0, 0)"
           },
           "textposition": "middle center",
           "x": [
            0.7
           ],
           "y": [
            1
           ]
          },
          {
           "hoverinfo": "none",
           "marker": {
            "color": "rgb(255, 255, 255)",
            "line": {
             "color": "rgb(0, 0, 0)",
             "width": 2
            },
            "size": 20
           },
           "mode": "markers+text",
           "text": [
            "∞"
           ],
           "textfont": {
            "color": "rgb(0, 0, 0)"
           },
           "textposition": "middle center",
           "x": [
            1
           ],
           "y": [
            1
           ]
          },
          {
           "hoverinfo": "none",
           "marker": {
            "color": "rgb(255, 255, 255)",
            "line": {
             "color": "rgb(0, 0, 0)",
             "width": 2
            },
            "size": 20
           },
           "mode": "markers+text",
           "text": [
            "2"
           ],
           "textfont": {
            "color": "rgb(0, 0, 0)"
           },
           "textposition": "middle center",
           "x": [
            0
           ],
           "y": [
            0
           ]
          },
          {
           "hoverinfo": "none",
           "marker": {
            "color": "rgb(255, 0, 0)",
            "line": {
             "color": "rgb(0, 0, 0)",
             "width": 2
            },
            "size": 20
           },
           "mode": "markers+text",
           "text": [
            "1"
           ],
           "textfont": {
            "color": "rgb(255, 255, 255)"
           },
           "textposition": "middle center",
           "x": [
            0.3
           ],
           "y": [
            0
           ]
          },
          {
           "hoverinfo": "none",
           "marker": {
            "color": "rgb(255, 255, 255)",
            "line": {
             "color": "rgb(0, 0, 0)",
             "width": 2
            },
            "size": 20
           },
           "mode": "markers+text",
           "text": [
            "∞"
           ],
           "textfont": {
            "color": "rgb(0, 0, 0)"
           },
           "textposition": "middle center",
           "x": [
            0.7
           ],
           "y": [
            0
           ]
          },
          {
           "hoverinfo": "none",
           "marker": {
            "color": "rgb(255, 255, 255)",
            "line": {
             "color": "rgb(0, 0, 0)",
             "width": 2
            },
            "size": 20
           },
           "mode": "markers+text",
           "text": [
            "∞"
           ],
           "textfont": {
            "color": "rgb(0, 0, 0)"
           },
           "textposition": "middle center",
           "x": [
            1
           ],
           "y": [
            0
           ]
          }
         ],
         "name": 17
        },
        {
         "data": [
          {
           "hoverinfo": "none",
           "line": {
            "color": "rgb(0, 0, 0)",
            "width": 2
           },
           "mode": "lines",
           "x": [
            0,
            0.3,
            null
           ],
           "y": [
            1,
            1,
            null
           ]
          },
          {
           "hoverinfo": "none",
           "line": {
            "color": "rgb(0, 0, 0)",
            "width": 2
           },
           "mode": "lines",
           "x": [
            0,
            0,
            null
           ],
           "y": [
            1,
            0,
            null
           ]
          },
          {
           "hoverinfo": "none",
           "line": {
            "color": "rgb(0, 0, 0)",
            "width": 2
           },
           "mode": "lines",
           "x": [
            0.3,
            0.3,
            null
           ],
           "y": [
            1,
            0,
            null
           ]
          },
          {
           "hoverinfo": "none",
           "line": {
            "color": "rgb(0, 0, 0)",
            "width": 2
           },
           "mode": "lines",
           "x": [
            0.7,
            1,
            null
           ],
           "y": [
            1,
            1,
            null
           ]
          },
          {
           "hoverinfo": "none",
           "line": {
            "color": "rgb(0, 0, 0)",
            "width": 2
           },
           "mode": "lines",
           "x": [
            0.7,
            0.3,
            null
           ],
           "y": [
            1,
            0,
            null
           ]
          },
          {
           "hoverinfo": "none",
           "line": {
            "color": "rgb(0, 0, 0)",
            "width": 2
           },
           "mode": "lines",
           "x": [
            0.7,
            0.7,
            null
           ],
           "y": [
            1,
            0,
            null
           ]
          },
          {
           "hoverinfo": "none",
           "line": {
            "color": "rgb(0, 0, 0)",
            "width": 2
           },
           "mode": "lines",
           "x": [
            1,
            0.7,
            null
           ],
           "y": [
            1,
            0,
            null
           ]
          },
          {
           "hoverinfo": "none",
           "line": {
            "color": "rgb(0, 0, 0)",
            "width": 2
           },
           "mode": "lines",
           "x": [
            1,
            1,
            null
           ],
           "y": [
            1,
            0,
            null
           ]
          },
          {
           "hoverinfo": "none",
           "line": {
            "color": "rgb(255, 0, 0)",
            "width": 2
           },
           "mode": "lines",
           "x": [
            0.3,
            0.7,
            null
           ],
           "y": [
            0,
            0,
            null
           ]
          },
          {
           "hoverinfo": "none",
           "line": {
            "color": "rgb(0, 0, 0)",
            "width": 2
           },
           "mode": "lines",
           "x": [
            0.7,
            1,
            null
           ],
           "y": [
            0,
            0,
            null
           ]
          },
          {
           "hoverinfo": "none",
           "marker": {
            "color": "rgb(0, 0, 255)",
            "line": {
             "color": "rgb(0, 0, 0)",
             "width": 2
            },
            "size": 20
           },
           "mode": "markers+text",
           "text": [
            "1"
           ],
           "textfont": {
            "color": "rgb(255, 255, 255)"
           },
           "textposition": "middle center",
           "x": [
            0
           ],
           "y": [
            1
           ]
          },
          {
           "hoverinfo": "none",
           "marker": {
            "color": "rgb(0, 0, 255)",
            "line": {
             "color": "rgb(0, 0, 0)",
             "width": 2
            },
            "size": 20
           },
           "mode": "markers+text",
           "text": [
            "0"
           ],
           "textfont": {
            "color": "rgb(255, 255, 255)"
           },
           "textposition": "middle center",
           "x": [
            0.3
           ],
           "y": [
            1
           ]
          },
          {
           "hoverinfo": "none",
           "marker": {
            "color": "rgb(255, 255, 255)",
            "line": {
             "color": "rgb(0, 0, 0)",
             "width": 2
            },
            "size": 20
           },
           "mode": "markers+text",
           "text": [
            "2"
           ],
           "textfont": {
            "color": "rgb(0, 0, 0)"
           },
           "textposition": "middle center",
           "x": [
            0.7
           ],
           "y": [
            1
           ]
          },
          {
           "hoverinfo": "none",
           "marker": {
            "color": "rgb(255, 255, 255)",
            "line": {
             "color": "rgb(0, 0, 0)",
             "width": 2
            },
            "size": 20
           },
           "mode": "markers+text",
           "text": [
            "∞"
           ],
           "textfont": {
            "color": "rgb(0, 0, 0)"
           },
           "textposition": "middle center",
           "x": [
            1
           ],
           "y": [
            1
           ]
          },
          {
           "hoverinfo": "none",
           "marker": {
            "color": "rgb(255, 255, 255)",
            "line": {
             "color": "rgb(0, 0, 0)",
             "width": 2
            },
            "size": 20
           },
           "mode": "markers+text",
           "text": [
            "2"
           ],
           "textfont": {
            "color": "rgb(0, 0, 0)"
           },
           "textposition": "middle center",
           "x": [
            0
           ],
           "y": [
            0
           ]
          },
          {
           "hoverinfo": "none",
           "marker": {
            "color": "rgb(255, 0, 0)",
            "line": {
             "color": "rgb(0, 0, 0)",
             "width": 2
            },
            "size": 20
           },
           "mode": "markers+text",
           "text": [
            "1"
           ],
           "textfont": {
            "color": "rgb(255, 255, 255)"
           },
           "textposition": "middle center",
           "x": [
            0.3
           ],
           "y": [
            0
           ]
          },
          {
           "hoverinfo": "none",
           "marker": {
            "color": "rgb(255, 255, 255)",
            "line": {
             "color": "rgb(0, 0, 0)",
             "width": 2
            },
            "size": 20
           },
           "mode": "markers+text",
           "text": [
            "∞"
           ],
           "textfont": {
            "color": "rgb(0, 0, 0)"
           },
           "textposition": "middle center",
           "x": [
            0.7
           ],
           "y": [
            0
           ]
          },
          {
           "hoverinfo": "none",
           "marker": {
            "color": "rgb(255, 255, 255)",
            "line": {
             "color": "rgb(0, 0, 0)",
             "width": 2
            },
            "size": 20
           },
           "mode": "markers+text",
           "text": [
            "∞"
           ],
           "textfont": {
            "color": "rgb(0, 0, 0)"
           },
           "textposition": "middle center",
           "x": [
            1
           ],
           "y": [
            0
           ]
          }
         ],
         "name": 18
        },
        {
         "data": [
          {
           "hoverinfo": "none",
           "line": {
            "color": "rgb(0, 0, 0)",
            "width": 2
           },
           "mode": "lines",
           "x": [
            0,
            0.3,
            null
           ],
           "y": [
            1,
            1,
            null
           ]
          },
          {
           "hoverinfo": "none",
           "line": {
            "color": "rgb(0, 0, 0)",
            "width": 2
           },
           "mode": "lines",
           "x": [
            0,
            0,
            null
           ],
           "y": [
            1,
            0,
            null
           ]
          },
          {
           "hoverinfo": "none",
           "line": {
            "color": "rgb(0, 0, 0)",
            "width": 2
           },
           "mode": "lines",
           "x": [
            0.3,
            0.3,
            null
           ],
           "y": [
            1,
            0,
            null
           ]
          },
          {
           "hoverinfo": "none",
           "line": {
            "color": "rgb(0, 0, 0)",
            "width": 2
           },
           "mode": "lines",
           "x": [
            0.7,
            1,
            null
           ],
           "y": [
            1,
            1,
            null
           ]
          },
          {
           "hoverinfo": "none",
           "line": {
            "color": "rgb(0, 0, 0)",
            "width": 2
           },
           "mode": "lines",
           "x": [
            0.7,
            0.3,
            null
           ],
           "y": [
            1,
            0,
            null
           ]
          },
          {
           "hoverinfo": "none",
           "line": {
            "color": "rgb(0, 0, 0)",
            "width": 2
           },
           "mode": "lines",
           "x": [
            0.7,
            0.7,
            null
           ],
           "y": [
            1,
            0,
            null
           ]
          },
          {
           "hoverinfo": "none",
           "line": {
            "color": "rgb(0, 0, 0)",
            "width": 2
           },
           "mode": "lines",
           "x": [
            1,
            0.7,
            null
           ],
           "y": [
            1,
            0,
            null
           ]
          },
          {
           "hoverinfo": "none",
           "line": {
            "color": "rgb(0, 0, 0)",
            "width": 2
           },
           "mode": "lines",
           "x": [
            1,
            1,
            null
           ],
           "y": [
            1,
            0,
            null
           ]
          },
          {
           "hoverinfo": "none",
           "line": {
            "color": "rgb(0, 0, 0)",
            "width": 2
           },
           "mode": "lines",
           "x": [
            0.3,
            0.7,
            null
           ],
           "y": [
            0,
            0,
            null
           ]
          },
          {
           "hoverinfo": "none",
           "line": {
            "color": "rgb(0, 0, 0)",
            "width": 2
           },
           "mode": "lines",
           "x": [
            0.7,
            1,
            null
           ],
           "y": [
            0,
            0,
            null
           ]
          },
          {
           "hoverinfo": "none",
           "marker": {
            "color": "rgb(0, 0, 255)",
            "line": {
             "color": "rgb(0, 0, 0)",
             "width": 2
            },
            "size": 20
           },
           "mode": "markers+text",
           "text": [
            "1"
           ],
           "textfont": {
            "color": "rgb(255, 255, 255)"
           },
           "textposition": "middle center",
           "x": [
            0
           ],
           "y": [
            1
           ]
          },
          {
           "hoverinfo": "none",
           "marker": {
            "color": "rgb(0, 0, 255)",
            "line": {
             "color": "rgb(0, 0, 0)",
             "width": 2
            },
            "size": 20
           },
           "mode": "markers+text",
           "text": [
            "0"
           ],
           "textfont": {
            "color": "rgb(255, 255, 255)"
           },
           "textposition": "middle center",
           "x": [
            0.3
           ],
           "y": [
            1
           ]
          },
          {
           "hoverinfo": "none",
           "marker": {
            "color": "rgb(255, 255, 255)",
            "line": {
             "color": "rgb(0, 0, 0)",
             "width": 2
            },
            "size": 20
           },
           "mode": "markers+text",
           "text": [
            "2"
           ],
           "textfont": {
            "color": "rgb(0, 0, 0)"
           },
           "textposition": "middle center",
           "x": [
            0.7
           ],
           "y": [
            1
           ]
          },
          {
           "hoverinfo": "none",
           "marker": {
            "color": "rgb(255, 255, 255)",
            "line": {
             "color": "rgb(0, 0, 0)",
             "width": 2
            },
            "size": 20
           },
           "mode": "markers+text",
           "text": [
            "∞"
           ],
           "textfont": {
            "color": "rgb(0, 0, 0)"
           },
           "textposition": "middle center",
           "x": [
            1
           ],
           "y": [
            1
           ]
          },
          {
           "hoverinfo": "none",
           "marker": {
            "color": "rgb(255, 255, 255)",
            "line": {
             "color": "rgb(0, 0, 0)",
             "width": 2
            },
            "size": 20
           },
           "mode": "markers+text",
           "text": [
            "2"
           ],
           "textfont": {
            "color": "rgb(0, 0, 0)"
           },
           "textposition": "middle center",
           "x": [
            0
           ],
           "y": [
            0
           ]
          },
          {
           "hoverinfo": "none",
           "marker": {
            "color": "rgb(255, 0, 0)",
            "line": {
             "color": "rgb(0, 0, 0)",
             "width": 2
            },
            "size": 20
           },
           "mode": "markers+text",
           "text": [
            "1"
           ],
           "textfont": {
            "color": "rgb(255, 255, 255)"
           },
           "textposition": "middle center",
           "x": [
            0.3
           ],
           "y": [
            0
           ]
          },
          {
           "hoverinfo": "none",
           "marker": {
            "color": "rgb(255, 255, 255)",
            "line": {
             "color": "rgb(0, 0, 0)",
             "width": 2
            },
            "size": 20
           },
           "mode": "markers+text",
           "text": [
            "2"
           ],
           "textfont": {
            "color": "rgb(0, 0, 0)"
           },
           "textposition": "middle center",
           "x": [
            0.7
           ],
           "y": [
            0
           ]
          },
          {
           "hoverinfo": "none",
           "marker": {
            "color": "rgb(255, 255, 255)",
            "line": {
             "color": "rgb(0, 0, 0)",
             "width": 2
            },
            "size": 20
           },
           "mode": "markers+text",
           "text": [
            "∞"
           ],
           "textfont": {
            "color": "rgb(0, 0, 0)"
           },
           "textposition": "middle center",
           "x": [
            1
           ],
           "y": [
            0
           ]
          }
         ],
         "name": 19
        },
        {
         "data": [
          {
           "hoverinfo": "none",
           "line": {
            "color": "rgb(0, 0, 0)",
            "width": 2
           },
           "mode": "lines",
           "x": [
            0,
            0.3,
            null
           ],
           "y": [
            1,
            1,
            null
           ]
          },
          {
           "hoverinfo": "none",
           "line": {
            "color": "rgb(0, 0, 0)",
            "width": 2
           },
           "mode": "lines",
           "x": [
            0,
            0,
            null
           ],
           "y": [
            1,
            0,
            null
           ]
          },
          {
           "hoverinfo": "none",
           "line": {
            "color": "rgb(0, 0, 0)",
            "width": 2
           },
           "mode": "lines",
           "x": [
            0.3,
            0.3,
            null
           ],
           "y": [
            1,
            0,
            null
           ]
          },
          {
           "hoverinfo": "none",
           "line": {
            "color": "rgb(0, 0, 0)",
            "width": 2
           },
           "mode": "lines",
           "x": [
            0.7,
            1,
            null
           ],
           "y": [
            1,
            1,
            null
           ]
          },
          {
           "hoverinfo": "none",
           "line": {
            "color": "rgb(0, 0, 0)",
            "width": 2
           },
           "mode": "lines",
           "x": [
            0.7,
            0.3,
            null
           ],
           "y": [
            1,
            0,
            null
           ]
          },
          {
           "hoverinfo": "none",
           "line": {
            "color": "rgb(0, 0, 0)",
            "width": 2
           },
           "mode": "lines",
           "x": [
            0.7,
            0.7,
            null
           ],
           "y": [
            1,
            0,
            null
           ]
          },
          {
           "hoverinfo": "none",
           "line": {
            "color": "rgb(0, 0, 0)",
            "width": 2
           },
           "mode": "lines",
           "x": [
            1,
            0.7,
            null
           ],
           "y": [
            1,
            0,
            null
           ]
          },
          {
           "hoverinfo": "none",
           "line": {
            "color": "rgb(0, 0, 0)",
            "width": 2
           },
           "mode": "lines",
           "x": [
            1,
            1,
            null
           ],
           "y": [
            1,
            0,
            null
           ]
          },
          {
           "hoverinfo": "none",
           "line": {
            "color": "rgb(0, 0, 0)",
            "width": 2
           },
           "mode": "lines",
           "x": [
            0.3,
            0.7,
            null
           ],
           "y": [
            0,
            0,
            null
           ]
          },
          {
           "hoverinfo": "none",
           "line": {
            "color": "rgb(0, 0, 0)",
            "width": 2
           },
           "mode": "lines",
           "x": [
            0.7,
            1,
            null
           ],
           "y": [
            0,
            0,
            null
           ]
          },
          {
           "hoverinfo": "none",
           "marker": {
            "color": "rgb(0, 0, 255)",
            "line": {
             "color": "rgb(0, 0, 0)",
             "width": 2
            },
            "size": 20
           },
           "mode": "markers+text",
           "text": [
            "1"
           ],
           "textfont": {
            "color": "rgb(255, 255, 255)"
           },
           "textposition": "middle center",
           "x": [
            0
           ],
           "y": [
            1
           ]
          },
          {
           "hoverinfo": "none",
           "marker": {
            "color": "rgb(0, 0, 255)",
            "line": {
             "color": "rgb(0, 0, 0)",
             "width": 2
            },
            "size": 20
           },
           "mode": "markers+text",
           "text": [
            "0"
           ],
           "textfont": {
            "color": "rgb(255, 255, 255)"
           },
           "textposition": "middle center",
           "x": [
            0.3
           ],
           "y": [
            1
           ]
          },
          {
           "hoverinfo": "none",
           "marker": {
            "color": "rgb(255, 255, 255)",
            "line": {
             "color": "rgb(0, 0, 0)",
             "width": 2
            },
            "size": 20
           },
           "mode": "markers+text",
           "text": [
            "2"
           ],
           "textfont": {
            "color": "rgb(0, 0, 0)"
           },
           "textposition": "middle center",
           "x": [
            0.7
           ],
           "y": [
            1
           ]
          },
          {
           "hoverinfo": "none",
           "marker": {
            "color": "rgb(255, 255, 255)",
            "line": {
             "color": "rgb(0, 0, 0)",
             "width": 2
            },
            "size": 20
           },
           "mode": "markers+text",
           "text": [
            "∞"
           ],
           "textfont": {
            "color": "rgb(0, 0, 0)"
           },
           "textposition": "middle center",
           "x": [
            1
           ],
           "y": [
            1
           ]
          },
          {
           "hoverinfo": "none",
           "marker": {
            "color": "rgb(255, 255, 255)",
            "line": {
             "color": "rgb(0, 0, 0)",
             "width": 2
            },
            "size": 20
           },
           "mode": "markers+text",
           "text": [
            "2"
           ],
           "textfont": {
            "color": "rgb(0, 0, 0)"
           },
           "textposition": "middle center",
           "x": [
            0
           ],
           "y": [
            0
           ]
          },
          {
           "hoverinfo": "none",
           "marker": {
            "color": "rgb(0, 0, 255)",
            "line": {
             "color": "rgb(0, 0, 0)",
             "width": 2
            },
            "size": 20
           },
           "mode": "markers+text",
           "text": [
            "1"
           ],
           "textfont": {
            "color": "rgb(255, 255, 255)"
           },
           "textposition": "middle center",
           "x": [
            0.3
           ],
           "y": [
            0
           ]
          },
          {
           "hoverinfo": "none",
           "marker": {
            "color": "rgb(255, 255, 255)",
            "line": {
             "color": "rgb(0, 0, 0)",
             "width": 2
            },
            "size": 20
           },
           "mode": "markers+text",
           "text": [
            "2"
           ],
           "textfont": {
            "color": "rgb(0, 0, 0)"
           },
           "textposition": "middle center",
           "x": [
            0.7
           ],
           "y": [
            0
           ]
          },
          {
           "hoverinfo": "none",
           "marker": {
            "color": "rgb(255, 255, 255)",
            "line": {
             "color": "rgb(0, 0, 0)",
             "width": 2
            },
            "size": 20
           },
           "mode": "markers+text",
           "text": [
            "∞"
           ],
           "textfont": {
            "color": "rgb(0, 0, 0)"
           },
           "textposition": "middle center",
           "x": [
            1
           ],
           "y": [
            0
           ]
          }
         ],
         "name": 20
        },
        {
         "data": [
          {
           "hoverinfo": "none",
           "line": {
            "color": "rgb(0, 0, 0)",
            "width": 2
           },
           "mode": "lines",
           "x": [
            0,
            0.3,
            null
           ],
           "y": [
            1,
            1,
            null
           ]
          },
          {
           "hoverinfo": "none",
           "line": {
            "color": "rgb(0, 0, 0)",
            "width": 2
           },
           "mode": "lines",
           "x": [
            0,
            0,
            null
           ],
           "y": [
            1,
            0,
            null
           ]
          },
          {
           "hoverinfo": "none",
           "line": {
            "color": "rgb(0, 0, 0)",
            "width": 2
           },
           "mode": "lines",
           "x": [
            0.3,
            0.3,
            null
           ],
           "y": [
            1,
            0,
            null
           ]
          },
          {
           "hoverinfo": "none",
           "line": {
            "color": "rgb(0, 0, 0)",
            "width": 2
           },
           "mode": "lines",
           "x": [
            0.7,
            1,
            null
           ],
           "y": [
            1,
            1,
            null
           ]
          },
          {
           "hoverinfo": "none",
           "line": {
            "color": "rgb(0, 0, 0)",
            "width": 2
           },
           "mode": "lines",
           "x": [
            0.7,
            0.3,
            null
           ],
           "y": [
            1,
            0,
            null
           ]
          },
          {
           "hoverinfo": "none",
           "line": {
            "color": "rgb(0, 0, 0)",
            "width": 2
           },
           "mode": "lines",
           "x": [
            0.7,
            0.7,
            null
           ],
           "y": [
            1,
            0,
            null
           ]
          },
          {
           "hoverinfo": "none",
           "line": {
            "color": "rgb(0, 0, 0)",
            "width": 2
           },
           "mode": "lines",
           "x": [
            1,
            0.7,
            null
           ],
           "y": [
            1,
            0,
            null
           ]
          },
          {
           "hoverinfo": "none",
           "line": {
            "color": "rgb(0, 0, 0)",
            "width": 2
           },
           "mode": "lines",
           "x": [
            1,
            1,
            null
           ],
           "y": [
            1,
            0,
            null
           ]
          },
          {
           "hoverinfo": "none",
           "line": {
            "color": "rgb(0, 0, 0)",
            "width": 2
           },
           "mode": "lines",
           "x": [
            0.3,
            0.7,
            null
           ],
           "y": [
            0,
            0,
            null
           ]
          },
          {
           "hoverinfo": "none",
           "line": {
            "color": "rgb(0, 0, 0)",
            "width": 2
           },
           "mode": "lines",
           "x": [
            0.7,
            1,
            null
           ],
           "y": [
            0,
            0,
            null
           ]
          },
          {
           "hoverinfo": "none",
           "marker": {
            "color": "rgb(0, 0, 255)",
            "line": {
             "color": "rgb(0, 0, 0)",
             "width": 2
            },
            "size": 20
           },
           "mode": "markers+text",
           "text": [
            "1"
           ],
           "textfont": {
            "color": "rgb(255, 255, 255)"
           },
           "textposition": "middle center",
           "x": [
            0
           ],
           "y": [
            1
           ]
          },
          {
           "hoverinfo": "none",
           "marker": {
            "color": "rgb(0, 0, 255)",
            "line": {
             "color": "rgb(0, 0, 0)",
             "width": 2
            },
            "size": 20
           },
           "mode": "markers+text",
           "text": [
            "0"
           ],
           "textfont": {
            "color": "rgb(255, 255, 255)"
           },
           "textposition": "middle center",
           "x": [
            0.3
           ],
           "y": [
            1
           ]
          },
          {
           "hoverinfo": "none",
           "marker": {
            "color": "rgb(255, 255, 255)",
            "line": {
             "color": "rgb(0, 0, 0)",
             "width": 2
            },
            "size": 20
           },
           "mode": "markers+text",
           "text": [
            "2"
           ],
           "textfont": {
            "color": "rgb(0, 0, 0)"
           },
           "textposition": "middle center",
           "x": [
            0.7
           ],
           "y": [
            1
           ]
          },
          {
           "hoverinfo": "none",
           "marker": {
            "color": "rgb(255, 255, 255)",
            "line": {
             "color": "rgb(0, 0, 0)",
             "width": 2
            },
            "size": 20
           },
           "mode": "markers+text",
           "text": [
            "∞"
           ],
           "textfont": {
            "color": "rgb(0, 0, 0)"
           },
           "textposition": "middle center",
           "x": [
            1
           ],
           "y": [
            1
           ]
          },
          {
           "hoverinfo": "none",
           "marker": {
            "color": "rgb(255, 0, 0)",
            "line": {
             "color": "rgb(0, 0, 0)",
             "width": 2
            },
            "size": 20
           },
           "mode": "markers+text",
           "text": [
            "2"
           ],
           "textfont": {
            "color": "rgb(255, 255, 255)"
           },
           "textposition": "middle center",
           "x": [
            0
           ],
           "y": [
            0
           ]
          },
          {
           "hoverinfo": "none",
           "marker": {
            "color": "rgb(0, 0, 255)",
            "line": {
             "color": "rgb(0, 0, 0)",
             "width": 2
            },
            "size": 20
           },
           "mode": "markers+text",
           "text": [
            "1"
           ],
           "textfont": {
            "color": "rgb(255, 255, 255)"
           },
           "textposition": "middle center",
           "x": [
            0.3
           ],
           "y": [
            0
           ]
          },
          {
           "hoverinfo": "none",
           "marker": {
            "color": "rgb(255, 255, 255)",
            "line": {
             "color": "rgb(0, 0, 0)",
             "width": 2
            },
            "size": 20
           },
           "mode": "markers+text",
           "text": [
            "2"
           ],
           "textfont": {
            "color": "rgb(0, 0, 0)"
           },
           "textposition": "middle center",
           "x": [
            0.7
           ],
           "y": [
            0
           ]
          },
          {
           "hoverinfo": "none",
           "marker": {
            "color": "rgb(255, 255, 255)",
            "line": {
             "color": "rgb(0, 0, 0)",
             "width": 2
            },
            "size": 20
           },
           "mode": "markers+text",
           "text": [
            "∞"
           ],
           "textfont": {
            "color": "rgb(0, 0, 0)"
           },
           "textposition": "middle center",
           "x": [
            1
           ],
           "y": [
            0
           ]
          }
         ],
         "name": 21
        },
        {
         "data": [
          {
           "hoverinfo": "none",
           "line": {
            "color": "rgb(0, 0, 0)",
            "width": 2
           },
           "mode": "lines",
           "x": [
            0,
            0.3,
            null
           ],
           "y": [
            1,
            1,
            null
           ]
          },
          {
           "hoverinfo": "none",
           "line": {
            "color": "rgb(255, 0, 0)",
            "width": 2
           },
           "mode": "lines",
           "x": [
            0,
            0,
            null
           ],
           "y": [
            1,
            0,
            null
           ]
          },
          {
           "hoverinfo": "none",
           "line": {
            "color": "rgb(0, 0, 0)",
            "width": 2
           },
           "mode": "lines",
           "x": [
            0.3,
            0.3,
            null
           ],
           "y": [
            1,
            0,
            null
           ]
          },
          {
           "hoverinfo": "none",
           "line": {
            "color": "rgb(0, 0, 0)",
            "width": 2
           },
           "mode": "lines",
           "x": [
            0.7,
            1,
            null
           ],
           "y": [
            1,
            1,
            null
           ]
          },
          {
           "hoverinfo": "none",
           "line": {
            "color": "rgb(0, 0, 0)",
            "width": 2
           },
           "mode": "lines",
           "x": [
            0.7,
            0.3,
            null
           ],
           "y": [
            1,
            0,
            null
           ]
          },
          {
           "hoverinfo": "none",
           "line": {
            "color": "rgb(0, 0, 0)",
            "width": 2
           },
           "mode": "lines",
           "x": [
            0.7,
            0.7,
            null
           ],
           "y": [
            1,
            0,
            null
           ]
          },
          {
           "hoverinfo": "none",
           "line": {
            "color": "rgb(0, 0, 0)",
            "width": 2
           },
           "mode": "lines",
           "x": [
            1,
            0.7,
            null
           ],
           "y": [
            1,
            0,
            null
           ]
          },
          {
           "hoverinfo": "none",
           "line": {
            "color": "rgb(0, 0, 0)",
            "width": 2
           },
           "mode": "lines",
           "x": [
            1,
            1,
            null
           ],
           "y": [
            1,
            0,
            null
           ]
          },
          {
           "hoverinfo": "none",
           "line": {
            "color": "rgb(0, 0, 0)",
            "width": 2
           },
           "mode": "lines",
           "x": [
            0.3,
            0.7,
            null
           ],
           "y": [
            0,
            0,
            null
           ]
          },
          {
           "hoverinfo": "none",
           "line": {
            "color": "rgb(0, 0, 0)",
            "width": 2
           },
           "mode": "lines",
           "x": [
            0.7,
            1,
            null
           ],
           "y": [
            0,
            0,
            null
           ]
          },
          {
           "hoverinfo": "none",
           "marker": {
            "color": "rgb(0, 0, 255)",
            "line": {
             "color": "rgb(0, 0, 0)",
             "width": 2
            },
            "size": 20
           },
           "mode": "markers+text",
           "text": [
            "1"
           ],
           "textfont": {
            "color": "rgb(255, 255, 255)"
           },
           "textposition": "middle center",
           "x": [
            0
           ],
           "y": [
            1
           ]
          },
          {
           "hoverinfo": "none",
           "marker": {
            "color": "rgb(0, 0, 255)",
            "line": {
             "color": "rgb(0, 0, 0)",
             "width": 2
            },
            "size": 20
           },
           "mode": "markers+text",
           "text": [
            "0"
           ],
           "textfont": {
            "color": "rgb(255, 255, 255)"
           },
           "textposition": "middle center",
           "x": [
            0.3
           ],
           "y": [
            1
           ]
          },
          {
           "hoverinfo": "none",
           "marker": {
            "color": "rgb(255, 255, 255)",
            "line": {
             "color": "rgb(0, 0, 0)",
             "width": 2
            },
            "size": 20
           },
           "mode": "markers+text",
           "text": [
            "2"
           ],
           "textfont": {
            "color": "rgb(0, 0, 0)"
           },
           "textposition": "middle center",
           "x": [
            0.7
           ],
           "y": [
            1
           ]
          },
          {
           "hoverinfo": "none",
           "marker": {
            "color": "rgb(255, 255, 255)",
            "line": {
             "color": "rgb(0, 0, 0)",
             "width": 2
            },
            "size": 20
           },
           "mode": "markers+text",
           "text": [
            "∞"
           ],
           "textfont": {
            "color": "rgb(0, 0, 0)"
           },
           "textposition": "middle center",
           "x": [
            1
           ],
           "y": [
            1
           ]
          },
          {
           "hoverinfo": "none",
           "marker": {
            "color": "rgb(255, 0, 0)",
            "line": {
             "color": "rgb(0, 0, 0)",
             "width": 2
            },
            "size": 20
           },
           "mode": "markers+text",
           "text": [
            "2"
           ],
           "textfont": {
            "color": "rgb(255, 255, 255)"
           },
           "textposition": "middle center",
           "x": [
            0
           ],
           "y": [
            0
           ]
          },
          {
           "hoverinfo": "none",
           "marker": {
            "color": "rgb(0, 0, 255)",
            "line": {
             "color": "rgb(0, 0, 0)",
             "width": 2
            },
            "size": 20
           },
           "mode": "markers+text",
           "text": [
            "1"
           ],
           "textfont": {
            "color": "rgb(255, 255, 255)"
           },
           "textposition": "middle center",
           "x": [
            0.3
           ],
           "y": [
            0
           ]
          },
          {
           "hoverinfo": "none",
           "marker": {
            "color": "rgb(255, 255, 255)",
            "line": {
             "color": "rgb(0, 0, 0)",
             "width": 2
            },
            "size": 20
           },
           "mode": "markers+text",
           "text": [
            "2"
           ],
           "textfont": {
            "color": "rgb(0, 0, 0)"
           },
           "textposition": "middle center",
           "x": [
            0.7
           ],
           "y": [
            0
           ]
          },
          {
           "hoverinfo": "none",
           "marker": {
            "color": "rgb(255, 255, 255)",
            "line": {
             "color": "rgb(0, 0, 0)",
             "width": 2
            },
            "size": 20
           },
           "mode": "markers+text",
           "text": [
            "∞"
           ],
           "textfont": {
            "color": "rgb(0, 0, 0)"
           },
           "textposition": "middle center",
           "x": [
            1
           ],
           "y": [
            0
           ]
          }
         ],
         "name": 22
        },
        {
         "data": [
          {
           "hoverinfo": "none",
           "line": {
            "color": "rgb(0, 0, 0)",
            "width": 2
           },
           "mode": "lines",
           "x": [
            0,
            0.3,
            null
           ],
           "y": [
            1,
            1,
            null
           ]
          },
          {
           "hoverinfo": "none",
           "line": {
            "color": "rgb(0, 0, 0)",
            "width": 2
           },
           "mode": "lines",
           "x": [
            0,
            0,
            null
           ],
           "y": [
            1,
            0,
            null
           ]
          },
          {
           "hoverinfo": "none",
           "line": {
            "color": "rgb(0, 0, 0)",
            "width": 2
           },
           "mode": "lines",
           "x": [
            0.3,
            0.3,
            null
           ],
           "y": [
            1,
            0,
            null
           ]
          },
          {
           "hoverinfo": "none",
           "line": {
            "color": "rgb(0, 0, 0)",
            "width": 2
           },
           "mode": "lines",
           "x": [
            0.7,
            1,
            null
           ],
           "y": [
            1,
            1,
            null
           ]
          },
          {
           "hoverinfo": "none",
           "line": {
            "color": "rgb(0, 0, 0)",
            "width": 2
           },
           "mode": "lines",
           "x": [
            0.7,
            0.3,
            null
           ],
           "y": [
            1,
            0,
            null
           ]
          },
          {
           "hoverinfo": "none",
           "line": {
            "color": "rgb(0, 0, 0)",
            "width": 2
           },
           "mode": "lines",
           "x": [
            0.7,
            0.7,
            null
           ],
           "y": [
            1,
            0,
            null
           ]
          },
          {
           "hoverinfo": "none",
           "line": {
            "color": "rgb(0, 0, 0)",
            "width": 2
           },
           "mode": "lines",
           "x": [
            1,
            0.7,
            null
           ],
           "y": [
            1,
            0,
            null
           ]
          },
          {
           "hoverinfo": "none",
           "line": {
            "color": "rgb(0, 0, 0)",
            "width": 2
           },
           "mode": "lines",
           "x": [
            1,
            1,
            null
           ],
           "y": [
            1,
            0,
            null
           ]
          },
          {
           "hoverinfo": "none",
           "line": {
            "color": "rgb(0, 0, 0)",
            "width": 2
           },
           "mode": "lines",
           "x": [
            0.3,
            0.7,
            null
           ],
           "y": [
            0,
            0,
            null
           ]
          },
          {
           "hoverinfo": "none",
           "line": {
            "color": "rgb(0, 0, 0)",
            "width": 2
           },
           "mode": "lines",
           "x": [
            0.7,
            1,
            null
           ],
           "y": [
            0,
            0,
            null
           ]
          },
          {
           "hoverinfo": "none",
           "marker": {
            "color": "rgb(0, 0, 255)",
            "line": {
             "color": "rgb(0, 0, 0)",
             "width": 2
            },
            "size": 20
           },
           "mode": "markers+text",
           "text": [
            "1"
           ],
           "textfont": {
            "color": "rgb(255, 255, 255)"
           },
           "textposition": "middle center",
           "x": [
            0
           ],
           "y": [
            1
           ]
          },
          {
           "hoverinfo": "none",
           "marker": {
            "color": "rgb(0, 0, 255)",
            "line": {
             "color": "rgb(0, 0, 0)",
             "width": 2
            },
            "size": 20
           },
           "mode": "markers+text",
           "text": [
            "0"
           ],
           "textfont": {
            "color": "rgb(255, 255, 255)"
           },
           "textposition": "middle center",
           "x": [
            0.3
           ],
           "y": [
            1
           ]
          },
          {
           "hoverinfo": "none",
           "marker": {
            "color": "rgb(255, 255, 255)",
            "line": {
             "color": "rgb(0, 0, 0)",
             "width": 2
            },
            "size": 20
           },
           "mode": "markers+text",
           "text": [
            "2"
           ],
           "textfont": {
            "color": "rgb(0, 0, 0)"
           },
           "textposition": "middle center",
           "x": [
            0.7
           ],
           "y": [
            1
           ]
          },
          {
           "hoverinfo": "none",
           "marker": {
            "color": "rgb(255, 255, 255)",
            "line": {
             "color": "rgb(0, 0, 0)",
             "width": 2
            },
            "size": 20
           },
           "mode": "markers+text",
           "text": [
            "∞"
           ],
           "textfont": {
            "color": "rgb(0, 0, 0)"
           },
           "textposition": "middle center",
           "x": [
            1
           ],
           "y": [
            1
           ]
          },
          {
           "hoverinfo": "none",
           "marker": {
            "color": "rgb(255, 0, 0)",
            "line": {
             "color": "rgb(0, 0, 0)",
             "width": 2
            },
            "size": 20
           },
           "mode": "markers+text",
           "text": [
            "2"
           ],
           "textfont": {
            "color": "rgb(255, 255, 255)"
           },
           "textposition": "middle center",
           "x": [
            0
           ],
           "y": [
            0
           ]
          },
          {
           "hoverinfo": "none",
           "marker": {
            "color": "rgb(0, 0, 255)",
            "line": {
             "color": "rgb(0, 0, 0)",
             "width": 2
            },
            "size": 20
           },
           "mode": "markers+text",
           "text": [
            "1"
           ],
           "textfont": {
            "color": "rgb(255, 255, 255)"
           },
           "textposition": "middle center",
           "x": [
            0.3
           ],
           "y": [
            0
           ]
          },
          {
           "hoverinfo": "none",
           "marker": {
            "color": "rgb(255, 255, 255)",
            "line": {
             "color": "rgb(0, 0, 0)",
             "width": 2
            },
            "size": 20
           },
           "mode": "markers+text",
           "text": [
            "2"
           ],
           "textfont": {
            "color": "rgb(0, 0, 0)"
           },
           "textposition": "middle center",
           "x": [
            0.7
           ],
           "y": [
            0
           ]
          },
          {
           "hoverinfo": "none",
           "marker": {
            "color": "rgb(255, 255, 255)",
            "line": {
             "color": "rgb(0, 0, 0)",
             "width": 2
            },
            "size": 20
           },
           "mode": "markers+text",
           "text": [
            "∞"
           ],
           "textfont": {
            "color": "rgb(0, 0, 0)"
           },
           "textposition": "middle center",
           "x": [
            1
           ],
           "y": [
            0
           ]
          }
         ],
         "name": 23
        },
        {
         "data": [
          {
           "hoverinfo": "none",
           "line": {
            "color": "rgb(0, 0, 0)",
            "width": 2
           },
           "mode": "lines",
           "x": [
            0,
            0.3,
            null
           ],
           "y": [
            1,
            1,
            null
           ]
          },
          {
           "hoverinfo": "none",
           "line": {
            "color": "rgb(0, 0, 0)",
            "width": 2
           },
           "mode": "lines",
           "x": [
            0,
            0,
            null
           ],
           "y": [
            1,
            0,
            null
           ]
          },
          {
           "hoverinfo": "none",
           "line": {
            "color": "rgb(0, 0, 0)",
            "width": 2
           },
           "mode": "lines",
           "x": [
            0.3,
            0.3,
            null
           ],
           "y": [
            1,
            0,
            null
           ]
          },
          {
           "hoverinfo": "none",
           "line": {
            "color": "rgb(0, 0, 0)",
            "width": 2
           },
           "mode": "lines",
           "x": [
            0.7,
            1,
            null
           ],
           "y": [
            1,
            1,
            null
           ]
          },
          {
           "hoverinfo": "none",
           "line": {
            "color": "rgb(0, 0, 0)",
            "width": 2
           },
           "mode": "lines",
           "x": [
            0.7,
            0.3,
            null
           ],
           "y": [
            1,
            0,
            null
           ]
          },
          {
           "hoverinfo": "none",
           "line": {
            "color": "rgb(0, 0, 0)",
            "width": 2
           },
           "mode": "lines",
           "x": [
            0.7,
            0.7,
            null
           ],
           "y": [
            1,
            0,
            null
           ]
          },
          {
           "hoverinfo": "none",
           "line": {
            "color": "rgb(0, 0, 0)",
            "width": 2
           },
           "mode": "lines",
           "x": [
            1,
            0.7,
            null
           ],
           "y": [
            1,
            0,
            null
           ]
          },
          {
           "hoverinfo": "none",
           "line": {
            "color": "rgb(0, 0, 0)",
            "width": 2
           },
           "mode": "lines",
           "x": [
            1,
            1,
            null
           ],
           "y": [
            1,
            0,
            null
           ]
          },
          {
           "hoverinfo": "none",
           "line": {
            "color": "rgb(0, 0, 0)",
            "width": 2
           },
           "mode": "lines",
           "x": [
            0.3,
            0.7,
            null
           ],
           "y": [
            0,
            0,
            null
           ]
          },
          {
           "hoverinfo": "none",
           "line": {
            "color": "rgb(0, 0, 0)",
            "width": 2
           },
           "mode": "lines",
           "x": [
            0.7,
            1,
            null
           ],
           "y": [
            0,
            0,
            null
           ]
          },
          {
           "hoverinfo": "none",
           "marker": {
            "color": "rgb(0, 0, 255)",
            "line": {
             "color": "rgb(0, 0, 0)",
             "width": 2
            },
            "size": 20
           },
           "mode": "markers+text",
           "text": [
            "1"
           ],
           "textfont": {
            "color": "rgb(255, 255, 255)"
           },
           "textposition": "middle center",
           "x": [
            0
           ],
           "y": [
            1
           ]
          },
          {
           "hoverinfo": "none",
           "marker": {
            "color": "rgb(0, 0, 255)",
            "line": {
             "color": "rgb(0, 0, 0)",
             "width": 2
            },
            "size": 20
           },
           "mode": "markers+text",
           "text": [
            "0"
           ],
           "textfont": {
            "color": "rgb(255, 255, 255)"
           },
           "textposition": "middle center",
           "x": [
            0.3
           ],
           "y": [
            1
           ]
          },
          {
           "hoverinfo": "none",
           "marker": {
            "color": "rgb(255, 255, 255)",
            "line": {
             "color": "rgb(0, 0, 0)",
             "width": 2
            },
            "size": 20
           },
           "mode": "markers+text",
           "text": [
            "2"
           ],
           "textfont": {
            "color": "rgb(0, 0, 0)"
           },
           "textposition": "middle center",
           "x": [
            0.7
           ],
           "y": [
            1
           ]
          },
          {
           "hoverinfo": "none",
           "marker": {
            "color": "rgb(255, 255, 255)",
            "line": {
             "color": "rgb(0, 0, 0)",
             "width": 2
            },
            "size": 20
           },
           "mode": "markers+text",
           "text": [
            "∞"
           ],
           "textfont": {
            "color": "rgb(0, 0, 0)"
           },
           "textposition": "middle center",
           "x": [
            1
           ],
           "y": [
            1
           ]
          },
          {
           "hoverinfo": "none",
           "marker": {
            "color": "rgb(0, 0, 255)",
            "line": {
             "color": "rgb(0, 0, 0)",
             "width": 2
            },
            "size": 20
           },
           "mode": "markers+text",
           "text": [
            "2"
           ],
           "textfont": {
            "color": "rgb(255, 255, 255)"
           },
           "textposition": "middle center",
           "x": [
            0
           ],
           "y": [
            0
           ]
          },
          {
           "hoverinfo": "none",
           "marker": {
            "color": "rgb(0, 0, 255)",
            "line": {
             "color": "rgb(0, 0, 0)",
             "width": 2
            },
            "size": 20
           },
           "mode": "markers+text",
           "text": [
            "1"
           ],
           "textfont": {
            "color": "rgb(255, 255, 255)"
           },
           "textposition": "middle center",
           "x": [
            0.3
           ],
           "y": [
            0
           ]
          },
          {
           "hoverinfo": "none",
           "marker": {
            "color": "rgb(255, 255, 255)",
            "line": {
             "color": "rgb(0, 0, 0)",
             "width": 2
            },
            "size": 20
           },
           "mode": "markers+text",
           "text": [
            "2"
           ],
           "textfont": {
            "color": "rgb(0, 0, 0)"
           },
           "textposition": "middle center",
           "x": [
            0.7
           ],
           "y": [
            0
           ]
          },
          {
           "hoverinfo": "none",
           "marker": {
            "color": "rgb(255, 255, 255)",
            "line": {
             "color": "rgb(0, 0, 0)",
             "width": 2
            },
            "size": 20
           },
           "mode": "markers+text",
           "text": [
            "∞"
           ],
           "textfont": {
            "color": "rgb(0, 0, 0)"
           },
           "textposition": "middle center",
           "x": [
            1
           ],
           "y": [
            0
           ]
          }
         ],
         "name": 24
        },
        {
         "data": [
          {
           "hoverinfo": "none",
           "line": {
            "color": "rgb(0, 0, 0)",
            "width": 2
           },
           "mode": "lines",
           "x": [
            0,
            0.3,
            null
           ],
           "y": [
            1,
            1,
            null
           ]
          },
          {
           "hoverinfo": "none",
           "line": {
            "color": "rgb(0, 0, 0)",
            "width": 2
           },
           "mode": "lines",
           "x": [
            0,
            0,
            null
           ],
           "y": [
            1,
            0,
            null
           ]
          },
          {
           "hoverinfo": "none",
           "line": {
            "color": "rgb(0, 0, 0)",
            "width": 2
           },
           "mode": "lines",
           "x": [
            0.3,
            0.3,
            null
           ],
           "y": [
            1,
            0,
            null
           ]
          },
          {
           "hoverinfo": "none",
           "line": {
            "color": "rgb(0, 0, 0)",
            "width": 2
           },
           "mode": "lines",
           "x": [
            0.7,
            1,
            null
           ],
           "y": [
            1,
            1,
            null
           ]
          },
          {
           "hoverinfo": "none",
           "line": {
            "color": "rgb(0, 0, 0)",
            "width": 2
           },
           "mode": "lines",
           "x": [
            0.7,
            0.3,
            null
           ],
           "y": [
            1,
            0,
            null
           ]
          },
          {
           "hoverinfo": "none",
           "line": {
            "color": "rgb(0, 0, 0)",
            "width": 2
           },
           "mode": "lines",
           "x": [
            0.7,
            0.7,
            null
           ],
           "y": [
            1,
            0,
            null
           ]
          },
          {
           "hoverinfo": "none",
           "line": {
            "color": "rgb(0, 0, 0)",
            "width": 2
           },
           "mode": "lines",
           "x": [
            1,
            0.7,
            null
           ],
           "y": [
            1,
            0,
            null
           ]
          },
          {
           "hoverinfo": "none",
           "line": {
            "color": "rgb(0, 0, 0)",
            "width": 2
           },
           "mode": "lines",
           "x": [
            1,
            1,
            null
           ],
           "y": [
            1,
            0,
            null
           ]
          },
          {
           "hoverinfo": "none",
           "line": {
            "color": "rgb(0, 0, 0)",
            "width": 2
           },
           "mode": "lines",
           "x": [
            0.3,
            0.7,
            null
           ],
           "y": [
            0,
            0,
            null
           ]
          },
          {
           "hoverinfo": "none",
           "line": {
            "color": "rgb(0, 0, 0)",
            "width": 2
           },
           "mode": "lines",
           "x": [
            0.7,
            1,
            null
           ],
           "y": [
            0,
            0,
            null
           ]
          },
          {
           "hoverinfo": "none",
           "marker": {
            "color": "rgb(0, 0, 255)",
            "line": {
             "color": "rgb(0, 0, 0)",
             "width": 2
            },
            "size": 20
           },
           "mode": "markers+text",
           "text": [
            "1"
           ],
           "textfont": {
            "color": "rgb(255, 255, 255)"
           },
           "textposition": "middle center",
           "x": [
            0
           ],
           "y": [
            1
           ]
          },
          {
           "hoverinfo": "none",
           "marker": {
            "color": "rgb(0, 0, 255)",
            "line": {
             "color": "rgb(0, 0, 0)",
             "width": 2
            },
            "size": 20
           },
           "mode": "markers+text",
           "text": [
            "0"
           ],
           "textfont": {
            "color": "rgb(255, 255, 255)"
           },
           "textposition": "middle center",
           "x": [
            0.3
           ],
           "y": [
            1
           ]
          },
          {
           "hoverinfo": "none",
           "marker": {
            "color": "rgb(255, 0, 0)",
            "line": {
             "color": "rgb(0, 0, 0)",
             "width": 2
            },
            "size": 20
           },
           "mode": "markers+text",
           "text": [
            "2"
           ],
           "textfont": {
            "color": "rgb(255, 255, 255)"
           },
           "textposition": "middle center",
           "x": [
            0.7
           ],
           "y": [
            1
           ]
          },
          {
           "hoverinfo": "none",
           "marker": {
            "color": "rgb(255, 255, 255)",
            "line": {
             "color": "rgb(0, 0, 0)",
             "width": 2
            },
            "size": 20
           },
           "mode": "markers+text",
           "text": [
            "∞"
           ],
           "textfont": {
            "color": "rgb(0, 0, 0)"
           },
           "textposition": "middle center",
           "x": [
            1
           ],
           "y": [
            1
           ]
          },
          {
           "hoverinfo": "none",
           "marker": {
            "color": "rgb(0, 0, 255)",
            "line": {
             "color": "rgb(0, 0, 0)",
             "width": 2
            },
            "size": 20
           },
           "mode": "markers+text",
           "text": [
            "2"
           ],
           "textfont": {
            "color": "rgb(255, 255, 255)"
           },
           "textposition": "middle center",
           "x": [
            0
           ],
           "y": [
            0
           ]
          },
          {
           "hoverinfo": "none",
           "marker": {
            "color": "rgb(0, 0, 255)",
            "line": {
             "color": "rgb(0, 0, 0)",
             "width": 2
            },
            "size": 20
           },
           "mode": "markers+text",
           "text": [
            "1"
           ],
           "textfont": {
            "color": "rgb(255, 255, 255)"
           },
           "textposition": "middle center",
           "x": [
            0.3
           ],
           "y": [
            0
           ]
          },
          {
           "hoverinfo": "none",
           "marker": {
            "color": "rgb(255, 255, 255)",
            "line": {
             "color": "rgb(0, 0, 0)",
             "width": 2
            },
            "size": 20
           },
           "mode": "markers+text",
           "text": [
            "2"
           ],
           "textfont": {
            "color": "rgb(0, 0, 0)"
           },
           "textposition": "middle center",
           "x": [
            0.7
           ],
           "y": [
            0
           ]
          },
          {
           "hoverinfo": "none",
           "marker": {
            "color": "rgb(255, 255, 255)",
            "line": {
             "color": "rgb(0, 0, 0)",
             "width": 2
            },
            "size": 20
           },
           "mode": "markers+text",
           "text": [
            "∞"
           ],
           "textfont": {
            "color": "rgb(0, 0, 0)"
           },
           "textposition": "middle center",
           "x": [
            1
           ],
           "y": [
            0
           ]
          }
         ],
         "name": 25
        },
        {
         "data": [
          {
           "hoverinfo": "none",
           "line": {
            "color": "rgb(0, 0, 0)",
            "width": 2
           },
           "mode": "lines",
           "x": [
            0,
            0.3,
            null
           ],
           "y": [
            1,
            1,
            null
           ]
          },
          {
           "hoverinfo": "none",
           "line": {
            "color": "rgb(0, 0, 0)",
            "width": 2
           },
           "mode": "lines",
           "x": [
            0,
            0,
            null
           ],
           "y": [
            1,
            0,
            null
           ]
          },
          {
           "hoverinfo": "none",
           "line": {
            "color": "rgb(0, 0, 0)",
            "width": 2
           },
           "mode": "lines",
           "x": [
            0.3,
            0.3,
            null
           ],
           "y": [
            1,
            0,
            null
           ]
          },
          {
           "hoverinfo": "none",
           "line": {
            "color": "rgb(255, 0, 0)",
            "width": 2
           },
           "mode": "lines",
           "x": [
            0.7,
            1,
            null
           ],
           "y": [
            1,
            1,
            null
           ]
          },
          {
           "hoverinfo": "none",
           "line": {
            "color": "rgb(0, 0, 0)",
            "width": 2
           },
           "mode": "lines",
           "x": [
            0.7,
            0.3,
            null
           ],
           "y": [
            1,
            0,
            null
           ]
          },
          {
           "hoverinfo": "none",
           "line": {
            "color": "rgb(0, 0, 0)",
            "width": 2
           },
           "mode": "lines",
           "x": [
            0.7,
            0.7,
            null
           ],
           "y": [
            1,
            0,
            null
           ]
          },
          {
           "hoverinfo": "none",
           "line": {
            "color": "rgb(0, 0, 0)",
            "width": 2
           },
           "mode": "lines",
           "x": [
            1,
            0.7,
            null
           ],
           "y": [
            1,
            0,
            null
           ]
          },
          {
           "hoverinfo": "none",
           "line": {
            "color": "rgb(0, 0, 0)",
            "width": 2
           },
           "mode": "lines",
           "x": [
            1,
            1,
            null
           ],
           "y": [
            1,
            0,
            null
           ]
          },
          {
           "hoverinfo": "none",
           "line": {
            "color": "rgb(0, 0, 0)",
            "width": 2
           },
           "mode": "lines",
           "x": [
            0.3,
            0.7,
            null
           ],
           "y": [
            0,
            0,
            null
           ]
          },
          {
           "hoverinfo": "none",
           "line": {
            "color": "rgb(0, 0, 0)",
            "width": 2
           },
           "mode": "lines",
           "x": [
            0.7,
            1,
            null
           ],
           "y": [
            0,
            0,
            null
           ]
          },
          {
           "hoverinfo": "none",
           "marker": {
            "color": "rgb(0, 0, 255)",
            "line": {
             "color": "rgb(0, 0, 0)",
             "width": 2
            },
            "size": 20
           },
           "mode": "markers+text",
           "text": [
            "1"
           ],
           "textfont": {
            "color": "rgb(255, 255, 255)"
           },
           "textposition": "middle center",
           "x": [
            0
           ],
           "y": [
            1
           ]
          },
          {
           "hoverinfo": "none",
           "marker": {
            "color": "rgb(0, 0, 255)",
            "line": {
             "color": "rgb(0, 0, 0)",
             "width": 2
            },
            "size": 20
           },
           "mode": "markers+text",
           "text": [
            "0"
           ],
           "textfont": {
            "color": "rgb(255, 255, 255)"
           },
           "textposition": "middle center",
           "x": [
            0.3
           ],
           "y": [
            1
           ]
          },
          {
           "hoverinfo": "none",
           "marker": {
            "color": "rgb(255, 0, 0)",
            "line": {
             "color": "rgb(0, 0, 0)",
             "width": 2
            },
            "size": 20
           },
           "mode": "markers+text",
           "text": [
            "2"
           ],
           "textfont": {
            "color": "rgb(255, 255, 255)"
           },
           "textposition": "middle center",
           "x": [
            0.7
           ],
           "y": [
            1
           ]
          },
          {
           "hoverinfo": "none",
           "marker": {
            "color": "rgb(255, 255, 255)",
            "line": {
             "color": "rgb(0, 0, 0)",
             "width": 2
            },
            "size": 20
           },
           "mode": "markers+text",
           "text": [
            "∞"
           ],
           "textfont": {
            "color": "rgb(0, 0, 0)"
           },
           "textposition": "middle center",
           "x": [
            1
           ],
           "y": [
            1
           ]
          },
          {
           "hoverinfo": "none",
           "marker": {
            "color": "rgb(0, 0, 255)",
            "line": {
             "color": "rgb(0, 0, 0)",
             "width": 2
            },
            "size": 20
           },
           "mode": "markers+text",
           "text": [
            "2"
           ],
           "textfont": {
            "color": "rgb(255, 255, 255)"
           },
           "textposition": "middle center",
           "x": [
            0
           ],
           "y": [
            0
           ]
          },
          {
           "hoverinfo": "none",
           "marker": {
            "color": "rgb(0, 0, 255)",
            "line": {
             "color": "rgb(0, 0, 0)",
             "width": 2
            },
            "size": 20
           },
           "mode": "markers+text",
           "text": [
            "1"
           ],
           "textfont": {
            "color": "rgb(255, 255, 255)"
           },
           "textposition": "middle center",
           "x": [
            0.3
           ],
           "y": [
            0
           ]
          },
          {
           "hoverinfo": "none",
           "marker": {
            "color": "rgb(255, 255, 255)",
            "line": {
             "color": "rgb(0, 0, 0)",
             "width": 2
            },
            "size": 20
           },
           "mode": "markers+text",
           "text": [
            "2"
           ],
           "textfont": {
            "color": "rgb(0, 0, 0)"
           },
           "textposition": "middle center",
           "x": [
            0.7
           ],
           "y": [
            0
           ]
          },
          {
           "hoverinfo": "none",
           "marker": {
            "color": "rgb(255, 255, 255)",
            "line": {
             "color": "rgb(0, 0, 0)",
             "width": 2
            },
            "size": 20
           },
           "mode": "markers+text",
           "text": [
            "∞"
           ],
           "textfont": {
            "color": "rgb(0, 0, 0)"
           },
           "textposition": "middle center",
           "x": [
            1
           ],
           "y": [
            0
           ]
          }
         ],
         "name": 26
        },
        {
         "data": [
          {
           "hoverinfo": "none",
           "line": {
            "color": "rgb(0, 0, 0)",
            "width": 2
           },
           "mode": "lines",
           "x": [
            0,
            0.3,
            null
           ],
           "y": [
            1,
            1,
            null
           ]
          },
          {
           "hoverinfo": "none",
           "line": {
            "color": "rgb(0, 0, 0)",
            "width": 2
           },
           "mode": "lines",
           "x": [
            0,
            0,
            null
           ],
           "y": [
            1,
            0,
            null
           ]
          },
          {
           "hoverinfo": "none",
           "line": {
            "color": "rgb(0, 0, 0)",
            "width": 2
           },
           "mode": "lines",
           "x": [
            0.3,
            0.3,
            null
           ],
           "y": [
            1,
            0,
            null
           ]
          },
          {
           "hoverinfo": "none",
           "line": {
            "color": "rgb(0, 0, 0)",
            "width": 2
           },
           "mode": "lines",
           "x": [
            0.7,
            1,
            null
           ],
           "y": [
            1,
            1,
            null
           ]
          },
          {
           "hoverinfo": "none",
           "line": {
            "color": "rgb(0, 0, 0)",
            "width": 2
           },
           "mode": "lines",
           "x": [
            0.7,
            0.3,
            null
           ],
           "y": [
            1,
            0,
            null
           ]
          },
          {
           "hoverinfo": "none",
           "line": {
            "color": "rgb(0, 0, 0)",
            "width": 2
           },
           "mode": "lines",
           "x": [
            0.7,
            0.7,
            null
           ],
           "y": [
            1,
            0,
            null
           ]
          },
          {
           "hoverinfo": "none",
           "line": {
            "color": "rgb(0, 0, 0)",
            "width": 2
           },
           "mode": "lines",
           "x": [
            1,
            0.7,
            null
           ],
           "y": [
            1,
            0,
            null
           ]
          },
          {
           "hoverinfo": "none",
           "line": {
            "color": "rgb(0, 0, 0)",
            "width": 2
           },
           "mode": "lines",
           "x": [
            1,
            1,
            null
           ],
           "y": [
            1,
            0,
            null
           ]
          },
          {
           "hoverinfo": "none",
           "line": {
            "color": "rgb(0, 0, 0)",
            "width": 2
           },
           "mode": "lines",
           "x": [
            0.3,
            0.7,
            null
           ],
           "y": [
            0,
            0,
            null
           ]
          },
          {
           "hoverinfo": "none",
           "line": {
            "color": "rgb(0, 0, 0)",
            "width": 2
           },
           "mode": "lines",
           "x": [
            0.7,
            1,
            null
           ],
           "y": [
            0,
            0,
            null
           ]
          },
          {
           "hoverinfo": "none",
           "marker": {
            "color": "rgb(0, 0, 255)",
            "line": {
             "color": "rgb(0, 0, 0)",
             "width": 2
            },
            "size": 20
           },
           "mode": "markers+text",
           "text": [
            "1"
           ],
           "textfont": {
            "color": "rgb(255, 255, 255)"
           },
           "textposition": "middle center",
           "x": [
            0
           ],
           "y": [
            1
           ]
          },
          {
           "hoverinfo": "none",
           "marker": {
            "color": "rgb(0, 0, 255)",
            "line": {
             "color": "rgb(0, 0, 0)",
             "width": 2
            },
            "size": 20
           },
           "mode": "markers+text",
           "text": [
            "0"
           ],
           "textfont": {
            "color": "rgb(255, 255, 255)"
           },
           "textposition": "middle center",
           "x": [
            0.3
           ],
           "y": [
            1
           ]
          },
          {
           "hoverinfo": "none",
           "marker": {
            "color": "rgb(255, 0, 0)",
            "line": {
             "color": "rgb(0, 0, 0)",
             "width": 2
            },
            "size": 20
           },
           "mode": "markers+text",
           "text": [
            "2"
           ],
           "textfont": {
            "color": "rgb(255, 255, 255)"
           },
           "textposition": "middle center",
           "x": [
            0.7
           ],
           "y": [
            1
           ]
          },
          {
           "hoverinfo": "none",
           "marker": {
            "color": "rgb(255, 255, 255)",
            "line": {
             "color": "rgb(0, 0, 0)",
             "width": 2
            },
            "size": 20
           },
           "mode": "markers+text",
           "text": [
            "3"
           ],
           "textfont": {
            "color": "rgb(0, 0, 0)"
           },
           "textposition": "middle center",
           "x": [
            1
           ],
           "y": [
            1
           ]
          },
          {
           "hoverinfo": "none",
           "marker": {
            "color": "rgb(0, 0, 255)",
            "line": {
             "color": "rgb(0, 0, 0)",
             "width": 2
            },
            "size": 20
           },
           "mode": "markers+text",
           "text": [
            "2"
           ],
           "textfont": {
            "color": "rgb(255, 255, 255)"
           },
           "textposition": "middle center",
           "x": [
            0
           ],
           "y": [
            0
           ]
          },
          {
           "hoverinfo": "none",
           "marker": {
            "color": "rgb(0, 0, 255)",
            "line": {
             "color": "rgb(0, 0, 0)",
             "width": 2
            },
            "size": 20
           },
           "mode": "markers+text",
           "text": [
            "1"
           ],
           "textfont": {
            "color": "rgb(255, 255, 255)"
           },
           "textposition": "middle center",
           "x": [
            0.3
           ],
           "y": [
            0
           ]
          },
          {
           "hoverinfo": "none",
           "marker": {
            "color": "rgb(255, 255, 255)",
            "line": {
             "color": "rgb(0, 0, 0)",
             "width": 2
            },
            "size": 20
           },
           "mode": "markers+text",
           "text": [
            "2"
           ],
           "textfont": {
            "color": "rgb(0, 0, 0)"
           },
           "textposition": "middle center",
           "x": [
            0.7
           ],
           "y": [
            0
           ]
          },
          {
           "hoverinfo": "none",
           "marker": {
            "color": "rgb(255, 255, 255)",
            "line": {
             "color": "rgb(0, 0, 0)",
             "width": 2
            },
            "size": 20
           },
           "mode": "markers+text",
           "text": [
            "∞"
           ],
           "textfont": {
            "color": "rgb(0, 0, 0)"
           },
           "textposition": "middle center",
           "x": [
            1
           ],
           "y": [
            0
           ]
          }
         ],
         "name": 27
        },
        {
         "data": [
          {
           "hoverinfo": "none",
           "line": {
            "color": "rgb(0, 0, 0)",
            "width": 2
           },
           "mode": "lines",
           "x": [
            0,
            0.3,
            null
           ],
           "y": [
            1,
            1,
            null
           ]
          },
          {
           "hoverinfo": "none",
           "line": {
            "color": "rgb(0, 0, 0)",
            "width": 2
           },
           "mode": "lines",
           "x": [
            0,
            0,
            null
           ],
           "y": [
            1,
            0,
            null
           ]
          },
          {
           "hoverinfo": "none",
           "line": {
            "color": "rgb(0, 0, 0)",
            "width": 2
           },
           "mode": "lines",
           "x": [
            0.3,
            0.3,
            null
           ],
           "y": [
            1,
            0,
            null
           ]
          },
          {
           "hoverinfo": "none",
           "line": {
            "color": "rgb(0, 0, 0)",
            "width": 2
           },
           "mode": "lines",
           "x": [
            0.7,
            1,
            null
           ],
           "y": [
            1,
            1,
            null
           ]
          },
          {
           "hoverinfo": "none",
           "line": {
            "color": "rgb(255, 0, 0)",
            "width": 2
           },
           "mode": "lines",
           "x": [
            0.7,
            0.3,
            null
           ],
           "y": [
            1,
            0,
            null
           ]
          },
          {
           "hoverinfo": "none",
           "line": {
            "color": "rgb(0, 0, 0)",
            "width": 2
           },
           "mode": "lines",
           "x": [
            0.7,
            0.7,
            null
           ],
           "y": [
            1,
            0,
            null
           ]
          },
          {
           "hoverinfo": "none",
           "line": {
            "color": "rgb(0, 0, 0)",
            "width": 2
           },
           "mode": "lines",
           "x": [
            1,
            0.7,
            null
           ],
           "y": [
            1,
            0,
            null
           ]
          },
          {
           "hoverinfo": "none",
           "line": {
            "color": "rgb(0, 0, 0)",
            "width": 2
           },
           "mode": "lines",
           "x": [
            1,
            1,
            null
           ],
           "y": [
            1,
            0,
            null
           ]
          },
          {
           "hoverinfo": "none",
           "line": {
            "color": "rgb(0, 0, 0)",
            "width": 2
           },
           "mode": "lines",
           "x": [
            0.3,
            0.7,
            null
           ],
           "y": [
            0,
            0,
            null
           ]
          },
          {
           "hoverinfo": "none",
           "line": {
            "color": "rgb(0, 0, 0)",
            "width": 2
           },
           "mode": "lines",
           "x": [
            0.7,
            1,
            null
           ],
           "y": [
            0,
            0,
            null
           ]
          },
          {
           "hoverinfo": "none",
           "marker": {
            "color": "rgb(0, 0, 255)",
            "line": {
             "color": "rgb(0, 0, 0)",
             "width": 2
            },
            "size": 20
           },
           "mode": "markers+text",
           "text": [
            "1"
           ],
           "textfont": {
            "color": "rgb(255, 255, 255)"
           },
           "textposition": "middle center",
           "x": [
            0
           ],
           "y": [
            1
           ]
          },
          {
           "hoverinfo": "none",
           "marker": {
            "color": "rgb(0, 0, 255)",
            "line": {
             "color": "rgb(0, 0, 0)",
             "width": 2
            },
            "size": 20
           },
           "mode": "markers+text",
           "text": [
            "0"
           ],
           "textfont": {
            "color": "rgb(255, 255, 255)"
           },
           "textposition": "middle center",
           "x": [
            0.3
           ],
           "y": [
            1
           ]
          },
          {
           "hoverinfo": "none",
           "marker": {
            "color": "rgb(255, 0, 0)",
            "line": {
             "color": "rgb(0, 0, 0)",
             "width": 2
            },
            "size": 20
           },
           "mode": "markers+text",
           "text": [
            "2"
           ],
           "textfont": {
            "color": "rgb(255, 255, 255)"
           },
           "textposition": "middle center",
           "x": [
            0.7
           ],
           "y": [
            1
           ]
          },
          {
           "hoverinfo": "none",
           "marker": {
            "color": "rgb(255, 255, 255)",
            "line": {
             "color": "rgb(0, 0, 0)",
             "width": 2
            },
            "size": 20
           },
           "mode": "markers+text",
           "text": [
            "3"
           ],
           "textfont": {
            "color": "rgb(0, 0, 0)"
           },
           "textposition": "middle center",
           "x": [
            1
           ],
           "y": [
            1
           ]
          },
          {
           "hoverinfo": "none",
           "marker": {
            "color": "rgb(0, 0, 255)",
            "line": {
             "color": "rgb(0, 0, 0)",
             "width": 2
            },
            "size": 20
           },
           "mode": "markers+text",
           "text": [
            "2"
           ],
           "textfont": {
            "color": "rgb(255, 255, 255)"
           },
           "textposition": "middle center",
           "x": [
            0
           ],
           "y": [
            0
           ]
          },
          {
           "hoverinfo": "none",
           "marker": {
            "color": "rgb(0, 0, 255)",
            "line": {
             "color": "rgb(0, 0, 0)",
             "width": 2
            },
            "size": 20
           },
           "mode": "markers+text",
           "text": [
            "1"
           ],
           "textfont": {
            "color": "rgb(255, 255, 255)"
           },
           "textposition": "middle center",
           "x": [
            0.3
           ],
           "y": [
            0
           ]
          },
          {
           "hoverinfo": "none",
           "marker": {
            "color": "rgb(255, 255, 255)",
            "line": {
             "color": "rgb(0, 0, 0)",
             "width": 2
            },
            "size": 20
           },
           "mode": "markers+text",
           "text": [
            "2"
           ],
           "textfont": {
            "color": "rgb(0, 0, 0)"
           },
           "textposition": "middle center",
           "x": [
            0.7
           ],
           "y": [
            0
           ]
          },
          {
           "hoverinfo": "none",
           "marker": {
            "color": "rgb(255, 255, 255)",
            "line": {
             "color": "rgb(0, 0, 0)",
             "width": 2
            },
            "size": 20
           },
           "mode": "markers+text",
           "text": [
            "∞"
           ],
           "textfont": {
            "color": "rgb(0, 0, 0)"
           },
           "textposition": "middle center",
           "x": [
            1
           ],
           "y": [
            0
           ]
          }
         ],
         "name": 28
        },
        {
         "data": [
          {
           "hoverinfo": "none",
           "line": {
            "color": "rgb(0, 0, 0)",
            "width": 2
           },
           "mode": "lines",
           "x": [
            0,
            0.3,
            null
           ],
           "y": [
            1,
            1,
            null
           ]
          },
          {
           "hoverinfo": "none",
           "line": {
            "color": "rgb(0, 0, 0)",
            "width": 2
           },
           "mode": "lines",
           "x": [
            0,
            0,
            null
           ],
           "y": [
            1,
            0,
            null
           ]
          },
          {
           "hoverinfo": "none",
           "line": {
            "color": "rgb(0, 0, 0)",
            "width": 2
           },
           "mode": "lines",
           "x": [
            0.3,
            0.3,
            null
           ],
           "y": [
            1,
            0,
            null
           ]
          },
          {
           "hoverinfo": "none",
           "line": {
            "color": "rgb(0, 0, 0)",
            "width": 2
           },
           "mode": "lines",
           "x": [
            0.7,
            1,
            null
           ],
           "y": [
            1,
            1,
            null
           ]
          },
          {
           "hoverinfo": "none",
           "line": {
            "color": "rgb(0, 0, 0)",
            "width": 2
           },
           "mode": "lines",
           "x": [
            0.7,
            0.3,
            null
           ],
           "y": [
            1,
            0,
            null
           ]
          },
          {
           "hoverinfo": "none",
           "line": {
            "color": "rgb(0, 0, 0)",
            "width": 2
           },
           "mode": "lines",
           "x": [
            0.7,
            0.7,
            null
           ],
           "y": [
            1,
            0,
            null
           ]
          },
          {
           "hoverinfo": "none",
           "line": {
            "color": "rgb(0, 0, 0)",
            "width": 2
           },
           "mode": "lines",
           "x": [
            1,
            0.7,
            null
           ],
           "y": [
            1,
            0,
            null
           ]
          },
          {
           "hoverinfo": "none",
           "line": {
            "color": "rgb(0, 0, 0)",
            "width": 2
           },
           "mode": "lines",
           "x": [
            1,
            1,
            null
           ],
           "y": [
            1,
            0,
            null
           ]
          },
          {
           "hoverinfo": "none",
           "line": {
            "color": "rgb(0, 0, 0)",
            "width": 2
           },
           "mode": "lines",
           "x": [
            0.3,
            0.7,
            null
           ],
           "y": [
            0,
            0,
            null
           ]
          },
          {
           "hoverinfo": "none",
           "line": {
            "color": "rgb(0, 0, 0)",
            "width": 2
           },
           "mode": "lines",
           "x": [
            0.7,
            1,
            null
           ],
           "y": [
            0,
            0,
            null
           ]
          },
          {
           "hoverinfo": "none",
           "marker": {
            "color": "rgb(0, 0, 255)",
            "line": {
             "color": "rgb(0, 0, 0)",
             "width": 2
            },
            "size": 20
           },
           "mode": "markers+text",
           "text": [
            "1"
           ],
           "textfont": {
            "color": "rgb(255, 255, 255)"
           },
           "textposition": "middle center",
           "x": [
            0
           ],
           "y": [
            1
           ]
          },
          {
           "hoverinfo": "none",
           "marker": {
            "color": "rgb(0, 0, 255)",
            "line": {
             "color": "rgb(0, 0, 0)",
             "width": 2
            },
            "size": 20
           },
           "mode": "markers+text",
           "text": [
            "0"
           ],
           "textfont": {
            "color": "rgb(255, 255, 255)"
           },
           "textposition": "middle center",
           "x": [
            0.3
           ],
           "y": [
            1
           ]
          },
          {
           "hoverinfo": "none",
           "marker": {
            "color": "rgb(255, 0, 0)",
            "line": {
             "color": "rgb(0, 0, 0)",
             "width": 2
            },
            "size": 20
           },
           "mode": "markers+text",
           "text": [
            "2"
           ],
           "textfont": {
            "color": "rgb(255, 255, 255)"
           },
           "textposition": "middle center",
           "x": [
            0.7
           ],
           "y": [
            1
           ]
          },
          {
           "hoverinfo": "none",
           "marker": {
            "color": "rgb(255, 255, 255)",
            "line": {
             "color": "rgb(0, 0, 0)",
             "width": 2
            },
            "size": 20
           },
           "mode": "markers+text",
           "text": [
            "3"
           ],
           "textfont": {
            "color": "rgb(0, 0, 0)"
           },
           "textposition": "middle center",
           "x": [
            1
           ],
           "y": [
            1
           ]
          },
          {
           "hoverinfo": "none",
           "marker": {
            "color": "rgb(0, 0, 255)",
            "line": {
             "color": "rgb(0, 0, 0)",
             "width": 2
            },
            "size": 20
           },
           "mode": "markers+text",
           "text": [
            "2"
           ],
           "textfont": {
            "color": "rgb(255, 255, 255)"
           },
           "textposition": "middle center",
           "x": [
            0
           ],
           "y": [
            0
           ]
          },
          {
           "hoverinfo": "none",
           "marker": {
            "color": "rgb(0, 0, 255)",
            "line": {
             "color": "rgb(0, 0, 0)",
             "width": 2
            },
            "size": 20
           },
           "mode": "markers+text",
           "text": [
            "1"
           ],
           "textfont": {
            "color": "rgb(255, 255, 255)"
           },
           "textposition": "middle center",
           "x": [
            0.3
           ],
           "y": [
            0
           ]
          },
          {
           "hoverinfo": "none",
           "marker": {
            "color": "rgb(255, 255, 255)",
            "line": {
             "color": "rgb(0, 0, 0)",
             "width": 2
            },
            "size": 20
           },
           "mode": "markers+text",
           "text": [
            "2"
           ],
           "textfont": {
            "color": "rgb(0, 0, 0)"
           },
           "textposition": "middle center",
           "x": [
            0.7
           ],
           "y": [
            0
           ]
          },
          {
           "hoverinfo": "none",
           "marker": {
            "color": "rgb(255, 255, 255)",
            "line": {
             "color": "rgb(0, 0, 0)",
             "width": 2
            },
            "size": 20
           },
           "mode": "markers+text",
           "text": [
            "∞"
           ],
           "textfont": {
            "color": "rgb(0, 0, 0)"
           },
           "textposition": "middle center",
           "x": [
            1
           ],
           "y": [
            0
           ]
          }
         ],
         "name": 29
        },
        {
         "data": [
          {
           "hoverinfo": "none",
           "line": {
            "color": "rgb(0, 0, 0)",
            "width": 2
           },
           "mode": "lines",
           "x": [
            0,
            0.3,
            null
           ],
           "y": [
            1,
            1,
            null
           ]
          },
          {
           "hoverinfo": "none",
           "line": {
            "color": "rgb(0, 0, 0)",
            "width": 2
           },
           "mode": "lines",
           "x": [
            0,
            0,
            null
           ],
           "y": [
            1,
            0,
            null
           ]
          },
          {
           "hoverinfo": "none",
           "line": {
            "color": "rgb(0, 0, 0)",
            "width": 2
           },
           "mode": "lines",
           "x": [
            0.3,
            0.3,
            null
           ],
           "y": [
            1,
            0,
            null
           ]
          },
          {
           "hoverinfo": "none",
           "line": {
            "color": "rgb(0, 0, 0)",
            "width": 2
           },
           "mode": "lines",
           "x": [
            0.7,
            1,
            null
           ],
           "y": [
            1,
            1,
            null
           ]
          },
          {
           "hoverinfo": "none",
           "line": {
            "color": "rgb(0, 0, 0)",
            "width": 2
           },
           "mode": "lines",
           "x": [
            0.7,
            0.3,
            null
           ],
           "y": [
            1,
            0,
            null
           ]
          },
          {
           "hoverinfo": "none",
           "line": {
            "color": "rgb(255, 0, 0)",
            "width": 2
           },
           "mode": "lines",
           "x": [
            0.7,
            0.7,
            null
           ],
           "y": [
            1,
            0,
            null
           ]
          },
          {
           "hoverinfo": "none",
           "line": {
            "color": "rgb(0, 0, 0)",
            "width": 2
           },
           "mode": "lines",
           "x": [
            1,
            0.7,
            null
           ],
           "y": [
            1,
            0,
            null
           ]
          },
          {
           "hoverinfo": "none",
           "line": {
            "color": "rgb(0, 0, 0)",
            "width": 2
           },
           "mode": "lines",
           "x": [
            1,
            1,
            null
           ],
           "y": [
            1,
            0,
            null
           ]
          },
          {
           "hoverinfo": "none",
           "line": {
            "color": "rgb(0, 0, 0)",
            "width": 2
           },
           "mode": "lines",
           "x": [
            0.3,
            0.7,
            null
           ],
           "y": [
            0,
            0,
            null
           ]
          },
          {
           "hoverinfo": "none",
           "line": {
            "color": "rgb(0, 0, 0)",
            "width": 2
           },
           "mode": "lines",
           "x": [
            0.7,
            1,
            null
           ],
           "y": [
            0,
            0,
            null
           ]
          },
          {
           "hoverinfo": "none",
           "marker": {
            "color": "rgb(0, 0, 255)",
            "line": {
             "color": "rgb(0, 0, 0)",
             "width": 2
            },
            "size": 20
           },
           "mode": "markers+text",
           "text": [
            "1"
           ],
           "textfont": {
            "color": "rgb(255, 255, 255)"
           },
           "textposition": "middle center",
           "x": [
            0
           ],
           "y": [
            1
           ]
          },
          {
           "hoverinfo": "none",
           "marker": {
            "color": "rgb(0, 0, 255)",
            "line": {
             "color": "rgb(0, 0, 0)",
             "width": 2
            },
            "size": 20
           },
           "mode": "markers+text",
           "text": [
            "0"
           ],
           "textfont": {
            "color": "rgb(255, 255, 255)"
           },
           "textposition": "middle center",
           "x": [
            0.3
           ],
           "y": [
            1
           ]
          },
          {
           "hoverinfo": "none",
           "marker": {
            "color": "rgb(255, 0, 0)",
            "line": {
             "color": "rgb(0, 0, 0)",
             "width": 2
            },
            "size": 20
           },
           "mode": "markers+text",
           "text": [
            "2"
           ],
           "textfont": {
            "color": "rgb(255, 255, 255)"
           },
           "textposition": "middle center",
           "x": [
            0.7
           ],
           "y": [
            1
           ]
          },
          {
           "hoverinfo": "none",
           "marker": {
            "color": "rgb(255, 255, 255)",
            "line": {
             "color": "rgb(0, 0, 0)",
             "width": 2
            },
            "size": 20
           },
           "mode": "markers+text",
           "text": [
            "3"
           ],
           "textfont": {
            "color": "rgb(0, 0, 0)"
           },
           "textposition": "middle center",
           "x": [
            1
           ],
           "y": [
            1
           ]
          },
          {
           "hoverinfo": "none",
           "marker": {
            "color": "rgb(0, 0, 255)",
            "line": {
             "color": "rgb(0, 0, 0)",
             "width": 2
            },
            "size": 20
           },
           "mode": "markers+text",
           "text": [
            "2"
           ],
           "textfont": {
            "color": "rgb(255, 255, 255)"
           },
           "textposition": "middle center",
           "x": [
            0
           ],
           "y": [
            0
           ]
          },
          {
           "hoverinfo": "none",
           "marker": {
            "color": "rgb(0, 0, 255)",
            "line": {
             "color": "rgb(0, 0, 0)",
             "width": 2
            },
            "size": 20
           },
           "mode": "markers+text",
           "text": [
            "1"
           ],
           "textfont": {
            "color": "rgb(255, 255, 255)"
           },
           "textposition": "middle center",
           "x": [
            0.3
           ],
           "y": [
            0
           ]
          },
          {
           "hoverinfo": "none",
           "marker": {
            "color": "rgb(255, 255, 255)",
            "line": {
             "color": "rgb(0, 0, 0)",
             "width": 2
            },
            "size": 20
           },
           "mode": "markers+text",
           "text": [
            "2"
           ],
           "textfont": {
            "color": "rgb(0, 0, 0)"
           },
           "textposition": "middle center",
           "x": [
            0.7
           ],
           "y": [
            0
           ]
          },
          {
           "hoverinfo": "none",
           "marker": {
            "color": "rgb(255, 255, 255)",
            "line": {
             "color": "rgb(0, 0, 0)",
             "width": 2
            },
            "size": 20
           },
           "mode": "markers+text",
           "text": [
            "∞"
           ],
           "textfont": {
            "color": "rgb(0, 0, 0)"
           },
           "textposition": "middle center",
           "x": [
            1
           ],
           "y": [
            0
           ]
          }
         ],
         "name": 30
        },
        {
         "data": [
          {
           "hoverinfo": "none",
           "line": {
            "color": "rgb(0, 0, 0)",
            "width": 2
           },
           "mode": "lines",
           "x": [
            0,
            0.3,
            null
           ],
           "y": [
            1,
            1,
            null
           ]
          },
          {
           "hoverinfo": "none",
           "line": {
            "color": "rgb(0, 0, 0)",
            "width": 2
           },
           "mode": "lines",
           "x": [
            0,
            0,
            null
           ],
           "y": [
            1,
            0,
            null
           ]
          },
          {
           "hoverinfo": "none",
           "line": {
            "color": "rgb(0, 0, 0)",
            "width": 2
           },
           "mode": "lines",
           "x": [
            0.3,
            0.3,
            null
           ],
           "y": [
            1,
            0,
            null
           ]
          },
          {
           "hoverinfo": "none",
           "line": {
            "color": "rgb(0, 0, 0)",
            "width": 2
           },
           "mode": "lines",
           "x": [
            0.7,
            1,
            null
           ],
           "y": [
            1,
            1,
            null
           ]
          },
          {
           "hoverinfo": "none",
           "line": {
            "color": "rgb(0, 0, 0)",
            "width": 2
           },
           "mode": "lines",
           "x": [
            0.7,
            0.3,
            null
           ],
           "y": [
            1,
            0,
            null
           ]
          },
          {
           "hoverinfo": "none",
           "line": {
            "color": "rgb(0, 0, 0)",
            "width": 2
           },
           "mode": "lines",
           "x": [
            0.7,
            0.7,
            null
           ],
           "y": [
            1,
            0,
            null
           ]
          },
          {
           "hoverinfo": "none",
           "line": {
            "color": "rgb(0, 0, 0)",
            "width": 2
           },
           "mode": "lines",
           "x": [
            1,
            0.7,
            null
           ],
           "y": [
            1,
            0,
            null
           ]
          },
          {
           "hoverinfo": "none",
           "line": {
            "color": "rgb(0, 0, 0)",
            "width": 2
           },
           "mode": "lines",
           "x": [
            1,
            1,
            null
           ],
           "y": [
            1,
            0,
            null
           ]
          },
          {
           "hoverinfo": "none",
           "line": {
            "color": "rgb(0, 0, 0)",
            "width": 2
           },
           "mode": "lines",
           "x": [
            0.3,
            0.7,
            null
           ],
           "y": [
            0,
            0,
            null
           ]
          },
          {
           "hoverinfo": "none",
           "line": {
            "color": "rgb(0, 0, 0)",
            "width": 2
           },
           "mode": "lines",
           "x": [
            0.7,
            1,
            null
           ],
           "y": [
            0,
            0,
            null
           ]
          },
          {
           "hoverinfo": "none",
           "marker": {
            "color": "rgb(0, 0, 255)",
            "line": {
             "color": "rgb(0, 0, 0)",
             "width": 2
            },
            "size": 20
           },
           "mode": "markers+text",
           "text": [
            "1"
           ],
           "textfont": {
            "color": "rgb(255, 255, 255)"
           },
           "textposition": "middle center",
           "x": [
            0
           ],
           "y": [
            1
           ]
          },
          {
           "hoverinfo": "none",
           "marker": {
            "color": "rgb(0, 0, 255)",
            "line": {
             "color": "rgb(0, 0, 0)",
             "width": 2
            },
            "size": 20
           },
           "mode": "markers+text",
           "text": [
            "0"
           ],
           "textfont": {
            "color": "rgb(255, 255, 255)"
           },
           "textposition": "middle center",
           "x": [
            0.3
           ],
           "y": [
            1
           ]
          },
          {
           "hoverinfo": "none",
           "marker": {
            "color": "rgb(255, 0, 0)",
            "line": {
             "color": "rgb(0, 0, 0)",
             "width": 2
            },
            "size": 20
           },
           "mode": "markers+text",
           "text": [
            "2"
           ],
           "textfont": {
            "color": "rgb(255, 255, 255)"
           },
           "textposition": "middle center",
           "x": [
            0.7
           ],
           "y": [
            1
           ]
          },
          {
           "hoverinfo": "none",
           "marker": {
            "color": "rgb(255, 255, 255)",
            "line": {
             "color": "rgb(0, 0, 0)",
             "width": 2
            },
            "size": 20
           },
           "mode": "markers+text",
           "text": [
            "3"
           ],
           "textfont": {
            "color": "rgb(0, 0, 0)"
           },
           "textposition": "middle center",
           "x": [
            1
           ],
           "y": [
            1
           ]
          },
          {
           "hoverinfo": "none",
           "marker": {
            "color": "rgb(0, 0, 255)",
            "line": {
             "color": "rgb(0, 0, 0)",
             "width": 2
            },
            "size": 20
           },
           "mode": "markers+text",
           "text": [
            "2"
           ],
           "textfont": {
            "color": "rgb(255, 255, 255)"
           },
           "textposition": "middle center",
           "x": [
            0
           ],
           "y": [
            0
           ]
          },
          {
           "hoverinfo": "none",
           "marker": {
            "color": "rgb(0, 0, 255)",
            "line": {
             "color": "rgb(0, 0, 0)",
             "width": 2
            },
            "size": 20
           },
           "mode": "markers+text",
           "text": [
            "1"
           ],
           "textfont": {
            "color": "rgb(255, 255, 255)"
           },
           "textposition": "middle center",
           "x": [
            0.3
           ],
           "y": [
            0
           ]
          },
          {
           "hoverinfo": "none",
           "marker": {
            "color": "rgb(255, 255, 255)",
            "line": {
             "color": "rgb(0, 0, 0)",
             "width": 2
            },
            "size": 20
           },
           "mode": "markers+text",
           "text": [
            "2"
           ],
           "textfont": {
            "color": "rgb(0, 0, 0)"
           },
           "textposition": "middle center",
           "x": [
            0.7
           ],
           "y": [
            0
           ]
          },
          {
           "hoverinfo": "none",
           "marker": {
            "color": "rgb(255, 255, 255)",
            "line": {
             "color": "rgb(0, 0, 0)",
             "width": 2
            },
            "size": 20
           },
           "mode": "markers+text",
           "text": [
            "∞"
           ],
           "textfont": {
            "color": "rgb(0, 0, 0)"
           },
           "textposition": "middle center",
           "x": [
            1
           ],
           "y": [
            0
           ]
          }
         ],
         "name": 31
        },
        {
         "data": [
          {
           "hoverinfo": "none",
           "line": {
            "color": "rgb(0, 0, 0)",
            "width": 2
           },
           "mode": "lines",
           "x": [
            0,
            0.3,
            null
           ],
           "y": [
            1,
            1,
            null
           ]
          },
          {
           "hoverinfo": "none",
           "line": {
            "color": "rgb(0, 0, 0)",
            "width": 2
           },
           "mode": "lines",
           "x": [
            0,
            0,
            null
           ],
           "y": [
            1,
            0,
            null
           ]
          },
          {
           "hoverinfo": "none",
           "line": {
            "color": "rgb(0, 0, 0)",
            "width": 2
           },
           "mode": "lines",
           "x": [
            0.3,
            0.3,
            null
           ],
           "y": [
            1,
            0,
            null
           ]
          },
          {
           "hoverinfo": "none",
           "line": {
            "color": "rgb(0, 0, 0)",
            "width": 2
           },
           "mode": "lines",
           "x": [
            0.7,
            1,
            null
           ],
           "y": [
            1,
            1,
            null
           ]
          },
          {
           "hoverinfo": "none",
           "line": {
            "color": "rgb(0, 0, 0)",
            "width": 2
           },
           "mode": "lines",
           "x": [
            0.7,
            0.3,
            null
           ],
           "y": [
            1,
            0,
            null
           ]
          },
          {
           "hoverinfo": "none",
           "line": {
            "color": "rgb(0, 0, 0)",
            "width": 2
           },
           "mode": "lines",
           "x": [
            0.7,
            0.7,
            null
           ],
           "y": [
            1,
            0,
            null
           ]
          },
          {
           "hoverinfo": "none",
           "line": {
            "color": "rgb(0, 0, 0)",
            "width": 2
           },
           "mode": "lines",
           "x": [
            1,
            0.7,
            null
           ],
           "y": [
            1,
            0,
            null
           ]
          },
          {
           "hoverinfo": "none",
           "line": {
            "color": "rgb(0, 0, 0)",
            "width": 2
           },
           "mode": "lines",
           "x": [
            1,
            1,
            null
           ],
           "y": [
            1,
            0,
            null
           ]
          },
          {
           "hoverinfo": "none",
           "line": {
            "color": "rgb(0, 0, 0)",
            "width": 2
           },
           "mode": "lines",
           "x": [
            0.3,
            0.7,
            null
           ],
           "y": [
            0,
            0,
            null
           ]
          },
          {
           "hoverinfo": "none",
           "line": {
            "color": "rgb(0, 0, 0)",
            "width": 2
           },
           "mode": "lines",
           "x": [
            0.7,
            1,
            null
           ],
           "y": [
            0,
            0,
            null
           ]
          },
          {
           "hoverinfo": "none",
           "marker": {
            "color": "rgb(0, 0, 255)",
            "line": {
             "color": "rgb(0, 0, 0)",
             "width": 2
            },
            "size": 20
           },
           "mode": "markers+text",
           "text": [
            "1"
           ],
           "textfont": {
            "color": "rgb(255, 255, 255)"
           },
           "textposition": "middle center",
           "x": [
            0
           ],
           "y": [
            1
           ]
          },
          {
           "hoverinfo": "none",
           "marker": {
            "color": "rgb(0, 0, 255)",
            "line": {
             "color": "rgb(0, 0, 0)",
             "width": 2
            },
            "size": 20
           },
           "mode": "markers+text",
           "text": [
            "0"
           ],
           "textfont": {
            "color": "rgb(255, 255, 255)"
           },
           "textposition": "middle center",
           "x": [
            0.3
           ],
           "y": [
            1
           ]
          },
          {
           "hoverinfo": "none",
           "marker": {
            "color": "rgb(0, 0, 255)",
            "line": {
             "color": "rgb(0, 0, 0)",
             "width": 2
            },
            "size": 20
           },
           "mode": "markers+text",
           "text": [
            "2"
           ],
           "textfont": {
            "color": "rgb(255, 255, 255)"
           },
           "textposition": "middle center",
           "x": [
            0.7
           ],
           "y": [
            1
           ]
          },
          {
           "hoverinfo": "none",
           "marker": {
            "color": "rgb(255, 255, 255)",
            "line": {
             "color": "rgb(0, 0, 0)",
             "width": 2
            },
            "size": 20
           },
           "mode": "markers+text",
           "text": [
            "3"
           ],
           "textfont": {
            "color": "rgb(0, 0, 0)"
           },
           "textposition": "middle center",
           "x": [
            1
           ],
           "y": [
            1
           ]
          },
          {
           "hoverinfo": "none",
           "marker": {
            "color": "rgb(0, 0, 255)",
            "line": {
             "color": "rgb(0, 0, 0)",
             "width": 2
            },
            "size": 20
           },
           "mode": "markers+text",
           "text": [
            "2"
           ],
           "textfont": {
            "color": "rgb(255, 255, 255)"
           },
           "textposition": "middle center",
           "x": [
            0
           ],
           "y": [
            0
           ]
          },
          {
           "hoverinfo": "none",
           "marker": {
            "color": "rgb(0, 0, 255)",
            "line": {
             "color": "rgb(0, 0, 0)",
             "width": 2
            },
            "size": 20
           },
           "mode": "markers+text",
           "text": [
            "1"
           ],
           "textfont": {
            "color": "rgb(255, 255, 255)"
           },
           "textposition": "middle center",
           "x": [
            0.3
           ],
           "y": [
            0
           ]
          },
          {
           "hoverinfo": "none",
           "marker": {
            "color": "rgb(255, 255, 255)",
            "line": {
             "color": "rgb(0, 0, 0)",
             "width": 2
            },
            "size": 20
           },
           "mode": "markers+text",
           "text": [
            "2"
           ],
           "textfont": {
            "color": "rgb(0, 0, 0)"
           },
           "textposition": "middle center",
           "x": [
            0.7
           ],
           "y": [
            0
           ]
          },
          {
           "hoverinfo": "none",
           "marker": {
            "color": "rgb(255, 255, 255)",
            "line": {
             "color": "rgb(0, 0, 0)",
             "width": 2
            },
            "size": 20
           },
           "mode": "markers+text",
           "text": [
            "∞"
           ],
           "textfont": {
            "color": "rgb(0, 0, 0)"
           },
           "textposition": "middle center",
           "x": [
            1
           ],
           "y": [
            0
           ]
          }
         ],
         "name": 32
        },
        {
         "data": [
          {
           "hoverinfo": "none",
           "line": {
            "color": "rgb(0, 0, 0)",
            "width": 2
           },
           "mode": "lines",
           "x": [
            0,
            0.3,
            null
           ],
           "y": [
            1,
            1,
            null
           ]
          },
          {
           "hoverinfo": "none",
           "line": {
            "color": "rgb(0, 0, 0)",
            "width": 2
           },
           "mode": "lines",
           "x": [
            0,
            0,
            null
           ],
           "y": [
            1,
            0,
            null
           ]
          },
          {
           "hoverinfo": "none",
           "line": {
            "color": "rgb(0, 0, 0)",
            "width": 2
           },
           "mode": "lines",
           "x": [
            0.3,
            0.3,
            null
           ],
           "y": [
            1,
            0,
            null
           ]
          },
          {
           "hoverinfo": "none",
           "line": {
            "color": "rgb(0, 0, 0)",
            "width": 2
           },
           "mode": "lines",
           "x": [
            0.7,
            1,
            null
           ],
           "y": [
            1,
            1,
            null
           ]
          },
          {
           "hoverinfo": "none",
           "line": {
            "color": "rgb(0, 0, 0)",
            "width": 2
           },
           "mode": "lines",
           "x": [
            0.7,
            0.3,
            null
           ],
           "y": [
            1,
            0,
            null
           ]
          },
          {
           "hoverinfo": "none",
           "line": {
            "color": "rgb(0, 0, 0)",
            "width": 2
           },
           "mode": "lines",
           "x": [
            0.7,
            0.7,
            null
           ],
           "y": [
            1,
            0,
            null
           ]
          },
          {
           "hoverinfo": "none",
           "line": {
            "color": "rgb(0, 0, 0)",
            "width": 2
           },
           "mode": "lines",
           "x": [
            1,
            0.7,
            null
           ],
           "y": [
            1,
            0,
            null
           ]
          },
          {
           "hoverinfo": "none",
           "line": {
            "color": "rgb(0, 0, 0)",
            "width": 2
           },
           "mode": "lines",
           "x": [
            1,
            1,
            null
           ],
           "y": [
            1,
            0,
            null
           ]
          },
          {
           "hoverinfo": "none",
           "line": {
            "color": "rgb(0, 0, 0)",
            "width": 2
           },
           "mode": "lines",
           "x": [
            0.3,
            0.7,
            null
           ],
           "y": [
            0,
            0,
            null
           ]
          },
          {
           "hoverinfo": "none",
           "line": {
            "color": "rgb(0, 0, 0)",
            "width": 2
           },
           "mode": "lines",
           "x": [
            0.7,
            1,
            null
           ],
           "y": [
            0,
            0,
            null
           ]
          },
          {
           "hoverinfo": "none",
           "marker": {
            "color": "rgb(0, 0, 255)",
            "line": {
             "color": "rgb(0, 0, 0)",
             "width": 2
            },
            "size": 20
           },
           "mode": "markers+text",
           "text": [
            "1"
           ],
           "textfont": {
            "color": "rgb(255, 255, 255)"
           },
           "textposition": "middle center",
           "x": [
            0
           ],
           "y": [
            1
           ]
          },
          {
           "hoverinfo": "none",
           "marker": {
            "color": "rgb(0, 0, 255)",
            "line": {
             "color": "rgb(0, 0, 0)",
             "width": 2
            },
            "size": 20
           },
           "mode": "markers+text",
           "text": [
            "0"
           ],
           "textfont": {
            "color": "rgb(255, 255, 255)"
           },
           "textposition": "middle center",
           "x": [
            0.3
           ],
           "y": [
            1
           ]
          },
          {
           "hoverinfo": "none",
           "marker": {
            "color": "rgb(0, 0, 255)",
            "line": {
             "color": "rgb(0, 0, 0)",
             "width": 2
            },
            "size": 20
           },
           "mode": "markers+text",
           "text": [
            "2"
           ],
           "textfont": {
            "color": "rgb(255, 255, 255)"
           },
           "textposition": "middle center",
           "x": [
            0.7
           ],
           "y": [
            1
           ]
          },
          {
           "hoverinfo": "none",
           "marker": {
            "color": "rgb(255, 255, 255)",
            "line": {
             "color": "rgb(0, 0, 0)",
             "width": 2
            },
            "size": 20
           },
           "mode": "markers+text",
           "text": [
            "3"
           ],
           "textfont": {
            "color": "rgb(0, 0, 0)"
           },
           "textposition": "middle center",
           "x": [
            1
           ],
           "y": [
            1
           ]
          },
          {
           "hoverinfo": "none",
           "marker": {
            "color": "rgb(0, 0, 255)",
            "line": {
             "color": "rgb(0, 0, 0)",
             "width": 2
            },
            "size": 20
           },
           "mode": "markers+text",
           "text": [
            "2"
           ],
           "textfont": {
            "color": "rgb(255, 255, 255)"
           },
           "textposition": "middle center",
           "x": [
            0
           ],
           "y": [
            0
           ]
          },
          {
           "hoverinfo": "none",
           "marker": {
            "color": "rgb(0, 0, 255)",
            "line": {
             "color": "rgb(0, 0, 0)",
             "width": 2
            },
            "size": 20
           },
           "mode": "markers+text",
           "text": [
            "1"
           ],
           "textfont": {
            "color": "rgb(255, 255, 255)"
           },
           "textposition": "middle center",
           "x": [
            0.3
           ],
           "y": [
            0
           ]
          },
          {
           "hoverinfo": "none",
           "marker": {
            "color": "rgb(255, 0, 0)",
            "line": {
             "color": "rgb(0, 0, 0)",
             "width": 2
            },
            "size": 20
           },
           "mode": "markers+text",
           "text": [
            "2"
           ],
           "textfont": {
            "color": "rgb(255, 255, 255)"
           },
           "textposition": "middle center",
           "x": [
            0.7
           ],
           "y": [
            0
           ]
          },
          {
           "hoverinfo": "none",
           "marker": {
            "color": "rgb(255, 255, 255)",
            "line": {
             "color": "rgb(0, 0, 0)",
             "width": 2
            },
            "size": 20
           },
           "mode": "markers+text",
           "text": [
            "∞"
           ],
           "textfont": {
            "color": "rgb(0, 0, 0)"
           },
           "textposition": "middle center",
           "x": [
            1
           ],
           "y": [
            0
           ]
          }
         ],
         "name": 33
        },
        {
         "data": [
          {
           "hoverinfo": "none",
           "line": {
            "color": "rgb(0, 0, 0)",
            "width": 2
           },
           "mode": "lines",
           "x": [
            0,
            0.3,
            null
           ],
           "y": [
            1,
            1,
            null
           ]
          },
          {
           "hoverinfo": "none",
           "line": {
            "color": "rgb(0, 0, 0)",
            "width": 2
           },
           "mode": "lines",
           "x": [
            0,
            0,
            null
           ],
           "y": [
            1,
            0,
            null
           ]
          },
          {
           "hoverinfo": "none",
           "line": {
            "color": "rgb(0, 0, 0)",
            "width": 2
           },
           "mode": "lines",
           "x": [
            0.3,
            0.3,
            null
           ],
           "y": [
            1,
            0,
            null
           ]
          },
          {
           "hoverinfo": "none",
           "line": {
            "color": "rgb(0, 0, 0)",
            "width": 2
           },
           "mode": "lines",
           "x": [
            0.7,
            1,
            null
           ],
           "y": [
            1,
            1,
            null
           ]
          },
          {
           "hoverinfo": "none",
           "line": {
            "color": "rgb(0, 0, 0)",
            "width": 2
           },
           "mode": "lines",
           "x": [
            0.7,
            0.3,
            null
           ],
           "y": [
            1,
            0,
            null
           ]
          },
          {
           "hoverinfo": "none",
           "line": {
            "color": "rgb(255, 0, 0)",
            "width": 2
           },
           "mode": "lines",
           "x": [
            0.7,
            0.7,
            null
           ],
           "y": [
            1,
            0,
            null
           ]
          },
          {
           "hoverinfo": "none",
           "line": {
            "color": "rgb(0, 0, 0)",
            "width": 2
           },
           "mode": "lines",
           "x": [
            1,
            0.7,
            null
           ],
           "y": [
            1,
            0,
            null
           ]
          },
          {
           "hoverinfo": "none",
           "line": {
            "color": "rgb(0, 0, 0)",
            "width": 2
           },
           "mode": "lines",
           "x": [
            1,
            1,
            null
           ],
           "y": [
            1,
            0,
            null
           ]
          },
          {
           "hoverinfo": "none",
           "line": {
            "color": "rgb(0, 0, 0)",
            "width": 2
           },
           "mode": "lines",
           "x": [
            0.3,
            0.7,
            null
           ],
           "y": [
            0,
            0,
            null
           ]
          },
          {
           "hoverinfo": "none",
           "line": {
            "color": "rgb(0, 0, 0)",
            "width": 2
           },
           "mode": "lines",
           "x": [
            0.7,
            1,
            null
           ],
           "y": [
            0,
            0,
            null
           ]
          },
          {
           "hoverinfo": "none",
           "marker": {
            "color": "rgb(0, 0, 255)",
            "line": {
             "color": "rgb(0, 0, 0)",
             "width": 2
            },
            "size": 20
           },
           "mode": "markers+text",
           "text": [
            "1"
           ],
           "textfont": {
            "color": "rgb(255, 255, 255)"
           },
           "textposition": "middle center",
           "x": [
            0
           ],
           "y": [
            1
           ]
          },
          {
           "hoverinfo": "none",
           "marker": {
            "color": "rgb(0, 0, 255)",
            "line": {
             "color": "rgb(0, 0, 0)",
             "width": 2
            },
            "size": 20
           },
           "mode": "markers+text",
           "text": [
            "0"
           ],
           "textfont": {
            "color": "rgb(255, 255, 255)"
           },
           "textposition": "middle center",
           "x": [
            0.3
           ],
           "y": [
            1
           ]
          },
          {
           "hoverinfo": "none",
           "marker": {
            "color": "rgb(0, 0, 255)",
            "line": {
             "color": "rgb(0, 0, 0)",
             "width": 2
            },
            "size": 20
           },
           "mode": "markers+text",
           "text": [
            "2"
           ],
           "textfont": {
            "color": "rgb(255, 255, 255)"
           },
           "textposition": "middle center",
           "x": [
            0.7
           ],
           "y": [
            1
           ]
          },
          {
           "hoverinfo": "none",
           "marker": {
            "color": "rgb(255, 255, 255)",
            "line": {
             "color": "rgb(0, 0, 0)",
             "width": 2
            },
            "size": 20
           },
           "mode": "markers+text",
           "text": [
            "3"
           ],
           "textfont": {
            "color": "rgb(0, 0, 0)"
           },
           "textposition": "middle center",
           "x": [
            1
           ],
           "y": [
            1
           ]
          },
          {
           "hoverinfo": "none",
           "marker": {
            "color": "rgb(0, 0, 255)",
            "line": {
             "color": "rgb(0, 0, 0)",
             "width": 2
            },
            "size": 20
           },
           "mode": "markers+text",
           "text": [
            "2"
           ],
           "textfont": {
            "color": "rgb(255, 255, 255)"
           },
           "textposition": "middle center",
           "x": [
            0
           ],
           "y": [
            0
           ]
          },
          {
           "hoverinfo": "none",
           "marker": {
            "color": "rgb(0, 0, 255)",
            "line": {
             "color": "rgb(0, 0, 0)",
             "width": 2
            },
            "size": 20
           },
           "mode": "markers+text",
           "text": [
            "1"
           ],
           "textfont": {
            "color": "rgb(255, 255, 255)"
           },
           "textposition": "middle center",
           "x": [
            0.3
           ],
           "y": [
            0
           ]
          },
          {
           "hoverinfo": "none",
           "marker": {
            "color": "rgb(255, 0, 0)",
            "line": {
             "color": "rgb(0, 0, 0)",
             "width": 2
            },
            "size": 20
           },
           "mode": "markers+text",
           "text": [
            "2"
           ],
           "textfont": {
            "color": "rgb(255, 255, 255)"
           },
           "textposition": "middle center",
           "x": [
            0.7
           ],
           "y": [
            0
           ]
          },
          {
           "hoverinfo": "none",
           "marker": {
            "color": "rgb(255, 255, 255)",
            "line": {
             "color": "rgb(0, 0, 0)",
             "width": 2
            },
            "size": 20
           },
           "mode": "markers+text",
           "text": [
            "∞"
           ],
           "textfont": {
            "color": "rgb(0, 0, 0)"
           },
           "textposition": "middle center",
           "x": [
            1
           ],
           "y": [
            0
           ]
          }
         ],
         "name": 34
        },
        {
         "data": [
          {
           "hoverinfo": "none",
           "line": {
            "color": "rgb(0, 0, 0)",
            "width": 2
           },
           "mode": "lines",
           "x": [
            0,
            0.3,
            null
           ],
           "y": [
            1,
            1,
            null
           ]
          },
          {
           "hoverinfo": "none",
           "line": {
            "color": "rgb(0, 0, 0)",
            "width": 2
           },
           "mode": "lines",
           "x": [
            0,
            0,
            null
           ],
           "y": [
            1,
            0,
            null
           ]
          },
          {
           "hoverinfo": "none",
           "line": {
            "color": "rgb(0, 0, 0)",
            "width": 2
           },
           "mode": "lines",
           "x": [
            0.3,
            0.3,
            null
           ],
           "y": [
            1,
            0,
            null
           ]
          },
          {
           "hoverinfo": "none",
           "line": {
            "color": "rgb(0, 0, 0)",
            "width": 2
           },
           "mode": "lines",
           "x": [
            0.7,
            1,
            null
           ],
           "y": [
            1,
            1,
            null
           ]
          },
          {
           "hoverinfo": "none",
           "line": {
            "color": "rgb(0, 0, 0)",
            "width": 2
           },
           "mode": "lines",
           "x": [
            0.7,
            0.3,
            null
           ],
           "y": [
            1,
            0,
            null
           ]
          },
          {
           "hoverinfo": "none",
           "line": {
            "color": "rgb(0, 0, 0)",
            "width": 2
           },
           "mode": "lines",
           "x": [
            0.7,
            0.7,
            null
           ],
           "y": [
            1,
            0,
            null
           ]
          },
          {
           "hoverinfo": "none",
           "line": {
            "color": "rgb(0, 0, 0)",
            "width": 2
           },
           "mode": "lines",
           "x": [
            1,
            0.7,
            null
           ],
           "y": [
            1,
            0,
            null
           ]
          },
          {
           "hoverinfo": "none",
           "line": {
            "color": "rgb(0, 0, 0)",
            "width": 2
           },
           "mode": "lines",
           "x": [
            1,
            1,
            null
           ],
           "y": [
            1,
            0,
            null
           ]
          },
          {
           "hoverinfo": "none",
           "line": {
            "color": "rgb(0, 0, 0)",
            "width": 2
           },
           "mode": "lines",
           "x": [
            0.3,
            0.7,
            null
           ],
           "y": [
            0,
            0,
            null
           ]
          },
          {
           "hoverinfo": "none",
           "line": {
            "color": "rgb(0, 0, 0)",
            "width": 2
           },
           "mode": "lines",
           "x": [
            0.7,
            1,
            null
           ],
           "y": [
            0,
            0,
            null
           ]
          },
          {
           "hoverinfo": "none",
           "marker": {
            "color": "rgb(0, 0, 255)",
            "line": {
             "color": "rgb(0, 0, 0)",
             "width": 2
            },
            "size": 20
           },
           "mode": "markers+text",
           "text": [
            "1"
           ],
           "textfont": {
            "color": "rgb(255, 255, 255)"
           },
           "textposition": "middle center",
           "x": [
            0
           ],
           "y": [
            1
           ]
          },
          {
           "hoverinfo": "none",
           "marker": {
            "color": "rgb(0, 0, 255)",
            "line": {
             "color": "rgb(0, 0, 0)",
             "width": 2
            },
            "size": 20
           },
           "mode": "markers+text",
           "text": [
            "0"
           ],
           "textfont": {
            "color": "rgb(255, 255, 255)"
           },
           "textposition": "middle center",
           "x": [
            0.3
           ],
           "y": [
            1
           ]
          },
          {
           "hoverinfo": "none",
           "marker": {
            "color": "rgb(0, 0, 255)",
            "line": {
             "color": "rgb(0, 0, 0)",
             "width": 2
            },
            "size": 20
           },
           "mode": "markers+text",
           "text": [
            "2"
           ],
           "textfont": {
            "color": "rgb(255, 255, 255)"
           },
           "textposition": "middle center",
           "x": [
            0.7
           ],
           "y": [
            1
           ]
          },
          {
           "hoverinfo": "none",
           "marker": {
            "color": "rgb(255, 255, 255)",
            "line": {
             "color": "rgb(0, 0, 0)",
             "width": 2
            },
            "size": 20
           },
           "mode": "markers+text",
           "text": [
            "3"
           ],
           "textfont": {
            "color": "rgb(0, 0, 0)"
           },
           "textposition": "middle center",
           "x": [
            1
           ],
           "y": [
            1
           ]
          },
          {
           "hoverinfo": "none",
           "marker": {
            "color": "rgb(0, 0, 255)",
            "line": {
             "color": "rgb(0, 0, 0)",
             "width": 2
            },
            "size": 20
           },
           "mode": "markers+text",
           "text": [
            "2"
           ],
           "textfont": {
            "color": "rgb(255, 255, 255)"
           },
           "textposition": "middle center",
           "x": [
            0
           ],
           "y": [
            0
           ]
          },
          {
           "hoverinfo": "none",
           "marker": {
            "color": "rgb(0, 0, 255)",
            "line": {
             "color": "rgb(0, 0, 0)",
             "width": 2
            },
            "size": 20
           },
           "mode": "markers+text",
           "text": [
            "1"
           ],
           "textfont": {
            "color": "rgb(255, 255, 255)"
           },
           "textposition": "middle center",
           "x": [
            0.3
           ],
           "y": [
            0
           ]
          },
          {
           "hoverinfo": "none",
           "marker": {
            "color": "rgb(255, 0, 0)",
            "line": {
             "color": "rgb(0, 0, 0)",
             "width": 2
            },
            "size": 20
           },
           "mode": "markers+text",
           "text": [
            "2"
           ],
           "textfont": {
            "color": "rgb(255, 255, 255)"
           },
           "textposition": "middle center",
           "x": [
            0.7
           ],
           "y": [
            0
           ]
          },
          {
           "hoverinfo": "none",
           "marker": {
            "color": "rgb(255, 255, 255)",
            "line": {
             "color": "rgb(0, 0, 0)",
             "width": 2
            },
            "size": 20
           },
           "mode": "markers+text",
           "text": [
            "∞"
           ],
           "textfont": {
            "color": "rgb(0, 0, 0)"
           },
           "textposition": "middle center",
           "x": [
            1
           ],
           "y": [
            0
           ]
          }
         ],
         "name": 35
        },
        {
         "data": [
          {
           "hoverinfo": "none",
           "line": {
            "color": "rgb(0, 0, 0)",
            "width": 2
           },
           "mode": "lines",
           "x": [
            0,
            0.3,
            null
           ],
           "y": [
            1,
            1,
            null
           ]
          },
          {
           "hoverinfo": "none",
           "line": {
            "color": "rgb(0, 0, 0)",
            "width": 2
           },
           "mode": "lines",
           "x": [
            0,
            0,
            null
           ],
           "y": [
            1,
            0,
            null
           ]
          },
          {
           "hoverinfo": "none",
           "line": {
            "color": "rgb(0, 0, 0)",
            "width": 2
           },
           "mode": "lines",
           "x": [
            0.3,
            0.3,
            null
           ],
           "y": [
            1,
            0,
            null
           ]
          },
          {
           "hoverinfo": "none",
           "line": {
            "color": "rgb(0, 0, 0)",
            "width": 2
           },
           "mode": "lines",
           "x": [
            0.7,
            1,
            null
           ],
           "y": [
            1,
            1,
            null
           ]
          },
          {
           "hoverinfo": "none",
           "line": {
            "color": "rgb(0, 0, 0)",
            "width": 2
           },
           "mode": "lines",
           "x": [
            0.7,
            0.3,
            null
           ],
           "y": [
            1,
            0,
            null
           ]
          },
          {
           "hoverinfo": "none",
           "line": {
            "color": "rgb(0, 0, 0)",
            "width": 2
           },
           "mode": "lines",
           "x": [
            0.7,
            0.7,
            null
           ],
           "y": [
            1,
            0,
            null
           ]
          },
          {
           "hoverinfo": "none",
           "line": {
            "color": "rgb(255, 0, 0)",
            "width": 2
           },
           "mode": "lines",
           "x": [
            1,
            0.7,
            null
           ],
           "y": [
            1,
            0,
            null
           ]
          },
          {
           "hoverinfo": "none",
           "line": {
            "color": "rgb(0, 0, 0)",
            "width": 2
           },
           "mode": "lines",
           "x": [
            1,
            1,
            null
           ],
           "y": [
            1,
            0,
            null
           ]
          },
          {
           "hoverinfo": "none",
           "line": {
            "color": "rgb(0, 0, 0)",
            "width": 2
           },
           "mode": "lines",
           "x": [
            0.3,
            0.7,
            null
           ],
           "y": [
            0,
            0,
            null
           ]
          },
          {
           "hoverinfo": "none",
           "line": {
            "color": "rgb(0, 0, 0)",
            "width": 2
           },
           "mode": "lines",
           "x": [
            0.7,
            1,
            null
           ],
           "y": [
            0,
            0,
            null
           ]
          },
          {
           "hoverinfo": "none",
           "marker": {
            "color": "rgb(0, 0, 255)",
            "line": {
             "color": "rgb(0, 0, 0)",
             "width": 2
            },
            "size": 20
           },
           "mode": "markers+text",
           "text": [
            "1"
           ],
           "textfont": {
            "color": "rgb(255, 255, 255)"
           },
           "textposition": "middle center",
           "x": [
            0
           ],
           "y": [
            1
           ]
          },
          {
           "hoverinfo": "none",
           "marker": {
            "color": "rgb(0, 0, 255)",
            "line": {
             "color": "rgb(0, 0, 0)",
             "width": 2
            },
            "size": 20
           },
           "mode": "markers+text",
           "text": [
            "0"
           ],
           "textfont": {
            "color": "rgb(255, 255, 255)"
           },
           "textposition": "middle center",
           "x": [
            0.3
           ],
           "y": [
            1
           ]
          },
          {
           "hoverinfo": "none",
           "marker": {
            "color": "rgb(0, 0, 255)",
            "line": {
             "color": "rgb(0, 0, 0)",
             "width": 2
            },
            "size": 20
           },
           "mode": "markers+text",
           "text": [
            "2"
           ],
           "textfont": {
            "color": "rgb(255, 255, 255)"
           },
           "textposition": "middle center",
           "x": [
            0.7
           ],
           "y": [
            1
           ]
          },
          {
           "hoverinfo": "none",
           "marker": {
            "color": "rgb(255, 255, 255)",
            "line": {
             "color": "rgb(0, 0, 0)",
             "width": 2
            },
            "size": 20
           },
           "mode": "markers+text",
           "text": [
            "3"
           ],
           "textfont": {
            "color": "rgb(0, 0, 0)"
           },
           "textposition": "middle center",
           "x": [
            1
           ],
           "y": [
            1
           ]
          },
          {
           "hoverinfo": "none",
           "marker": {
            "color": "rgb(0, 0, 255)",
            "line": {
             "color": "rgb(0, 0, 0)",
             "width": 2
            },
            "size": 20
           },
           "mode": "markers+text",
           "text": [
            "2"
           ],
           "textfont": {
            "color": "rgb(255, 255, 255)"
           },
           "textposition": "middle center",
           "x": [
            0
           ],
           "y": [
            0
           ]
          },
          {
           "hoverinfo": "none",
           "marker": {
            "color": "rgb(0, 0, 255)",
            "line": {
             "color": "rgb(0, 0, 0)",
             "width": 2
            },
            "size": 20
           },
           "mode": "markers+text",
           "text": [
            "1"
           ],
           "textfont": {
            "color": "rgb(255, 255, 255)"
           },
           "textposition": "middle center",
           "x": [
            0.3
           ],
           "y": [
            0
           ]
          },
          {
           "hoverinfo": "none",
           "marker": {
            "color": "rgb(255, 0, 0)",
            "line": {
             "color": "rgb(0, 0, 0)",
             "width": 2
            },
            "size": 20
           },
           "mode": "markers+text",
           "text": [
            "2"
           ],
           "textfont": {
            "color": "rgb(255, 255, 255)"
           },
           "textposition": "middle center",
           "x": [
            0.7
           ],
           "y": [
            0
           ]
          },
          {
           "hoverinfo": "none",
           "marker": {
            "color": "rgb(255, 255, 255)",
            "line": {
             "color": "rgb(0, 0, 0)",
             "width": 2
            },
            "size": 20
           },
           "mode": "markers+text",
           "text": [
            "∞"
           ],
           "textfont": {
            "color": "rgb(0, 0, 0)"
           },
           "textposition": "middle center",
           "x": [
            1
           ],
           "y": [
            0
           ]
          }
         ],
         "name": 36
        },
        {
         "data": [
          {
           "hoverinfo": "none",
           "line": {
            "color": "rgb(0, 0, 0)",
            "width": 2
           },
           "mode": "lines",
           "x": [
            0,
            0.3,
            null
           ],
           "y": [
            1,
            1,
            null
           ]
          },
          {
           "hoverinfo": "none",
           "line": {
            "color": "rgb(0, 0, 0)",
            "width": 2
           },
           "mode": "lines",
           "x": [
            0,
            0,
            null
           ],
           "y": [
            1,
            0,
            null
           ]
          },
          {
           "hoverinfo": "none",
           "line": {
            "color": "rgb(0, 0, 0)",
            "width": 2
           },
           "mode": "lines",
           "x": [
            0.3,
            0.3,
            null
           ],
           "y": [
            1,
            0,
            null
           ]
          },
          {
           "hoverinfo": "none",
           "line": {
            "color": "rgb(0, 0, 0)",
            "width": 2
           },
           "mode": "lines",
           "x": [
            0.7,
            1,
            null
           ],
           "y": [
            1,
            1,
            null
           ]
          },
          {
           "hoverinfo": "none",
           "line": {
            "color": "rgb(0, 0, 0)",
            "width": 2
           },
           "mode": "lines",
           "x": [
            0.7,
            0.3,
            null
           ],
           "y": [
            1,
            0,
            null
           ]
          },
          {
           "hoverinfo": "none",
           "line": {
            "color": "rgb(0, 0, 0)",
            "width": 2
           },
           "mode": "lines",
           "x": [
            0.7,
            0.7,
            null
           ],
           "y": [
            1,
            0,
            null
           ]
          },
          {
           "hoverinfo": "none",
           "line": {
            "color": "rgb(0, 0, 0)",
            "width": 2
           },
           "mode": "lines",
           "x": [
            1,
            0.7,
            null
           ],
           "y": [
            1,
            0,
            null
           ]
          },
          {
           "hoverinfo": "none",
           "line": {
            "color": "rgb(0, 0, 0)",
            "width": 2
           },
           "mode": "lines",
           "x": [
            1,
            1,
            null
           ],
           "y": [
            1,
            0,
            null
           ]
          },
          {
           "hoverinfo": "none",
           "line": {
            "color": "rgb(0, 0, 0)",
            "width": 2
           },
           "mode": "lines",
           "x": [
            0.3,
            0.7,
            null
           ],
           "y": [
            0,
            0,
            null
           ]
          },
          {
           "hoverinfo": "none",
           "line": {
            "color": "rgb(0, 0, 0)",
            "width": 2
           },
           "mode": "lines",
           "x": [
            0.7,
            1,
            null
           ],
           "y": [
            0,
            0,
            null
           ]
          },
          {
           "hoverinfo": "none",
           "marker": {
            "color": "rgb(0, 0, 255)",
            "line": {
             "color": "rgb(0, 0, 0)",
             "width": 2
            },
            "size": 20
           },
           "mode": "markers+text",
           "text": [
            "1"
           ],
           "textfont": {
            "color": "rgb(255, 255, 255)"
           },
           "textposition": "middle center",
           "x": [
            0
           ],
           "y": [
            1
           ]
          },
          {
           "hoverinfo": "none",
           "marker": {
            "color": "rgb(0, 0, 255)",
            "line": {
             "color": "rgb(0, 0, 0)",
             "width": 2
            },
            "size": 20
           },
           "mode": "markers+text",
           "text": [
            "0"
           ],
           "textfont": {
            "color": "rgb(255, 255, 255)"
           },
           "textposition": "middle center",
           "x": [
            0.3
           ],
           "y": [
            1
           ]
          },
          {
           "hoverinfo": "none",
           "marker": {
            "color": "rgb(0, 0, 255)",
            "line": {
             "color": "rgb(0, 0, 0)",
             "width": 2
            },
            "size": 20
           },
           "mode": "markers+text",
           "text": [
            "2"
           ],
           "textfont": {
            "color": "rgb(255, 255, 255)"
           },
           "textposition": "middle center",
           "x": [
            0.7
           ],
           "y": [
            1
           ]
          },
          {
           "hoverinfo": "none",
           "marker": {
            "color": "rgb(255, 255, 255)",
            "line": {
             "color": "rgb(0, 0, 0)",
             "width": 2
            },
            "size": 20
           },
           "mode": "markers+text",
           "text": [
            "3"
           ],
           "textfont": {
            "color": "rgb(0, 0, 0)"
           },
           "textposition": "middle center",
           "x": [
            1
           ],
           "y": [
            1
           ]
          },
          {
           "hoverinfo": "none",
           "marker": {
            "color": "rgb(0, 0, 255)",
            "line": {
             "color": "rgb(0, 0, 0)",
             "width": 2
            },
            "size": 20
           },
           "mode": "markers+text",
           "text": [
            "2"
           ],
           "textfont": {
            "color": "rgb(255, 255, 255)"
           },
           "textposition": "middle center",
           "x": [
            0
           ],
           "y": [
            0
           ]
          },
          {
           "hoverinfo": "none",
           "marker": {
            "color": "rgb(0, 0, 255)",
            "line": {
             "color": "rgb(0, 0, 0)",
             "width": 2
            },
            "size": 20
           },
           "mode": "markers+text",
           "text": [
            "1"
           ],
           "textfont": {
            "color": "rgb(255, 255, 255)"
           },
           "textposition": "middle center",
           "x": [
            0.3
           ],
           "y": [
            0
           ]
          },
          {
           "hoverinfo": "none",
           "marker": {
            "color": "rgb(255, 0, 0)",
            "line": {
             "color": "rgb(0, 0, 0)",
             "width": 2
            },
            "size": 20
           },
           "mode": "markers+text",
           "text": [
            "2"
           ],
           "textfont": {
            "color": "rgb(255, 255, 255)"
           },
           "textposition": "middle center",
           "x": [
            0.7
           ],
           "y": [
            0
           ]
          },
          {
           "hoverinfo": "none",
           "marker": {
            "color": "rgb(255, 255, 255)",
            "line": {
             "color": "rgb(0, 0, 0)",
             "width": 2
            },
            "size": 20
           },
           "mode": "markers+text",
           "text": [
            "∞"
           ],
           "textfont": {
            "color": "rgb(0, 0, 0)"
           },
           "textposition": "middle center",
           "x": [
            1
           ],
           "y": [
            0
           ]
          }
         ],
         "name": 37
        },
        {
         "data": [
          {
           "hoverinfo": "none",
           "line": {
            "color": "rgb(0, 0, 0)",
            "width": 2
           },
           "mode": "lines",
           "x": [
            0,
            0.3,
            null
           ],
           "y": [
            1,
            1,
            null
           ]
          },
          {
           "hoverinfo": "none",
           "line": {
            "color": "rgb(0, 0, 0)",
            "width": 2
           },
           "mode": "lines",
           "x": [
            0,
            0,
            null
           ],
           "y": [
            1,
            0,
            null
           ]
          },
          {
           "hoverinfo": "none",
           "line": {
            "color": "rgb(0, 0, 0)",
            "width": 2
           },
           "mode": "lines",
           "x": [
            0.3,
            0.3,
            null
           ],
           "y": [
            1,
            0,
            null
           ]
          },
          {
           "hoverinfo": "none",
           "line": {
            "color": "rgb(0, 0, 0)",
            "width": 2
           },
           "mode": "lines",
           "x": [
            0.7,
            1,
            null
           ],
           "y": [
            1,
            1,
            null
           ]
          },
          {
           "hoverinfo": "none",
           "line": {
            "color": "rgb(0, 0, 0)",
            "width": 2
           },
           "mode": "lines",
           "x": [
            0.7,
            0.3,
            null
           ],
           "y": [
            1,
            0,
            null
           ]
          },
          {
           "hoverinfo": "none",
           "line": {
            "color": "rgb(0, 0, 0)",
            "width": 2
           },
           "mode": "lines",
           "x": [
            0.7,
            0.7,
            null
           ],
           "y": [
            1,
            0,
            null
           ]
          },
          {
           "hoverinfo": "none",
           "line": {
            "color": "rgb(0, 0, 0)",
            "width": 2
           },
           "mode": "lines",
           "x": [
            1,
            0.7,
            null
           ],
           "y": [
            1,
            0,
            null
           ]
          },
          {
           "hoverinfo": "none",
           "line": {
            "color": "rgb(0, 0, 0)",
            "width": 2
           },
           "mode": "lines",
           "x": [
            1,
            1,
            null
           ],
           "y": [
            1,
            0,
            null
           ]
          },
          {
           "hoverinfo": "none",
           "line": {
            "color": "rgb(255, 0, 0)",
            "width": 2
           },
           "mode": "lines",
           "x": [
            0.3,
            0.7,
            null
           ],
           "y": [
            0,
            0,
            null
           ]
          },
          {
           "hoverinfo": "none",
           "line": {
            "color": "rgb(0, 0, 0)",
            "width": 2
           },
           "mode": "lines",
           "x": [
            0.7,
            1,
            null
           ],
           "y": [
            0,
            0,
            null
           ]
          },
          {
           "hoverinfo": "none",
           "marker": {
            "color": "rgb(0, 0, 255)",
            "line": {
             "color": "rgb(0, 0, 0)",
             "width": 2
            },
            "size": 20
           },
           "mode": "markers+text",
           "text": [
            "1"
           ],
           "textfont": {
            "color": "rgb(255, 255, 255)"
           },
           "textposition": "middle center",
           "x": [
            0
           ],
           "y": [
            1
           ]
          },
          {
           "hoverinfo": "none",
           "marker": {
            "color": "rgb(0, 0, 255)",
            "line": {
             "color": "rgb(0, 0, 0)",
             "width": 2
            },
            "size": 20
           },
           "mode": "markers+text",
           "text": [
            "0"
           ],
           "textfont": {
            "color": "rgb(255, 255, 255)"
           },
           "textposition": "middle center",
           "x": [
            0.3
           ],
           "y": [
            1
           ]
          },
          {
           "hoverinfo": "none",
           "marker": {
            "color": "rgb(0, 0, 255)",
            "line": {
             "color": "rgb(0, 0, 0)",
             "width": 2
            },
            "size": 20
           },
           "mode": "markers+text",
           "text": [
            "2"
           ],
           "textfont": {
            "color": "rgb(255, 255, 255)"
           },
           "textposition": "middle center",
           "x": [
            0.7
           ],
           "y": [
            1
           ]
          },
          {
           "hoverinfo": "none",
           "marker": {
            "color": "rgb(255, 255, 255)",
            "line": {
             "color": "rgb(0, 0, 0)",
             "width": 2
            },
            "size": 20
           },
           "mode": "markers+text",
           "text": [
            "3"
           ],
           "textfont": {
            "color": "rgb(0, 0, 0)"
           },
           "textposition": "middle center",
           "x": [
            1
           ],
           "y": [
            1
           ]
          },
          {
           "hoverinfo": "none",
           "marker": {
            "color": "rgb(0, 0, 255)",
            "line": {
             "color": "rgb(0, 0, 0)",
             "width": 2
            },
            "size": 20
           },
           "mode": "markers+text",
           "text": [
            "2"
           ],
           "textfont": {
            "color": "rgb(255, 255, 255)"
           },
           "textposition": "middle center",
           "x": [
            0
           ],
           "y": [
            0
           ]
          },
          {
           "hoverinfo": "none",
           "marker": {
            "color": "rgb(0, 0, 255)",
            "line": {
             "color": "rgb(0, 0, 0)",
             "width": 2
            },
            "size": 20
           },
           "mode": "markers+text",
           "text": [
            "1"
           ],
           "textfont": {
            "color": "rgb(255, 255, 255)"
           },
           "textposition": "middle center",
           "x": [
            0.3
           ],
           "y": [
            0
           ]
          },
          {
           "hoverinfo": "none",
           "marker": {
            "color": "rgb(255, 0, 0)",
            "line": {
             "color": "rgb(0, 0, 0)",
             "width": 2
            },
            "size": 20
           },
           "mode": "markers+text",
           "text": [
            "2"
           ],
           "textfont": {
            "color": "rgb(255, 255, 255)"
           },
           "textposition": "middle center",
           "x": [
            0.7
           ],
           "y": [
            0
           ]
          },
          {
           "hoverinfo": "none",
           "marker": {
            "color": "rgb(255, 255, 255)",
            "line": {
             "color": "rgb(0, 0, 0)",
             "width": 2
            },
            "size": 20
           },
           "mode": "markers+text",
           "text": [
            "∞"
           ],
           "textfont": {
            "color": "rgb(0, 0, 0)"
           },
           "textposition": "middle center",
           "x": [
            1
           ],
           "y": [
            0
           ]
          }
         ],
         "name": 38
        },
        {
         "data": [
          {
           "hoverinfo": "none",
           "line": {
            "color": "rgb(0, 0, 0)",
            "width": 2
           },
           "mode": "lines",
           "x": [
            0,
            0.3,
            null
           ],
           "y": [
            1,
            1,
            null
           ]
          },
          {
           "hoverinfo": "none",
           "line": {
            "color": "rgb(0, 0, 0)",
            "width": 2
           },
           "mode": "lines",
           "x": [
            0,
            0,
            null
           ],
           "y": [
            1,
            0,
            null
           ]
          },
          {
           "hoverinfo": "none",
           "line": {
            "color": "rgb(0, 0, 0)",
            "width": 2
           },
           "mode": "lines",
           "x": [
            0.3,
            0.3,
            null
           ],
           "y": [
            1,
            0,
            null
           ]
          },
          {
           "hoverinfo": "none",
           "line": {
            "color": "rgb(0, 0, 0)",
            "width": 2
           },
           "mode": "lines",
           "x": [
            0.7,
            1,
            null
           ],
           "y": [
            1,
            1,
            null
           ]
          },
          {
           "hoverinfo": "none",
           "line": {
            "color": "rgb(0, 0, 0)",
            "width": 2
           },
           "mode": "lines",
           "x": [
            0.7,
            0.3,
            null
           ],
           "y": [
            1,
            0,
            null
           ]
          },
          {
           "hoverinfo": "none",
           "line": {
            "color": "rgb(0, 0, 0)",
            "width": 2
           },
           "mode": "lines",
           "x": [
            0.7,
            0.7,
            null
           ],
           "y": [
            1,
            0,
            null
           ]
          },
          {
           "hoverinfo": "none",
           "line": {
            "color": "rgb(0, 0, 0)",
            "width": 2
           },
           "mode": "lines",
           "x": [
            1,
            0.7,
            null
           ],
           "y": [
            1,
            0,
            null
           ]
          },
          {
           "hoverinfo": "none",
           "line": {
            "color": "rgb(0, 0, 0)",
            "width": 2
           },
           "mode": "lines",
           "x": [
            1,
            1,
            null
           ],
           "y": [
            1,
            0,
            null
           ]
          },
          {
           "hoverinfo": "none",
           "line": {
            "color": "rgb(0, 0, 0)",
            "width": 2
           },
           "mode": "lines",
           "x": [
            0.3,
            0.7,
            null
           ],
           "y": [
            0,
            0,
            null
           ]
          },
          {
           "hoverinfo": "none",
           "line": {
            "color": "rgb(0, 0, 0)",
            "width": 2
           },
           "mode": "lines",
           "x": [
            0.7,
            1,
            null
           ],
           "y": [
            0,
            0,
            null
           ]
          },
          {
           "hoverinfo": "none",
           "marker": {
            "color": "rgb(0, 0, 255)",
            "line": {
             "color": "rgb(0, 0, 0)",
             "width": 2
            },
            "size": 20
           },
           "mode": "markers+text",
           "text": [
            "1"
           ],
           "textfont": {
            "color": "rgb(255, 255, 255)"
           },
           "textposition": "middle center",
           "x": [
            0
           ],
           "y": [
            1
           ]
          },
          {
           "hoverinfo": "none",
           "marker": {
            "color": "rgb(0, 0, 255)",
            "line": {
             "color": "rgb(0, 0, 0)",
             "width": 2
            },
            "size": 20
           },
           "mode": "markers+text",
           "text": [
            "0"
           ],
           "textfont": {
            "color": "rgb(255, 255, 255)"
           },
           "textposition": "middle center",
           "x": [
            0.3
           ],
           "y": [
            1
           ]
          },
          {
           "hoverinfo": "none",
           "marker": {
            "color": "rgb(0, 0, 255)",
            "line": {
             "color": "rgb(0, 0, 0)",
             "width": 2
            },
            "size": 20
           },
           "mode": "markers+text",
           "text": [
            "2"
           ],
           "textfont": {
            "color": "rgb(255, 255, 255)"
           },
           "textposition": "middle center",
           "x": [
            0.7
           ],
           "y": [
            1
           ]
          },
          {
           "hoverinfo": "none",
           "marker": {
            "color": "rgb(255, 255, 255)",
            "line": {
             "color": "rgb(0, 0, 0)",
             "width": 2
            },
            "size": 20
           },
           "mode": "markers+text",
           "text": [
            "3"
           ],
           "textfont": {
            "color": "rgb(0, 0, 0)"
           },
           "textposition": "middle center",
           "x": [
            1
           ],
           "y": [
            1
           ]
          },
          {
           "hoverinfo": "none",
           "marker": {
            "color": "rgb(0, 0, 255)",
            "line": {
             "color": "rgb(0, 0, 0)",
             "width": 2
            },
            "size": 20
           },
           "mode": "markers+text",
           "text": [
            "2"
           ],
           "textfont": {
            "color": "rgb(255, 255, 255)"
           },
           "textposition": "middle center",
           "x": [
            0
           ],
           "y": [
            0
           ]
          },
          {
           "hoverinfo": "none",
           "marker": {
            "color": "rgb(0, 0, 255)",
            "line": {
             "color": "rgb(0, 0, 0)",
             "width": 2
            },
            "size": 20
           },
           "mode": "markers+text",
           "text": [
            "1"
           ],
           "textfont": {
            "color": "rgb(255, 255, 255)"
           },
           "textposition": "middle center",
           "x": [
            0.3
           ],
           "y": [
            0
           ]
          },
          {
           "hoverinfo": "none",
           "marker": {
            "color": "rgb(255, 0, 0)",
            "line": {
             "color": "rgb(0, 0, 0)",
             "width": 2
            },
            "size": 20
           },
           "mode": "markers+text",
           "text": [
            "2"
           ],
           "textfont": {
            "color": "rgb(255, 255, 255)"
           },
           "textposition": "middle center",
           "x": [
            0.7
           ],
           "y": [
            0
           ]
          },
          {
           "hoverinfo": "none",
           "marker": {
            "color": "rgb(255, 255, 255)",
            "line": {
             "color": "rgb(0, 0, 0)",
             "width": 2
            },
            "size": 20
           },
           "mode": "markers+text",
           "text": [
            "∞"
           ],
           "textfont": {
            "color": "rgb(0, 0, 0)"
           },
           "textposition": "middle center",
           "x": [
            1
           ],
           "y": [
            0
           ]
          }
         ],
         "name": 39
        },
        {
         "data": [
          {
           "hoverinfo": "none",
           "line": {
            "color": "rgb(0, 0, 0)",
            "width": 2
           },
           "mode": "lines",
           "x": [
            0,
            0.3,
            null
           ],
           "y": [
            1,
            1,
            null
           ]
          },
          {
           "hoverinfo": "none",
           "line": {
            "color": "rgb(0, 0, 0)",
            "width": 2
           },
           "mode": "lines",
           "x": [
            0,
            0,
            null
           ],
           "y": [
            1,
            0,
            null
           ]
          },
          {
           "hoverinfo": "none",
           "line": {
            "color": "rgb(0, 0, 0)",
            "width": 2
           },
           "mode": "lines",
           "x": [
            0.3,
            0.3,
            null
           ],
           "y": [
            1,
            0,
            null
           ]
          },
          {
           "hoverinfo": "none",
           "line": {
            "color": "rgb(0, 0, 0)",
            "width": 2
           },
           "mode": "lines",
           "x": [
            0.7,
            1,
            null
           ],
           "y": [
            1,
            1,
            null
           ]
          },
          {
           "hoverinfo": "none",
           "line": {
            "color": "rgb(0, 0, 0)",
            "width": 2
           },
           "mode": "lines",
           "x": [
            0.7,
            0.3,
            null
           ],
           "y": [
            1,
            0,
            null
           ]
          },
          {
           "hoverinfo": "none",
           "line": {
            "color": "rgb(0, 0, 0)",
            "width": 2
           },
           "mode": "lines",
           "x": [
            0.7,
            0.7,
            null
           ],
           "y": [
            1,
            0,
            null
           ]
          },
          {
           "hoverinfo": "none",
           "line": {
            "color": "rgb(0, 0, 0)",
            "width": 2
           },
           "mode": "lines",
           "x": [
            1,
            0.7,
            null
           ],
           "y": [
            1,
            0,
            null
           ]
          },
          {
           "hoverinfo": "none",
           "line": {
            "color": "rgb(0, 0, 0)",
            "width": 2
           },
           "mode": "lines",
           "x": [
            1,
            1,
            null
           ],
           "y": [
            1,
            0,
            null
           ]
          },
          {
           "hoverinfo": "none",
           "line": {
            "color": "rgb(0, 0, 0)",
            "width": 2
           },
           "mode": "lines",
           "x": [
            0.3,
            0.7,
            null
           ],
           "y": [
            0,
            0,
            null
           ]
          },
          {
           "hoverinfo": "none",
           "line": {
            "color": "rgb(255, 0, 0)",
            "width": 2
           },
           "mode": "lines",
           "x": [
            0.7,
            1,
            null
           ],
           "y": [
            0,
            0,
            null
           ]
          },
          {
           "hoverinfo": "none",
           "marker": {
            "color": "rgb(0, 0, 255)",
            "line": {
             "color": "rgb(0, 0, 0)",
             "width": 2
            },
            "size": 20
           },
           "mode": "markers+text",
           "text": [
            "1"
           ],
           "textfont": {
            "color": "rgb(255, 255, 255)"
           },
           "textposition": "middle center",
           "x": [
            0
           ],
           "y": [
            1
           ]
          },
          {
           "hoverinfo": "none",
           "marker": {
            "color": "rgb(0, 0, 255)",
            "line": {
             "color": "rgb(0, 0, 0)",
             "width": 2
            },
            "size": 20
           },
           "mode": "markers+text",
           "text": [
            "0"
           ],
           "textfont": {
            "color": "rgb(255, 255, 255)"
           },
           "textposition": "middle center",
           "x": [
            0.3
           ],
           "y": [
            1
           ]
          },
          {
           "hoverinfo": "none",
           "marker": {
            "color": "rgb(0, 0, 255)",
            "line": {
             "color": "rgb(0, 0, 0)",
             "width": 2
            },
            "size": 20
           },
           "mode": "markers+text",
           "text": [
            "2"
           ],
           "textfont": {
            "color": "rgb(255, 255, 255)"
           },
           "textposition": "middle center",
           "x": [
            0.7
           ],
           "y": [
            1
           ]
          },
          {
           "hoverinfo": "none",
           "marker": {
            "color": "rgb(255, 255, 255)",
            "line": {
             "color": "rgb(0, 0, 0)",
             "width": 2
            },
            "size": 20
           },
           "mode": "markers+text",
           "text": [
            "3"
           ],
           "textfont": {
            "color": "rgb(0, 0, 0)"
           },
           "textposition": "middle center",
           "x": [
            1
           ],
           "y": [
            1
           ]
          },
          {
           "hoverinfo": "none",
           "marker": {
            "color": "rgb(0, 0, 255)",
            "line": {
             "color": "rgb(0, 0, 0)",
             "width": 2
            },
            "size": 20
           },
           "mode": "markers+text",
           "text": [
            "2"
           ],
           "textfont": {
            "color": "rgb(255, 255, 255)"
           },
           "textposition": "middle center",
           "x": [
            0
           ],
           "y": [
            0
           ]
          },
          {
           "hoverinfo": "none",
           "marker": {
            "color": "rgb(0, 0, 255)",
            "line": {
             "color": "rgb(0, 0, 0)",
             "width": 2
            },
            "size": 20
           },
           "mode": "markers+text",
           "text": [
            "1"
           ],
           "textfont": {
            "color": "rgb(255, 255, 255)"
           },
           "textposition": "middle center",
           "x": [
            0.3
           ],
           "y": [
            0
           ]
          },
          {
           "hoverinfo": "none",
           "marker": {
            "color": "rgb(255, 0, 0)",
            "line": {
             "color": "rgb(0, 0, 0)",
             "width": 2
            },
            "size": 20
           },
           "mode": "markers+text",
           "text": [
            "2"
           ],
           "textfont": {
            "color": "rgb(255, 255, 255)"
           },
           "textposition": "middle center",
           "x": [
            0.7
           ],
           "y": [
            0
           ]
          },
          {
           "hoverinfo": "none",
           "marker": {
            "color": "rgb(255, 255, 255)",
            "line": {
             "color": "rgb(0, 0, 0)",
             "width": 2
            },
            "size": 20
           },
           "mode": "markers+text",
           "text": [
            "∞"
           ],
           "textfont": {
            "color": "rgb(0, 0, 0)"
           },
           "textposition": "middle center",
           "x": [
            1
           ],
           "y": [
            0
           ]
          }
         ],
         "name": 40
        },
        {
         "data": [
          {
           "hoverinfo": "none",
           "line": {
            "color": "rgb(0, 0, 0)",
            "width": 2
           },
           "mode": "lines",
           "x": [
            0,
            0.3,
            null
           ],
           "y": [
            1,
            1,
            null
           ]
          },
          {
           "hoverinfo": "none",
           "line": {
            "color": "rgb(0, 0, 0)",
            "width": 2
           },
           "mode": "lines",
           "x": [
            0,
            0,
            null
           ],
           "y": [
            1,
            0,
            null
           ]
          },
          {
           "hoverinfo": "none",
           "line": {
            "color": "rgb(0, 0, 0)",
            "width": 2
           },
           "mode": "lines",
           "x": [
            0.3,
            0.3,
            null
           ],
           "y": [
            1,
            0,
            null
           ]
          },
          {
           "hoverinfo": "none",
           "line": {
            "color": "rgb(0, 0, 0)",
            "width": 2
           },
           "mode": "lines",
           "x": [
            0.7,
            1,
            null
           ],
           "y": [
            1,
            1,
            null
           ]
          },
          {
           "hoverinfo": "none",
           "line": {
            "color": "rgb(0, 0, 0)",
            "width": 2
           },
           "mode": "lines",
           "x": [
            0.7,
            0.3,
            null
           ],
           "y": [
            1,
            0,
            null
           ]
          },
          {
           "hoverinfo": "none",
           "line": {
            "color": "rgb(0, 0, 0)",
            "width": 2
           },
           "mode": "lines",
           "x": [
            0.7,
            0.7,
            null
           ],
           "y": [
            1,
            0,
            null
           ]
          },
          {
           "hoverinfo": "none",
           "line": {
            "color": "rgb(0, 0, 0)",
            "width": 2
           },
           "mode": "lines",
           "x": [
            1,
            0.7,
            null
           ],
           "y": [
            1,
            0,
            null
           ]
          },
          {
           "hoverinfo": "none",
           "line": {
            "color": "rgb(0, 0, 0)",
            "width": 2
           },
           "mode": "lines",
           "x": [
            1,
            1,
            null
           ],
           "y": [
            1,
            0,
            null
           ]
          },
          {
           "hoverinfo": "none",
           "line": {
            "color": "rgb(0, 0, 0)",
            "width": 2
           },
           "mode": "lines",
           "x": [
            0.3,
            0.7,
            null
           ],
           "y": [
            0,
            0,
            null
           ]
          },
          {
           "hoverinfo": "none",
           "line": {
            "color": "rgb(0, 0, 0)",
            "width": 2
           },
           "mode": "lines",
           "x": [
            0.7,
            1,
            null
           ],
           "y": [
            0,
            0,
            null
           ]
          },
          {
           "hoverinfo": "none",
           "marker": {
            "color": "rgb(0, 0, 255)",
            "line": {
             "color": "rgb(0, 0, 0)",
             "width": 2
            },
            "size": 20
           },
           "mode": "markers+text",
           "text": [
            "1"
           ],
           "textfont": {
            "color": "rgb(255, 255, 255)"
           },
           "textposition": "middle center",
           "x": [
            0
           ],
           "y": [
            1
           ]
          },
          {
           "hoverinfo": "none",
           "marker": {
            "color": "rgb(0, 0, 255)",
            "line": {
             "color": "rgb(0, 0, 0)",
             "width": 2
            },
            "size": 20
           },
           "mode": "markers+text",
           "text": [
            "0"
           ],
           "textfont": {
            "color": "rgb(255, 255, 255)"
           },
           "textposition": "middle center",
           "x": [
            0.3
           ],
           "y": [
            1
           ]
          },
          {
           "hoverinfo": "none",
           "marker": {
            "color": "rgb(0, 0, 255)",
            "line": {
             "color": "rgb(0, 0, 0)",
             "width": 2
            },
            "size": 20
           },
           "mode": "markers+text",
           "text": [
            "2"
           ],
           "textfont": {
            "color": "rgb(255, 255, 255)"
           },
           "textposition": "middle center",
           "x": [
            0.7
           ],
           "y": [
            1
           ]
          },
          {
           "hoverinfo": "none",
           "marker": {
            "color": "rgb(255, 255, 255)",
            "line": {
             "color": "rgb(0, 0, 0)",
             "width": 2
            },
            "size": 20
           },
           "mode": "markers+text",
           "text": [
            "3"
           ],
           "textfont": {
            "color": "rgb(0, 0, 0)"
           },
           "textposition": "middle center",
           "x": [
            1
           ],
           "y": [
            1
           ]
          },
          {
           "hoverinfo": "none",
           "marker": {
            "color": "rgb(0, 0, 255)",
            "line": {
             "color": "rgb(0, 0, 0)",
             "width": 2
            },
            "size": 20
           },
           "mode": "markers+text",
           "text": [
            "2"
           ],
           "textfont": {
            "color": "rgb(255, 255, 255)"
           },
           "textposition": "middle center",
           "x": [
            0
           ],
           "y": [
            0
           ]
          },
          {
           "hoverinfo": "none",
           "marker": {
            "color": "rgb(0, 0, 255)",
            "line": {
             "color": "rgb(0, 0, 0)",
             "width": 2
            },
            "size": 20
           },
           "mode": "markers+text",
           "text": [
            "1"
           ],
           "textfont": {
            "color": "rgb(255, 255, 255)"
           },
           "textposition": "middle center",
           "x": [
            0.3
           ],
           "y": [
            0
           ]
          },
          {
           "hoverinfo": "none",
           "marker": {
            "color": "rgb(255, 0, 0)",
            "line": {
             "color": "rgb(0, 0, 0)",
             "width": 2
            },
            "size": 20
           },
           "mode": "markers+text",
           "text": [
            "2"
           ],
           "textfont": {
            "color": "rgb(255, 255, 255)"
           },
           "textposition": "middle center",
           "x": [
            0.7
           ],
           "y": [
            0
           ]
          },
          {
           "hoverinfo": "none",
           "marker": {
            "color": "rgb(255, 255, 255)",
            "line": {
             "color": "rgb(0, 0, 0)",
             "width": 2
            },
            "size": 20
           },
           "mode": "markers+text",
           "text": [
            "3"
           ],
           "textfont": {
            "color": "rgb(0, 0, 0)"
           },
           "textposition": "middle center",
           "x": [
            1
           ],
           "y": [
            0
           ]
          }
         ],
         "name": 41
        },
        {
         "data": [
          {
           "hoverinfo": "none",
           "line": {
            "color": "rgb(0, 0, 0)",
            "width": 2
           },
           "mode": "lines",
           "x": [
            0,
            0.3,
            null
           ],
           "y": [
            1,
            1,
            null
           ]
          },
          {
           "hoverinfo": "none",
           "line": {
            "color": "rgb(0, 0, 0)",
            "width": 2
           },
           "mode": "lines",
           "x": [
            0,
            0,
            null
           ],
           "y": [
            1,
            0,
            null
           ]
          },
          {
           "hoverinfo": "none",
           "line": {
            "color": "rgb(0, 0, 0)",
            "width": 2
           },
           "mode": "lines",
           "x": [
            0.3,
            0.3,
            null
           ],
           "y": [
            1,
            0,
            null
           ]
          },
          {
           "hoverinfo": "none",
           "line": {
            "color": "rgb(0, 0, 0)",
            "width": 2
           },
           "mode": "lines",
           "x": [
            0.7,
            1,
            null
           ],
           "y": [
            1,
            1,
            null
           ]
          },
          {
           "hoverinfo": "none",
           "line": {
            "color": "rgb(0, 0, 0)",
            "width": 2
           },
           "mode": "lines",
           "x": [
            0.7,
            0.3,
            null
           ],
           "y": [
            1,
            0,
            null
           ]
          },
          {
           "hoverinfo": "none",
           "line": {
            "color": "rgb(0, 0, 0)",
            "width": 2
           },
           "mode": "lines",
           "x": [
            0.7,
            0.7,
            null
           ],
           "y": [
            1,
            0,
            null
           ]
          },
          {
           "hoverinfo": "none",
           "line": {
            "color": "rgb(0, 0, 0)",
            "width": 2
           },
           "mode": "lines",
           "x": [
            1,
            0.7,
            null
           ],
           "y": [
            1,
            0,
            null
           ]
          },
          {
           "hoverinfo": "none",
           "line": {
            "color": "rgb(0, 0, 0)",
            "width": 2
           },
           "mode": "lines",
           "x": [
            1,
            1,
            null
           ],
           "y": [
            1,
            0,
            null
           ]
          },
          {
           "hoverinfo": "none",
           "line": {
            "color": "rgb(0, 0, 0)",
            "width": 2
           },
           "mode": "lines",
           "x": [
            0.3,
            0.7,
            null
           ],
           "y": [
            0,
            0,
            null
           ]
          },
          {
           "hoverinfo": "none",
           "line": {
            "color": "rgb(0, 0, 0)",
            "width": 2
           },
           "mode": "lines",
           "x": [
            0.7,
            1,
            null
           ],
           "y": [
            0,
            0,
            null
           ]
          },
          {
           "hoverinfo": "none",
           "marker": {
            "color": "rgb(0, 0, 255)",
            "line": {
             "color": "rgb(0, 0, 0)",
             "width": 2
            },
            "size": 20
           },
           "mode": "markers+text",
           "text": [
            "1"
           ],
           "textfont": {
            "color": "rgb(255, 255, 255)"
           },
           "textposition": "middle center",
           "x": [
            0
           ],
           "y": [
            1
           ]
          },
          {
           "hoverinfo": "none",
           "marker": {
            "color": "rgb(0, 0, 255)",
            "line": {
             "color": "rgb(0, 0, 0)",
             "width": 2
            },
            "size": 20
           },
           "mode": "markers+text",
           "text": [
            "0"
           ],
           "textfont": {
            "color": "rgb(255, 255, 255)"
           },
           "textposition": "middle center",
           "x": [
            0.3
           ],
           "y": [
            1
           ]
          },
          {
           "hoverinfo": "none",
           "marker": {
            "color": "rgb(0, 0, 255)",
            "line": {
             "color": "rgb(0, 0, 0)",
             "width": 2
            },
            "size": 20
           },
           "mode": "markers+text",
           "text": [
            "2"
           ],
           "textfont": {
            "color": "rgb(255, 255, 255)"
           },
           "textposition": "middle center",
           "x": [
            0.7
           ],
           "y": [
            1
           ]
          },
          {
           "hoverinfo": "none",
           "marker": {
            "color": "rgb(255, 255, 255)",
            "line": {
             "color": "rgb(0, 0, 0)",
             "width": 2
            },
            "size": 20
           },
           "mode": "markers+text",
           "text": [
            "3"
           ],
           "textfont": {
            "color": "rgb(0, 0, 0)"
           },
           "textposition": "middle center",
           "x": [
            1
           ],
           "y": [
            1
           ]
          },
          {
           "hoverinfo": "none",
           "marker": {
            "color": "rgb(0, 0, 255)",
            "line": {
             "color": "rgb(0, 0, 0)",
             "width": 2
            },
            "size": 20
           },
           "mode": "markers+text",
           "text": [
            "2"
           ],
           "textfont": {
            "color": "rgb(255, 255, 255)"
           },
           "textposition": "middle center",
           "x": [
            0
           ],
           "y": [
            0
           ]
          },
          {
           "hoverinfo": "none",
           "marker": {
            "color": "rgb(0, 0, 255)",
            "line": {
             "color": "rgb(0, 0, 0)",
             "width": 2
            },
            "size": 20
           },
           "mode": "markers+text",
           "text": [
            "1"
           ],
           "textfont": {
            "color": "rgb(255, 255, 255)"
           },
           "textposition": "middle center",
           "x": [
            0.3
           ],
           "y": [
            0
           ]
          },
          {
           "hoverinfo": "none",
           "marker": {
            "color": "rgb(0, 0, 255)",
            "line": {
             "color": "rgb(0, 0, 0)",
             "width": 2
            },
            "size": 20
           },
           "mode": "markers+text",
           "text": [
            "2"
           ],
           "textfont": {
            "color": "rgb(255, 255, 255)"
           },
           "textposition": "middle center",
           "x": [
            0.7
           ],
           "y": [
            0
           ]
          },
          {
           "hoverinfo": "none",
           "marker": {
            "color": "rgb(255, 255, 255)",
            "line": {
             "color": "rgb(0, 0, 0)",
             "width": 2
            },
            "size": 20
           },
           "mode": "markers+text",
           "text": [
            "3"
           ],
           "textfont": {
            "color": "rgb(0, 0, 0)"
           },
           "textposition": "middle center",
           "x": [
            1
           ],
           "y": [
            0
           ]
          }
         ],
         "name": 42
        },
        {
         "data": [
          {
           "hoverinfo": "none",
           "line": {
            "color": "rgb(0, 0, 0)",
            "width": 2
           },
           "mode": "lines",
           "x": [
            0,
            0.3,
            null
           ],
           "y": [
            1,
            1,
            null
           ]
          },
          {
           "hoverinfo": "none",
           "line": {
            "color": "rgb(0, 0, 0)",
            "width": 2
           },
           "mode": "lines",
           "x": [
            0,
            0,
            null
           ],
           "y": [
            1,
            0,
            null
           ]
          },
          {
           "hoverinfo": "none",
           "line": {
            "color": "rgb(0, 0, 0)",
            "width": 2
           },
           "mode": "lines",
           "x": [
            0.3,
            0.3,
            null
           ],
           "y": [
            1,
            0,
            null
           ]
          },
          {
           "hoverinfo": "none",
           "line": {
            "color": "rgb(0, 0, 0)",
            "width": 2
           },
           "mode": "lines",
           "x": [
            0.7,
            1,
            null
           ],
           "y": [
            1,
            1,
            null
           ]
          },
          {
           "hoverinfo": "none",
           "line": {
            "color": "rgb(0, 0, 0)",
            "width": 2
           },
           "mode": "lines",
           "x": [
            0.7,
            0.3,
            null
           ],
           "y": [
            1,
            0,
            null
           ]
          },
          {
           "hoverinfo": "none",
           "line": {
            "color": "rgb(0, 0, 0)",
            "width": 2
           },
           "mode": "lines",
           "x": [
            0.7,
            0.7,
            null
           ],
           "y": [
            1,
            0,
            null
           ]
          },
          {
           "hoverinfo": "none",
           "line": {
            "color": "rgb(0, 0, 0)",
            "width": 2
           },
           "mode": "lines",
           "x": [
            1,
            0.7,
            null
           ],
           "y": [
            1,
            0,
            null
           ]
          },
          {
           "hoverinfo": "none",
           "line": {
            "color": "rgb(0, 0, 0)",
            "width": 2
           },
           "mode": "lines",
           "x": [
            1,
            1,
            null
           ],
           "y": [
            1,
            0,
            null
           ]
          },
          {
           "hoverinfo": "none",
           "line": {
            "color": "rgb(0, 0, 0)",
            "width": 2
           },
           "mode": "lines",
           "x": [
            0.3,
            0.7,
            null
           ],
           "y": [
            0,
            0,
            null
           ]
          },
          {
           "hoverinfo": "none",
           "line": {
            "color": "rgb(0, 0, 0)",
            "width": 2
           },
           "mode": "lines",
           "x": [
            0.7,
            1,
            null
           ],
           "y": [
            0,
            0,
            null
           ]
          },
          {
           "hoverinfo": "none",
           "marker": {
            "color": "rgb(0, 0, 255)",
            "line": {
             "color": "rgb(0, 0, 0)",
             "width": 2
            },
            "size": 20
           },
           "mode": "markers+text",
           "text": [
            "1"
           ],
           "textfont": {
            "color": "rgb(255, 255, 255)"
           },
           "textposition": "middle center",
           "x": [
            0
           ],
           "y": [
            1
           ]
          },
          {
           "hoverinfo": "none",
           "marker": {
            "color": "rgb(0, 0, 255)",
            "line": {
             "color": "rgb(0, 0, 0)",
             "width": 2
            },
            "size": 20
           },
           "mode": "markers+text",
           "text": [
            "0"
           ],
           "textfont": {
            "color": "rgb(255, 255, 255)"
           },
           "textposition": "middle center",
           "x": [
            0.3
           ],
           "y": [
            1
           ]
          },
          {
           "hoverinfo": "none",
           "marker": {
            "color": "rgb(0, 0, 255)",
            "line": {
             "color": "rgb(0, 0, 0)",
             "width": 2
            },
            "size": 20
           },
           "mode": "markers+text",
           "text": [
            "2"
           ],
           "textfont": {
            "color": "rgb(255, 255, 255)"
           },
           "textposition": "middle center",
           "x": [
            0.7
           ],
           "y": [
            1
           ]
          },
          {
           "hoverinfo": "none",
           "marker": {
            "color": "rgb(255, 0, 0)",
            "line": {
             "color": "rgb(0, 0, 0)",
             "width": 2
            },
            "size": 20
           },
           "mode": "markers+text",
           "text": [
            "3"
           ],
           "textfont": {
            "color": "rgb(255, 255, 255)"
           },
           "textposition": "middle center",
           "x": [
            1
           ],
           "y": [
            1
           ]
          },
          {
           "hoverinfo": "none",
           "marker": {
            "color": "rgb(0, 0, 255)",
            "line": {
             "color": "rgb(0, 0, 0)",
             "width": 2
            },
            "size": 20
           },
           "mode": "markers+text",
           "text": [
            "2"
           ],
           "textfont": {
            "color": "rgb(255, 255, 255)"
           },
           "textposition": "middle center",
           "x": [
            0
           ],
           "y": [
            0
           ]
          },
          {
           "hoverinfo": "none",
           "marker": {
            "color": "rgb(0, 0, 255)",
            "line": {
             "color": "rgb(0, 0, 0)",
             "width": 2
            },
            "size": 20
           },
           "mode": "markers+text",
           "text": [
            "1"
           ],
           "textfont": {
            "color": "rgb(255, 255, 255)"
           },
           "textposition": "middle center",
           "x": [
            0.3
           ],
           "y": [
            0
           ]
          },
          {
           "hoverinfo": "none",
           "marker": {
            "color": "rgb(0, 0, 255)",
            "line": {
             "color": "rgb(0, 0, 0)",
             "width": 2
            },
            "size": 20
           },
           "mode": "markers+text",
           "text": [
            "2"
           ],
           "textfont": {
            "color": "rgb(255, 255, 255)"
           },
           "textposition": "middle center",
           "x": [
            0.7
           ],
           "y": [
            0
           ]
          },
          {
           "hoverinfo": "none",
           "marker": {
            "color": "rgb(255, 255, 255)",
            "line": {
             "color": "rgb(0, 0, 0)",
             "width": 2
            },
            "size": 20
           },
           "mode": "markers+text",
           "text": [
            "3"
           ],
           "textfont": {
            "color": "rgb(0, 0, 0)"
           },
           "textposition": "middle center",
           "x": [
            1
           ],
           "y": [
            0
           ]
          }
         ],
         "name": 43
        },
        {
         "data": [
          {
           "hoverinfo": "none",
           "line": {
            "color": "rgb(0, 0, 0)",
            "width": 2
           },
           "mode": "lines",
           "x": [
            0,
            0.3,
            null
           ],
           "y": [
            1,
            1,
            null
           ]
          },
          {
           "hoverinfo": "none",
           "line": {
            "color": "rgb(0, 0, 0)",
            "width": 2
           },
           "mode": "lines",
           "x": [
            0,
            0,
            null
           ],
           "y": [
            1,
            0,
            null
           ]
          },
          {
           "hoverinfo": "none",
           "line": {
            "color": "rgb(0, 0, 0)",
            "width": 2
           },
           "mode": "lines",
           "x": [
            0.3,
            0.3,
            null
           ],
           "y": [
            1,
            0,
            null
           ]
          },
          {
           "hoverinfo": "none",
           "line": {
            "color": "rgb(255, 0, 0)",
            "width": 2
           },
           "mode": "lines",
           "x": [
            0.7,
            1,
            null
           ],
           "y": [
            1,
            1,
            null
           ]
          },
          {
           "hoverinfo": "none",
           "line": {
            "color": "rgb(0, 0, 0)",
            "width": 2
           },
           "mode": "lines",
           "x": [
            0.7,
            0.3,
            null
           ],
           "y": [
            1,
            0,
            null
           ]
          },
          {
           "hoverinfo": "none",
           "line": {
            "color": "rgb(0, 0, 0)",
            "width": 2
           },
           "mode": "lines",
           "x": [
            0.7,
            0.7,
            null
           ],
           "y": [
            1,
            0,
            null
           ]
          },
          {
           "hoverinfo": "none",
           "line": {
            "color": "rgb(0, 0, 0)",
            "width": 2
           },
           "mode": "lines",
           "x": [
            1,
            0.7,
            null
           ],
           "y": [
            1,
            0,
            null
           ]
          },
          {
           "hoverinfo": "none",
           "line": {
            "color": "rgb(0, 0, 0)",
            "width": 2
           },
           "mode": "lines",
           "x": [
            1,
            1,
            null
           ],
           "y": [
            1,
            0,
            null
           ]
          },
          {
           "hoverinfo": "none",
           "line": {
            "color": "rgb(0, 0, 0)",
            "width": 2
           },
           "mode": "lines",
           "x": [
            0.3,
            0.7,
            null
           ],
           "y": [
            0,
            0,
            null
           ]
          },
          {
           "hoverinfo": "none",
           "line": {
            "color": "rgb(0, 0, 0)",
            "width": 2
           },
           "mode": "lines",
           "x": [
            0.7,
            1,
            null
           ],
           "y": [
            0,
            0,
            null
           ]
          },
          {
           "hoverinfo": "none",
           "marker": {
            "color": "rgb(0, 0, 255)",
            "line": {
             "color": "rgb(0, 0, 0)",
             "width": 2
            },
            "size": 20
           },
           "mode": "markers+text",
           "text": [
            "1"
           ],
           "textfont": {
            "color": "rgb(255, 255, 255)"
           },
           "textposition": "middle center",
           "x": [
            0
           ],
           "y": [
            1
           ]
          },
          {
           "hoverinfo": "none",
           "marker": {
            "color": "rgb(0, 0, 255)",
            "line": {
             "color": "rgb(0, 0, 0)",
             "width": 2
            },
            "size": 20
           },
           "mode": "markers+text",
           "text": [
            "0"
           ],
           "textfont": {
            "color": "rgb(255, 255, 255)"
           },
           "textposition": "middle center",
           "x": [
            0.3
           ],
           "y": [
            1
           ]
          },
          {
           "hoverinfo": "none",
           "marker": {
            "color": "rgb(0, 0, 255)",
            "line": {
             "color": "rgb(0, 0, 0)",
             "width": 2
            },
            "size": 20
           },
           "mode": "markers+text",
           "text": [
            "2"
           ],
           "textfont": {
            "color": "rgb(255, 255, 255)"
           },
           "textposition": "middle center",
           "x": [
            0.7
           ],
           "y": [
            1
           ]
          },
          {
           "hoverinfo": "none",
           "marker": {
            "color": "rgb(255, 0, 0)",
            "line": {
             "color": "rgb(0, 0, 0)",
             "width": 2
            },
            "size": 20
           },
           "mode": "markers+text",
           "text": [
            "3"
           ],
           "textfont": {
            "color": "rgb(255, 255, 255)"
           },
           "textposition": "middle center",
           "x": [
            1
           ],
           "y": [
            1
           ]
          },
          {
           "hoverinfo": "none",
           "marker": {
            "color": "rgb(0, 0, 255)",
            "line": {
             "color": "rgb(0, 0, 0)",
             "width": 2
            },
            "size": 20
           },
           "mode": "markers+text",
           "text": [
            "2"
           ],
           "textfont": {
            "color": "rgb(255, 255, 255)"
           },
           "textposition": "middle center",
           "x": [
            0
           ],
           "y": [
            0
           ]
          },
          {
           "hoverinfo": "none",
           "marker": {
            "color": "rgb(0, 0, 255)",
            "line": {
             "color": "rgb(0, 0, 0)",
             "width": 2
            },
            "size": 20
           },
           "mode": "markers+text",
           "text": [
            "1"
           ],
           "textfont": {
            "color": "rgb(255, 255, 255)"
           },
           "textposition": "middle center",
           "x": [
            0.3
           ],
           "y": [
            0
           ]
          },
          {
           "hoverinfo": "none",
           "marker": {
            "color": "rgb(0, 0, 255)",
            "line": {
             "color": "rgb(0, 0, 0)",
             "width": 2
            },
            "size": 20
           },
           "mode": "markers+text",
           "text": [
            "2"
           ],
           "textfont": {
            "color": "rgb(255, 255, 255)"
           },
           "textposition": "middle center",
           "x": [
            0.7
           ],
           "y": [
            0
           ]
          },
          {
           "hoverinfo": "none",
           "marker": {
            "color": "rgb(255, 255, 255)",
            "line": {
             "color": "rgb(0, 0, 0)",
             "width": 2
            },
            "size": 20
           },
           "mode": "markers+text",
           "text": [
            "3"
           ],
           "textfont": {
            "color": "rgb(0, 0, 0)"
           },
           "textposition": "middle center",
           "x": [
            1
           ],
           "y": [
            0
           ]
          }
         ],
         "name": 44
        },
        {
         "data": [
          {
           "hoverinfo": "none",
           "line": {
            "color": "rgb(0, 0, 0)",
            "width": 2
           },
           "mode": "lines",
           "x": [
            0,
            0.3,
            null
           ],
           "y": [
            1,
            1,
            null
           ]
          },
          {
           "hoverinfo": "none",
           "line": {
            "color": "rgb(0, 0, 0)",
            "width": 2
           },
           "mode": "lines",
           "x": [
            0,
            0,
            null
           ],
           "y": [
            1,
            0,
            null
           ]
          },
          {
           "hoverinfo": "none",
           "line": {
            "color": "rgb(0, 0, 0)",
            "width": 2
           },
           "mode": "lines",
           "x": [
            0.3,
            0.3,
            null
           ],
           "y": [
            1,
            0,
            null
           ]
          },
          {
           "hoverinfo": "none",
           "line": {
            "color": "rgb(0, 0, 0)",
            "width": 2
           },
           "mode": "lines",
           "x": [
            0.7,
            1,
            null
           ],
           "y": [
            1,
            1,
            null
           ]
          },
          {
           "hoverinfo": "none",
           "line": {
            "color": "rgb(0, 0, 0)",
            "width": 2
           },
           "mode": "lines",
           "x": [
            0.7,
            0.3,
            null
           ],
           "y": [
            1,
            0,
            null
           ]
          },
          {
           "hoverinfo": "none",
           "line": {
            "color": "rgb(0, 0, 0)",
            "width": 2
           },
           "mode": "lines",
           "x": [
            0.7,
            0.7,
            null
           ],
           "y": [
            1,
            0,
            null
           ]
          },
          {
           "hoverinfo": "none",
           "line": {
            "color": "rgb(0, 0, 0)",
            "width": 2
           },
           "mode": "lines",
           "x": [
            1,
            0.7,
            null
           ],
           "y": [
            1,
            0,
            null
           ]
          },
          {
           "hoverinfo": "none",
           "line": {
            "color": "rgb(0, 0, 0)",
            "width": 2
           },
           "mode": "lines",
           "x": [
            1,
            1,
            null
           ],
           "y": [
            1,
            0,
            null
           ]
          },
          {
           "hoverinfo": "none",
           "line": {
            "color": "rgb(0, 0, 0)",
            "width": 2
           },
           "mode": "lines",
           "x": [
            0.3,
            0.7,
            null
           ],
           "y": [
            0,
            0,
            null
           ]
          },
          {
           "hoverinfo": "none",
           "line": {
            "color": "rgb(0, 0, 0)",
            "width": 2
           },
           "mode": "lines",
           "x": [
            0.7,
            1,
            null
           ],
           "y": [
            0,
            0,
            null
           ]
          },
          {
           "hoverinfo": "none",
           "marker": {
            "color": "rgb(0, 0, 255)",
            "line": {
             "color": "rgb(0, 0, 0)",
             "width": 2
            },
            "size": 20
           },
           "mode": "markers+text",
           "text": [
            "1"
           ],
           "textfont": {
            "color": "rgb(255, 255, 255)"
           },
           "textposition": "middle center",
           "x": [
            0
           ],
           "y": [
            1
           ]
          },
          {
           "hoverinfo": "none",
           "marker": {
            "color": "rgb(0, 0, 255)",
            "line": {
             "color": "rgb(0, 0, 0)",
             "width": 2
            },
            "size": 20
           },
           "mode": "markers+text",
           "text": [
            "0"
           ],
           "textfont": {
            "color": "rgb(255, 255, 255)"
           },
           "textposition": "middle center",
           "x": [
            0.3
           ],
           "y": [
            1
           ]
          },
          {
           "hoverinfo": "none",
           "marker": {
            "color": "rgb(0, 0, 255)",
            "line": {
             "color": "rgb(0, 0, 0)",
             "width": 2
            },
            "size": 20
           },
           "mode": "markers+text",
           "text": [
            "2"
           ],
           "textfont": {
            "color": "rgb(255, 255, 255)"
           },
           "textposition": "middle center",
           "x": [
            0.7
           ],
           "y": [
            1
           ]
          },
          {
           "hoverinfo": "none",
           "marker": {
            "color": "rgb(255, 0, 0)",
            "line": {
             "color": "rgb(0, 0, 0)",
             "width": 2
            },
            "size": 20
           },
           "mode": "markers+text",
           "text": [
            "3"
           ],
           "textfont": {
            "color": "rgb(255, 255, 255)"
           },
           "textposition": "middle center",
           "x": [
            1
           ],
           "y": [
            1
           ]
          },
          {
           "hoverinfo": "none",
           "marker": {
            "color": "rgb(0, 0, 255)",
            "line": {
             "color": "rgb(0, 0, 0)",
             "width": 2
            },
            "size": 20
           },
           "mode": "markers+text",
           "text": [
            "2"
           ],
           "textfont": {
            "color": "rgb(255, 255, 255)"
           },
           "textposition": "middle center",
           "x": [
            0
           ],
           "y": [
            0
           ]
          },
          {
           "hoverinfo": "none",
           "marker": {
            "color": "rgb(0, 0, 255)",
            "line": {
             "color": "rgb(0, 0, 0)",
             "width": 2
            },
            "size": 20
           },
           "mode": "markers+text",
           "text": [
            "1"
           ],
           "textfont": {
            "color": "rgb(255, 255, 255)"
           },
           "textposition": "middle center",
           "x": [
            0.3
           ],
           "y": [
            0
           ]
          },
          {
           "hoverinfo": "none",
           "marker": {
            "color": "rgb(0, 0, 255)",
            "line": {
             "color": "rgb(0, 0, 0)",
             "width": 2
            },
            "size": 20
           },
           "mode": "markers+text",
           "text": [
            "2"
           ],
           "textfont": {
            "color": "rgb(255, 255, 255)"
           },
           "textposition": "middle center",
           "x": [
            0.7
           ],
           "y": [
            0
           ]
          },
          {
           "hoverinfo": "none",
           "marker": {
            "color": "rgb(255, 255, 255)",
            "line": {
             "color": "rgb(0, 0, 0)",
             "width": 2
            },
            "size": 20
           },
           "mode": "markers+text",
           "text": [
            "3"
           ],
           "textfont": {
            "color": "rgb(0, 0, 0)"
           },
           "textposition": "middle center",
           "x": [
            1
           ],
           "y": [
            0
           ]
          }
         ],
         "name": 45
        },
        {
         "data": [
          {
           "hoverinfo": "none",
           "line": {
            "color": "rgb(0, 0, 0)",
            "width": 2
           },
           "mode": "lines",
           "x": [
            0,
            0.3,
            null
           ],
           "y": [
            1,
            1,
            null
           ]
          },
          {
           "hoverinfo": "none",
           "line": {
            "color": "rgb(0, 0, 0)",
            "width": 2
           },
           "mode": "lines",
           "x": [
            0,
            0,
            null
           ],
           "y": [
            1,
            0,
            null
           ]
          },
          {
           "hoverinfo": "none",
           "line": {
            "color": "rgb(0, 0, 0)",
            "width": 2
           },
           "mode": "lines",
           "x": [
            0.3,
            0.3,
            null
           ],
           "y": [
            1,
            0,
            null
           ]
          },
          {
           "hoverinfo": "none",
           "line": {
            "color": "rgb(0, 0, 0)",
            "width": 2
           },
           "mode": "lines",
           "x": [
            0.7,
            1,
            null
           ],
           "y": [
            1,
            1,
            null
           ]
          },
          {
           "hoverinfo": "none",
           "line": {
            "color": "rgb(0, 0, 0)",
            "width": 2
           },
           "mode": "lines",
           "x": [
            0.7,
            0.3,
            null
           ],
           "y": [
            1,
            0,
            null
           ]
          },
          {
           "hoverinfo": "none",
           "line": {
            "color": "rgb(0, 0, 0)",
            "width": 2
           },
           "mode": "lines",
           "x": [
            0.7,
            0.7,
            null
           ],
           "y": [
            1,
            0,
            null
           ]
          },
          {
           "hoverinfo": "none",
           "line": {
            "color": "rgb(255, 0, 0)",
            "width": 2
           },
           "mode": "lines",
           "x": [
            1,
            0.7,
            null
           ],
           "y": [
            1,
            0,
            null
           ]
          },
          {
           "hoverinfo": "none",
           "line": {
            "color": "rgb(0, 0, 0)",
            "width": 2
           },
           "mode": "lines",
           "x": [
            1,
            1,
            null
           ],
           "y": [
            1,
            0,
            null
           ]
          },
          {
           "hoverinfo": "none",
           "line": {
            "color": "rgb(0, 0, 0)",
            "width": 2
           },
           "mode": "lines",
           "x": [
            0.3,
            0.7,
            null
           ],
           "y": [
            0,
            0,
            null
           ]
          },
          {
           "hoverinfo": "none",
           "line": {
            "color": "rgb(0, 0, 0)",
            "width": 2
           },
           "mode": "lines",
           "x": [
            0.7,
            1,
            null
           ],
           "y": [
            0,
            0,
            null
           ]
          },
          {
           "hoverinfo": "none",
           "marker": {
            "color": "rgb(0, 0, 255)",
            "line": {
             "color": "rgb(0, 0, 0)",
             "width": 2
            },
            "size": 20
           },
           "mode": "markers+text",
           "text": [
            "1"
           ],
           "textfont": {
            "color": "rgb(255, 255, 255)"
           },
           "textposition": "middle center",
           "x": [
            0
           ],
           "y": [
            1
           ]
          },
          {
           "hoverinfo": "none",
           "marker": {
            "color": "rgb(0, 0, 255)",
            "line": {
             "color": "rgb(0, 0, 0)",
             "width": 2
            },
            "size": 20
           },
           "mode": "markers+text",
           "text": [
            "0"
           ],
           "textfont": {
            "color": "rgb(255, 255, 255)"
           },
           "textposition": "middle center",
           "x": [
            0.3
           ],
           "y": [
            1
           ]
          },
          {
           "hoverinfo": "none",
           "marker": {
            "color": "rgb(0, 0, 255)",
            "line": {
             "color": "rgb(0, 0, 0)",
             "width": 2
            },
            "size": 20
           },
           "mode": "markers+text",
           "text": [
            "2"
           ],
           "textfont": {
            "color": "rgb(255, 255, 255)"
           },
           "textposition": "middle center",
           "x": [
            0.7
           ],
           "y": [
            1
           ]
          },
          {
           "hoverinfo": "none",
           "marker": {
            "color": "rgb(255, 0, 0)",
            "line": {
             "color": "rgb(0, 0, 0)",
             "width": 2
            },
            "size": 20
           },
           "mode": "markers+text",
           "text": [
            "3"
           ],
           "textfont": {
            "color": "rgb(255, 255, 255)"
           },
           "textposition": "middle center",
           "x": [
            1
           ],
           "y": [
            1
           ]
          },
          {
           "hoverinfo": "none",
           "marker": {
            "color": "rgb(0, 0, 255)",
            "line": {
             "color": "rgb(0, 0, 0)",
             "width": 2
            },
            "size": 20
           },
           "mode": "markers+text",
           "text": [
            "2"
           ],
           "textfont": {
            "color": "rgb(255, 255, 255)"
           },
           "textposition": "middle center",
           "x": [
            0
           ],
           "y": [
            0
           ]
          },
          {
           "hoverinfo": "none",
           "marker": {
            "color": "rgb(0, 0, 255)",
            "line": {
             "color": "rgb(0, 0, 0)",
             "width": 2
            },
            "size": 20
           },
           "mode": "markers+text",
           "text": [
            "1"
           ],
           "textfont": {
            "color": "rgb(255, 255, 255)"
           },
           "textposition": "middle center",
           "x": [
            0.3
           ],
           "y": [
            0
           ]
          },
          {
           "hoverinfo": "none",
           "marker": {
            "color": "rgb(0, 0, 255)",
            "line": {
             "color": "rgb(0, 0, 0)",
             "width": 2
            },
            "size": 20
           },
           "mode": "markers+text",
           "text": [
            "2"
           ],
           "textfont": {
            "color": "rgb(255, 255, 255)"
           },
           "textposition": "middle center",
           "x": [
            0.7
           ],
           "y": [
            0
           ]
          },
          {
           "hoverinfo": "none",
           "marker": {
            "color": "rgb(255, 255, 255)",
            "line": {
             "color": "rgb(0, 0, 0)",
             "width": 2
            },
            "size": 20
           },
           "mode": "markers+text",
           "text": [
            "3"
           ],
           "textfont": {
            "color": "rgb(0, 0, 0)"
           },
           "textposition": "middle center",
           "x": [
            1
           ],
           "y": [
            0
           ]
          }
         ],
         "name": 46
        },
        {
         "data": [
          {
           "hoverinfo": "none",
           "line": {
            "color": "rgb(0, 0, 0)",
            "width": 2
           },
           "mode": "lines",
           "x": [
            0,
            0.3,
            null
           ],
           "y": [
            1,
            1,
            null
           ]
          },
          {
           "hoverinfo": "none",
           "line": {
            "color": "rgb(0, 0, 0)",
            "width": 2
           },
           "mode": "lines",
           "x": [
            0,
            0,
            null
           ],
           "y": [
            1,
            0,
            null
           ]
          },
          {
           "hoverinfo": "none",
           "line": {
            "color": "rgb(0, 0, 0)",
            "width": 2
           },
           "mode": "lines",
           "x": [
            0.3,
            0.3,
            null
           ],
           "y": [
            1,
            0,
            null
           ]
          },
          {
           "hoverinfo": "none",
           "line": {
            "color": "rgb(0, 0, 0)",
            "width": 2
           },
           "mode": "lines",
           "x": [
            0.7,
            1,
            null
           ],
           "y": [
            1,
            1,
            null
           ]
          },
          {
           "hoverinfo": "none",
           "line": {
            "color": "rgb(0, 0, 0)",
            "width": 2
           },
           "mode": "lines",
           "x": [
            0.7,
            0.3,
            null
           ],
           "y": [
            1,
            0,
            null
           ]
          },
          {
           "hoverinfo": "none",
           "line": {
            "color": "rgb(0, 0, 0)",
            "width": 2
           },
           "mode": "lines",
           "x": [
            0.7,
            0.7,
            null
           ],
           "y": [
            1,
            0,
            null
           ]
          },
          {
           "hoverinfo": "none",
           "line": {
            "color": "rgb(0, 0, 0)",
            "width": 2
           },
           "mode": "lines",
           "x": [
            1,
            0.7,
            null
           ],
           "y": [
            1,
            0,
            null
           ]
          },
          {
           "hoverinfo": "none",
           "line": {
            "color": "rgb(0, 0, 0)",
            "width": 2
           },
           "mode": "lines",
           "x": [
            1,
            1,
            null
           ],
           "y": [
            1,
            0,
            null
           ]
          },
          {
           "hoverinfo": "none",
           "line": {
            "color": "rgb(0, 0, 0)",
            "width": 2
           },
           "mode": "lines",
           "x": [
            0.3,
            0.7,
            null
           ],
           "y": [
            0,
            0,
            null
           ]
          },
          {
           "hoverinfo": "none",
           "line": {
            "color": "rgb(0, 0, 0)",
            "width": 2
           },
           "mode": "lines",
           "x": [
            0.7,
            1,
            null
           ],
           "y": [
            0,
            0,
            null
           ]
          },
          {
           "hoverinfo": "none",
           "marker": {
            "color": "rgb(0, 0, 255)",
            "line": {
             "color": "rgb(0, 0, 0)",
             "width": 2
            },
            "size": 20
           },
           "mode": "markers+text",
           "text": [
            "1"
           ],
           "textfont": {
            "color": "rgb(255, 255, 255)"
           },
           "textposition": "middle center",
           "x": [
            0
           ],
           "y": [
            1
           ]
          },
          {
           "hoverinfo": "none",
           "marker": {
            "color": "rgb(0, 0, 255)",
            "line": {
             "color": "rgb(0, 0, 0)",
             "width": 2
            },
            "size": 20
           },
           "mode": "markers+text",
           "text": [
            "0"
           ],
           "textfont": {
            "color": "rgb(255, 255, 255)"
           },
           "textposition": "middle center",
           "x": [
            0.3
           ],
           "y": [
            1
           ]
          },
          {
           "hoverinfo": "none",
           "marker": {
            "color": "rgb(0, 0, 255)",
            "line": {
             "color": "rgb(0, 0, 0)",
             "width": 2
            },
            "size": 20
           },
           "mode": "markers+text",
           "text": [
            "2"
           ],
           "textfont": {
            "color": "rgb(255, 255, 255)"
           },
           "textposition": "middle center",
           "x": [
            0.7
           ],
           "y": [
            1
           ]
          },
          {
           "hoverinfo": "none",
           "marker": {
            "color": "rgb(255, 0, 0)",
            "line": {
             "color": "rgb(0, 0, 0)",
             "width": 2
            },
            "size": 20
           },
           "mode": "markers+text",
           "text": [
            "3"
           ],
           "textfont": {
            "color": "rgb(255, 255, 255)"
           },
           "textposition": "middle center",
           "x": [
            1
           ],
           "y": [
            1
           ]
          },
          {
           "hoverinfo": "none",
           "marker": {
            "color": "rgb(0, 0, 255)",
            "line": {
             "color": "rgb(0, 0, 0)",
             "width": 2
            },
            "size": 20
           },
           "mode": "markers+text",
           "text": [
            "2"
           ],
           "textfont": {
            "color": "rgb(255, 255, 255)"
           },
           "textposition": "middle center",
           "x": [
            0
           ],
           "y": [
            0
           ]
          },
          {
           "hoverinfo": "none",
           "marker": {
            "color": "rgb(0, 0, 255)",
            "line": {
             "color": "rgb(0, 0, 0)",
             "width": 2
            },
            "size": 20
           },
           "mode": "markers+text",
           "text": [
            "1"
           ],
           "textfont": {
            "color": "rgb(255, 255, 255)"
           },
           "textposition": "middle center",
           "x": [
            0.3
           ],
           "y": [
            0
           ]
          },
          {
           "hoverinfo": "none",
           "marker": {
            "color": "rgb(0, 0, 255)",
            "line": {
             "color": "rgb(0, 0, 0)",
             "width": 2
            },
            "size": 20
           },
           "mode": "markers+text",
           "text": [
            "2"
           ],
           "textfont": {
            "color": "rgb(255, 255, 255)"
           },
           "textposition": "middle center",
           "x": [
            0.7
           ],
           "y": [
            0
           ]
          },
          {
           "hoverinfo": "none",
           "marker": {
            "color": "rgb(255, 255, 255)",
            "line": {
             "color": "rgb(0, 0, 0)",
             "width": 2
            },
            "size": 20
           },
           "mode": "markers+text",
           "text": [
            "3"
           ],
           "textfont": {
            "color": "rgb(0, 0, 0)"
           },
           "textposition": "middle center",
           "x": [
            1
           ],
           "y": [
            0
           ]
          }
         ],
         "name": 47
        },
        {
         "data": [
          {
           "hoverinfo": "none",
           "line": {
            "color": "rgb(0, 0, 0)",
            "width": 2
           },
           "mode": "lines",
           "x": [
            0,
            0.3,
            null
           ],
           "y": [
            1,
            1,
            null
           ]
          },
          {
           "hoverinfo": "none",
           "line": {
            "color": "rgb(0, 0, 0)",
            "width": 2
           },
           "mode": "lines",
           "x": [
            0,
            0,
            null
           ],
           "y": [
            1,
            0,
            null
           ]
          },
          {
           "hoverinfo": "none",
           "line": {
            "color": "rgb(0, 0, 0)",
            "width": 2
           },
           "mode": "lines",
           "x": [
            0.3,
            0.3,
            null
           ],
           "y": [
            1,
            0,
            null
           ]
          },
          {
           "hoverinfo": "none",
           "line": {
            "color": "rgb(0, 0, 0)",
            "width": 2
           },
           "mode": "lines",
           "x": [
            0.7,
            1,
            null
           ],
           "y": [
            1,
            1,
            null
           ]
          },
          {
           "hoverinfo": "none",
           "line": {
            "color": "rgb(0, 0, 0)",
            "width": 2
           },
           "mode": "lines",
           "x": [
            0.7,
            0.3,
            null
           ],
           "y": [
            1,
            0,
            null
           ]
          },
          {
           "hoverinfo": "none",
           "line": {
            "color": "rgb(0, 0, 0)",
            "width": 2
           },
           "mode": "lines",
           "x": [
            0.7,
            0.7,
            null
           ],
           "y": [
            1,
            0,
            null
           ]
          },
          {
           "hoverinfo": "none",
           "line": {
            "color": "rgb(0, 0, 0)",
            "width": 2
           },
           "mode": "lines",
           "x": [
            1,
            0.7,
            null
           ],
           "y": [
            1,
            0,
            null
           ]
          },
          {
           "hoverinfo": "none",
           "line": {
            "color": "rgb(255, 0, 0)",
            "width": 2
           },
           "mode": "lines",
           "x": [
            1,
            1,
            null
           ],
           "y": [
            1,
            0,
            null
           ]
          },
          {
           "hoverinfo": "none",
           "line": {
            "color": "rgb(0, 0, 0)",
            "width": 2
           },
           "mode": "lines",
           "x": [
            0.3,
            0.7,
            null
           ],
           "y": [
            0,
            0,
            null
           ]
          },
          {
           "hoverinfo": "none",
           "line": {
            "color": "rgb(0, 0, 0)",
            "width": 2
           },
           "mode": "lines",
           "x": [
            0.7,
            1,
            null
           ],
           "y": [
            0,
            0,
            null
           ]
          },
          {
           "hoverinfo": "none",
           "marker": {
            "color": "rgb(0, 0, 255)",
            "line": {
             "color": "rgb(0, 0, 0)",
             "width": 2
            },
            "size": 20
           },
           "mode": "markers+text",
           "text": [
            "1"
           ],
           "textfont": {
            "color": "rgb(255, 255, 255)"
           },
           "textposition": "middle center",
           "x": [
            0
           ],
           "y": [
            1
           ]
          },
          {
           "hoverinfo": "none",
           "marker": {
            "color": "rgb(0, 0, 255)",
            "line": {
             "color": "rgb(0, 0, 0)",
             "width": 2
            },
            "size": 20
           },
           "mode": "markers+text",
           "text": [
            "0"
           ],
           "textfont": {
            "color": "rgb(255, 255, 255)"
           },
           "textposition": "middle center",
           "x": [
            0.3
           ],
           "y": [
            1
           ]
          },
          {
           "hoverinfo": "none",
           "marker": {
            "color": "rgb(0, 0, 255)",
            "line": {
             "color": "rgb(0, 0, 0)",
             "width": 2
            },
            "size": 20
           },
           "mode": "markers+text",
           "text": [
            "2"
           ],
           "textfont": {
            "color": "rgb(255, 255, 255)"
           },
           "textposition": "middle center",
           "x": [
            0.7
           ],
           "y": [
            1
           ]
          },
          {
           "hoverinfo": "none",
           "marker": {
            "color": "rgb(255, 0, 0)",
            "line": {
             "color": "rgb(0, 0, 0)",
             "width": 2
            },
            "size": 20
           },
           "mode": "markers+text",
           "text": [
            "3"
           ],
           "textfont": {
            "color": "rgb(255, 255, 255)"
           },
           "textposition": "middle center",
           "x": [
            1
           ],
           "y": [
            1
           ]
          },
          {
           "hoverinfo": "none",
           "marker": {
            "color": "rgb(0, 0, 255)",
            "line": {
             "color": "rgb(0, 0, 0)",
             "width": 2
            },
            "size": 20
           },
           "mode": "markers+text",
           "text": [
            "2"
           ],
           "textfont": {
            "color": "rgb(255, 255, 255)"
           },
           "textposition": "middle center",
           "x": [
            0
           ],
           "y": [
            0
           ]
          },
          {
           "hoverinfo": "none",
           "marker": {
            "color": "rgb(0, 0, 255)",
            "line": {
             "color": "rgb(0, 0, 0)",
             "width": 2
            },
            "size": 20
           },
           "mode": "markers+text",
           "text": [
            "1"
           ],
           "textfont": {
            "color": "rgb(255, 255, 255)"
           },
           "textposition": "middle center",
           "x": [
            0.3
           ],
           "y": [
            0
           ]
          },
          {
           "hoverinfo": "none",
           "marker": {
            "color": "rgb(0, 0, 255)",
            "line": {
             "color": "rgb(0, 0, 0)",
             "width": 2
            },
            "size": 20
           },
           "mode": "markers+text",
           "text": [
            "2"
           ],
           "textfont": {
            "color": "rgb(255, 255, 255)"
           },
           "textposition": "middle center",
           "x": [
            0.7
           ],
           "y": [
            0
           ]
          },
          {
           "hoverinfo": "none",
           "marker": {
            "color": "rgb(255, 255, 255)",
            "line": {
             "color": "rgb(0, 0, 0)",
             "width": 2
            },
            "size": 20
           },
           "mode": "markers+text",
           "text": [
            "3"
           ],
           "textfont": {
            "color": "rgb(0, 0, 0)"
           },
           "textposition": "middle center",
           "x": [
            1
           ],
           "y": [
            0
           ]
          }
         ],
         "name": 48
        },
        {
         "data": [
          {
           "hoverinfo": "none",
           "line": {
            "color": "rgb(0, 0, 0)",
            "width": 2
           },
           "mode": "lines",
           "x": [
            0,
            0.3,
            null
           ],
           "y": [
            1,
            1,
            null
           ]
          },
          {
           "hoverinfo": "none",
           "line": {
            "color": "rgb(0, 0, 0)",
            "width": 2
           },
           "mode": "lines",
           "x": [
            0,
            0,
            null
           ],
           "y": [
            1,
            0,
            null
           ]
          },
          {
           "hoverinfo": "none",
           "line": {
            "color": "rgb(0, 0, 0)",
            "width": 2
           },
           "mode": "lines",
           "x": [
            0.3,
            0.3,
            null
           ],
           "y": [
            1,
            0,
            null
           ]
          },
          {
           "hoverinfo": "none",
           "line": {
            "color": "rgb(0, 0, 0)",
            "width": 2
           },
           "mode": "lines",
           "x": [
            0.7,
            1,
            null
           ],
           "y": [
            1,
            1,
            null
           ]
          },
          {
           "hoverinfo": "none",
           "line": {
            "color": "rgb(0, 0, 0)",
            "width": 2
           },
           "mode": "lines",
           "x": [
            0.7,
            0.3,
            null
           ],
           "y": [
            1,
            0,
            null
           ]
          },
          {
           "hoverinfo": "none",
           "line": {
            "color": "rgb(0, 0, 0)",
            "width": 2
           },
           "mode": "lines",
           "x": [
            0.7,
            0.7,
            null
           ],
           "y": [
            1,
            0,
            null
           ]
          },
          {
           "hoverinfo": "none",
           "line": {
            "color": "rgb(0, 0, 0)",
            "width": 2
           },
           "mode": "lines",
           "x": [
            1,
            0.7,
            null
           ],
           "y": [
            1,
            0,
            null
           ]
          },
          {
           "hoverinfo": "none",
           "line": {
            "color": "rgb(0, 0, 0)",
            "width": 2
           },
           "mode": "lines",
           "x": [
            1,
            1,
            null
           ],
           "y": [
            1,
            0,
            null
           ]
          },
          {
           "hoverinfo": "none",
           "line": {
            "color": "rgb(0, 0, 0)",
            "width": 2
           },
           "mode": "lines",
           "x": [
            0.3,
            0.7,
            null
           ],
           "y": [
            0,
            0,
            null
           ]
          },
          {
           "hoverinfo": "none",
           "line": {
            "color": "rgb(0, 0, 0)",
            "width": 2
           },
           "mode": "lines",
           "x": [
            0.7,
            1,
            null
           ],
           "y": [
            0,
            0,
            null
           ]
          },
          {
           "hoverinfo": "none",
           "marker": {
            "color": "rgb(0, 0, 255)",
            "line": {
             "color": "rgb(0, 0, 0)",
             "width": 2
            },
            "size": 20
           },
           "mode": "markers+text",
           "text": [
            "1"
           ],
           "textfont": {
            "color": "rgb(255, 255, 255)"
           },
           "textposition": "middle center",
           "x": [
            0
           ],
           "y": [
            1
           ]
          },
          {
           "hoverinfo": "none",
           "marker": {
            "color": "rgb(0, 0, 255)",
            "line": {
             "color": "rgb(0, 0, 0)",
             "width": 2
            },
            "size": 20
           },
           "mode": "markers+text",
           "text": [
            "0"
           ],
           "textfont": {
            "color": "rgb(255, 255, 255)"
           },
           "textposition": "middle center",
           "x": [
            0.3
           ],
           "y": [
            1
           ]
          },
          {
           "hoverinfo": "none",
           "marker": {
            "color": "rgb(0, 0, 255)",
            "line": {
             "color": "rgb(0, 0, 0)",
             "width": 2
            },
            "size": 20
           },
           "mode": "markers+text",
           "text": [
            "2"
           ],
           "textfont": {
            "color": "rgb(255, 255, 255)"
           },
           "textposition": "middle center",
           "x": [
            0.7
           ],
           "y": [
            1
           ]
          },
          {
           "hoverinfo": "none",
           "marker": {
            "color": "rgb(255, 0, 0)",
            "line": {
             "color": "rgb(0, 0, 0)",
             "width": 2
            },
            "size": 20
           },
           "mode": "markers+text",
           "text": [
            "3"
           ],
           "textfont": {
            "color": "rgb(255, 255, 255)"
           },
           "textposition": "middle center",
           "x": [
            1
           ],
           "y": [
            1
           ]
          },
          {
           "hoverinfo": "none",
           "marker": {
            "color": "rgb(0, 0, 255)",
            "line": {
             "color": "rgb(0, 0, 0)",
             "width": 2
            },
            "size": 20
           },
           "mode": "markers+text",
           "text": [
            "2"
           ],
           "textfont": {
            "color": "rgb(255, 255, 255)"
           },
           "textposition": "middle center",
           "x": [
            0
           ],
           "y": [
            0
           ]
          },
          {
           "hoverinfo": "none",
           "marker": {
            "color": "rgb(0, 0, 255)",
            "line": {
             "color": "rgb(0, 0, 0)",
             "width": 2
            },
            "size": 20
           },
           "mode": "markers+text",
           "text": [
            "1"
           ],
           "textfont": {
            "color": "rgb(255, 255, 255)"
           },
           "textposition": "middle center",
           "x": [
            0.3
           ],
           "y": [
            0
           ]
          },
          {
           "hoverinfo": "none",
           "marker": {
            "color": "rgb(0, 0, 255)",
            "line": {
             "color": "rgb(0, 0, 0)",
             "width": 2
            },
            "size": 20
           },
           "mode": "markers+text",
           "text": [
            "2"
           ],
           "textfont": {
            "color": "rgb(255, 255, 255)"
           },
           "textposition": "middle center",
           "x": [
            0.7
           ],
           "y": [
            0
           ]
          },
          {
           "hoverinfo": "none",
           "marker": {
            "color": "rgb(255, 255, 255)",
            "line": {
             "color": "rgb(0, 0, 0)",
             "width": 2
            },
            "size": 20
           },
           "mode": "markers+text",
           "text": [
            "3"
           ],
           "textfont": {
            "color": "rgb(0, 0, 0)"
           },
           "textposition": "middle center",
           "x": [
            1
           ],
           "y": [
            0
           ]
          }
         ],
         "name": 49
        },
        {
         "data": [
          {
           "hoverinfo": "none",
           "line": {
            "color": "rgb(0, 0, 0)",
            "width": 2
           },
           "mode": "lines",
           "x": [
            0,
            0.3,
            null
           ],
           "y": [
            1,
            1,
            null
           ]
          },
          {
           "hoverinfo": "none",
           "line": {
            "color": "rgb(0, 0, 0)",
            "width": 2
           },
           "mode": "lines",
           "x": [
            0,
            0,
            null
           ],
           "y": [
            1,
            0,
            null
           ]
          },
          {
           "hoverinfo": "none",
           "line": {
            "color": "rgb(0, 0, 0)",
            "width": 2
           },
           "mode": "lines",
           "x": [
            0.3,
            0.3,
            null
           ],
           "y": [
            1,
            0,
            null
           ]
          },
          {
           "hoverinfo": "none",
           "line": {
            "color": "rgb(0, 0, 0)",
            "width": 2
           },
           "mode": "lines",
           "x": [
            0.7,
            1,
            null
           ],
           "y": [
            1,
            1,
            null
           ]
          },
          {
           "hoverinfo": "none",
           "line": {
            "color": "rgb(0, 0, 0)",
            "width": 2
           },
           "mode": "lines",
           "x": [
            0.7,
            0.3,
            null
           ],
           "y": [
            1,
            0,
            null
           ]
          },
          {
           "hoverinfo": "none",
           "line": {
            "color": "rgb(0, 0, 0)",
            "width": 2
           },
           "mode": "lines",
           "x": [
            0.7,
            0.7,
            null
           ],
           "y": [
            1,
            0,
            null
           ]
          },
          {
           "hoverinfo": "none",
           "line": {
            "color": "rgb(0, 0, 0)",
            "width": 2
           },
           "mode": "lines",
           "x": [
            1,
            0.7,
            null
           ],
           "y": [
            1,
            0,
            null
           ]
          },
          {
           "hoverinfo": "none",
           "line": {
            "color": "rgb(0, 0, 0)",
            "width": 2
           },
           "mode": "lines",
           "x": [
            1,
            1,
            null
           ],
           "y": [
            1,
            0,
            null
           ]
          },
          {
           "hoverinfo": "none",
           "line": {
            "color": "rgb(0, 0, 0)",
            "width": 2
           },
           "mode": "lines",
           "x": [
            0.3,
            0.7,
            null
           ],
           "y": [
            0,
            0,
            null
           ]
          },
          {
           "hoverinfo": "none",
           "line": {
            "color": "rgb(0, 0, 0)",
            "width": 2
           },
           "mode": "lines",
           "x": [
            0.7,
            1,
            null
           ],
           "y": [
            0,
            0,
            null
           ]
          },
          {
           "hoverinfo": "none",
           "marker": {
            "color": "rgb(0, 0, 255)",
            "line": {
             "color": "rgb(0, 0, 0)",
             "width": 2
            },
            "size": 20
           },
           "mode": "markers+text",
           "text": [
            "1"
           ],
           "textfont": {
            "color": "rgb(255, 255, 255)"
           },
           "textposition": "middle center",
           "x": [
            0
           ],
           "y": [
            1
           ]
          },
          {
           "hoverinfo": "none",
           "marker": {
            "color": "rgb(0, 0, 255)",
            "line": {
             "color": "rgb(0, 0, 0)",
             "width": 2
            },
            "size": 20
           },
           "mode": "markers+text",
           "text": [
            "0"
           ],
           "textfont": {
            "color": "rgb(255, 255, 255)"
           },
           "textposition": "middle center",
           "x": [
            0.3
           ],
           "y": [
            1
           ]
          },
          {
           "hoverinfo": "none",
           "marker": {
            "color": "rgb(0, 0, 255)",
            "line": {
             "color": "rgb(0, 0, 0)",
             "width": 2
            },
            "size": 20
           },
           "mode": "markers+text",
           "text": [
            "2"
           ],
           "textfont": {
            "color": "rgb(255, 255, 255)"
           },
           "textposition": "middle center",
           "x": [
            0.7
           ],
           "y": [
            1
           ]
          },
          {
           "hoverinfo": "none",
           "marker": {
            "color": "rgb(0, 0, 255)",
            "line": {
             "color": "rgb(0, 0, 0)",
             "width": 2
            },
            "size": 20
           },
           "mode": "markers+text",
           "text": [
            "3"
           ],
           "textfont": {
            "color": "rgb(255, 255, 255)"
           },
           "textposition": "middle center",
           "x": [
            1
           ],
           "y": [
            1
           ]
          },
          {
           "hoverinfo": "none",
           "marker": {
            "color": "rgb(0, 0, 255)",
            "line": {
             "color": "rgb(0, 0, 0)",
             "width": 2
            },
            "size": 20
           },
           "mode": "markers+text",
           "text": [
            "2"
           ],
           "textfont": {
            "color": "rgb(255, 255, 255)"
           },
           "textposition": "middle center",
           "x": [
            0
           ],
           "y": [
            0
           ]
          },
          {
           "hoverinfo": "none",
           "marker": {
            "color": "rgb(0, 0, 255)",
            "line": {
             "color": "rgb(0, 0, 0)",
             "width": 2
            },
            "size": 20
           },
           "mode": "markers+text",
           "text": [
            "1"
           ],
           "textfont": {
            "color": "rgb(255, 255, 255)"
           },
           "textposition": "middle center",
           "x": [
            0.3
           ],
           "y": [
            0
           ]
          },
          {
           "hoverinfo": "none",
           "marker": {
            "color": "rgb(0, 0, 255)",
            "line": {
             "color": "rgb(0, 0, 0)",
             "width": 2
            },
            "size": 20
           },
           "mode": "markers+text",
           "text": [
            "2"
           ],
           "textfont": {
            "color": "rgb(255, 255, 255)"
           },
           "textposition": "middle center",
           "x": [
            0.7
           ],
           "y": [
            0
           ]
          },
          {
           "hoverinfo": "none",
           "marker": {
            "color": "rgb(255, 255, 255)",
            "line": {
             "color": "rgb(0, 0, 0)",
             "width": 2
            },
            "size": 20
           },
           "mode": "markers+text",
           "text": [
            "3"
           ],
           "textfont": {
            "color": "rgb(0, 0, 0)"
           },
           "textposition": "middle center",
           "x": [
            1
           ],
           "y": [
            0
           ]
          }
         ],
         "name": 50
        },
        {
         "data": [
          {
           "hoverinfo": "none",
           "line": {
            "color": "rgb(0, 0, 0)",
            "width": 2
           },
           "mode": "lines",
           "x": [
            0,
            0.3,
            null
           ],
           "y": [
            1,
            1,
            null
           ]
          },
          {
           "hoverinfo": "none",
           "line": {
            "color": "rgb(0, 0, 0)",
            "width": 2
           },
           "mode": "lines",
           "x": [
            0,
            0,
            null
           ],
           "y": [
            1,
            0,
            null
           ]
          },
          {
           "hoverinfo": "none",
           "line": {
            "color": "rgb(0, 0, 0)",
            "width": 2
           },
           "mode": "lines",
           "x": [
            0.3,
            0.3,
            null
           ],
           "y": [
            1,
            0,
            null
           ]
          },
          {
           "hoverinfo": "none",
           "line": {
            "color": "rgb(0, 0, 0)",
            "width": 2
           },
           "mode": "lines",
           "x": [
            0.7,
            1,
            null
           ],
           "y": [
            1,
            1,
            null
           ]
          },
          {
           "hoverinfo": "none",
           "line": {
            "color": "rgb(0, 0, 0)",
            "width": 2
           },
           "mode": "lines",
           "x": [
            0.7,
            0.3,
            null
           ],
           "y": [
            1,
            0,
            null
           ]
          },
          {
           "hoverinfo": "none",
           "line": {
            "color": "rgb(0, 0, 0)",
            "width": 2
           },
           "mode": "lines",
           "x": [
            0.7,
            0.7,
            null
           ],
           "y": [
            1,
            0,
            null
           ]
          },
          {
           "hoverinfo": "none",
           "line": {
            "color": "rgb(0, 0, 0)",
            "width": 2
           },
           "mode": "lines",
           "x": [
            1,
            0.7,
            null
           ],
           "y": [
            1,
            0,
            null
           ]
          },
          {
           "hoverinfo": "none",
           "line": {
            "color": "rgb(0, 0, 0)",
            "width": 2
           },
           "mode": "lines",
           "x": [
            1,
            1,
            null
           ],
           "y": [
            1,
            0,
            null
           ]
          },
          {
           "hoverinfo": "none",
           "line": {
            "color": "rgb(0, 0, 0)",
            "width": 2
           },
           "mode": "lines",
           "x": [
            0.3,
            0.7,
            null
           ],
           "y": [
            0,
            0,
            null
           ]
          },
          {
           "hoverinfo": "none",
           "line": {
            "color": "rgb(0, 0, 0)",
            "width": 2
           },
           "mode": "lines",
           "x": [
            0.7,
            1,
            null
           ],
           "y": [
            0,
            0,
            null
           ]
          },
          {
           "hoverinfo": "none",
           "marker": {
            "color": "rgb(0, 0, 255)",
            "line": {
             "color": "rgb(0, 0, 0)",
             "width": 2
            },
            "size": 20
           },
           "mode": "markers+text",
           "text": [
            "1"
           ],
           "textfont": {
            "color": "rgb(255, 255, 255)"
           },
           "textposition": "middle center",
           "x": [
            0
           ],
           "y": [
            1
           ]
          },
          {
           "hoverinfo": "none",
           "marker": {
            "color": "rgb(0, 0, 255)",
            "line": {
             "color": "rgb(0, 0, 0)",
             "width": 2
            },
            "size": 20
           },
           "mode": "markers+text",
           "text": [
            "0"
           ],
           "textfont": {
            "color": "rgb(255, 255, 255)"
           },
           "textposition": "middle center",
           "x": [
            0.3
           ],
           "y": [
            1
           ]
          },
          {
           "hoverinfo": "none",
           "marker": {
            "color": "rgb(0, 0, 255)",
            "line": {
             "color": "rgb(0, 0, 0)",
             "width": 2
            },
            "size": 20
           },
           "mode": "markers+text",
           "text": [
            "2"
           ],
           "textfont": {
            "color": "rgb(255, 255, 255)"
           },
           "textposition": "middle center",
           "x": [
            0.7
           ],
           "y": [
            1
           ]
          },
          {
           "hoverinfo": "none",
           "marker": {
            "color": "rgb(0, 0, 255)",
            "line": {
             "color": "rgb(0, 0, 0)",
             "width": 2
            },
            "size": 20
           },
           "mode": "markers+text",
           "text": [
            "3"
           ],
           "textfont": {
            "color": "rgb(255, 255, 255)"
           },
           "textposition": "middle center",
           "x": [
            1
           ],
           "y": [
            1
           ]
          },
          {
           "hoverinfo": "none",
           "marker": {
            "color": "rgb(0, 0, 255)",
            "line": {
             "color": "rgb(0, 0, 0)",
             "width": 2
            },
            "size": 20
           },
           "mode": "markers+text",
           "text": [
            "2"
           ],
           "textfont": {
            "color": "rgb(255, 255, 255)"
           },
           "textposition": "middle center",
           "x": [
            0
           ],
           "y": [
            0
           ]
          },
          {
           "hoverinfo": "none",
           "marker": {
            "color": "rgb(0, 0, 255)",
            "line": {
             "color": "rgb(0, 0, 0)",
             "width": 2
            },
            "size": 20
           },
           "mode": "markers+text",
           "text": [
            "1"
           ],
           "textfont": {
            "color": "rgb(255, 255, 255)"
           },
           "textposition": "middle center",
           "x": [
            0.3
           ],
           "y": [
            0
           ]
          },
          {
           "hoverinfo": "none",
           "marker": {
            "color": "rgb(0, 0, 255)",
            "line": {
             "color": "rgb(0, 0, 0)",
             "width": 2
            },
            "size": 20
           },
           "mode": "markers+text",
           "text": [
            "2"
           ],
           "textfont": {
            "color": "rgb(255, 255, 255)"
           },
           "textposition": "middle center",
           "x": [
            0.7
           ],
           "y": [
            0
           ]
          },
          {
           "hoverinfo": "none",
           "marker": {
            "color": "rgb(255, 0, 0)",
            "line": {
             "color": "rgb(0, 0, 0)",
             "width": 2
            },
            "size": 20
           },
           "mode": "markers+text",
           "text": [
            "3"
           ],
           "textfont": {
            "color": "rgb(255, 255, 255)"
           },
           "textposition": "middle center",
           "x": [
            1
           ],
           "y": [
            0
           ]
          }
         ],
         "name": 51
        },
        {
         "data": [
          {
           "hoverinfo": "none",
           "line": {
            "color": "rgb(0, 0, 0)",
            "width": 2
           },
           "mode": "lines",
           "x": [
            0,
            0.3,
            null
           ],
           "y": [
            1,
            1,
            null
           ]
          },
          {
           "hoverinfo": "none",
           "line": {
            "color": "rgb(0, 0, 0)",
            "width": 2
           },
           "mode": "lines",
           "x": [
            0,
            0,
            null
           ],
           "y": [
            1,
            0,
            null
           ]
          },
          {
           "hoverinfo": "none",
           "line": {
            "color": "rgb(0, 0, 0)",
            "width": 2
           },
           "mode": "lines",
           "x": [
            0.3,
            0.3,
            null
           ],
           "y": [
            1,
            0,
            null
           ]
          },
          {
           "hoverinfo": "none",
           "line": {
            "color": "rgb(0, 0, 0)",
            "width": 2
           },
           "mode": "lines",
           "x": [
            0.7,
            1,
            null
           ],
           "y": [
            1,
            1,
            null
           ]
          },
          {
           "hoverinfo": "none",
           "line": {
            "color": "rgb(0, 0, 0)",
            "width": 2
           },
           "mode": "lines",
           "x": [
            0.7,
            0.3,
            null
           ],
           "y": [
            1,
            0,
            null
           ]
          },
          {
           "hoverinfo": "none",
           "line": {
            "color": "rgb(0, 0, 0)",
            "width": 2
           },
           "mode": "lines",
           "x": [
            0.7,
            0.7,
            null
           ],
           "y": [
            1,
            0,
            null
           ]
          },
          {
           "hoverinfo": "none",
           "line": {
            "color": "rgb(0, 0, 0)",
            "width": 2
           },
           "mode": "lines",
           "x": [
            1,
            0.7,
            null
           ],
           "y": [
            1,
            0,
            null
           ]
          },
          {
           "hoverinfo": "none",
           "line": {
            "color": "rgb(255, 0, 0)",
            "width": 2
           },
           "mode": "lines",
           "x": [
            1,
            1,
            null
           ],
           "y": [
            1,
            0,
            null
           ]
          },
          {
           "hoverinfo": "none",
           "line": {
            "color": "rgb(0, 0, 0)",
            "width": 2
           },
           "mode": "lines",
           "x": [
            0.3,
            0.7,
            null
           ],
           "y": [
            0,
            0,
            null
           ]
          },
          {
           "hoverinfo": "none",
           "line": {
            "color": "rgb(0, 0, 0)",
            "width": 2
           },
           "mode": "lines",
           "x": [
            0.7,
            1,
            null
           ],
           "y": [
            0,
            0,
            null
           ]
          },
          {
           "hoverinfo": "none",
           "marker": {
            "color": "rgb(0, 0, 255)",
            "line": {
             "color": "rgb(0, 0, 0)",
             "width": 2
            },
            "size": 20
           },
           "mode": "markers+text",
           "text": [
            "1"
           ],
           "textfont": {
            "color": "rgb(255, 255, 255)"
           },
           "textposition": "middle center",
           "x": [
            0
           ],
           "y": [
            1
           ]
          },
          {
           "hoverinfo": "none",
           "marker": {
            "color": "rgb(0, 0, 255)",
            "line": {
             "color": "rgb(0, 0, 0)",
             "width": 2
            },
            "size": 20
           },
           "mode": "markers+text",
           "text": [
            "0"
           ],
           "textfont": {
            "color": "rgb(255, 255, 255)"
           },
           "textposition": "middle center",
           "x": [
            0.3
           ],
           "y": [
            1
           ]
          },
          {
           "hoverinfo": "none",
           "marker": {
            "color": "rgb(0, 0, 255)",
            "line": {
             "color": "rgb(0, 0, 0)",
             "width": 2
            },
            "size": 20
           },
           "mode": "markers+text",
           "text": [
            "2"
           ],
           "textfont": {
            "color": "rgb(255, 255, 255)"
           },
           "textposition": "middle center",
           "x": [
            0.7
           ],
           "y": [
            1
           ]
          },
          {
           "hoverinfo": "none",
           "marker": {
            "color": "rgb(0, 0, 255)",
            "line": {
             "color": "rgb(0, 0, 0)",
             "width": 2
            },
            "size": 20
           },
           "mode": "markers+text",
           "text": [
            "3"
           ],
           "textfont": {
            "color": "rgb(255, 255, 255)"
           },
           "textposition": "middle center",
           "x": [
            1
           ],
           "y": [
            1
           ]
          },
          {
           "hoverinfo": "none",
           "marker": {
            "color": "rgb(0, 0, 255)",
            "line": {
             "color": "rgb(0, 0, 0)",
             "width": 2
            },
            "size": 20
           },
           "mode": "markers+text",
           "text": [
            "2"
           ],
           "textfont": {
            "color": "rgb(255, 255, 255)"
           },
           "textposition": "middle center",
           "x": [
            0
           ],
           "y": [
            0
           ]
          },
          {
           "hoverinfo": "none",
           "marker": {
            "color": "rgb(0, 0, 255)",
            "line": {
             "color": "rgb(0, 0, 0)",
             "width": 2
            },
            "size": 20
           },
           "mode": "markers+text",
           "text": [
            "1"
           ],
           "textfont": {
            "color": "rgb(255, 255, 255)"
           },
           "textposition": "middle center",
           "x": [
            0.3
           ],
           "y": [
            0
           ]
          },
          {
           "hoverinfo": "none",
           "marker": {
            "color": "rgb(0, 0, 255)",
            "line": {
             "color": "rgb(0, 0, 0)",
             "width": 2
            },
            "size": 20
           },
           "mode": "markers+text",
           "text": [
            "2"
           ],
           "textfont": {
            "color": "rgb(255, 255, 255)"
           },
           "textposition": "middle center",
           "x": [
            0.7
           ],
           "y": [
            0
           ]
          },
          {
           "hoverinfo": "none",
           "marker": {
            "color": "rgb(255, 0, 0)",
            "line": {
             "color": "rgb(0, 0, 0)",
             "width": 2
            },
            "size": 20
           },
           "mode": "markers+text",
           "text": [
            "3"
           ],
           "textfont": {
            "color": "rgb(255, 255, 255)"
           },
           "textposition": "middle center",
           "x": [
            1
           ],
           "y": [
            0
           ]
          }
         ],
         "name": 52
        },
        {
         "data": [
          {
           "hoverinfo": "none",
           "line": {
            "color": "rgb(0, 0, 0)",
            "width": 2
           },
           "mode": "lines",
           "x": [
            0,
            0.3,
            null
           ],
           "y": [
            1,
            1,
            null
           ]
          },
          {
           "hoverinfo": "none",
           "line": {
            "color": "rgb(0, 0, 0)",
            "width": 2
           },
           "mode": "lines",
           "x": [
            0,
            0,
            null
           ],
           "y": [
            1,
            0,
            null
           ]
          },
          {
           "hoverinfo": "none",
           "line": {
            "color": "rgb(0, 0, 0)",
            "width": 2
           },
           "mode": "lines",
           "x": [
            0.3,
            0.3,
            null
           ],
           "y": [
            1,
            0,
            null
           ]
          },
          {
           "hoverinfo": "none",
           "line": {
            "color": "rgb(0, 0, 0)",
            "width": 2
           },
           "mode": "lines",
           "x": [
            0.7,
            1,
            null
           ],
           "y": [
            1,
            1,
            null
           ]
          },
          {
           "hoverinfo": "none",
           "line": {
            "color": "rgb(0, 0, 0)",
            "width": 2
           },
           "mode": "lines",
           "x": [
            0.7,
            0.3,
            null
           ],
           "y": [
            1,
            0,
            null
           ]
          },
          {
           "hoverinfo": "none",
           "line": {
            "color": "rgb(0, 0, 0)",
            "width": 2
           },
           "mode": "lines",
           "x": [
            0.7,
            0.7,
            null
           ],
           "y": [
            1,
            0,
            null
           ]
          },
          {
           "hoverinfo": "none",
           "line": {
            "color": "rgb(0, 0, 0)",
            "width": 2
           },
           "mode": "lines",
           "x": [
            1,
            0.7,
            null
           ],
           "y": [
            1,
            0,
            null
           ]
          },
          {
           "hoverinfo": "none",
           "line": {
            "color": "rgb(0, 0, 0)",
            "width": 2
           },
           "mode": "lines",
           "x": [
            1,
            1,
            null
           ],
           "y": [
            1,
            0,
            null
           ]
          },
          {
           "hoverinfo": "none",
           "line": {
            "color": "rgb(0, 0, 0)",
            "width": 2
           },
           "mode": "lines",
           "x": [
            0.3,
            0.7,
            null
           ],
           "y": [
            0,
            0,
            null
           ]
          },
          {
           "hoverinfo": "none",
           "line": {
            "color": "rgb(0, 0, 0)",
            "width": 2
           },
           "mode": "lines",
           "x": [
            0.7,
            1,
            null
           ],
           "y": [
            0,
            0,
            null
           ]
          },
          {
           "hoverinfo": "none",
           "marker": {
            "color": "rgb(0, 0, 255)",
            "line": {
             "color": "rgb(0, 0, 0)",
             "width": 2
            },
            "size": 20
           },
           "mode": "markers+text",
           "text": [
            "1"
           ],
           "textfont": {
            "color": "rgb(255, 255, 255)"
           },
           "textposition": "middle center",
           "x": [
            0
           ],
           "y": [
            1
           ]
          },
          {
           "hoverinfo": "none",
           "marker": {
            "color": "rgb(0, 0, 255)",
            "line": {
             "color": "rgb(0, 0, 0)",
             "width": 2
            },
            "size": 20
           },
           "mode": "markers+text",
           "text": [
            "0"
           ],
           "textfont": {
            "color": "rgb(255, 255, 255)"
           },
           "textposition": "middle center",
           "x": [
            0.3
           ],
           "y": [
            1
           ]
          },
          {
           "hoverinfo": "none",
           "marker": {
            "color": "rgb(0, 0, 255)",
            "line": {
             "color": "rgb(0, 0, 0)",
             "width": 2
            },
            "size": 20
           },
           "mode": "markers+text",
           "text": [
            "2"
           ],
           "textfont": {
            "color": "rgb(255, 255, 255)"
           },
           "textposition": "middle center",
           "x": [
            0.7
           ],
           "y": [
            1
           ]
          },
          {
           "hoverinfo": "none",
           "marker": {
            "color": "rgb(0, 0, 255)",
            "line": {
             "color": "rgb(0, 0, 0)",
             "width": 2
            },
            "size": 20
           },
           "mode": "markers+text",
           "text": [
            "3"
           ],
           "textfont": {
            "color": "rgb(255, 255, 255)"
           },
           "textposition": "middle center",
           "x": [
            1
           ],
           "y": [
            1
           ]
          },
          {
           "hoverinfo": "none",
           "marker": {
            "color": "rgb(0, 0, 255)",
            "line": {
             "color": "rgb(0, 0, 0)",
             "width": 2
            },
            "size": 20
           },
           "mode": "markers+text",
           "text": [
            "2"
           ],
           "textfont": {
            "color": "rgb(255, 255, 255)"
           },
           "textposition": "middle center",
           "x": [
            0
           ],
           "y": [
            0
           ]
          },
          {
           "hoverinfo": "none",
           "marker": {
            "color": "rgb(0, 0, 255)",
            "line": {
             "color": "rgb(0, 0, 0)",
             "width": 2
            },
            "size": 20
           },
           "mode": "markers+text",
           "text": [
            "1"
           ],
           "textfont": {
            "color": "rgb(255, 255, 255)"
           },
           "textposition": "middle center",
           "x": [
            0.3
           ],
           "y": [
            0
           ]
          },
          {
           "hoverinfo": "none",
           "marker": {
            "color": "rgb(0, 0, 255)",
            "line": {
             "color": "rgb(0, 0, 0)",
             "width": 2
            },
            "size": 20
           },
           "mode": "markers+text",
           "text": [
            "2"
           ],
           "textfont": {
            "color": "rgb(255, 255, 255)"
           },
           "textposition": "middle center",
           "x": [
            0.7
           ],
           "y": [
            0
           ]
          },
          {
           "hoverinfo": "none",
           "marker": {
            "color": "rgb(255, 0, 0)",
            "line": {
             "color": "rgb(0, 0, 0)",
             "width": 2
            },
            "size": 20
           },
           "mode": "markers+text",
           "text": [
            "3"
           ],
           "textfont": {
            "color": "rgb(255, 255, 255)"
           },
           "textposition": "middle center",
           "x": [
            1
           ],
           "y": [
            0
           ]
          }
         ],
         "name": 53
        },
        {
         "data": [
          {
           "hoverinfo": "none",
           "line": {
            "color": "rgb(0, 0, 0)",
            "width": 2
           },
           "mode": "lines",
           "x": [
            0,
            0.3,
            null
           ],
           "y": [
            1,
            1,
            null
           ]
          },
          {
           "hoverinfo": "none",
           "line": {
            "color": "rgb(0, 0, 0)",
            "width": 2
           },
           "mode": "lines",
           "x": [
            0,
            0,
            null
           ],
           "y": [
            1,
            0,
            null
           ]
          },
          {
           "hoverinfo": "none",
           "line": {
            "color": "rgb(0, 0, 0)",
            "width": 2
           },
           "mode": "lines",
           "x": [
            0.3,
            0.3,
            null
           ],
           "y": [
            1,
            0,
            null
           ]
          },
          {
           "hoverinfo": "none",
           "line": {
            "color": "rgb(0, 0, 0)",
            "width": 2
           },
           "mode": "lines",
           "x": [
            0.7,
            1,
            null
           ],
           "y": [
            1,
            1,
            null
           ]
          },
          {
           "hoverinfo": "none",
           "line": {
            "color": "rgb(0, 0, 0)",
            "width": 2
           },
           "mode": "lines",
           "x": [
            0.7,
            0.3,
            null
           ],
           "y": [
            1,
            0,
            null
           ]
          },
          {
           "hoverinfo": "none",
           "line": {
            "color": "rgb(0, 0, 0)",
            "width": 2
           },
           "mode": "lines",
           "x": [
            0.7,
            0.7,
            null
           ],
           "y": [
            1,
            0,
            null
           ]
          },
          {
           "hoverinfo": "none",
           "line": {
            "color": "rgb(0, 0, 0)",
            "width": 2
           },
           "mode": "lines",
           "x": [
            1,
            0.7,
            null
           ],
           "y": [
            1,
            0,
            null
           ]
          },
          {
           "hoverinfo": "none",
           "line": {
            "color": "rgb(0, 0, 0)",
            "width": 2
           },
           "mode": "lines",
           "x": [
            1,
            1,
            null
           ],
           "y": [
            1,
            0,
            null
           ]
          },
          {
           "hoverinfo": "none",
           "line": {
            "color": "rgb(0, 0, 0)",
            "width": 2
           },
           "mode": "lines",
           "x": [
            0.3,
            0.7,
            null
           ],
           "y": [
            0,
            0,
            null
           ]
          },
          {
           "hoverinfo": "none",
           "line": {
            "color": "rgb(255, 0, 0)",
            "width": 2
           },
           "mode": "lines",
           "x": [
            0.7,
            1,
            null
           ],
           "y": [
            0,
            0,
            null
           ]
          },
          {
           "hoverinfo": "none",
           "marker": {
            "color": "rgb(0, 0, 255)",
            "line": {
             "color": "rgb(0, 0, 0)",
             "width": 2
            },
            "size": 20
           },
           "mode": "markers+text",
           "text": [
            "1"
           ],
           "textfont": {
            "color": "rgb(255, 255, 255)"
           },
           "textposition": "middle center",
           "x": [
            0
           ],
           "y": [
            1
           ]
          },
          {
           "hoverinfo": "none",
           "marker": {
            "color": "rgb(0, 0, 255)",
            "line": {
             "color": "rgb(0, 0, 0)",
             "width": 2
            },
            "size": 20
           },
           "mode": "markers+text",
           "text": [
            "0"
           ],
           "textfont": {
            "color": "rgb(255, 255, 255)"
           },
           "textposition": "middle center",
           "x": [
            0.3
           ],
           "y": [
            1
           ]
          },
          {
           "hoverinfo": "none",
           "marker": {
            "color": "rgb(0, 0, 255)",
            "line": {
             "color": "rgb(0, 0, 0)",
             "width": 2
            },
            "size": 20
           },
           "mode": "markers+text",
           "text": [
            "2"
           ],
           "textfont": {
            "color": "rgb(255, 255, 255)"
           },
           "textposition": "middle center",
           "x": [
            0.7
           ],
           "y": [
            1
           ]
          },
          {
           "hoverinfo": "none",
           "marker": {
            "color": "rgb(0, 0, 255)",
            "line": {
             "color": "rgb(0, 0, 0)",
             "width": 2
            },
            "size": 20
           },
           "mode": "markers+text",
           "text": [
            "3"
           ],
           "textfont": {
            "color": "rgb(255, 255, 255)"
           },
           "textposition": "middle center",
           "x": [
            1
           ],
           "y": [
            1
           ]
          },
          {
           "hoverinfo": "none",
           "marker": {
            "color": "rgb(0, 0, 255)",
            "line": {
             "color": "rgb(0, 0, 0)",
             "width": 2
            },
            "size": 20
           },
           "mode": "markers+text",
           "text": [
            "2"
           ],
           "textfont": {
            "color": "rgb(255, 255, 255)"
           },
           "textposition": "middle center",
           "x": [
            0
           ],
           "y": [
            0
           ]
          },
          {
           "hoverinfo": "none",
           "marker": {
            "color": "rgb(0, 0, 255)",
            "line": {
             "color": "rgb(0, 0, 0)",
             "width": 2
            },
            "size": 20
           },
           "mode": "markers+text",
           "text": [
            "1"
           ],
           "textfont": {
            "color": "rgb(255, 255, 255)"
           },
           "textposition": "middle center",
           "x": [
            0.3
           ],
           "y": [
            0
           ]
          },
          {
           "hoverinfo": "none",
           "marker": {
            "color": "rgb(0, 0, 255)",
            "line": {
             "color": "rgb(0, 0, 0)",
             "width": 2
            },
            "size": 20
           },
           "mode": "markers+text",
           "text": [
            "2"
           ],
           "textfont": {
            "color": "rgb(255, 255, 255)"
           },
           "textposition": "middle center",
           "x": [
            0.7
           ],
           "y": [
            0
           ]
          },
          {
           "hoverinfo": "none",
           "marker": {
            "color": "rgb(255, 0, 0)",
            "line": {
             "color": "rgb(0, 0, 0)",
             "width": 2
            },
            "size": 20
           },
           "mode": "markers+text",
           "text": [
            "3"
           ],
           "textfont": {
            "color": "rgb(255, 255, 255)"
           },
           "textposition": "middle center",
           "x": [
            1
           ],
           "y": [
            0
           ]
          }
         ],
         "name": 54
        },
        {
         "data": [
          {
           "hoverinfo": "none",
           "line": {
            "color": "rgb(0, 0, 0)",
            "width": 2
           },
           "mode": "lines",
           "x": [
            0,
            0.3,
            null
           ],
           "y": [
            1,
            1,
            null
           ]
          },
          {
           "hoverinfo": "none",
           "line": {
            "color": "rgb(0, 0, 0)",
            "width": 2
           },
           "mode": "lines",
           "x": [
            0,
            0,
            null
           ],
           "y": [
            1,
            0,
            null
           ]
          },
          {
           "hoverinfo": "none",
           "line": {
            "color": "rgb(0, 0, 0)",
            "width": 2
           },
           "mode": "lines",
           "x": [
            0.3,
            0.3,
            null
           ],
           "y": [
            1,
            0,
            null
           ]
          },
          {
           "hoverinfo": "none",
           "line": {
            "color": "rgb(0, 0, 0)",
            "width": 2
           },
           "mode": "lines",
           "x": [
            0.7,
            1,
            null
           ],
           "y": [
            1,
            1,
            null
           ]
          },
          {
           "hoverinfo": "none",
           "line": {
            "color": "rgb(0, 0, 0)",
            "width": 2
           },
           "mode": "lines",
           "x": [
            0.7,
            0.3,
            null
           ],
           "y": [
            1,
            0,
            null
           ]
          },
          {
           "hoverinfo": "none",
           "line": {
            "color": "rgb(0, 0, 0)",
            "width": 2
           },
           "mode": "lines",
           "x": [
            0.7,
            0.7,
            null
           ],
           "y": [
            1,
            0,
            null
           ]
          },
          {
           "hoverinfo": "none",
           "line": {
            "color": "rgb(0, 0, 0)",
            "width": 2
           },
           "mode": "lines",
           "x": [
            1,
            0.7,
            null
           ],
           "y": [
            1,
            0,
            null
           ]
          },
          {
           "hoverinfo": "none",
           "line": {
            "color": "rgb(0, 0, 0)",
            "width": 2
           },
           "mode": "lines",
           "x": [
            1,
            1,
            null
           ],
           "y": [
            1,
            0,
            null
           ]
          },
          {
           "hoverinfo": "none",
           "line": {
            "color": "rgb(0, 0, 0)",
            "width": 2
           },
           "mode": "lines",
           "x": [
            0.3,
            0.7,
            null
           ],
           "y": [
            0,
            0,
            null
           ]
          },
          {
           "hoverinfo": "none",
           "line": {
            "color": "rgb(0, 0, 0)",
            "width": 2
           },
           "mode": "lines",
           "x": [
            0.7,
            1,
            null
           ],
           "y": [
            0,
            0,
            null
           ]
          },
          {
           "hoverinfo": "none",
           "marker": {
            "color": "rgb(0, 0, 255)",
            "line": {
             "color": "rgb(0, 0, 0)",
             "width": 2
            },
            "size": 20
           },
           "mode": "markers+text",
           "text": [
            "1"
           ],
           "textfont": {
            "color": "rgb(255, 255, 255)"
           },
           "textposition": "middle center",
           "x": [
            0
           ],
           "y": [
            1
           ]
          },
          {
           "hoverinfo": "none",
           "marker": {
            "color": "rgb(0, 0, 255)",
            "line": {
             "color": "rgb(0, 0, 0)",
             "width": 2
            },
            "size": 20
           },
           "mode": "markers+text",
           "text": [
            "0"
           ],
           "textfont": {
            "color": "rgb(255, 255, 255)"
           },
           "textposition": "middle center",
           "x": [
            0.3
           ],
           "y": [
            1
           ]
          },
          {
           "hoverinfo": "none",
           "marker": {
            "color": "rgb(0, 0, 255)",
            "line": {
             "color": "rgb(0, 0, 0)",
             "width": 2
            },
            "size": 20
           },
           "mode": "markers+text",
           "text": [
            "2"
           ],
           "textfont": {
            "color": "rgb(255, 255, 255)"
           },
           "textposition": "middle center",
           "x": [
            0.7
           ],
           "y": [
            1
           ]
          },
          {
           "hoverinfo": "none",
           "marker": {
            "color": "rgb(0, 0, 255)",
            "line": {
             "color": "rgb(0, 0, 0)",
             "width": 2
            },
            "size": 20
           },
           "mode": "markers+text",
           "text": [
            "3"
           ],
           "textfont": {
            "color": "rgb(255, 255, 255)"
           },
           "textposition": "middle center",
           "x": [
            1
           ],
           "y": [
            1
           ]
          },
          {
           "hoverinfo": "none",
           "marker": {
            "color": "rgb(0, 0, 255)",
            "line": {
             "color": "rgb(0, 0, 0)",
             "width": 2
            },
            "size": 20
           },
           "mode": "markers+text",
           "text": [
            "2"
           ],
           "textfont": {
            "color": "rgb(255, 255, 255)"
           },
           "textposition": "middle center",
           "x": [
            0
           ],
           "y": [
            0
           ]
          },
          {
           "hoverinfo": "none",
           "marker": {
            "color": "rgb(0, 0, 255)",
            "line": {
             "color": "rgb(0, 0, 0)",
             "width": 2
            },
            "size": 20
           },
           "mode": "markers+text",
           "text": [
            "1"
           ],
           "textfont": {
            "color": "rgb(255, 255, 255)"
           },
           "textposition": "middle center",
           "x": [
            0.3
           ],
           "y": [
            0
           ]
          },
          {
           "hoverinfo": "none",
           "marker": {
            "color": "rgb(0, 0, 255)",
            "line": {
             "color": "rgb(0, 0, 0)",
             "width": 2
            },
            "size": 20
           },
           "mode": "markers+text",
           "text": [
            "2"
           ],
           "textfont": {
            "color": "rgb(255, 255, 255)"
           },
           "textposition": "middle center",
           "x": [
            0.7
           ],
           "y": [
            0
           ]
          },
          {
           "hoverinfo": "none",
           "marker": {
            "color": "rgb(255, 0, 0)",
            "line": {
             "color": "rgb(0, 0, 0)",
             "width": 2
            },
            "size": 20
           },
           "mode": "markers+text",
           "text": [
            "3"
           ],
           "textfont": {
            "color": "rgb(255, 255, 255)"
           },
           "textposition": "middle center",
           "x": [
            1
           ],
           "y": [
            0
           ]
          }
         ],
         "name": 55
        },
        {
         "data": [
          {
           "hoverinfo": "none",
           "line": {
            "color": "rgb(0, 0, 0)",
            "width": 2
           },
           "mode": "lines",
           "x": [
            0,
            0.3,
            null
           ],
           "y": [
            1,
            1,
            null
           ]
          },
          {
           "hoverinfo": "none",
           "line": {
            "color": "rgb(0, 0, 0)",
            "width": 2
           },
           "mode": "lines",
           "x": [
            0,
            0,
            null
           ],
           "y": [
            1,
            0,
            null
           ]
          },
          {
           "hoverinfo": "none",
           "line": {
            "color": "rgb(0, 0, 0)",
            "width": 2
           },
           "mode": "lines",
           "x": [
            0.3,
            0.3,
            null
           ],
           "y": [
            1,
            0,
            null
           ]
          },
          {
           "hoverinfo": "none",
           "line": {
            "color": "rgb(0, 0, 0)",
            "width": 2
           },
           "mode": "lines",
           "x": [
            0.7,
            1,
            null
           ],
           "y": [
            1,
            1,
            null
           ]
          },
          {
           "hoverinfo": "none",
           "line": {
            "color": "rgb(0, 0, 0)",
            "width": 2
           },
           "mode": "lines",
           "x": [
            0.7,
            0.3,
            null
           ],
           "y": [
            1,
            0,
            null
           ]
          },
          {
           "hoverinfo": "none",
           "line": {
            "color": "rgb(0, 0, 0)",
            "width": 2
           },
           "mode": "lines",
           "x": [
            0.7,
            0.7,
            null
           ],
           "y": [
            1,
            0,
            null
           ]
          },
          {
           "hoverinfo": "none",
           "line": {
            "color": "rgb(0, 0, 0)",
            "width": 2
           },
           "mode": "lines",
           "x": [
            1,
            0.7,
            null
           ],
           "y": [
            1,
            0,
            null
           ]
          },
          {
           "hoverinfo": "none",
           "line": {
            "color": "rgb(0, 0, 0)",
            "width": 2
           },
           "mode": "lines",
           "x": [
            1,
            1,
            null
           ],
           "y": [
            1,
            0,
            null
           ]
          },
          {
           "hoverinfo": "none",
           "line": {
            "color": "rgb(0, 0, 0)",
            "width": 2
           },
           "mode": "lines",
           "x": [
            0.3,
            0.7,
            null
           ],
           "y": [
            0,
            0,
            null
           ]
          },
          {
           "hoverinfo": "none",
           "line": {
            "color": "rgb(0, 0, 0)",
            "width": 2
           },
           "mode": "lines",
           "x": [
            0.7,
            1,
            null
           ],
           "y": [
            0,
            0,
            null
           ]
          },
          {
           "hoverinfo": "none",
           "marker": {
            "color": "rgb(0, 0, 255)",
            "line": {
             "color": "rgb(0, 0, 0)",
             "width": 2
            },
            "size": 20
           },
           "mode": "markers+text",
           "text": [
            "1"
           ],
           "textfont": {
            "color": "rgb(255, 255, 255)"
           },
           "textposition": "middle center",
           "x": [
            0
           ],
           "y": [
            1
           ]
          },
          {
           "hoverinfo": "none",
           "marker": {
            "color": "rgb(0, 0, 255)",
            "line": {
             "color": "rgb(0, 0, 0)",
             "width": 2
            },
            "size": 20
           },
           "mode": "markers+text",
           "text": [
            "0"
           ],
           "textfont": {
            "color": "rgb(255, 255, 255)"
           },
           "textposition": "middle center",
           "x": [
            0.3
           ],
           "y": [
            1
           ]
          },
          {
           "hoverinfo": "none",
           "marker": {
            "color": "rgb(0, 0, 255)",
            "line": {
             "color": "rgb(0, 0, 0)",
             "width": 2
            },
            "size": 20
           },
           "mode": "markers+text",
           "text": [
            "2"
           ],
           "textfont": {
            "color": "rgb(255, 255, 255)"
           },
           "textposition": "middle center",
           "x": [
            0.7
           ],
           "y": [
            1
           ]
          },
          {
           "hoverinfo": "none",
           "marker": {
            "color": "rgb(0, 0, 255)",
            "line": {
             "color": "rgb(0, 0, 0)",
             "width": 2
            },
            "size": 20
           },
           "mode": "markers+text",
           "text": [
            "3"
           ],
           "textfont": {
            "color": "rgb(255, 255, 255)"
           },
           "textposition": "middle center",
           "x": [
            1
           ],
           "y": [
            1
           ]
          },
          {
           "hoverinfo": "none",
           "marker": {
            "color": "rgb(0, 0, 255)",
            "line": {
             "color": "rgb(0, 0, 0)",
             "width": 2
            },
            "size": 20
           },
           "mode": "markers+text",
           "text": [
            "2"
           ],
           "textfont": {
            "color": "rgb(255, 255, 255)"
           },
           "textposition": "middle center",
           "x": [
            0
           ],
           "y": [
            0
           ]
          },
          {
           "hoverinfo": "none",
           "marker": {
            "color": "rgb(0, 0, 255)",
            "line": {
             "color": "rgb(0, 0, 0)",
             "width": 2
            },
            "size": 20
           },
           "mode": "markers+text",
           "text": [
            "1"
           ],
           "textfont": {
            "color": "rgb(255, 255, 255)"
           },
           "textposition": "middle center",
           "x": [
            0.3
           ],
           "y": [
            0
           ]
          },
          {
           "hoverinfo": "none",
           "marker": {
            "color": "rgb(0, 0, 255)",
            "line": {
             "color": "rgb(0, 0, 0)",
             "width": 2
            },
            "size": 20
           },
           "mode": "markers+text",
           "text": [
            "2"
           ],
           "textfont": {
            "color": "rgb(255, 255, 255)"
           },
           "textposition": "middle center",
           "x": [
            0.7
           ],
           "y": [
            0
           ]
          },
          {
           "hoverinfo": "none",
           "marker": {
            "color": "rgb(0, 0, 255)",
            "line": {
             "color": "rgb(0, 0, 0)",
             "width": 2
            },
            "size": 20
           },
           "mode": "markers+text",
           "text": [
            "3"
           ],
           "textfont": {
            "color": "rgb(255, 255, 255)"
           },
           "textposition": "middle center",
           "x": [
            1
           ],
           "y": [
            0
           ]
          }
         ],
         "name": 56
        }
       ],
       "layout": {
        "height": 256,
        "margin": {
         "b": 0,
         "l": 0,
         "r": 0,
         "t": 0
        },
        "showlegend": false,
        "sliders": [
         {
          "currentvalue": {
           "visible": false
          },
          "steps": [
           {
            "args": [
             [
              0
             ],
             {
              "frame": {
               "redraw": false
              },
              "mode": "immediate"
             }
            ],
            "label": "",
            "method": "animate"
           },
           {
            "args": [
             [
              1
             ],
             {
              "frame": {
               "redraw": false
              },
              "mode": "immediate"
             }
            ],
            "label": "",
            "method": "animate"
           },
           {
            "args": [
             [
              2
             ],
             {
              "frame": {
               "redraw": false
              },
              "mode": "immediate"
             }
            ],
            "label": "",
            "method": "animate"
           },
           {
            "args": [
             [
              3
             ],
             {
              "frame": {
               "redraw": false
              },
              "mode": "immediate"
             }
            ],
            "label": "",
            "method": "animate"
           },
           {
            "args": [
             [
              4
             ],
             {
              "frame": {
               "redraw": false
              },
              "mode": "immediate"
             }
            ],
            "label": "",
            "method": "animate"
           },
           {
            "args": [
             [
              5
             ],
             {
              "frame": {
               "redraw": false
              },
              "mode": "immediate"
             }
            ],
            "label": "",
            "method": "animate"
           },
           {
            "args": [
             [
              6
             ],
             {
              "frame": {
               "redraw": false
              },
              "mode": "immediate"
             }
            ],
            "label": "",
            "method": "animate"
           },
           {
            "args": [
             [
              7
             ],
             {
              "frame": {
               "redraw": false
              },
              "mode": "immediate"
             }
            ],
            "label": "",
            "method": "animate"
           },
           {
            "args": [
             [
              8
             ],
             {
              "frame": {
               "redraw": false
              },
              "mode": "immediate"
             }
            ],
            "label": "",
            "method": "animate"
           },
           {
            "args": [
             [
              9
             ],
             {
              "frame": {
               "redraw": false
              },
              "mode": "immediate"
             }
            ],
            "label": "",
            "method": "animate"
           },
           {
            "args": [
             [
              10
             ],
             {
              "frame": {
               "redraw": false
              },
              "mode": "immediate"
             }
            ],
            "label": "",
            "method": "animate"
           },
           {
            "args": [
             [
              11
             ],
             {
              "frame": {
               "redraw": false
              },
              "mode": "immediate"
             }
            ],
            "label": "",
            "method": "animate"
           },
           {
            "args": [
             [
              12
             ],
             {
              "frame": {
               "redraw": false
              },
              "mode": "immediate"
             }
            ],
            "label": "",
            "method": "animate"
           },
           {
            "args": [
             [
              13
             ],
             {
              "frame": {
               "redraw": false
              },
              "mode": "immediate"
             }
            ],
            "label": "",
            "method": "animate"
           },
           {
            "args": [
             [
              14
             ],
             {
              "frame": {
               "redraw": false
              },
              "mode": "immediate"
             }
            ],
            "label": "",
            "method": "animate"
           },
           {
            "args": [
             [
              15
             ],
             {
              "frame": {
               "redraw": false
              },
              "mode": "immediate"
             }
            ],
            "label": "",
            "method": "animate"
           },
           {
            "args": [
             [
              16
             ],
             {
              "frame": {
               "redraw": false
              },
              "mode": "immediate"
             }
            ],
            "label": "",
            "method": "animate"
           },
           {
            "args": [
             [
              17
             ],
             {
              "frame": {
               "redraw": false
              },
              "mode": "immediate"
             }
            ],
            "label": "",
            "method": "animate"
           },
           {
            "args": [
             [
              18
             ],
             {
              "frame": {
               "redraw": false
              },
              "mode": "immediate"
             }
            ],
            "label": "",
            "method": "animate"
           },
           {
            "args": [
             [
              19
             ],
             {
              "frame": {
               "redraw": false
              },
              "mode": "immediate"
             }
            ],
            "label": "",
            "method": "animate"
           },
           {
            "args": [
             [
              20
             ],
             {
              "frame": {
               "redraw": false
              },
              "mode": "immediate"
             }
            ],
            "label": "",
            "method": "animate"
           },
           {
            "args": [
             [
              21
             ],
             {
              "frame": {
               "redraw": false
              },
              "mode": "immediate"
             }
            ],
            "label": "",
            "method": "animate"
           },
           {
            "args": [
             [
              22
             ],
             {
              "frame": {
               "redraw": false
              },
              "mode": "immediate"
             }
            ],
            "label": "",
            "method": "animate"
           },
           {
            "args": [
             [
              23
             ],
             {
              "frame": {
               "redraw": false
              },
              "mode": "immediate"
             }
            ],
            "label": "",
            "method": "animate"
           },
           {
            "args": [
             [
              24
             ],
             {
              "frame": {
               "redraw": false
              },
              "mode": "immediate"
             }
            ],
            "label": "",
            "method": "animate"
           },
           {
            "args": [
             [
              25
             ],
             {
              "frame": {
               "redraw": false
              },
              "mode": "immediate"
             }
            ],
            "label": "",
            "method": "animate"
           },
           {
            "args": [
             [
              26
             ],
             {
              "frame": {
               "redraw": false
              },
              "mode": "immediate"
             }
            ],
            "label": "",
            "method": "animate"
           },
           {
            "args": [
             [
              27
             ],
             {
              "frame": {
               "redraw": false
              },
              "mode": "immediate"
             }
            ],
            "label": "",
            "method": "animate"
           },
           {
            "args": [
             [
              28
             ],
             {
              "frame": {
               "redraw": false
              },
              "mode": "immediate"
             }
            ],
            "label": "",
            "method": "animate"
           },
           {
            "args": [
             [
              29
             ],
             {
              "frame": {
               "redraw": false
              },
              "mode": "immediate"
             }
            ],
            "label": "",
            "method": "animate"
           },
           {
            "args": [
             [
              30
             ],
             {
              "frame": {
               "redraw": false
              },
              "mode": "immediate"
             }
            ],
            "label": "",
            "method": "animate"
           },
           {
            "args": [
             [
              31
             ],
             {
              "frame": {
               "redraw": false
              },
              "mode": "immediate"
             }
            ],
            "label": "",
            "method": "animate"
           },
           {
            "args": [
             [
              32
             ],
             {
              "frame": {
               "redraw": false
              },
              "mode": "immediate"
             }
            ],
            "label": "",
            "method": "animate"
           },
           {
            "args": [
             [
              33
             ],
             {
              "frame": {
               "redraw": false
              },
              "mode": "immediate"
             }
            ],
            "label": "",
            "method": "animate"
           },
           {
            "args": [
             [
              34
             ],
             {
              "frame": {
               "redraw": false
              },
              "mode": "immediate"
             }
            ],
            "label": "",
            "method": "animate"
           },
           {
            "args": [
             [
              35
             ],
             {
              "frame": {
               "redraw": false
              },
              "mode": "immediate"
             }
            ],
            "label": "",
            "method": "animate"
           },
           {
            "args": [
             [
              36
             ],
             {
              "frame": {
               "redraw": false
              },
              "mode": "immediate"
             }
            ],
            "label": "",
            "method": "animate"
           },
           {
            "args": [
             [
              37
             ],
             {
              "frame": {
               "redraw": false
              },
              "mode": "immediate"
             }
            ],
            "label": "",
            "method": "animate"
           },
           {
            "args": [
             [
              38
             ],
             {
              "frame": {
               "redraw": false
              },
              "mode": "immediate"
             }
            ],
            "label": "",
            "method": "animate"
           },
           {
            "args": [
             [
              39
             ],
             {
              "frame": {
               "redraw": false
              },
              "mode": "immediate"
             }
            ],
            "label": "",
            "method": "animate"
           },
           {
            "args": [
             [
              40
             ],
             {
              "frame": {
               "redraw": false
              },
              "mode": "immediate"
             }
            ],
            "label": "",
            "method": "animate"
           },
           {
            "args": [
             [
              41
             ],
             {
              "frame": {
               "redraw": false
              },
              "mode": "immediate"
             }
            ],
            "label": "",
            "method": "animate"
           },
           {
            "args": [
             [
              42
             ],
             {
              "frame": {
               "redraw": false
              },
              "mode": "immediate"
             }
            ],
            "label": "",
            "method": "animate"
           },
           {
            "args": [
             [
              43
             ],
             {
              "frame": {
               "redraw": false
              },
              "mode": "immediate"
             }
            ],
            "label": "",
            "method": "animate"
           },
           {
            "args": [
             [
              44
             ],
             {
              "frame": {
               "redraw": false
              },
              "mode": "immediate"
             }
            ],
            "label": "",
            "method": "animate"
           },
           {
            "args": [
             [
              45
             ],
             {
              "frame": {
               "redraw": false
              },
              "mode": "immediate"
             }
            ],
            "label": "",
            "method": "animate"
           },
           {
            "args": [
             [
              46
             ],
             {
              "frame": {
               "redraw": false
              },
              "mode": "immediate"
             }
            ],
            "label": "",
            "method": "animate"
           },
           {
            "args": [
             [
              47
             ],
             {
              "frame": {
               "redraw": false
              },
              "mode": "immediate"
             }
            ],
            "label": "",
            "method": "animate"
           },
           {
            "args": [
             [
              48
             ],
             {
              "frame": {
               "redraw": false
              },
              "mode": "immediate"
             }
            ],
            "label": "",
            "method": "animate"
           },
           {
            "args": [
             [
              49
             ],
             {
              "frame": {
               "redraw": false
              },
              "mode": "immediate"
             }
            ],
            "label": "",
            "method": "animate"
           },
           {
            "args": [
             [
              50
             ],
             {
              "frame": {
               "redraw": false
              },
              "mode": "immediate"
             }
            ],
            "label": "",
            "method": "animate"
           },
           {
            "args": [
             [
              51
             ],
             {
              "frame": {
               "redraw": false
              },
              "mode": "immediate"
             }
            ],
            "label": "",
            "method": "animate"
           },
           {
            "args": [
             [
              52
             ],
             {
              "frame": {
               "redraw": false
              },
              "mode": "immediate"
             }
            ],
            "label": "",
            "method": "animate"
           },
           {
            "args": [
             [
              53
             ],
             {
              "frame": {
               "redraw": false
              },
              "mode": "immediate"
             }
            ],
            "label": "",
            "method": "animate"
           },
           {
            "args": [
             [
              54
             ],
             {
              "frame": {
               "redraw": false
              },
              "mode": "immediate"
             }
            ],
            "label": "",
            "method": "animate"
           },
           {
            "args": [
             [
              55
             ],
             {
              "frame": {
               "redraw": false
              },
              "mode": "immediate"
             }
            ],
            "label": "",
            "method": "animate"
           },
           {
            "args": [
             [
              56
             ],
             {
              "frame": {
               "redraw": false
              },
              "mode": "immediate"
             }
            ],
            "label": "",
            "method": "animate"
           }
          ]
         }
        ],
        "updatemenus": [
         {
          "buttons": [
           {
            "args": [
             null,
             {
              "frame": {
               "redraw": false
              },
              "fromcurrent": true
             }
            ],
            "label": "Play",
            "method": "animate"
           },
           {
            "args": [
             [
              null
             ],
             {
              "frame": {
               "redraw": false
              },
              "mode": "immediate"
             }
            ],
            "label": "Pause",
            "method": "animate"
           }
          ],
          "showactive": true,
          "type": "buttons"
         }
        ],
        "width": 408,
        "xaxis": {
         "showgrid": false,
         "showticklabels": false,
         "zeroline": false
        },
        "yaxis": {
         "showgrid": false,
         "showticklabels": false,
         "zeroline": false
        }
       }
      },
      "text/html": [
       "<div id=\"0775b808-1e6a-4987-a4fe-d9d6dad76465\" style=\"height: 256.0px; width: 408.0px;\" class=\"plotly-graph-div\"></div><script type=\"text/javascript\">require([\"plotly\"], function(Plotly) { window.PLOTLYENV=window.PLOTLYENV || {};window.PLOTLYENV.BASE_URL=\"https://plot.ly\";\n",
       "        Plotly.plot(\n",
       "            '0775b808-1e6a-4987-a4fe-d9d6dad76465',\n",
       "            [{\"y\": [1.0, 1.0, null], \"mode\": \"lines\", \"x\": [0.0, 0.3, null], \"line\": {\"width\": 2, \"color\": \"rgb(0, 0, 0)\"}, \"hoverinfo\": \"none\"}, {\"y\": [1.0, 0.0, null], \"mode\": \"lines\", \"x\": [0.0, 0.0, null], \"line\": {\"width\": 2, \"color\": \"rgb(0, 0, 0)\"}, \"hoverinfo\": \"none\"}, {\"y\": [1.0, 0.0, null], \"mode\": \"lines\", \"x\": [0.3, 0.3, null], \"line\": {\"width\": 2, \"color\": \"rgb(0, 0, 0)\"}, \"hoverinfo\": \"none\"}, {\"y\": [1.0, 1.0, null], \"mode\": \"lines\", \"x\": [0.7, 1.0, null], \"line\": {\"width\": 2, \"color\": \"rgb(0, 0, 0)\"}, \"hoverinfo\": \"none\"}, {\"y\": [1.0, 0.0, null], \"mode\": \"lines\", \"x\": [0.7, 0.3, null], \"line\": {\"width\": 2, \"color\": \"rgb(0, 0, 0)\"}, \"hoverinfo\": \"none\"}, {\"y\": [1.0, 0.0, null], \"mode\": \"lines\", \"x\": [0.7, 0.7, null], \"line\": {\"width\": 2, \"color\": \"rgb(0, 0, 0)\"}, \"hoverinfo\": \"none\"}, {\"y\": [1.0, 0.0, null], \"mode\": \"lines\", \"x\": [1.0, 0.7, null], \"line\": {\"width\": 2, \"color\": \"rgb(0, 0, 0)\"}, \"hoverinfo\": \"none\"}, {\"y\": [1.0, 0.0, null], \"mode\": \"lines\", \"x\": [1.0, 1.0, null], \"line\": {\"width\": 2, \"color\": \"rgb(0, 0, 0)\"}, \"hoverinfo\": \"none\"}, {\"y\": [0.0, 0.0, null], \"mode\": \"lines\", \"x\": [0.3, 0.7, null], \"line\": {\"width\": 2, \"color\": \"rgb(0, 0, 0)\"}, \"hoverinfo\": \"none\"}, {\"y\": [0.0, 0.0, null], \"mode\": \"lines\", \"x\": [0.7, 1.0, null], \"line\": {\"width\": 2, \"color\": \"rgb(0, 0, 0)\"}, \"hoverinfo\": \"none\"}, {\"y\": [1.0], \"mode\": \"markers+text\", \"marker\": {\"line\": {\"width\": 2, \"color\": \"rgb(0, 0, 0)\"}, \"color\": \"rgb(255, 255, 255)\", \"size\": 20}, \"textposition\": \"middle center\", \"x\": [0.0], \"hoverinfo\": \"none\", \"textfont\": {\"color\": \"rgb(0, 0, 0)\"}, \"text\": [\"\\u221e\"]}, {\"y\": [1.0], \"mode\": \"markers+text\", \"marker\": {\"line\": {\"width\": 2, \"color\": \"rgb(0, 0, 0)\"}, \"color\": \"rgb(255, 255, 255)\", \"size\": 20}, \"textposition\": \"middle center\", \"x\": [0.3], \"hoverinfo\": \"none\", \"textfont\": {\"color\": \"rgb(0, 0, 0)\"}, \"text\": [\"0\"]}, {\"y\": [1.0], \"mode\": \"markers+text\", \"marker\": {\"line\": {\"width\": 2, \"color\": \"rgb(0, 0, 0)\"}, \"color\": \"rgb(255, 255, 255)\", \"size\": 20}, \"textposition\": \"middle center\", \"x\": [0.7], \"hoverinfo\": \"none\", \"textfont\": {\"color\": \"rgb(0, 0, 0)\"}, \"text\": [\"\\u221e\"]}, {\"y\": [1.0], \"mode\": \"markers+text\", \"marker\": {\"line\": {\"width\": 2, \"color\": \"rgb(0, 0, 0)\"}, \"color\": \"rgb(255, 255, 255)\", \"size\": 20}, \"textposition\": \"middle center\", \"x\": [1.0], \"hoverinfo\": \"none\", \"textfont\": {\"color\": \"rgb(0, 0, 0)\"}, \"text\": [\"\\u221e\"]}, {\"y\": [0.0], \"mode\": \"markers+text\", \"marker\": {\"line\": {\"width\": 2, \"color\": \"rgb(0, 0, 0)\"}, \"color\": \"rgb(255, 255, 255)\", \"size\": 20}, \"textposition\": \"middle center\", \"x\": [0.0], \"hoverinfo\": \"none\", \"textfont\": {\"color\": \"rgb(0, 0, 0)\"}, \"text\": [\"\\u221e\"]}, {\"y\": [0.0], \"mode\": \"markers+text\", \"marker\": {\"line\": {\"width\": 2, \"color\": \"rgb(0, 0, 0)\"}, \"color\": \"rgb(255, 255, 255)\", \"size\": 20}, \"textposition\": \"middle center\", \"x\": [0.3], \"hoverinfo\": \"none\", \"textfont\": {\"color\": \"rgb(0, 0, 0)\"}, \"text\": [\"\\u221e\"]}, {\"y\": [0.0], \"mode\": \"markers+text\", \"marker\": {\"line\": {\"width\": 2, \"color\": \"rgb(0, 0, 0)\"}, \"color\": \"rgb(255, 255, 255)\", \"size\": 20}, \"textposition\": \"middle center\", \"x\": [0.7], \"hoverinfo\": \"none\", \"textfont\": {\"color\": \"rgb(0, 0, 0)\"}, \"text\": [\"\\u221e\"]}, {\"y\": [0.0], \"mode\": \"markers+text\", \"marker\": {\"line\": {\"width\": 2, \"color\": \"rgb(0, 0, 0)\"}, \"color\": \"rgb(255, 255, 255)\", \"size\": 20}, \"textposition\": \"middle center\", \"x\": [1.0], \"hoverinfo\": \"none\", \"textfont\": {\"color\": \"rgb(0, 0, 0)\"}, \"text\": [\"\\u221e\"]}],\n",
       "            {\"margin\": {\"b\": 0, \"t\": 0, \"r\": 0, \"l\": 0}, \"height\": 256.0, \"sliders\": [{\"currentvalue\": {\"visible\": false}, \"steps\": [{\"args\": [[0], {\"frame\": {\"redraw\": false}, \"mode\": \"immediate\"}], \"method\": \"animate\", \"label\": \"\"}, {\"args\": [[1], {\"frame\": {\"redraw\": false}, \"mode\": \"immediate\"}], \"method\": \"animate\", \"label\": \"\"}, {\"args\": [[2], {\"frame\": {\"redraw\": false}, \"mode\": \"immediate\"}], \"method\": \"animate\", \"label\": \"\"}, {\"args\": [[3], {\"frame\": {\"redraw\": false}, \"mode\": \"immediate\"}], \"method\": \"animate\", \"label\": \"\"}, {\"args\": [[4], {\"frame\": {\"redraw\": false}, \"mode\": \"immediate\"}], \"method\": \"animate\", \"label\": \"\"}, {\"args\": [[5], {\"frame\": {\"redraw\": false}, \"mode\": \"immediate\"}], \"method\": \"animate\", \"label\": \"\"}, {\"args\": [[6], {\"frame\": {\"redraw\": false}, \"mode\": \"immediate\"}], \"method\": \"animate\", \"label\": \"\"}, {\"args\": [[7], {\"frame\": {\"redraw\": false}, \"mode\": \"immediate\"}], \"method\": \"animate\", \"label\": \"\"}, {\"args\": [[8], {\"frame\": {\"redraw\": false}, \"mode\": \"immediate\"}], \"method\": \"animate\", \"label\": \"\"}, {\"args\": [[9], {\"frame\": {\"redraw\": false}, \"mode\": \"immediate\"}], \"method\": \"animate\", \"label\": \"\"}, {\"args\": [[10], {\"frame\": {\"redraw\": false}, \"mode\": \"immediate\"}], \"method\": \"animate\", \"label\": \"\"}, {\"args\": [[11], {\"frame\": {\"redraw\": false}, \"mode\": \"immediate\"}], \"method\": \"animate\", \"label\": \"\"}, {\"args\": [[12], {\"frame\": {\"redraw\": false}, \"mode\": \"immediate\"}], \"method\": \"animate\", \"label\": \"\"}, {\"args\": [[13], {\"frame\": {\"redraw\": false}, \"mode\": \"immediate\"}], \"method\": \"animate\", \"label\": \"\"}, {\"args\": [[14], {\"frame\": {\"redraw\": false}, \"mode\": \"immediate\"}], \"method\": \"animate\", \"label\": \"\"}, {\"args\": [[15], {\"frame\": {\"redraw\": false}, \"mode\": \"immediate\"}], \"method\": \"animate\", \"label\": \"\"}, {\"args\": [[16], {\"frame\": {\"redraw\": false}, \"mode\": \"immediate\"}], \"method\": \"animate\", \"label\": \"\"}, {\"args\": [[17], {\"frame\": {\"redraw\": false}, \"mode\": \"immediate\"}], \"method\": \"animate\", \"label\": \"\"}, {\"args\": [[18], {\"frame\": {\"redraw\": false}, \"mode\": \"immediate\"}], \"method\": \"animate\", \"label\": \"\"}, {\"args\": [[19], {\"frame\": {\"redraw\": false}, \"mode\": \"immediate\"}], \"method\": \"animate\", \"label\": \"\"}, {\"args\": [[20], {\"frame\": {\"redraw\": false}, \"mode\": \"immediate\"}], \"method\": \"animate\", \"label\": \"\"}, {\"args\": [[21], {\"frame\": {\"redraw\": false}, \"mode\": \"immediate\"}], \"method\": \"animate\", \"label\": \"\"}, {\"args\": [[22], {\"frame\": {\"redraw\": false}, \"mode\": \"immediate\"}], \"method\": \"animate\", \"label\": \"\"}, {\"args\": [[23], {\"frame\": {\"redraw\": false}, \"mode\": \"immediate\"}], \"method\": \"animate\", \"label\": \"\"}, {\"args\": [[24], {\"frame\": {\"redraw\": false}, \"mode\": \"immediate\"}], \"method\": \"animate\", \"label\": \"\"}, {\"args\": [[25], {\"frame\": {\"redraw\": false}, \"mode\": \"immediate\"}], \"method\": \"animate\", \"label\": \"\"}, {\"args\": [[26], {\"frame\": {\"redraw\": false}, \"mode\": \"immediate\"}], \"method\": \"animate\", \"label\": \"\"}, {\"args\": [[27], {\"frame\": {\"redraw\": false}, \"mode\": \"immediate\"}], \"method\": \"animate\", \"label\": \"\"}, {\"args\": [[28], {\"frame\": {\"redraw\": false}, \"mode\": \"immediate\"}], \"method\": \"animate\", \"label\": \"\"}, {\"args\": [[29], {\"frame\": {\"redraw\": false}, \"mode\": \"immediate\"}], \"method\": \"animate\", \"label\": \"\"}, {\"args\": [[30], {\"frame\": {\"redraw\": false}, \"mode\": \"immediate\"}], \"method\": \"animate\", \"label\": \"\"}, {\"args\": [[31], {\"frame\": {\"redraw\": false}, \"mode\": \"immediate\"}], \"method\": \"animate\", \"label\": \"\"}, {\"args\": [[32], {\"frame\": {\"redraw\": false}, \"mode\": \"immediate\"}], \"method\": \"animate\", \"label\": \"\"}, {\"args\": [[33], {\"frame\": {\"redraw\": false}, \"mode\": \"immediate\"}], \"method\": \"animate\", \"label\": \"\"}, {\"args\": [[34], {\"frame\": {\"redraw\": false}, \"mode\": \"immediate\"}], \"method\": \"animate\", \"label\": \"\"}, {\"args\": [[35], {\"frame\": {\"redraw\": false}, \"mode\": \"immediate\"}], \"method\": \"animate\", \"label\": \"\"}, {\"args\": [[36], {\"frame\": {\"redraw\": false}, \"mode\": \"immediate\"}], \"method\": \"animate\", \"label\": \"\"}, {\"args\": [[37], {\"frame\": {\"redraw\": false}, \"mode\": \"immediate\"}], \"method\": \"animate\", \"label\": \"\"}, {\"args\": [[38], {\"frame\": {\"redraw\": false}, \"mode\": \"immediate\"}], \"method\": \"animate\", \"label\": \"\"}, {\"args\": [[39], {\"frame\": {\"redraw\": false}, \"mode\": \"immediate\"}], \"method\": \"animate\", \"label\": \"\"}, {\"args\": [[40], {\"frame\": {\"redraw\": false}, \"mode\": \"immediate\"}], \"method\": \"animate\", \"label\": \"\"}, {\"args\": [[41], {\"frame\": {\"redraw\": false}, \"mode\": \"immediate\"}], \"method\": \"animate\", \"label\": \"\"}, {\"args\": [[42], {\"frame\": {\"redraw\": false}, \"mode\": \"immediate\"}], \"method\": \"animate\", \"label\": \"\"}, {\"args\": [[43], {\"frame\": {\"redraw\": false}, \"mode\": \"immediate\"}], \"method\": \"animate\", \"label\": \"\"}, {\"args\": [[44], {\"frame\": {\"redraw\": false}, \"mode\": \"immediate\"}], \"method\": \"animate\", \"label\": \"\"}, {\"args\": [[45], {\"frame\": {\"redraw\": false}, \"mode\": \"immediate\"}], \"method\": \"animate\", \"label\": \"\"}, {\"args\": [[46], {\"frame\": {\"redraw\": false}, \"mode\": \"immediate\"}], \"method\": \"animate\", \"label\": \"\"}, {\"args\": [[47], {\"frame\": {\"redraw\": false}, \"mode\": \"immediate\"}], \"method\": \"animate\", \"label\": \"\"}, {\"args\": [[48], {\"frame\": {\"redraw\": false}, \"mode\": \"immediate\"}], \"method\": \"animate\", \"label\": \"\"}, {\"args\": [[49], {\"frame\": {\"redraw\": false}, \"mode\": \"immediate\"}], \"method\": \"animate\", \"label\": \"\"}, {\"args\": [[50], {\"frame\": {\"redraw\": false}, \"mode\": \"immediate\"}], \"method\": \"animate\", \"label\": \"\"}, {\"args\": [[51], {\"frame\": {\"redraw\": false}, \"mode\": \"immediate\"}], \"method\": \"animate\", \"label\": \"\"}, {\"args\": [[52], {\"frame\": {\"redraw\": false}, \"mode\": \"immediate\"}], \"method\": \"animate\", \"label\": \"\"}, {\"args\": [[53], {\"frame\": {\"redraw\": false}, \"mode\": \"immediate\"}], \"method\": \"animate\", \"label\": \"\"}, {\"args\": [[54], {\"frame\": {\"redraw\": false}, \"mode\": \"immediate\"}], \"method\": \"animate\", \"label\": \"\"}, {\"args\": [[55], {\"frame\": {\"redraw\": false}, \"mode\": \"immediate\"}], \"method\": \"animate\", \"label\": \"\"}, {\"args\": [[56], {\"frame\": {\"redraw\": false}, \"mode\": \"immediate\"}], \"method\": \"animate\", \"label\": \"\"}]}], \"xaxis\": {\"showgrid\": false, \"zeroline\": false, \"showticklabels\": false}, \"showlegend\": false, \"updatemenus\": [{\"showactive\": true, \"buttons\": [{\"args\": [null, {\"frame\": {\"redraw\": false}, \"fromcurrent\": true}], \"method\": \"animate\", \"label\": \"Play\"}, {\"args\": [[null], {\"frame\": {\"redraw\": false}, \"mode\": \"immediate\"}], \"method\": \"animate\", \"label\": \"Pause\"}], \"type\": \"buttons\"}], \"yaxis\": {\"showgrid\": false, \"zeroline\": false, \"showticklabels\": false}, \"width\": 408.0},\n",
       "            {\"displayModeBar\": false, \"linkText\": \"Export to plot.ly\", \"showLink\": false}\n",
       "        ).then(function () {return Plotly.addFrames('0775b808-1e6a-4987-a4fe-d9d6dad76465',[{\"data\": [{\"y\": [1.0, 1.0, null], \"mode\": \"lines\", \"x\": [0.0, 0.3, null], \"line\": {\"width\": 2, \"color\": \"rgb(0, 0, 0)\"}, \"hoverinfo\": \"none\"}, {\"y\": [1.0, 0.0, null], \"mode\": \"lines\", \"x\": [0.0, 0.0, null], \"line\": {\"width\": 2, \"color\": \"rgb(0, 0, 0)\"}, \"hoverinfo\": \"none\"}, {\"y\": [1.0, 0.0, null], \"mode\": \"lines\", \"x\": [0.3, 0.3, null], \"line\": {\"width\": 2, \"color\": \"rgb(0, 0, 0)\"}, \"hoverinfo\": \"none\"}, {\"y\": [1.0, 1.0, null], \"mode\": \"lines\", \"x\": [0.7, 1.0, null], \"line\": {\"width\": 2, \"color\": \"rgb(0, 0, 0)\"}, \"hoverinfo\": \"none\"}, {\"y\": [1.0, 0.0, null], \"mode\": \"lines\", \"x\": [0.7, 0.3, null], \"line\": {\"width\": 2, \"color\": \"rgb(0, 0, 0)\"}, \"hoverinfo\": \"none\"}, {\"y\": [1.0, 0.0, null], \"mode\": \"lines\", \"x\": [0.7, 0.7, null], \"line\": {\"width\": 2, \"color\": \"rgb(0, 0, 0)\"}, \"hoverinfo\": \"none\"}, {\"y\": [1.0, 0.0, null], \"mode\": \"lines\", \"x\": [1.0, 0.7, null], \"line\": {\"width\": 2, \"color\": \"rgb(0, 0, 0)\"}, \"hoverinfo\": \"none\"}, {\"y\": [1.0, 0.0, null], \"mode\": \"lines\", \"x\": [1.0, 1.0, null], \"line\": {\"width\": 2, \"color\": \"rgb(0, 0, 0)\"}, \"hoverinfo\": \"none\"}, {\"y\": [0.0, 0.0, null], \"mode\": \"lines\", \"x\": [0.3, 0.7, null], \"line\": {\"width\": 2, \"color\": \"rgb(0, 0, 0)\"}, \"hoverinfo\": \"none\"}, {\"y\": [0.0, 0.0, null], \"mode\": \"lines\", \"x\": [0.7, 1.0, null], \"line\": {\"width\": 2, \"color\": \"rgb(0, 0, 0)\"}, \"hoverinfo\": \"none\"}, {\"y\": [1.0], \"mode\": \"markers+text\", \"marker\": {\"line\": {\"width\": 2, \"color\": \"rgb(0, 0, 0)\"}, \"color\": \"rgb(255, 255, 255)\", \"size\": 20}, \"textposition\": \"middle center\", \"x\": [0.0], \"hoverinfo\": \"none\", \"textfont\": {\"color\": \"rgb(0, 0, 0)\"}, \"text\": [\"\\u221e\"]}, {\"y\": [1.0], \"mode\": \"markers+text\", \"marker\": {\"line\": {\"width\": 2, \"color\": \"rgb(0, 0, 0)\"}, \"color\": \"rgb(255, 255, 255)\", \"size\": 20}, \"textposition\": \"middle center\", \"x\": [0.3], \"hoverinfo\": \"none\", \"textfont\": {\"color\": \"rgb(0, 0, 0)\"}, \"text\": [\"0\"]}, {\"y\": [1.0], \"mode\": \"markers+text\", \"marker\": {\"line\": {\"width\": 2, \"color\": \"rgb(0, 0, 0)\"}, \"color\": \"rgb(255, 255, 255)\", \"size\": 20}, \"textposition\": \"middle center\", \"x\": [0.7], \"hoverinfo\": \"none\", \"textfont\": {\"color\": \"rgb(0, 0, 0)\"}, \"text\": [\"\\u221e\"]}, {\"y\": [1.0], \"mode\": \"markers+text\", \"marker\": {\"line\": {\"width\": 2, \"color\": \"rgb(0, 0, 0)\"}, \"color\": \"rgb(255, 255, 255)\", \"size\": 20}, \"textposition\": \"middle center\", \"x\": [1.0], \"hoverinfo\": \"none\", \"textfont\": {\"color\": \"rgb(0, 0, 0)\"}, \"text\": [\"\\u221e\"]}, {\"y\": [0.0], \"mode\": \"markers+text\", \"marker\": {\"line\": {\"width\": 2, \"color\": \"rgb(0, 0, 0)\"}, \"color\": \"rgb(255, 255, 255)\", \"size\": 20}, \"textposition\": \"middle center\", \"x\": [0.0], \"hoverinfo\": \"none\", \"textfont\": {\"color\": \"rgb(0, 0, 0)\"}, \"text\": [\"\\u221e\"]}, {\"y\": [0.0], \"mode\": \"markers+text\", \"marker\": {\"line\": {\"width\": 2, \"color\": \"rgb(0, 0, 0)\"}, \"color\": \"rgb(255, 255, 255)\", \"size\": 20}, \"textposition\": \"middle center\", \"x\": [0.3], \"hoverinfo\": \"none\", \"textfont\": {\"color\": \"rgb(0, 0, 0)\"}, \"text\": [\"\\u221e\"]}, {\"y\": [0.0], \"mode\": \"markers+text\", \"marker\": {\"line\": {\"width\": 2, \"color\": \"rgb(0, 0, 0)\"}, \"color\": \"rgb(255, 255, 255)\", \"size\": 20}, \"textposition\": \"middle center\", \"x\": [0.7], \"hoverinfo\": \"none\", \"textfont\": {\"color\": \"rgb(0, 0, 0)\"}, \"text\": [\"\\u221e\"]}, {\"y\": [0.0], \"mode\": \"markers+text\", \"marker\": {\"line\": {\"width\": 2, \"color\": \"rgb(0, 0, 0)\"}, \"color\": \"rgb(255, 255, 255)\", \"size\": 20}, \"textposition\": \"middle center\", \"x\": [1.0], \"hoverinfo\": \"none\", \"textfont\": {\"color\": \"rgb(0, 0, 0)\"}, \"text\": [\"\\u221e\"]}], \"name\": 0}, {\"data\": [{\"y\": [1.0, 1.0, null], \"mode\": \"lines\", \"x\": [0.0, 0.3, null], \"line\": {\"width\": 2, \"color\": \"rgb(0, 0, 0)\"}, \"hoverinfo\": \"none\"}, {\"y\": [1.0, 0.0, null], \"mode\": \"lines\", \"x\": [0.0, 0.0, null], \"line\": {\"width\": 2, \"color\": \"rgb(0, 0, 0)\"}, \"hoverinfo\": \"none\"}, {\"y\": [1.0, 0.0, null], \"mode\": \"lines\", \"x\": [0.3, 0.3, null], \"line\": {\"width\": 2, \"color\": \"rgb(0, 0, 0)\"}, \"hoverinfo\": \"none\"}, {\"y\": [1.0, 1.0, null], \"mode\": \"lines\", \"x\": [0.7, 1.0, null], \"line\": {\"width\": 2, \"color\": \"rgb(0, 0, 0)\"}, \"hoverinfo\": \"none\"}, {\"y\": [1.0, 0.0, null], \"mode\": \"lines\", \"x\": [0.7, 0.3, null], \"line\": {\"width\": 2, \"color\": \"rgb(0, 0, 0)\"}, \"hoverinfo\": \"none\"}, {\"y\": [1.0, 0.0, null], \"mode\": \"lines\", \"x\": [0.7, 0.7, null], \"line\": {\"width\": 2, \"color\": \"rgb(0, 0, 0)\"}, \"hoverinfo\": \"none\"}, {\"y\": [1.0, 0.0, null], \"mode\": \"lines\", \"x\": [1.0, 0.7, null], \"line\": {\"width\": 2, \"color\": \"rgb(0, 0, 0)\"}, \"hoverinfo\": \"none\"}, {\"y\": [1.0, 0.0, null], \"mode\": \"lines\", \"x\": [1.0, 1.0, null], \"line\": {\"width\": 2, \"color\": \"rgb(0, 0, 0)\"}, \"hoverinfo\": \"none\"}, {\"y\": [0.0, 0.0, null], \"mode\": \"lines\", \"x\": [0.3, 0.7, null], \"line\": {\"width\": 2, \"color\": \"rgb(0, 0, 0)\"}, \"hoverinfo\": \"none\"}, {\"y\": [0.0, 0.0, null], \"mode\": \"lines\", \"x\": [0.7, 1.0, null], \"line\": {\"width\": 2, \"color\": \"rgb(0, 0, 0)\"}, \"hoverinfo\": \"none\"}, {\"y\": [1.0], \"mode\": \"markers+text\", \"marker\": {\"line\": {\"width\": 2, \"color\": \"rgb(0, 0, 0)\"}, \"color\": \"rgb(255, 255, 255)\", \"size\": 20}, \"textposition\": \"middle center\", \"x\": [0.0], \"hoverinfo\": \"none\", \"textfont\": {\"color\": \"rgb(0, 0, 0)\"}, \"text\": [\"\\u221e\"]}, {\"y\": [1.0], \"mode\": \"markers+text\", \"marker\": {\"line\": {\"width\": 2, \"color\": \"rgb(0, 0, 0)\"}, \"color\": \"rgb(255, 0, 0)\", \"size\": 20}, \"textposition\": \"middle center\", \"x\": [0.3], \"hoverinfo\": \"none\", \"textfont\": {\"color\": \"rgb(255, 255, 255)\"}, \"text\": [\"0\"]}, {\"y\": [1.0], \"mode\": \"markers+text\", \"marker\": {\"line\": {\"width\": 2, \"color\": \"rgb(0, 0, 0)\"}, \"color\": \"rgb(255, 255, 255)\", \"size\": 20}, \"textposition\": \"middle center\", \"x\": [0.7], \"hoverinfo\": \"none\", \"textfont\": {\"color\": \"rgb(0, 0, 0)\"}, \"text\": [\"\\u221e\"]}, {\"y\": [1.0], \"mode\": \"markers+text\", \"marker\": {\"line\": {\"width\": 2, \"color\": \"rgb(0, 0, 0)\"}, \"color\": \"rgb(255, 255, 255)\", \"size\": 20}, \"textposition\": \"middle center\", \"x\": [1.0], \"hoverinfo\": \"none\", \"textfont\": {\"color\": \"rgb(0, 0, 0)\"}, \"text\": [\"\\u221e\"]}, {\"y\": [0.0], \"mode\": \"markers+text\", \"marker\": {\"line\": {\"width\": 2, \"color\": \"rgb(0, 0, 0)\"}, \"color\": \"rgb(255, 255, 255)\", \"size\": 20}, \"textposition\": \"middle center\", \"x\": [0.0], \"hoverinfo\": \"none\", \"textfont\": {\"color\": \"rgb(0, 0, 0)\"}, \"text\": [\"\\u221e\"]}, {\"y\": [0.0], \"mode\": \"markers+text\", \"marker\": {\"line\": {\"width\": 2, \"color\": \"rgb(0, 0, 0)\"}, \"color\": \"rgb(255, 255, 255)\", \"size\": 20}, \"textposition\": \"middle center\", \"x\": [0.3], \"hoverinfo\": \"none\", \"textfont\": {\"color\": \"rgb(0, 0, 0)\"}, \"text\": [\"\\u221e\"]}, {\"y\": [0.0], \"mode\": \"markers+text\", \"marker\": {\"line\": {\"width\": 2, \"color\": \"rgb(0, 0, 0)\"}, \"color\": \"rgb(255, 255, 255)\", \"size\": 20}, \"textposition\": \"middle center\", \"x\": [0.7], \"hoverinfo\": \"none\", \"textfont\": {\"color\": \"rgb(0, 0, 0)\"}, \"text\": [\"\\u221e\"]}, {\"y\": [0.0], \"mode\": \"markers+text\", \"marker\": {\"line\": {\"width\": 2, \"color\": \"rgb(0, 0, 0)\"}, \"color\": \"rgb(255, 255, 255)\", \"size\": 20}, \"textposition\": \"middle center\", \"x\": [1.0], \"hoverinfo\": \"none\", \"textfont\": {\"color\": \"rgb(0, 0, 0)\"}, \"text\": [\"\\u221e\"]}], \"name\": 1}, {\"data\": [{\"y\": [1.0, 1.0, null], \"mode\": \"lines\", \"x\": [0.0, 0.3, null], \"line\": {\"width\": 2, \"color\": \"rgb(255, 0, 0)\"}, \"hoverinfo\": \"none\"}, {\"y\": [1.0, 0.0, null], \"mode\": \"lines\", \"x\": [0.0, 0.0, null], \"line\": {\"width\": 2, \"color\": \"rgb(0, 0, 0)\"}, \"hoverinfo\": \"none\"}, {\"y\": [1.0, 0.0, null], \"mode\": \"lines\", \"x\": [0.3, 0.3, null], \"line\": {\"width\": 2, \"color\": \"rgb(0, 0, 0)\"}, \"hoverinfo\": \"none\"}, {\"y\": [1.0, 1.0, null], \"mode\": \"lines\", \"x\": [0.7, 1.0, null], \"line\": {\"width\": 2, \"color\": \"rgb(0, 0, 0)\"}, \"hoverinfo\": \"none\"}, {\"y\": [1.0, 0.0, null], \"mode\": \"lines\", \"x\": [0.7, 0.3, null], \"line\": {\"width\": 2, \"color\": \"rgb(0, 0, 0)\"}, \"hoverinfo\": \"none\"}, {\"y\": [1.0, 0.0, null], \"mode\": \"lines\", \"x\": [0.7, 0.7, null], \"line\": {\"width\": 2, \"color\": \"rgb(0, 0, 0)\"}, \"hoverinfo\": \"none\"}, {\"y\": [1.0, 0.0, null], \"mode\": \"lines\", \"x\": [1.0, 0.7, null], \"line\": {\"width\": 2, \"color\": \"rgb(0, 0, 0)\"}, \"hoverinfo\": \"none\"}, {\"y\": [1.0, 0.0, null], \"mode\": \"lines\", \"x\": [1.0, 1.0, null], \"line\": {\"width\": 2, \"color\": \"rgb(0, 0, 0)\"}, \"hoverinfo\": \"none\"}, {\"y\": [0.0, 0.0, null], \"mode\": \"lines\", \"x\": [0.3, 0.7, null], \"line\": {\"width\": 2, \"color\": \"rgb(0, 0, 0)\"}, \"hoverinfo\": \"none\"}, {\"y\": [0.0, 0.0, null], \"mode\": \"lines\", \"x\": [0.7, 1.0, null], \"line\": {\"width\": 2, \"color\": \"rgb(0, 0, 0)\"}, \"hoverinfo\": \"none\"}, {\"y\": [1.0], \"mode\": \"markers+text\", \"marker\": {\"line\": {\"width\": 2, \"color\": \"rgb(0, 0, 0)\"}, \"color\": \"rgb(255, 255, 255)\", \"size\": 20}, \"textposition\": \"middle center\", \"x\": [0.0], \"hoverinfo\": \"none\", \"textfont\": {\"color\": \"rgb(0, 0, 0)\"}, \"text\": [\"\\u221e\"]}, {\"y\": [1.0], \"mode\": \"markers+text\", \"marker\": {\"line\": {\"width\": 2, \"color\": \"rgb(0, 0, 0)\"}, \"color\": \"rgb(255, 0, 0)\", \"size\": 20}, \"textposition\": \"middle center\", \"x\": [0.3], \"hoverinfo\": \"none\", \"textfont\": {\"color\": \"rgb(255, 255, 255)\"}, \"text\": [\"0\"]}, {\"y\": [1.0], \"mode\": \"markers+text\", \"marker\": {\"line\": {\"width\": 2, \"color\": \"rgb(0, 0, 0)\"}, \"color\": \"rgb(255, 255, 255)\", \"size\": 20}, \"textposition\": \"middle center\", \"x\": [0.7], \"hoverinfo\": \"none\", \"textfont\": {\"color\": \"rgb(0, 0, 0)\"}, \"text\": [\"\\u221e\"]}, {\"y\": [1.0], \"mode\": \"markers+text\", \"marker\": {\"line\": {\"width\": 2, \"color\": \"rgb(0, 0, 0)\"}, \"color\": \"rgb(255, 255, 255)\", \"size\": 20}, \"textposition\": \"middle center\", \"x\": [1.0], \"hoverinfo\": \"none\", \"textfont\": {\"color\": \"rgb(0, 0, 0)\"}, \"text\": [\"\\u221e\"]}, {\"y\": [0.0], \"mode\": \"markers+text\", \"marker\": {\"line\": {\"width\": 2, \"color\": \"rgb(0, 0, 0)\"}, \"color\": \"rgb(255, 255, 255)\", \"size\": 20}, \"textposition\": \"middle center\", \"x\": [0.0], \"hoverinfo\": \"none\", \"textfont\": {\"color\": \"rgb(0, 0, 0)\"}, \"text\": [\"\\u221e\"]}, {\"y\": [0.0], \"mode\": \"markers+text\", \"marker\": {\"line\": {\"width\": 2, \"color\": \"rgb(0, 0, 0)\"}, \"color\": \"rgb(255, 255, 255)\", \"size\": 20}, \"textposition\": \"middle center\", \"x\": [0.3], \"hoverinfo\": \"none\", \"textfont\": {\"color\": \"rgb(0, 0, 0)\"}, \"text\": [\"\\u221e\"]}, {\"y\": [0.0], \"mode\": \"markers+text\", \"marker\": {\"line\": {\"width\": 2, \"color\": \"rgb(0, 0, 0)\"}, \"color\": \"rgb(255, 255, 255)\", \"size\": 20}, \"textposition\": \"middle center\", \"x\": [0.7], \"hoverinfo\": \"none\", \"textfont\": {\"color\": \"rgb(0, 0, 0)\"}, \"text\": [\"\\u221e\"]}, {\"y\": [0.0], \"mode\": \"markers+text\", \"marker\": {\"line\": {\"width\": 2, \"color\": \"rgb(0, 0, 0)\"}, \"color\": \"rgb(255, 255, 255)\", \"size\": 20}, \"textposition\": \"middle center\", \"x\": [1.0], \"hoverinfo\": \"none\", \"textfont\": {\"color\": \"rgb(0, 0, 0)\"}, \"text\": [\"\\u221e\"]}], \"name\": 2}, {\"data\": [{\"y\": [1.0, 1.0, null], \"mode\": \"lines\", \"x\": [0.0, 0.3, null], \"line\": {\"width\": 2, \"color\": \"rgb(0, 0, 0)\"}, \"hoverinfo\": \"none\"}, {\"y\": [1.0, 0.0, null], \"mode\": \"lines\", \"x\": [0.0, 0.0, null], \"line\": {\"width\": 2, \"color\": \"rgb(0, 0, 0)\"}, \"hoverinfo\": \"none\"}, {\"y\": [1.0, 0.0, null], \"mode\": \"lines\", \"x\": [0.3, 0.3, null], \"line\": {\"width\": 2, \"color\": \"rgb(0, 0, 0)\"}, \"hoverinfo\": \"none\"}, {\"y\": [1.0, 1.0, null], \"mode\": \"lines\", \"x\": [0.7, 1.0, null], \"line\": {\"width\": 2, \"color\": \"rgb(0, 0, 0)\"}, \"hoverinfo\": \"none\"}, {\"y\": [1.0, 0.0, null], \"mode\": \"lines\", \"x\": [0.7, 0.3, null], \"line\": {\"width\": 2, \"color\": \"rgb(0, 0, 0)\"}, \"hoverinfo\": \"none\"}, {\"y\": [1.0, 0.0, null], \"mode\": \"lines\", \"x\": [0.7, 0.7, null], \"line\": {\"width\": 2, \"color\": \"rgb(0, 0, 0)\"}, \"hoverinfo\": \"none\"}, {\"y\": [1.0, 0.0, null], \"mode\": \"lines\", \"x\": [1.0, 0.7, null], \"line\": {\"width\": 2, \"color\": \"rgb(0, 0, 0)\"}, \"hoverinfo\": \"none\"}, {\"y\": [1.0, 0.0, null], \"mode\": \"lines\", \"x\": [1.0, 1.0, null], \"line\": {\"width\": 2, \"color\": \"rgb(0, 0, 0)\"}, \"hoverinfo\": \"none\"}, {\"y\": [0.0, 0.0, null], \"mode\": \"lines\", \"x\": [0.3, 0.7, null], \"line\": {\"width\": 2, \"color\": \"rgb(0, 0, 0)\"}, \"hoverinfo\": \"none\"}, {\"y\": [0.0, 0.0, null], \"mode\": \"lines\", \"x\": [0.7, 1.0, null], \"line\": {\"width\": 2, \"color\": \"rgb(0, 0, 0)\"}, \"hoverinfo\": \"none\"}, {\"y\": [1.0], \"mode\": \"markers+text\", \"marker\": {\"line\": {\"width\": 2, \"color\": \"rgb(0, 0, 0)\"}, \"color\": \"rgb(255, 255, 255)\", \"size\": 20}, \"textposition\": \"middle center\", \"x\": [0.0], \"hoverinfo\": \"none\", \"textfont\": {\"color\": \"rgb(0, 0, 0)\"}, \"text\": [\"1\"]}, {\"y\": [1.0], \"mode\": \"markers+text\", \"marker\": {\"line\": {\"width\": 2, \"color\": \"rgb(0, 0, 0)\"}, \"color\": \"rgb(255, 0, 0)\", \"size\": 20}, \"textposition\": \"middle center\", \"x\": [0.3], \"hoverinfo\": \"none\", \"textfont\": {\"color\": \"rgb(255, 255, 255)\"}, \"text\": [\"0\"]}, {\"y\": [1.0], \"mode\": \"markers+text\", \"marker\": {\"line\": {\"width\": 2, \"color\": \"rgb(0, 0, 0)\"}, \"color\": \"rgb(255, 255, 255)\", \"size\": 20}, \"textposition\": \"middle center\", \"x\": [0.7], \"hoverinfo\": \"none\", \"textfont\": {\"color\": \"rgb(0, 0, 0)\"}, \"text\": [\"\\u221e\"]}, {\"y\": [1.0], \"mode\": \"markers+text\", \"marker\": {\"line\": {\"width\": 2, \"color\": \"rgb(0, 0, 0)\"}, \"color\": \"rgb(255, 255, 255)\", \"size\": 20}, \"textposition\": \"middle center\", \"x\": [1.0], \"hoverinfo\": \"none\", \"textfont\": {\"color\": \"rgb(0, 0, 0)\"}, \"text\": [\"\\u221e\"]}, {\"y\": [0.0], \"mode\": \"markers+text\", \"marker\": {\"line\": {\"width\": 2, \"color\": \"rgb(0, 0, 0)\"}, \"color\": \"rgb(255, 255, 255)\", \"size\": 20}, \"textposition\": \"middle center\", \"x\": [0.0], \"hoverinfo\": \"none\", \"textfont\": {\"color\": \"rgb(0, 0, 0)\"}, \"text\": [\"\\u221e\"]}, {\"y\": [0.0], \"mode\": \"markers+text\", \"marker\": {\"line\": {\"width\": 2, \"color\": \"rgb(0, 0, 0)\"}, \"color\": \"rgb(255, 255, 255)\", \"size\": 20}, \"textposition\": \"middle center\", \"x\": [0.3], \"hoverinfo\": \"none\", \"textfont\": {\"color\": \"rgb(0, 0, 0)\"}, \"text\": [\"\\u221e\"]}, {\"y\": [0.0], \"mode\": \"markers+text\", \"marker\": {\"line\": {\"width\": 2, \"color\": \"rgb(0, 0, 0)\"}, \"color\": \"rgb(255, 255, 255)\", \"size\": 20}, \"textposition\": \"middle center\", \"x\": [0.7], \"hoverinfo\": \"none\", \"textfont\": {\"color\": \"rgb(0, 0, 0)\"}, \"text\": [\"\\u221e\"]}, {\"y\": [0.0], \"mode\": \"markers+text\", \"marker\": {\"line\": {\"width\": 2, \"color\": \"rgb(0, 0, 0)\"}, \"color\": \"rgb(255, 255, 255)\", \"size\": 20}, \"textposition\": \"middle center\", \"x\": [1.0], \"hoverinfo\": \"none\", \"textfont\": {\"color\": \"rgb(0, 0, 0)\"}, \"text\": [\"\\u221e\"]}], \"name\": 3}, {\"data\": [{\"y\": [1.0, 1.0, null], \"mode\": \"lines\", \"x\": [0.0, 0.3, null], \"line\": {\"width\": 2, \"color\": \"rgb(0, 0, 0)\"}, \"hoverinfo\": \"none\"}, {\"y\": [1.0, 0.0, null], \"mode\": \"lines\", \"x\": [0.0, 0.0, null], \"line\": {\"width\": 2, \"color\": \"rgb(0, 0, 0)\"}, \"hoverinfo\": \"none\"}, {\"y\": [1.0, 0.0, null], \"mode\": \"lines\", \"x\": [0.3, 0.3, null], \"line\": {\"width\": 2, \"color\": \"rgb(255, 0, 0)\"}, \"hoverinfo\": \"none\"}, {\"y\": [1.0, 1.0, null], \"mode\": \"lines\", \"x\": [0.7, 1.0, null], \"line\": {\"width\": 2, \"color\": \"rgb(0, 0, 0)\"}, \"hoverinfo\": \"none\"}, {\"y\": [1.0, 0.0, null], \"mode\": \"lines\", \"x\": [0.7, 0.3, null], \"line\": {\"width\": 2, \"color\": \"rgb(0, 0, 0)\"}, \"hoverinfo\": \"none\"}, {\"y\": [1.0, 0.0, null], \"mode\": \"lines\", \"x\": [0.7, 0.7, null], \"line\": {\"width\": 2, \"color\": \"rgb(0, 0, 0)\"}, \"hoverinfo\": \"none\"}, {\"y\": [1.0, 0.0, null], \"mode\": \"lines\", \"x\": [1.0, 0.7, null], \"line\": {\"width\": 2, \"color\": \"rgb(0, 0, 0)\"}, \"hoverinfo\": \"none\"}, {\"y\": [1.0, 0.0, null], \"mode\": \"lines\", \"x\": [1.0, 1.0, null], \"line\": {\"width\": 2, \"color\": \"rgb(0, 0, 0)\"}, \"hoverinfo\": \"none\"}, {\"y\": [0.0, 0.0, null], \"mode\": \"lines\", \"x\": [0.3, 0.7, null], \"line\": {\"width\": 2, \"color\": \"rgb(0, 0, 0)\"}, \"hoverinfo\": \"none\"}, {\"y\": [0.0, 0.0, null], \"mode\": \"lines\", \"x\": [0.7, 1.0, null], \"line\": {\"width\": 2, \"color\": \"rgb(0, 0, 0)\"}, \"hoverinfo\": \"none\"}, {\"y\": [1.0], \"mode\": \"markers+text\", \"marker\": {\"line\": {\"width\": 2, \"color\": \"rgb(0, 0, 0)\"}, \"color\": \"rgb(255, 255, 255)\", \"size\": 20}, \"textposition\": \"middle center\", \"x\": [0.0], \"hoverinfo\": \"none\", \"textfont\": {\"color\": \"rgb(0, 0, 0)\"}, \"text\": [\"1\"]}, {\"y\": [1.0], \"mode\": \"markers+text\", \"marker\": {\"line\": {\"width\": 2, \"color\": \"rgb(0, 0, 0)\"}, \"color\": \"rgb(255, 0, 0)\", \"size\": 20}, \"textposition\": \"middle center\", \"x\": [0.3], \"hoverinfo\": \"none\", \"textfont\": {\"color\": \"rgb(255, 255, 255)\"}, \"text\": [\"0\"]}, {\"y\": [1.0], \"mode\": \"markers+text\", \"marker\": {\"line\": {\"width\": 2, \"color\": \"rgb(0, 0, 0)\"}, \"color\": \"rgb(255, 255, 255)\", \"size\": 20}, \"textposition\": \"middle center\", \"x\": [0.7], \"hoverinfo\": \"none\", \"textfont\": {\"color\": \"rgb(0, 0, 0)\"}, \"text\": [\"\\u221e\"]}, {\"y\": [1.0], \"mode\": \"markers+text\", \"marker\": {\"line\": {\"width\": 2, \"color\": \"rgb(0, 0, 0)\"}, \"color\": \"rgb(255, 255, 255)\", \"size\": 20}, \"textposition\": \"middle center\", \"x\": [1.0], \"hoverinfo\": \"none\", \"textfont\": {\"color\": \"rgb(0, 0, 0)\"}, \"text\": [\"\\u221e\"]}, {\"y\": [0.0], \"mode\": \"markers+text\", \"marker\": {\"line\": {\"width\": 2, \"color\": \"rgb(0, 0, 0)\"}, \"color\": \"rgb(255, 255, 255)\", \"size\": 20}, \"textposition\": \"middle center\", \"x\": [0.0], \"hoverinfo\": \"none\", \"textfont\": {\"color\": \"rgb(0, 0, 0)\"}, \"text\": [\"\\u221e\"]}, {\"y\": [0.0], \"mode\": \"markers+text\", \"marker\": {\"line\": {\"width\": 2, \"color\": \"rgb(0, 0, 0)\"}, \"color\": \"rgb(255, 255, 255)\", \"size\": 20}, \"textposition\": \"middle center\", \"x\": [0.3], \"hoverinfo\": \"none\", \"textfont\": {\"color\": \"rgb(0, 0, 0)\"}, \"text\": [\"\\u221e\"]}, {\"y\": [0.0], \"mode\": \"markers+text\", \"marker\": {\"line\": {\"width\": 2, \"color\": \"rgb(0, 0, 0)\"}, \"color\": \"rgb(255, 255, 255)\", \"size\": 20}, \"textposition\": \"middle center\", \"x\": [0.7], \"hoverinfo\": \"none\", \"textfont\": {\"color\": \"rgb(0, 0, 0)\"}, \"text\": [\"\\u221e\"]}, {\"y\": [0.0], \"mode\": \"markers+text\", \"marker\": {\"line\": {\"width\": 2, \"color\": \"rgb(0, 0, 0)\"}, \"color\": \"rgb(255, 255, 255)\", \"size\": 20}, \"textposition\": \"middle center\", \"x\": [1.0], \"hoverinfo\": \"none\", \"textfont\": {\"color\": \"rgb(0, 0, 0)\"}, \"text\": [\"\\u221e\"]}], \"name\": 4}, {\"data\": [{\"y\": [1.0, 1.0, null], \"mode\": \"lines\", \"x\": [0.0, 0.3, null], \"line\": {\"width\": 2, \"color\": \"rgb(0, 0, 0)\"}, \"hoverinfo\": \"none\"}, {\"y\": [1.0, 0.0, null], \"mode\": \"lines\", \"x\": [0.0, 0.0, null], \"line\": {\"width\": 2, \"color\": \"rgb(0, 0, 0)\"}, \"hoverinfo\": \"none\"}, {\"y\": [1.0, 0.0, null], \"mode\": \"lines\", \"x\": [0.3, 0.3, null], \"line\": {\"width\": 2, \"color\": \"rgb(0, 0, 0)\"}, \"hoverinfo\": \"none\"}, {\"y\": [1.0, 1.0, null], \"mode\": \"lines\", \"x\": [0.7, 1.0, null], \"line\": {\"width\": 2, \"color\": \"rgb(0, 0, 0)\"}, \"hoverinfo\": \"none\"}, {\"y\": [1.0, 0.0, null], \"mode\": \"lines\", \"x\": [0.7, 0.3, null], \"line\": {\"width\": 2, \"color\": \"rgb(0, 0, 0)\"}, \"hoverinfo\": \"none\"}, {\"y\": [1.0, 0.0, null], \"mode\": \"lines\", \"x\": [0.7, 0.7, null], \"line\": {\"width\": 2, \"color\": \"rgb(0, 0, 0)\"}, \"hoverinfo\": \"none\"}, {\"y\": [1.0, 0.0, null], \"mode\": \"lines\", \"x\": [1.0, 0.7, null], \"line\": {\"width\": 2, \"color\": \"rgb(0, 0, 0)\"}, \"hoverinfo\": \"none\"}, {\"y\": [1.0, 0.0, null], \"mode\": \"lines\", \"x\": [1.0, 1.0, null], \"line\": {\"width\": 2, \"color\": \"rgb(0, 0, 0)\"}, \"hoverinfo\": \"none\"}, {\"y\": [0.0, 0.0, null], \"mode\": \"lines\", \"x\": [0.3, 0.7, null], \"line\": {\"width\": 2, \"color\": \"rgb(0, 0, 0)\"}, \"hoverinfo\": \"none\"}, {\"y\": [0.0, 0.0, null], \"mode\": \"lines\", \"x\": [0.7, 1.0, null], \"line\": {\"width\": 2, \"color\": \"rgb(0, 0, 0)\"}, \"hoverinfo\": \"none\"}, {\"y\": [1.0], \"mode\": \"markers+text\", \"marker\": {\"line\": {\"width\": 2, \"color\": \"rgb(0, 0, 0)\"}, \"color\": \"rgb(255, 255, 255)\", \"size\": 20}, \"textposition\": \"middle center\", \"x\": [0.0], \"hoverinfo\": \"none\", \"textfont\": {\"color\": \"rgb(0, 0, 0)\"}, \"text\": [\"1\"]}, {\"y\": [1.0], \"mode\": \"markers+text\", \"marker\": {\"line\": {\"width\": 2, \"color\": \"rgb(0, 0, 0)\"}, \"color\": \"rgb(255, 0, 0)\", \"size\": 20}, \"textposition\": \"middle center\", \"x\": [0.3], \"hoverinfo\": \"none\", \"textfont\": {\"color\": \"rgb(255, 255, 255)\"}, \"text\": [\"0\"]}, {\"y\": [1.0], \"mode\": \"markers+text\", \"marker\": {\"line\": {\"width\": 2, \"color\": \"rgb(0, 0, 0)\"}, \"color\": \"rgb(255, 255, 255)\", \"size\": 20}, \"textposition\": \"middle center\", \"x\": [0.7], \"hoverinfo\": \"none\", \"textfont\": {\"color\": \"rgb(0, 0, 0)\"}, \"text\": [\"\\u221e\"]}, {\"y\": [1.0], \"mode\": \"markers+text\", \"marker\": {\"line\": {\"width\": 2, \"color\": \"rgb(0, 0, 0)\"}, \"color\": \"rgb(255, 255, 255)\", \"size\": 20}, \"textposition\": \"middle center\", \"x\": [1.0], \"hoverinfo\": \"none\", \"textfont\": {\"color\": \"rgb(0, 0, 0)\"}, \"text\": [\"\\u221e\"]}, {\"y\": [0.0], \"mode\": \"markers+text\", \"marker\": {\"line\": {\"width\": 2, \"color\": \"rgb(0, 0, 0)\"}, \"color\": \"rgb(255, 255, 255)\", \"size\": 20}, \"textposition\": \"middle center\", \"x\": [0.0], \"hoverinfo\": \"none\", \"textfont\": {\"color\": \"rgb(0, 0, 0)\"}, \"text\": [\"\\u221e\"]}, {\"y\": [0.0], \"mode\": \"markers+text\", \"marker\": {\"line\": {\"width\": 2, \"color\": \"rgb(0, 0, 0)\"}, \"color\": \"rgb(255, 255, 255)\", \"size\": 20}, \"textposition\": \"middle center\", \"x\": [0.3], \"hoverinfo\": \"none\", \"textfont\": {\"color\": \"rgb(0, 0, 0)\"}, \"text\": [\"1\"]}, {\"y\": [0.0], \"mode\": \"markers+text\", \"marker\": {\"line\": {\"width\": 2, \"color\": \"rgb(0, 0, 0)\"}, \"color\": \"rgb(255, 255, 255)\", \"size\": 20}, \"textposition\": \"middle center\", \"x\": [0.7], \"hoverinfo\": \"none\", \"textfont\": {\"color\": \"rgb(0, 0, 0)\"}, \"text\": [\"\\u221e\"]}, {\"y\": [0.0], \"mode\": \"markers+text\", \"marker\": {\"line\": {\"width\": 2, \"color\": \"rgb(0, 0, 0)\"}, \"color\": \"rgb(255, 255, 255)\", \"size\": 20}, \"textposition\": \"middle center\", \"x\": [1.0], \"hoverinfo\": \"none\", \"textfont\": {\"color\": \"rgb(0, 0, 0)\"}, \"text\": [\"\\u221e\"]}], \"name\": 5}, {\"data\": [{\"y\": [1.0, 1.0, null], \"mode\": \"lines\", \"x\": [0.0, 0.3, null], \"line\": {\"width\": 2, \"color\": \"rgb(0, 0, 0)\"}, \"hoverinfo\": \"none\"}, {\"y\": [1.0, 0.0, null], \"mode\": \"lines\", \"x\": [0.0, 0.0, null], \"line\": {\"width\": 2, \"color\": \"rgb(0, 0, 0)\"}, \"hoverinfo\": \"none\"}, {\"y\": [1.0, 0.0, null], \"mode\": \"lines\", \"x\": [0.3, 0.3, null], \"line\": {\"width\": 2, \"color\": \"rgb(0, 0, 0)\"}, \"hoverinfo\": \"none\"}, {\"y\": [1.0, 1.0, null], \"mode\": \"lines\", \"x\": [0.7, 1.0, null], \"line\": {\"width\": 2, \"color\": \"rgb(0, 0, 0)\"}, \"hoverinfo\": \"none\"}, {\"y\": [1.0, 0.0, null], \"mode\": \"lines\", \"x\": [0.7, 0.3, null], \"line\": {\"width\": 2, \"color\": \"rgb(0, 0, 0)\"}, \"hoverinfo\": \"none\"}, {\"y\": [1.0, 0.0, null], \"mode\": \"lines\", \"x\": [0.7, 0.7, null], \"line\": {\"width\": 2, \"color\": \"rgb(0, 0, 0)\"}, \"hoverinfo\": \"none\"}, {\"y\": [1.0, 0.0, null], \"mode\": \"lines\", \"x\": [1.0, 0.7, null], \"line\": {\"width\": 2, \"color\": \"rgb(0, 0, 0)\"}, \"hoverinfo\": \"none\"}, {\"y\": [1.0, 0.0, null], \"mode\": \"lines\", \"x\": [1.0, 1.0, null], \"line\": {\"width\": 2, \"color\": \"rgb(0, 0, 0)\"}, \"hoverinfo\": \"none\"}, {\"y\": [0.0, 0.0, null], \"mode\": \"lines\", \"x\": [0.3, 0.7, null], \"line\": {\"width\": 2, \"color\": \"rgb(0, 0, 0)\"}, \"hoverinfo\": \"none\"}, {\"y\": [0.0, 0.0, null], \"mode\": \"lines\", \"x\": [0.7, 1.0, null], \"line\": {\"width\": 2, \"color\": \"rgb(0, 0, 0)\"}, \"hoverinfo\": \"none\"}, {\"y\": [1.0], \"mode\": \"markers+text\", \"marker\": {\"line\": {\"width\": 2, \"color\": \"rgb(0, 0, 0)\"}, \"color\": \"rgb(255, 255, 255)\", \"size\": 20}, \"textposition\": \"middle center\", \"x\": [0.0], \"hoverinfo\": \"none\", \"textfont\": {\"color\": \"rgb(0, 0, 0)\"}, \"text\": [\"1\"]}, {\"y\": [1.0], \"mode\": \"markers+text\", \"marker\": {\"line\": {\"width\": 2, \"color\": \"rgb(0, 0, 0)\"}, \"color\": \"rgb(0, 0, 255)\", \"size\": 20}, \"textposition\": \"middle center\", \"x\": [0.3], \"hoverinfo\": \"none\", \"textfont\": {\"color\": \"rgb(255, 255, 255)\"}, \"text\": [\"0\"]}, {\"y\": [1.0], \"mode\": \"markers+text\", \"marker\": {\"line\": {\"width\": 2, \"color\": \"rgb(0, 0, 0)\"}, \"color\": \"rgb(255, 255, 255)\", \"size\": 20}, \"textposition\": \"middle center\", \"x\": [0.7], \"hoverinfo\": \"none\", \"textfont\": {\"color\": \"rgb(0, 0, 0)\"}, \"text\": [\"\\u221e\"]}, {\"y\": [1.0], \"mode\": \"markers+text\", \"marker\": {\"line\": {\"width\": 2, \"color\": \"rgb(0, 0, 0)\"}, \"color\": \"rgb(255, 255, 255)\", \"size\": 20}, \"textposition\": \"middle center\", \"x\": [1.0], \"hoverinfo\": \"none\", \"textfont\": {\"color\": \"rgb(0, 0, 0)\"}, \"text\": [\"\\u221e\"]}, {\"y\": [0.0], \"mode\": \"markers+text\", \"marker\": {\"line\": {\"width\": 2, \"color\": \"rgb(0, 0, 0)\"}, \"color\": \"rgb(255, 255, 255)\", \"size\": 20}, \"textposition\": \"middle center\", \"x\": [0.0], \"hoverinfo\": \"none\", \"textfont\": {\"color\": \"rgb(0, 0, 0)\"}, \"text\": [\"\\u221e\"]}, {\"y\": [0.0], \"mode\": \"markers+text\", \"marker\": {\"line\": {\"width\": 2, \"color\": \"rgb(0, 0, 0)\"}, \"color\": \"rgb(255, 255, 255)\", \"size\": 20}, \"textposition\": \"middle center\", \"x\": [0.3], \"hoverinfo\": \"none\", \"textfont\": {\"color\": \"rgb(0, 0, 0)\"}, \"text\": [\"1\"]}, {\"y\": [0.0], \"mode\": \"markers+text\", \"marker\": {\"line\": {\"width\": 2, \"color\": \"rgb(0, 0, 0)\"}, \"color\": \"rgb(255, 255, 255)\", \"size\": 20}, \"textposition\": \"middle center\", \"x\": [0.7], \"hoverinfo\": \"none\", \"textfont\": {\"color\": \"rgb(0, 0, 0)\"}, \"text\": [\"\\u221e\"]}, {\"y\": [0.0], \"mode\": \"markers+text\", \"marker\": {\"line\": {\"width\": 2, \"color\": \"rgb(0, 0, 0)\"}, \"color\": \"rgb(255, 255, 255)\", \"size\": 20}, \"textposition\": \"middle center\", \"x\": [1.0], \"hoverinfo\": \"none\", \"textfont\": {\"color\": \"rgb(0, 0, 0)\"}, \"text\": [\"\\u221e\"]}], \"name\": 6}, {\"data\": [{\"y\": [1.0, 1.0, null], \"mode\": \"lines\", \"x\": [0.0, 0.3, null], \"line\": {\"width\": 2, \"color\": \"rgb(0, 0, 0)\"}, \"hoverinfo\": \"none\"}, {\"y\": [1.0, 0.0, null], \"mode\": \"lines\", \"x\": [0.0, 0.0, null], \"line\": {\"width\": 2, \"color\": \"rgb(0, 0, 0)\"}, \"hoverinfo\": \"none\"}, {\"y\": [1.0, 0.0, null], \"mode\": \"lines\", \"x\": [0.3, 0.3, null], \"line\": {\"width\": 2, \"color\": \"rgb(0, 0, 0)\"}, \"hoverinfo\": \"none\"}, {\"y\": [1.0, 1.0, null], \"mode\": \"lines\", \"x\": [0.7, 1.0, null], \"line\": {\"width\": 2, \"color\": \"rgb(0, 0, 0)\"}, \"hoverinfo\": \"none\"}, {\"y\": [1.0, 0.0, null], \"mode\": \"lines\", \"x\": [0.7, 0.3, null], \"line\": {\"width\": 2, \"color\": \"rgb(0, 0, 0)\"}, \"hoverinfo\": \"none\"}, {\"y\": [1.0, 0.0, null], \"mode\": \"lines\", \"x\": [0.7, 0.7, null], \"line\": {\"width\": 2, \"color\": \"rgb(0, 0, 0)\"}, \"hoverinfo\": \"none\"}, {\"y\": [1.0, 0.0, null], \"mode\": \"lines\", \"x\": [1.0, 0.7, null], \"line\": {\"width\": 2, \"color\": \"rgb(0, 0, 0)\"}, \"hoverinfo\": \"none\"}, {\"y\": [1.0, 0.0, null], \"mode\": \"lines\", \"x\": [1.0, 1.0, null], \"line\": {\"width\": 2, \"color\": \"rgb(0, 0, 0)\"}, \"hoverinfo\": \"none\"}, {\"y\": [0.0, 0.0, null], \"mode\": \"lines\", \"x\": [0.3, 0.7, null], \"line\": {\"width\": 2, \"color\": \"rgb(0, 0, 0)\"}, \"hoverinfo\": \"none\"}, {\"y\": [0.0, 0.0, null], \"mode\": \"lines\", \"x\": [0.7, 1.0, null], \"line\": {\"width\": 2, \"color\": \"rgb(0, 0, 0)\"}, \"hoverinfo\": \"none\"}, {\"y\": [1.0], \"mode\": \"markers+text\", \"marker\": {\"line\": {\"width\": 2, \"color\": \"rgb(0, 0, 0)\"}, \"color\": \"rgb(255, 0, 0)\", \"size\": 20}, \"textposition\": \"middle center\", \"x\": [0.0], \"hoverinfo\": \"none\", \"textfont\": {\"color\": \"rgb(255, 255, 255)\"}, \"text\": [\"1\"]}, {\"y\": [1.0], \"mode\": \"markers+text\", \"marker\": {\"line\": {\"width\": 2, \"color\": \"rgb(0, 0, 0)\"}, \"color\": \"rgb(0, 0, 255)\", \"size\": 20}, \"textposition\": \"middle center\", \"x\": [0.3], \"hoverinfo\": \"none\", \"textfont\": {\"color\": \"rgb(255, 255, 255)\"}, \"text\": [\"0\"]}, {\"y\": [1.0], \"mode\": \"markers+text\", \"marker\": {\"line\": {\"width\": 2, \"color\": \"rgb(0, 0, 0)\"}, \"color\": \"rgb(255, 255, 255)\", \"size\": 20}, \"textposition\": \"middle center\", \"x\": [0.7], \"hoverinfo\": \"none\", \"textfont\": {\"color\": \"rgb(0, 0, 0)\"}, \"text\": [\"\\u221e\"]}, {\"y\": [1.0], \"mode\": \"markers+text\", \"marker\": {\"line\": {\"width\": 2, \"color\": \"rgb(0, 0, 0)\"}, \"color\": \"rgb(255, 255, 255)\", \"size\": 20}, \"textposition\": \"middle center\", \"x\": [1.0], \"hoverinfo\": \"none\", \"textfont\": {\"color\": \"rgb(0, 0, 0)\"}, \"text\": [\"\\u221e\"]}, {\"y\": [0.0], \"mode\": \"markers+text\", \"marker\": {\"line\": {\"width\": 2, \"color\": \"rgb(0, 0, 0)\"}, \"color\": \"rgb(255, 255, 255)\", \"size\": 20}, \"textposition\": \"middle center\", \"x\": [0.0], \"hoverinfo\": \"none\", \"textfont\": {\"color\": \"rgb(0, 0, 0)\"}, \"text\": [\"\\u221e\"]}, {\"y\": [0.0], \"mode\": \"markers+text\", \"marker\": {\"line\": {\"width\": 2, \"color\": \"rgb(0, 0, 0)\"}, \"color\": \"rgb(255, 255, 255)\", \"size\": 20}, \"textposition\": \"middle center\", \"x\": [0.3], \"hoverinfo\": \"none\", \"textfont\": {\"color\": \"rgb(0, 0, 0)\"}, \"text\": [\"1\"]}, {\"y\": [0.0], \"mode\": \"markers+text\", \"marker\": {\"line\": {\"width\": 2, \"color\": \"rgb(0, 0, 0)\"}, \"color\": \"rgb(255, 255, 255)\", \"size\": 20}, \"textposition\": \"middle center\", \"x\": [0.7], \"hoverinfo\": \"none\", \"textfont\": {\"color\": \"rgb(0, 0, 0)\"}, \"text\": [\"\\u221e\"]}, {\"y\": [0.0], \"mode\": \"markers+text\", \"marker\": {\"line\": {\"width\": 2, \"color\": \"rgb(0, 0, 0)\"}, \"color\": \"rgb(255, 255, 255)\", \"size\": 20}, \"textposition\": \"middle center\", \"x\": [1.0], \"hoverinfo\": \"none\", \"textfont\": {\"color\": \"rgb(0, 0, 0)\"}, \"text\": [\"\\u221e\"]}], \"name\": 7}, {\"data\": [{\"y\": [1.0, 1.0, null], \"mode\": \"lines\", \"x\": [0.0, 0.3, null], \"line\": {\"width\": 2, \"color\": \"rgb(255, 0, 0)\"}, \"hoverinfo\": \"none\"}, {\"y\": [1.0, 0.0, null], \"mode\": \"lines\", \"x\": [0.0, 0.0, null], \"line\": {\"width\": 2, \"color\": \"rgb(0, 0, 0)\"}, \"hoverinfo\": \"none\"}, {\"y\": [1.0, 0.0, null], \"mode\": \"lines\", \"x\": [0.3, 0.3, null], \"line\": {\"width\": 2, \"color\": \"rgb(0, 0, 0)\"}, \"hoverinfo\": \"none\"}, {\"y\": [1.0, 1.0, null], \"mode\": \"lines\", \"x\": [0.7, 1.0, null], \"line\": {\"width\": 2, \"color\": \"rgb(0, 0, 0)\"}, \"hoverinfo\": \"none\"}, {\"y\": [1.0, 0.0, null], \"mode\": \"lines\", \"x\": [0.7, 0.3, null], \"line\": {\"width\": 2, \"color\": \"rgb(0, 0, 0)\"}, \"hoverinfo\": \"none\"}, {\"y\": [1.0, 0.0, null], \"mode\": \"lines\", \"x\": [0.7, 0.7, null], \"line\": {\"width\": 2, \"color\": \"rgb(0, 0, 0)\"}, \"hoverinfo\": \"none\"}, {\"y\": [1.0, 0.0, null], \"mode\": \"lines\", \"x\": [1.0, 0.7, null], \"line\": {\"width\": 2, \"color\": \"rgb(0, 0, 0)\"}, \"hoverinfo\": \"none\"}, {\"y\": [1.0, 0.0, null], \"mode\": \"lines\", \"x\": [1.0, 1.0, null], \"line\": {\"width\": 2, \"color\": \"rgb(0, 0, 0)\"}, \"hoverinfo\": \"none\"}, {\"y\": [0.0, 0.0, null], \"mode\": \"lines\", \"x\": [0.3, 0.7, null], \"line\": {\"width\": 2, \"color\": \"rgb(0, 0, 0)\"}, \"hoverinfo\": \"none\"}, {\"y\": [0.0, 0.0, null], \"mode\": \"lines\", \"x\": [0.7, 1.0, null], \"line\": {\"width\": 2, \"color\": \"rgb(0, 0, 0)\"}, \"hoverinfo\": \"none\"}, {\"y\": [1.0], \"mode\": \"markers+text\", \"marker\": {\"line\": {\"width\": 2, \"color\": \"rgb(0, 0, 0)\"}, \"color\": \"rgb(255, 0, 0)\", \"size\": 20}, \"textposition\": \"middle center\", \"x\": [0.0], \"hoverinfo\": \"none\", \"textfont\": {\"color\": \"rgb(255, 255, 255)\"}, \"text\": [\"1\"]}, {\"y\": [1.0], \"mode\": \"markers+text\", \"marker\": {\"line\": {\"width\": 2, \"color\": \"rgb(0, 0, 0)\"}, \"color\": \"rgb(0, 0, 255)\", \"size\": 20}, \"textposition\": \"middle center\", \"x\": [0.3], \"hoverinfo\": \"none\", \"textfont\": {\"color\": \"rgb(255, 255, 255)\"}, \"text\": [\"0\"]}, {\"y\": [1.0], \"mode\": \"markers+text\", \"marker\": {\"line\": {\"width\": 2, \"color\": \"rgb(0, 0, 0)\"}, \"color\": \"rgb(255, 255, 255)\", \"size\": 20}, \"textposition\": \"middle center\", \"x\": [0.7], \"hoverinfo\": \"none\", \"textfont\": {\"color\": \"rgb(0, 0, 0)\"}, \"text\": [\"\\u221e\"]}, {\"y\": [1.0], \"mode\": \"markers+text\", \"marker\": {\"line\": {\"width\": 2, \"color\": \"rgb(0, 0, 0)\"}, \"color\": \"rgb(255, 255, 255)\", \"size\": 20}, \"textposition\": \"middle center\", \"x\": [1.0], \"hoverinfo\": \"none\", \"textfont\": {\"color\": \"rgb(0, 0, 0)\"}, \"text\": [\"\\u221e\"]}, {\"y\": [0.0], \"mode\": \"markers+text\", \"marker\": {\"line\": {\"width\": 2, \"color\": \"rgb(0, 0, 0)\"}, \"color\": \"rgb(255, 255, 255)\", \"size\": 20}, \"textposition\": \"middle center\", \"x\": [0.0], \"hoverinfo\": \"none\", \"textfont\": {\"color\": \"rgb(0, 0, 0)\"}, \"text\": [\"\\u221e\"]}, {\"y\": [0.0], \"mode\": \"markers+text\", \"marker\": {\"line\": {\"width\": 2, \"color\": \"rgb(0, 0, 0)\"}, \"color\": \"rgb(255, 255, 255)\", \"size\": 20}, \"textposition\": \"middle center\", \"x\": [0.3], \"hoverinfo\": \"none\", \"textfont\": {\"color\": \"rgb(0, 0, 0)\"}, \"text\": [\"1\"]}, {\"y\": [0.0], \"mode\": \"markers+text\", \"marker\": {\"line\": {\"width\": 2, \"color\": \"rgb(0, 0, 0)\"}, \"color\": \"rgb(255, 255, 255)\", \"size\": 20}, \"textposition\": \"middle center\", \"x\": [0.7], \"hoverinfo\": \"none\", \"textfont\": {\"color\": \"rgb(0, 0, 0)\"}, \"text\": [\"\\u221e\"]}, {\"y\": [0.0], \"mode\": \"markers+text\", \"marker\": {\"line\": {\"width\": 2, \"color\": \"rgb(0, 0, 0)\"}, \"color\": \"rgb(255, 255, 255)\", \"size\": 20}, \"textposition\": \"middle center\", \"x\": [1.0], \"hoverinfo\": \"none\", \"textfont\": {\"color\": \"rgb(0, 0, 0)\"}, \"text\": [\"\\u221e\"]}], \"name\": 8}, {\"data\": [{\"y\": [1.0, 1.0, null], \"mode\": \"lines\", \"x\": [0.0, 0.3, null], \"line\": {\"width\": 2, \"color\": \"rgb(0, 0, 0)\"}, \"hoverinfo\": \"none\"}, {\"y\": [1.0, 0.0, null], \"mode\": \"lines\", \"x\": [0.0, 0.0, null], \"line\": {\"width\": 2, \"color\": \"rgb(0, 0, 0)\"}, \"hoverinfo\": \"none\"}, {\"y\": [1.0, 0.0, null], \"mode\": \"lines\", \"x\": [0.3, 0.3, null], \"line\": {\"width\": 2, \"color\": \"rgb(0, 0, 0)\"}, \"hoverinfo\": \"none\"}, {\"y\": [1.0, 1.0, null], \"mode\": \"lines\", \"x\": [0.7, 1.0, null], \"line\": {\"width\": 2, \"color\": \"rgb(0, 0, 0)\"}, \"hoverinfo\": \"none\"}, {\"y\": [1.0, 0.0, null], \"mode\": \"lines\", \"x\": [0.7, 0.3, null], \"line\": {\"width\": 2, \"color\": \"rgb(0, 0, 0)\"}, \"hoverinfo\": \"none\"}, {\"y\": [1.0, 0.0, null], \"mode\": \"lines\", \"x\": [0.7, 0.7, null], \"line\": {\"width\": 2, \"color\": \"rgb(0, 0, 0)\"}, \"hoverinfo\": \"none\"}, {\"y\": [1.0, 0.0, null], \"mode\": \"lines\", \"x\": [1.0, 0.7, null], \"line\": {\"width\": 2, \"color\": \"rgb(0, 0, 0)\"}, \"hoverinfo\": \"none\"}, {\"y\": [1.0, 0.0, null], \"mode\": \"lines\", \"x\": [1.0, 1.0, null], \"line\": {\"width\": 2, \"color\": \"rgb(0, 0, 0)\"}, \"hoverinfo\": \"none\"}, {\"y\": [0.0, 0.0, null], \"mode\": \"lines\", \"x\": [0.3, 0.7, null], \"line\": {\"width\": 2, \"color\": \"rgb(0, 0, 0)\"}, \"hoverinfo\": \"none\"}, {\"y\": [0.0, 0.0, null], \"mode\": \"lines\", \"x\": [0.7, 1.0, null], \"line\": {\"width\": 2, \"color\": \"rgb(0, 0, 0)\"}, \"hoverinfo\": \"none\"}, {\"y\": [1.0], \"mode\": \"markers+text\", \"marker\": {\"line\": {\"width\": 2, \"color\": \"rgb(0, 0, 0)\"}, \"color\": \"rgb(255, 0, 0)\", \"size\": 20}, \"textposition\": \"middle center\", \"x\": [0.0], \"hoverinfo\": \"none\", \"textfont\": {\"color\": \"rgb(255, 255, 255)\"}, \"text\": [\"1\"]}, {\"y\": [1.0], \"mode\": \"markers+text\", \"marker\": {\"line\": {\"width\": 2, \"color\": \"rgb(0, 0, 0)\"}, \"color\": \"rgb(0, 0, 255)\", \"size\": 20}, \"textposition\": \"middle center\", \"x\": [0.3], \"hoverinfo\": \"none\", \"textfont\": {\"color\": \"rgb(255, 255, 255)\"}, \"text\": [\"0\"]}, {\"y\": [1.0], \"mode\": \"markers+text\", \"marker\": {\"line\": {\"width\": 2, \"color\": \"rgb(0, 0, 0)\"}, \"color\": \"rgb(255, 255, 255)\", \"size\": 20}, \"textposition\": \"middle center\", \"x\": [0.7], \"hoverinfo\": \"none\", \"textfont\": {\"color\": \"rgb(0, 0, 0)\"}, \"text\": [\"\\u221e\"]}, {\"y\": [1.0], \"mode\": \"markers+text\", \"marker\": {\"line\": {\"width\": 2, \"color\": \"rgb(0, 0, 0)\"}, \"color\": \"rgb(255, 255, 255)\", \"size\": 20}, \"textposition\": \"middle center\", \"x\": [1.0], \"hoverinfo\": \"none\", \"textfont\": {\"color\": \"rgb(0, 0, 0)\"}, \"text\": [\"\\u221e\"]}, {\"y\": [0.0], \"mode\": \"markers+text\", \"marker\": {\"line\": {\"width\": 2, \"color\": \"rgb(0, 0, 0)\"}, \"color\": \"rgb(255, 255, 255)\", \"size\": 20}, \"textposition\": \"middle center\", \"x\": [0.0], \"hoverinfo\": \"none\", \"textfont\": {\"color\": \"rgb(0, 0, 0)\"}, \"text\": [\"\\u221e\"]}, {\"y\": [0.0], \"mode\": \"markers+text\", \"marker\": {\"line\": {\"width\": 2, \"color\": \"rgb(0, 0, 0)\"}, \"color\": \"rgb(255, 255, 255)\", \"size\": 20}, \"textposition\": \"middle center\", \"x\": [0.3], \"hoverinfo\": \"none\", \"textfont\": {\"color\": \"rgb(0, 0, 0)\"}, \"text\": [\"1\"]}, {\"y\": [0.0], \"mode\": \"markers+text\", \"marker\": {\"line\": {\"width\": 2, \"color\": \"rgb(0, 0, 0)\"}, \"color\": \"rgb(255, 255, 255)\", \"size\": 20}, \"textposition\": \"middle center\", \"x\": [0.7], \"hoverinfo\": \"none\", \"textfont\": {\"color\": \"rgb(0, 0, 0)\"}, \"text\": [\"\\u221e\"]}, {\"y\": [0.0], \"mode\": \"markers+text\", \"marker\": {\"line\": {\"width\": 2, \"color\": \"rgb(0, 0, 0)\"}, \"color\": \"rgb(255, 255, 255)\", \"size\": 20}, \"textposition\": \"middle center\", \"x\": [1.0], \"hoverinfo\": \"none\", \"textfont\": {\"color\": \"rgb(0, 0, 0)\"}, \"text\": [\"\\u221e\"]}], \"name\": 9}, {\"data\": [{\"y\": [1.0, 1.0, null], \"mode\": \"lines\", \"x\": [0.0, 0.3, null], \"line\": {\"width\": 2, \"color\": \"rgb(0, 0, 0)\"}, \"hoverinfo\": \"none\"}, {\"y\": [1.0, 0.0, null], \"mode\": \"lines\", \"x\": [0.0, 0.0, null], \"line\": {\"width\": 2, \"color\": \"rgb(255, 0, 0)\"}, \"hoverinfo\": \"none\"}, {\"y\": [1.0, 0.0, null], \"mode\": \"lines\", \"x\": [0.3, 0.3, null], \"line\": {\"width\": 2, \"color\": \"rgb(0, 0, 0)\"}, \"hoverinfo\": \"none\"}, {\"y\": [1.0, 1.0, null], \"mode\": \"lines\", \"x\": [0.7, 1.0, null], \"line\": {\"width\": 2, \"color\": \"rgb(0, 0, 0)\"}, \"hoverinfo\": \"none\"}, {\"y\": [1.0, 0.0, null], \"mode\": \"lines\", \"x\": [0.7, 0.3, null], \"line\": {\"width\": 2, \"color\": \"rgb(0, 0, 0)\"}, \"hoverinfo\": \"none\"}, {\"y\": [1.0, 0.0, null], \"mode\": \"lines\", \"x\": [0.7, 0.7, null], \"line\": {\"width\": 2, \"color\": \"rgb(0, 0, 0)\"}, \"hoverinfo\": \"none\"}, {\"y\": [1.0, 0.0, null], \"mode\": \"lines\", \"x\": [1.0, 0.7, null], \"line\": {\"width\": 2, \"color\": \"rgb(0, 0, 0)\"}, \"hoverinfo\": \"none\"}, {\"y\": [1.0, 0.0, null], \"mode\": \"lines\", \"x\": [1.0, 1.0, null], \"line\": {\"width\": 2, \"color\": \"rgb(0, 0, 0)\"}, \"hoverinfo\": \"none\"}, {\"y\": [0.0, 0.0, null], \"mode\": \"lines\", \"x\": [0.3, 0.7, null], \"line\": {\"width\": 2, \"color\": \"rgb(0, 0, 0)\"}, \"hoverinfo\": \"none\"}, {\"y\": [0.0, 0.0, null], \"mode\": \"lines\", \"x\": [0.7, 1.0, null], \"line\": {\"width\": 2, \"color\": \"rgb(0, 0, 0)\"}, \"hoverinfo\": \"none\"}, {\"y\": [1.0], \"mode\": \"markers+text\", \"marker\": {\"line\": {\"width\": 2, \"color\": \"rgb(0, 0, 0)\"}, \"color\": \"rgb(255, 0, 0)\", \"size\": 20}, \"textposition\": \"middle center\", \"x\": [0.0], \"hoverinfo\": \"none\", \"textfont\": {\"color\": \"rgb(255, 255, 255)\"}, \"text\": [\"1\"]}, {\"y\": [1.0], \"mode\": \"markers+text\", \"marker\": {\"line\": {\"width\": 2, \"color\": \"rgb(0, 0, 0)\"}, \"color\": \"rgb(0, 0, 255)\", \"size\": 20}, \"textposition\": \"middle center\", \"x\": [0.3], \"hoverinfo\": \"none\", \"textfont\": {\"color\": \"rgb(255, 255, 255)\"}, \"text\": [\"0\"]}, {\"y\": [1.0], \"mode\": \"markers+text\", \"marker\": {\"line\": {\"width\": 2, \"color\": \"rgb(0, 0, 0)\"}, \"color\": \"rgb(255, 255, 255)\", \"size\": 20}, \"textposition\": \"middle center\", \"x\": [0.7], \"hoverinfo\": \"none\", \"textfont\": {\"color\": \"rgb(0, 0, 0)\"}, \"text\": [\"\\u221e\"]}, {\"y\": [1.0], \"mode\": \"markers+text\", \"marker\": {\"line\": {\"width\": 2, \"color\": \"rgb(0, 0, 0)\"}, \"color\": \"rgb(255, 255, 255)\", \"size\": 20}, \"textposition\": \"middle center\", \"x\": [1.0], \"hoverinfo\": \"none\", \"textfont\": {\"color\": \"rgb(0, 0, 0)\"}, \"text\": [\"\\u221e\"]}, {\"y\": [0.0], \"mode\": \"markers+text\", \"marker\": {\"line\": {\"width\": 2, \"color\": \"rgb(0, 0, 0)\"}, \"color\": \"rgb(255, 255, 255)\", \"size\": 20}, \"textposition\": \"middle center\", \"x\": [0.0], \"hoverinfo\": \"none\", \"textfont\": {\"color\": \"rgb(0, 0, 0)\"}, \"text\": [\"\\u221e\"]}, {\"y\": [0.0], \"mode\": \"markers+text\", \"marker\": {\"line\": {\"width\": 2, \"color\": \"rgb(0, 0, 0)\"}, \"color\": \"rgb(255, 255, 255)\", \"size\": 20}, \"textposition\": \"middle center\", \"x\": [0.3], \"hoverinfo\": \"none\", \"textfont\": {\"color\": \"rgb(0, 0, 0)\"}, \"text\": [\"1\"]}, {\"y\": [0.0], \"mode\": \"markers+text\", \"marker\": {\"line\": {\"width\": 2, \"color\": \"rgb(0, 0, 0)\"}, \"color\": \"rgb(255, 255, 255)\", \"size\": 20}, \"textposition\": \"middle center\", \"x\": [0.7], \"hoverinfo\": \"none\", \"textfont\": {\"color\": \"rgb(0, 0, 0)\"}, \"text\": [\"\\u221e\"]}, {\"y\": [0.0], \"mode\": \"markers+text\", \"marker\": {\"line\": {\"width\": 2, \"color\": \"rgb(0, 0, 0)\"}, \"color\": \"rgb(255, 255, 255)\", \"size\": 20}, \"textposition\": \"middle center\", \"x\": [1.0], \"hoverinfo\": \"none\", \"textfont\": {\"color\": \"rgb(0, 0, 0)\"}, \"text\": [\"\\u221e\"]}], \"name\": 10}, {\"data\": [{\"y\": [1.0, 1.0, null], \"mode\": \"lines\", \"x\": [0.0, 0.3, null], \"line\": {\"width\": 2, \"color\": \"rgb(0, 0, 0)\"}, \"hoverinfo\": \"none\"}, {\"y\": [1.0, 0.0, null], \"mode\": \"lines\", \"x\": [0.0, 0.0, null], \"line\": {\"width\": 2, \"color\": \"rgb(0, 0, 0)\"}, \"hoverinfo\": \"none\"}, {\"y\": [1.0, 0.0, null], \"mode\": \"lines\", \"x\": [0.3, 0.3, null], \"line\": {\"width\": 2, \"color\": \"rgb(0, 0, 0)\"}, \"hoverinfo\": \"none\"}, {\"y\": [1.0, 1.0, null], \"mode\": \"lines\", \"x\": [0.7, 1.0, null], \"line\": {\"width\": 2, \"color\": \"rgb(0, 0, 0)\"}, \"hoverinfo\": \"none\"}, {\"y\": [1.0, 0.0, null], \"mode\": \"lines\", \"x\": [0.7, 0.3, null], \"line\": {\"width\": 2, \"color\": \"rgb(0, 0, 0)\"}, \"hoverinfo\": \"none\"}, {\"y\": [1.0, 0.0, null], \"mode\": \"lines\", \"x\": [0.7, 0.7, null], \"line\": {\"width\": 2, \"color\": \"rgb(0, 0, 0)\"}, \"hoverinfo\": \"none\"}, {\"y\": [1.0, 0.0, null], \"mode\": \"lines\", \"x\": [1.0, 0.7, null], \"line\": {\"width\": 2, \"color\": \"rgb(0, 0, 0)\"}, \"hoverinfo\": \"none\"}, {\"y\": [1.0, 0.0, null], \"mode\": \"lines\", \"x\": [1.0, 1.0, null], \"line\": {\"width\": 2, \"color\": \"rgb(0, 0, 0)\"}, \"hoverinfo\": \"none\"}, {\"y\": [0.0, 0.0, null], \"mode\": \"lines\", \"x\": [0.3, 0.7, null], \"line\": {\"width\": 2, \"color\": \"rgb(0, 0, 0)\"}, \"hoverinfo\": \"none\"}, {\"y\": [0.0, 0.0, null], \"mode\": \"lines\", \"x\": [0.7, 1.0, null], \"line\": {\"width\": 2, \"color\": \"rgb(0, 0, 0)\"}, \"hoverinfo\": \"none\"}, {\"y\": [1.0], \"mode\": \"markers+text\", \"marker\": {\"line\": {\"width\": 2, \"color\": \"rgb(0, 0, 0)\"}, \"color\": \"rgb(255, 0, 0)\", \"size\": 20}, \"textposition\": \"middle center\", \"x\": [0.0], \"hoverinfo\": \"none\", \"textfont\": {\"color\": \"rgb(255, 255, 255)\"}, \"text\": [\"1\"]}, {\"y\": [1.0], \"mode\": \"markers+text\", \"marker\": {\"line\": {\"width\": 2, \"color\": \"rgb(0, 0, 0)\"}, \"color\": \"rgb(0, 0, 255)\", \"size\": 20}, \"textposition\": \"middle center\", \"x\": [0.3], \"hoverinfo\": \"none\", \"textfont\": {\"color\": \"rgb(255, 255, 255)\"}, \"text\": [\"0\"]}, {\"y\": [1.0], \"mode\": \"markers+text\", \"marker\": {\"line\": {\"width\": 2, \"color\": \"rgb(0, 0, 0)\"}, \"color\": \"rgb(255, 255, 255)\", \"size\": 20}, \"textposition\": \"middle center\", \"x\": [0.7], \"hoverinfo\": \"none\", \"textfont\": {\"color\": \"rgb(0, 0, 0)\"}, \"text\": [\"\\u221e\"]}, {\"y\": [1.0], \"mode\": \"markers+text\", \"marker\": {\"line\": {\"width\": 2, \"color\": \"rgb(0, 0, 0)\"}, \"color\": \"rgb(255, 255, 255)\", \"size\": 20}, \"textposition\": \"middle center\", \"x\": [1.0], \"hoverinfo\": \"none\", \"textfont\": {\"color\": \"rgb(0, 0, 0)\"}, \"text\": [\"\\u221e\"]}, {\"y\": [0.0], \"mode\": \"markers+text\", \"marker\": {\"line\": {\"width\": 2, \"color\": \"rgb(0, 0, 0)\"}, \"color\": \"rgb(255, 255, 255)\", \"size\": 20}, \"textposition\": \"middle center\", \"x\": [0.0], \"hoverinfo\": \"none\", \"textfont\": {\"color\": \"rgb(0, 0, 0)\"}, \"text\": [\"2\"]}, {\"y\": [0.0], \"mode\": \"markers+text\", \"marker\": {\"line\": {\"width\": 2, \"color\": \"rgb(0, 0, 0)\"}, \"color\": \"rgb(255, 255, 255)\", \"size\": 20}, \"textposition\": \"middle center\", \"x\": [0.3], \"hoverinfo\": \"none\", \"textfont\": {\"color\": \"rgb(0, 0, 0)\"}, \"text\": [\"1\"]}, {\"y\": [0.0], \"mode\": \"markers+text\", \"marker\": {\"line\": {\"width\": 2, \"color\": \"rgb(0, 0, 0)\"}, \"color\": \"rgb(255, 255, 255)\", \"size\": 20}, \"textposition\": \"middle center\", \"x\": [0.7], \"hoverinfo\": \"none\", \"textfont\": {\"color\": \"rgb(0, 0, 0)\"}, \"text\": [\"\\u221e\"]}, {\"y\": [0.0], \"mode\": \"markers+text\", \"marker\": {\"line\": {\"width\": 2, \"color\": \"rgb(0, 0, 0)\"}, \"color\": \"rgb(255, 255, 255)\", \"size\": 20}, \"textposition\": \"middle center\", \"x\": [1.0], \"hoverinfo\": \"none\", \"textfont\": {\"color\": \"rgb(0, 0, 0)\"}, \"text\": [\"\\u221e\"]}], \"name\": 11}, {\"data\": [{\"y\": [1.0, 1.0, null], \"mode\": \"lines\", \"x\": [0.0, 0.3, null], \"line\": {\"width\": 2, \"color\": \"rgb(0, 0, 0)\"}, \"hoverinfo\": \"none\"}, {\"y\": [1.0, 0.0, null], \"mode\": \"lines\", \"x\": [0.0, 0.0, null], \"line\": {\"width\": 2, \"color\": \"rgb(0, 0, 0)\"}, \"hoverinfo\": \"none\"}, {\"y\": [1.0, 0.0, null], \"mode\": \"lines\", \"x\": [0.3, 0.3, null], \"line\": {\"width\": 2, \"color\": \"rgb(0, 0, 0)\"}, \"hoverinfo\": \"none\"}, {\"y\": [1.0, 1.0, null], \"mode\": \"lines\", \"x\": [0.7, 1.0, null], \"line\": {\"width\": 2, \"color\": \"rgb(0, 0, 0)\"}, \"hoverinfo\": \"none\"}, {\"y\": [1.0, 0.0, null], \"mode\": \"lines\", \"x\": [0.7, 0.3, null], \"line\": {\"width\": 2, \"color\": \"rgb(0, 0, 0)\"}, \"hoverinfo\": \"none\"}, {\"y\": [1.0, 0.0, null], \"mode\": \"lines\", \"x\": [0.7, 0.7, null], \"line\": {\"width\": 2, \"color\": \"rgb(0, 0, 0)\"}, \"hoverinfo\": \"none\"}, {\"y\": [1.0, 0.0, null], \"mode\": \"lines\", \"x\": [1.0, 0.7, null], \"line\": {\"width\": 2, \"color\": \"rgb(0, 0, 0)\"}, \"hoverinfo\": \"none\"}, {\"y\": [1.0, 0.0, null], \"mode\": \"lines\", \"x\": [1.0, 1.0, null], \"line\": {\"width\": 2, \"color\": \"rgb(0, 0, 0)\"}, \"hoverinfo\": \"none\"}, {\"y\": [0.0, 0.0, null], \"mode\": \"lines\", \"x\": [0.3, 0.7, null], \"line\": {\"width\": 2, \"color\": \"rgb(0, 0, 0)\"}, \"hoverinfo\": \"none\"}, {\"y\": [0.0, 0.0, null], \"mode\": \"lines\", \"x\": [0.7, 1.0, null], \"line\": {\"width\": 2, \"color\": \"rgb(0, 0, 0)\"}, \"hoverinfo\": \"none\"}, {\"y\": [1.0], \"mode\": \"markers+text\", \"marker\": {\"line\": {\"width\": 2, \"color\": \"rgb(0, 0, 0)\"}, \"color\": \"rgb(0, 0, 255)\", \"size\": 20}, \"textposition\": \"middle center\", \"x\": [0.0], \"hoverinfo\": \"none\", \"textfont\": {\"color\": \"rgb(255, 255, 255)\"}, \"text\": [\"1\"]}, {\"y\": [1.0], \"mode\": \"markers+text\", \"marker\": {\"line\": {\"width\": 2, \"color\": \"rgb(0, 0, 0)\"}, \"color\": \"rgb(0, 0, 255)\", \"size\": 20}, \"textposition\": \"middle center\", \"x\": [0.3], \"hoverinfo\": \"none\", \"textfont\": {\"color\": \"rgb(255, 255, 255)\"}, \"text\": [\"0\"]}, {\"y\": [1.0], \"mode\": \"markers+text\", \"marker\": {\"line\": {\"width\": 2, \"color\": \"rgb(0, 0, 0)\"}, \"color\": \"rgb(255, 255, 255)\", \"size\": 20}, \"textposition\": \"middle center\", \"x\": [0.7], \"hoverinfo\": \"none\", \"textfont\": {\"color\": \"rgb(0, 0, 0)\"}, \"text\": [\"\\u221e\"]}, {\"y\": [1.0], \"mode\": \"markers+text\", \"marker\": {\"line\": {\"width\": 2, \"color\": \"rgb(0, 0, 0)\"}, \"color\": \"rgb(255, 255, 255)\", \"size\": 20}, \"textposition\": \"middle center\", \"x\": [1.0], \"hoverinfo\": \"none\", \"textfont\": {\"color\": \"rgb(0, 0, 0)\"}, \"text\": [\"\\u221e\"]}, {\"y\": [0.0], \"mode\": \"markers+text\", \"marker\": {\"line\": {\"width\": 2, \"color\": \"rgb(0, 0, 0)\"}, \"color\": \"rgb(255, 255, 255)\", \"size\": 20}, \"textposition\": \"middle center\", \"x\": [0.0], \"hoverinfo\": \"none\", \"textfont\": {\"color\": \"rgb(0, 0, 0)\"}, \"text\": [\"2\"]}, {\"y\": [0.0], \"mode\": \"markers+text\", \"marker\": {\"line\": {\"width\": 2, \"color\": \"rgb(0, 0, 0)\"}, \"color\": \"rgb(255, 255, 255)\", \"size\": 20}, \"textposition\": \"middle center\", \"x\": [0.3], \"hoverinfo\": \"none\", \"textfont\": {\"color\": \"rgb(0, 0, 0)\"}, \"text\": [\"1\"]}, {\"y\": [0.0], \"mode\": \"markers+text\", \"marker\": {\"line\": {\"width\": 2, \"color\": \"rgb(0, 0, 0)\"}, \"color\": \"rgb(255, 255, 255)\", \"size\": 20}, \"textposition\": \"middle center\", \"x\": [0.7], \"hoverinfo\": \"none\", \"textfont\": {\"color\": \"rgb(0, 0, 0)\"}, \"text\": [\"\\u221e\"]}, {\"y\": [0.0], \"mode\": \"markers+text\", \"marker\": {\"line\": {\"width\": 2, \"color\": \"rgb(0, 0, 0)\"}, \"color\": \"rgb(255, 255, 255)\", \"size\": 20}, \"textposition\": \"middle center\", \"x\": [1.0], \"hoverinfo\": \"none\", \"textfont\": {\"color\": \"rgb(0, 0, 0)\"}, \"text\": [\"\\u221e\"]}], \"name\": 12}, {\"data\": [{\"y\": [1.0, 1.0, null], \"mode\": \"lines\", \"x\": [0.0, 0.3, null], \"line\": {\"width\": 2, \"color\": \"rgb(0, 0, 0)\"}, \"hoverinfo\": \"none\"}, {\"y\": [1.0, 0.0, null], \"mode\": \"lines\", \"x\": [0.0, 0.0, null], \"line\": {\"width\": 2, \"color\": \"rgb(0, 0, 0)\"}, \"hoverinfo\": \"none\"}, {\"y\": [1.0, 0.0, null], \"mode\": \"lines\", \"x\": [0.3, 0.3, null], \"line\": {\"width\": 2, \"color\": \"rgb(0, 0, 0)\"}, \"hoverinfo\": \"none\"}, {\"y\": [1.0, 1.0, null], \"mode\": \"lines\", \"x\": [0.7, 1.0, null], \"line\": {\"width\": 2, \"color\": \"rgb(0, 0, 0)\"}, \"hoverinfo\": \"none\"}, {\"y\": [1.0, 0.0, null], \"mode\": \"lines\", \"x\": [0.7, 0.3, null], \"line\": {\"width\": 2, \"color\": \"rgb(0, 0, 0)\"}, \"hoverinfo\": \"none\"}, {\"y\": [1.0, 0.0, null], \"mode\": \"lines\", \"x\": [0.7, 0.7, null], \"line\": {\"width\": 2, \"color\": \"rgb(0, 0, 0)\"}, \"hoverinfo\": \"none\"}, {\"y\": [1.0, 0.0, null], \"mode\": \"lines\", \"x\": [1.0, 0.7, null], \"line\": {\"width\": 2, \"color\": \"rgb(0, 0, 0)\"}, \"hoverinfo\": \"none\"}, {\"y\": [1.0, 0.0, null], \"mode\": \"lines\", \"x\": [1.0, 1.0, null], \"line\": {\"width\": 2, \"color\": \"rgb(0, 0, 0)\"}, \"hoverinfo\": \"none\"}, {\"y\": [0.0, 0.0, null], \"mode\": \"lines\", \"x\": [0.3, 0.7, null], \"line\": {\"width\": 2, \"color\": \"rgb(0, 0, 0)\"}, \"hoverinfo\": \"none\"}, {\"y\": [0.0, 0.0, null], \"mode\": \"lines\", \"x\": [0.7, 1.0, null], \"line\": {\"width\": 2, \"color\": \"rgb(0, 0, 0)\"}, \"hoverinfo\": \"none\"}, {\"y\": [1.0], \"mode\": \"markers+text\", \"marker\": {\"line\": {\"width\": 2, \"color\": \"rgb(0, 0, 0)\"}, \"color\": \"rgb(0, 0, 255)\", \"size\": 20}, \"textposition\": \"middle center\", \"x\": [0.0], \"hoverinfo\": \"none\", \"textfont\": {\"color\": \"rgb(255, 255, 255)\"}, \"text\": [\"1\"]}, {\"y\": [1.0], \"mode\": \"markers+text\", \"marker\": {\"line\": {\"width\": 2, \"color\": \"rgb(0, 0, 0)\"}, \"color\": \"rgb(0, 0, 255)\", \"size\": 20}, \"textposition\": \"middle center\", \"x\": [0.3], \"hoverinfo\": \"none\", \"textfont\": {\"color\": \"rgb(255, 255, 255)\"}, \"text\": [\"0\"]}, {\"y\": [1.0], \"mode\": \"markers+text\", \"marker\": {\"line\": {\"width\": 2, \"color\": \"rgb(0, 0, 0)\"}, \"color\": \"rgb(255, 255, 255)\", \"size\": 20}, \"textposition\": \"middle center\", \"x\": [0.7], \"hoverinfo\": \"none\", \"textfont\": {\"color\": \"rgb(0, 0, 0)\"}, \"text\": [\"\\u221e\"]}, {\"y\": [1.0], \"mode\": \"markers+text\", \"marker\": {\"line\": {\"width\": 2, \"color\": \"rgb(0, 0, 0)\"}, \"color\": \"rgb(255, 255, 255)\", \"size\": 20}, \"textposition\": \"middle center\", \"x\": [1.0], \"hoverinfo\": \"none\", \"textfont\": {\"color\": \"rgb(0, 0, 0)\"}, \"text\": [\"\\u221e\"]}, {\"y\": [0.0], \"mode\": \"markers+text\", \"marker\": {\"line\": {\"width\": 2, \"color\": \"rgb(0, 0, 0)\"}, \"color\": \"rgb(255, 255, 255)\", \"size\": 20}, \"textposition\": \"middle center\", \"x\": [0.0], \"hoverinfo\": \"none\", \"textfont\": {\"color\": \"rgb(0, 0, 0)\"}, \"text\": [\"2\"]}, {\"y\": [0.0], \"mode\": \"markers+text\", \"marker\": {\"line\": {\"width\": 2, \"color\": \"rgb(0, 0, 0)\"}, \"color\": \"rgb(255, 0, 0)\", \"size\": 20}, \"textposition\": \"middle center\", \"x\": [0.3], \"hoverinfo\": \"none\", \"textfont\": {\"color\": \"rgb(255, 255, 255)\"}, \"text\": [\"1\"]}, {\"y\": [0.0], \"mode\": \"markers+text\", \"marker\": {\"line\": {\"width\": 2, \"color\": \"rgb(0, 0, 0)\"}, \"color\": \"rgb(255, 255, 255)\", \"size\": 20}, \"textposition\": \"middle center\", \"x\": [0.7], \"hoverinfo\": \"none\", \"textfont\": {\"color\": \"rgb(0, 0, 0)\"}, \"text\": [\"\\u221e\"]}, {\"y\": [0.0], \"mode\": \"markers+text\", \"marker\": {\"line\": {\"width\": 2, \"color\": \"rgb(0, 0, 0)\"}, \"color\": \"rgb(255, 255, 255)\", \"size\": 20}, \"textposition\": \"middle center\", \"x\": [1.0], \"hoverinfo\": \"none\", \"textfont\": {\"color\": \"rgb(0, 0, 0)\"}, \"text\": [\"\\u221e\"]}], \"name\": 13}, {\"data\": [{\"y\": [1.0, 1.0, null], \"mode\": \"lines\", \"x\": [0.0, 0.3, null], \"line\": {\"width\": 2, \"color\": \"rgb(0, 0, 0)\"}, \"hoverinfo\": \"none\"}, {\"y\": [1.0, 0.0, null], \"mode\": \"lines\", \"x\": [0.0, 0.0, null], \"line\": {\"width\": 2, \"color\": \"rgb(0, 0, 0)\"}, \"hoverinfo\": \"none\"}, {\"y\": [1.0, 0.0, null], \"mode\": \"lines\", \"x\": [0.3, 0.3, null], \"line\": {\"width\": 2, \"color\": \"rgb(255, 0, 0)\"}, \"hoverinfo\": \"none\"}, {\"y\": [1.0, 1.0, null], \"mode\": \"lines\", \"x\": [0.7, 1.0, null], \"line\": {\"width\": 2, \"color\": \"rgb(0, 0, 0)\"}, \"hoverinfo\": \"none\"}, {\"y\": [1.0, 0.0, null], \"mode\": \"lines\", \"x\": [0.7, 0.3, null], \"line\": {\"width\": 2, \"color\": \"rgb(0, 0, 0)\"}, \"hoverinfo\": \"none\"}, {\"y\": [1.0, 0.0, null], \"mode\": \"lines\", \"x\": [0.7, 0.7, null], \"line\": {\"width\": 2, \"color\": \"rgb(0, 0, 0)\"}, \"hoverinfo\": \"none\"}, {\"y\": [1.0, 0.0, null], \"mode\": \"lines\", \"x\": [1.0, 0.7, null], \"line\": {\"width\": 2, \"color\": \"rgb(0, 0, 0)\"}, \"hoverinfo\": \"none\"}, {\"y\": [1.0, 0.0, null], \"mode\": \"lines\", \"x\": [1.0, 1.0, null], \"line\": {\"width\": 2, \"color\": \"rgb(0, 0, 0)\"}, \"hoverinfo\": \"none\"}, {\"y\": [0.0, 0.0, null], \"mode\": \"lines\", \"x\": [0.3, 0.7, null], \"line\": {\"width\": 2, \"color\": \"rgb(0, 0, 0)\"}, \"hoverinfo\": \"none\"}, {\"y\": [0.0, 0.0, null], \"mode\": \"lines\", \"x\": [0.7, 1.0, null], \"line\": {\"width\": 2, \"color\": \"rgb(0, 0, 0)\"}, \"hoverinfo\": \"none\"}, {\"y\": [1.0], \"mode\": \"markers+text\", \"marker\": {\"line\": {\"width\": 2, \"color\": \"rgb(0, 0, 0)\"}, \"color\": \"rgb(0, 0, 255)\", \"size\": 20}, \"textposition\": \"middle center\", \"x\": [0.0], \"hoverinfo\": \"none\", \"textfont\": {\"color\": \"rgb(255, 255, 255)\"}, \"text\": [\"1\"]}, {\"y\": [1.0], \"mode\": \"markers+text\", \"marker\": {\"line\": {\"width\": 2, \"color\": \"rgb(0, 0, 0)\"}, \"color\": \"rgb(0, 0, 255)\", \"size\": 20}, \"textposition\": \"middle center\", \"x\": [0.3], \"hoverinfo\": \"none\", \"textfont\": {\"color\": \"rgb(255, 255, 255)\"}, \"text\": [\"0\"]}, {\"y\": [1.0], \"mode\": \"markers+text\", \"marker\": {\"line\": {\"width\": 2, \"color\": \"rgb(0, 0, 0)\"}, \"color\": \"rgb(255, 255, 255)\", \"size\": 20}, \"textposition\": \"middle center\", \"x\": [0.7], \"hoverinfo\": \"none\", \"textfont\": {\"color\": \"rgb(0, 0, 0)\"}, \"text\": [\"\\u221e\"]}, {\"y\": [1.0], \"mode\": \"markers+text\", \"marker\": {\"line\": {\"width\": 2, \"color\": \"rgb(0, 0, 0)\"}, \"color\": \"rgb(255, 255, 255)\", \"size\": 20}, \"textposition\": \"middle center\", \"x\": [1.0], \"hoverinfo\": \"none\", \"textfont\": {\"color\": \"rgb(0, 0, 0)\"}, \"text\": [\"\\u221e\"]}, {\"y\": [0.0], \"mode\": \"markers+text\", \"marker\": {\"line\": {\"width\": 2, \"color\": \"rgb(0, 0, 0)\"}, \"color\": \"rgb(255, 255, 255)\", \"size\": 20}, \"textposition\": \"middle center\", \"x\": [0.0], \"hoverinfo\": \"none\", \"textfont\": {\"color\": \"rgb(0, 0, 0)\"}, \"text\": [\"2\"]}, {\"y\": [0.0], \"mode\": \"markers+text\", \"marker\": {\"line\": {\"width\": 2, \"color\": \"rgb(0, 0, 0)\"}, \"color\": \"rgb(255, 0, 0)\", \"size\": 20}, \"textposition\": \"middle center\", \"x\": [0.3], \"hoverinfo\": \"none\", \"textfont\": {\"color\": \"rgb(255, 255, 255)\"}, \"text\": [\"1\"]}, {\"y\": [0.0], \"mode\": \"markers+text\", \"marker\": {\"line\": {\"width\": 2, \"color\": \"rgb(0, 0, 0)\"}, \"color\": \"rgb(255, 255, 255)\", \"size\": 20}, \"textposition\": \"middle center\", \"x\": [0.7], \"hoverinfo\": \"none\", \"textfont\": {\"color\": \"rgb(0, 0, 0)\"}, \"text\": [\"\\u221e\"]}, {\"y\": [0.0], \"mode\": \"markers+text\", \"marker\": {\"line\": {\"width\": 2, \"color\": \"rgb(0, 0, 0)\"}, \"color\": \"rgb(255, 255, 255)\", \"size\": 20}, \"textposition\": \"middle center\", \"x\": [1.0], \"hoverinfo\": \"none\", \"textfont\": {\"color\": \"rgb(0, 0, 0)\"}, \"text\": [\"\\u221e\"]}], \"name\": 14}, {\"data\": [{\"y\": [1.0, 1.0, null], \"mode\": \"lines\", \"x\": [0.0, 0.3, null], \"line\": {\"width\": 2, \"color\": \"rgb(0, 0, 0)\"}, \"hoverinfo\": \"none\"}, {\"y\": [1.0, 0.0, null], \"mode\": \"lines\", \"x\": [0.0, 0.0, null], \"line\": {\"width\": 2, \"color\": \"rgb(0, 0, 0)\"}, \"hoverinfo\": \"none\"}, {\"y\": [1.0, 0.0, null], \"mode\": \"lines\", \"x\": [0.3, 0.3, null], \"line\": {\"width\": 2, \"color\": \"rgb(0, 0, 0)\"}, \"hoverinfo\": \"none\"}, {\"y\": [1.0, 1.0, null], \"mode\": \"lines\", \"x\": [0.7, 1.0, null], \"line\": {\"width\": 2, \"color\": \"rgb(0, 0, 0)\"}, \"hoverinfo\": \"none\"}, {\"y\": [1.0, 0.0, null], \"mode\": \"lines\", \"x\": [0.7, 0.3, null], \"line\": {\"width\": 2, \"color\": \"rgb(0, 0, 0)\"}, \"hoverinfo\": \"none\"}, {\"y\": [1.0, 0.0, null], \"mode\": \"lines\", \"x\": [0.7, 0.7, null], \"line\": {\"width\": 2, \"color\": \"rgb(0, 0, 0)\"}, \"hoverinfo\": \"none\"}, {\"y\": [1.0, 0.0, null], \"mode\": \"lines\", \"x\": [1.0, 0.7, null], \"line\": {\"width\": 2, \"color\": \"rgb(0, 0, 0)\"}, \"hoverinfo\": \"none\"}, {\"y\": [1.0, 0.0, null], \"mode\": \"lines\", \"x\": [1.0, 1.0, null], \"line\": {\"width\": 2, \"color\": \"rgb(0, 0, 0)\"}, \"hoverinfo\": \"none\"}, {\"y\": [0.0, 0.0, null], \"mode\": \"lines\", \"x\": [0.3, 0.7, null], \"line\": {\"width\": 2, \"color\": \"rgb(0, 0, 0)\"}, \"hoverinfo\": \"none\"}, {\"y\": [0.0, 0.0, null], \"mode\": \"lines\", \"x\": [0.7, 1.0, null], \"line\": {\"width\": 2, \"color\": \"rgb(0, 0, 0)\"}, \"hoverinfo\": \"none\"}, {\"y\": [1.0], \"mode\": \"markers+text\", \"marker\": {\"line\": {\"width\": 2, \"color\": \"rgb(0, 0, 0)\"}, \"color\": \"rgb(0, 0, 255)\", \"size\": 20}, \"textposition\": \"middle center\", \"x\": [0.0], \"hoverinfo\": \"none\", \"textfont\": {\"color\": \"rgb(255, 255, 255)\"}, \"text\": [\"1\"]}, {\"y\": [1.0], \"mode\": \"markers+text\", \"marker\": {\"line\": {\"width\": 2, \"color\": \"rgb(0, 0, 0)\"}, \"color\": \"rgb(0, 0, 255)\", \"size\": 20}, \"textposition\": \"middle center\", \"x\": [0.3], \"hoverinfo\": \"none\", \"textfont\": {\"color\": \"rgb(255, 255, 255)\"}, \"text\": [\"0\"]}, {\"y\": [1.0], \"mode\": \"markers+text\", \"marker\": {\"line\": {\"width\": 2, \"color\": \"rgb(0, 0, 0)\"}, \"color\": \"rgb(255, 255, 255)\", \"size\": 20}, \"textposition\": \"middle center\", \"x\": [0.7], \"hoverinfo\": \"none\", \"textfont\": {\"color\": \"rgb(0, 0, 0)\"}, \"text\": [\"\\u221e\"]}, {\"y\": [1.0], \"mode\": \"markers+text\", \"marker\": {\"line\": {\"width\": 2, \"color\": \"rgb(0, 0, 0)\"}, \"color\": \"rgb(255, 255, 255)\", \"size\": 20}, \"textposition\": \"middle center\", \"x\": [1.0], \"hoverinfo\": \"none\", \"textfont\": {\"color\": \"rgb(0, 0, 0)\"}, \"text\": [\"\\u221e\"]}, {\"y\": [0.0], \"mode\": \"markers+text\", \"marker\": {\"line\": {\"width\": 2, \"color\": \"rgb(0, 0, 0)\"}, \"color\": \"rgb(255, 255, 255)\", \"size\": 20}, \"textposition\": \"middle center\", \"x\": [0.0], \"hoverinfo\": \"none\", \"textfont\": {\"color\": \"rgb(0, 0, 0)\"}, \"text\": [\"2\"]}, {\"y\": [0.0], \"mode\": \"markers+text\", \"marker\": {\"line\": {\"width\": 2, \"color\": \"rgb(0, 0, 0)\"}, \"color\": \"rgb(255, 0, 0)\", \"size\": 20}, \"textposition\": \"middle center\", \"x\": [0.3], \"hoverinfo\": \"none\", \"textfont\": {\"color\": \"rgb(255, 255, 255)\"}, \"text\": [\"1\"]}, {\"y\": [0.0], \"mode\": \"markers+text\", \"marker\": {\"line\": {\"width\": 2, \"color\": \"rgb(0, 0, 0)\"}, \"color\": \"rgb(255, 255, 255)\", \"size\": 20}, \"textposition\": \"middle center\", \"x\": [0.7], \"hoverinfo\": \"none\", \"textfont\": {\"color\": \"rgb(0, 0, 0)\"}, \"text\": [\"\\u221e\"]}, {\"y\": [0.0], \"mode\": \"markers+text\", \"marker\": {\"line\": {\"width\": 2, \"color\": \"rgb(0, 0, 0)\"}, \"color\": \"rgb(255, 255, 255)\", \"size\": 20}, \"textposition\": \"middle center\", \"x\": [1.0], \"hoverinfo\": \"none\", \"textfont\": {\"color\": \"rgb(0, 0, 0)\"}, \"text\": [\"\\u221e\"]}], \"name\": 15}, {\"data\": [{\"y\": [1.0, 1.0, null], \"mode\": \"lines\", \"x\": [0.0, 0.3, null], \"line\": {\"width\": 2, \"color\": \"rgb(0, 0, 0)\"}, \"hoverinfo\": \"none\"}, {\"y\": [1.0, 0.0, null], \"mode\": \"lines\", \"x\": [0.0, 0.0, null], \"line\": {\"width\": 2, \"color\": \"rgb(0, 0, 0)\"}, \"hoverinfo\": \"none\"}, {\"y\": [1.0, 0.0, null], \"mode\": \"lines\", \"x\": [0.3, 0.3, null], \"line\": {\"width\": 2, \"color\": \"rgb(0, 0, 0)\"}, \"hoverinfo\": \"none\"}, {\"y\": [1.0, 1.0, null], \"mode\": \"lines\", \"x\": [0.7, 1.0, null], \"line\": {\"width\": 2, \"color\": \"rgb(0, 0, 0)\"}, \"hoverinfo\": \"none\"}, {\"y\": [1.0, 0.0, null], \"mode\": \"lines\", \"x\": [0.7, 0.3, null], \"line\": {\"width\": 2, \"color\": \"rgb(255, 0, 0)\"}, \"hoverinfo\": \"none\"}, {\"y\": [1.0, 0.0, null], \"mode\": \"lines\", \"x\": [0.7, 0.7, null], \"line\": {\"width\": 2, \"color\": \"rgb(0, 0, 0)\"}, \"hoverinfo\": \"none\"}, {\"y\": [1.0, 0.0, null], \"mode\": \"lines\", \"x\": [1.0, 0.7, null], \"line\": {\"width\": 2, \"color\": \"rgb(0, 0, 0)\"}, \"hoverinfo\": \"none\"}, {\"y\": [1.0, 0.0, null], \"mode\": \"lines\", \"x\": [1.0, 1.0, null], \"line\": {\"width\": 2, \"color\": \"rgb(0, 0, 0)\"}, \"hoverinfo\": \"none\"}, {\"y\": [0.0, 0.0, null], \"mode\": \"lines\", \"x\": [0.3, 0.7, null], \"line\": {\"width\": 2, \"color\": \"rgb(0, 0, 0)\"}, \"hoverinfo\": \"none\"}, {\"y\": [0.0, 0.0, null], \"mode\": \"lines\", \"x\": [0.7, 1.0, null], \"line\": {\"width\": 2, \"color\": \"rgb(0, 0, 0)\"}, \"hoverinfo\": \"none\"}, {\"y\": [1.0], \"mode\": \"markers+text\", \"marker\": {\"line\": {\"width\": 2, \"color\": \"rgb(0, 0, 0)\"}, \"color\": \"rgb(0, 0, 255)\", \"size\": 20}, \"textposition\": \"middle center\", \"x\": [0.0], \"hoverinfo\": \"none\", \"textfont\": {\"color\": \"rgb(255, 255, 255)\"}, \"text\": [\"1\"]}, {\"y\": [1.0], \"mode\": \"markers+text\", \"marker\": {\"line\": {\"width\": 2, \"color\": \"rgb(0, 0, 0)\"}, \"color\": \"rgb(0, 0, 255)\", \"size\": 20}, \"textposition\": \"middle center\", \"x\": [0.3], \"hoverinfo\": \"none\", \"textfont\": {\"color\": \"rgb(255, 255, 255)\"}, \"text\": [\"0\"]}, {\"y\": [1.0], \"mode\": \"markers+text\", \"marker\": {\"line\": {\"width\": 2, \"color\": \"rgb(0, 0, 0)\"}, \"color\": \"rgb(255, 255, 255)\", \"size\": 20}, \"textposition\": \"middle center\", \"x\": [0.7], \"hoverinfo\": \"none\", \"textfont\": {\"color\": \"rgb(0, 0, 0)\"}, \"text\": [\"\\u221e\"]}, {\"y\": [1.0], \"mode\": \"markers+text\", \"marker\": {\"line\": {\"width\": 2, \"color\": \"rgb(0, 0, 0)\"}, \"color\": \"rgb(255, 255, 255)\", \"size\": 20}, \"textposition\": \"middle center\", \"x\": [1.0], \"hoverinfo\": \"none\", \"textfont\": {\"color\": \"rgb(0, 0, 0)\"}, \"text\": [\"\\u221e\"]}, {\"y\": [0.0], \"mode\": \"markers+text\", \"marker\": {\"line\": {\"width\": 2, \"color\": \"rgb(0, 0, 0)\"}, \"color\": \"rgb(255, 255, 255)\", \"size\": 20}, \"textposition\": \"middle center\", \"x\": [0.0], \"hoverinfo\": \"none\", \"textfont\": {\"color\": \"rgb(0, 0, 0)\"}, \"text\": [\"2\"]}, {\"y\": [0.0], \"mode\": \"markers+text\", \"marker\": {\"line\": {\"width\": 2, \"color\": \"rgb(0, 0, 0)\"}, \"color\": \"rgb(255, 0, 0)\", \"size\": 20}, \"textposition\": \"middle center\", \"x\": [0.3], \"hoverinfo\": \"none\", \"textfont\": {\"color\": \"rgb(255, 255, 255)\"}, \"text\": [\"1\"]}, {\"y\": [0.0], \"mode\": \"markers+text\", \"marker\": {\"line\": {\"width\": 2, \"color\": \"rgb(0, 0, 0)\"}, \"color\": \"rgb(255, 255, 255)\", \"size\": 20}, \"textposition\": \"middle center\", \"x\": [0.7], \"hoverinfo\": \"none\", \"textfont\": {\"color\": \"rgb(0, 0, 0)\"}, \"text\": [\"\\u221e\"]}, {\"y\": [0.0], \"mode\": \"markers+text\", \"marker\": {\"line\": {\"width\": 2, \"color\": \"rgb(0, 0, 0)\"}, \"color\": \"rgb(255, 255, 255)\", \"size\": 20}, \"textposition\": \"middle center\", \"x\": [1.0], \"hoverinfo\": \"none\", \"textfont\": {\"color\": \"rgb(0, 0, 0)\"}, \"text\": [\"\\u221e\"]}], \"name\": 16}, {\"data\": [{\"y\": [1.0, 1.0, null], \"mode\": \"lines\", \"x\": [0.0, 0.3, null], \"line\": {\"width\": 2, \"color\": \"rgb(0, 0, 0)\"}, \"hoverinfo\": \"none\"}, {\"y\": [1.0, 0.0, null], \"mode\": \"lines\", \"x\": [0.0, 0.0, null], \"line\": {\"width\": 2, \"color\": \"rgb(0, 0, 0)\"}, \"hoverinfo\": \"none\"}, {\"y\": [1.0, 0.0, null], \"mode\": \"lines\", \"x\": [0.3, 0.3, null], \"line\": {\"width\": 2, \"color\": \"rgb(0, 0, 0)\"}, \"hoverinfo\": \"none\"}, {\"y\": [1.0, 1.0, null], \"mode\": \"lines\", \"x\": [0.7, 1.0, null], \"line\": {\"width\": 2, \"color\": \"rgb(0, 0, 0)\"}, \"hoverinfo\": \"none\"}, {\"y\": [1.0, 0.0, null], \"mode\": \"lines\", \"x\": [0.7, 0.3, null], \"line\": {\"width\": 2, \"color\": \"rgb(0, 0, 0)\"}, \"hoverinfo\": \"none\"}, {\"y\": [1.0, 0.0, null], \"mode\": \"lines\", \"x\": [0.7, 0.7, null], \"line\": {\"width\": 2, \"color\": \"rgb(0, 0, 0)\"}, \"hoverinfo\": \"none\"}, {\"y\": [1.0, 0.0, null], \"mode\": \"lines\", \"x\": [1.0, 0.7, null], \"line\": {\"width\": 2, \"color\": \"rgb(0, 0, 0)\"}, \"hoverinfo\": \"none\"}, {\"y\": [1.0, 0.0, null], \"mode\": \"lines\", \"x\": [1.0, 1.0, null], \"line\": {\"width\": 2, \"color\": \"rgb(0, 0, 0)\"}, \"hoverinfo\": \"none\"}, {\"y\": [0.0, 0.0, null], \"mode\": \"lines\", \"x\": [0.3, 0.7, null], \"line\": {\"width\": 2, \"color\": \"rgb(0, 0, 0)\"}, \"hoverinfo\": \"none\"}, {\"y\": [0.0, 0.0, null], \"mode\": \"lines\", \"x\": [0.7, 1.0, null], \"line\": {\"width\": 2, \"color\": \"rgb(0, 0, 0)\"}, \"hoverinfo\": \"none\"}, {\"y\": [1.0], \"mode\": \"markers+text\", \"marker\": {\"line\": {\"width\": 2, \"color\": \"rgb(0, 0, 0)\"}, \"color\": \"rgb(0, 0, 255)\", \"size\": 20}, \"textposition\": \"middle center\", \"x\": [0.0], \"hoverinfo\": \"none\", \"textfont\": {\"color\": \"rgb(255, 255, 255)\"}, \"text\": [\"1\"]}, {\"y\": [1.0], \"mode\": \"markers+text\", \"marker\": {\"line\": {\"width\": 2, \"color\": \"rgb(0, 0, 0)\"}, \"color\": \"rgb(0, 0, 255)\", \"size\": 20}, \"textposition\": \"middle center\", \"x\": [0.3], \"hoverinfo\": \"none\", \"textfont\": {\"color\": \"rgb(255, 255, 255)\"}, \"text\": [\"0\"]}, {\"y\": [1.0], \"mode\": \"markers+text\", \"marker\": {\"line\": {\"width\": 2, \"color\": \"rgb(0, 0, 0)\"}, \"color\": \"rgb(255, 255, 255)\", \"size\": 20}, \"textposition\": \"middle center\", \"x\": [0.7], \"hoverinfo\": \"none\", \"textfont\": {\"color\": \"rgb(0, 0, 0)\"}, \"text\": [\"2\"]}, {\"y\": [1.0], \"mode\": \"markers+text\", \"marker\": {\"line\": {\"width\": 2, \"color\": \"rgb(0, 0, 0)\"}, \"color\": \"rgb(255, 255, 255)\", \"size\": 20}, \"textposition\": \"middle center\", \"x\": [1.0], \"hoverinfo\": \"none\", \"textfont\": {\"color\": \"rgb(0, 0, 0)\"}, \"text\": [\"\\u221e\"]}, {\"y\": [0.0], \"mode\": \"markers+text\", \"marker\": {\"line\": {\"width\": 2, \"color\": \"rgb(0, 0, 0)\"}, \"color\": \"rgb(255, 255, 255)\", \"size\": 20}, \"textposition\": \"middle center\", \"x\": [0.0], \"hoverinfo\": \"none\", \"textfont\": {\"color\": \"rgb(0, 0, 0)\"}, \"text\": [\"2\"]}, {\"y\": [0.0], \"mode\": \"markers+text\", \"marker\": {\"line\": {\"width\": 2, \"color\": \"rgb(0, 0, 0)\"}, \"color\": \"rgb(255, 0, 0)\", \"size\": 20}, \"textposition\": \"middle center\", \"x\": [0.3], \"hoverinfo\": \"none\", \"textfont\": {\"color\": \"rgb(255, 255, 255)\"}, \"text\": [\"1\"]}, {\"y\": [0.0], \"mode\": \"markers+text\", \"marker\": {\"line\": {\"width\": 2, \"color\": \"rgb(0, 0, 0)\"}, \"color\": \"rgb(255, 255, 255)\", \"size\": 20}, \"textposition\": \"middle center\", \"x\": [0.7], \"hoverinfo\": \"none\", \"textfont\": {\"color\": \"rgb(0, 0, 0)\"}, \"text\": [\"\\u221e\"]}, {\"y\": [0.0], \"mode\": \"markers+text\", \"marker\": {\"line\": {\"width\": 2, \"color\": \"rgb(0, 0, 0)\"}, \"color\": \"rgb(255, 255, 255)\", \"size\": 20}, \"textposition\": \"middle center\", \"x\": [1.0], \"hoverinfo\": \"none\", \"textfont\": {\"color\": \"rgb(0, 0, 0)\"}, \"text\": [\"\\u221e\"]}], \"name\": 17}, {\"data\": [{\"y\": [1.0, 1.0, null], \"mode\": \"lines\", \"x\": [0.0, 0.3, null], \"line\": {\"width\": 2, \"color\": \"rgb(0, 0, 0)\"}, \"hoverinfo\": \"none\"}, {\"y\": [1.0, 0.0, null], \"mode\": \"lines\", \"x\": [0.0, 0.0, null], \"line\": {\"width\": 2, \"color\": \"rgb(0, 0, 0)\"}, \"hoverinfo\": \"none\"}, {\"y\": [1.0, 0.0, null], \"mode\": \"lines\", \"x\": [0.3, 0.3, null], \"line\": {\"width\": 2, \"color\": \"rgb(0, 0, 0)\"}, \"hoverinfo\": \"none\"}, {\"y\": [1.0, 1.0, null], \"mode\": \"lines\", \"x\": [0.7, 1.0, null], \"line\": {\"width\": 2, \"color\": \"rgb(0, 0, 0)\"}, \"hoverinfo\": \"none\"}, {\"y\": [1.0, 0.0, null], \"mode\": \"lines\", \"x\": [0.7, 0.3, null], \"line\": {\"width\": 2, \"color\": \"rgb(0, 0, 0)\"}, \"hoverinfo\": \"none\"}, {\"y\": [1.0, 0.0, null], \"mode\": \"lines\", \"x\": [0.7, 0.7, null], \"line\": {\"width\": 2, \"color\": \"rgb(0, 0, 0)\"}, \"hoverinfo\": \"none\"}, {\"y\": [1.0, 0.0, null], \"mode\": \"lines\", \"x\": [1.0, 0.7, null], \"line\": {\"width\": 2, \"color\": \"rgb(0, 0, 0)\"}, \"hoverinfo\": \"none\"}, {\"y\": [1.0, 0.0, null], \"mode\": \"lines\", \"x\": [1.0, 1.0, null], \"line\": {\"width\": 2, \"color\": \"rgb(0, 0, 0)\"}, \"hoverinfo\": \"none\"}, {\"y\": [0.0, 0.0, null], \"mode\": \"lines\", \"x\": [0.3, 0.7, null], \"line\": {\"width\": 2, \"color\": \"rgb(255, 0, 0)\"}, \"hoverinfo\": \"none\"}, {\"y\": [0.0, 0.0, null], \"mode\": \"lines\", \"x\": [0.7, 1.0, null], \"line\": {\"width\": 2, \"color\": \"rgb(0, 0, 0)\"}, \"hoverinfo\": \"none\"}, {\"y\": [1.0], \"mode\": \"markers+text\", \"marker\": {\"line\": {\"width\": 2, \"color\": \"rgb(0, 0, 0)\"}, \"color\": \"rgb(0, 0, 255)\", \"size\": 20}, \"textposition\": \"middle center\", \"x\": [0.0], \"hoverinfo\": \"none\", \"textfont\": {\"color\": \"rgb(255, 255, 255)\"}, \"text\": [\"1\"]}, {\"y\": [1.0], \"mode\": \"markers+text\", \"marker\": {\"line\": {\"width\": 2, \"color\": \"rgb(0, 0, 0)\"}, \"color\": \"rgb(0, 0, 255)\", \"size\": 20}, \"textposition\": \"middle center\", \"x\": [0.3], \"hoverinfo\": \"none\", \"textfont\": {\"color\": \"rgb(255, 255, 255)\"}, \"text\": [\"0\"]}, {\"y\": [1.0], \"mode\": \"markers+text\", \"marker\": {\"line\": {\"width\": 2, \"color\": \"rgb(0, 0, 0)\"}, \"color\": \"rgb(255, 255, 255)\", \"size\": 20}, \"textposition\": \"middle center\", \"x\": [0.7], \"hoverinfo\": \"none\", \"textfont\": {\"color\": \"rgb(0, 0, 0)\"}, \"text\": [\"2\"]}, {\"y\": [1.0], \"mode\": \"markers+text\", \"marker\": {\"line\": {\"width\": 2, \"color\": \"rgb(0, 0, 0)\"}, \"color\": \"rgb(255, 255, 255)\", \"size\": 20}, \"textposition\": \"middle center\", \"x\": [1.0], \"hoverinfo\": \"none\", \"textfont\": {\"color\": \"rgb(0, 0, 0)\"}, \"text\": [\"\\u221e\"]}, {\"y\": [0.0], \"mode\": \"markers+text\", \"marker\": {\"line\": {\"width\": 2, \"color\": \"rgb(0, 0, 0)\"}, \"color\": \"rgb(255, 255, 255)\", \"size\": 20}, \"textposition\": \"middle center\", \"x\": [0.0], \"hoverinfo\": \"none\", \"textfont\": {\"color\": \"rgb(0, 0, 0)\"}, \"text\": [\"2\"]}, {\"y\": [0.0], \"mode\": \"markers+text\", \"marker\": {\"line\": {\"width\": 2, \"color\": \"rgb(0, 0, 0)\"}, \"color\": \"rgb(255, 0, 0)\", \"size\": 20}, \"textposition\": \"middle center\", \"x\": [0.3], \"hoverinfo\": \"none\", \"textfont\": {\"color\": \"rgb(255, 255, 255)\"}, \"text\": [\"1\"]}, {\"y\": [0.0], \"mode\": \"markers+text\", \"marker\": {\"line\": {\"width\": 2, \"color\": \"rgb(0, 0, 0)\"}, \"color\": \"rgb(255, 255, 255)\", \"size\": 20}, \"textposition\": \"middle center\", \"x\": [0.7], \"hoverinfo\": \"none\", \"textfont\": {\"color\": \"rgb(0, 0, 0)\"}, \"text\": [\"\\u221e\"]}, {\"y\": [0.0], \"mode\": \"markers+text\", \"marker\": {\"line\": {\"width\": 2, \"color\": \"rgb(0, 0, 0)\"}, \"color\": \"rgb(255, 255, 255)\", \"size\": 20}, \"textposition\": \"middle center\", \"x\": [1.0], \"hoverinfo\": \"none\", \"textfont\": {\"color\": \"rgb(0, 0, 0)\"}, \"text\": [\"\\u221e\"]}], \"name\": 18}, {\"data\": [{\"y\": [1.0, 1.0, null], \"mode\": \"lines\", \"x\": [0.0, 0.3, null], \"line\": {\"width\": 2, \"color\": \"rgb(0, 0, 0)\"}, \"hoverinfo\": \"none\"}, {\"y\": [1.0, 0.0, null], \"mode\": \"lines\", \"x\": [0.0, 0.0, null], \"line\": {\"width\": 2, \"color\": \"rgb(0, 0, 0)\"}, \"hoverinfo\": \"none\"}, {\"y\": [1.0, 0.0, null], \"mode\": \"lines\", \"x\": [0.3, 0.3, null], \"line\": {\"width\": 2, \"color\": \"rgb(0, 0, 0)\"}, \"hoverinfo\": \"none\"}, {\"y\": [1.0, 1.0, null], \"mode\": \"lines\", \"x\": [0.7, 1.0, null], \"line\": {\"width\": 2, \"color\": \"rgb(0, 0, 0)\"}, \"hoverinfo\": \"none\"}, {\"y\": [1.0, 0.0, null], \"mode\": \"lines\", \"x\": [0.7, 0.3, null], \"line\": {\"width\": 2, \"color\": \"rgb(0, 0, 0)\"}, \"hoverinfo\": \"none\"}, {\"y\": [1.0, 0.0, null], \"mode\": \"lines\", \"x\": [0.7, 0.7, null], \"line\": {\"width\": 2, \"color\": \"rgb(0, 0, 0)\"}, \"hoverinfo\": \"none\"}, {\"y\": [1.0, 0.0, null], \"mode\": \"lines\", \"x\": [1.0, 0.7, null], \"line\": {\"width\": 2, \"color\": \"rgb(0, 0, 0)\"}, \"hoverinfo\": \"none\"}, {\"y\": [1.0, 0.0, null], \"mode\": \"lines\", \"x\": [1.0, 1.0, null], \"line\": {\"width\": 2, \"color\": \"rgb(0, 0, 0)\"}, \"hoverinfo\": \"none\"}, {\"y\": [0.0, 0.0, null], \"mode\": \"lines\", \"x\": [0.3, 0.7, null], \"line\": {\"width\": 2, \"color\": \"rgb(0, 0, 0)\"}, \"hoverinfo\": \"none\"}, {\"y\": [0.0, 0.0, null], \"mode\": \"lines\", \"x\": [0.7, 1.0, null], \"line\": {\"width\": 2, \"color\": \"rgb(0, 0, 0)\"}, \"hoverinfo\": \"none\"}, {\"y\": [1.0], \"mode\": \"markers+text\", \"marker\": {\"line\": {\"width\": 2, \"color\": \"rgb(0, 0, 0)\"}, \"color\": \"rgb(0, 0, 255)\", \"size\": 20}, \"textposition\": \"middle center\", \"x\": [0.0], \"hoverinfo\": \"none\", \"textfont\": {\"color\": \"rgb(255, 255, 255)\"}, \"text\": [\"1\"]}, {\"y\": [1.0], \"mode\": \"markers+text\", \"marker\": {\"line\": {\"width\": 2, \"color\": \"rgb(0, 0, 0)\"}, \"color\": \"rgb(0, 0, 255)\", \"size\": 20}, \"textposition\": \"middle center\", \"x\": [0.3], \"hoverinfo\": \"none\", \"textfont\": {\"color\": \"rgb(255, 255, 255)\"}, \"text\": [\"0\"]}, {\"y\": [1.0], \"mode\": \"markers+text\", \"marker\": {\"line\": {\"width\": 2, \"color\": \"rgb(0, 0, 0)\"}, \"color\": \"rgb(255, 255, 255)\", \"size\": 20}, \"textposition\": \"middle center\", \"x\": [0.7], \"hoverinfo\": \"none\", \"textfont\": {\"color\": \"rgb(0, 0, 0)\"}, \"text\": [\"2\"]}, {\"y\": [1.0], \"mode\": \"markers+text\", \"marker\": {\"line\": {\"width\": 2, \"color\": \"rgb(0, 0, 0)\"}, \"color\": \"rgb(255, 255, 255)\", \"size\": 20}, \"textposition\": \"middle center\", \"x\": [1.0], \"hoverinfo\": \"none\", \"textfont\": {\"color\": \"rgb(0, 0, 0)\"}, \"text\": [\"\\u221e\"]}, {\"y\": [0.0], \"mode\": \"markers+text\", \"marker\": {\"line\": {\"width\": 2, \"color\": \"rgb(0, 0, 0)\"}, \"color\": \"rgb(255, 255, 255)\", \"size\": 20}, \"textposition\": \"middle center\", \"x\": [0.0], \"hoverinfo\": \"none\", \"textfont\": {\"color\": \"rgb(0, 0, 0)\"}, \"text\": [\"2\"]}, {\"y\": [0.0], \"mode\": \"markers+text\", \"marker\": {\"line\": {\"width\": 2, \"color\": \"rgb(0, 0, 0)\"}, \"color\": \"rgb(255, 0, 0)\", \"size\": 20}, \"textposition\": \"middle center\", \"x\": [0.3], \"hoverinfo\": \"none\", \"textfont\": {\"color\": \"rgb(255, 255, 255)\"}, \"text\": [\"1\"]}, {\"y\": [0.0], \"mode\": \"markers+text\", \"marker\": {\"line\": {\"width\": 2, \"color\": \"rgb(0, 0, 0)\"}, \"color\": \"rgb(255, 255, 255)\", \"size\": 20}, \"textposition\": \"middle center\", \"x\": [0.7], \"hoverinfo\": \"none\", \"textfont\": {\"color\": \"rgb(0, 0, 0)\"}, \"text\": [\"2\"]}, {\"y\": [0.0], \"mode\": \"markers+text\", \"marker\": {\"line\": {\"width\": 2, \"color\": \"rgb(0, 0, 0)\"}, \"color\": \"rgb(255, 255, 255)\", \"size\": 20}, \"textposition\": \"middle center\", \"x\": [1.0], \"hoverinfo\": \"none\", \"textfont\": {\"color\": \"rgb(0, 0, 0)\"}, \"text\": [\"\\u221e\"]}], \"name\": 19}, {\"data\": [{\"y\": [1.0, 1.0, null], \"mode\": \"lines\", \"x\": [0.0, 0.3, null], \"line\": {\"width\": 2, \"color\": \"rgb(0, 0, 0)\"}, \"hoverinfo\": \"none\"}, {\"y\": [1.0, 0.0, null], \"mode\": \"lines\", \"x\": [0.0, 0.0, null], \"line\": {\"width\": 2, \"color\": \"rgb(0, 0, 0)\"}, \"hoverinfo\": \"none\"}, {\"y\": [1.0, 0.0, null], \"mode\": \"lines\", \"x\": [0.3, 0.3, null], \"line\": {\"width\": 2, \"color\": \"rgb(0, 0, 0)\"}, \"hoverinfo\": \"none\"}, {\"y\": [1.0, 1.0, null], \"mode\": \"lines\", \"x\": [0.7, 1.0, null], \"line\": {\"width\": 2, \"color\": \"rgb(0, 0, 0)\"}, \"hoverinfo\": \"none\"}, {\"y\": [1.0, 0.0, null], \"mode\": \"lines\", \"x\": [0.7, 0.3, null], \"line\": {\"width\": 2, \"color\": \"rgb(0, 0, 0)\"}, \"hoverinfo\": \"none\"}, {\"y\": [1.0, 0.0, null], \"mode\": \"lines\", \"x\": [0.7, 0.7, null], \"line\": {\"width\": 2, \"color\": \"rgb(0, 0, 0)\"}, \"hoverinfo\": \"none\"}, {\"y\": [1.0, 0.0, null], \"mode\": \"lines\", \"x\": [1.0, 0.7, null], \"line\": {\"width\": 2, \"color\": \"rgb(0, 0, 0)\"}, \"hoverinfo\": \"none\"}, {\"y\": [1.0, 0.0, null], \"mode\": \"lines\", \"x\": [1.0, 1.0, null], \"line\": {\"width\": 2, \"color\": \"rgb(0, 0, 0)\"}, \"hoverinfo\": \"none\"}, {\"y\": [0.0, 0.0, null], \"mode\": \"lines\", \"x\": [0.3, 0.7, null], \"line\": {\"width\": 2, \"color\": \"rgb(0, 0, 0)\"}, \"hoverinfo\": \"none\"}, {\"y\": [0.0, 0.0, null], \"mode\": \"lines\", \"x\": [0.7, 1.0, null], \"line\": {\"width\": 2, \"color\": \"rgb(0, 0, 0)\"}, \"hoverinfo\": \"none\"}, {\"y\": [1.0], \"mode\": \"markers+text\", \"marker\": {\"line\": {\"width\": 2, \"color\": \"rgb(0, 0, 0)\"}, \"color\": \"rgb(0, 0, 255)\", \"size\": 20}, \"textposition\": \"middle center\", \"x\": [0.0], \"hoverinfo\": \"none\", \"textfont\": {\"color\": \"rgb(255, 255, 255)\"}, \"text\": [\"1\"]}, {\"y\": [1.0], \"mode\": \"markers+text\", \"marker\": {\"line\": {\"width\": 2, \"color\": \"rgb(0, 0, 0)\"}, \"color\": \"rgb(0, 0, 255)\", \"size\": 20}, \"textposition\": \"middle center\", \"x\": [0.3], \"hoverinfo\": \"none\", \"textfont\": {\"color\": \"rgb(255, 255, 255)\"}, \"text\": [\"0\"]}, {\"y\": [1.0], \"mode\": \"markers+text\", \"marker\": {\"line\": {\"width\": 2, \"color\": \"rgb(0, 0, 0)\"}, \"color\": \"rgb(255, 255, 255)\", \"size\": 20}, \"textposition\": \"middle center\", \"x\": [0.7], \"hoverinfo\": \"none\", \"textfont\": {\"color\": \"rgb(0, 0, 0)\"}, \"text\": [\"2\"]}, {\"y\": [1.0], \"mode\": \"markers+text\", \"marker\": {\"line\": {\"width\": 2, \"color\": \"rgb(0, 0, 0)\"}, \"color\": \"rgb(255, 255, 255)\", \"size\": 20}, \"textposition\": \"middle center\", \"x\": [1.0], \"hoverinfo\": \"none\", \"textfont\": {\"color\": \"rgb(0, 0, 0)\"}, \"text\": [\"\\u221e\"]}, {\"y\": [0.0], \"mode\": \"markers+text\", \"marker\": {\"line\": {\"width\": 2, \"color\": \"rgb(0, 0, 0)\"}, \"color\": \"rgb(255, 255, 255)\", \"size\": 20}, \"textposition\": \"middle center\", \"x\": [0.0], \"hoverinfo\": \"none\", \"textfont\": {\"color\": \"rgb(0, 0, 0)\"}, \"text\": [\"2\"]}, {\"y\": [0.0], \"mode\": \"markers+text\", \"marker\": {\"line\": {\"width\": 2, \"color\": \"rgb(0, 0, 0)\"}, \"color\": \"rgb(0, 0, 255)\", \"size\": 20}, \"textposition\": \"middle center\", \"x\": [0.3], \"hoverinfo\": \"none\", \"textfont\": {\"color\": \"rgb(255, 255, 255)\"}, \"text\": [\"1\"]}, {\"y\": [0.0], \"mode\": \"markers+text\", \"marker\": {\"line\": {\"width\": 2, \"color\": \"rgb(0, 0, 0)\"}, \"color\": \"rgb(255, 255, 255)\", \"size\": 20}, \"textposition\": \"middle center\", \"x\": [0.7], \"hoverinfo\": \"none\", \"textfont\": {\"color\": \"rgb(0, 0, 0)\"}, \"text\": [\"2\"]}, {\"y\": [0.0], \"mode\": \"markers+text\", \"marker\": {\"line\": {\"width\": 2, \"color\": \"rgb(0, 0, 0)\"}, \"color\": \"rgb(255, 255, 255)\", \"size\": 20}, \"textposition\": \"middle center\", \"x\": [1.0], \"hoverinfo\": \"none\", \"textfont\": {\"color\": \"rgb(0, 0, 0)\"}, \"text\": [\"\\u221e\"]}], \"name\": 20}, {\"data\": [{\"y\": [1.0, 1.0, null], \"mode\": \"lines\", \"x\": [0.0, 0.3, null], \"line\": {\"width\": 2, \"color\": \"rgb(0, 0, 0)\"}, \"hoverinfo\": \"none\"}, {\"y\": [1.0, 0.0, null], \"mode\": \"lines\", \"x\": [0.0, 0.0, null], \"line\": {\"width\": 2, \"color\": \"rgb(0, 0, 0)\"}, \"hoverinfo\": \"none\"}, {\"y\": [1.0, 0.0, null], \"mode\": \"lines\", \"x\": [0.3, 0.3, null], \"line\": {\"width\": 2, \"color\": \"rgb(0, 0, 0)\"}, \"hoverinfo\": \"none\"}, {\"y\": [1.0, 1.0, null], \"mode\": \"lines\", \"x\": [0.7, 1.0, null], \"line\": {\"width\": 2, \"color\": \"rgb(0, 0, 0)\"}, \"hoverinfo\": \"none\"}, {\"y\": [1.0, 0.0, null], \"mode\": \"lines\", \"x\": [0.7, 0.3, null], \"line\": {\"width\": 2, \"color\": \"rgb(0, 0, 0)\"}, \"hoverinfo\": \"none\"}, {\"y\": [1.0, 0.0, null], \"mode\": \"lines\", \"x\": [0.7, 0.7, null], \"line\": {\"width\": 2, \"color\": \"rgb(0, 0, 0)\"}, \"hoverinfo\": \"none\"}, {\"y\": [1.0, 0.0, null], \"mode\": \"lines\", \"x\": [1.0, 0.7, null], \"line\": {\"width\": 2, \"color\": \"rgb(0, 0, 0)\"}, \"hoverinfo\": \"none\"}, {\"y\": [1.0, 0.0, null], \"mode\": \"lines\", \"x\": [1.0, 1.0, null], \"line\": {\"width\": 2, \"color\": \"rgb(0, 0, 0)\"}, \"hoverinfo\": \"none\"}, {\"y\": [0.0, 0.0, null], \"mode\": \"lines\", \"x\": [0.3, 0.7, null], \"line\": {\"width\": 2, \"color\": \"rgb(0, 0, 0)\"}, \"hoverinfo\": \"none\"}, {\"y\": [0.0, 0.0, null], \"mode\": \"lines\", \"x\": [0.7, 1.0, null], \"line\": {\"width\": 2, \"color\": \"rgb(0, 0, 0)\"}, \"hoverinfo\": \"none\"}, {\"y\": [1.0], \"mode\": \"markers+text\", \"marker\": {\"line\": {\"width\": 2, \"color\": \"rgb(0, 0, 0)\"}, \"color\": \"rgb(0, 0, 255)\", \"size\": 20}, \"textposition\": \"middle center\", \"x\": [0.0], \"hoverinfo\": \"none\", \"textfont\": {\"color\": \"rgb(255, 255, 255)\"}, \"text\": [\"1\"]}, {\"y\": [1.0], \"mode\": \"markers+text\", \"marker\": {\"line\": {\"width\": 2, \"color\": \"rgb(0, 0, 0)\"}, \"color\": \"rgb(0, 0, 255)\", \"size\": 20}, \"textposition\": \"middle center\", \"x\": [0.3], \"hoverinfo\": \"none\", \"textfont\": {\"color\": \"rgb(255, 255, 255)\"}, \"text\": [\"0\"]}, {\"y\": [1.0], \"mode\": \"markers+text\", \"marker\": {\"line\": {\"width\": 2, \"color\": \"rgb(0, 0, 0)\"}, \"color\": \"rgb(255, 255, 255)\", \"size\": 20}, \"textposition\": \"middle center\", \"x\": [0.7], \"hoverinfo\": \"none\", \"textfont\": {\"color\": \"rgb(0, 0, 0)\"}, \"text\": [\"2\"]}, {\"y\": [1.0], \"mode\": \"markers+text\", \"marker\": {\"line\": {\"width\": 2, \"color\": \"rgb(0, 0, 0)\"}, \"color\": \"rgb(255, 255, 255)\", \"size\": 20}, \"textposition\": \"middle center\", \"x\": [1.0], \"hoverinfo\": \"none\", \"textfont\": {\"color\": \"rgb(0, 0, 0)\"}, \"text\": [\"\\u221e\"]}, {\"y\": [0.0], \"mode\": \"markers+text\", \"marker\": {\"line\": {\"width\": 2, \"color\": \"rgb(0, 0, 0)\"}, \"color\": \"rgb(255, 0, 0)\", \"size\": 20}, \"textposition\": \"middle center\", \"x\": [0.0], \"hoverinfo\": \"none\", \"textfont\": {\"color\": \"rgb(255, 255, 255)\"}, \"text\": [\"2\"]}, {\"y\": [0.0], \"mode\": \"markers+text\", \"marker\": {\"line\": {\"width\": 2, \"color\": \"rgb(0, 0, 0)\"}, \"color\": \"rgb(0, 0, 255)\", \"size\": 20}, \"textposition\": \"middle center\", \"x\": [0.3], \"hoverinfo\": \"none\", \"textfont\": {\"color\": \"rgb(255, 255, 255)\"}, \"text\": [\"1\"]}, {\"y\": [0.0], \"mode\": \"markers+text\", \"marker\": {\"line\": {\"width\": 2, \"color\": \"rgb(0, 0, 0)\"}, \"color\": \"rgb(255, 255, 255)\", \"size\": 20}, \"textposition\": \"middle center\", \"x\": [0.7], \"hoverinfo\": \"none\", \"textfont\": {\"color\": \"rgb(0, 0, 0)\"}, \"text\": [\"2\"]}, {\"y\": [0.0], \"mode\": \"markers+text\", \"marker\": {\"line\": {\"width\": 2, \"color\": \"rgb(0, 0, 0)\"}, \"color\": \"rgb(255, 255, 255)\", \"size\": 20}, \"textposition\": \"middle center\", \"x\": [1.0], \"hoverinfo\": \"none\", \"textfont\": {\"color\": \"rgb(0, 0, 0)\"}, \"text\": [\"\\u221e\"]}], \"name\": 21}, {\"data\": [{\"y\": [1.0, 1.0, null], \"mode\": \"lines\", \"x\": [0.0, 0.3, null], \"line\": {\"width\": 2, \"color\": \"rgb(0, 0, 0)\"}, \"hoverinfo\": \"none\"}, {\"y\": [1.0, 0.0, null], \"mode\": \"lines\", \"x\": [0.0, 0.0, null], \"line\": {\"width\": 2, \"color\": \"rgb(255, 0, 0)\"}, \"hoverinfo\": \"none\"}, {\"y\": [1.0, 0.0, null], \"mode\": \"lines\", \"x\": [0.3, 0.3, null], \"line\": {\"width\": 2, \"color\": \"rgb(0, 0, 0)\"}, \"hoverinfo\": \"none\"}, {\"y\": [1.0, 1.0, null], \"mode\": \"lines\", \"x\": [0.7, 1.0, null], \"line\": {\"width\": 2, \"color\": \"rgb(0, 0, 0)\"}, \"hoverinfo\": \"none\"}, {\"y\": [1.0, 0.0, null], \"mode\": \"lines\", \"x\": [0.7, 0.3, null], \"line\": {\"width\": 2, \"color\": \"rgb(0, 0, 0)\"}, \"hoverinfo\": \"none\"}, {\"y\": [1.0, 0.0, null], \"mode\": \"lines\", \"x\": [0.7, 0.7, null], \"line\": {\"width\": 2, \"color\": \"rgb(0, 0, 0)\"}, \"hoverinfo\": \"none\"}, {\"y\": [1.0, 0.0, null], \"mode\": \"lines\", \"x\": [1.0, 0.7, null], \"line\": {\"width\": 2, \"color\": \"rgb(0, 0, 0)\"}, \"hoverinfo\": \"none\"}, {\"y\": [1.0, 0.0, null], \"mode\": \"lines\", \"x\": [1.0, 1.0, null], \"line\": {\"width\": 2, \"color\": \"rgb(0, 0, 0)\"}, \"hoverinfo\": \"none\"}, {\"y\": [0.0, 0.0, null], \"mode\": \"lines\", \"x\": [0.3, 0.7, null], \"line\": {\"width\": 2, \"color\": \"rgb(0, 0, 0)\"}, \"hoverinfo\": \"none\"}, {\"y\": [0.0, 0.0, null], \"mode\": \"lines\", \"x\": [0.7, 1.0, null], \"line\": {\"width\": 2, \"color\": \"rgb(0, 0, 0)\"}, \"hoverinfo\": \"none\"}, {\"y\": [1.0], \"mode\": \"markers+text\", \"marker\": {\"line\": {\"width\": 2, \"color\": \"rgb(0, 0, 0)\"}, \"color\": \"rgb(0, 0, 255)\", \"size\": 20}, \"textposition\": \"middle center\", \"x\": [0.0], \"hoverinfo\": \"none\", \"textfont\": {\"color\": \"rgb(255, 255, 255)\"}, \"text\": [\"1\"]}, {\"y\": [1.0], \"mode\": \"markers+text\", \"marker\": {\"line\": {\"width\": 2, \"color\": \"rgb(0, 0, 0)\"}, \"color\": \"rgb(0, 0, 255)\", \"size\": 20}, \"textposition\": \"middle center\", \"x\": [0.3], \"hoverinfo\": \"none\", \"textfont\": {\"color\": \"rgb(255, 255, 255)\"}, \"text\": [\"0\"]}, {\"y\": [1.0], \"mode\": \"markers+text\", \"marker\": {\"line\": {\"width\": 2, \"color\": \"rgb(0, 0, 0)\"}, \"color\": \"rgb(255, 255, 255)\", \"size\": 20}, \"textposition\": \"middle center\", \"x\": [0.7], \"hoverinfo\": \"none\", \"textfont\": {\"color\": \"rgb(0, 0, 0)\"}, \"text\": [\"2\"]}, {\"y\": [1.0], \"mode\": \"markers+text\", \"marker\": {\"line\": {\"width\": 2, \"color\": \"rgb(0, 0, 0)\"}, \"color\": \"rgb(255, 255, 255)\", \"size\": 20}, \"textposition\": \"middle center\", \"x\": [1.0], \"hoverinfo\": \"none\", \"textfont\": {\"color\": \"rgb(0, 0, 0)\"}, \"text\": [\"\\u221e\"]}, {\"y\": [0.0], \"mode\": \"markers+text\", \"marker\": {\"line\": {\"width\": 2, \"color\": \"rgb(0, 0, 0)\"}, \"color\": \"rgb(255, 0, 0)\", \"size\": 20}, \"textposition\": \"middle center\", \"x\": [0.0], \"hoverinfo\": \"none\", \"textfont\": {\"color\": \"rgb(255, 255, 255)\"}, \"text\": [\"2\"]}, {\"y\": [0.0], \"mode\": \"markers+text\", \"marker\": {\"line\": {\"width\": 2, \"color\": \"rgb(0, 0, 0)\"}, \"color\": \"rgb(0, 0, 255)\", \"size\": 20}, \"textposition\": \"middle center\", \"x\": [0.3], \"hoverinfo\": \"none\", \"textfont\": {\"color\": \"rgb(255, 255, 255)\"}, \"text\": [\"1\"]}, {\"y\": [0.0], \"mode\": \"markers+text\", \"marker\": {\"line\": {\"width\": 2, \"color\": \"rgb(0, 0, 0)\"}, \"color\": \"rgb(255, 255, 255)\", \"size\": 20}, \"textposition\": \"middle center\", \"x\": [0.7], \"hoverinfo\": \"none\", \"textfont\": {\"color\": \"rgb(0, 0, 0)\"}, \"text\": [\"2\"]}, {\"y\": [0.0], \"mode\": \"markers+text\", \"marker\": {\"line\": {\"width\": 2, \"color\": \"rgb(0, 0, 0)\"}, \"color\": \"rgb(255, 255, 255)\", \"size\": 20}, \"textposition\": \"middle center\", \"x\": [1.0], \"hoverinfo\": \"none\", \"textfont\": {\"color\": \"rgb(0, 0, 0)\"}, \"text\": [\"\\u221e\"]}], \"name\": 22}, {\"data\": [{\"y\": [1.0, 1.0, null], \"mode\": \"lines\", \"x\": [0.0, 0.3, null], \"line\": {\"width\": 2, \"color\": \"rgb(0, 0, 0)\"}, \"hoverinfo\": \"none\"}, {\"y\": [1.0, 0.0, null], \"mode\": \"lines\", \"x\": [0.0, 0.0, null], \"line\": {\"width\": 2, \"color\": \"rgb(0, 0, 0)\"}, \"hoverinfo\": \"none\"}, {\"y\": [1.0, 0.0, null], \"mode\": \"lines\", \"x\": [0.3, 0.3, null], \"line\": {\"width\": 2, \"color\": \"rgb(0, 0, 0)\"}, \"hoverinfo\": \"none\"}, {\"y\": [1.0, 1.0, null], \"mode\": \"lines\", \"x\": [0.7, 1.0, null], \"line\": {\"width\": 2, \"color\": \"rgb(0, 0, 0)\"}, \"hoverinfo\": \"none\"}, {\"y\": [1.0, 0.0, null], \"mode\": \"lines\", \"x\": [0.7, 0.3, null], \"line\": {\"width\": 2, \"color\": \"rgb(0, 0, 0)\"}, \"hoverinfo\": \"none\"}, {\"y\": [1.0, 0.0, null], \"mode\": \"lines\", \"x\": [0.7, 0.7, null], \"line\": {\"width\": 2, \"color\": \"rgb(0, 0, 0)\"}, \"hoverinfo\": \"none\"}, {\"y\": [1.0, 0.0, null], \"mode\": \"lines\", \"x\": [1.0, 0.7, null], \"line\": {\"width\": 2, \"color\": \"rgb(0, 0, 0)\"}, \"hoverinfo\": \"none\"}, {\"y\": [1.0, 0.0, null], \"mode\": \"lines\", \"x\": [1.0, 1.0, null], \"line\": {\"width\": 2, \"color\": \"rgb(0, 0, 0)\"}, \"hoverinfo\": \"none\"}, {\"y\": [0.0, 0.0, null], \"mode\": \"lines\", \"x\": [0.3, 0.7, null], \"line\": {\"width\": 2, \"color\": \"rgb(0, 0, 0)\"}, \"hoverinfo\": \"none\"}, {\"y\": [0.0, 0.0, null], \"mode\": \"lines\", \"x\": [0.7, 1.0, null], \"line\": {\"width\": 2, \"color\": \"rgb(0, 0, 0)\"}, \"hoverinfo\": \"none\"}, {\"y\": [1.0], \"mode\": \"markers+text\", \"marker\": {\"line\": {\"width\": 2, \"color\": \"rgb(0, 0, 0)\"}, \"color\": \"rgb(0, 0, 255)\", \"size\": 20}, \"textposition\": \"middle center\", \"x\": [0.0], \"hoverinfo\": \"none\", \"textfont\": {\"color\": \"rgb(255, 255, 255)\"}, \"text\": [\"1\"]}, {\"y\": [1.0], \"mode\": \"markers+text\", \"marker\": {\"line\": {\"width\": 2, \"color\": \"rgb(0, 0, 0)\"}, \"color\": \"rgb(0, 0, 255)\", \"size\": 20}, \"textposition\": \"middle center\", \"x\": [0.3], \"hoverinfo\": \"none\", \"textfont\": {\"color\": \"rgb(255, 255, 255)\"}, \"text\": [\"0\"]}, {\"y\": [1.0], \"mode\": \"markers+text\", \"marker\": {\"line\": {\"width\": 2, \"color\": \"rgb(0, 0, 0)\"}, \"color\": \"rgb(255, 255, 255)\", \"size\": 20}, \"textposition\": \"middle center\", \"x\": [0.7], \"hoverinfo\": \"none\", \"textfont\": {\"color\": \"rgb(0, 0, 0)\"}, \"text\": [\"2\"]}, {\"y\": [1.0], \"mode\": \"markers+text\", \"marker\": {\"line\": {\"width\": 2, \"color\": \"rgb(0, 0, 0)\"}, \"color\": \"rgb(255, 255, 255)\", \"size\": 20}, \"textposition\": \"middle center\", \"x\": [1.0], \"hoverinfo\": \"none\", \"textfont\": {\"color\": \"rgb(0, 0, 0)\"}, \"text\": [\"\\u221e\"]}, {\"y\": [0.0], \"mode\": \"markers+text\", \"marker\": {\"line\": {\"width\": 2, \"color\": \"rgb(0, 0, 0)\"}, \"color\": \"rgb(255, 0, 0)\", \"size\": 20}, \"textposition\": \"middle center\", \"x\": [0.0], \"hoverinfo\": \"none\", \"textfont\": {\"color\": \"rgb(255, 255, 255)\"}, \"text\": [\"2\"]}, {\"y\": [0.0], \"mode\": \"markers+text\", \"marker\": {\"line\": {\"width\": 2, \"color\": \"rgb(0, 0, 0)\"}, \"color\": \"rgb(0, 0, 255)\", \"size\": 20}, \"textposition\": \"middle center\", \"x\": [0.3], \"hoverinfo\": \"none\", \"textfont\": {\"color\": \"rgb(255, 255, 255)\"}, \"text\": [\"1\"]}, {\"y\": [0.0], \"mode\": \"markers+text\", \"marker\": {\"line\": {\"width\": 2, \"color\": \"rgb(0, 0, 0)\"}, \"color\": \"rgb(255, 255, 255)\", \"size\": 20}, \"textposition\": \"middle center\", \"x\": [0.7], \"hoverinfo\": \"none\", \"textfont\": {\"color\": \"rgb(0, 0, 0)\"}, \"text\": [\"2\"]}, {\"y\": [0.0], \"mode\": \"markers+text\", \"marker\": {\"line\": {\"width\": 2, \"color\": \"rgb(0, 0, 0)\"}, \"color\": \"rgb(255, 255, 255)\", \"size\": 20}, \"textposition\": \"middle center\", \"x\": [1.0], \"hoverinfo\": \"none\", \"textfont\": {\"color\": \"rgb(0, 0, 0)\"}, \"text\": [\"\\u221e\"]}], \"name\": 23}, {\"data\": [{\"y\": [1.0, 1.0, null], \"mode\": \"lines\", \"x\": [0.0, 0.3, null], \"line\": {\"width\": 2, \"color\": \"rgb(0, 0, 0)\"}, \"hoverinfo\": \"none\"}, {\"y\": [1.0, 0.0, null], \"mode\": \"lines\", \"x\": [0.0, 0.0, null], \"line\": {\"width\": 2, \"color\": \"rgb(0, 0, 0)\"}, \"hoverinfo\": \"none\"}, {\"y\": [1.0, 0.0, null], \"mode\": \"lines\", \"x\": [0.3, 0.3, null], \"line\": {\"width\": 2, \"color\": \"rgb(0, 0, 0)\"}, \"hoverinfo\": \"none\"}, {\"y\": [1.0, 1.0, null], \"mode\": \"lines\", \"x\": [0.7, 1.0, null], \"line\": {\"width\": 2, \"color\": \"rgb(0, 0, 0)\"}, \"hoverinfo\": \"none\"}, {\"y\": [1.0, 0.0, null], \"mode\": \"lines\", \"x\": [0.7, 0.3, null], \"line\": {\"width\": 2, \"color\": \"rgb(0, 0, 0)\"}, \"hoverinfo\": \"none\"}, {\"y\": [1.0, 0.0, null], \"mode\": \"lines\", \"x\": [0.7, 0.7, null], \"line\": {\"width\": 2, \"color\": \"rgb(0, 0, 0)\"}, \"hoverinfo\": \"none\"}, {\"y\": [1.0, 0.0, null], \"mode\": \"lines\", \"x\": [1.0, 0.7, null], \"line\": {\"width\": 2, \"color\": \"rgb(0, 0, 0)\"}, \"hoverinfo\": \"none\"}, {\"y\": [1.0, 0.0, null], \"mode\": \"lines\", \"x\": [1.0, 1.0, null], \"line\": {\"width\": 2, \"color\": \"rgb(0, 0, 0)\"}, \"hoverinfo\": \"none\"}, {\"y\": [0.0, 0.0, null], \"mode\": \"lines\", \"x\": [0.3, 0.7, null], \"line\": {\"width\": 2, \"color\": \"rgb(0, 0, 0)\"}, \"hoverinfo\": \"none\"}, {\"y\": [0.0, 0.0, null], \"mode\": \"lines\", \"x\": [0.7, 1.0, null], \"line\": {\"width\": 2, \"color\": \"rgb(0, 0, 0)\"}, \"hoverinfo\": \"none\"}, {\"y\": [1.0], \"mode\": \"markers+text\", \"marker\": {\"line\": {\"width\": 2, \"color\": \"rgb(0, 0, 0)\"}, \"color\": \"rgb(0, 0, 255)\", \"size\": 20}, \"textposition\": \"middle center\", \"x\": [0.0], \"hoverinfo\": \"none\", \"textfont\": {\"color\": \"rgb(255, 255, 255)\"}, \"text\": [\"1\"]}, {\"y\": [1.0], \"mode\": \"markers+text\", \"marker\": {\"line\": {\"width\": 2, \"color\": \"rgb(0, 0, 0)\"}, \"color\": \"rgb(0, 0, 255)\", \"size\": 20}, \"textposition\": \"middle center\", \"x\": [0.3], \"hoverinfo\": \"none\", \"textfont\": {\"color\": \"rgb(255, 255, 255)\"}, \"text\": [\"0\"]}, {\"y\": [1.0], \"mode\": \"markers+text\", \"marker\": {\"line\": {\"width\": 2, \"color\": \"rgb(0, 0, 0)\"}, \"color\": \"rgb(255, 255, 255)\", \"size\": 20}, \"textposition\": \"middle center\", \"x\": [0.7], \"hoverinfo\": \"none\", \"textfont\": {\"color\": \"rgb(0, 0, 0)\"}, \"text\": [\"2\"]}, {\"y\": [1.0], \"mode\": \"markers+text\", \"marker\": {\"line\": {\"width\": 2, \"color\": \"rgb(0, 0, 0)\"}, \"color\": \"rgb(255, 255, 255)\", \"size\": 20}, \"textposition\": \"middle center\", \"x\": [1.0], \"hoverinfo\": \"none\", \"textfont\": {\"color\": \"rgb(0, 0, 0)\"}, \"text\": [\"\\u221e\"]}, {\"y\": [0.0], \"mode\": \"markers+text\", \"marker\": {\"line\": {\"width\": 2, \"color\": \"rgb(0, 0, 0)\"}, \"color\": \"rgb(0, 0, 255)\", \"size\": 20}, \"textposition\": \"middle center\", \"x\": [0.0], \"hoverinfo\": \"none\", \"textfont\": {\"color\": \"rgb(255, 255, 255)\"}, \"text\": [\"2\"]}, {\"y\": [0.0], \"mode\": \"markers+text\", \"marker\": {\"line\": {\"width\": 2, \"color\": \"rgb(0, 0, 0)\"}, \"color\": \"rgb(0, 0, 255)\", \"size\": 20}, \"textposition\": \"middle center\", \"x\": [0.3], \"hoverinfo\": \"none\", \"textfont\": {\"color\": \"rgb(255, 255, 255)\"}, \"text\": [\"1\"]}, {\"y\": [0.0], \"mode\": \"markers+text\", \"marker\": {\"line\": {\"width\": 2, \"color\": \"rgb(0, 0, 0)\"}, \"color\": \"rgb(255, 255, 255)\", \"size\": 20}, \"textposition\": \"middle center\", \"x\": [0.7], \"hoverinfo\": \"none\", \"textfont\": {\"color\": \"rgb(0, 0, 0)\"}, \"text\": [\"2\"]}, {\"y\": [0.0], \"mode\": \"markers+text\", \"marker\": {\"line\": {\"width\": 2, \"color\": \"rgb(0, 0, 0)\"}, \"color\": \"rgb(255, 255, 255)\", \"size\": 20}, \"textposition\": \"middle center\", \"x\": [1.0], \"hoverinfo\": \"none\", \"textfont\": {\"color\": \"rgb(0, 0, 0)\"}, \"text\": [\"\\u221e\"]}], \"name\": 24}, {\"data\": [{\"y\": [1.0, 1.0, null], \"mode\": \"lines\", \"x\": [0.0, 0.3, null], \"line\": {\"width\": 2, \"color\": \"rgb(0, 0, 0)\"}, \"hoverinfo\": \"none\"}, {\"y\": [1.0, 0.0, null], \"mode\": \"lines\", \"x\": [0.0, 0.0, null], \"line\": {\"width\": 2, \"color\": \"rgb(0, 0, 0)\"}, \"hoverinfo\": \"none\"}, {\"y\": [1.0, 0.0, null], \"mode\": \"lines\", \"x\": [0.3, 0.3, null], \"line\": {\"width\": 2, \"color\": \"rgb(0, 0, 0)\"}, \"hoverinfo\": \"none\"}, {\"y\": [1.0, 1.0, null], \"mode\": \"lines\", \"x\": [0.7, 1.0, null], \"line\": {\"width\": 2, \"color\": \"rgb(0, 0, 0)\"}, \"hoverinfo\": \"none\"}, {\"y\": [1.0, 0.0, null], \"mode\": \"lines\", \"x\": [0.7, 0.3, null], \"line\": {\"width\": 2, \"color\": \"rgb(0, 0, 0)\"}, \"hoverinfo\": \"none\"}, {\"y\": [1.0, 0.0, null], \"mode\": \"lines\", \"x\": [0.7, 0.7, null], \"line\": {\"width\": 2, \"color\": \"rgb(0, 0, 0)\"}, \"hoverinfo\": \"none\"}, {\"y\": [1.0, 0.0, null], \"mode\": \"lines\", \"x\": [1.0, 0.7, null], \"line\": {\"width\": 2, \"color\": \"rgb(0, 0, 0)\"}, \"hoverinfo\": \"none\"}, {\"y\": [1.0, 0.0, null], \"mode\": \"lines\", \"x\": [1.0, 1.0, null], \"line\": {\"width\": 2, \"color\": \"rgb(0, 0, 0)\"}, \"hoverinfo\": \"none\"}, {\"y\": [0.0, 0.0, null], \"mode\": \"lines\", \"x\": [0.3, 0.7, null], \"line\": {\"width\": 2, \"color\": \"rgb(0, 0, 0)\"}, \"hoverinfo\": \"none\"}, {\"y\": [0.0, 0.0, null], \"mode\": \"lines\", \"x\": [0.7, 1.0, null], \"line\": {\"width\": 2, \"color\": \"rgb(0, 0, 0)\"}, \"hoverinfo\": \"none\"}, {\"y\": [1.0], \"mode\": \"markers+text\", \"marker\": {\"line\": {\"width\": 2, \"color\": \"rgb(0, 0, 0)\"}, \"color\": \"rgb(0, 0, 255)\", \"size\": 20}, \"textposition\": \"middle center\", \"x\": [0.0], \"hoverinfo\": \"none\", \"textfont\": {\"color\": \"rgb(255, 255, 255)\"}, \"text\": [\"1\"]}, {\"y\": [1.0], \"mode\": \"markers+text\", \"marker\": {\"line\": {\"width\": 2, \"color\": \"rgb(0, 0, 0)\"}, \"color\": \"rgb(0, 0, 255)\", \"size\": 20}, \"textposition\": \"middle center\", \"x\": [0.3], \"hoverinfo\": \"none\", \"textfont\": {\"color\": \"rgb(255, 255, 255)\"}, \"text\": [\"0\"]}, {\"y\": [1.0], \"mode\": \"markers+text\", \"marker\": {\"line\": {\"width\": 2, \"color\": \"rgb(0, 0, 0)\"}, \"color\": \"rgb(255, 0, 0)\", \"size\": 20}, \"textposition\": \"middle center\", \"x\": [0.7], \"hoverinfo\": \"none\", \"textfont\": {\"color\": \"rgb(255, 255, 255)\"}, \"text\": [\"2\"]}, {\"y\": [1.0], \"mode\": \"markers+text\", \"marker\": {\"line\": {\"width\": 2, \"color\": \"rgb(0, 0, 0)\"}, \"color\": \"rgb(255, 255, 255)\", \"size\": 20}, \"textposition\": \"middle center\", \"x\": [1.0], \"hoverinfo\": \"none\", \"textfont\": {\"color\": \"rgb(0, 0, 0)\"}, \"text\": [\"\\u221e\"]}, {\"y\": [0.0], \"mode\": \"markers+text\", \"marker\": {\"line\": {\"width\": 2, \"color\": \"rgb(0, 0, 0)\"}, \"color\": \"rgb(0, 0, 255)\", \"size\": 20}, \"textposition\": \"middle center\", \"x\": [0.0], \"hoverinfo\": \"none\", \"textfont\": {\"color\": \"rgb(255, 255, 255)\"}, \"text\": [\"2\"]}, {\"y\": [0.0], \"mode\": \"markers+text\", \"marker\": {\"line\": {\"width\": 2, \"color\": \"rgb(0, 0, 0)\"}, \"color\": \"rgb(0, 0, 255)\", \"size\": 20}, \"textposition\": \"middle center\", \"x\": [0.3], \"hoverinfo\": \"none\", \"textfont\": {\"color\": \"rgb(255, 255, 255)\"}, \"text\": [\"1\"]}, {\"y\": [0.0], \"mode\": \"markers+text\", \"marker\": {\"line\": {\"width\": 2, \"color\": \"rgb(0, 0, 0)\"}, \"color\": \"rgb(255, 255, 255)\", \"size\": 20}, \"textposition\": \"middle center\", \"x\": [0.7], \"hoverinfo\": \"none\", \"textfont\": {\"color\": \"rgb(0, 0, 0)\"}, \"text\": [\"2\"]}, {\"y\": [0.0], \"mode\": \"markers+text\", \"marker\": {\"line\": {\"width\": 2, \"color\": \"rgb(0, 0, 0)\"}, \"color\": \"rgb(255, 255, 255)\", \"size\": 20}, \"textposition\": \"middle center\", \"x\": [1.0], \"hoverinfo\": \"none\", \"textfont\": {\"color\": \"rgb(0, 0, 0)\"}, \"text\": [\"\\u221e\"]}], \"name\": 25}, {\"data\": [{\"y\": [1.0, 1.0, null], \"mode\": \"lines\", \"x\": [0.0, 0.3, null], \"line\": {\"width\": 2, \"color\": \"rgb(0, 0, 0)\"}, \"hoverinfo\": \"none\"}, {\"y\": [1.0, 0.0, null], \"mode\": \"lines\", \"x\": [0.0, 0.0, null], \"line\": {\"width\": 2, \"color\": \"rgb(0, 0, 0)\"}, \"hoverinfo\": \"none\"}, {\"y\": [1.0, 0.0, null], \"mode\": \"lines\", \"x\": [0.3, 0.3, null], \"line\": {\"width\": 2, \"color\": \"rgb(0, 0, 0)\"}, \"hoverinfo\": \"none\"}, {\"y\": [1.0, 1.0, null], \"mode\": \"lines\", \"x\": [0.7, 1.0, null], \"line\": {\"width\": 2, \"color\": \"rgb(255, 0, 0)\"}, \"hoverinfo\": \"none\"}, {\"y\": [1.0, 0.0, null], \"mode\": \"lines\", \"x\": [0.7, 0.3, null], \"line\": {\"width\": 2, \"color\": \"rgb(0, 0, 0)\"}, \"hoverinfo\": \"none\"}, {\"y\": [1.0, 0.0, null], \"mode\": \"lines\", \"x\": [0.7, 0.7, null], \"line\": {\"width\": 2, \"color\": \"rgb(0, 0, 0)\"}, \"hoverinfo\": \"none\"}, {\"y\": [1.0, 0.0, null], \"mode\": \"lines\", \"x\": [1.0, 0.7, null], \"line\": {\"width\": 2, \"color\": \"rgb(0, 0, 0)\"}, \"hoverinfo\": \"none\"}, {\"y\": [1.0, 0.0, null], \"mode\": \"lines\", \"x\": [1.0, 1.0, null], \"line\": {\"width\": 2, \"color\": \"rgb(0, 0, 0)\"}, \"hoverinfo\": \"none\"}, {\"y\": [0.0, 0.0, null], \"mode\": \"lines\", \"x\": [0.3, 0.7, null], \"line\": {\"width\": 2, \"color\": \"rgb(0, 0, 0)\"}, \"hoverinfo\": \"none\"}, {\"y\": [0.0, 0.0, null], \"mode\": \"lines\", \"x\": [0.7, 1.0, null], \"line\": {\"width\": 2, \"color\": \"rgb(0, 0, 0)\"}, \"hoverinfo\": \"none\"}, {\"y\": [1.0], \"mode\": \"markers+text\", \"marker\": {\"line\": {\"width\": 2, \"color\": \"rgb(0, 0, 0)\"}, \"color\": \"rgb(0, 0, 255)\", \"size\": 20}, \"textposition\": \"middle center\", \"x\": [0.0], \"hoverinfo\": \"none\", \"textfont\": {\"color\": \"rgb(255, 255, 255)\"}, \"text\": [\"1\"]}, {\"y\": [1.0], \"mode\": \"markers+text\", \"marker\": {\"line\": {\"width\": 2, \"color\": \"rgb(0, 0, 0)\"}, \"color\": \"rgb(0, 0, 255)\", \"size\": 20}, \"textposition\": \"middle center\", \"x\": [0.3], \"hoverinfo\": \"none\", \"textfont\": {\"color\": \"rgb(255, 255, 255)\"}, \"text\": [\"0\"]}, {\"y\": [1.0], \"mode\": \"markers+text\", \"marker\": {\"line\": {\"width\": 2, \"color\": \"rgb(0, 0, 0)\"}, \"color\": \"rgb(255, 0, 0)\", \"size\": 20}, \"textposition\": \"middle center\", \"x\": [0.7], \"hoverinfo\": \"none\", \"textfont\": {\"color\": \"rgb(255, 255, 255)\"}, \"text\": [\"2\"]}, {\"y\": [1.0], \"mode\": \"markers+text\", \"marker\": {\"line\": {\"width\": 2, \"color\": \"rgb(0, 0, 0)\"}, \"color\": \"rgb(255, 255, 255)\", \"size\": 20}, \"textposition\": \"middle center\", \"x\": [1.0], \"hoverinfo\": \"none\", \"textfont\": {\"color\": \"rgb(0, 0, 0)\"}, \"text\": [\"\\u221e\"]}, {\"y\": [0.0], \"mode\": \"markers+text\", \"marker\": {\"line\": {\"width\": 2, \"color\": \"rgb(0, 0, 0)\"}, \"color\": \"rgb(0, 0, 255)\", \"size\": 20}, \"textposition\": \"middle center\", \"x\": [0.0], \"hoverinfo\": \"none\", \"textfont\": {\"color\": \"rgb(255, 255, 255)\"}, \"text\": [\"2\"]}, {\"y\": [0.0], \"mode\": \"markers+text\", \"marker\": {\"line\": {\"width\": 2, \"color\": \"rgb(0, 0, 0)\"}, \"color\": \"rgb(0, 0, 255)\", \"size\": 20}, \"textposition\": \"middle center\", \"x\": [0.3], \"hoverinfo\": \"none\", \"textfont\": {\"color\": \"rgb(255, 255, 255)\"}, \"text\": [\"1\"]}, {\"y\": [0.0], \"mode\": \"markers+text\", \"marker\": {\"line\": {\"width\": 2, \"color\": \"rgb(0, 0, 0)\"}, \"color\": \"rgb(255, 255, 255)\", \"size\": 20}, \"textposition\": \"middle center\", \"x\": [0.7], \"hoverinfo\": \"none\", \"textfont\": {\"color\": \"rgb(0, 0, 0)\"}, \"text\": [\"2\"]}, {\"y\": [0.0], \"mode\": \"markers+text\", \"marker\": {\"line\": {\"width\": 2, \"color\": \"rgb(0, 0, 0)\"}, \"color\": \"rgb(255, 255, 255)\", \"size\": 20}, \"textposition\": \"middle center\", \"x\": [1.0], \"hoverinfo\": \"none\", \"textfont\": {\"color\": \"rgb(0, 0, 0)\"}, \"text\": [\"\\u221e\"]}], \"name\": 26}, {\"data\": [{\"y\": [1.0, 1.0, null], \"mode\": \"lines\", \"x\": [0.0, 0.3, null], \"line\": {\"width\": 2, \"color\": \"rgb(0, 0, 0)\"}, \"hoverinfo\": \"none\"}, {\"y\": [1.0, 0.0, null], \"mode\": \"lines\", \"x\": [0.0, 0.0, null], \"line\": {\"width\": 2, \"color\": \"rgb(0, 0, 0)\"}, \"hoverinfo\": \"none\"}, {\"y\": [1.0, 0.0, null], \"mode\": \"lines\", \"x\": [0.3, 0.3, null], \"line\": {\"width\": 2, \"color\": \"rgb(0, 0, 0)\"}, \"hoverinfo\": \"none\"}, {\"y\": [1.0, 1.0, null], \"mode\": \"lines\", \"x\": [0.7, 1.0, null], \"line\": {\"width\": 2, \"color\": \"rgb(0, 0, 0)\"}, \"hoverinfo\": \"none\"}, {\"y\": [1.0, 0.0, null], \"mode\": \"lines\", \"x\": [0.7, 0.3, null], \"line\": {\"width\": 2, \"color\": \"rgb(0, 0, 0)\"}, \"hoverinfo\": \"none\"}, {\"y\": [1.0, 0.0, null], \"mode\": \"lines\", \"x\": [0.7, 0.7, null], \"line\": {\"width\": 2, \"color\": \"rgb(0, 0, 0)\"}, \"hoverinfo\": \"none\"}, {\"y\": [1.0, 0.0, null], \"mode\": \"lines\", \"x\": [1.0, 0.7, null], \"line\": {\"width\": 2, \"color\": \"rgb(0, 0, 0)\"}, \"hoverinfo\": \"none\"}, {\"y\": [1.0, 0.0, null], \"mode\": \"lines\", \"x\": [1.0, 1.0, null], \"line\": {\"width\": 2, \"color\": \"rgb(0, 0, 0)\"}, \"hoverinfo\": \"none\"}, {\"y\": [0.0, 0.0, null], \"mode\": \"lines\", \"x\": [0.3, 0.7, null], \"line\": {\"width\": 2, \"color\": \"rgb(0, 0, 0)\"}, \"hoverinfo\": \"none\"}, {\"y\": [0.0, 0.0, null], \"mode\": \"lines\", \"x\": [0.7, 1.0, null], \"line\": {\"width\": 2, \"color\": \"rgb(0, 0, 0)\"}, \"hoverinfo\": \"none\"}, {\"y\": [1.0], \"mode\": \"markers+text\", \"marker\": {\"line\": {\"width\": 2, \"color\": \"rgb(0, 0, 0)\"}, \"color\": \"rgb(0, 0, 255)\", \"size\": 20}, \"textposition\": \"middle center\", \"x\": [0.0], \"hoverinfo\": \"none\", \"textfont\": {\"color\": \"rgb(255, 255, 255)\"}, \"text\": [\"1\"]}, {\"y\": [1.0], \"mode\": \"markers+text\", \"marker\": {\"line\": {\"width\": 2, \"color\": \"rgb(0, 0, 0)\"}, \"color\": \"rgb(0, 0, 255)\", \"size\": 20}, \"textposition\": \"middle center\", \"x\": [0.3], \"hoverinfo\": \"none\", \"textfont\": {\"color\": \"rgb(255, 255, 255)\"}, \"text\": [\"0\"]}, {\"y\": [1.0], \"mode\": \"markers+text\", \"marker\": {\"line\": {\"width\": 2, \"color\": \"rgb(0, 0, 0)\"}, \"color\": \"rgb(255, 0, 0)\", \"size\": 20}, \"textposition\": \"middle center\", \"x\": [0.7], \"hoverinfo\": \"none\", \"textfont\": {\"color\": \"rgb(255, 255, 255)\"}, \"text\": [\"2\"]}, {\"y\": [1.0], \"mode\": \"markers+text\", \"marker\": {\"line\": {\"width\": 2, \"color\": \"rgb(0, 0, 0)\"}, \"color\": \"rgb(255, 255, 255)\", \"size\": 20}, \"textposition\": \"middle center\", \"x\": [1.0], \"hoverinfo\": \"none\", \"textfont\": {\"color\": \"rgb(0, 0, 0)\"}, \"text\": [\"3\"]}, {\"y\": [0.0], \"mode\": \"markers+text\", \"marker\": {\"line\": {\"width\": 2, \"color\": \"rgb(0, 0, 0)\"}, \"color\": \"rgb(0, 0, 255)\", \"size\": 20}, \"textposition\": \"middle center\", \"x\": [0.0], \"hoverinfo\": \"none\", \"textfont\": {\"color\": \"rgb(255, 255, 255)\"}, \"text\": [\"2\"]}, {\"y\": [0.0], \"mode\": \"markers+text\", \"marker\": {\"line\": {\"width\": 2, \"color\": \"rgb(0, 0, 0)\"}, \"color\": \"rgb(0, 0, 255)\", \"size\": 20}, \"textposition\": \"middle center\", \"x\": [0.3], \"hoverinfo\": \"none\", \"textfont\": {\"color\": \"rgb(255, 255, 255)\"}, \"text\": [\"1\"]}, {\"y\": [0.0], \"mode\": \"markers+text\", \"marker\": {\"line\": {\"width\": 2, \"color\": \"rgb(0, 0, 0)\"}, \"color\": \"rgb(255, 255, 255)\", \"size\": 20}, \"textposition\": \"middle center\", \"x\": [0.7], \"hoverinfo\": \"none\", \"textfont\": {\"color\": \"rgb(0, 0, 0)\"}, \"text\": [\"2\"]}, {\"y\": [0.0], \"mode\": \"markers+text\", \"marker\": {\"line\": {\"width\": 2, \"color\": \"rgb(0, 0, 0)\"}, \"color\": \"rgb(255, 255, 255)\", \"size\": 20}, \"textposition\": \"middle center\", \"x\": [1.0], \"hoverinfo\": \"none\", \"textfont\": {\"color\": \"rgb(0, 0, 0)\"}, \"text\": [\"\\u221e\"]}], \"name\": 27}, {\"data\": [{\"y\": [1.0, 1.0, null], \"mode\": \"lines\", \"x\": [0.0, 0.3, null], \"line\": {\"width\": 2, \"color\": \"rgb(0, 0, 0)\"}, \"hoverinfo\": \"none\"}, {\"y\": [1.0, 0.0, null], \"mode\": \"lines\", \"x\": [0.0, 0.0, null], \"line\": {\"width\": 2, \"color\": \"rgb(0, 0, 0)\"}, \"hoverinfo\": \"none\"}, {\"y\": [1.0, 0.0, null], \"mode\": \"lines\", \"x\": [0.3, 0.3, null], \"line\": {\"width\": 2, \"color\": \"rgb(0, 0, 0)\"}, \"hoverinfo\": \"none\"}, {\"y\": [1.0, 1.0, null], \"mode\": \"lines\", \"x\": [0.7, 1.0, null], \"line\": {\"width\": 2, \"color\": \"rgb(0, 0, 0)\"}, \"hoverinfo\": \"none\"}, {\"y\": [1.0, 0.0, null], \"mode\": \"lines\", \"x\": [0.7, 0.3, null], \"line\": {\"width\": 2, \"color\": \"rgb(255, 0, 0)\"}, \"hoverinfo\": \"none\"}, {\"y\": [1.0, 0.0, null], \"mode\": \"lines\", \"x\": [0.7, 0.7, null], \"line\": {\"width\": 2, \"color\": \"rgb(0, 0, 0)\"}, \"hoverinfo\": \"none\"}, {\"y\": [1.0, 0.0, null], \"mode\": \"lines\", \"x\": [1.0, 0.7, null], \"line\": {\"width\": 2, \"color\": \"rgb(0, 0, 0)\"}, \"hoverinfo\": \"none\"}, {\"y\": [1.0, 0.0, null], \"mode\": \"lines\", \"x\": [1.0, 1.0, null], \"line\": {\"width\": 2, \"color\": \"rgb(0, 0, 0)\"}, \"hoverinfo\": \"none\"}, {\"y\": [0.0, 0.0, null], \"mode\": \"lines\", \"x\": [0.3, 0.7, null], \"line\": {\"width\": 2, \"color\": \"rgb(0, 0, 0)\"}, \"hoverinfo\": \"none\"}, {\"y\": [0.0, 0.0, null], \"mode\": \"lines\", \"x\": [0.7, 1.0, null], \"line\": {\"width\": 2, \"color\": \"rgb(0, 0, 0)\"}, \"hoverinfo\": \"none\"}, {\"y\": [1.0], \"mode\": \"markers+text\", \"marker\": {\"line\": {\"width\": 2, \"color\": \"rgb(0, 0, 0)\"}, \"color\": \"rgb(0, 0, 255)\", \"size\": 20}, \"textposition\": \"middle center\", \"x\": [0.0], \"hoverinfo\": \"none\", \"textfont\": {\"color\": \"rgb(255, 255, 255)\"}, \"text\": [\"1\"]}, {\"y\": [1.0], \"mode\": \"markers+text\", \"marker\": {\"line\": {\"width\": 2, \"color\": \"rgb(0, 0, 0)\"}, \"color\": \"rgb(0, 0, 255)\", \"size\": 20}, \"textposition\": \"middle center\", \"x\": [0.3], \"hoverinfo\": \"none\", \"textfont\": {\"color\": \"rgb(255, 255, 255)\"}, \"text\": [\"0\"]}, {\"y\": [1.0], \"mode\": \"markers+text\", \"marker\": {\"line\": {\"width\": 2, \"color\": \"rgb(0, 0, 0)\"}, \"color\": \"rgb(255, 0, 0)\", \"size\": 20}, \"textposition\": \"middle center\", \"x\": [0.7], \"hoverinfo\": \"none\", \"textfont\": {\"color\": \"rgb(255, 255, 255)\"}, \"text\": [\"2\"]}, {\"y\": [1.0], \"mode\": \"markers+text\", \"marker\": {\"line\": {\"width\": 2, \"color\": \"rgb(0, 0, 0)\"}, \"color\": \"rgb(255, 255, 255)\", \"size\": 20}, \"textposition\": \"middle center\", \"x\": [1.0], \"hoverinfo\": \"none\", \"textfont\": {\"color\": \"rgb(0, 0, 0)\"}, \"text\": [\"3\"]}, {\"y\": [0.0], \"mode\": \"markers+text\", \"marker\": {\"line\": {\"width\": 2, \"color\": \"rgb(0, 0, 0)\"}, \"color\": \"rgb(0, 0, 255)\", \"size\": 20}, \"textposition\": \"middle center\", \"x\": [0.0], \"hoverinfo\": \"none\", \"textfont\": {\"color\": \"rgb(255, 255, 255)\"}, \"text\": [\"2\"]}, {\"y\": [0.0], \"mode\": \"markers+text\", \"marker\": {\"line\": {\"width\": 2, \"color\": \"rgb(0, 0, 0)\"}, \"color\": \"rgb(0, 0, 255)\", \"size\": 20}, \"textposition\": \"middle center\", \"x\": [0.3], \"hoverinfo\": \"none\", \"textfont\": {\"color\": \"rgb(255, 255, 255)\"}, \"text\": [\"1\"]}, {\"y\": [0.0], \"mode\": \"markers+text\", \"marker\": {\"line\": {\"width\": 2, \"color\": \"rgb(0, 0, 0)\"}, \"color\": \"rgb(255, 255, 255)\", \"size\": 20}, \"textposition\": \"middle center\", \"x\": [0.7], \"hoverinfo\": \"none\", \"textfont\": {\"color\": \"rgb(0, 0, 0)\"}, \"text\": [\"2\"]}, {\"y\": [0.0], \"mode\": \"markers+text\", \"marker\": {\"line\": {\"width\": 2, \"color\": \"rgb(0, 0, 0)\"}, \"color\": \"rgb(255, 255, 255)\", \"size\": 20}, \"textposition\": \"middle center\", \"x\": [1.0], \"hoverinfo\": \"none\", \"textfont\": {\"color\": \"rgb(0, 0, 0)\"}, \"text\": [\"\\u221e\"]}], \"name\": 28}, {\"data\": [{\"y\": [1.0, 1.0, null], \"mode\": \"lines\", \"x\": [0.0, 0.3, null], \"line\": {\"width\": 2, \"color\": \"rgb(0, 0, 0)\"}, \"hoverinfo\": \"none\"}, {\"y\": [1.0, 0.0, null], \"mode\": \"lines\", \"x\": [0.0, 0.0, null], \"line\": {\"width\": 2, \"color\": \"rgb(0, 0, 0)\"}, \"hoverinfo\": \"none\"}, {\"y\": [1.0, 0.0, null], \"mode\": \"lines\", \"x\": [0.3, 0.3, null], \"line\": {\"width\": 2, \"color\": \"rgb(0, 0, 0)\"}, \"hoverinfo\": \"none\"}, {\"y\": [1.0, 1.0, null], \"mode\": \"lines\", \"x\": [0.7, 1.0, null], \"line\": {\"width\": 2, \"color\": \"rgb(0, 0, 0)\"}, \"hoverinfo\": \"none\"}, {\"y\": [1.0, 0.0, null], \"mode\": \"lines\", \"x\": [0.7, 0.3, null], \"line\": {\"width\": 2, \"color\": \"rgb(0, 0, 0)\"}, \"hoverinfo\": \"none\"}, {\"y\": [1.0, 0.0, null], \"mode\": \"lines\", \"x\": [0.7, 0.7, null], \"line\": {\"width\": 2, \"color\": \"rgb(0, 0, 0)\"}, \"hoverinfo\": \"none\"}, {\"y\": [1.0, 0.0, null], \"mode\": \"lines\", \"x\": [1.0, 0.7, null], \"line\": {\"width\": 2, \"color\": \"rgb(0, 0, 0)\"}, \"hoverinfo\": \"none\"}, {\"y\": [1.0, 0.0, null], \"mode\": \"lines\", \"x\": [1.0, 1.0, null], \"line\": {\"width\": 2, \"color\": \"rgb(0, 0, 0)\"}, \"hoverinfo\": \"none\"}, {\"y\": [0.0, 0.0, null], \"mode\": \"lines\", \"x\": [0.3, 0.7, null], \"line\": {\"width\": 2, \"color\": \"rgb(0, 0, 0)\"}, \"hoverinfo\": \"none\"}, {\"y\": [0.0, 0.0, null], \"mode\": \"lines\", \"x\": [0.7, 1.0, null], \"line\": {\"width\": 2, \"color\": \"rgb(0, 0, 0)\"}, \"hoverinfo\": \"none\"}, {\"y\": [1.0], \"mode\": \"markers+text\", \"marker\": {\"line\": {\"width\": 2, \"color\": \"rgb(0, 0, 0)\"}, \"color\": \"rgb(0, 0, 255)\", \"size\": 20}, \"textposition\": \"middle center\", \"x\": [0.0], \"hoverinfo\": \"none\", \"textfont\": {\"color\": \"rgb(255, 255, 255)\"}, \"text\": [\"1\"]}, {\"y\": [1.0], \"mode\": \"markers+text\", \"marker\": {\"line\": {\"width\": 2, \"color\": \"rgb(0, 0, 0)\"}, \"color\": \"rgb(0, 0, 255)\", \"size\": 20}, \"textposition\": \"middle center\", \"x\": [0.3], \"hoverinfo\": \"none\", \"textfont\": {\"color\": \"rgb(255, 255, 255)\"}, \"text\": [\"0\"]}, {\"y\": [1.0], \"mode\": \"markers+text\", \"marker\": {\"line\": {\"width\": 2, \"color\": \"rgb(0, 0, 0)\"}, \"color\": \"rgb(255, 0, 0)\", \"size\": 20}, \"textposition\": \"middle center\", \"x\": [0.7], \"hoverinfo\": \"none\", \"textfont\": {\"color\": \"rgb(255, 255, 255)\"}, \"text\": [\"2\"]}, {\"y\": [1.0], \"mode\": \"markers+text\", \"marker\": {\"line\": {\"width\": 2, \"color\": \"rgb(0, 0, 0)\"}, \"color\": \"rgb(255, 255, 255)\", \"size\": 20}, \"textposition\": \"middle center\", \"x\": [1.0], \"hoverinfo\": \"none\", \"textfont\": {\"color\": \"rgb(0, 0, 0)\"}, \"text\": [\"3\"]}, {\"y\": [0.0], \"mode\": \"markers+text\", \"marker\": {\"line\": {\"width\": 2, \"color\": \"rgb(0, 0, 0)\"}, \"color\": \"rgb(0, 0, 255)\", \"size\": 20}, \"textposition\": \"middle center\", \"x\": [0.0], \"hoverinfo\": \"none\", \"textfont\": {\"color\": \"rgb(255, 255, 255)\"}, \"text\": [\"2\"]}, {\"y\": [0.0], \"mode\": \"markers+text\", \"marker\": {\"line\": {\"width\": 2, \"color\": \"rgb(0, 0, 0)\"}, \"color\": \"rgb(0, 0, 255)\", \"size\": 20}, \"textposition\": \"middle center\", \"x\": [0.3], \"hoverinfo\": \"none\", \"textfont\": {\"color\": \"rgb(255, 255, 255)\"}, \"text\": [\"1\"]}, {\"y\": [0.0], \"mode\": \"markers+text\", \"marker\": {\"line\": {\"width\": 2, \"color\": \"rgb(0, 0, 0)\"}, \"color\": \"rgb(255, 255, 255)\", \"size\": 20}, \"textposition\": \"middle center\", \"x\": [0.7], \"hoverinfo\": \"none\", \"textfont\": {\"color\": \"rgb(0, 0, 0)\"}, \"text\": [\"2\"]}, {\"y\": [0.0], \"mode\": \"markers+text\", \"marker\": {\"line\": {\"width\": 2, \"color\": \"rgb(0, 0, 0)\"}, \"color\": \"rgb(255, 255, 255)\", \"size\": 20}, \"textposition\": \"middle center\", \"x\": [1.0], \"hoverinfo\": \"none\", \"textfont\": {\"color\": \"rgb(0, 0, 0)\"}, \"text\": [\"\\u221e\"]}], \"name\": 29}, {\"data\": [{\"y\": [1.0, 1.0, null], \"mode\": \"lines\", \"x\": [0.0, 0.3, null], \"line\": {\"width\": 2, \"color\": \"rgb(0, 0, 0)\"}, \"hoverinfo\": \"none\"}, {\"y\": [1.0, 0.0, null], \"mode\": \"lines\", \"x\": [0.0, 0.0, null], \"line\": {\"width\": 2, \"color\": \"rgb(0, 0, 0)\"}, \"hoverinfo\": \"none\"}, {\"y\": [1.0, 0.0, null], \"mode\": \"lines\", \"x\": [0.3, 0.3, null], \"line\": {\"width\": 2, \"color\": \"rgb(0, 0, 0)\"}, \"hoverinfo\": \"none\"}, {\"y\": [1.0, 1.0, null], \"mode\": \"lines\", \"x\": [0.7, 1.0, null], \"line\": {\"width\": 2, \"color\": \"rgb(0, 0, 0)\"}, \"hoverinfo\": \"none\"}, {\"y\": [1.0, 0.0, null], \"mode\": \"lines\", \"x\": [0.7, 0.3, null], \"line\": {\"width\": 2, \"color\": \"rgb(0, 0, 0)\"}, \"hoverinfo\": \"none\"}, {\"y\": [1.0, 0.0, null], \"mode\": \"lines\", \"x\": [0.7, 0.7, null], \"line\": {\"width\": 2, \"color\": \"rgb(255, 0, 0)\"}, \"hoverinfo\": \"none\"}, {\"y\": [1.0, 0.0, null], \"mode\": \"lines\", \"x\": [1.0, 0.7, null], \"line\": {\"width\": 2, \"color\": \"rgb(0, 0, 0)\"}, \"hoverinfo\": \"none\"}, {\"y\": [1.0, 0.0, null], \"mode\": \"lines\", \"x\": [1.0, 1.0, null], \"line\": {\"width\": 2, \"color\": \"rgb(0, 0, 0)\"}, \"hoverinfo\": \"none\"}, {\"y\": [0.0, 0.0, null], \"mode\": \"lines\", \"x\": [0.3, 0.7, null], \"line\": {\"width\": 2, \"color\": \"rgb(0, 0, 0)\"}, \"hoverinfo\": \"none\"}, {\"y\": [0.0, 0.0, null], \"mode\": \"lines\", \"x\": [0.7, 1.0, null], \"line\": {\"width\": 2, \"color\": \"rgb(0, 0, 0)\"}, \"hoverinfo\": \"none\"}, {\"y\": [1.0], \"mode\": \"markers+text\", \"marker\": {\"line\": {\"width\": 2, \"color\": \"rgb(0, 0, 0)\"}, \"color\": \"rgb(0, 0, 255)\", \"size\": 20}, \"textposition\": \"middle center\", \"x\": [0.0], \"hoverinfo\": \"none\", \"textfont\": {\"color\": \"rgb(255, 255, 255)\"}, \"text\": [\"1\"]}, {\"y\": [1.0], \"mode\": \"markers+text\", \"marker\": {\"line\": {\"width\": 2, \"color\": \"rgb(0, 0, 0)\"}, \"color\": \"rgb(0, 0, 255)\", \"size\": 20}, \"textposition\": \"middle center\", \"x\": [0.3], \"hoverinfo\": \"none\", \"textfont\": {\"color\": \"rgb(255, 255, 255)\"}, \"text\": [\"0\"]}, {\"y\": [1.0], \"mode\": \"markers+text\", \"marker\": {\"line\": {\"width\": 2, \"color\": \"rgb(0, 0, 0)\"}, \"color\": \"rgb(255, 0, 0)\", \"size\": 20}, \"textposition\": \"middle center\", \"x\": [0.7], \"hoverinfo\": \"none\", \"textfont\": {\"color\": \"rgb(255, 255, 255)\"}, \"text\": [\"2\"]}, {\"y\": [1.0], \"mode\": \"markers+text\", \"marker\": {\"line\": {\"width\": 2, \"color\": \"rgb(0, 0, 0)\"}, \"color\": \"rgb(255, 255, 255)\", \"size\": 20}, \"textposition\": \"middle center\", \"x\": [1.0], \"hoverinfo\": \"none\", \"textfont\": {\"color\": \"rgb(0, 0, 0)\"}, \"text\": [\"3\"]}, {\"y\": [0.0], \"mode\": \"markers+text\", \"marker\": {\"line\": {\"width\": 2, \"color\": \"rgb(0, 0, 0)\"}, \"color\": \"rgb(0, 0, 255)\", \"size\": 20}, \"textposition\": \"middle center\", \"x\": [0.0], \"hoverinfo\": \"none\", \"textfont\": {\"color\": \"rgb(255, 255, 255)\"}, \"text\": [\"2\"]}, {\"y\": [0.0], \"mode\": \"markers+text\", \"marker\": {\"line\": {\"width\": 2, \"color\": \"rgb(0, 0, 0)\"}, \"color\": \"rgb(0, 0, 255)\", \"size\": 20}, \"textposition\": \"middle center\", \"x\": [0.3], \"hoverinfo\": \"none\", \"textfont\": {\"color\": \"rgb(255, 255, 255)\"}, \"text\": [\"1\"]}, {\"y\": [0.0], \"mode\": \"markers+text\", \"marker\": {\"line\": {\"width\": 2, \"color\": \"rgb(0, 0, 0)\"}, \"color\": \"rgb(255, 255, 255)\", \"size\": 20}, \"textposition\": \"middle center\", \"x\": [0.7], \"hoverinfo\": \"none\", \"textfont\": {\"color\": \"rgb(0, 0, 0)\"}, \"text\": [\"2\"]}, {\"y\": [0.0], \"mode\": \"markers+text\", \"marker\": {\"line\": {\"width\": 2, \"color\": \"rgb(0, 0, 0)\"}, \"color\": \"rgb(255, 255, 255)\", \"size\": 20}, \"textposition\": \"middle center\", \"x\": [1.0], \"hoverinfo\": \"none\", \"textfont\": {\"color\": \"rgb(0, 0, 0)\"}, \"text\": [\"\\u221e\"]}], \"name\": 30}, {\"data\": [{\"y\": [1.0, 1.0, null], \"mode\": \"lines\", \"x\": [0.0, 0.3, null], \"line\": {\"width\": 2, \"color\": \"rgb(0, 0, 0)\"}, \"hoverinfo\": \"none\"}, {\"y\": [1.0, 0.0, null], \"mode\": \"lines\", \"x\": [0.0, 0.0, null], \"line\": {\"width\": 2, \"color\": \"rgb(0, 0, 0)\"}, \"hoverinfo\": \"none\"}, {\"y\": [1.0, 0.0, null], \"mode\": \"lines\", \"x\": [0.3, 0.3, null], \"line\": {\"width\": 2, \"color\": \"rgb(0, 0, 0)\"}, \"hoverinfo\": \"none\"}, {\"y\": [1.0, 1.0, null], \"mode\": \"lines\", \"x\": [0.7, 1.0, null], \"line\": {\"width\": 2, \"color\": \"rgb(0, 0, 0)\"}, \"hoverinfo\": \"none\"}, {\"y\": [1.0, 0.0, null], \"mode\": \"lines\", \"x\": [0.7, 0.3, null], \"line\": {\"width\": 2, \"color\": \"rgb(0, 0, 0)\"}, \"hoverinfo\": \"none\"}, {\"y\": [1.0, 0.0, null], \"mode\": \"lines\", \"x\": [0.7, 0.7, null], \"line\": {\"width\": 2, \"color\": \"rgb(0, 0, 0)\"}, \"hoverinfo\": \"none\"}, {\"y\": [1.0, 0.0, null], \"mode\": \"lines\", \"x\": [1.0, 0.7, null], \"line\": {\"width\": 2, \"color\": \"rgb(0, 0, 0)\"}, \"hoverinfo\": \"none\"}, {\"y\": [1.0, 0.0, null], \"mode\": \"lines\", \"x\": [1.0, 1.0, null], \"line\": {\"width\": 2, \"color\": \"rgb(0, 0, 0)\"}, \"hoverinfo\": \"none\"}, {\"y\": [0.0, 0.0, null], \"mode\": \"lines\", \"x\": [0.3, 0.7, null], \"line\": {\"width\": 2, \"color\": \"rgb(0, 0, 0)\"}, \"hoverinfo\": \"none\"}, {\"y\": [0.0, 0.0, null], \"mode\": \"lines\", \"x\": [0.7, 1.0, null], \"line\": {\"width\": 2, \"color\": \"rgb(0, 0, 0)\"}, \"hoverinfo\": \"none\"}, {\"y\": [1.0], \"mode\": \"markers+text\", \"marker\": {\"line\": {\"width\": 2, \"color\": \"rgb(0, 0, 0)\"}, \"color\": \"rgb(0, 0, 255)\", \"size\": 20}, \"textposition\": \"middle center\", \"x\": [0.0], \"hoverinfo\": \"none\", \"textfont\": {\"color\": \"rgb(255, 255, 255)\"}, \"text\": [\"1\"]}, {\"y\": [1.0], \"mode\": \"markers+text\", \"marker\": {\"line\": {\"width\": 2, \"color\": \"rgb(0, 0, 0)\"}, \"color\": \"rgb(0, 0, 255)\", \"size\": 20}, \"textposition\": \"middle center\", \"x\": [0.3], \"hoverinfo\": \"none\", \"textfont\": {\"color\": \"rgb(255, 255, 255)\"}, \"text\": [\"0\"]}, {\"y\": [1.0], \"mode\": \"markers+text\", \"marker\": {\"line\": {\"width\": 2, \"color\": \"rgb(0, 0, 0)\"}, \"color\": \"rgb(255, 0, 0)\", \"size\": 20}, \"textposition\": \"middle center\", \"x\": [0.7], \"hoverinfo\": \"none\", \"textfont\": {\"color\": \"rgb(255, 255, 255)\"}, \"text\": [\"2\"]}, {\"y\": [1.0], \"mode\": \"markers+text\", \"marker\": {\"line\": {\"width\": 2, \"color\": \"rgb(0, 0, 0)\"}, \"color\": \"rgb(255, 255, 255)\", \"size\": 20}, \"textposition\": \"middle center\", \"x\": [1.0], \"hoverinfo\": \"none\", \"textfont\": {\"color\": \"rgb(0, 0, 0)\"}, \"text\": [\"3\"]}, {\"y\": [0.0], \"mode\": \"markers+text\", \"marker\": {\"line\": {\"width\": 2, \"color\": \"rgb(0, 0, 0)\"}, \"color\": \"rgb(0, 0, 255)\", \"size\": 20}, \"textposition\": \"middle center\", \"x\": [0.0], \"hoverinfo\": \"none\", \"textfont\": {\"color\": \"rgb(255, 255, 255)\"}, \"text\": [\"2\"]}, {\"y\": [0.0], \"mode\": \"markers+text\", \"marker\": {\"line\": {\"width\": 2, \"color\": \"rgb(0, 0, 0)\"}, \"color\": \"rgb(0, 0, 255)\", \"size\": 20}, \"textposition\": \"middle center\", \"x\": [0.3], \"hoverinfo\": \"none\", \"textfont\": {\"color\": \"rgb(255, 255, 255)\"}, \"text\": [\"1\"]}, {\"y\": [0.0], \"mode\": \"markers+text\", \"marker\": {\"line\": {\"width\": 2, \"color\": \"rgb(0, 0, 0)\"}, \"color\": \"rgb(255, 255, 255)\", \"size\": 20}, \"textposition\": \"middle center\", \"x\": [0.7], \"hoverinfo\": \"none\", \"textfont\": {\"color\": \"rgb(0, 0, 0)\"}, \"text\": [\"2\"]}, {\"y\": [0.0], \"mode\": \"markers+text\", \"marker\": {\"line\": {\"width\": 2, \"color\": \"rgb(0, 0, 0)\"}, \"color\": \"rgb(255, 255, 255)\", \"size\": 20}, \"textposition\": \"middle center\", \"x\": [1.0], \"hoverinfo\": \"none\", \"textfont\": {\"color\": \"rgb(0, 0, 0)\"}, \"text\": [\"\\u221e\"]}], \"name\": 31}, {\"data\": [{\"y\": [1.0, 1.0, null], \"mode\": \"lines\", \"x\": [0.0, 0.3, null], \"line\": {\"width\": 2, \"color\": \"rgb(0, 0, 0)\"}, \"hoverinfo\": \"none\"}, {\"y\": [1.0, 0.0, null], \"mode\": \"lines\", \"x\": [0.0, 0.0, null], \"line\": {\"width\": 2, \"color\": \"rgb(0, 0, 0)\"}, \"hoverinfo\": \"none\"}, {\"y\": [1.0, 0.0, null], \"mode\": \"lines\", \"x\": [0.3, 0.3, null], \"line\": {\"width\": 2, \"color\": \"rgb(0, 0, 0)\"}, \"hoverinfo\": \"none\"}, {\"y\": [1.0, 1.0, null], \"mode\": \"lines\", \"x\": [0.7, 1.0, null], \"line\": {\"width\": 2, \"color\": \"rgb(0, 0, 0)\"}, \"hoverinfo\": \"none\"}, {\"y\": [1.0, 0.0, null], \"mode\": \"lines\", \"x\": [0.7, 0.3, null], \"line\": {\"width\": 2, \"color\": \"rgb(0, 0, 0)\"}, \"hoverinfo\": \"none\"}, {\"y\": [1.0, 0.0, null], \"mode\": \"lines\", \"x\": [0.7, 0.7, null], \"line\": {\"width\": 2, \"color\": \"rgb(0, 0, 0)\"}, \"hoverinfo\": \"none\"}, {\"y\": [1.0, 0.0, null], \"mode\": \"lines\", \"x\": [1.0, 0.7, null], \"line\": {\"width\": 2, \"color\": \"rgb(0, 0, 0)\"}, \"hoverinfo\": \"none\"}, {\"y\": [1.0, 0.0, null], \"mode\": \"lines\", \"x\": [1.0, 1.0, null], \"line\": {\"width\": 2, \"color\": \"rgb(0, 0, 0)\"}, \"hoverinfo\": \"none\"}, {\"y\": [0.0, 0.0, null], \"mode\": \"lines\", \"x\": [0.3, 0.7, null], \"line\": {\"width\": 2, \"color\": \"rgb(0, 0, 0)\"}, \"hoverinfo\": \"none\"}, {\"y\": [0.0, 0.0, null], \"mode\": \"lines\", \"x\": [0.7, 1.0, null], \"line\": {\"width\": 2, \"color\": \"rgb(0, 0, 0)\"}, \"hoverinfo\": \"none\"}, {\"y\": [1.0], \"mode\": \"markers+text\", \"marker\": {\"line\": {\"width\": 2, \"color\": \"rgb(0, 0, 0)\"}, \"color\": \"rgb(0, 0, 255)\", \"size\": 20}, \"textposition\": \"middle center\", \"x\": [0.0], \"hoverinfo\": \"none\", \"textfont\": {\"color\": \"rgb(255, 255, 255)\"}, \"text\": [\"1\"]}, {\"y\": [1.0], \"mode\": \"markers+text\", \"marker\": {\"line\": {\"width\": 2, \"color\": \"rgb(0, 0, 0)\"}, \"color\": \"rgb(0, 0, 255)\", \"size\": 20}, \"textposition\": \"middle center\", \"x\": [0.3], \"hoverinfo\": \"none\", \"textfont\": {\"color\": \"rgb(255, 255, 255)\"}, \"text\": [\"0\"]}, {\"y\": [1.0], \"mode\": \"markers+text\", \"marker\": {\"line\": {\"width\": 2, \"color\": \"rgb(0, 0, 0)\"}, \"color\": \"rgb(0, 0, 255)\", \"size\": 20}, \"textposition\": \"middle center\", \"x\": [0.7], \"hoverinfo\": \"none\", \"textfont\": {\"color\": \"rgb(255, 255, 255)\"}, \"text\": [\"2\"]}, {\"y\": [1.0], \"mode\": \"markers+text\", \"marker\": {\"line\": {\"width\": 2, \"color\": \"rgb(0, 0, 0)\"}, \"color\": \"rgb(255, 255, 255)\", \"size\": 20}, \"textposition\": \"middle center\", \"x\": [1.0], \"hoverinfo\": \"none\", \"textfont\": {\"color\": \"rgb(0, 0, 0)\"}, \"text\": [\"3\"]}, {\"y\": [0.0], \"mode\": \"markers+text\", \"marker\": {\"line\": {\"width\": 2, \"color\": \"rgb(0, 0, 0)\"}, \"color\": \"rgb(0, 0, 255)\", \"size\": 20}, \"textposition\": \"middle center\", \"x\": [0.0], \"hoverinfo\": \"none\", \"textfont\": {\"color\": \"rgb(255, 255, 255)\"}, \"text\": [\"2\"]}, {\"y\": [0.0], \"mode\": \"markers+text\", \"marker\": {\"line\": {\"width\": 2, \"color\": \"rgb(0, 0, 0)\"}, \"color\": \"rgb(0, 0, 255)\", \"size\": 20}, \"textposition\": \"middle center\", \"x\": [0.3], \"hoverinfo\": \"none\", \"textfont\": {\"color\": \"rgb(255, 255, 255)\"}, \"text\": [\"1\"]}, {\"y\": [0.0], \"mode\": \"markers+text\", \"marker\": {\"line\": {\"width\": 2, \"color\": \"rgb(0, 0, 0)\"}, \"color\": \"rgb(255, 255, 255)\", \"size\": 20}, \"textposition\": \"middle center\", \"x\": [0.7], \"hoverinfo\": \"none\", \"textfont\": {\"color\": \"rgb(0, 0, 0)\"}, \"text\": [\"2\"]}, {\"y\": [0.0], \"mode\": \"markers+text\", \"marker\": {\"line\": {\"width\": 2, \"color\": \"rgb(0, 0, 0)\"}, \"color\": \"rgb(255, 255, 255)\", \"size\": 20}, \"textposition\": \"middle center\", \"x\": [1.0], \"hoverinfo\": \"none\", \"textfont\": {\"color\": \"rgb(0, 0, 0)\"}, \"text\": [\"\\u221e\"]}], \"name\": 32}, {\"data\": [{\"y\": [1.0, 1.0, null], \"mode\": \"lines\", \"x\": [0.0, 0.3, null], \"line\": {\"width\": 2, \"color\": \"rgb(0, 0, 0)\"}, \"hoverinfo\": \"none\"}, {\"y\": [1.0, 0.0, null], \"mode\": \"lines\", \"x\": [0.0, 0.0, null], \"line\": {\"width\": 2, \"color\": \"rgb(0, 0, 0)\"}, \"hoverinfo\": \"none\"}, {\"y\": [1.0, 0.0, null], \"mode\": \"lines\", \"x\": [0.3, 0.3, null], \"line\": {\"width\": 2, \"color\": \"rgb(0, 0, 0)\"}, \"hoverinfo\": \"none\"}, {\"y\": [1.0, 1.0, null], \"mode\": \"lines\", \"x\": [0.7, 1.0, null], \"line\": {\"width\": 2, \"color\": \"rgb(0, 0, 0)\"}, \"hoverinfo\": \"none\"}, {\"y\": [1.0, 0.0, null], \"mode\": \"lines\", \"x\": [0.7, 0.3, null], \"line\": {\"width\": 2, \"color\": \"rgb(0, 0, 0)\"}, \"hoverinfo\": \"none\"}, {\"y\": [1.0, 0.0, null], \"mode\": \"lines\", \"x\": [0.7, 0.7, null], \"line\": {\"width\": 2, \"color\": \"rgb(0, 0, 0)\"}, \"hoverinfo\": \"none\"}, {\"y\": [1.0, 0.0, null], \"mode\": \"lines\", \"x\": [1.0, 0.7, null], \"line\": {\"width\": 2, \"color\": \"rgb(0, 0, 0)\"}, \"hoverinfo\": \"none\"}, {\"y\": [1.0, 0.0, null], \"mode\": \"lines\", \"x\": [1.0, 1.0, null], \"line\": {\"width\": 2, \"color\": \"rgb(0, 0, 0)\"}, \"hoverinfo\": \"none\"}, {\"y\": [0.0, 0.0, null], \"mode\": \"lines\", \"x\": [0.3, 0.7, null], \"line\": {\"width\": 2, \"color\": \"rgb(0, 0, 0)\"}, \"hoverinfo\": \"none\"}, {\"y\": [0.0, 0.0, null], \"mode\": \"lines\", \"x\": [0.7, 1.0, null], \"line\": {\"width\": 2, \"color\": \"rgb(0, 0, 0)\"}, \"hoverinfo\": \"none\"}, {\"y\": [1.0], \"mode\": \"markers+text\", \"marker\": {\"line\": {\"width\": 2, \"color\": \"rgb(0, 0, 0)\"}, \"color\": \"rgb(0, 0, 255)\", \"size\": 20}, \"textposition\": \"middle center\", \"x\": [0.0], \"hoverinfo\": \"none\", \"textfont\": {\"color\": \"rgb(255, 255, 255)\"}, \"text\": [\"1\"]}, {\"y\": [1.0], \"mode\": \"markers+text\", \"marker\": {\"line\": {\"width\": 2, \"color\": \"rgb(0, 0, 0)\"}, \"color\": \"rgb(0, 0, 255)\", \"size\": 20}, \"textposition\": \"middle center\", \"x\": [0.3], \"hoverinfo\": \"none\", \"textfont\": {\"color\": \"rgb(255, 255, 255)\"}, \"text\": [\"0\"]}, {\"y\": [1.0], \"mode\": \"markers+text\", \"marker\": {\"line\": {\"width\": 2, \"color\": \"rgb(0, 0, 0)\"}, \"color\": \"rgb(0, 0, 255)\", \"size\": 20}, \"textposition\": \"middle center\", \"x\": [0.7], \"hoverinfo\": \"none\", \"textfont\": {\"color\": \"rgb(255, 255, 255)\"}, \"text\": [\"2\"]}, {\"y\": [1.0], \"mode\": \"markers+text\", \"marker\": {\"line\": {\"width\": 2, \"color\": \"rgb(0, 0, 0)\"}, \"color\": \"rgb(255, 255, 255)\", \"size\": 20}, \"textposition\": \"middle center\", \"x\": [1.0], \"hoverinfo\": \"none\", \"textfont\": {\"color\": \"rgb(0, 0, 0)\"}, \"text\": [\"3\"]}, {\"y\": [0.0], \"mode\": \"markers+text\", \"marker\": {\"line\": {\"width\": 2, \"color\": \"rgb(0, 0, 0)\"}, \"color\": \"rgb(0, 0, 255)\", \"size\": 20}, \"textposition\": \"middle center\", \"x\": [0.0], \"hoverinfo\": \"none\", \"textfont\": {\"color\": \"rgb(255, 255, 255)\"}, \"text\": [\"2\"]}, {\"y\": [0.0], \"mode\": \"markers+text\", \"marker\": {\"line\": {\"width\": 2, \"color\": \"rgb(0, 0, 0)\"}, \"color\": \"rgb(0, 0, 255)\", \"size\": 20}, \"textposition\": \"middle center\", \"x\": [0.3], \"hoverinfo\": \"none\", \"textfont\": {\"color\": \"rgb(255, 255, 255)\"}, \"text\": [\"1\"]}, {\"y\": [0.0], \"mode\": \"markers+text\", \"marker\": {\"line\": {\"width\": 2, \"color\": \"rgb(0, 0, 0)\"}, \"color\": \"rgb(255, 0, 0)\", \"size\": 20}, \"textposition\": \"middle center\", \"x\": [0.7], \"hoverinfo\": \"none\", \"textfont\": {\"color\": \"rgb(255, 255, 255)\"}, \"text\": [\"2\"]}, {\"y\": [0.0], \"mode\": \"markers+text\", \"marker\": {\"line\": {\"width\": 2, \"color\": \"rgb(0, 0, 0)\"}, \"color\": \"rgb(255, 255, 255)\", \"size\": 20}, \"textposition\": \"middle center\", \"x\": [1.0], \"hoverinfo\": \"none\", \"textfont\": {\"color\": \"rgb(0, 0, 0)\"}, \"text\": [\"\\u221e\"]}], \"name\": 33}, {\"data\": [{\"y\": [1.0, 1.0, null], \"mode\": \"lines\", \"x\": [0.0, 0.3, null], \"line\": {\"width\": 2, \"color\": \"rgb(0, 0, 0)\"}, \"hoverinfo\": \"none\"}, {\"y\": [1.0, 0.0, null], \"mode\": \"lines\", \"x\": [0.0, 0.0, null], \"line\": {\"width\": 2, \"color\": \"rgb(0, 0, 0)\"}, \"hoverinfo\": \"none\"}, {\"y\": [1.0, 0.0, null], \"mode\": \"lines\", \"x\": [0.3, 0.3, null], \"line\": {\"width\": 2, \"color\": \"rgb(0, 0, 0)\"}, \"hoverinfo\": \"none\"}, {\"y\": [1.0, 1.0, null], \"mode\": \"lines\", \"x\": [0.7, 1.0, null], \"line\": {\"width\": 2, \"color\": \"rgb(0, 0, 0)\"}, \"hoverinfo\": \"none\"}, {\"y\": [1.0, 0.0, null], \"mode\": \"lines\", \"x\": [0.7, 0.3, null], \"line\": {\"width\": 2, \"color\": \"rgb(0, 0, 0)\"}, \"hoverinfo\": \"none\"}, {\"y\": [1.0, 0.0, null], \"mode\": \"lines\", \"x\": [0.7, 0.7, null], \"line\": {\"width\": 2, \"color\": \"rgb(255, 0, 0)\"}, \"hoverinfo\": \"none\"}, {\"y\": [1.0, 0.0, null], \"mode\": \"lines\", \"x\": [1.0, 0.7, null], \"line\": {\"width\": 2, \"color\": \"rgb(0, 0, 0)\"}, \"hoverinfo\": \"none\"}, {\"y\": [1.0, 0.0, null], \"mode\": \"lines\", \"x\": [1.0, 1.0, null], \"line\": {\"width\": 2, \"color\": \"rgb(0, 0, 0)\"}, \"hoverinfo\": \"none\"}, {\"y\": [0.0, 0.0, null], \"mode\": \"lines\", \"x\": [0.3, 0.7, null], \"line\": {\"width\": 2, \"color\": \"rgb(0, 0, 0)\"}, \"hoverinfo\": \"none\"}, {\"y\": [0.0, 0.0, null], \"mode\": \"lines\", \"x\": [0.7, 1.0, null], \"line\": {\"width\": 2, \"color\": \"rgb(0, 0, 0)\"}, \"hoverinfo\": \"none\"}, {\"y\": [1.0], \"mode\": \"markers+text\", \"marker\": {\"line\": {\"width\": 2, \"color\": \"rgb(0, 0, 0)\"}, \"color\": \"rgb(0, 0, 255)\", \"size\": 20}, \"textposition\": \"middle center\", \"x\": [0.0], \"hoverinfo\": \"none\", \"textfont\": {\"color\": \"rgb(255, 255, 255)\"}, \"text\": [\"1\"]}, {\"y\": [1.0], \"mode\": \"markers+text\", \"marker\": {\"line\": {\"width\": 2, \"color\": \"rgb(0, 0, 0)\"}, \"color\": \"rgb(0, 0, 255)\", \"size\": 20}, \"textposition\": \"middle center\", \"x\": [0.3], \"hoverinfo\": \"none\", \"textfont\": {\"color\": \"rgb(255, 255, 255)\"}, \"text\": [\"0\"]}, {\"y\": [1.0], \"mode\": \"markers+text\", \"marker\": {\"line\": {\"width\": 2, \"color\": \"rgb(0, 0, 0)\"}, \"color\": \"rgb(0, 0, 255)\", \"size\": 20}, \"textposition\": \"middle center\", \"x\": [0.7], \"hoverinfo\": \"none\", \"textfont\": {\"color\": \"rgb(255, 255, 255)\"}, \"text\": [\"2\"]}, {\"y\": [1.0], \"mode\": \"markers+text\", \"marker\": {\"line\": {\"width\": 2, \"color\": \"rgb(0, 0, 0)\"}, \"color\": \"rgb(255, 255, 255)\", \"size\": 20}, \"textposition\": \"middle center\", \"x\": [1.0], \"hoverinfo\": \"none\", \"textfont\": {\"color\": \"rgb(0, 0, 0)\"}, \"text\": [\"3\"]}, {\"y\": [0.0], \"mode\": \"markers+text\", \"marker\": {\"line\": {\"width\": 2, \"color\": \"rgb(0, 0, 0)\"}, \"color\": \"rgb(0, 0, 255)\", \"size\": 20}, \"textposition\": \"middle center\", \"x\": [0.0], \"hoverinfo\": \"none\", \"textfont\": {\"color\": \"rgb(255, 255, 255)\"}, \"text\": [\"2\"]}, {\"y\": [0.0], \"mode\": \"markers+text\", \"marker\": {\"line\": {\"width\": 2, \"color\": \"rgb(0, 0, 0)\"}, \"color\": \"rgb(0, 0, 255)\", \"size\": 20}, \"textposition\": \"middle center\", \"x\": [0.3], \"hoverinfo\": \"none\", \"textfont\": {\"color\": \"rgb(255, 255, 255)\"}, \"text\": [\"1\"]}, {\"y\": [0.0], \"mode\": \"markers+text\", \"marker\": {\"line\": {\"width\": 2, \"color\": \"rgb(0, 0, 0)\"}, \"color\": \"rgb(255, 0, 0)\", \"size\": 20}, \"textposition\": \"middle center\", \"x\": [0.7], \"hoverinfo\": \"none\", \"textfont\": {\"color\": \"rgb(255, 255, 255)\"}, \"text\": [\"2\"]}, {\"y\": [0.0], \"mode\": \"markers+text\", \"marker\": {\"line\": {\"width\": 2, \"color\": \"rgb(0, 0, 0)\"}, \"color\": \"rgb(255, 255, 255)\", \"size\": 20}, \"textposition\": \"middle center\", \"x\": [1.0], \"hoverinfo\": \"none\", \"textfont\": {\"color\": \"rgb(0, 0, 0)\"}, \"text\": [\"\\u221e\"]}], \"name\": 34}, {\"data\": [{\"y\": [1.0, 1.0, null], \"mode\": \"lines\", \"x\": [0.0, 0.3, null], \"line\": {\"width\": 2, \"color\": \"rgb(0, 0, 0)\"}, \"hoverinfo\": \"none\"}, {\"y\": [1.0, 0.0, null], \"mode\": \"lines\", \"x\": [0.0, 0.0, null], \"line\": {\"width\": 2, \"color\": \"rgb(0, 0, 0)\"}, \"hoverinfo\": \"none\"}, {\"y\": [1.0, 0.0, null], \"mode\": \"lines\", \"x\": [0.3, 0.3, null], \"line\": {\"width\": 2, \"color\": \"rgb(0, 0, 0)\"}, \"hoverinfo\": \"none\"}, {\"y\": [1.0, 1.0, null], \"mode\": \"lines\", \"x\": [0.7, 1.0, null], \"line\": {\"width\": 2, \"color\": \"rgb(0, 0, 0)\"}, \"hoverinfo\": \"none\"}, {\"y\": [1.0, 0.0, null], \"mode\": \"lines\", \"x\": [0.7, 0.3, null], \"line\": {\"width\": 2, \"color\": \"rgb(0, 0, 0)\"}, \"hoverinfo\": \"none\"}, {\"y\": [1.0, 0.0, null], \"mode\": \"lines\", \"x\": [0.7, 0.7, null], \"line\": {\"width\": 2, \"color\": \"rgb(0, 0, 0)\"}, \"hoverinfo\": \"none\"}, {\"y\": [1.0, 0.0, null], \"mode\": \"lines\", \"x\": [1.0, 0.7, null], \"line\": {\"width\": 2, \"color\": \"rgb(0, 0, 0)\"}, \"hoverinfo\": \"none\"}, {\"y\": [1.0, 0.0, null], \"mode\": \"lines\", \"x\": [1.0, 1.0, null], \"line\": {\"width\": 2, \"color\": \"rgb(0, 0, 0)\"}, \"hoverinfo\": \"none\"}, {\"y\": [0.0, 0.0, null], \"mode\": \"lines\", \"x\": [0.3, 0.7, null], \"line\": {\"width\": 2, \"color\": \"rgb(0, 0, 0)\"}, \"hoverinfo\": \"none\"}, {\"y\": [0.0, 0.0, null], \"mode\": \"lines\", \"x\": [0.7, 1.0, null], \"line\": {\"width\": 2, \"color\": \"rgb(0, 0, 0)\"}, \"hoverinfo\": \"none\"}, {\"y\": [1.0], \"mode\": \"markers+text\", \"marker\": {\"line\": {\"width\": 2, \"color\": \"rgb(0, 0, 0)\"}, \"color\": \"rgb(0, 0, 255)\", \"size\": 20}, \"textposition\": \"middle center\", \"x\": [0.0], \"hoverinfo\": \"none\", \"textfont\": {\"color\": \"rgb(255, 255, 255)\"}, \"text\": [\"1\"]}, {\"y\": [1.0], \"mode\": \"markers+text\", \"marker\": {\"line\": {\"width\": 2, \"color\": \"rgb(0, 0, 0)\"}, \"color\": \"rgb(0, 0, 255)\", \"size\": 20}, \"textposition\": \"middle center\", \"x\": [0.3], \"hoverinfo\": \"none\", \"textfont\": {\"color\": \"rgb(255, 255, 255)\"}, \"text\": [\"0\"]}, {\"y\": [1.0], \"mode\": \"markers+text\", \"marker\": {\"line\": {\"width\": 2, \"color\": \"rgb(0, 0, 0)\"}, \"color\": \"rgb(0, 0, 255)\", \"size\": 20}, \"textposition\": \"middle center\", \"x\": [0.7], \"hoverinfo\": \"none\", \"textfont\": {\"color\": \"rgb(255, 255, 255)\"}, \"text\": [\"2\"]}, {\"y\": [1.0], \"mode\": \"markers+text\", \"marker\": {\"line\": {\"width\": 2, \"color\": \"rgb(0, 0, 0)\"}, \"color\": \"rgb(255, 255, 255)\", \"size\": 20}, \"textposition\": \"middle center\", \"x\": [1.0], \"hoverinfo\": \"none\", \"textfont\": {\"color\": \"rgb(0, 0, 0)\"}, \"text\": [\"3\"]}, {\"y\": [0.0], \"mode\": \"markers+text\", \"marker\": {\"line\": {\"width\": 2, \"color\": \"rgb(0, 0, 0)\"}, \"color\": \"rgb(0, 0, 255)\", \"size\": 20}, \"textposition\": \"middle center\", \"x\": [0.0], \"hoverinfo\": \"none\", \"textfont\": {\"color\": \"rgb(255, 255, 255)\"}, \"text\": [\"2\"]}, {\"y\": [0.0], \"mode\": \"markers+text\", \"marker\": {\"line\": {\"width\": 2, \"color\": \"rgb(0, 0, 0)\"}, \"color\": \"rgb(0, 0, 255)\", \"size\": 20}, \"textposition\": \"middle center\", \"x\": [0.3], \"hoverinfo\": \"none\", \"textfont\": {\"color\": \"rgb(255, 255, 255)\"}, \"text\": [\"1\"]}, {\"y\": [0.0], \"mode\": \"markers+text\", \"marker\": {\"line\": {\"width\": 2, \"color\": \"rgb(0, 0, 0)\"}, \"color\": \"rgb(255, 0, 0)\", \"size\": 20}, \"textposition\": \"middle center\", \"x\": [0.7], \"hoverinfo\": \"none\", \"textfont\": {\"color\": \"rgb(255, 255, 255)\"}, \"text\": [\"2\"]}, {\"y\": [0.0], \"mode\": \"markers+text\", \"marker\": {\"line\": {\"width\": 2, \"color\": \"rgb(0, 0, 0)\"}, \"color\": \"rgb(255, 255, 255)\", \"size\": 20}, \"textposition\": \"middle center\", \"x\": [1.0], \"hoverinfo\": \"none\", \"textfont\": {\"color\": \"rgb(0, 0, 0)\"}, \"text\": [\"\\u221e\"]}], \"name\": 35}, {\"data\": [{\"y\": [1.0, 1.0, null], \"mode\": \"lines\", \"x\": [0.0, 0.3, null], \"line\": {\"width\": 2, \"color\": \"rgb(0, 0, 0)\"}, \"hoverinfo\": \"none\"}, {\"y\": [1.0, 0.0, null], \"mode\": \"lines\", \"x\": [0.0, 0.0, null], \"line\": {\"width\": 2, \"color\": \"rgb(0, 0, 0)\"}, \"hoverinfo\": \"none\"}, {\"y\": [1.0, 0.0, null], \"mode\": \"lines\", \"x\": [0.3, 0.3, null], \"line\": {\"width\": 2, \"color\": \"rgb(0, 0, 0)\"}, \"hoverinfo\": \"none\"}, {\"y\": [1.0, 1.0, null], \"mode\": \"lines\", \"x\": [0.7, 1.0, null], \"line\": {\"width\": 2, \"color\": \"rgb(0, 0, 0)\"}, \"hoverinfo\": \"none\"}, {\"y\": [1.0, 0.0, null], \"mode\": \"lines\", \"x\": [0.7, 0.3, null], \"line\": {\"width\": 2, \"color\": \"rgb(0, 0, 0)\"}, \"hoverinfo\": \"none\"}, {\"y\": [1.0, 0.0, null], \"mode\": \"lines\", \"x\": [0.7, 0.7, null], \"line\": {\"width\": 2, \"color\": \"rgb(0, 0, 0)\"}, \"hoverinfo\": \"none\"}, {\"y\": [1.0, 0.0, null], \"mode\": \"lines\", \"x\": [1.0, 0.7, null], \"line\": {\"width\": 2, \"color\": \"rgb(255, 0, 0)\"}, \"hoverinfo\": \"none\"}, {\"y\": [1.0, 0.0, null], \"mode\": \"lines\", \"x\": [1.0, 1.0, null], \"line\": {\"width\": 2, \"color\": \"rgb(0, 0, 0)\"}, \"hoverinfo\": \"none\"}, {\"y\": [0.0, 0.0, null], \"mode\": \"lines\", \"x\": [0.3, 0.7, null], \"line\": {\"width\": 2, \"color\": \"rgb(0, 0, 0)\"}, \"hoverinfo\": \"none\"}, {\"y\": [0.0, 0.0, null], \"mode\": \"lines\", \"x\": [0.7, 1.0, null], \"line\": {\"width\": 2, \"color\": \"rgb(0, 0, 0)\"}, \"hoverinfo\": \"none\"}, {\"y\": [1.0], \"mode\": \"markers+text\", \"marker\": {\"line\": {\"width\": 2, \"color\": \"rgb(0, 0, 0)\"}, \"color\": \"rgb(0, 0, 255)\", \"size\": 20}, \"textposition\": \"middle center\", \"x\": [0.0], \"hoverinfo\": \"none\", \"textfont\": {\"color\": \"rgb(255, 255, 255)\"}, \"text\": [\"1\"]}, {\"y\": [1.0], \"mode\": \"markers+text\", \"marker\": {\"line\": {\"width\": 2, \"color\": \"rgb(0, 0, 0)\"}, \"color\": \"rgb(0, 0, 255)\", \"size\": 20}, \"textposition\": \"middle center\", \"x\": [0.3], \"hoverinfo\": \"none\", \"textfont\": {\"color\": \"rgb(255, 255, 255)\"}, \"text\": [\"0\"]}, {\"y\": [1.0], \"mode\": \"markers+text\", \"marker\": {\"line\": {\"width\": 2, \"color\": \"rgb(0, 0, 0)\"}, \"color\": \"rgb(0, 0, 255)\", \"size\": 20}, \"textposition\": \"middle center\", \"x\": [0.7], \"hoverinfo\": \"none\", \"textfont\": {\"color\": \"rgb(255, 255, 255)\"}, \"text\": [\"2\"]}, {\"y\": [1.0], \"mode\": \"markers+text\", \"marker\": {\"line\": {\"width\": 2, \"color\": \"rgb(0, 0, 0)\"}, \"color\": \"rgb(255, 255, 255)\", \"size\": 20}, \"textposition\": \"middle center\", \"x\": [1.0], \"hoverinfo\": \"none\", \"textfont\": {\"color\": \"rgb(0, 0, 0)\"}, \"text\": [\"3\"]}, {\"y\": [0.0], \"mode\": \"markers+text\", \"marker\": {\"line\": {\"width\": 2, \"color\": \"rgb(0, 0, 0)\"}, \"color\": \"rgb(0, 0, 255)\", \"size\": 20}, \"textposition\": \"middle center\", \"x\": [0.0], \"hoverinfo\": \"none\", \"textfont\": {\"color\": \"rgb(255, 255, 255)\"}, \"text\": [\"2\"]}, {\"y\": [0.0], \"mode\": \"markers+text\", \"marker\": {\"line\": {\"width\": 2, \"color\": \"rgb(0, 0, 0)\"}, \"color\": \"rgb(0, 0, 255)\", \"size\": 20}, \"textposition\": \"middle center\", \"x\": [0.3], \"hoverinfo\": \"none\", \"textfont\": {\"color\": \"rgb(255, 255, 255)\"}, \"text\": [\"1\"]}, {\"y\": [0.0], \"mode\": \"markers+text\", \"marker\": {\"line\": {\"width\": 2, \"color\": \"rgb(0, 0, 0)\"}, \"color\": \"rgb(255, 0, 0)\", \"size\": 20}, \"textposition\": \"middle center\", \"x\": [0.7], \"hoverinfo\": \"none\", \"textfont\": {\"color\": \"rgb(255, 255, 255)\"}, \"text\": [\"2\"]}, {\"y\": [0.0], \"mode\": \"markers+text\", \"marker\": {\"line\": {\"width\": 2, \"color\": \"rgb(0, 0, 0)\"}, \"color\": \"rgb(255, 255, 255)\", \"size\": 20}, \"textposition\": \"middle center\", \"x\": [1.0], \"hoverinfo\": \"none\", \"textfont\": {\"color\": \"rgb(0, 0, 0)\"}, \"text\": [\"\\u221e\"]}], \"name\": 36}, {\"data\": [{\"y\": [1.0, 1.0, null], \"mode\": \"lines\", \"x\": [0.0, 0.3, null], \"line\": {\"width\": 2, \"color\": \"rgb(0, 0, 0)\"}, \"hoverinfo\": \"none\"}, {\"y\": [1.0, 0.0, null], \"mode\": \"lines\", \"x\": [0.0, 0.0, null], \"line\": {\"width\": 2, \"color\": \"rgb(0, 0, 0)\"}, \"hoverinfo\": \"none\"}, {\"y\": [1.0, 0.0, null], \"mode\": \"lines\", \"x\": [0.3, 0.3, null], \"line\": {\"width\": 2, \"color\": \"rgb(0, 0, 0)\"}, \"hoverinfo\": \"none\"}, {\"y\": [1.0, 1.0, null], \"mode\": \"lines\", \"x\": [0.7, 1.0, null], \"line\": {\"width\": 2, \"color\": \"rgb(0, 0, 0)\"}, \"hoverinfo\": \"none\"}, {\"y\": [1.0, 0.0, null], \"mode\": \"lines\", \"x\": [0.7, 0.3, null], \"line\": {\"width\": 2, \"color\": \"rgb(0, 0, 0)\"}, \"hoverinfo\": \"none\"}, {\"y\": [1.0, 0.0, null], \"mode\": \"lines\", \"x\": [0.7, 0.7, null], \"line\": {\"width\": 2, \"color\": \"rgb(0, 0, 0)\"}, \"hoverinfo\": \"none\"}, {\"y\": [1.0, 0.0, null], \"mode\": \"lines\", \"x\": [1.0, 0.7, null], \"line\": {\"width\": 2, \"color\": \"rgb(0, 0, 0)\"}, \"hoverinfo\": \"none\"}, {\"y\": [1.0, 0.0, null], \"mode\": \"lines\", \"x\": [1.0, 1.0, null], \"line\": {\"width\": 2, \"color\": \"rgb(0, 0, 0)\"}, \"hoverinfo\": \"none\"}, {\"y\": [0.0, 0.0, null], \"mode\": \"lines\", \"x\": [0.3, 0.7, null], \"line\": {\"width\": 2, \"color\": \"rgb(0, 0, 0)\"}, \"hoverinfo\": \"none\"}, {\"y\": [0.0, 0.0, null], \"mode\": \"lines\", \"x\": [0.7, 1.0, null], \"line\": {\"width\": 2, \"color\": \"rgb(0, 0, 0)\"}, \"hoverinfo\": \"none\"}, {\"y\": [1.0], \"mode\": \"markers+text\", \"marker\": {\"line\": {\"width\": 2, \"color\": \"rgb(0, 0, 0)\"}, \"color\": \"rgb(0, 0, 255)\", \"size\": 20}, \"textposition\": \"middle center\", \"x\": [0.0], \"hoverinfo\": \"none\", \"textfont\": {\"color\": \"rgb(255, 255, 255)\"}, \"text\": [\"1\"]}, {\"y\": [1.0], \"mode\": \"markers+text\", \"marker\": {\"line\": {\"width\": 2, \"color\": \"rgb(0, 0, 0)\"}, \"color\": \"rgb(0, 0, 255)\", \"size\": 20}, \"textposition\": \"middle center\", \"x\": [0.3], \"hoverinfo\": \"none\", \"textfont\": {\"color\": \"rgb(255, 255, 255)\"}, \"text\": [\"0\"]}, {\"y\": [1.0], \"mode\": \"markers+text\", \"marker\": {\"line\": {\"width\": 2, \"color\": \"rgb(0, 0, 0)\"}, \"color\": \"rgb(0, 0, 255)\", \"size\": 20}, \"textposition\": \"middle center\", \"x\": [0.7], \"hoverinfo\": \"none\", \"textfont\": {\"color\": \"rgb(255, 255, 255)\"}, \"text\": [\"2\"]}, {\"y\": [1.0], \"mode\": \"markers+text\", \"marker\": {\"line\": {\"width\": 2, \"color\": \"rgb(0, 0, 0)\"}, \"color\": \"rgb(255, 255, 255)\", \"size\": 20}, \"textposition\": \"middle center\", \"x\": [1.0], \"hoverinfo\": \"none\", \"textfont\": {\"color\": \"rgb(0, 0, 0)\"}, \"text\": [\"3\"]}, {\"y\": [0.0], \"mode\": \"markers+text\", \"marker\": {\"line\": {\"width\": 2, \"color\": \"rgb(0, 0, 0)\"}, \"color\": \"rgb(0, 0, 255)\", \"size\": 20}, \"textposition\": \"middle center\", \"x\": [0.0], \"hoverinfo\": \"none\", \"textfont\": {\"color\": \"rgb(255, 255, 255)\"}, \"text\": [\"2\"]}, {\"y\": [0.0], \"mode\": \"markers+text\", \"marker\": {\"line\": {\"width\": 2, \"color\": \"rgb(0, 0, 0)\"}, \"color\": \"rgb(0, 0, 255)\", \"size\": 20}, \"textposition\": \"middle center\", \"x\": [0.3], \"hoverinfo\": \"none\", \"textfont\": {\"color\": \"rgb(255, 255, 255)\"}, \"text\": [\"1\"]}, {\"y\": [0.0], \"mode\": \"markers+text\", \"marker\": {\"line\": {\"width\": 2, \"color\": \"rgb(0, 0, 0)\"}, \"color\": \"rgb(255, 0, 0)\", \"size\": 20}, \"textposition\": \"middle center\", \"x\": [0.7], \"hoverinfo\": \"none\", \"textfont\": {\"color\": \"rgb(255, 255, 255)\"}, \"text\": [\"2\"]}, {\"y\": [0.0], \"mode\": \"markers+text\", \"marker\": {\"line\": {\"width\": 2, \"color\": \"rgb(0, 0, 0)\"}, \"color\": \"rgb(255, 255, 255)\", \"size\": 20}, \"textposition\": \"middle center\", \"x\": [1.0], \"hoverinfo\": \"none\", \"textfont\": {\"color\": \"rgb(0, 0, 0)\"}, \"text\": [\"\\u221e\"]}], \"name\": 37}, {\"data\": [{\"y\": [1.0, 1.0, null], \"mode\": \"lines\", \"x\": [0.0, 0.3, null], \"line\": {\"width\": 2, \"color\": \"rgb(0, 0, 0)\"}, \"hoverinfo\": \"none\"}, {\"y\": [1.0, 0.0, null], \"mode\": \"lines\", \"x\": [0.0, 0.0, null], \"line\": {\"width\": 2, \"color\": \"rgb(0, 0, 0)\"}, \"hoverinfo\": \"none\"}, {\"y\": [1.0, 0.0, null], \"mode\": \"lines\", \"x\": [0.3, 0.3, null], \"line\": {\"width\": 2, \"color\": \"rgb(0, 0, 0)\"}, \"hoverinfo\": \"none\"}, {\"y\": [1.0, 1.0, null], \"mode\": \"lines\", \"x\": [0.7, 1.0, null], \"line\": {\"width\": 2, \"color\": \"rgb(0, 0, 0)\"}, \"hoverinfo\": \"none\"}, {\"y\": [1.0, 0.0, null], \"mode\": \"lines\", \"x\": [0.7, 0.3, null], \"line\": {\"width\": 2, \"color\": \"rgb(0, 0, 0)\"}, \"hoverinfo\": \"none\"}, {\"y\": [1.0, 0.0, null], \"mode\": \"lines\", \"x\": [0.7, 0.7, null], \"line\": {\"width\": 2, \"color\": \"rgb(0, 0, 0)\"}, \"hoverinfo\": \"none\"}, {\"y\": [1.0, 0.0, null], \"mode\": \"lines\", \"x\": [1.0, 0.7, null], \"line\": {\"width\": 2, \"color\": \"rgb(0, 0, 0)\"}, \"hoverinfo\": \"none\"}, {\"y\": [1.0, 0.0, null], \"mode\": \"lines\", \"x\": [1.0, 1.0, null], \"line\": {\"width\": 2, \"color\": \"rgb(0, 0, 0)\"}, \"hoverinfo\": \"none\"}, {\"y\": [0.0, 0.0, null], \"mode\": \"lines\", \"x\": [0.3, 0.7, null], \"line\": {\"width\": 2, \"color\": \"rgb(255, 0, 0)\"}, \"hoverinfo\": \"none\"}, {\"y\": [0.0, 0.0, null], \"mode\": \"lines\", \"x\": [0.7, 1.0, null], \"line\": {\"width\": 2, \"color\": \"rgb(0, 0, 0)\"}, \"hoverinfo\": \"none\"}, {\"y\": [1.0], \"mode\": \"markers+text\", \"marker\": {\"line\": {\"width\": 2, \"color\": \"rgb(0, 0, 0)\"}, \"color\": \"rgb(0, 0, 255)\", \"size\": 20}, \"textposition\": \"middle center\", \"x\": [0.0], \"hoverinfo\": \"none\", \"textfont\": {\"color\": \"rgb(255, 255, 255)\"}, \"text\": [\"1\"]}, {\"y\": [1.0], \"mode\": \"markers+text\", \"marker\": {\"line\": {\"width\": 2, \"color\": \"rgb(0, 0, 0)\"}, \"color\": \"rgb(0, 0, 255)\", \"size\": 20}, \"textposition\": \"middle center\", \"x\": [0.3], \"hoverinfo\": \"none\", \"textfont\": {\"color\": \"rgb(255, 255, 255)\"}, \"text\": [\"0\"]}, {\"y\": [1.0], \"mode\": \"markers+text\", \"marker\": {\"line\": {\"width\": 2, \"color\": \"rgb(0, 0, 0)\"}, \"color\": \"rgb(0, 0, 255)\", \"size\": 20}, \"textposition\": \"middle center\", \"x\": [0.7], \"hoverinfo\": \"none\", \"textfont\": {\"color\": \"rgb(255, 255, 255)\"}, \"text\": [\"2\"]}, {\"y\": [1.0], \"mode\": \"markers+text\", \"marker\": {\"line\": {\"width\": 2, \"color\": \"rgb(0, 0, 0)\"}, \"color\": \"rgb(255, 255, 255)\", \"size\": 20}, \"textposition\": \"middle center\", \"x\": [1.0], \"hoverinfo\": \"none\", \"textfont\": {\"color\": \"rgb(0, 0, 0)\"}, \"text\": [\"3\"]}, {\"y\": [0.0], \"mode\": \"markers+text\", \"marker\": {\"line\": {\"width\": 2, \"color\": \"rgb(0, 0, 0)\"}, \"color\": \"rgb(0, 0, 255)\", \"size\": 20}, \"textposition\": \"middle center\", \"x\": [0.0], \"hoverinfo\": \"none\", \"textfont\": {\"color\": \"rgb(255, 255, 255)\"}, \"text\": [\"2\"]}, {\"y\": [0.0], \"mode\": \"markers+text\", \"marker\": {\"line\": {\"width\": 2, \"color\": \"rgb(0, 0, 0)\"}, \"color\": \"rgb(0, 0, 255)\", \"size\": 20}, \"textposition\": \"middle center\", \"x\": [0.3], \"hoverinfo\": \"none\", \"textfont\": {\"color\": \"rgb(255, 255, 255)\"}, \"text\": [\"1\"]}, {\"y\": [0.0], \"mode\": \"markers+text\", \"marker\": {\"line\": {\"width\": 2, \"color\": \"rgb(0, 0, 0)\"}, \"color\": \"rgb(255, 0, 0)\", \"size\": 20}, \"textposition\": \"middle center\", \"x\": [0.7], \"hoverinfo\": \"none\", \"textfont\": {\"color\": \"rgb(255, 255, 255)\"}, \"text\": [\"2\"]}, {\"y\": [0.0], \"mode\": \"markers+text\", \"marker\": {\"line\": {\"width\": 2, \"color\": \"rgb(0, 0, 0)\"}, \"color\": \"rgb(255, 255, 255)\", \"size\": 20}, \"textposition\": \"middle center\", \"x\": [1.0], \"hoverinfo\": \"none\", \"textfont\": {\"color\": \"rgb(0, 0, 0)\"}, \"text\": [\"\\u221e\"]}], \"name\": 38}, {\"data\": [{\"y\": [1.0, 1.0, null], \"mode\": \"lines\", \"x\": [0.0, 0.3, null], \"line\": {\"width\": 2, \"color\": \"rgb(0, 0, 0)\"}, \"hoverinfo\": \"none\"}, {\"y\": [1.0, 0.0, null], \"mode\": \"lines\", \"x\": [0.0, 0.0, null], \"line\": {\"width\": 2, \"color\": \"rgb(0, 0, 0)\"}, \"hoverinfo\": \"none\"}, {\"y\": [1.0, 0.0, null], \"mode\": \"lines\", \"x\": [0.3, 0.3, null], \"line\": {\"width\": 2, \"color\": \"rgb(0, 0, 0)\"}, \"hoverinfo\": \"none\"}, {\"y\": [1.0, 1.0, null], \"mode\": \"lines\", \"x\": [0.7, 1.0, null], \"line\": {\"width\": 2, \"color\": \"rgb(0, 0, 0)\"}, \"hoverinfo\": \"none\"}, {\"y\": [1.0, 0.0, null], \"mode\": \"lines\", \"x\": [0.7, 0.3, null], \"line\": {\"width\": 2, \"color\": \"rgb(0, 0, 0)\"}, \"hoverinfo\": \"none\"}, {\"y\": [1.0, 0.0, null], \"mode\": \"lines\", \"x\": [0.7, 0.7, null], \"line\": {\"width\": 2, \"color\": \"rgb(0, 0, 0)\"}, \"hoverinfo\": \"none\"}, {\"y\": [1.0, 0.0, null], \"mode\": \"lines\", \"x\": [1.0, 0.7, null], \"line\": {\"width\": 2, \"color\": \"rgb(0, 0, 0)\"}, \"hoverinfo\": \"none\"}, {\"y\": [1.0, 0.0, null], \"mode\": \"lines\", \"x\": [1.0, 1.0, null], \"line\": {\"width\": 2, \"color\": \"rgb(0, 0, 0)\"}, \"hoverinfo\": \"none\"}, {\"y\": [0.0, 0.0, null], \"mode\": \"lines\", \"x\": [0.3, 0.7, null], \"line\": {\"width\": 2, \"color\": \"rgb(0, 0, 0)\"}, \"hoverinfo\": \"none\"}, {\"y\": [0.0, 0.0, null], \"mode\": \"lines\", \"x\": [0.7, 1.0, null], \"line\": {\"width\": 2, \"color\": \"rgb(0, 0, 0)\"}, \"hoverinfo\": \"none\"}, {\"y\": [1.0], \"mode\": \"markers+text\", \"marker\": {\"line\": {\"width\": 2, \"color\": \"rgb(0, 0, 0)\"}, \"color\": \"rgb(0, 0, 255)\", \"size\": 20}, \"textposition\": \"middle center\", \"x\": [0.0], \"hoverinfo\": \"none\", \"textfont\": {\"color\": \"rgb(255, 255, 255)\"}, \"text\": [\"1\"]}, {\"y\": [1.0], \"mode\": \"markers+text\", \"marker\": {\"line\": {\"width\": 2, \"color\": \"rgb(0, 0, 0)\"}, \"color\": \"rgb(0, 0, 255)\", \"size\": 20}, \"textposition\": \"middle center\", \"x\": [0.3], \"hoverinfo\": \"none\", \"textfont\": {\"color\": \"rgb(255, 255, 255)\"}, \"text\": [\"0\"]}, {\"y\": [1.0], \"mode\": \"markers+text\", \"marker\": {\"line\": {\"width\": 2, \"color\": \"rgb(0, 0, 0)\"}, \"color\": \"rgb(0, 0, 255)\", \"size\": 20}, \"textposition\": \"middle center\", \"x\": [0.7], \"hoverinfo\": \"none\", \"textfont\": {\"color\": \"rgb(255, 255, 255)\"}, \"text\": [\"2\"]}, {\"y\": [1.0], \"mode\": \"markers+text\", \"marker\": {\"line\": {\"width\": 2, \"color\": \"rgb(0, 0, 0)\"}, \"color\": \"rgb(255, 255, 255)\", \"size\": 20}, \"textposition\": \"middle center\", \"x\": [1.0], \"hoverinfo\": \"none\", \"textfont\": {\"color\": \"rgb(0, 0, 0)\"}, \"text\": [\"3\"]}, {\"y\": [0.0], \"mode\": \"markers+text\", \"marker\": {\"line\": {\"width\": 2, \"color\": \"rgb(0, 0, 0)\"}, \"color\": \"rgb(0, 0, 255)\", \"size\": 20}, \"textposition\": \"middle center\", \"x\": [0.0], \"hoverinfo\": \"none\", \"textfont\": {\"color\": \"rgb(255, 255, 255)\"}, \"text\": [\"2\"]}, {\"y\": [0.0], \"mode\": \"markers+text\", \"marker\": {\"line\": {\"width\": 2, \"color\": \"rgb(0, 0, 0)\"}, \"color\": \"rgb(0, 0, 255)\", \"size\": 20}, \"textposition\": \"middle center\", \"x\": [0.3], \"hoverinfo\": \"none\", \"textfont\": {\"color\": \"rgb(255, 255, 255)\"}, \"text\": [\"1\"]}, {\"y\": [0.0], \"mode\": \"markers+text\", \"marker\": {\"line\": {\"width\": 2, \"color\": \"rgb(0, 0, 0)\"}, \"color\": \"rgb(255, 0, 0)\", \"size\": 20}, \"textposition\": \"middle center\", \"x\": [0.7], \"hoverinfo\": \"none\", \"textfont\": {\"color\": \"rgb(255, 255, 255)\"}, \"text\": [\"2\"]}, {\"y\": [0.0], \"mode\": \"markers+text\", \"marker\": {\"line\": {\"width\": 2, \"color\": \"rgb(0, 0, 0)\"}, \"color\": \"rgb(255, 255, 255)\", \"size\": 20}, \"textposition\": \"middle center\", \"x\": [1.0], \"hoverinfo\": \"none\", \"textfont\": {\"color\": \"rgb(0, 0, 0)\"}, \"text\": [\"\\u221e\"]}], \"name\": 39}, {\"data\": [{\"y\": [1.0, 1.0, null], \"mode\": \"lines\", \"x\": [0.0, 0.3, null], \"line\": {\"width\": 2, \"color\": \"rgb(0, 0, 0)\"}, \"hoverinfo\": \"none\"}, {\"y\": [1.0, 0.0, null], \"mode\": \"lines\", \"x\": [0.0, 0.0, null], \"line\": {\"width\": 2, \"color\": \"rgb(0, 0, 0)\"}, \"hoverinfo\": \"none\"}, {\"y\": [1.0, 0.0, null], \"mode\": \"lines\", \"x\": [0.3, 0.3, null], \"line\": {\"width\": 2, \"color\": \"rgb(0, 0, 0)\"}, \"hoverinfo\": \"none\"}, {\"y\": [1.0, 1.0, null], \"mode\": \"lines\", \"x\": [0.7, 1.0, null], \"line\": {\"width\": 2, \"color\": \"rgb(0, 0, 0)\"}, \"hoverinfo\": \"none\"}, {\"y\": [1.0, 0.0, null], \"mode\": \"lines\", \"x\": [0.7, 0.3, null], \"line\": {\"width\": 2, \"color\": \"rgb(0, 0, 0)\"}, \"hoverinfo\": \"none\"}, {\"y\": [1.0, 0.0, null], \"mode\": \"lines\", \"x\": [0.7, 0.7, null], \"line\": {\"width\": 2, \"color\": \"rgb(0, 0, 0)\"}, \"hoverinfo\": \"none\"}, {\"y\": [1.0, 0.0, null], \"mode\": \"lines\", \"x\": [1.0, 0.7, null], \"line\": {\"width\": 2, \"color\": \"rgb(0, 0, 0)\"}, \"hoverinfo\": \"none\"}, {\"y\": [1.0, 0.0, null], \"mode\": \"lines\", \"x\": [1.0, 1.0, null], \"line\": {\"width\": 2, \"color\": \"rgb(0, 0, 0)\"}, \"hoverinfo\": \"none\"}, {\"y\": [0.0, 0.0, null], \"mode\": \"lines\", \"x\": [0.3, 0.7, null], \"line\": {\"width\": 2, \"color\": \"rgb(0, 0, 0)\"}, \"hoverinfo\": \"none\"}, {\"y\": [0.0, 0.0, null], \"mode\": \"lines\", \"x\": [0.7, 1.0, null], \"line\": {\"width\": 2, \"color\": \"rgb(255, 0, 0)\"}, \"hoverinfo\": \"none\"}, {\"y\": [1.0], \"mode\": \"markers+text\", \"marker\": {\"line\": {\"width\": 2, \"color\": \"rgb(0, 0, 0)\"}, \"color\": \"rgb(0, 0, 255)\", \"size\": 20}, \"textposition\": \"middle center\", \"x\": [0.0], \"hoverinfo\": \"none\", \"textfont\": {\"color\": \"rgb(255, 255, 255)\"}, \"text\": [\"1\"]}, {\"y\": [1.0], \"mode\": \"markers+text\", \"marker\": {\"line\": {\"width\": 2, \"color\": \"rgb(0, 0, 0)\"}, \"color\": \"rgb(0, 0, 255)\", \"size\": 20}, \"textposition\": \"middle center\", \"x\": [0.3], \"hoverinfo\": \"none\", \"textfont\": {\"color\": \"rgb(255, 255, 255)\"}, \"text\": [\"0\"]}, {\"y\": [1.0], \"mode\": \"markers+text\", \"marker\": {\"line\": {\"width\": 2, \"color\": \"rgb(0, 0, 0)\"}, \"color\": \"rgb(0, 0, 255)\", \"size\": 20}, \"textposition\": \"middle center\", \"x\": [0.7], \"hoverinfo\": \"none\", \"textfont\": {\"color\": \"rgb(255, 255, 255)\"}, \"text\": [\"2\"]}, {\"y\": [1.0], \"mode\": \"markers+text\", \"marker\": {\"line\": {\"width\": 2, \"color\": \"rgb(0, 0, 0)\"}, \"color\": \"rgb(255, 255, 255)\", \"size\": 20}, \"textposition\": \"middle center\", \"x\": [1.0], \"hoverinfo\": \"none\", \"textfont\": {\"color\": \"rgb(0, 0, 0)\"}, \"text\": [\"3\"]}, {\"y\": [0.0], \"mode\": \"markers+text\", \"marker\": {\"line\": {\"width\": 2, \"color\": \"rgb(0, 0, 0)\"}, \"color\": \"rgb(0, 0, 255)\", \"size\": 20}, \"textposition\": \"middle center\", \"x\": [0.0], \"hoverinfo\": \"none\", \"textfont\": {\"color\": \"rgb(255, 255, 255)\"}, \"text\": [\"2\"]}, {\"y\": [0.0], \"mode\": \"markers+text\", \"marker\": {\"line\": {\"width\": 2, \"color\": \"rgb(0, 0, 0)\"}, \"color\": \"rgb(0, 0, 255)\", \"size\": 20}, \"textposition\": \"middle center\", \"x\": [0.3], \"hoverinfo\": \"none\", \"textfont\": {\"color\": \"rgb(255, 255, 255)\"}, \"text\": [\"1\"]}, {\"y\": [0.0], \"mode\": \"markers+text\", \"marker\": {\"line\": {\"width\": 2, \"color\": \"rgb(0, 0, 0)\"}, \"color\": \"rgb(255, 0, 0)\", \"size\": 20}, \"textposition\": \"middle center\", \"x\": [0.7], \"hoverinfo\": \"none\", \"textfont\": {\"color\": \"rgb(255, 255, 255)\"}, \"text\": [\"2\"]}, {\"y\": [0.0], \"mode\": \"markers+text\", \"marker\": {\"line\": {\"width\": 2, \"color\": \"rgb(0, 0, 0)\"}, \"color\": \"rgb(255, 255, 255)\", \"size\": 20}, \"textposition\": \"middle center\", \"x\": [1.0], \"hoverinfo\": \"none\", \"textfont\": {\"color\": \"rgb(0, 0, 0)\"}, \"text\": [\"\\u221e\"]}], \"name\": 40}, {\"data\": [{\"y\": [1.0, 1.0, null], \"mode\": \"lines\", \"x\": [0.0, 0.3, null], \"line\": {\"width\": 2, \"color\": \"rgb(0, 0, 0)\"}, \"hoverinfo\": \"none\"}, {\"y\": [1.0, 0.0, null], \"mode\": \"lines\", \"x\": [0.0, 0.0, null], \"line\": {\"width\": 2, \"color\": \"rgb(0, 0, 0)\"}, \"hoverinfo\": \"none\"}, {\"y\": [1.0, 0.0, null], \"mode\": \"lines\", \"x\": [0.3, 0.3, null], \"line\": {\"width\": 2, \"color\": \"rgb(0, 0, 0)\"}, \"hoverinfo\": \"none\"}, {\"y\": [1.0, 1.0, null], \"mode\": \"lines\", \"x\": [0.7, 1.0, null], \"line\": {\"width\": 2, \"color\": \"rgb(0, 0, 0)\"}, \"hoverinfo\": \"none\"}, {\"y\": [1.0, 0.0, null], \"mode\": \"lines\", \"x\": [0.7, 0.3, null], \"line\": {\"width\": 2, \"color\": \"rgb(0, 0, 0)\"}, \"hoverinfo\": \"none\"}, {\"y\": [1.0, 0.0, null], \"mode\": \"lines\", \"x\": [0.7, 0.7, null], \"line\": {\"width\": 2, \"color\": \"rgb(0, 0, 0)\"}, \"hoverinfo\": \"none\"}, {\"y\": [1.0, 0.0, null], \"mode\": \"lines\", \"x\": [1.0, 0.7, null], \"line\": {\"width\": 2, \"color\": \"rgb(0, 0, 0)\"}, \"hoverinfo\": \"none\"}, {\"y\": [1.0, 0.0, null], \"mode\": \"lines\", \"x\": [1.0, 1.0, null], \"line\": {\"width\": 2, \"color\": \"rgb(0, 0, 0)\"}, \"hoverinfo\": \"none\"}, {\"y\": [0.0, 0.0, null], \"mode\": \"lines\", \"x\": [0.3, 0.7, null], \"line\": {\"width\": 2, \"color\": \"rgb(0, 0, 0)\"}, \"hoverinfo\": \"none\"}, {\"y\": [0.0, 0.0, null], \"mode\": \"lines\", \"x\": [0.7, 1.0, null], \"line\": {\"width\": 2, \"color\": \"rgb(0, 0, 0)\"}, \"hoverinfo\": \"none\"}, {\"y\": [1.0], \"mode\": \"markers+text\", \"marker\": {\"line\": {\"width\": 2, \"color\": \"rgb(0, 0, 0)\"}, \"color\": \"rgb(0, 0, 255)\", \"size\": 20}, \"textposition\": \"middle center\", \"x\": [0.0], \"hoverinfo\": \"none\", \"textfont\": {\"color\": \"rgb(255, 255, 255)\"}, \"text\": [\"1\"]}, {\"y\": [1.0], \"mode\": \"markers+text\", \"marker\": {\"line\": {\"width\": 2, \"color\": \"rgb(0, 0, 0)\"}, \"color\": \"rgb(0, 0, 255)\", \"size\": 20}, \"textposition\": \"middle center\", \"x\": [0.3], \"hoverinfo\": \"none\", \"textfont\": {\"color\": \"rgb(255, 255, 255)\"}, \"text\": [\"0\"]}, {\"y\": [1.0], \"mode\": \"markers+text\", \"marker\": {\"line\": {\"width\": 2, \"color\": \"rgb(0, 0, 0)\"}, \"color\": \"rgb(0, 0, 255)\", \"size\": 20}, \"textposition\": \"middle center\", \"x\": [0.7], \"hoverinfo\": \"none\", \"textfont\": {\"color\": \"rgb(255, 255, 255)\"}, \"text\": [\"2\"]}, {\"y\": [1.0], \"mode\": \"markers+text\", \"marker\": {\"line\": {\"width\": 2, \"color\": \"rgb(0, 0, 0)\"}, \"color\": \"rgb(255, 255, 255)\", \"size\": 20}, \"textposition\": \"middle center\", \"x\": [1.0], \"hoverinfo\": \"none\", \"textfont\": {\"color\": \"rgb(0, 0, 0)\"}, \"text\": [\"3\"]}, {\"y\": [0.0], \"mode\": \"markers+text\", \"marker\": {\"line\": {\"width\": 2, \"color\": \"rgb(0, 0, 0)\"}, \"color\": \"rgb(0, 0, 255)\", \"size\": 20}, \"textposition\": \"middle center\", \"x\": [0.0], \"hoverinfo\": \"none\", \"textfont\": {\"color\": \"rgb(255, 255, 255)\"}, \"text\": [\"2\"]}, {\"y\": [0.0], \"mode\": \"markers+text\", \"marker\": {\"line\": {\"width\": 2, \"color\": \"rgb(0, 0, 0)\"}, \"color\": \"rgb(0, 0, 255)\", \"size\": 20}, \"textposition\": \"middle center\", \"x\": [0.3], \"hoverinfo\": \"none\", \"textfont\": {\"color\": \"rgb(255, 255, 255)\"}, \"text\": [\"1\"]}, {\"y\": [0.0], \"mode\": \"markers+text\", \"marker\": {\"line\": {\"width\": 2, \"color\": \"rgb(0, 0, 0)\"}, \"color\": \"rgb(255, 0, 0)\", \"size\": 20}, \"textposition\": \"middle center\", \"x\": [0.7], \"hoverinfo\": \"none\", \"textfont\": {\"color\": \"rgb(255, 255, 255)\"}, \"text\": [\"2\"]}, {\"y\": [0.0], \"mode\": \"markers+text\", \"marker\": {\"line\": {\"width\": 2, \"color\": \"rgb(0, 0, 0)\"}, \"color\": \"rgb(255, 255, 255)\", \"size\": 20}, \"textposition\": \"middle center\", \"x\": [1.0], \"hoverinfo\": \"none\", \"textfont\": {\"color\": \"rgb(0, 0, 0)\"}, \"text\": [\"3\"]}], \"name\": 41}, {\"data\": [{\"y\": [1.0, 1.0, null], \"mode\": \"lines\", \"x\": [0.0, 0.3, null], \"line\": {\"width\": 2, \"color\": \"rgb(0, 0, 0)\"}, \"hoverinfo\": \"none\"}, {\"y\": [1.0, 0.0, null], \"mode\": \"lines\", \"x\": [0.0, 0.0, null], \"line\": {\"width\": 2, \"color\": \"rgb(0, 0, 0)\"}, \"hoverinfo\": \"none\"}, {\"y\": [1.0, 0.0, null], \"mode\": \"lines\", \"x\": [0.3, 0.3, null], \"line\": {\"width\": 2, \"color\": \"rgb(0, 0, 0)\"}, \"hoverinfo\": \"none\"}, {\"y\": [1.0, 1.0, null], \"mode\": \"lines\", \"x\": [0.7, 1.0, null], \"line\": {\"width\": 2, \"color\": \"rgb(0, 0, 0)\"}, \"hoverinfo\": \"none\"}, {\"y\": [1.0, 0.0, null], \"mode\": \"lines\", \"x\": [0.7, 0.3, null], \"line\": {\"width\": 2, \"color\": \"rgb(0, 0, 0)\"}, \"hoverinfo\": \"none\"}, {\"y\": [1.0, 0.0, null], \"mode\": \"lines\", \"x\": [0.7, 0.7, null], \"line\": {\"width\": 2, \"color\": \"rgb(0, 0, 0)\"}, \"hoverinfo\": \"none\"}, {\"y\": [1.0, 0.0, null], \"mode\": \"lines\", \"x\": [1.0, 0.7, null], \"line\": {\"width\": 2, \"color\": \"rgb(0, 0, 0)\"}, \"hoverinfo\": \"none\"}, {\"y\": [1.0, 0.0, null], \"mode\": \"lines\", \"x\": [1.0, 1.0, null], \"line\": {\"width\": 2, \"color\": \"rgb(0, 0, 0)\"}, \"hoverinfo\": \"none\"}, {\"y\": [0.0, 0.0, null], \"mode\": \"lines\", \"x\": [0.3, 0.7, null], \"line\": {\"width\": 2, \"color\": \"rgb(0, 0, 0)\"}, \"hoverinfo\": \"none\"}, {\"y\": [0.0, 0.0, null], \"mode\": \"lines\", \"x\": [0.7, 1.0, null], \"line\": {\"width\": 2, \"color\": \"rgb(0, 0, 0)\"}, \"hoverinfo\": \"none\"}, {\"y\": [1.0], \"mode\": \"markers+text\", \"marker\": {\"line\": {\"width\": 2, \"color\": \"rgb(0, 0, 0)\"}, \"color\": \"rgb(0, 0, 255)\", \"size\": 20}, \"textposition\": \"middle center\", \"x\": [0.0], \"hoverinfo\": \"none\", \"textfont\": {\"color\": \"rgb(255, 255, 255)\"}, \"text\": [\"1\"]}, {\"y\": [1.0], \"mode\": \"markers+text\", \"marker\": {\"line\": {\"width\": 2, \"color\": \"rgb(0, 0, 0)\"}, \"color\": \"rgb(0, 0, 255)\", \"size\": 20}, \"textposition\": \"middle center\", \"x\": [0.3], \"hoverinfo\": \"none\", \"textfont\": {\"color\": \"rgb(255, 255, 255)\"}, \"text\": [\"0\"]}, {\"y\": [1.0], \"mode\": \"markers+text\", \"marker\": {\"line\": {\"width\": 2, \"color\": \"rgb(0, 0, 0)\"}, \"color\": \"rgb(0, 0, 255)\", \"size\": 20}, \"textposition\": \"middle center\", \"x\": [0.7], \"hoverinfo\": \"none\", \"textfont\": {\"color\": \"rgb(255, 255, 255)\"}, \"text\": [\"2\"]}, {\"y\": [1.0], \"mode\": \"markers+text\", \"marker\": {\"line\": {\"width\": 2, \"color\": \"rgb(0, 0, 0)\"}, \"color\": \"rgb(255, 255, 255)\", \"size\": 20}, \"textposition\": \"middle center\", \"x\": [1.0], \"hoverinfo\": \"none\", \"textfont\": {\"color\": \"rgb(0, 0, 0)\"}, \"text\": [\"3\"]}, {\"y\": [0.0], \"mode\": \"markers+text\", \"marker\": {\"line\": {\"width\": 2, \"color\": \"rgb(0, 0, 0)\"}, \"color\": \"rgb(0, 0, 255)\", \"size\": 20}, \"textposition\": \"middle center\", \"x\": [0.0], \"hoverinfo\": \"none\", \"textfont\": {\"color\": \"rgb(255, 255, 255)\"}, \"text\": [\"2\"]}, {\"y\": [0.0], \"mode\": \"markers+text\", \"marker\": {\"line\": {\"width\": 2, \"color\": \"rgb(0, 0, 0)\"}, \"color\": \"rgb(0, 0, 255)\", \"size\": 20}, \"textposition\": \"middle center\", \"x\": [0.3], \"hoverinfo\": \"none\", \"textfont\": {\"color\": \"rgb(255, 255, 255)\"}, \"text\": [\"1\"]}, {\"y\": [0.0], \"mode\": \"markers+text\", \"marker\": {\"line\": {\"width\": 2, \"color\": \"rgb(0, 0, 0)\"}, \"color\": \"rgb(0, 0, 255)\", \"size\": 20}, \"textposition\": \"middle center\", \"x\": [0.7], \"hoverinfo\": \"none\", \"textfont\": {\"color\": \"rgb(255, 255, 255)\"}, \"text\": [\"2\"]}, {\"y\": [0.0], \"mode\": \"markers+text\", \"marker\": {\"line\": {\"width\": 2, \"color\": \"rgb(0, 0, 0)\"}, \"color\": \"rgb(255, 255, 255)\", \"size\": 20}, \"textposition\": \"middle center\", \"x\": [1.0], \"hoverinfo\": \"none\", \"textfont\": {\"color\": \"rgb(0, 0, 0)\"}, \"text\": [\"3\"]}], \"name\": 42}, {\"data\": [{\"y\": [1.0, 1.0, null], \"mode\": \"lines\", \"x\": [0.0, 0.3, null], \"line\": {\"width\": 2, \"color\": \"rgb(0, 0, 0)\"}, \"hoverinfo\": \"none\"}, {\"y\": [1.0, 0.0, null], \"mode\": \"lines\", \"x\": [0.0, 0.0, null], \"line\": {\"width\": 2, \"color\": \"rgb(0, 0, 0)\"}, \"hoverinfo\": \"none\"}, {\"y\": [1.0, 0.0, null], \"mode\": \"lines\", \"x\": [0.3, 0.3, null], \"line\": {\"width\": 2, \"color\": \"rgb(0, 0, 0)\"}, \"hoverinfo\": \"none\"}, {\"y\": [1.0, 1.0, null], \"mode\": \"lines\", \"x\": [0.7, 1.0, null], \"line\": {\"width\": 2, \"color\": \"rgb(0, 0, 0)\"}, \"hoverinfo\": \"none\"}, {\"y\": [1.0, 0.0, null], \"mode\": \"lines\", \"x\": [0.7, 0.3, null], \"line\": {\"width\": 2, \"color\": \"rgb(0, 0, 0)\"}, \"hoverinfo\": \"none\"}, {\"y\": [1.0, 0.0, null], \"mode\": \"lines\", \"x\": [0.7, 0.7, null], \"line\": {\"width\": 2, \"color\": \"rgb(0, 0, 0)\"}, \"hoverinfo\": \"none\"}, {\"y\": [1.0, 0.0, null], \"mode\": \"lines\", \"x\": [1.0, 0.7, null], \"line\": {\"width\": 2, \"color\": \"rgb(0, 0, 0)\"}, \"hoverinfo\": \"none\"}, {\"y\": [1.0, 0.0, null], \"mode\": \"lines\", \"x\": [1.0, 1.0, null], \"line\": {\"width\": 2, \"color\": \"rgb(0, 0, 0)\"}, \"hoverinfo\": \"none\"}, {\"y\": [0.0, 0.0, null], \"mode\": \"lines\", \"x\": [0.3, 0.7, null], \"line\": {\"width\": 2, \"color\": \"rgb(0, 0, 0)\"}, \"hoverinfo\": \"none\"}, {\"y\": [0.0, 0.0, null], \"mode\": \"lines\", \"x\": [0.7, 1.0, null], \"line\": {\"width\": 2, \"color\": \"rgb(0, 0, 0)\"}, \"hoverinfo\": \"none\"}, {\"y\": [1.0], \"mode\": \"markers+text\", \"marker\": {\"line\": {\"width\": 2, \"color\": \"rgb(0, 0, 0)\"}, \"color\": \"rgb(0, 0, 255)\", \"size\": 20}, \"textposition\": \"middle center\", \"x\": [0.0], \"hoverinfo\": \"none\", \"textfont\": {\"color\": \"rgb(255, 255, 255)\"}, \"text\": [\"1\"]}, {\"y\": [1.0], \"mode\": \"markers+text\", \"marker\": {\"line\": {\"width\": 2, \"color\": \"rgb(0, 0, 0)\"}, \"color\": \"rgb(0, 0, 255)\", \"size\": 20}, \"textposition\": \"middle center\", \"x\": [0.3], \"hoverinfo\": \"none\", \"textfont\": {\"color\": \"rgb(255, 255, 255)\"}, \"text\": [\"0\"]}, {\"y\": [1.0], \"mode\": \"markers+text\", \"marker\": {\"line\": {\"width\": 2, \"color\": \"rgb(0, 0, 0)\"}, \"color\": \"rgb(0, 0, 255)\", \"size\": 20}, \"textposition\": \"middle center\", \"x\": [0.7], \"hoverinfo\": \"none\", \"textfont\": {\"color\": \"rgb(255, 255, 255)\"}, \"text\": [\"2\"]}, {\"y\": [1.0], \"mode\": \"markers+text\", \"marker\": {\"line\": {\"width\": 2, \"color\": \"rgb(0, 0, 0)\"}, \"color\": \"rgb(255, 0, 0)\", \"size\": 20}, \"textposition\": \"middle center\", \"x\": [1.0], \"hoverinfo\": \"none\", \"textfont\": {\"color\": \"rgb(255, 255, 255)\"}, \"text\": [\"3\"]}, {\"y\": [0.0], \"mode\": \"markers+text\", \"marker\": {\"line\": {\"width\": 2, \"color\": \"rgb(0, 0, 0)\"}, \"color\": \"rgb(0, 0, 255)\", \"size\": 20}, \"textposition\": \"middle center\", \"x\": [0.0], \"hoverinfo\": \"none\", \"textfont\": {\"color\": \"rgb(255, 255, 255)\"}, \"text\": [\"2\"]}, {\"y\": [0.0], \"mode\": \"markers+text\", \"marker\": {\"line\": {\"width\": 2, \"color\": \"rgb(0, 0, 0)\"}, \"color\": \"rgb(0, 0, 255)\", \"size\": 20}, \"textposition\": \"middle center\", \"x\": [0.3], \"hoverinfo\": \"none\", \"textfont\": {\"color\": \"rgb(255, 255, 255)\"}, \"text\": [\"1\"]}, {\"y\": [0.0], \"mode\": \"markers+text\", \"marker\": {\"line\": {\"width\": 2, \"color\": \"rgb(0, 0, 0)\"}, \"color\": \"rgb(0, 0, 255)\", \"size\": 20}, \"textposition\": \"middle center\", \"x\": [0.7], \"hoverinfo\": \"none\", \"textfont\": {\"color\": \"rgb(255, 255, 255)\"}, \"text\": [\"2\"]}, {\"y\": [0.0], \"mode\": \"markers+text\", \"marker\": {\"line\": {\"width\": 2, \"color\": \"rgb(0, 0, 0)\"}, \"color\": \"rgb(255, 255, 255)\", \"size\": 20}, \"textposition\": \"middle center\", \"x\": [1.0], \"hoverinfo\": \"none\", \"textfont\": {\"color\": \"rgb(0, 0, 0)\"}, \"text\": [\"3\"]}], \"name\": 43}, {\"data\": [{\"y\": [1.0, 1.0, null], \"mode\": \"lines\", \"x\": [0.0, 0.3, null], \"line\": {\"width\": 2, \"color\": \"rgb(0, 0, 0)\"}, \"hoverinfo\": \"none\"}, {\"y\": [1.0, 0.0, null], \"mode\": \"lines\", \"x\": [0.0, 0.0, null], \"line\": {\"width\": 2, \"color\": \"rgb(0, 0, 0)\"}, \"hoverinfo\": \"none\"}, {\"y\": [1.0, 0.0, null], \"mode\": \"lines\", \"x\": [0.3, 0.3, null], \"line\": {\"width\": 2, \"color\": \"rgb(0, 0, 0)\"}, \"hoverinfo\": \"none\"}, {\"y\": [1.0, 1.0, null], \"mode\": \"lines\", \"x\": [0.7, 1.0, null], \"line\": {\"width\": 2, \"color\": \"rgb(255, 0, 0)\"}, \"hoverinfo\": \"none\"}, {\"y\": [1.0, 0.0, null], \"mode\": \"lines\", \"x\": [0.7, 0.3, null], \"line\": {\"width\": 2, \"color\": \"rgb(0, 0, 0)\"}, \"hoverinfo\": \"none\"}, {\"y\": [1.0, 0.0, null], \"mode\": \"lines\", \"x\": [0.7, 0.7, null], \"line\": {\"width\": 2, \"color\": \"rgb(0, 0, 0)\"}, \"hoverinfo\": \"none\"}, {\"y\": [1.0, 0.0, null], \"mode\": \"lines\", \"x\": [1.0, 0.7, null], \"line\": {\"width\": 2, \"color\": \"rgb(0, 0, 0)\"}, \"hoverinfo\": \"none\"}, {\"y\": [1.0, 0.0, null], \"mode\": \"lines\", \"x\": [1.0, 1.0, null], \"line\": {\"width\": 2, \"color\": \"rgb(0, 0, 0)\"}, \"hoverinfo\": \"none\"}, {\"y\": [0.0, 0.0, null], \"mode\": \"lines\", \"x\": [0.3, 0.7, null], \"line\": {\"width\": 2, \"color\": \"rgb(0, 0, 0)\"}, \"hoverinfo\": \"none\"}, {\"y\": [0.0, 0.0, null], \"mode\": \"lines\", \"x\": [0.7, 1.0, null], \"line\": {\"width\": 2, \"color\": \"rgb(0, 0, 0)\"}, \"hoverinfo\": \"none\"}, {\"y\": [1.0], \"mode\": \"markers+text\", \"marker\": {\"line\": {\"width\": 2, \"color\": \"rgb(0, 0, 0)\"}, \"color\": \"rgb(0, 0, 255)\", \"size\": 20}, \"textposition\": \"middle center\", \"x\": [0.0], \"hoverinfo\": \"none\", \"textfont\": {\"color\": \"rgb(255, 255, 255)\"}, \"text\": [\"1\"]}, {\"y\": [1.0], \"mode\": \"markers+text\", \"marker\": {\"line\": {\"width\": 2, \"color\": \"rgb(0, 0, 0)\"}, \"color\": \"rgb(0, 0, 255)\", \"size\": 20}, \"textposition\": \"middle center\", \"x\": [0.3], \"hoverinfo\": \"none\", \"textfont\": {\"color\": \"rgb(255, 255, 255)\"}, \"text\": [\"0\"]}, {\"y\": [1.0], \"mode\": \"markers+text\", \"marker\": {\"line\": {\"width\": 2, \"color\": \"rgb(0, 0, 0)\"}, \"color\": \"rgb(0, 0, 255)\", \"size\": 20}, \"textposition\": \"middle center\", \"x\": [0.7], \"hoverinfo\": \"none\", \"textfont\": {\"color\": \"rgb(255, 255, 255)\"}, \"text\": [\"2\"]}, {\"y\": [1.0], \"mode\": \"markers+text\", \"marker\": {\"line\": {\"width\": 2, \"color\": \"rgb(0, 0, 0)\"}, \"color\": \"rgb(255, 0, 0)\", \"size\": 20}, \"textposition\": \"middle center\", \"x\": [1.0], \"hoverinfo\": \"none\", \"textfont\": {\"color\": \"rgb(255, 255, 255)\"}, \"text\": [\"3\"]}, {\"y\": [0.0], \"mode\": \"markers+text\", \"marker\": {\"line\": {\"width\": 2, \"color\": \"rgb(0, 0, 0)\"}, \"color\": \"rgb(0, 0, 255)\", \"size\": 20}, \"textposition\": \"middle center\", \"x\": [0.0], \"hoverinfo\": \"none\", \"textfont\": {\"color\": \"rgb(255, 255, 255)\"}, \"text\": [\"2\"]}, {\"y\": [0.0], \"mode\": \"markers+text\", \"marker\": {\"line\": {\"width\": 2, \"color\": \"rgb(0, 0, 0)\"}, \"color\": \"rgb(0, 0, 255)\", \"size\": 20}, \"textposition\": \"middle center\", \"x\": [0.3], \"hoverinfo\": \"none\", \"textfont\": {\"color\": \"rgb(255, 255, 255)\"}, \"text\": [\"1\"]}, {\"y\": [0.0], \"mode\": \"markers+text\", \"marker\": {\"line\": {\"width\": 2, \"color\": \"rgb(0, 0, 0)\"}, \"color\": \"rgb(0, 0, 255)\", \"size\": 20}, \"textposition\": \"middle center\", \"x\": [0.7], \"hoverinfo\": \"none\", \"textfont\": {\"color\": \"rgb(255, 255, 255)\"}, \"text\": [\"2\"]}, {\"y\": [0.0], \"mode\": \"markers+text\", \"marker\": {\"line\": {\"width\": 2, \"color\": \"rgb(0, 0, 0)\"}, \"color\": \"rgb(255, 255, 255)\", \"size\": 20}, \"textposition\": \"middle center\", \"x\": [1.0], \"hoverinfo\": \"none\", \"textfont\": {\"color\": \"rgb(0, 0, 0)\"}, \"text\": [\"3\"]}], \"name\": 44}, {\"data\": [{\"y\": [1.0, 1.0, null], \"mode\": \"lines\", \"x\": [0.0, 0.3, null], \"line\": {\"width\": 2, \"color\": \"rgb(0, 0, 0)\"}, \"hoverinfo\": \"none\"}, {\"y\": [1.0, 0.0, null], \"mode\": \"lines\", \"x\": [0.0, 0.0, null], \"line\": {\"width\": 2, \"color\": \"rgb(0, 0, 0)\"}, \"hoverinfo\": \"none\"}, {\"y\": [1.0, 0.0, null], \"mode\": \"lines\", \"x\": [0.3, 0.3, null], \"line\": {\"width\": 2, \"color\": \"rgb(0, 0, 0)\"}, \"hoverinfo\": \"none\"}, {\"y\": [1.0, 1.0, null], \"mode\": \"lines\", \"x\": [0.7, 1.0, null], \"line\": {\"width\": 2, \"color\": \"rgb(0, 0, 0)\"}, \"hoverinfo\": \"none\"}, {\"y\": [1.0, 0.0, null], \"mode\": \"lines\", \"x\": [0.7, 0.3, null], \"line\": {\"width\": 2, \"color\": \"rgb(0, 0, 0)\"}, \"hoverinfo\": \"none\"}, {\"y\": [1.0, 0.0, null], \"mode\": \"lines\", \"x\": [0.7, 0.7, null], \"line\": {\"width\": 2, \"color\": \"rgb(0, 0, 0)\"}, \"hoverinfo\": \"none\"}, {\"y\": [1.0, 0.0, null], \"mode\": \"lines\", \"x\": [1.0, 0.7, null], \"line\": {\"width\": 2, \"color\": \"rgb(0, 0, 0)\"}, \"hoverinfo\": \"none\"}, {\"y\": [1.0, 0.0, null], \"mode\": \"lines\", \"x\": [1.0, 1.0, null], \"line\": {\"width\": 2, \"color\": \"rgb(0, 0, 0)\"}, \"hoverinfo\": \"none\"}, {\"y\": [0.0, 0.0, null], \"mode\": \"lines\", \"x\": [0.3, 0.7, null], \"line\": {\"width\": 2, \"color\": \"rgb(0, 0, 0)\"}, \"hoverinfo\": \"none\"}, {\"y\": [0.0, 0.0, null], \"mode\": \"lines\", \"x\": [0.7, 1.0, null], \"line\": {\"width\": 2, \"color\": \"rgb(0, 0, 0)\"}, \"hoverinfo\": \"none\"}, {\"y\": [1.0], \"mode\": \"markers+text\", \"marker\": {\"line\": {\"width\": 2, \"color\": \"rgb(0, 0, 0)\"}, \"color\": \"rgb(0, 0, 255)\", \"size\": 20}, \"textposition\": \"middle center\", \"x\": [0.0], \"hoverinfo\": \"none\", \"textfont\": {\"color\": \"rgb(255, 255, 255)\"}, \"text\": [\"1\"]}, {\"y\": [1.0], \"mode\": \"markers+text\", \"marker\": {\"line\": {\"width\": 2, \"color\": \"rgb(0, 0, 0)\"}, \"color\": \"rgb(0, 0, 255)\", \"size\": 20}, \"textposition\": \"middle center\", \"x\": [0.3], \"hoverinfo\": \"none\", \"textfont\": {\"color\": \"rgb(255, 255, 255)\"}, \"text\": [\"0\"]}, {\"y\": [1.0], \"mode\": \"markers+text\", \"marker\": {\"line\": {\"width\": 2, \"color\": \"rgb(0, 0, 0)\"}, \"color\": \"rgb(0, 0, 255)\", \"size\": 20}, \"textposition\": \"middle center\", \"x\": [0.7], \"hoverinfo\": \"none\", \"textfont\": {\"color\": \"rgb(255, 255, 255)\"}, \"text\": [\"2\"]}, {\"y\": [1.0], \"mode\": \"markers+text\", \"marker\": {\"line\": {\"width\": 2, \"color\": \"rgb(0, 0, 0)\"}, \"color\": \"rgb(255, 0, 0)\", \"size\": 20}, \"textposition\": \"middle center\", \"x\": [1.0], \"hoverinfo\": \"none\", \"textfont\": {\"color\": \"rgb(255, 255, 255)\"}, \"text\": [\"3\"]}, {\"y\": [0.0], \"mode\": \"markers+text\", \"marker\": {\"line\": {\"width\": 2, \"color\": \"rgb(0, 0, 0)\"}, \"color\": \"rgb(0, 0, 255)\", \"size\": 20}, \"textposition\": \"middle center\", \"x\": [0.0], \"hoverinfo\": \"none\", \"textfont\": {\"color\": \"rgb(255, 255, 255)\"}, \"text\": [\"2\"]}, {\"y\": [0.0], \"mode\": \"markers+text\", \"marker\": {\"line\": {\"width\": 2, \"color\": \"rgb(0, 0, 0)\"}, \"color\": \"rgb(0, 0, 255)\", \"size\": 20}, \"textposition\": \"middle center\", \"x\": [0.3], \"hoverinfo\": \"none\", \"textfont\": {\"color\": \"rgb(255, 255, 255)\"}, \"text\": [\"1\"]}, {\"y\": [0.0], \"mode\": \"markers+text\", \"marker\": {\"line\": {\"width\": 2, \"color\": \"rgb(0, 0, 0)\"}, \"color\": \"rgb(0, 0, 255)\", \"size\": 20}, \"textposition\": \"middle center\", \"x\": [0.7], \"hoverinfo\": \"none\", \"textfont\": {\"color\": \"rgb(255, 255, 255)\"}, \"text\": [\"2\"]}, {\"y\": [0.0], \"mode\": \"markers+text\", \"marker\": {\"line\": {\"width\": 2, \"color\": \"rgb(0, 0, 0)\"}, \"color\": \"rgb(255, 255, 255)\", \"size\": 20}, \"textposition\": \"middle center\", \"x\": [1.0], \"hoverinfo\": \"none\", \"textfont\": {\"color\": \"rgb(0, 0, 0)\"}, \"text\": [\"3\"]}], \"name\": 45}, {\"data\": [{\"y\": [1.0, 1.0, null], \"mode\": \"lines\", \"x\": [0.0, 0.3, null], \"line\": {\"width\": 2, \"color\": \"rgb(0, 0, 0)\"}, \"hoverinfo\": \"none\"}, {\"y\": [1.0, 0.0, null], \"mode\": \"lines\", \"x\": [0.0, 0.0, null], \"line\": {\"width\": 2, \"color\": \"rgb(0, 0, 0)\"}, \"hoverinfo\": \"none\"}, {\"y\": [1.0, 0.0, null], \"mode\": \"lines\", \"x\": [0.3, 0.3, null], \"line\": {\"width\": 2, \"color\": \"rgb(0, 0, 0)\"}, \"hoverinfo\": \"none\"}, {\"y\": [1.0, 1.0, null], \"mode\": \"lines\", \"x\": [0.7, 1.0, null], \"line\": {\"width\": 2, \"color\": \"rgb(0, 0, 0)\"}, \"hoverinfo\": \"none\"}, {\"y\": [1.0, 0.0, null], \"mode\": \"lines\", \"x\": [0.7, 0.3, null], \"line\": {\"width\": 2, \"color\": \"rgb(0, 0, 0)\"}, \"hoverinfo\": \"none\"}, {\"y\": [1.0, 0.0, null], \"mode\": \"lines\", \"x\": [0.7, 0.7, null], \"line\": {\"width\": 2, \"color\": \"rgb(0, 0, 0)\"}, \"hoverinfo\": \"none\"}, {\"y\": [1.0, 0.0, null], \"mode\": \"lines\", \"x\": [1.0, 0.7, null], \"line\": {\"width\": 2, \"color\": \"rgb(255, 0, 0)\"}, \"hoverinfo\": \"none\"}, {\"y\": [1.0, 0.0, null], \"mode\": \"lines\", \"x\": [1.0, 1.0, null], \"line\": {\"width\": 2, \"color\": \"rgb(0, 0, 0)\"}, \"hoverinfo\": \"none\"}, {\"y\": [0.0, 0.0, null], \"mode\": \"lines\", \"x\": [0.3, 0.7, null], \"line\": {\"width\": 2, \"color\": \"rgb(0, 0, 0)\"}, \"hoverinfo\": \"none\"}, {\"y\": [0.0, 0.0, null], \"mode\": \"lines\", \"x\": [0.7, 1.0, null], \"line\": {\"width\": 2, \"color\": \"rgb(0, 0, 0)\"}, \"hoverinfo\": \"none\"}, {\"y\": [1.0], \"mode\": \"markers+text\", \"marker\": {\"line\": {\"width\": 2, \"color\": \"rgb(0, 0, 0)\"}, \"color\": \"rgb(0, 0, 255)\", \"size\": 20}, \"textposition\": \"middle center\", \"x\": [0.0], \"hoverinfo\": \"none\", \"textfont\": {\"color\": \"rgb(255, 255, 255)\"}, \"text\": [\"1\"]}, {\"y\": [1.0], \"mode\": \"markers+text\", \"marker\": {\"line\": {\"width\": 2, \"color\": \"rgb(0, 0, 0)\"}, \"color\": \"rgb(0, 0, 255)\", \"size\": 20}, \"textposition\": \"middle center\", \"x\": [0.3], \"hoverinfo\": \"none\", \"textfont\": {\"color\": \"rgb(255, 255, 255)\"}, \"text\": [\"0\"]}, {\"y\": [1.0], \"mode\": \"markers+text\", \"marker\": {\"line\": {\"width\": 2, \"color\": \"rgb(0, 0, 0)\"}, \"color\": \"rgb(0, 0, 255)\", \"size\": 20}, \"textposition\": \"middle center\", \"x\": [0.7], \"hoverinfo\": \"none\", \"textfont\": {\"color\": \"rgb(255, 255, 255)\"}, \"text\": [\"2\"]}, {\"y\": [1.0], \"mode\": \"markers+text\", \"marker\": {\"line\": {\"width\": 2, \"color\": \"rgb(0, 0, 0)\"}, \"color\": \"rgb(255, 0, 0)\", \"size\": 20}, \"textposition\": \"middle center\", \"x\": [1.0], \"hoverinfo\": \"none\", \"textfont\": {\"color\": \"rgb(255, 255, 255)\"}, \"text\": [\"3\"]}, {\"y\": [0.0], \"mode\": \"markers+text\", \"marker\": {\"line\": {\"width\": 2, \"color\": \"rgb(0, 0, 0)\"}, \"color\": \"rgb(0, 0, 255)\", \"size\": 20}, \"textposition\": \"middle center\", \"x\": [0.0], \"hoverinfo\": \"none\", \"textfont\": {\"color\": \"rgb(255, 255, 255)\"}, \"text\": [\"2\"]}, {\"y\": [0.0], \"mode\": \"markers+text\", \"marker\": {\"line\": {\"width\": 2, \"color\": \"rgb(0, 0, 0)\"}, \"color\": \"rgb(0, 0, 255)\", \"size\": 20}, \"textposition\": \"middle center\", \"x\": [0.3], \"hoverinfo\": \"none\", \"textfont\": {\"color\": \"rgb(255, 255, 255)\"}, \"text\": [\"1\"]}, {\"y\": [0.0], \"mode\": \"markers+text\", \"marker\": {\"line\": {\"width\": 2, \"color\": \"rgb(0, 0, 0)\"}, \"color\": \"rgb(0, 0, 255)\", \"size\": 20}, \"textposition\": \"middle center\", \"x\": [0.7], \"hoverinfo\": \"none\", \"textfont\": {\"color\": \"rgb(255, 255, 255)\"}, \"text\": [\"2\"]}, {\"y\": [0.0], \"mode\": \"markers+text\", \"marker\": {\"line\": {\"width\": 2, \"color\": \"rgb(0, 0, 0)\"}, \"color\": \"rgb(255, 255, 255)\", \"size\": 20}, \"textposition\": \"middle center\", \"x\": [1.0], \"hoverinfo\": \"none\", \"textfont\": {\"color\": \"rgb(0, 0, 0)\"}, \"text\": [\"3\"]}], \"name\": 46}, {\"data\": [{\"y\": [1.0, 1.0, null], \"mode\": \"lines\", \"x\": [0.0, 0.3, null], \"line\": {\"width\": 2, \"color\": \"rgb(0, 0, 0)\"}, \"hoverinfo\": \"none\"}, {\"y\": [1.0, 0.0, null], \"mode\": \"lines\", \"x\": [0.0, 0.0, null], \"line\": {\"width\": 2, \"color\": \"rgb(0, 0, 0)\"}, \"hoverinfo\": \"none\"}, {\"y\": [1.0, 0.0, null], \"mode\": \"lines\", \"x\": [0.3, 0.3, null], \"line\": {\"width\": 2, \"color\": \"rgb(0, 0, 0)\"}, \"hoverinfo\": \"none\"}, {\"y\": [1.0, 1.0, null], \"mode\": \"lines\", \"x\": [0.7, 1.0, null], \"line\": {\"width\": 2, \"color\": \"rgb(0, 0, 0)\"}, \"hoverinfo\": \"none\"}, {\"y\": [1.0, 0.0, null], \"mode\": \"lines\", \"x\": [0.7, 0.3, null], \"line\": {\"width\": 2, \"color\": \"rgb(0, 0, 0)\"}, \"hoverinfo\": \"none\"}, {\"y\": [1.0, 0.0, null], \"mode\": \"lines\", \"x\": [0.7, 0.7, null], \"line\": {\"width\": 2, \"color\": \"rgb(0, 0, 0)\"}, \"hoverinfo\": \"none\"}, {\"y\": [1.0, 0.0, null], \"mode\": \"lines\", \"x\": [1.0, 0.7, null], \"line\": {\"width\": 2, \"color\": \"rgb(0, 0, 0)\"}, \"hoverinfo\": \"none\"}, {\"y\": [1.0, 0.0, null], \"mode\": \"lines\", \"x\": [1.0, 1.0, null], \"line\": {\"width\": 2, \"color\": \"rgb(0, 0, 0)\"}, \"hoverinfo\": \"none\"}, {\"y\": [0.0, 0.0, null], \"mode\": \"lines\", \"x\": [0.3, 0.7, null], \"line\": {\"width\": 2, \"color\": \"rgb(0, 0, 0)\"}, \"hoverinfo\": \"none\"}, {\"y\": [0.0, 0.0, null], \"mode\": \"lines\", \"x\": [0.7, 1.0, null], \"line\": {\"width\": 2, \"color\": \"rgb(0, 0, 0)\"}, \"hoverinfo\": \"none\"}, {\"y\": [1.0], \"mode\": \"markers+text\", \"marker\": {\"line\": {\"width\": 2, \"color\": \"rgb(0, 0, 0)\"}, \"color\": \"rgb(0, 0, 255)\", \"size\": 20}, \"textposition\": \"middle center\", \"x\": [0.0], \"hoverinfo\": \"none\", \"textfont\": {\"color\": \"rgb(255, 255, 255)\"}, \"text\": [\"1\"]}, {\"y\": [1.0], \"mode\": \"markers+text\", \"marker\": {\"line\": {\"width\": 2, \"color\": \"rgb(0, 0, 0)\"}, \"color\": \"rgb(0, 0, 255)\", \"size\": 20}, \"textposition\": \"middle center\", \"x\": [0.3], \"hoverinfo\": \"none\", \"textfont\": {\"color\": \"rgb(255, 255, 255)\"}, \"text\": [\"0\"]}, {\"y\": [1.0], \"mode\": \"markers+text\", \"marker\": {\"line\": {\"width\": 2, \"color\": \"rgb(0, 0, 0)\"}, \"color\": \"rgb(0, 0, 255)\", \"size\": 20}, \"textposition\": \"middle center\", \"x\": [0.7], \"hoverinfo\": \"none\", \"textfont\": {\"color\": \"rgb(255, 255, 255)\"}, \"text\": [\"2\"]}, {\"y\": [1.0], \"mode\": \"markers+text\", \"marker\": {\"line\": {\"width\": 2, \"color\": \"rgb(0, 0, 0)\"}, \"color\": \"rgb(255, 0, 0)\", \"size\": 20}, \"textposition\": \"middle center\", \"x\": [1.0], \"hoverinfo\": \"none\", \"textfont\": {\"color\": \"rgb(255, 255, 255)\"}, \"text\": [\"3\"]}, {\"y\": [0.0], \"mode\": \"markers+text\", \"marker\": {\"line\": {\"width\": 2, \"color\": \"rgb(0, 0, 0)\"}, \"color\": \"rgb(0, 0, 255)\", \"size\": 20}, \"textposition\": \"middle center\", \"x\": [0.0], \"hoverinfo\": \"none\", \"textfont\": {\"color\": \"rgb(255, 255, 255)\"}, \"text\": [\"2\"]}, {\"y\": [0.0], \"mode\": \"markers+text\", \"marker\": {\"line\": {\"width\": 2, \"color\": \"rgb(0, 0, 0)\"}, \"color\": \"rgb(0, 0, 255)\", \"size\": 20}, \"textposition\": \"middle center\", \"x\": [0.3], \"hoverinfo\": \"none\", \"textfont\": {\"color\": \"rgb(255, 255, 255)\"}, \"text\": [\"1\"]}, {\"y\": [0.0], \"mode\": \"markers+text\", \"marker\": {\"line\": {\"width\": 2, \"color\": \"rgb(0, 0, 0)\"}, \"color\": \"rgb(0, 0, 255)\", \"size\": 20}, \"textposition\": \"middle center\", \"x\": [0.7], \"hoverinfo\": \"none\", \"textfont\": {\"color\": \"rgb(255, 255, 255)\"}, \"text\": [\"2\"]}, {\"y\": [0.0], \"mode\": \"markers+text\", \"marker\": {\"line\": {\"width\": 2, \"color\": \"rgb(0, 0, 0)\"}, \"color\": \"rgb(255, 255, 255)\", \"size\": 20}, \"textposition\": \"middle center\", \"x\": [1.0], \"hoverinfo\": \"none\", \"textfont\": {\"color\": \"rgb(0, 0, 0)\"}, \"text\": [\"3\"]}], \"name\": 47}, {\"data\": [{\"y\": [1.0, 1.0, null], \"mode\": \"lines\", \"x\": [0.0, 0.3, null], \"line\": {\"width\": 2, \"color\": \"rgb(0, 0, 0)\"}, \"hoverinfo\": \"none\"}, {\"y\": [1.0, 0.0, null], \"mode\": \"lines\", \"x\": [0.0, 0.0, null], \"line\": {\"width\": 2, \"color\": \"rgb(0, 0, 0)\"}, \"hoverinfo\": \"none\"}, {\"y\": [1.0, 0.0, null], \"mode\": \"lines\", \"x\": [0.3, 0.3, null], \"line\": {\"width\": 2, \"color\": \"rgb(0, 0, 0)\"}, \"hoverinfo\": \"none\"}, {\"y\": [1.0, 1.0, null], \"mode\": \"lines\", \"x\": [0.7, 1.0, null], \"line\": {\"width\": 2, \"color\": \"rgb(0, 0, 0)\"}, \"hoverinfo\": \"none\"}, {\"y\": [1.0, 0.0, null], \"mode\": \"lines\", \"x\": [0.7, 0.3, null], \"line\": {\"width\": 2, \"color\": \"rgb(0, 0, 0)\"}, \"hoverinfo\": \"none\"}, {\"y\": [1.0, 0.0, null], \"mode\": \"lines\", \"x\": [0.7, 0.7, null], \"line\": {\"width\": 2, \"color\": \"rgb(0, 0, 0)\"}, \"hoverinfo\": \"none\"}, {\"y\": [1.0, 0.0, null], \"mode\": \"lines\", \"x\": [1.0, 0.7, null], \"line\": {\"width\": 2, \"color\": \"rgb(0, 0, 0)\"}, \"hoverinfo\": \"none\"}, {\"y\": [1.0, 0.0, null], \"mode\": \"lines\", \"x\": [1.0, 1.0, null], \"line\": {\"width\": 2, \"color\": \"rgb(255, 0, 0)\"}, \"hoverinfo\": \"none\"}, {\"y\": [0.0, 0.0, null], \"mode\": \"lines\", \"x\": [0.3, 0.7, null], \"line\": {\"width\": 2, \"color\": \"rgb(0, 0, 0)\"}, \"hoverinfo\": \"none\"}, {\"y\": [0.0, 0.0, null], \"mode\": \"lines\", \"x\": [0.7, 1.0, null], \"line\": {\"width\": 2, \"color\": \"rgb(0, 0, 0)\"}, \"hoverinfo\": \"none\"}, {\"y\": [1.0], \"mode\": \"markers+text\", \"marker\": {\"line\": {\"width\": 2, \"color\": \"rgb(0, 0, 0)\"}, \"color\": \"rgb(0, 0, 255)\", \"size\": 20}, \"textposition\": \"middle center\", \"x\": [0.0], \"hoverinfo\": \"none\", \"textfont\": {\"color\": \"rgb(255, 255, 255)\"}, \"text\": [\"1\"]}, {\"y\": [1.0], \"mode\": \"markers+text\", \"marker\": {\"line\": {\"width\": 2, \"color\": \"rgb(0, 0, 0)\"}, \"color\": \"rgb(0, 0, 255)\", \"size\": 20}, \"textposition\": \"middle center\", \"x\": [0.3], \"hoverinfo\": \"none\", \"textfont\": {\"color\": \"rgb(255, 255, 255)\"}, \"text\": [\"0\"]}, {\"y\": [1.0], \"mode\": \"markers+text\", \"marker\": {\"line\": {\"width\": 2, \"color\": \"rgb(0, 0, 0)\"}, \"color\": \"rgb(0, 0, 255)\", \"size\": 20}, \"textposition\": \"middle center\", \"x\": [0.7], \"hoverinfo\": \"none\", \"textfont\": {\"color\": \"rgb(255, 255, 255)\"}, \"text\": [\"2\"]}, {\"y\": [1.0], \"mode\": \"markers+text\", \"marker\": {\"line\": {\"width\": 2, \"color\": \"rgb(0, 0, 0)\"}, \"color\": \"rgb(255, 0, 0)\", \"size\": 20}, \"textposition\": \"middle center\", \"x\": [1.0], \"hoverinfo\": \"none\", \"textfont\": {\"color\": \"rgb(255, 255, 255)\"}, \"text\": [\"3\"]}, {\"y\": [0.0], \"mode\": \"markers+text\", \"marker\": {\"line\": {\"width\": 2, \"color\": \"rgb(0, 0, 0)\"}, \"color\": \"rgb(0, 0, 255)\", \"size\": 20}, \"textposition\": \"middle center\", \"x\": [0.0], \"hoverinfo\": \"none\", \"textfont\": {\"color\": \"rgb(255, 255, 255)\"}, \"text\": [\"2\"]}, {\"y\": [0.0], \"mode\": \"markers+text\", \"marker\": {\"line\": {\"width\": 2, \"color\": \"rgb(0, 0, 0)\"}, \"color\": \"rgb(0, 0, 255)\", \"size\": 20}, \"textposition\": \"middle center\", \"x\": [0.3], \"hoverinfo\": \"none\", \"textfont\": {\"color\": \"rgb(255, 255, 255)\"}, \"text\": [\"1\"]}, {\"y\": [0.0], \"mode\": \"markers+text\", \"marker\": {\"line\": {\"width\": 2, \"color\": \"rgb(0, 0, 0)\"}, \"color\": \"rgb(0, 0, 255)\", \"size\": 20}, \"textposition\": \"middle center\", \"x\": [0.7], \"hoverinfo\": \"none\", \"textfont\": {\"color\": \"rgb(255, 255, 255)\"}, \"text\": [\"2\"]}, {\"y\": [0.0], \"mode\": \"markers+text\", \"marker\": {\"line\": {\"width\": 2, \"color\": \"rgb(0, 0, 0)\"}, \"color\": \"rgb(255, 255, 255)\", \"size\": 20}, \"textposition\": \"middle center\", \"x\": [1.0], \"hoverinfo\": \"none\", \"textfont\": {\"color\": \"rgb(0, 0, 0)\"}, \"text\": [\"3\"]}], \"name\": 48}, {\"data\": [{\"y\": [1.0, 1.0, null], \"mode\": \"lines\", \"x\": [0.0, 0.3, null], \"line\": {\"width\": 2, \"color\": \"rgb(0, 0, 0)\"}, \"hoverinfo\": \"none\"}, {\"y\": [1.0, 0.0, null], \"mode\": \"lines\", \"x\": [0.0, 0.0, null], \"line\": {\"width\": 2, \"color\": \"rgb(0, 0, 0)\"}, \"hoverinfo\": \"none\"}, {\"y\": [1.0, 0.0, null], \"mode\": \"lines\", \"x\": [0.3, 0.3, null], \"line\": {\"width\": 2, \"color\": \"rgb(0, 0, 0)\"}, \"hoverinfo\": \"none\"}, {\"y\": [1.0, 1.0, null], \"mode\": \"lines\", \"x\": [0.7, 1.0, null], \"line\": {\"width\": 2, \"color\": \"rgb(0, 0, 0)\"}, \"hoverinfo\": \"none\"}, {\"y\": [1.0, 0.0, null], \"mode\": \"lines\", \"x\": [0.7, 0.3, null], \"line\": {\"width\": 2, \"color\": \"rgb(0, 0, 0)\"}, \"hoverinfo\": \"none\"}, {\"y\": [1.0, 0.0, null], \"mode\": \"lines\", \"x\": [0.7, 0.7, null], \"line\": {\"width\": 2, \"color\": \"rgb(0, 0, 0)\"}, \"hoverinfo\": \"none\"}, {\"y\": [1.0, 0.0, null], \"mode\": \"lines\", \"x\": [1.0, 0.7, null], \"line\": {\"width\": 2, \"color\": \"rgb(0, 0, 0)\"}, \"hoverinfo\": \"none\"}, {\"y\": [1.0, 0.0, null], \"mode\": \"lines\", \"x\": [1.0, 1.0, null], \"line\": {\"width\": 2, \"color\": \"rgb(0, 0, 0)\"}, \"hoverinfo\": \"none\"}, {\"y\": [0.0, 0.0, null], \"mode\": \"lines\", \"x\": [0.3, 0.7, null], \"line\": {\"width\": 2, \"color\": \"rgb(0, 0, 0)\"}, \"hoverinfo\": \"none\"}, {\"y\": [0.0, 0.0, null], \"mode\": \"lines\", \"x\": [0.7, 1.0, null], \"line\": {\"width\": 2, \"color\": \"rgb(0, 0, 0)\"}, \"hoverinfo\": \"none\"}, {\"y\": [1.0], \"mode\": \"markers+text\", \"marker\": {\"line\": {\"width\": 2, \"color\": \"rgb(0, 0, 0)\"}, \"color\": \"rgb(0, 0, 255)\", \"size\": 20}, \"textposition\": \"middle center\", \"x\": [0.0], \"hoverinfo\": \"none\", \"textfont\": {\"color\": \"rgb(255, 255, 255)\"}, \"text\": [\"1\"]}, {\"y\": [1.0], \"mode\": \"markers+text\", \"marker\": {\"line\": {\"width\": 2, \"color\": \"rgb(0, 0, 0)\"}, \"color\": \"rgb(0, 0, 255)\", \"size\": 20}, \"textposition\": \"middle center\", \"x\": [0.3], \"hoverinfo\": \"none\", \"textfont\": {\"color\": \"rgb(255, 255, 255)\"}, \"text\": [\"0\"]}, {\"y\": [1.0], \"mode\": \"markers+text\", \"marker\": {\"line\": {\"width\": 2, \"color\": \"rgb(0, 0, 0)\"}, \"color\": \"rgb(0, 0, 255)\", \"size\": 20}, \"textposition\": \"middle center\", \"x\": [0.7], \"hoverinfo\": \"none\", \"textfont\": {\"color\": \"rgb(255, 255, 255)\"}, \"text\": [\"2\"]}, {\"y\": [1.0], \"mode\": \"markers+text\", \"marker\": {\"line\": {\"width\": 2, \"color\": \"rgb(0, 0, 0)\"}, \"color\": \"rgb(255, 0, 0)\", \"size\": 20}, \"textposition\": \"middle center\", \"x\": [1.0], \"hoverinfo\": \"none\", \"textfont\": {\"color\": \"rgb(255, 255, 255)\"}, \"text\": [\"3\"]}, {\"y\": [0.0], \"mode\": \"markers+text\", \"marker\": {\"line\": {\"width\": 2, \"color\": \"rgb(0, 0, 0)\"}, \"color\": \"rgb(0, 0, 255)\", \"size\": 20}, \"textposition\": \"middle center\", \"x\": [0.0], \"hoverinfo\": \"none\", \"textfont\": {\"color\": \"rgb(255, 255, 255)\"}, \"text\": [\"2\"]}, {\"y\": [0.0], \"mode\": \"markers+text\", \"marker\": {\"line\": {\"width\": 2, \"color\": \"rgb(0, 0, 0)\"}, \"color\": \"rgb(0, 0, 255)\", \"size\": 20}, \"textposition\": \"middle center\", \"x\": [0.3], \"hoverinfo\": \"none\", \"textfont\": {\"color\": \"rgb(255, 255, 255)\"}, \"text\": [\"1\"]}, {\"y\": [0.0], \"mode\": \"markers+text\", \"marker\": {\"line\": {\"width\": 2, \"color\": \"rgb(0, 0, 0)\"}, \"color\": \"rgb(0, 0, 255)\", \"size\": 20}, \"textposition\": \"middle center\", \"x\": [0.7], \"hoverinfo\": \"none\", \"textfont\": {\"color\": \"rgb(255, 255, 255)\"}, \"text\": [\"2\"]}, {\"y\": [0.0], \"mode\": \"markers+text\", \"marker\": {\"line\": {\"width\": 2, \"color\": \"rgb(0, 0, 0)\"}, \"color\": \"rgb(255, 255, 255)\", \"size\": 20}, \"textposition\": \"middle center\", \"x\": [1.0], \"hoverinfo\": \"none\", \"textfont\": {\"color\": \"rgb(0, 0, 0)\"}, \"text\": [\"3\"]}], \"name\": 49}, {\"data\": [{\"y\": [1.0, 1.0, null], \"mode\": \"lines\", \"x\": [0.0, 0.3, null], \"line\": {\"width\": 2, \"color\": \"rgb(0, 0, 0)\"}, \"hoverinfo\": \"none\"}, {\"y\": [1.0, 0.0, null], \"mode\": \"lines\", \"x\": [0.0, 0.0, null], \"line\": {\"width\": 2, \"color\": \"rgb(0, 0, 0)\"}, \"hoverinfo\": \"none\"}, {\"y\": [1.0, 0.0, null], \"mode\": \"lines\", \"x\": [0.3, 0.3, null], \"line\": {\"width\": 2, \"color\": \"rgb(0, 0, 0)\"}, \"hoverinfo\": \"none\"}, {\"y\": [1.0, 1.0, null], \"mode\": \"lines\", \"x\": [0.7, 1.0, null], \"line\": {\"width\": 2, \"color\": \"rgb(0, 0, 0)\"}, \"hoverinfo\": \"none\"}, {\"y\": [1.0, 0.0, null], \"mode\": \"lines\", \"x\": [0.7, 0.3, null], \"line\": {\"width\": 2, \"color\": \"rgb(0, 0, 0)\"}, \"hoverinfo\": \"none\"}, {\"y\": [1.0, 0.0, null], \"mode\": \"lines\", \"x\": [0.7, 0.7, null], \"line\": {\"width\": 2, \"color\": \"rgb(0, 0, 0)\"}, \"hoverinfo\": \"none\"}, {\"y\": [1.0, 0.0, null], \"mode\": \"lines\", \"x\": [1.0, 0.7, null], \"line\": {\"width\": 2, \"color\": \"rgb(0, 0, 0)\"}, \"hoverinfo\": \"none\"}, {\"y\": [1.0, 0.0, null], \"mode\": \"lines\", \"x\": [1.0, 1.0, null], \"line\": {\"width\": 2, \"color\": \"rgb(0, 0, 0)\"}, \"hoverinfo\": \"none\"}, {\"y\": [0.0, 0.0, null], \"mode\": \"lines\", \"x\": [0.3, 0.7, null], \"line\": {\"width\": 2, \"color\": \"rgb(0, 0, 0)\"}, \"hoverinfo\": \"none\"}, {\"y\": [0.0, 0.0, null], \"mode\": \"lines\", \"x\": [0.7, 1.0, null], \"line\": {\"width\": 2, \"color\": \"rgb(0, 0, 0)\"}, \"hoverinfo\": \"none\"}, {\"y\": [1.0], \"mode\": \"markers+text\", \"marker\": {\"line\": {\"width\": 2, \"color\": \"rgb(0, 0, 0)\"}, \"color\": \"rgb(0, 0, 255)\", \"size\": 20}, \"textposition\": \"middle center\", \"x\": [0.0], \"hoverinfo\": \"none\", \"textfont\": {\"color\": \"rgb(255, 255, 255)\"}, \"text\": [\"1\"]}, {\"y\": [1.0], \"mode\": \"markers+text\", \"marker\": {\"line\": {\"width\": 2, \"color\": \"rgb(0, 0, 0)\"}, \"color\": \"rgb(0, 0, 255)\", \"size\": 20}, \"textposition\": \"middle center\", \"x\": [0.3], \"hoverinfo\": \"none\", \"textfont\": {\"color\": \"rgb(255, 255, 255)\"}, \"text\": [\"0\"]}, {\"y\": [1.0], \"mode\": \"markers+text\", \"marker\": {\"line\": {\"width\": 2, \"color\": \"rgb(0, 0, 0)\"}, \"color\": \"rgb(0, 0, 255)\", \"size\": 20}, \"textposition\": \"middle center\", \"x\": [0.7], \"hoverinfo\": \"none\", \"textfont\": {\"color\": \"rgb(255, 255, 255)\"}, \"text\": [\"2\"]}, {\"y\": [1.0], \"mode\": \"markers+text\", \"marker\": {\"line\": {\"width\": 2, \"color\": \"rgb(0, 0, 0)\"}, \"color\": \"rgb(0, 0, 255)\", \"size\": 20}, \"textposition\": \"middle center\", \"x\": [1.0], \"hoverinfo\": \"none\", \"textfont\": {\"color\": \"rgb(255, 255, 255)\"}, \"text\": [\"3\"]}, {\"y\": [0.0], \"mode\": \"markers+text\", \"marker\": {\"line\": {\"width\": 2, \"color\": \"rgb(0, 0, 0)\"}, \"color\": \"rgb(0, 0, 255)\", \"size\": 20}, \"textposition\": \"middle center\", \"x\": [0.0], \"hoverinfo\": \"none\", \"textfont\": {\"color\": \"rgb(255, 255, 255)\"}, \"text\": [\"2\"]}, {\"y\": [0.0], \"mode\": \"markers+text\", \"marker\": {\"line\": {\"width\": 2, \"color\": \"rgb(0, 0, 0)\"}, \"color\": \"rgb(0, 0, 255)\", \"size\": 20}, \"textposition\": \"middle center\", \"x\": [0.3], \"hoverinfo\": \"none\", \"textfont\": {\"color\": \"rgb(255, 255, 255)\"}, \"text\": [\"1\"]}, {\"y\": [0.0], \"mode\": \"markers+text\", \"marker\": {\"line\": {\"width\": 2, \"color\": \"rgb(0, 0, 0)\"}, \"color\": \"rgb(0, 0, 255)\", \"size\": 20}, \"textposition\": \"middle center\", \"x\": [0.7], \"hoverinfo\": \"none\", \"textfont\": {\"color\": \"rgb(255, 255, 255)\"}, \"text\": [\"2\"]}, {\"y\": [0.0], \"mode\": \"markers+text\", \"marker\": {\"line\": {\"width\": 2, \"color\": \"rgb(0, 0, 0)\"}, \"color\": \"rgb(255, 255, 255)\", \"size\": 20}, \"textposition\": \"middle center\", \"x\": [1.0], \"hoverinfo\": \"none\", \"textfont\": {\"color\": \"rgb(0, 0, 0)\"}, \"text\": [\"3\"]}], \"name\": 50}, {\"data\": [{\"y\": [1.0, 1.0, null], \"mode\": \"lines\", \"x\": [0.0, 0.3, null], \"line\": {\"width\": 2, \"color\": \"rgb(0, 0, 0)\"}, \"hoverinfo\": \"none\"}, {\"y\": [1.0, 0.0, null], \"mode\": \"lines\", \"x\": [0.0, 0.0, null], \"line\": {\"width\": 2, \"color\": \"rgb(0, 0, 0)\"}, \"hoverinfo\": \"none\"}, {\"y\": [1.0, 0.0, null], \"mode\": \"lines\", \"x\": [0.3, 0.3, null], \"line\": {\"width\": 2, \"color\": \"rgb(0, 0, 0)\"}, \"hoverinfo\": \"none\"}, {\"y\": [1.0, 1.0, null], \"mode\": \"lines\", \"x\": [0.7, 1.0, null], \"line\": {\"width\": 2, \"color\": \"rgb(0, 0, 0)\"}, \"hoverinfo\": \"none\"}, {\"y\": [1.0, 0.0, null], \"mode\": \"lines\", \"x\": [0.7, 0.3, null], \"line\": {\"width\": 2, \"color\": \"rgb(0, 0, 0)\"}, \"hoverinfo\": \"none\"}, {\"y\": [1.0, 0.0, null], \"mode\": \"lines\", \"x\": [0.7, 0.7, null], \"line\": {\"width\": 2, \"color\": \"rgb(0, 0, 0)\"}, \"hoverinfo\": \"none\"}, {\"y\": [1.0, 0.0, null], \"mode\": \"lines\", \"x\": [1.0, 0.7, null], \"line\": {\"width\": 2, \"color\": \"rgb(0, 0, 0)\"}, \"hoverinfo\": \"none\"}, {\"y\": [1.0, 0.0, null], \"mode\": \"lines\", \"x\": [1.0, 1.0, null], \"line\": {\"width\": 2, \"color\": \"rgb(0, 0, 0)\"}, \"hoverinfo\": \"none\"}, {\"y\": [0.0, 0.0, null], \"mode\": \"lines\", \"x\": [0.3, 0.7, null], \"line\": {\"width\": 2, \"color\": \"rgb(0, 0, 0)\"}, \"hoverinfo\": \"none\"}, {\"y\": [0.0, 0.0, null], \"mode\": \"lines\", \"x\": [0.7, 1.0, null], \"line\": {\"width\": 2, \"color\": \"rgb(0, 0, 0)\"}, \"hoverinfo\": \"none\"}, {\"y\": [1.0], \"mode\": \"markers+text\", \"marker\": {\"line\": {\"width\": 2, \"color\": \"rgb(0, 0, 0)\"}, \"color\": \"rgb(0, 0, 255)\", \"size\": 20}, \"textposition\": \"middle center\", \"x\": [0.0], \"hoverinfo\": \"none\", \"textfont\": {\"color\": \"rgb(255, 255, 255)\"}, \"text\": [\"1\"]}, {\"y\": [1.0], \"mode\": \"markers+text\", \"marker\": {\"line\": {\"width\": 2, \"color\": \"rgb(0, 0, 0)\"}, \"color\": \"rgb(0, 0, 255)\", \"size\": 20}, \"textposition\": \"middle center\", \"x\": [0.3], \"hoverinfo\": \"none\", \"textfont\": {\"color\": \"rgb(255, 255, 255)\"}, \"text\": [\"0\"]}, {\"y\": [1.0], \"mode\": \"markers+text\", \"marker\": {\"line\": {\"width\": 2, \"color\": \"rgb(0, 0, 0)\"}, \"color\": \"rgb(0, 0, 255)\", \"size\": 20}, \"textposition\": \"middle center\", \"x\": [0.7], \"hoverinfo\": \"none\", \"textfont\": {\"color\": \"rgb(255, 255, 255)\"}, \"text\": [\"2\"]}, {\"y\": [1.0], \"mode\": \"markers+text\", \"marker\": {\"line\": {\"width\": 2, \"color\": \"rgb(0, 0, 0)\"}, \"color\": \"rgb(0, 0, 255)\", \"size\": 20}, \"textposition\": \"middle center\", \"x\": [1.0], \"hoverinfo\": \"none\", \"textfont\": {\"color\": \"rgb(255, 255, 255)\"}, \"text\": [\"3\"]}, {\"y\": [0.0], \"mode\": \"markers+text\", \"marker\": {\"line\": {\"width\": 2, \"color\": \"rgb(0, 0, 0)\"}, \"color\": \"rgb(0, 0, 255)\", \"size\": 20}, \"textposition\": \"middle center\", \"x\": [0.0], \"hoverinfo\": \"none\", \"textfont\": {\"color\": \"rgb(255, 255, 255)\"}, \"text\": [\"2\"]}, {\"y\": [0.0], \"mode\": \"markers+text\", \"marker\": {\"line\": {\"width\": 2, \"color\": \"rgb(0, 0, 0)\"}, \"color\": \"rgb(0, 0, 255)\", \"size\": 20}, \"textposition\": \"middle center\", \"x\": [0.3], \"hoverinfo\": \"none\", \"textfont\": {\"color\": \"rgb(255, 255, 255)\"}, \"text\": [\"1\"]}, {\"y\": [0.0], \"mode\": \"markers+text\", \"marker\": {\"line\": {\"width\": 2, \"color\": \"rgb(0, 0, 0)\"}, \"color\": \"rgb(0, 0, 255)\", \"size\": 20}, \"textposition\": \"middle center\", \"x\": [0.7], \"hoverinfo\": \"none\", \"textfont\": {\"color\": \"rgb(255, 255, 255)\"}, \"text\": [\"2\"]}, {\"y\": [0.0], \"mode\": \"markers+text\", \"marker\": {\"line\": {\"width\": 2, \"color\": \"rgb(0, 0, 0)\"}, \"color\": \"rgb(255, 0, 0)\", \"size\": 20}, \"textposition\": \"middle center\", \"x\": [1.0], \"hoverinfo\": \"none\", \"textfont\": {\"color\": \"rgb(255, 255, 255)\"}, \"text\": [\"3\"]}], \"name\": 51}, {\"data\": [{\"y\": [1.0, 1.0, null], \"mode\": \"lines\", \"x\": [0.0, 0.3, null], \"line\": {\"width\": 2, \"color\": \"rgb(0, 0, 0)\"}, \"hoverinfo\": \"none\"}, {\"y\": [1.0, 0.0, null], \"mode\": \"lines\", \"x\": [0.0, 0.0, null], \"line\": {\"width\": 2, \"color\": \"rgb(0, 0, 0)\"}, \"hoverinfo\": \"none\"}, {\"y\": [1.0, 0.0, null], \"mode\": \"lines\", \"x\": [0.3, 0.3, null], \"line\": {\"width\": 2, \"color\": \"rgb(0, 0, 0)\"}, \"hoverinfo\": \"none\"}, {\"y\": [1.0, 1.0, null], \"mode\": \"lines\", \"x\": [0.7, 1.0, null], \"line\": {\"width\": 2, \"color\": \"rgb(0, 0, 0)\"}, \"hoverinfo\": \"none\"}, {\"y\": [1.0, 0.0, null], \"mode\": \"lines\", \"x\": [0.7, 0.3, null], \"line\": {\"width\": 2, \"color\": \"rgb(0, 0, 0)\"}, \"hoverinfo\": \"none\"}, {\"y\": [1.0, 0.0, null], \"mode\": \"lines\", \"x\": [0.7, 0.7, null], \"line\": {\"width\": 2, \"color\": \"rgb(0, 0, 0)\"}, \"hoverinfo\": \"none\"}, {\"y\": [1.0, 0.0, null], \"mode\": \"lines\", \"x\": [1.0, 0.7, null], \"line\": {\"width\": 2, \"color\": \"rgb(0, 0, 0)\"}, \"hoverinfo\": \"none\"}, {\"y\": [1.0, 0.0, null], \"mode\": \"lines\", \"x\": [1.0, 1.0, null], \"line\": {\"width\": 2, \"color\": \"rgb(255, 0, 0)\"}, \"hoverinfo\": \"none\"}, {\"y\": [0.0, 0.0, null], \"mode\": \"lines\", \"x\": [0.3, 0.7, null], \"line\": {\"width\": 2, \"color\": \"rgb(0, 0, 0)\"}, \"hoverinfo\": \"none\"}, {\"y\": [0.0, 0.0, null], \"mode\": \"lines\", \"x\": [0.7, 1.0, null], \"line\": {\"width\": 2, \"color\": \"rgb(0, 0, 0)\"}, \"hoverinfo\": \"none\"}, {\"y\": [1.0], \"mode\": \"markers+text\", \"marker\": {\"line\": {\"width\": 2, \"color\": \"rgb(0, 0, 0)\"}, \"color\": \"rgb(0, 0, 255)\", \"size\": 20}, \"textposition\": \"middle center\", \"x\": [0.0], \"hoverinfo\": \"none\", \"textfont\": {\"color\": \"rgb(255, 255, 255)\"}, \"text\": [\"1\"]}, {\"y\": [1.0], \"mode\": \"markers+text\", \"marker\": {\"line\": {\"width\": 2, \"color\": \"rgb(0, 0, 0)\"}, \"color\": \"rgb(0, 0, 255)\", \"size\": 20}, \"textposition\": \"middle center\", \"x\": [0.3], \"hoverinfo\": \"none\", \"textfont\": {\"color\": \"rgb(255, 255, 255)\"}, \"text\": [\"0\"]}, {\"y\": [1.0], \"mode\": \"markers+text\", \"marker\": {\"line\": {\"width\": 2, \"color\": \"rgb(0, 0, 0)\"}, \"color\": \"rgb(0, 0, 255)\", \"size\": 20}, \"textposition\": \"middle center\", \"x\": [0.7], \"hoverinfo\": \"none\", \"textfont\": {\"color\": \"rgb(255, 255, 255)\"}, \"text\": [\"2\"]}, {\"y\": [1.0], \"mode\": \"markers+text\", \"marker\": {\"line\": {\"width\": 2, \"color\": \"rgb(0, 0, 0)\"}, \"color\": \"rgb(0, 0, 255)\", \"size\": 20}, \"textposition\": \"middle center\", \"x\": [1.0], \"hoverinfo\": \"none\", \"textfont\": {\"color\": \"rgb(255, 255, 255)\"}, \"text\": [\"3\"]}, {\"y\": [0.0], \"mode\": \"markers+text\", \"marker\": {\"line\": {\"width\": 2, \"color\": \"rgb(0, 0, 0)\"}, \"color\": \"rgb(0, 0, 255)\", \"size\": 20}, \"textposition\": \"middle center\", \"x\": [0.0], \"hoverinfo\": \"none\", \"textfont\": {\"color\": \"rgb(255, 255, 255)\"}, \"text\": [\"2\"]}, {\"y\": [0.0], \"mode\": \"markers+text\", \"marker\": {\"line\": {\"width\": 2, \"color\": \"rgb(0, 0, 0)\"}, \"color\": \"rgb(0, 0, 255)\", \"size\": 20}, \"textposition\": \"middle center\", \"x\": [0.3], \"hoverinfo\": \"none\", \"textfont\": {\"color\": \"rgb(255, 255, 255)\"}, \"text\": [\"1\"]}, {\"y\": [0.0], \"mode\": \"markers+text\", \"marker\": {\"line\": {\"width\": 2, \"color\": \"rgb(0, 0, 0)\"}, \"color\": \"rgb(0, 0, 255)\", \"size\": 20}, \"textposition\": \"middle center\", \"x\": [0.7], \"hoverinfo\": \"none\", \"textfont\": {\"color\": \"rgb(255, 255, 255)\"}, \"text\": [\"2\"]}, {\"y\": [0.0], \"mode\": \"markers+text\", \"marker\": {\"line\": {\"width\": 2, \"color\": \"rgb(0, 0, 0)\"}, \"color\": \"rgb(255, 0, 0)\", \"size\": 20}, \"textposition\": \"middle center\", \"x\": [1.0], \"hoverinfo\": \"none\", \"textfont\": {\"color\": \"rgb(255, 255, 255)\"}, \"text\": [\"3\"]}], \"name\": 52}, {\"data\": [{\"y\": [1.0, 1.0, null], \"mode\": \"lines\", \"x\": [0.0, 0.3, null], \"line\": {\"width\": 2, \"color\": \"rgb(0, 0, 0)\"}, \"hoverinfo\": \"none\"}, {\"y\": [1.0, 0.0, null], \"mode\": \"lines\", \"x\": [0.0, 0.0, null], \"line\": {\"width\": 2, \"color\": \"rgb(0, 0, 0)\"}, \"hoverinfo\": \"none\"}, {\"y\": [1.0, 0.0, null], \"mode\": \"lines\", \"x\": [0.3, 0.3, null], \"line\": {\"width\": 2, \"color\": \"rgb(0, 0, 0)\"}, \"hoverinfo\": \"none\"}, {\"y\": [1.0, 1.0, null], \"mode\": \"lines\", \"x\": [0.7, 1.0, null], \"line\": {\"width\": 2, \"color\": \"rgb(0, 0, 0)\"}, \"hoverinfo\": \"none\"}, {\"y\": [1.0, 0.0, null], \"mode\": \"lines\", \"x\": [0.7, 0.3, null], \"line\": {\"width\": 2, \"color\": \"rgb(0, 0, 0)\"}, \"hoverinfo\": \"none\"}, {\"y\": [1.0, 0.0, null], \"mode\": \"lines\", \"x\": [0.7, 0.7, null], \"line\": {\"width\": 2, \"color\": \"rgb(0, 0, 0)\"}, \"hoverinfo\": \"none\"}, {\"y\": [1.0, 0.0, null], \"mode\": \"lines\", \"x\": [1.0, 0.7, null], \"line\": {\"width\": 2, \"color\": \"rgb(0, 0, 0)\"}, \"hoverinfo\": \"none\"}, {\"y\": [1.0, 0.0, null], \"mode\": \"lines\", \"x\": [1.0, 1.0, null], \"line\": {\"width\": 2, \"color\": \"rgb(0, 0, 0)\"}, \"hoverinfo\": \"none\"}, {\"y\": [0.0, 0.0, null], \"mode\": \"lines\", \"x\": [0.3, 0.7, null], \"line\": {\"width\": 2, \"color\": \"rgb(0, 0, 0)\"}, \"hoverinfo\": \"none\"}, {\"y\": [0.0, 0.0, null], \"mode\": \"lines\", \"x\": [0.7, 1.0, null], \"line\": {\"width\": 2, \"color\": \"rgb(0, 0, 0)\"}, \"hoverinfo\": \"none\"}, {\"y\": [1.0], \"mode\": \"markers+text\", \"marker\": {\"line\": {\"width\": 2, \"color\": \"rgb(0, 0, 0)\"}, \"color\": \"rgb(0, 0, 255)\", \"size\": 20}, \"textposition\": \"middle center\", \"x\": [0.0], \"hoverinfo\": \"none\", \"textfont\": {\"color\": \"rgb(255, 255, 255)\"}, \"text\": [\"1\"]}, {\"y\": [1.0], \"mode\": \"markers+text\", \"marker\": {\"line\": {\"width\": 2, \"color\": \"rgb(0, 0, 0)\"}, \"color\": \"rgb(0, 0, 255)\", \"size\": 20}, \"textposition\": \"middle center\", \"x\": [0.3], \"hoverinfo\": \"none\", \"textfont\": {\"color\": \"rgb(255, 255, 255)\"}, \"text\": [\"0\"]}, {\"y\": [1.0], \"mode\": \"markers+text\", \"marker\": {\"line\": {\"width\": 2, \"color\": \"rgb(0, 0, 0)\"}, \"color\": \"rgb(0, 0, 255)\", \"size\": 20}, \"textposition\": \"middle center\", \"x\": [0.7], \"hoverinfo\": \"none\", \"textfont\": {\"color\": \"rgb(255, 255, 255)\"}, \"text\": [\"2\"]}, {\"y\": [1.0], \"mode\": \"markers+text\", \"marker\": {\"line\": {\"width\": 2, \"color\": \"rgb(0, 0, 0)\"}, \"color\": \"rgb(0, 0, 255)\", \"size\": 20}, \"textposition\": \"middle center\", \"x\": [1.0], \"hoverinfo\": \"none\", \"textfont\": {\"color\": \"rgb(255, 255, 255)\"}, \"text\": [\"3\"]}, {\"y\": [0.0], \"mode\": \"markers+text\", \"marker\": {\"line\": {\"width\": 2, \"color\": \"rgb(0, 0, 0)\"}, \"color\": \"rgb(0, 0, 255)\", \"size\": 20}, \"textposition\": \"middle center\", \"x\": [0.0], \"hoverinfo\": \"none\", \"textfont\": {\"color\": \"rgb(255, 255, 255)\"}, \"text\": [\"2\"]}, {\"y\": [0.0], \"mode\": \"markers+text\", \"marker\": {\"line\": {\"width\": 2, \"color\": \"rgb(0, 0, 0)\"}, \"color\": \"rgb(0, 0, 255)\", \"size\": 20}, \"textposition\": \"middle center\", \"x\": [0.3], \"hoverinfo\": \"none\", \"textfont\": {\"color\": \"rgb(255, 255, 255)\"}, \"text\": [\"1\"]}, {\"y\": [0.0], \"mode\": \"markers+text\", \"marker\": {\"line\": {\"width\": 2, \"color\": \"rgb(0, 0, 0)\"}, \"color\": \"rgb(0, 0, 255)\", \"size\": 20}, \"textposition\": \"middle center\", \"x\": [0.7], \"hoverinfo\": \"none\", \"textfont\": {\"color\": \"rgb(255, 255, 255)\"}, \"text\": [\"2\"]}, {\"y\": [0.0], \"mode\": \"markers+text\", \"marker\": {\"line\": {\"width\": 2, \"color\": \"rgb(0, 0, 0)\"}, \"color\": \"rgb(255, 0, 0)\", \"size\": 20}, \"textposition\": \"middle center\", \"x\": [1.0], \"hoverinfo\": \"none\", \"textfont\": {\"color\": \"rgb(255, 255, 255)\"}, \"text\": [\"3\"]}], \"name\": 53}, {\"data\": [{\"y\": [1.0, 1.0, null], \"mode\": \"lines\", \"x\": [0.0, 0.3, null], \"line\": {\"width\": 2, \"color\": \"rgb(0, 0, 0)\"}, \"hoverinfo\": \"none\"}, {\"y\": [1.0, 0.0, null], \"mode\": \"lines\", \"x\": [0.0, 0.0, null], \"line\": {\"width\": 2, \"color\": \"rgb(0, 0, 0)\"}, \"hoverinfo\": \"none\"}, {\"y\": [1.0, 0.0, null], \"mode\": \"lines\", \"x\": [0.3, 0.3, null], \"line\": {\"width\": 2, \"color\": \"rgb(0, 0, 0)\"}, \"hoverinfo\": \"none\"}, {\"y\": [1.0, 1.0, null], \"mode\": \"lines\", \"x\": [0.7, 1.0, null], \"line\": {\"width\": 2, \"color\": \"rgb(0, 0, 0)\"}, \"hoverinfo\": \"none\"}, {\"y\": [1.0, 0.0, null], \"mode\": \"lines\", \"x\": [0.7, 0.3, null], \"line\": {\"width\": 2, \"color\": \"rgb(0, 0, 0)\"}, \"hoverinfo\": \"none\"}, {\"y\": [1.0, 0.0, null], \"mode\": \"lines\", \"x\": [0.7, 0.7, null], \"line\": {\"width\": 2, \"color\": \"rgb(0, 0, 0)\"}, \"hoverinfo\": \"none\"}, {\"y\": [1.0, 0.0, null], \"mode\": \"lines\", \"x\": [1.0, 0.7, null], \"line\": {\"width\": 2, \"color\": \"rgb(0, 0, 0)\"}, \"hoverinfo\": \"none\"}, {\"y\": [1.0, 0.0, null], \"mode\": \"lines\", \"x\": [1.0, 1.0, null], \"line\": {\"width\": 2, \"color\": \"rgb(0, 0, 0)\"}, \"hoverinfo\": \"none\"}, {\"y\": [0.0, 0.0, null], \"mode\": \"lines\", \"x\": [0.3, 0.7, null], \"line\": {\"width\": 2, \"color\": \"rgb(0, 0, 0)\"}, \"hoverinfo\": \"none\"}, {\"y\": [0.0, 0.0, null], \"mode\": \"lines\", \"x\": [0.7, 1.0, null], \"line\": {\"width\": 2, \"color\": \"rgb(255, 0, 0)\"}, \"hoverinfo\": \"none\"}, {\"y\": [1.0], \"mode\": \"markers+text\", \"marker\": {\"line\": {\"width\": 2, \"color\": \"rgb(0, 0, 0)\"}, \"color\": \"rgb(0, 0, 255)\", \"size\": 20}, \"textposition\": \"middle center\", \"x\": [0.0], \"hoverinfo\": \"none\", \"textfont\": {\"color\": \"rgb(255, 255, 255)\"}, \"text\": [\"1\"]}, {\"y\": [1.0], \"mode\": \"markers+text\", \"marker\": {\"line\": {\"width\": 2, \"color\": \"rgb(0, 0, 0)\"}, \"color\": \"rgb(0, 0, 255)\", \"size\": 20}, \"textposition\": \"middle center\", \"x\": [0.3], \"hoverinfo\": \"none\", \"textfont\": {\"color\": \"rgb(255, 255, 255)\"}, \"text\": [\"0\"]}, {\"y\": [1.0], \"mode\": \"markers+text\", \"marker\": {\"line\": {\"width\": 2, \"color\": \"rgb(0, 0, 0)\"}, \"color\": \"rgb(0, 0, 255)\", \"size\": 20}, \"textposition\": \"middle center\", \"x\": [0.7], \"hoverinfo\": \"none\", \"textfont\": {\"color\": \"rgb(255, 255, 255)\"}, \"text\": [\"2\"]}, {\"y\": [1.0], \"mode\": \"markers+text\", \"marker\": {\"line\": {\"width\": 2, \"color\": \"rgb(0, 0, 0)\"}, \"color\": \"rgb(0, 0, 255)\", \"size\": 20}, \"textposition\": \"middle center\", \"x\": [1.0], \"hoverinfo\": \"none\", \"textfont\": {\"color\": \"rgb(255, 255, 255)\"}, \"text\": [\"3\"]}, {\"y\": [0.0], \"mode\": \"markers+text\", \"marker\": {\"line\": {\"width\": 2, \"color\": \"rgb(0, 0, 0)\"}, \"color\": \"rgb(0, 0, 255)\", \"size\": 20}, \"textposition\": \"middle center\", \"x\": [0.0], \"hoverinfo\": \"none\", \"textfont\": {\"color\": \"rgb(255, 255, 255)\"}, \"text\": [\"2\"]}, {\"y\": [0.0], \"mode\": \"markers+text\", \"marker\": {\"line\": {\"width\": 2, \"color\": \"rgb(0, 0, 0)\"}, \"color\": \"rgb(0, 0, 255)\", \"size\": 20}, \"textposition\": \"middle center\", \"x\": [0.3], \"hoverinfo\": \"none\", \"textfont\": {\"color\": \"rgb(255, 255, 255)\"}, \"text\": [\"1\"]}, {\"y\": [0.0], \"mode\": \"markers+text\", \"marker\": {\"line\": {\"width\": 2, \"color\": \"rgb(0, 0, 0)\"}, \"color\": \"rgb(0, 0, 255)\", \"size\": 20}, \"textposition\": \"middle center\", \"x\": [0.7], \"hoverinfo\": \"none\", \"textfont\": {\"color\": \"rgb(255, 255, 255)\"}, \"text\": [\"2\"]}, {\"y\": [0.0], \"mode\": \"markers+text\", \"marker\": {\"line\": {\"width\": 2, \"color\": \"rgb(0, 0, 0)\"}, \"color\": \"rgb(255, 0, 0)\", \"size\": 20}, \"textposition\": \"middle center\", \"x\": [1.0], \"hoverinfo\": \"none\", \"textfont\": {\"color\": \"rgb(255, 255, 255)\"}, \"text\": [\"3\"]}], \"name\": 54}, {\"data\": [{\"y\": [1.0, 1.0, null], \"mode\": \"lines\", \"x\": [0.0, 0.3, null], \"line\": {\"width\": 2, \"color\": \"rgb(0, 0, 0)\"}, \"hoverinfo\": \"none\"}, {\"y\": [1.0, 0.0, null], \"mode\": \"lines\", \"x\": [0.0, 0.0, null], \"line\": {\"width\": 2, \"color\": \"rgb(0, 0, 0)\"}, \"hoverinfo\": \"none\"}, {\"y\": [1.0, 0.0, null], \"mode\": \"lines\", \"x\": [0.3, 0.3, null], \"line\": {\"width\": 2, \"color\": \"rgb(0, 0, 0)\"}, \"hoverinfo\": \"none\"}, {\"y\": [1.0, 1.0, null], \"mode\": \"lines\", \"x\": [0.7, 1.0, null], \"line\": {\"width\": 2, \"color\": \"rgb(0, 0, 0)\"}, \"hoverinfo\": \"none\"}, {\"y\": [1.0, 0.0, null], \"mode\": \"lines\", \"x\": [0.7, 0.3, null], \"line\": {\"width\": 2, \"color\": \"rgb(0, 0, 0)\"}, \"hoverinfo\": \"none\"}, {\"y\": [1.0, 0.0, null], \"mode\": \"lines\", \"x\": [0.7, 0.7, null], \"line\": {\"width\": 2, \"color\": \"rgb(0, 0, 0)\"}, \"hoverinfo\": \"none\"}, {\"y\": [1.0, 0.0, null], \"mode\": \"lines\", \"x\": [1.0, 0.7, null], \"line\": {\"width\": 2, \"color\": \"rgb(0, 0, 0)\"}, \"hoverinfo\": \"none\"}, {\"y\": [1.0, 0.0, null], \"mode\": \"lines\", \"x\": [1.0, 1.0, null], \"line\": {\"width\": 2, \"color\": \"rgb(0, 0, 0)\"}, \"hoverinfo\": \"none\"}, {\"y\": [0.0, 0.0, null], \"mode\": \"lines\", \"x\": [0.3, 0.7, null], \"line\": {\"width\": 2, \"color\": \"rgb(0, 0, 0)\"}, \"hoverinfo\": \"none\"}, {\"y\": [0.0, 0.0, null], \"mode\": \"lines\", \"x\": [0.7, 1.0, null], \"line\": {\"width\": 2, \"color\": \"rgb(0, 0, 0)\"}, \"hoverinfo\": \"none\"}, {\"y\": [1.0], \"mode\": \"markers+text\", \"marker\": {\"line\": {\"width\": 2, \"color\": \"rgb(0, 0, 0)\"}, \"color\": \"rgb(0, 0, 255)\", \"size\": 20}, \"textposition\": \"middle center\", \"x\": [0.0], \"hoverinfo\": \"none\", \"textfont\": {\"color\": \"rgb(255, 255, 255)\"}, \"text\": [\"1\"]}, {\"y\": [1.0], \"mode\": \"markers+text\", \"marker\": {\"line\": {\"width\": 2, \"color\": \"rgb(0, 0, 0)\"}, \"color\": \"rgb(0, 0, 255)\", \"size\": 20}, \"textposition\": \"middle center\", \"x\": [0.3], \"hoverinfo\": \"none\", \"textfont\": {\"color\": \"rgb(255, 255, 255)\"}, \"text\": [\"0\"]}, {\"y\": [1.0], \"mode\": \"markers+text\", \"marker\": {\"line\": {\"width\": 2, \"color\": \"rgb(0, 0, 0)\"}, \"color\": \"rgb(0, 0, 255)\", \"size\": 20}, \"textposition\": \"middle center\", \"x\": [0.7], \"hoverinfo\": \"none\", \"textfont\": {\"color\": \"rgb(255, 255, 255)\"}, \"text\": [\"2\"]}, {\"y\": [1.0], \"mode\": \"markers+text\", \"marker\": {\"line\": {\"width\": 2, \"color\": \"rgb(0, 0, 0)\"}, \"color\": \"rgb(0, 0, 255)\", \"size\": 20}, \"textposition\": \"middle center\", \"x\": [1.0], \"hoverinfo\": \"none\", \"textfont\": {\"color\": \"rgb(255, 255, 255)\"}, \"text\": [\"3\"]}, {\"y\": [0.0], \"mode\": \"markers+text\", \"marker\": {\"line\": {\"width\": 2, \"color\": \"rgb(0, 0, 0)\"}, \"color\": \"rgb(0, 0, 255)\", \"size\": 20}, \"textposition\": \"middle center\", \"x\": [0.0], \"hoverinfo\": \"none\", \"textfont\": {\"color\": \"rgb(255, 255, 255)\"}, \"text\": [\"2\"]}, {\"y\": [0.0], \"mode\": \"markers+text\", \"marker\": {\"line\": {\"width\": 2, \"color\": \"rgb(0, 0, 0)\"}, \"color\": \"rgb(0, 0, 255)\", \"size\": 20}, \"textposition\": \"middle center\", \"x\": [0.3], \"hoverinfo\": \"none\", \"textfont\": {\"color\": \"rgb(255, 255, 255)\"}, \"text\": [\"1\"]}, {\"y\": [0.0], \"mode\": \"markers+text\", \"marker\": {\"line\": {\"width\": 2, \"color\": \"rgb(0, 0, 0)\"}, \"color\": \"rgb(0, 0, 255)\", \"size\": 20}, \"textposition\": \"middle center\", \"x\": [0.7], \"hoverinfo\": \"none\", \"textfont\": {\"color\": \"rgb(255, 255, 255)\"}, \"text\": [\"2\"]}, {\"y\": [0.0], \"mode\": \"markers+text\", \"marker\": {\"line\": {\"width\": 2, \"color\": \"rgb(0, 0, 0)\"}, \"color\": \"rgb(255, 0, 0)\", \"size\": 20}, \"textposition\": \"middle center\", \"x\": [1.0], \"hoverinfo\": \"none\", \"textfont\": {\"color\": \"rgb(255, 255, 255)\"}, \"text\": [\"3\"]}], \"name\": 55}, {\"data\": [{\"y\": [1.0, 1.0, null], \"mode\": \"lines\", \"x\": [0.0, 0.3, null], \"line\": {\"width\": 2, \"color\": \"rgb(0, 0, 0)\"}, \"hoverinfo\": \"none\"}, {\"y\": [1.0, 0.0, null], \"mode\": \"lines\", \"x\": [0.0, 0.0, null], \"line\": {\"width\": 2, \"color\": \"rgb(0, 0, 0)\"}, \"hoverinfo\": \"none\"}, {\"y\": [1.0, 0.0, null], \"mode\": \"lines\", \"x\": [0.3, 0.3, null], \"line\": {\"width\": 2, \"color\": \"rgb(0, 0, 0)\"}, \"hoverinfo\": \"none\"}, {\"y\": [1.0, 1.0, null], \"mode\": \"lines\", \"x\": [0.7, 1.0, null], \"line\": {\"width\": 2, \"color\": \"rgb(0, 0, 0)\"}, \"hoverinfo\": \"none\"}, {\"y\": [1.0, 0.0, null], \"mode\": \"lines\", \"x\": [0.7, 0.3, null], \"line\": {\"width\": 2, \"color\": \"rgb(0, 0, 0)\"}, \"hoverinfo\": \"none\"}, {\"y\": [1.0, 0.0, null], \"mode\": \"lines\", \"x\": [0.7, 0.7, null], \"line\": {\"width\": 2, \"color\": \"rgb(0, 0, 0)\"}, \"hoverinfo\": \"none\"}, {\"y\": [1.0, 0.0, null], \"mode\": \"lines\", \"x\": [1.0, 0.7, null], \"line\": {\"width\": 2, \"color\": \"rgb(0, 0, 0)\"}, \"hoverinfo\": \"none\"}, {\"y\": [1.0, 0.0, null], \"mode\": \"lines\", \"x\": [1.0, 1.0, null], \"line\": {\"width\": 2, \"color\": \"rgb(0, 0, 0)\"}, \"hoverinfo\": \"none\"}, {\"y\": [0.0, 0.0, null], \"mode\": \"lines\", \"x\": [0.3, 0.7, null], \"line\": {\"width\": 2, \"color\": \"rgb(0, 0, 0)\"}, \"hoverinfo\": \"none\"}, {\"y\": [0.0, 0.0, null], \"mode\": \"lines\", \"x\": [0.7, 1.0, null], \"line\": {\"width\": 2, \"color\": \"rgb(0, 0, 0)\"}, \"hoverinfo\": \"none\"}, {\"y\": [1.0], \"mode\": \"markers+text\", \"marker\": {\"line\": {\"width\": 2, \"color\": \"rgb(0, 0, 0)\"}, \"color\": \"rgb(0, 0, 255)\", \"size\": 20}, \"textposition\": \"middle center\", \"x\": [0.0], \"hoverinfo\": \"none\", \"textfont\": {\"color\": \"rgb(255, 255, 255)\"}, \"text\": [\"1\"]}, {\"y\": [1.0], \"mode\": \"markers+text\", \"marker\": {\"line\": {\"width\": 2, \"color\": \"rgb(0, 0, 0)\"}, \"color\": \"rgb(0, 0, 255)\", \"size\": 20}, \"textposition\": \"middle center\", \"x\": [0.3], \"hoverinfo\": \"none\", \"textfont\": {\"color\": \"rgb(255, 255, 255)\"}, \"text\": [\"0\"]}, {\"y\": [1.0], \"mode\": \"markers+text\", \"marker\": {\"line\": {\"width\": 2, \"color\": \"rgb(0, 0, 0)\"}, \"color\": \"rgb(0, 0, 255)\", \"size\": 20}, \"textposition\": \"middle center\", \"x\": [0.7], \"hoverinfo\": \"none\", \"textfont\": {\"color\": \"rgb(255, 255, 255)\"}, \"text\": [\"2\"]}, {\"y\": [1.0], \"mode\": \"markers+text\", \"marker\": {\"line\": {\"width\": 2, \"color\": \"rgb(0, 0, 0)\"}, \"color\": \"rgb(0, 0, 255)\", \"size\": 20}, \"textposition\": \"middle center\", \"x\": [1.0], \"hoverinfo\": \"none\", \"textfont\": {\"color\": \"rgb(255, 255, 255)\"}, \"text\": [\"3\"]}, {\"y\": [0.0], \"mode\": \"markers+text\", \"marker\": {\"line\": {\"width\": 2, \"color\": \"rgb(0, 0, 0)\"}, \"color\": \"rgb(0, 0, 255)\", \"size\": 20}, \"textposition\": \"middle center\", \"x\": [0.0], \"hoverinfo\": \"none\", \"textfont\": {\"color\": \"rgb(255, 255, 255)\"}, \"text\": [\"2\"]}, {\"y\": [0.0], \"mode\": \"markers+text\", \"marker\": {\"line\": {\"width\": 2, \"color\": \"rgb(0, 0, 0)\"}, \"color\": \"rgb(0, 0, 255)\", \"size\": 20}, \"textposition\": \"middle center\", \"x\": [0.3], \"hoverinfo\": \"none\", \"textfont\": {\"color\": \"rgb(255, 255, 255)\"}, \"text\": [\"1\"]}, {\"y\": [0.0], \"mode\": \"markers+text\", \"marker\": {\"line\": {\"width\": 2, \"color\": \"rgb(0, 0, 0)\"}, \"color\": \"rgb(0, 0, 255)\", \"size\": 20}, \"textposition\": \"middle center\", \"x\": [0.7], \"hoverinfo\": \"none\", \"textfont\": {\"color\": \"rgb(255, 255, 255)\"}, \"text\": [\"2\"]}, {\"y\": [0.0], \"mode\": \"markers+text\", \"marker\": {\"line\": {\"width\": 2, \"color\": \"rgb(0, 0, 0)\"}, \"color\": \"rgb(0, 0, 255)\", \"size\": 20}, \"textposition\": \"middle center\", \"x\": [1.0], \"hoverinfo\": \"none\", \"textfont\": {\"color\": \"rgb(255, 255, 255)\"}, \"text\": [\"3\"]}], \"name\": 56}]);}).then(function(){Plotly.animate('0775b808-1e6a-4987-a4fe-d9d6dad76465');})\n",
       "        });</script>"
      ],
      "text/vnd.plotly.v1+html": [
       "<div id=\"0775b808-1e6a-4987-a4fe-d9d6dad76465\" style=\"height: 256.0px; width: 408.0px;\" class=\"plotly-graph-div\"></div><script type=\"text/javascript\">require([\"plotly\"], function(Plotly) { window.PLOTLYENV=window.PLOTLYENV || {};window.PLOTLYENV.BASE_URL=\"https://plot.ly\";\n",
       "        Plotly.plot(\n",
       "            '0775b808-1e6a-4987-a4fe-d9d6dad76465',\n",
       "            [{\"y\": [1.0, 1.0, null], \"mode\": \"lines\", \"x\": [0.0, 0.3, null], \"line\": {\"width\": 2, \"color\": \"rgb(0, 0, 0)\"}, \"hoverinfo\": \"none\"}, {\"y\": [1.0, 0.0, null], \"mode\": \"lines\", \"x\": [0.0, 0.0, null], \"line\": {\"width\": 2, \"color\": \"rgb(0, 0, 0)\"}, \"hoverinfo\": \"none\"}, {\"y\": [1.0, 0.0, null], \"mode\": \"lines\", \"x\": [0.3, 0.3, null], \"line\": {\"width\": 2, \"color\": \"rgb(0, 0, 0)\"}, \"hoverinfo\": \"none\"}, {\"y\": [1.0, 1.0, null], \"mode\": \"lines\", \"x\": [0.7, 1.0, null], \"line\": {\"width\": 2, \"color\": \"rgb(0, 0, 0)\"}, \"hoverinfo\": \"none\"}, {\"y\": [1.0, 0.0, null], \"mode\": \"lines\", \"x\": [0.7, 0.3, null], \"line\": {\"width\": 2, \"color\": \"rgb(0, 0, 0)\"}, \"hoverinfo\": \"none\"}, {\"y\": [1.0, 0.0, null], \"mode\": \"lines\", \"x\": [0.7, 0.7, null], \"line\": {\"width\": 2, \"color\": \"rgb(0, 0, 0)\"}, \"hoverinfo\": \"none\"}, {\"y\": [1.0, 0.0, null], \"mode\": \"lines\", \"x\": [1.0, 0.7, null], \"line\": {\"width\": 2, \"color\": \"rgb(0, 0, 0)\"}, \"hoverinfo\": \"none\"}, {\"y\": [1.0, 0.0, null], \"mode\": \"lines\", \"x\": [1.0, 1.0, null], \"line\": {\"width\": 2, \"color\": \"rgb(0, 0, 0)\"}, \"hoverinfo\": \"none\"}, {\"y\": [0.0, 0.0, null], \"mode\": \"lines\", \"x\": [0.3, 0.7, null], \"line\": {\"width\": 2, \"color\": \"rgb(0, 0, 0)\"}, \"hoverinfo\": \"none\"}, {\"y\": [0.0, 0.0, null], \"mode\": \"lines\", \"x\": [0.7, 1.0, null], \"line\": {\"width\": 2, \"color\": \"rgb(0, 0, 0)\"}, \"hoverinfo\": \"none\"}, {\"y\": [1.0], \"mode\": \"markers+text\", \"marker\": {\"line\": {\"width\": 2, \"color\": \"rgb(0, 0, 0)\"}, \"color\": \"rgb(255, 255, 255)\", \"size\": 20}, \"textposition\": \"middle center\", \"x\": [0.0], \"hoverinfo\": \"none\", \"textfont\": {\"color\": \"rgb(0, 0, 0)\"}, \"text\": [\"\\u221e\"]}, {\"y\": [1.0], \"mode\": \"markers+text\", \"marker\": {\"line\": {\"width\": 2, \"color\": \"rgb(0, 0, 0)\"}, \"color\": \"rgb(255, 255, 255)\", \"size\": 20}, \"textposition\": \"middle center\", \"x\": [0.3], \"hoverinfo\": \"none\", \"textfont\": {\"color\": \"rgb(0, 0, 0)\"}, \"text\": [\"0\"]}, {\"y\": [1.0], \"mode\": \"markers+text\", \"marker\": {\"line\": {\"width\": 2, \"color\": \"rgb(0, 0, 0)\"}, \"color\": \"rgb(255, 255, 255)\", \"size\": 20}, \"textposition\": \"middle center\", \"x\": [0.7], \"hoverinfo\": \"none\", \"textfont\": {\"color\": \"rgb(0, 0, 0)\"}, \"text\": [\"\\u221e\"]}, {\"y\": [1.0], \"mode\": \"markers+text\", \"marker\": {\"line\": {\"width\": 2, \"color\": \"rgb(0, 0, 0)\"}, \"color\": \"rgb(255, 255, 255)\", \"size\": 20}, \"textposition\": \"middle center\", \"x\": [1.0], \"hoverinfo\": \"none\", \"textfont\": {\"color\": \"rgb(0, 0, 0)\"}, \"text\": [\"\\u221e\"]}, {\"y\": [0.0], \"mode\": \"markers+text\", \"marker\": {\"line\": {\"width\": 2, \"color\": \"rgb(0, 0, 0)\"}, \"color\": \"rgb(255, 255, 255)\", \"size\": 20}, \"textposition\": \"middle center\", \"x\": [0.0], \"hoverinfo\": \"none\", \"textfont\": {\"color\": \"rgb(0, 0, 0)\"}, \"text\": [\"\\u221e\"]}, {\"y\": [0.0], \"mode\": \"markers+text\", \"marker\": {\"line\": {\"width\": 2, \"color\": \"rgb(0, 0, 0)\"}, \"color\": \"rgb(255, 255, 255)\", \"size\": 20}, \"textposition\": \"middle center\", \"x\": [0.3], \"hoverinfo\": \"none\", \"textfont\": {\"color\": \"rgb(0, 0, 0)\"}, \"text\": [\"\\u221e\"]}, {\"y\": [0.0], \"mode\": \"markers+text\", \"marker\": {\"line\": {\"width\": 2, \"color\": \"rgb(0, 0, 0)\"}, \"color\": \"rgb(255, 255, 255)\", \"size\": 20}, \"textposition\": \"middle center\", \"x\": [0.7], \"hoverinfo\": \"none\", \"textfont\": {\"color\": \"rgb(0, 0, 0)\"}, \"text\": [\"\\u221e\"]}, {\"y\": [0.0], \"mode\": \"markers+text\", \"marker\": {\"line\": {\"width\": 2, \"color\": \"rgb(0, 0, 0)\"}, \"color\": \"rgb(255, 255, 255)\", \"size\": 20}, \"textposition\": \"middle center\", \"x\": [1.0], \"hoverinfo\": \"none\", \"textfont\": {\"color\": \"rgb(0, 0, 0)\"}, \"text\": [\"\\u221e\"]}],\n",
       "            {\"margin\": {\"b\": 0, \"t\": 0, \"r\": 0, \"l\": 0}, \"height\": 256.0, \"sliders\": [{\"currentvalue\": {\"visible\": false}, \"steps\": [{\"args\": [[0], {\"frame\": {\"redraw\": false}, \"mode\": \"immediate\"}], \"method\": \"animate\", \"label\": \"\"}, {\"args\": [[1], {\"frame\": {\"redraw\": false}, \"mode\": \"immediate\"}], \"method\": \"animate\", \"label\": \"\"}, {\"args\": [[2], {\"frame\": {\"redraw\": false}, \"mode\": \"immediate\"}], \"method\": \"animate\", \"label\": \"\"}, {\"args\": [[3], {\"frame\": {\"redraw\": false}, \"mode\": \"immediate\"}], \"method\": \"animate\", \"label\": \"\"}, {\"args\": [[4], {\"frame\": {\"redraw\": false}, \"mode\": \"immediate\"}], \"method\": \"animate\", \"label\": \"\"}, {\"args\": [[5], {\"frame\": {\"redraw\": false}, \"mode\": \"immediate\"}], \"method\": \"animate\", \"label\": \"\"}, {\"args\": [[6], {\"frame\": {\"redraw\": false}, \"mode\": \"immediate\"}], \"method\": \"animate\", \"label\": \"\"}, {\"args\": [[7], {\"frame\": {\"redraw\": false}, \"mode\": \"immediate\"}], \"method\": \"animate\", \"label\": \"\"}, {\"args\": [[8], {\"frame\": {\"redraw\": false}, \"mode\": \"immediate\"}], \"method\": \"animate\", \"label\": \"\"}, {\"args\": [[9], {\"frame\": {\"redraw\": false}, \"mode\": \"immediate\"}], \"method\": \"animate\", \"label\": \"\"}, {\"args\": [[10], {\"frame\": {\"redraw\": false}, \"mode\": \"immediate\"}], \"method\": \"animate\", \"label\": \"\"}, {\"args\": [[11], {\"frame\": {\"redraw\": false}, \"mode\": \"immediate\"}], \"method\": \"animate\", \"label\": \"\"}, {\"args\": [[12], {\"frame\": {\"redraw\": false}, \"mode\": \"immediate\"}], \"method\": \"animate\", \"label\": \"\"}, {\"args\": [[13], {\"frame\": {\"redraw\": false}, \"mode\": \"immediate\"}], \"method\": \"animate\", \"label\": \"\"}, {\"args\": [[14], {\"frame\": {\"redraw\": false}, \"mode\": \"immediate\"}], \"method\": \"animate\", \"label\": \"\"}, {\"args\": [[15], {\"frame\": {\"redraw\": false}, \"mode\": \"immediate\"}], \"method\": \"animate\", \"label\": \"\"}, {\"args\": [[16], {\"frame\": {\"redraw\": false}, \"mode\": \"immediate\"}], \"method\": \"animate\", \"label\": \"\"}, {\"args\": [[17], {\"frame\": {\"redraw\": false}, \"mode\": \"immediate\"}], \"method\": \"animate\", \"label\": \"\"}, {\"args\": [[18], {\"frame\": {\"redraw\": false}, \"mode\": \"immediate\"}], \"method\": \"animate\", \"label\": \"\"}, {\"args\": [[19], {\"frame\": {\"redraw\": false}, \"mode\": \"immediate\"}], \"method\": \"animate\", \"label\": \"\"}, {\"args\": [[20], {\"frame\": {\"redraw\": false}, \"mode\": \"immediate\"}], \"method\": \"animate\", \"label\": \"\"}, {\"args\": [[21], {\"frame\": {\"redraw\": false}, \"mode\": \"immediate\"}], \"method\": \"animate\", \"label\": \"\"}, {\"args\": [[22], {\"frame\": {\"redraw\": false}, \"mode\": \"immediate\"}], \"method\": \"animate\", \"label\": \"\"}, {\"args\": [[23], {\"frame\": {\"redraw\": false}, \"mode\": \"immediate\"}], \"method\": \"animate\", \"label\": \"\"}, {\"args\": [[24], {\"frame\": {\"redraw\": false}, \"mode\": \"immediate\"}], \"method\": \"animate\", \"label\": \"\"}, {\"args\": [[25], {\"frame\": {\"redraw\": false}, \"mode\": \"immediate\"}], \"method\": \"animate\", \"label\": \"\"}, {\"args\": [[26], {\"frame\": {\"redraw\": false}, \"mode\": \"immediate\"}], \"method\": \"animate\", \"label\": \"\"}, {\"args\": [[27], {\"frame\": {\"redraw\": false}, \"mode\": \"immediate\"}], \"method\": \"animate\", \"label\": \"\"}, {\"args\": [[28], {\"frame\": {\"redraw\": false}, \"mode\": \"immediate\"}], \"method\": \"animate\", \"label\": \"\"}, {\"args\": [[29], {\"frame\": {\"redraw\": false}, \"mode\": \"immediate\"}], \"method\": \"animate\", \"label\": \"\"}, {\"args\": [[30], {\"frame\": {\"redraw\": false}, \"mode\": \"immediate\"}], \"method\": \"animate\", \"label\": \"\"}, {\"args\": [[31], {\"frame\": {\"redraw\": false}, \"mode\": \"immediate\"}], \"method\": \"animate\", \"label\": \"\"}, {\"args\": [[32], {\"frame\": {\"redraw\": false}, \"mode\": \"immediate\"}], \"method\": \"animate\", \"label\": \"\"}, {\"args\": [[33], {\"frame\": {\"redraw\": false}, \"mode\": \"immediate\"}], \"method\": \"animate\", \"label\": \"\"}, {\"args\": [[34], {\"frame\": {\"redraw\": false}, \"mode\": \"immediate\"}], \"method\": \"animate\", \"label\": \"\"}, {\"args\": [[35], {\"frame\": {\"redraw\": false}, \"mode\": \"immediate\"}], \"method\": \"animate\", \"label\": \"\"}, {\"args\": [[36], {\"frame\": {\"redraw\": false}, \"mode\": \"immediate\"}], \"method\": \"animate\", \"label\": \"\"}, {\"args\": [[37], {\"frame\": {\"redraw\": false}, \"mode\": \"immediate\"}], \"method\": \"animate\", \"label\": \"\"}, {\"args\": [[38], {\"frame\": {\"redraw\": false}, \"mode\": \"immediate\"}], \"method\": \"animate\", \"label\": \"\"}, {\"args\": [[39], {\"frame\": {\"redraw\": false}, \"mode\": \"immediate\"}], \"method\": \"animate\", \"label\": \"\"}, {\"args\": [[40], {\"frame\": {\"redraw\": false}, \"mode\": \"immediate\"}], \"method\": \"animate\", \"label\": \"\"}, {\"args\": [[41], {\"frame\": {\"redraw\": false}, \"mode\": \"immediate\"}], \"method\": \"animate\", \"label\": \"\"}, {\"args\": [[42], {\"frame\": {\"redraw\": false}, \"mode\": \"immediate\"}], \"method\": \"animate\", \"label\": \"\"}, {\"args\": [[43], {\"frame\": {\"redraw\": false}, \"mode\": \"immediate\"}], \"method\": \"animate\", \"label\": \"\"}, {\"args\": [[44], {\"frame\": {\"redraw\": false}, \"mode\": \"immediate\"}], \"method\": \"animate\", \"label\": \"\"}, {\"args\": [[45], {\"frame\": {\"redraw\": false}, \"mode\": \"immediate\"}], \"method\": \"animate\", \"label\": \"\"}, {\"args\": [[46], {\"frame\": {\"redraw\": false}, \"mode\": \"immediate\"}], \"method\": \"animate\", \"label\": \"\"}, {\"args\": [[47], {\"frame\": {\"redraw\": false}, \"mode\": \"immediate\"}], \"method\": \"animate\", \"label\": \"\"}, {\"args\": [[48], {\"frame\": {\"redraw\": false}, \"mode\": \"immediate\"}], \"method\": \"animate\", \"label\": \"\"}, {\"args\": [[49], {\"frame\": {\"redraw\": false}, \"mode\": \"immediate\"}], \"method\": \"animate\", \"label\": \"\"}, {\"args\": [[50], {\"frame\": {\"redraw\": false}, \"mode\": \"immediate\"}], \"method\": \"animate\", \"label\": \"\"}, {\"args\": [[51], {\"frame\": {\"redraw\": false}, \"mode\": \"immediate\"}], \"method\": \"animate\", \"label\": \"\"}, {\"args\": [[52], {\"frame\": {\"redraw\": false}, \"mode\": \"immediate\"}], \"method\": \"animate\", \"label\": \"\"}, {\"args\": [[53], {\"frame\": {\"redraw\": false}, \"mode\": \"immediate\"}], \"method\": \"animate\", \"label\": \"\"}, {\"args\": [[54], {\"frame\": {\"redraw\": false}, \"mode\": \"immediate\"}], \"method\": \"animate\", \"label\": \"\"}, {\"args\": [[55], {\"frame\": {\"redraw\": false}, \"mode\": \"immediate\"}], \"method\": \"animate\", \"label\": \"\"}, {\"args\": [[56], {\"frame\": {\"redraw\": false}, \"mode\": \"immediate\"}], \"method\": \"animate\", \"label\": \"\"}]}], \"xaxis\": {\"showgrid\": false, \"zeroline\": false, \"showticklabels\": false}, \"showlegend\": false, \"updatemenus\": [{\"showactive\": true, \"buttons\": [{\"args\": [null, {\"frame\": {\"redraw\": false}, \"fromcurrent\": true}], \"method\": \"animate\", \"label\": \"Play\"}, {\"args\": [[null], {\"frame\": {\"redraw\": false}, \"mode\": \"immediate\"}], \"method\": \"animate\", \"label\": \"Pause\"}], \"type\": \"buttons\"}], \"yaxis\": {\"showgrid\": false, \"zeroline\": false, \"showticklabels\": false}, \"width\": 408.0},\n",
       "            {\"displayModeBar\": false, \"linkText\": \"Export to plot.ly\", \"showLink\": false}\n",
       "        ).then(function () {return Plotly.addFrames('0775b808-1e6a-4987-a4fe-d9d6dad76465',[{\"data\": [{\"y\": [1.0, 1.0, null], \"mode\": \"lines\", \"x\": [0.0, 0.3, null], \"line\": {\"width\": 2, \"color\": \"rgb(0, 0, 0)\"}, \"hoverinfo\": \"none\"}, {\"y\": [1.0, 0.0, null], \"mode\": \"lines\", \"x\": [0.0, 0.0, null], \"line\": {\"width\": 2, \"color\": \"rgb(0, 0, 0)\"}, \"hoverinfo\": \"none\"}, {\"y\": [1.0, 0.0, null], \"mode\": \"lines\", \"x\": [0.3, 0.3, null], \"line\": {\"width\": 2, \"color\": \"rgb(0, 0, 0)\"}, \"hoverinfo\": \"none\"}, {\"y\": [1.0, 1.0, null], \"mode\": \"lines\", \"x\": [0.7, 1.0, null], \"line\": {\"width\": 2, \"color\": \"rgb(0, 0, 0)\"}, \"hoverinfo\": \"none\"}, {\"y\": [1.0, 0.0, null], \"mode\": \"lines\", \"x\": [0.7, 0.3, null], \"line\": {\"width\": 2, \"color\": \"rgb(0, 0, 0)\"}, \"hoverinfo\": \"none\"}, {\"y\": [1.0, 0.0, null], \"mode\": \"lines\", \"x\": [0.7, 0.7, null], \"line\": {\"width\": 2, \"color\": \"rgb(0, 0, 0)\"}, \"hoverinfo\": \"none\"}, {\"y\": [1.0, 0.0, null], \"mode\": \"lines\", \"x\": [1.0, 0.7, null], \"line\": {\"width\": 2, \"color\": \"rgb(0, 0, 0)\"}, \"hoverinfo\": \"none\"}, {\"y\": [1.0, 0.0, null], \"mode\": \"lines\", \"x\": [1.0, 1.0, null], \"line\": {\"width\": 2, \"color\": \"rgb(0, 0, 0)\"}, \"hoverinfo\": \"none\"}, {\"y\": [0.0, 0.0, null], \"mode\": \"lines\", \"x\": [0.3, 0.7, null], \"line\": {\"width\": 2, \"color\": \"rgb(0, 0, 0)\"}, \"hoverinfo\": \"none\"}, {\"y\": [0.0, 0.0, null], \"mode\": \"lines\", \"x\": [0.7, 1.0, null], \"line\": {\"width\": 2, \"color\": \"rgb(0, 0, 0)\"}, \"hoverinfo\": \"none\"}, {\"y\": [1.0], \"mode\": \"markers+text\", \"marker\": {\"line\": {\"width\": 2, \"color\": \"rgb(0, 0, 0)\"}, \"color\": \"rgb(255, 255, 255)\", \"size\": 20}, \"textposition\": \"middle center\", \"x\": [0.0], \"hoverinfo\": \"none\", \"textfont\": {\"color\": \"rgb(0, 0, 0)\"}, \"text\": [\"\\u221e\"]}, {\"y\": [1.0], \"mode\": \"markers+text\", \"marker\": {\"line\": {\"width\": 2, \"color\": \"rgb(0, 0, 0)\"}, \"color\": \"rgb(255, 255, 255)\", \"size\": 20}, \"textposition\": \"middle center\", \"x\": [0.3], \"hoverinfo\": \"none\", \"textfont\": {\"color\": \"rgb(0, 0, 0)\"}, \"text\": [\"0\"]}, {\"y\": [1.0], \"mode\": \"markers+text\", \"marker\": {\"line\": {\"width\": 2, \"color\": \"rgb(0, 0, 0)\"}, \"color\": \"rgb(255, 255, 255)\", \"size\": 20}, \"textposition\": \"middle center\", \"x\": [0.7], \"hoverinfo\": \"none\", \"textfont\": {\"color\": \"rgb(0, 0, 0)\"}, \"text\": [\"\\u221e\"]}, {\"y\": [1.0], \"mode\": \"markers+text\", \"marker\": {\"line\": {\"width\": 2, \"color\": \"rgb(0, 0, 0)\"}, \"color\": \"rgb(255, 255, 255)\", \"size\": 20}, \"textposition\": \"middle center\", \"x\": [1.0], \"hoverinfo\": \"none\", \"textfont\": {\"color\": \"rgb(0, 0, 0)\"}, \"text\": [\"\\u221e\"]}, {\"y\": [0.0], \"mode\": \"markers+text\", \"marker\": {\"line\": {\"width\": 2, \"color\": \"rgb(0, 0, 0)\"}, \"color\": \"rgb(255, 255, 255)\", \"size\": 20}, \"textposition\": \"middle center\", \"x\": [0.0], \"hoverinfo\": \"none\", \"textfont\": {\"color\": \"rgb(0, 0, 0)\"}, \"text\": [\"\\u221e\"]}, {\"y\": [0.0], \"mode\": \"markers+text\", \"marker\": {\"line\": {\"width\": 2, \"color\": \"rgb(0, 0, 0)\"}, \"color\": \"rgb(255, 255, 255)\", \"size\": 20}, \"textposition\": \"middle center\", \"x\": [0.3], \"hoverinfo\": \"none\", \"textfont\": {\"color\": \"rgb(0, 0, 0)\"}, \"text\": [\"\\u221e\"]}, {\"y\": [0.0], \"mode\": \"markers+text\", \"marker\": {\"line\": {\"width\": 2, \"color\": \"rgb(0, 0, 0)\"}, \"color\": \"rgb(255, 255, 255)\", \"size\": 20}, \"textposition\": \"middle center\", \"x\": [0.7], \"hoverinfo\": \"none\", \"textfont\": {\"color\": \"rgb(0, 0, 0)\"}, \"text\": [\"\\u221e\"]}, {\"y\": [0.0], \"mode\": \"markers+text\", \"marker\": {\"line\": {\"width\": 2, \"color\": \"rgb(0, 0, 0)\"}, \"color\": \"rgb(255, 255, 255)\", \"size\": 20}, \"textposition\": \"middle center\", \"x\": [1.0], \"hoverinfo\": \"none\", \"textfont\": {\"color\": \"rgb(0, 0, 0)\"}, \"text\": [\"\\u221e\"]}], \"name\": 0}, {\"data\": [{\"y\": [1.0, 1.0, null], \"mode\": \"lines\", \"x\": [0.0, 0.3, null], \"line\": {\"width\": 2, \"color\": \"rgb(0, 0, 0)\"}, \"hoverinfo\": \"none\"}, {\"y\": [1.0, 0.0, null], \"mode\": \"lines\", \"x\": [0.0, 0.0, null], \"line\": {\"width\": 2, \"color\": \"rgb(0, 0, 0)\"}, \"hoverinfo\": \"none\"}, {\"y\": [1.0, 0.0, null], \"mode\": \"lines\", \"x\": [0.3, 0.3, null], \"line\": {\"width\": 2, \"color\": \"rgb(0, 0, 0)\"}, \"hoverinfo\": \"none\"}, {\"y\": [1.0, 1.0, null], \"mode\": \"lines\", \"x\": [0.7, 1.0, null], \"line\": {\"width\": 2, \"color\": \"rgb(0, 0, 0)\"}, \"hoverinfo\": \"none\"}, {\"y\": [1.0, 0.0, null], \"mode\": \"lines\", \"x\": [0.7, 0.3, null], \"line\": {\"width\": 2, \"color\": \"rgb(0, 0, 0)\"}, \"hoverinfo\": \"none\"}, {\"y\": [1.0, 0.0, null], \"mode\": \"lines\", \"x\": [0.7, 0.7, null], \"line\": {\"width\": 2, \"color\": \"rgb(0, 0, 0)\"}, \"hoverinfo\": \"none\"}, {\"y\": [1.0, 0.0, null], \"mode\": \"lines\", \"x\": [1.0, 0.7, null], \"line\": {\"width\": 2, \"color\": \"rgb(0, 0, 0)\"}, \"hoverinfo\": \"none\"}, {\"y\": [1.0, 0.0, null], \"mode\": \"lines\", \"x\": [1.0, 1.0, null], \"line\": {\"width\": 2, \"color\": \"rgb(0, 0, 0)\"}, \"hoverinfo\": \"none\"}, {\"y\": [0.0, 0.0, null], \"mode\": \"lines\", \"x\": [0.3, 0.7, null], \"line\": {\"width\": 2, \"color\": \"rgb(0, 0, 0)\"}, \"hoverinfo\": \"none\"}, {\"y\": [0.0, 0.0, null], \"mode\": \"lines\", \"x\": [0.7, 1.0, null], \"line\": {\"width\": 2, \"color\": \"rgb(0, 0, 0)\"}, \"hoverinfo\": \"none\"}, {\"y\": [1.0], \"mode\": \"markers+text\", \"marker\": {\"line\": {\"width\": 2, \"color\": \"rgb(0, 0, 0)\"}, \"color\": \"rgb(255, 255, 255)\", \"size\": 20}, \"textposition\": \"middle center\", \"x\": [0.0], \"hoverinfo\": \"none\", \"textfont\": {\"color\": \"rgb(0, 0, 0)\"}, \"text\": [\"\\u221e\"]}, {\"y\": [1.0], \"mode\": \"markers+text\", \"marker\": {\"line\": {\"width\": 2, \"color\": \"rgb(0, 0, 0)\"}, \"color\": \"rgb(255, 0, 0)\", \"size\": 20}, \"textposition\": \"middle center\", \"x\": [0.3], \"hoverinfo\": \"none\", \"textfont\": {\"color\": \"rgb(255, 255, 255)\"}, \"text\": [\"0\"]}, {\"y\": [1.0], \"mode\": \"markers+text\", \"marker\": {\"line\": {\"width\": 2, \"color\": \"rgb(0, 0, 0)\"}, \"color\": \"rgb(255, 255, 255)\", \"size\": 20}, \"textposition\": \"middle center\", \"x\": [0.7], \"hoverinfo\": \"none\", \"textfont\": {\"color\": \"rgb(0, 0, 0)\"}, \"text\": [\"\\u221e\"]}, {\"y\": [1.0], \"mode\": \"markers+text\", \"marker\": {\"line\": {\"width\": 2, \"color\": \"rgb(0, 0, 0)\"}, \"color\": \"rgb(255, 255, 255)\", \"size\": 20}, \"textposition\": \"middle center\", \"x\": [1.0], \"hoverinfo\": \"none\", \"textfont\": {\"color\": \"rgb(0, 0, 0)\"}, \"text\": [\"\\u221e\"]}, {\"y\": [0.0], \"mode\": \"markers+text\", \"marker\": {\"line\": {\"width\": 2, \"color\": \"rgb(0, 0, 0)\"}, \"color\": \"rgb(255, 255, 255)\", \"size\": 20}, \"textposition\": \"middle center\", \"x\": [0.0], \"hoverinfo\": \"none\", \"textfont\": {\"color\": \"rgb(0, 0, 0)\"}, \"text\": [\"\\u221e\"]}, {\"y\": [0.0], \"mode\": \"markers+text\", \"marker\": {\"line\": {\"width\": 2, \"color\": \"rgb(0, 0, 0)\"}, \"color\": \"rgb(255, 255, 255)\", \"size\": 20}, \"textposition\": \"middle center\", \"x\": [0.3], \"hoverinfo\": \"none\", \"textfont\": {\"color\": \"rgb(0, 0, 0)\"}, \"text\": [\"\\u221e\"]}, {\"y\": [0.0], \"mode\": \"markers+text\", \"marker\": {\"line\": {\"width\": 2, \"color\": \"rgb(0, 0, 0)\"}, \"color\": \"rgb(255, 255, 255)\", \"size\": 20}, \"textposition\": \"middle center\", \"x\": [0.7], \"hoverinfo\": \"none\", \"textfont\": {\"color\": \"rgb(0, 0, 0)\"}, \"text\": [\"\\u221e\"]}, {\"y\": [0.0], \"mode\": \"markers+text\", \"marker\": {\"line\": {\"width\": 2, \"color\": \"rgb(0, 0, 0)\"}, \"color\": \"rgb(255, 255, 255)\", \"size\": 20}, \"textposition\": \"middle center\", \"x\": [1.0], \"hoverinfo\": \"none\", \"textfont\": {\"color\": \"rgb(0, 0, 0)\"}, \"text\": [\"\\u221e\"]}], \"name\": 1}, {\"data\": [{\"y\": [1.0, 1.0, null], \"mode\": \"lines\", \"x\": [0.0, 0.3, null], \"line\": {\"width\": 2, \"color\": \"rgb(255, 0, 0)\"}, \"hoverinfo\": \"none\"}, {\"y\": [1.0, 0.0, null], \"mode\": \"lines\", \"x\": [0.0, 0.0, null], \"line\": {\"width\": 2, \"color\": \"rgb(0, 0, 0)\"}, \"hoverinfo\": \"none\"}, {\"y\": [1.0, 0.0, null], \"mode\": \"lines\", \"x\": [0.3, 0.3, null], \"line\": {\"width\": 2, \"color\": \"rgb(0, 0, 0)\"}, \"hoverinfo\": \"none\"}, {\"y\": [1.0, 1.0, null], \"mode\": \"lines\", \"x\": [0.7, 1.0, null], \"line\": {\"width\": 2, \"color\": \"rgb(0, 0, 0)\"}, \"hoverinfo\": \"none\"}, {\"y\": [1.0, 0.0, null], \"mode\": \"lines\", \"x\": [0.7, 0.3, null], \"line\": {\"width\": 2, \"color\": \"rgb(0, 0, 0)\"}, \"hoverinfo\": \"none\"}, {\"y\": [1.0, 0.0, null], \"mode\": \"lines\", \"x\": [0.7, 0.7, null], \"line\": {\"width\": 2, \"color\": \"rgb(0, 0, 0)\"}, \"hoverinfo\": \"none\"}, {\"y\": [1.0, 0.0, null], \"mode\": \"lines\", \"x\": [1.0, 0.7, null], \"line\": {\"width\": 2, \"color\": \"rgb(0, 0, 0)\"}, \"hoverinfo\": \"none\"}, {\"y\": [1.0, 0.0, null], \"mode\": \"lines\", \"x\": [1.0, 1.0, null], \"line\": {\"width\": 2, \"color\": \"rgb(0, 0, 0)\"}, \"hoverinfo\": \"none\"}, {\"y\": [0.0, 0.0, null], \"mode\": \"lines\", \"x\": [0.3, 0.7, null], \"line\": {\"width\": 2, \"color\": \"rgb(0, 0, 0)\"}, \"hoverinfo\": \"none\"}, {\"y\": [0.0, 0.0, null], \"mode\": \"lines\", \"x\": [0.7, 1.0, null], \"line\": {\"width\": 2, \"color\": \"rgb(0, 0, 0)\"}, \"hoverinfo\": \"none\"}, {\"y\": [1.0], \"mode\": \"markers+text\", \"marker\": {\"line\": {\"width\": 2, \"color\": \"rgb(0, 0, 0)\"}, \"color\": \"rgb(255, 255, 255)\", \"size\": 20}, \"textposition\": \"middle center\", \"x\": [0.0], \"hoverinfo\": \"none\", \"textfont\": {\"color\": \"rgb(0, 0, 0)\"}, \"text\": [\"\\u221e\"]}, {\"y\": [1.0], \"mode\": \"markers+text\", \"marker\": {\"line\": {\"width\": 2, \"color\": \"rgb(0, 0, 0)\"}, \"color\": \"rgb(255, 0, 0)\", \"size\": 20}, \"textposition\": \"middle center\", \"x\": [0.3], \"hoverinfo\": \"none\", \"textfont\": {\"color\": \"rgb(255, 255, 255)\"}, \"text\": [\"0\"]}, {\"y\": [1.0], \"mode\": \"markers+text\", \"marker\": {\"line\": {\"width\": 2, \"color\": \"rgb(0, 0, 0)\"}, \"color\": \"rgb(255, 255, 255)\", \"size\": 20}, \"textposition\": \"middle center\", \"x\": [0.7], \"hoverinfo\": \"none\", \"textfont\": {\"color\": \"rgb(0, 0, 0)\"}, \"text\": [\"\\u221e\"]}, {\"y\": [1.0], \"mode\": \"markers+text\", \"marker\": {\"line\": {\"width\": 2, \"color\": \"rgb(0, 0, 0)\"}, \"color\": \"rgb(255, 255, 255)\", \"size\": 20}, \"textposition\": \"middle center\", \"x\": [1.0], \"hoverinfo\": \"none\", \"textfont\": {\"color\": \"rgb(0, 0, 0)\"}, \"text\": [\"\\u221e\"]}, {\"y\": [0.0], \"mode\": \"markers+text\", \"marker\": {\"line\": {\"width\": 2, \"color\": \"rgb(0, 0, 0)\"}, \"color\": \"rgb(255, 255, 255)\", \"size\": 20}, \"textposition\": \"middle center\", \"x\": [0.0], \"hoverinfo\": \"none\", \"textfont\": {\"color\": \"rgb(0, 0, 0)\"}, \"text\": [\"\\u221e\"]}, {\"y\": [0.0], \"mode\": \"markers+text\", \"marker\": {\"line\": {\"width\": 2, \"color\": \"rgb(0, 0, 0)\"}, \"color\": \"rgb(255, 255, 255)\", \"size\": 20}, \"textposition\": \"middle center\", \"x\": [0.3], \"hoverinfo\": \"none\", \"textfont\": {\"color\": \"rgb(0, 0, 0)\"}, \"text\": [\"\\u221e\"]}, {\"y\": [0.0], \"mode\": \"markers+text\", \"marker\": {\"line\": {\"width\": 2, \"color\": \"rgb(0, 0, 0)\"}, \"color\": \"rgb(255, 255, 255)\", \"size\": 20}, \"textposition\": \"middle center\", \"x\": [0.7], \"hoverinfo\": \"none\", \"textfont\": {\"color\": \"rgb(0, 0, 0)\"}, \"text\": [\"\\u221e\"]}, {\"y\": [0.0], \"mode\": \"markers+text\", \"marker\": {\"line\": {\"width\": 2, \"color\": \"rgb(0, 0, 0)\"}, \"color\": \"rgb(255, 255, 255)\", \"size\": 20}, \"textposition\": \"middle center\", \"x\": [1.0], \"hoverinfo\": \"none\", \"textfont\": {\"color\": \"rgb(0, 0, 0)\"}, \"text\": [\"\\u221e\"]}], \"name\": 2}, {\"data\": [{\"y\": [1.0, 1.0, null], \"mode\": \"lines\", \"x\": [0.0, 0.3, null], \"line\": {\"width\": 2, \"color\": \"rgb(0, 0, 0)\"}, \"hoverinfo\": \"none\"}, {\"y\": [1.0, 0.0, null], \"mode\": \"lines\", \"x\": [0.0, 0.0, null], \"line\": {\"width\": 2, \"color\": \"rgb(0, 0, 0)\"}, \"hoverinfo\": \"none\"}, {\"y\": [1.0, 0.0, null], \"mode\": \"lines\", \"x\": [0.3, 0.3, null], \"line\": {\"width\": 2, \"color\": \"rgb(0, 0, 0)\"}, \"hoverinfo\": \"none\"}, {\"y\": [1.0, 1.0, null], \"mode\": \"lines\", \"x\": [0.7, 1.0, null], \"line\": {\"width\": 2, \"color\": \"rgb(0, 0, 0)\"}, \"hoverinfo\": \"none\"}, {\"y\": [1.0, 0.0, null], \"mode\": \"lines\", \"x\": [0.7, 0.3, null], \"line\": {\"width\": 2, \"color\": \"rgb(0, 0, 0)\"}, \"hoverinfo\": \"none\"}, {\"y\": [1.0, 0.0, null], \"mode\": \"lines\", \"x\": [0.7, 0.7, null], \"line\": {\"width\": 2, \"color\": \"rgb(0, 0, 0)\"}, \"hoverinfo\": \"none\"}, {\"y\": [1.0, 0.0, null], \"mode\": \"lines\", \"x\": [1.0, 0.7, null], \"line\": {\"width\": 2, \"color\": \"rgb(0, 0, 0)\"}, \"hoverinfo\": \"none\"}, {\"y\": [1.0, 0.0, null], \"mode\": \"lines\", \"x\": [1.0, 1.0, null], \"line\": {\"width\": 2, \"color\": \"rgb(0, 0, 0)\"}, \"hoverinfo\": \"none\"}, {\"y\": [0.0, 0.0, null], \"mode\": \"lines\", \"x\": [0.3, 0.7, null], \"line\": {\"width\": 2, \"color\": \"rgb(0, 0, 0)\"}, \"hoverinfo\": \"none\"}, {\"y\": [0.0, 0.0, null], \"mode\": \"lines\", \"x\": [0.7, 1.0, null], \"line\": {\"width\": 2, \"color\": \"rgb(0, 0, 0)\"}, \"hoverinfo\": \"none\"}, {\"y\": [1.0], \"mode\": \"markers+text\", \"marker\": {\"line\": {\"width\": 2, \"color\": \"rgb(0, 0, 0)\"}, \"color\": \"rgb(255, 255, 255)\", \"size\": 20}, \"textposition\": \"middle center\", \"x\": [0.0], \"hoverinfo\": \"none\", \"textfont\": {\"color\": \"rgb(0, 0, 0)\"}, \"text\": [\"1\"]}, {\"y\": [1.0], \"mode\": \"markers+text\", \"marker\": {\"line\": {\"width\": 2, \"color\": \"rgb(0, 0, 0)\"}, \"color\": \"rgb(255, 0, 0)\", \"size\": 20}, \"textposition\": \"middle center\", \"x\": [0.3], \"hoverinfo\": \"none\", \"textfont\": {\"color\": \"rgb(255, 255, 255)\"}, \"text\": [\"0\"]}, {\"y\": [1.0], \"mode\": \"markers+text\", \"marker\": {\"line\": {\"width\": 2, \"color\": \"rgb(0, 0, 0)\"}, \"color\": \"rgb(255, 255, 255)\", \"size\": 20}, \"textposition\": \"middle center\", \"x\": [0.7], \"hoverinfo\": \"none\", \"textfont\": {\"color\": \"rgb(0, 0, 0)\"}, \"text\": [\"\\u221e\"]}, {\"y\": [1.0], \"mode\": \"markers+text\", \"marker\": {\"line\": {\"width\": 2, \"color\": \"rgb(0, 0, 0)\"}, \"color\": \"rgb(255, 255, 255)\", \"size\": 20}, \"textposition\": \"middle center\", \"x\": [1.0], \"hoverinfo\": \"none\", \"textfont\": {\"color\": \"rgb(0, 0, 0)\"}, \"text\": [\"\\u221e\"]}, {\"y\": [0.0], \"mode\": \"markers+text\", \"marker\": {\"line\": {\"width\": 2, \"color\": \"rgb(0, 0, 0)\"}, \"color\": \"rgb(255, 255, 255)\", \"size\": 20}, \"textposition\": \"middle center\", \"x\": [0.0], \"hoverinfo\": \"none\", \"textfont\": {\"color\": \"rgb(0, 0, 0)\"}, \"text\": [\"\\u221e\"]}, {\"y\": [0.0], \"mode\": \"markers+text\", \"marker\": {\"line\": {\"width\": 2, \"color\": \"rgb(0, 0, 0)\"}, \"color\": \"rgb(255, 255, 255)\", \"size\": 20}, \"textposition\": \"middle center\", \"x\": [0.3], \"hoverinfo\": \"none\", \"textfont\": {\"color\": \"rgb(0, 0, 0)\"}, \"text\": [\"\\u221e\"]}, {\"y\": [0.0], \"mode\": \"markers+text\", \"marker\": {\"line\": {\"width\": 2, \"color\": \"rgb(0, 0, 0)\"}, \"color\": \"rgb(255, 255, 255)\", \"size\": 20}, \"textposition\": \"middle center\", \"x\": [0.7], \"hoverinfo\": \"none\", \"textfont\": {\"color\": \"rgb(0, 0, 0)\"}, \"text\": [\"\\u221e\"]}, {\"y\": [0.0], \"mode\": \"markers+text\", \"marker\": {\"line\": {\"width\": 2, \"color\": \"rgb(0, 0, 0)\"}, \"color\": \"rgb(255, 255, 255)\", \"size\": 20}, \"textposition\": \"middle center\", \"x\": [1.0], \"hoverinfo\": \"none\", \"textfont\": {\"color\": \"rgb(0, 0, 0)\"}, \"text\": [\"\\u221e\"]}], \"name\": 3}, {\"data\": [{\"y\": [1.0, 1.0, null], \"mode\": \"lines\", \"x\": [0.0, 0.3, null], \"line\": {\"width\": 2, \"color\": \"rgb(0, 0, 0)\"}, \"hoverinfo\": \"none\"}, {\"y\": [1.0, 0.0, null], \"mode\": \"lines\", \"x\": [0.0, 0.0, null], \"line\": {\"width\": 2, \"color\": \"rgb(0, 0, 0)\"}, \"hoverinfo\": \"none\"}, {\"y\": [1.0, 0.0, null], \"mode\": \"lines\", \"x\": [0.3, 0.3, null], \"line\": {\"width\": 2, \"color\": \"rgb(255, 0, 0)\"}, \"hoverinfo\": \"none\"}, {\"y\": [1.0, 1.0, null], \"mode\": \"lines\", \"x\": [0.7, 1.0, null], \"line\": {\"width\": 2, \"color\": \"rgb(0, 0, 0)\"}, \"hoverinfo\": \"none\"}, {\"y\": [1.0, 0.0, null], \"mode\": \"lines\", \"x\": [0.7, 0.3, null], \"line\": {\"width\": 2, \"color\": \"rgb(0, 0, 0)\"}, \"hoverinfo\": \"none\"}, {\"y\": [1.0, 0.0, null], \"mode\": \"lines\", \"x\": [0.7, 0.7, null], \"line\": {\"width\": 2, \"color\": \"rgb(0, 0, 0)\"}, \"hoverinfo\": \"none\"}, {\"y\": [1.0, 0.0, null], \"mode\": \"lines\", \"x\": [1.0, 0.7, null], \"line\": {\"width\": 2, \"color\": \"rgb(0, 0, 0)\"}, \"hoverinfo\": \"none\"}, {\"y\": [1.0, 0.0, null], \"mode\": \"lines\", \"x\": [1.0, 1.0, null], \"line\": {\"width\": 2, \"color\": \"rgb(0, 0, 0)\"}, \"hoverinfo\": \"none\"}, {\"y\": [0.0, 0.0, null], \"mode\": \"lines\", \"x\": [0.3, 0.7, null], \"line\": {\"width\": 2, \"color\": \"rgb(0, 0, 0)\"}, \"hoverinfo\": \"none\"}, {\"y\": [0.0, 0.0, null], \"mode\": \"lines\", \"x\": [0.7, 1.0, null], \"line\": {\"width\": 2, \"color\": \"rgb(0, 0, 0)\"}, \"hoverinfo\": \"none\"}, {\"y\": [1.0], \"mode\": \"markers+text\", \"marker\": {\"line\": {\"width\": 2, \"color\": \"rgb(0, 0, 0)\"}, \"color\": \"rgb(255, 255, 255)\", \"size\": 20}, \"textposition\": \"middle center\", \"x\": [0.0], \"hoverinfo\": \"none\", \"textfont\": {\"color\": \"rgb(0, 0, 0)\"}, \"text\": [\"1\"]}, {\"y\": [1.0], \"mode\": \"markers+text\", \"marker\": {\"line\": {\"width\": 2, \"color\": \"rgb(0, 0, 0)\"}, \"color\": \"rgb(255, 0, 0)\", \"size\": 20}, \"textposition\": \"middle center\", \"x\": [0.3], \"hoverinfo\": \"none\", \"textfont\": {\"color\": \"rgb(255, 255, 255)\"}, \"text\": [\"0\"]}, {\"y\": [1.0], \"mode\": \"markers+text\", \"marker\": {\"line\": {\"width\": 2, \"color\": \"rgb(0, 0, 0)\"}, \"color\": \"rgb(255, 255, 255)\", \"size\": 20}, \"textposition\": \"middle center\", \"x\": [0.7], \"hoverinfo\": \"none\", \"textfont\": {\"color\": \"rgb(0, 0, 0)\"}, \"text\": [\"\\u221e\"]}, {\"y\": [1.0], \"mode\": \"markers+text\", \"marker\": {\"line\": {\"width\": 2, \"color\": \"rgb(0, 0, 0)\"}, \"color\": \"rgb(255, 255, 255)\", \"size\": 20}, \"textposition\": \"middle center\", \"x\": [1.0], \"hoverinfo\": \"none\", \"textfont\": {\"color\": \"rgb(0, 0, 0)\"}, \"text\": [\"\\u221e\"]}, {\"y\": [0.0], \"mode\": \"markers+text\", \"marker\": {\"line\": {\"width\": 2, \"color\": \"rgb(0, 0, 0)\"}, \"color\": \"rgb(255, 255, 255)\", \"size\": 20}, \"textposition\": \"middle center\", \"x\": [0.0], \"hoverinfo\": \"none\", \"textfont\": {\"color\": \"rgb(0, 0, 0)\"}, \"text\": [\"\\u221e\"]}, {\"y\": [0.0], \"mode\": \"markers+text\", \"marker\": {\"line\": {\"width\": 2, \"color\": \"rgb(0, 0, 0)\"}, \"color\": \"rgb(255, 255, 255)\", \"size\": 20}, \"textposition\": \"middle center\", \"x\": [0.3], \"hoverinfo\": \"none\", \"textfont\": {\"color\": \"rgb(0, 0, 0)\"}, \"text\": [\"\\u221e\"]}, {\"y\": [0.0], \"mode\": \"markers+text\", \"marker\": {\"line\": {\"width\": 2, \"color\": \"rgb(0, 0, 0)\"}, \"color\": \"rgb(255, 255, 255)\", \"size\": 20}, \"textposition\": \"middle center\", \"x\": [0.7], \"hoverinfo\": \"none\", \"textfont\": {\"color\": \"rgb(0, 0, 0)\"}, \"text\": [\"\\u221e\"]}, {\"y\": [0.0], \"mode\": \"markers+text\", \"marker\": {\"line\": {\"width\": 2, \"color\": \"rgb(0, 0, 0)\"}, \"color\": \"rgb(255, 255, 255)\", \"size\": 20}, \"textposition\": \"middle center\", \"x\": [1.0], \"hoverinfo\": \"none\", \"textfont\": {\"color\": \"rgb(0, 0, 0)\"}, \"text\": [\"\\u221e\"]}], \"name\": 4}, {\"data\": [{\"y\": [1.0, 1.0, null], \"mode\": \"lines\", \"x\": [0.0, 0.3, null], \"line\": {\"width\": 2, \"color\": \"rgb(0, 0, 0)\"}, \"hoverinfo\": \"none\"}, {\"y\": [1.0, 0.0, null], \"mode\": \"lines\", \"x\": [0.0, 0.0, null], \"line\": {\"width\": 2, \"color\": \"rgb(0, 0, 0)\"}, \"hoverinfo\": \"none\"}, {\"y\": [1.0, 0.0, null], \"mode\": \"lines\", \"x\": [0.3, 0.3, null], \"line\": {\"width\": 2, \"color\": \"rgb(0, 0, 0)\"}, \"hoverinfo\": \"none\"}, {\"y\": [1.0, 1.0, null], \"mode\": \"lines\", \"x\": [0.7, 1.0, null], \"line\": {\"width\": 2, \"color\": \"rgb(0, 0, 0)\"}, \"hoverinfo\": \"none\"}, {\"y\": [1.0, 0.0, null], \"mode\": \"lines\", \"x\": [0.7, 0.3, null], \"line\": {\"width\": 2, \"color\": \"rgb(0, 0, 0)\"}, \"hoverinfo\": \"none\"}, {\"y\": [1.0, 0.0, null], \"mode\": \"lines\", \"x\": [0.7, 0.7, null], \"line\": {\"width\": 2, \"color\": \"rgb(0, 0, 0)\"}, \"hoverinfo\": \"none\"}, {\"y\": [1.0, 0.0, null], \"mode\": \"lines\", \"x\": [1.0, 0.7, null], \"line\": {\"width\": 2, \"color\": \"rgb(0, 0, 0)\"}, \"hoverinfo\": \"none\"}, {\"y\": [1.0, 0.0, null], \"mode\": \"lines\", \"x\": [1.0, 1.0, null], \"line\": {\"width\": 2, \"color\": \"rgb(0, 0, 0)\"}, \"hoverinfo\": \"none\"}, {\"y\": [0.0, 0.0, null], \"mode\": \"lines\", \"x\": [0.3, 0.7, null], \"line\": {\"width\": 2, \"color\": \"rgb(0, 0, 0)\"}, \"hoverinfo\": \"none\"}, {\"y\": [0.0, 0.0, null], \"mode\": \"lines\", \"x\": [0.7, 1.0, null], \"line\": {\"width\": 2, \"color\": \"rgb(0, 0, 0)\"}, \"hoverinfo\": \"none\"}, {\"y\": [1.0], \"mode\": \"markers+text\", \"marker\": {\"line\": {\"width\": 2, \"color\": \"rgb(0, 0, 0)\"}, \"color\": \"rgb(255, 255, 255)\", \"size\": 20}, \"textposition\": \"middle center\", \"x\": [0.0], \"hoverinfo\": \"none\", \"textfont\": {\"color\": \"rgb(0, 0, 0)\"}, \"text\": [\"1\"]}, {\"y\": [1.0], \"mode\": \"markers+text\", \"marker\": {\"line\": {\"width\": 2, \"color\": \"rgb(0, 0, 0)\"}, \"color\": \"rgb(255, 0, 0)\", \"size\": 20}, \"textposition\": \"middle center\", \"x\": [0.3], \"hoverinfo\": \"none\", \"textfont\": {\"color\": \"rgb(255, 255, 255)\"}, \"text\": [\"0\"]}, {\"y\": [1.0], \"mode\": \"markers+text\", \"marker\": {\"line\": {\"width\": 2, \"color\": \"rgb(0, 0, 0)\"}, \"color\": \"rgb(255, 255, 255)\", \"size\": 20}, \"textposition\": \"middle center\", \"x\": [0.7], \"hoverinfo\": \"none\", \"textfont\": {\"color\": \"rgb(0, 0, 0)\"}, \"text\": [\"\\u221e\"]}, {\"y\": [1.0], \"mode\": \"markers+text\", \"marker\": {\"line\": {\"width\": 2, \"color\": \"rgb(0, 0, 0)\"}, \"color\": \"rgb(255, 255, 255)\", \"size\": 20}, \"textposition\": \"middle center\", \"x\": [1.0], \"hoverinfo\": \"none\", \"textfont\": {\"color\": \"rgb(0, 0, 0)\"}, \"text\": [\"\\u221e\"]}, {\"y\": [0.0], \"mode\": \"markers+text\", \"marker\": {\"line\": {\"width\": 2, \"color\": \"rgb(0, 0, 0)\"}, \"color\": \"rgb(255, 255, 255)\", \"size\": 20}, \"textposition\": \"middle center\", \"x\": [0.0], \"hoverinfo\": \"none\", \"textfont\": {\"color\": \"rgb(0, 0, 0)\"}, \"text\": [\"\\u221e\"]}, {\"y\": [0.0], \"mode\": \"markers+text\", \"marker\": {\"line\": {\"width\": 2, \"color\": \"rgb(0, 0, 0)\"}, \"color\": \"rgb(255, 255, 255)\", \"size\": 20}, \"textposition\": \"middle center\", \"x\": [0.3], \"hoverinfo\": \"none\", \"textfont\": {\"color\": \"rgb(0, 0, 0)\"}, \"text\": [\"1\"]}, {\"y\": [0.0], \"mode\": \"markers+text\", \"marker\": {\"line\": {\"width\": 2, \"color\": \"rgb(0, 0, 0)\"}, \"color\": \"rgb(255, 255, 255)\", \"size\": 20}, \"textposition\": \"middle center\", \"x\": [0.7], \"hoverinfo\": \"none\", \"textfont\": {\"color\": \"rgb(0, 0, 0)\"}, \"text\": [\"\\u221e\"]}, {\"y\": [0.0], \"mode\": \"markers+text\", \"marker\": {\"line\": {\"width\": 2, \"color\": \"rgb(0, 0, 0)\"}, \"color\": \"rgb(255, 255, 255)\", \"size\": 20}, \"textposition\": \"middle center\", \"x\": [1.0], \"hoverinfo\": \"none\", \"textfont\": {\"color\": \"rgb(0, 0, 0)\"}, \"text\": [\"\\u221e\"]}], \"name\": 5}, {\"data\": [{\"y\": [1.0, 1.0, null], \"mode\": \"lines\", \"x\": [0.0, 0.3, null], \"line\": {\"width\": 2, \"color\": \"rgb(0, 0, 0)\"}, \"hoverinfo\": \"none\"}, {\"y\": [1.0, 0.0, null], \"mode\": \"lines\", \"x\": [0.0, 0.0, null], \"line\": {\"width\": 2, \"color\": \"rgb(0, 0, 0)\"}, \"hoverinfo\": \"none\"}, {\"y\": [1.0, 0.0, null], \"mode\": \"lines\", \"x\": [0.3, 0.3, null], \"line\": {\"width\": 2, \"color\": \"rgb(0, 0, 0)\"}, \"hoverinfo\": \"none\"}, {\"y\": [1.0, 1.0, null], \"mode\": \"lines\", \"x\": [0.7, 1.0, null], \"line\": {\"width\": 2, \"color\": \"rgb(0, 0, 0)\"}, \"hoverinfo\": \"none\"}, {\"y\": [1.0, 0.0, null], \"mode\": \"lines\", \"x\": [0.7, 0.3, null], \"line\": {\"width\": 2, \"color\": \"rgb(0, 0, 0)\"}, \"hoverinfo\": \"none\"}, {\"y\": [1.0, 0.0, null], \"mode\": \"lines\", \"x\": [0.7, 0.7, null], \"line\": {\"width\": 2, \"color\": \"rgb(0, 0, 0)\"}, \"hoverinfo\": \"none\"}, {\"y\": [1.0, 0.0, null], \"mode\": \"lines\", \"x\": [1.0, 0.7, null], \"line\": {\"width\": 2, \"color\": \"rgb(0, 0, 0)\"}, \"hoverinfo\": \"none\"}, {\"y\": [1.0, 0.0, null], \"mode\": \"lines\", \"x\": [1.0, 1.0, null], \"line\": {\"width\": 2, \"color\": \"rgb(0, 0, 0)\"}, \"hoverinfo\": \"none\"}, {\"y\": [0.0, 0.0, null], \"mode\": \"lines\", \"x\": [0.3, 0.7, null], \"line\": {\"width\": 2, \"color\": \"rgb(0, 0, 0)\"}, \"hoverinfo\": \"none\"}, {\"y\": [0.0, 0.0, null], \"mode\": \"lines\", \"x\": [0.7, 1.0, null], \"line\": {\"width\": 2, \"color\": \"rgb(0, 0, 0)\"}, \"hoverinfo\": \"none\"}, {\"y\": [1.0], \"mode\": \"markers+text\", \"marker\": {\"line\": {\"width\": 2, \"color\": \"rgb(0, 0, 0)\"}, \"color\": \"rgb(255, 255, 255)\", \"size\": 20}, \"textposition\": \"middle center\", \"x\": [0.0], \"hoverinfo\": \"none\", \"textfont\": {\"color\": \"rgb(0, 0, 0)\"}, \"text\": [\"1\"]}, {\"y\": [1.0], \"mode\": \"markers+text\", \"marker\": {\"line\": {\"width\": 2, \"color\": \"rgb(0, 0, 0)\"}, \"color\": \"rgb(0, 0, 255)\", \"size\": 20}, \"textposition\": \"middle center\", \"x\": [0.3], \"hoverinfo\": \"none\", \"textfont\": {\"color\": \"rgb(255, 255, 255)\"}, \"text\": [\"0\"]}, {\"y\": [1.0], \"mode\": \"markers+text\", \"marker\": {\"line\": {\"width\": 2, \"color\": \"rgb(0, 0, 0)\"}, \"color\": \"rgb(255, 255, 255)\", \"size\": 20}, \"textposition\": \"middle center\", \"x\": [0.7], \"hoverinfo\": \"none\", \"textfont\": {\"color\": \"rgb(0, 0, 0)\"}, \"text\": [\"\\u221e\"]}, {\"y\": [1.0], \"mode\": \"markers+text\", \"marker\": {\"line\": {\"width\": 2, \"color\": \"rgb(0, 0, 0)\"}, \"color\": \"rgb(255, 255, 255)\", \"size\": 20}, \"textposition\": \"middle center\", \"x\": [1.0], \"hoverinfo\": \"none\", \"textfont\": {\"color\": \"rgb(0, 0, 0)\"}, \"text\": [\"\\u221e\"]}, {\"y\": [0.0], \"mode\": \"markers+text\", \"marker\": {\"line\": {\"width\": 2, \"color\": \"rgb(0, 0, 0)\"}, \"color\": \"rgb(255, 255, 255)\", \"size\": 20}, \"textposition\": \"middle center\", \"x\": [0.0], \"hoverinfo\": \"none\", \"textfont\": {\"color\": \"rgb(0, 0, 0)\"}, \"text\": [\"\\u221e\"]}, {\"y\": [0.0], \"mode\": \"markers+text\", \"marker\": {\"line\": {\"width\": 2, \"color\": \"rgb(0, 0, 0)\"}, \"color\": \"rgb(255, 255, 255)\", \"size\": 20}, \"textposition\": \"middle center\", \"x\": [0.3], \"hoverinfo\": \"none\", \"textfont\": {\"color\": \"rgb(0, 0, 0)\"}, \"text\": [\"1\"]}, {\"y\": [0.0], \"mode\": \"markers+text\", \"marker\": {\"line\": {\"width\": 2, \"color\": \"rgb(0, 0, 0)\"}, \"color\": \"rgb(255, 255, 255)\", \"size\": 20}, \"textposition\": \"middle center\", \"x\": [0.7], \"hoverinfo\": \"none\", \"textfont\": {\"color\": \"rgb(0, 0, 0)\"}, \"text\": [\"\\u221e\"]}, {\"y\": [0.0], \"mode\": \"markers+text\", \"marker\": {\"line\": {\"width\": 2, \"color\": \"rgb(0, 0, 0)\"}, \"color\": \"rgb(255, 255, 255)\", \"size\": 20}, \"textposition\": \"middle center\", \"x\": [1.0], \"hoverinfo\": \"none\", \"textfont\": {\"color\": \"rgb(0, 0, 0)\"}, \"text\": [\"\\u221e\"]}], \"name\": 6}, {\"data\": [{\"y\": [1.0, 1.0, null], \"mode\": \"lines\", \"x\": [0.0, 0.3, null], \"line\": {\"width\": 2, \"color\": \"rgb(0, 0, 0)\"}, \"hoverinfo\": \"none\"}, {\"y\": [1.0, 0.0, null], \"mode\": \"lines\", \"x\": [0.0, 0.0, null], \"line\": {\"width\": 2, \"color\": \"rgb(0, 0, 0)\"}, \"hoverinfo\": \"none\"}, {\"y\": [1.0, 0.0, null], \"mode\": \"lines\", \"x\": [0.3, 0.3, null], \"line\": {\"width\": 2, \"color\": \"rgb(0, 0, 0)\"}, \"hoverinfo\": \"none\"}, {\"y\": [1.0, 1.0, null], \"mode\": \"lines\", \"x\": [0.7, 1.0, null], \"line\": {\"width\": 2, \"color\": \"rgb(0, 0, 0)\"}, \"hoverinfo\": \"none\"}, {\"y\": [1.0, 0.0, null], \"mode\": \"lines\", \"x\": [0.7, 0.3, null], \"line\": {\"width\": 2, \"color\": \"rgb(0, 0, 0)\"}, \"hoverinfo\": \"none\"}, {\"y\": [1.0, 0.0, null], \"mode\": \"lines\", \"x\": [0.7, 0.7, null], \"line\": {\"width\": 2, \"color\": \"rgb(0, 0, 0)\"}, \"hoverinfo\": \"none\"}, {\"y\": [1.0, 0.0, null], \"mode\": \"lines\", \"x\": [1.0, 0.7, null], \"line\": {\"width\": 2, \"color\": \"rgb(0, 0, 0)\"}, \"hoverinfo\": \"none\"}, {\"y\": [1.0, 0.0, null], \"mode\": \"lines\", \"x\": [1.0, 1.0, null], \"line\": {\"width\": 2, \"color\": \"rgb(0, 0, 0)\"}, \"hoverinfo\": \"none\"}, {\"y\": [0.0, 0.0, null], \"mode\": \"lines\", \"x\": [0.3, 0.7, null], \"line\": {\"width\": 2, \"color\": \"rgb(0, 0, 0)\"}, \"hoverinfo\": \"none\"}, {\"y\": [0.0, 0.0, null], \"mode\": \"lines\", \"x\": [0.7, 1.0, null], \"line\": {\"width\": 2, \"color\": \"rgb(0, 0, 0)\"}, \"hoverinfo\": \"none\"}, {\"y\": [1.0], \"mode\": \"markers+text\", \"marker\": {\"line\": {\"width\": 2, \"color\": \"rgb(0, 0, 0)\"}, \"color\": \"rgb(255, 0, 0)\", \"size\": 20}, \"textposition\": \"middle center\", \"x\": [0.0], \"hoverinfo\": \"none\", \"textfont\": {\"color\": \"rgb(255, 255, 255)\"}, \"text\": [\"1\"]}, {\"y\": [1.0], \"mode\": \"markers+text\", \"marker\": {\"line\": {\"width\": 2, \"color\": \"rgb(0, 0, 0)\"}, \"color\": \"rgb(0, 0, 255)\", \"size\": 20}, \"textposition\": \"middle center\", \"x\": [0.3], \"hoverinfo\": \"none\", \"textfont\": {\"color\": \"rgb(255, 255, 255)\"}, \"text\": [\"0\"]}, {\"y\": [1.0], \"mode\": \"markers+text\", \"marker\": {\"line\": {\"width\": 2, \"color\": \"rgb(0, 0, 0)\"}, \"color\": \"rgb(255, 255, 255)\", \"size\": 20}, \"textposition\": \"middle center\", \"x\": [0.7], \"hoverinfo\": \"none\", \"textfont\": {\"color\": \"rgb(0, 0, 0)\"}, \"text\": [\"\\u221e\"]}, {\"y\": [1.0], \"mode\": \"markers+text\", \"marker\": {\"line\": {\"width\": 2, \"color\": \"rgb(0, 0, 0)\"}, \"color\": \"rgb(255, 255, 255)\", \"size\": 20}, \"textposition\": \"middle center\", \"x\": [1.0], \"hoverinfo\": \"none\", \"textfont\": {\"color\": \"rgb(0, 0, 0)\"}, \"text\": [\"\\u221e\"]}, {\"y\": [0.0], \"mode\": \"markers+text\", \"marker\": {\"line\": {\"width\": 2, \"color\": \"rgb(0, 0, 0)\"}, \"color\": \"rgb(255, 255, 255)\", \"size\": 20}, \"textposition\": \"middle center\", \"x\": [0.0], \"hoverinfo\": \"none\", \"textfont\": {\"color\": \"rgb(0, 0, 0)\"}, \"text\": [\"\\u221e\"]}, {\"y\": [0.0], \"mode\": \"markers+text\", \"marker\": {\"line\": {\"width\": 2, \"color\": \"rgb(0, 0, 0)\"}, \"color\": \"rgb(255, 255, 255)\", \"size\": 20}, \"textposition\": \"middle center\", \"x\": [0.3], \"hoverinfo\": \"none\", \"textfont\": {\"color\": \"rgb(0, 0, 0)\"}, \"text\": [\"1\"]}, {\"y\": [0.0], \"mode\": \"markers+text\", \"marker\": {\"line\": {\"width\": 2, \"color\": \"rgb(0, 0, 0)\"}, \"color\": \"rgb(255, 255, 255)\", \"size\": 20}, \"textposition\": \"middle center\", \"x\": [0.7], \"hoverinfo\": \"none\", \"textfont\": {\"color\": \"rgb(0, 0, 0)\"}, \"text\": [\"\\u221e\"]}, {\"y\": [0.0], \"mode\": \"markers+text\", \"marker\": {\"line\": {\"width\": 2, \"color\": \"rgb(0, 0, 0)\"}, \"color\": \"rgb(255, 255, 255)\", \"size\": 20}, \"textposition\": \"middle center\", \"x\": [1.0], \"hoverinfo\": \"none\", \"textfont\": {\"color\": \"rgb(0, 0, 0)\"}, \"text\": [\"\\u221e\"]}], \"name\": 7}, {\"data\": [{\"y\": [1.0, 1.0, null], \"mode\": \"lines\", \"x\": [0.0, 0.3, null], \"line\": {\"width\": 2, \"color\": \"rgb(255, 0, 0)\"}, \"hoverinfo\": \"none\"}, {\"y\": [1.0, 0.0, null], \"mode\": \"lines\", \"x\": [0.0, 0.0, null], \"line\": {\"width\": 2, \"color\": \"rgb(0, 0, 0)\"}, \"hoverinfo\": \"none\"}, {\"y\": [1.0, 0.0, null], \"mode\": \"lines\", \"x\": [0.3, 0.3, null], \"line\": {\"width\": 2, \"color\": \"rgb(0, 0, 0)\"}, \"hoverinfo\": \"none\"}, {\"y\": [1.0, 1.0, null], \"mode\": \"lines\", \"x\": [0.7, 1.0, null], \"line\": {\"width\": 2, \"color\": \"rgb(0, 0, 0)\"}, \"hoverinfo\": \"none\"}, {\"y\": [1.0, 0.0, null], \"mode\": \"lines\", \"x\": [0.7, 0.3, null], \"line\": {\"width\": 2, \"color\": \"rgb(0, 0, 0)\"}, \"hoverinfo\": \"none\"}, {\"y\": [1.0, 0.0, null], \"mode\": \"lines\", \"x\": [0.7, 0.7, null], \"line\": {\"width\": 2, \"color\": \"rgb(0, 0, 0)\"}, \"hoverinfo\": \"none\"}, {\"y\": [1.0, 0.0, null], \"mode\": \"lines\", \"x\": [1.0, 0.7, null], \"line\": {\"width\": 2, \"color\": \"rgb(0, 0, 0)\"}, \"hoverinfo\": \"none\"}, {\"y\": [1.0, 0.0, null], \"mode\": \"lines\", \"x\": [1.0, 1.0, null], \"line\": {\"width\": 2, \"color\": \"rgb(0, 0, 0)\"}, \"hoverinfo\": \"none\"}, {\"y\": [0.0, 0.0, null], \"mode\": \"lines\", \"x\": [0.3, 0.7, null], \"line\": {\"width\": 2, \"color\": \"rgb(0, 0, 0)\"}, \"hoverinfo\": \"none\"}, {\"y\": [0.0, 0.0, null], \"mode\": \"lines\", \"x\": [0.7, 1.0, null], \"line\": {\"width\": 2, \"color\": \"rgb(0, 0, 0)\"}, \"hoverinfo\": \"none\"}, {\"y\": [1.0], \"mode\": \"markers+text\", \"marker\": {\"line\": {\"width\": 2, \"color\": \"rgb(0, 0, 0)\"}, \"color\": \"rgb(255, 0, 0)\", \"size\": 20}, \"textposition\": \"middle center\", \"x\": [0.0], \"hoverinfo\": \"none\", \"textfont\": {\"color\": \"rgb(255, 255, 255)\"}, \"text\": [\"1\"]}, {\"y\": [1.0], \"mode\": \"markers+text\", \"marker\": {\"line\": {\"width\": 2, \"color\": \"rgb(0, 0, 0)\"}, \"color\": \"rgb(0, 0, 255)\", \"size\": 20}, \"textposition\": \"middle center\", \"x\": [0.3], \"hoverinfo\": \"none\", \"textfont\": {\"color\": \"rgb(255, 255, 255)\"}, \"text\": [\"0\"]}, {\"y\": [1.0], \"mode\": \"markers+text\", \"marker\": {\"line\": {\"width\": 2, \"color\": \"rgb(0, 0, 0)\"}, \"color\": \"rgb(255, 255, 255)\", \"size\": 20}, \"textposition\": \"middle center\", \"x\": [0.7], \"hoverinfo\": \"none\", \"textfont\": {\"color\": \"rgb(0, 0, 0)\"}, \"text\": [\"\\u221e\"]}, {\"y\": [1.0], \"mode\": \"markers+text\", \"marker\": {\"line\": {\"width\": 2, \"color\": \"rgb(0, 0, 0)\"}, \"color\": \"rgb(255, 255, 255)\", \"size\": 20}, \"textposition\": \"middle center\", \"x\": [1.0], \"hoverinfo\": \"none\", \"textfont\": {\"color\": \"rgb(0, 0, 0)\"}, \"text\": [\"\\u221e\"]}, {\"y\": [0.0], \"mode\": \"markers+text\", \"marker\": {\"line\": {\"width\": 2, \"color\": \"rgb(0, 0, 0)\"}, \"color\": \"rgb(255, 255, 255)\", \"size\": 20}, \"textposition\": \"middle center\", \"x\": [0.0], \"hoverinfo\": \"none\", \"textfont\": {\"color\": \"rgb(0, 0, 0)\"}, \"text\": [\"\\u221e\"]}, {\"y\": [0.0], \"mode\": \"markers+text\", \"marker\": {\"line\": {\"width\": 2, \"color\": \"rgb(0, 0, 0)\"}, \"color\": \"rgb(255, 255, 255)\", \"size\": 20}, \"textposition\": \"middle center\", \"x\": [0.3], \"hoverinfo\": \"none\", \"textfont\": {\"color\": \"rgb(0, 0, 0)\"}, \"text\": [\"1\"]}, {\"y\": [0.0], \"mode\": \"markers+text\", \"marker\": {\"line\": {\"width\": 2, \"color\": \"rgb(0, 0, 0)\"}, \"color\": \"rgb(255, 255, 255)\", \"size\": 20}, \"textposition\": \"middle center\", \"x\": [0.7], \"hoverinfo\": \"none\", \"textfont\": {\"color\": \"rgb(0, 0, 0)\"}, \"text\": [\"\\u221e\"]}, {\"y\": [0.0], \"mode\": \"markers+text\", \"marker\": {\"line\": {\"width\": 2, \"color\": \"rgb(0, 0, 0)\"}, \"color\": \"rgb(255, 255, 255)\", \"size\": 20}, \"textposition\": \"middle center\", \"x\": [1.0], \"hoverinfo\": \"none\", \"textfont\": {\"color\": \"rgb(0, 0, 0)\"}, \"text\": [\"\\u221e\"]}], \"name\": 8}, {\"data\": [{\"y\": [1.0, 1.0, null], \"mode\": \"lines\", \"x\": [0.0, 0.3, null], \"line\": {\"width\": 2, \"color\": \"rgb(0, 0, 0)\"}, \"hoverinfo\": \"none\"}, {\"y\": [1.0, 0.0, null], \"mode\": \"lines\", \"x\": [0.0, 0.0, null], \"line\": {\"width\": 2, \"color\": \"rgb(0, 0, 0)\"}, \"hoverinfo\": \"none\"}, {\"y\": [1.0, 0.0, null], \"mode\": \"lines\", \"x\": [0.3, 0.3, null], \"line\": {\"width\": 2, \"color\": \"rgb(0, 0, 0)\"}, \"hoverinfo\": \"none\"}, {\"y\": [1.0, 1.0, null], \"mode\": \"lines\", \"x\": [0.7, 1.0, null], \"line\": {\"width\": 2, \"color\": \"rgb(0, 0, 0)\"}, \"hoverinfo\": \"none\"}, {\"y\": [1.0, 0.0, null], \"mode\": \"lines\", \"x\": [0.7, 0.3, null], \"line\": {\"width\": 2, \"color\": \"rgb(0, 0, 0)\"}, \"hoverinfo\": \"none\"}, {\"y\": [1.0, 0.0, null], \"mode\": \"lines\", \"x\": [0.7, 0.7, null], \"line\": {\"width\": 2, \"color\": \"rgb(0, 0, 0)\"}, \"hoverinfo\": \"none\"}, {\"y\": [1.0, 0.0, null], \"mode\": \"lines\", \"x\": [1.0, 0.7, null], \"line\": {\"width\": 2, \"color\": \"rgb(0, 0, 0)\"}, \"hoverinfo\": \"none\"}, {\"y\": [1.0, 0.0, null], \"mode\": \"lines\", \"x\": [1.0, 1.0, null], \"line\": {\"width\": 2, \"color\": \"rgb(0, 0, 0)\"}, \"hoverinfo\": \"none\"}, {\"y\": [0.0, 0.0, null], \"mode\": \"lines\", \"x\": [0.3, 0.7, null], \"line\": {\"width\": 2, \"color\": \"rgb(0, 0, 0)\"}, \"hoverinfo\": \"none\"}, {\"y\": [0.0, 0.0, null], \"mode\": \"lines\", \"x\": [0.7, 1.0, null], \"line\": {\"width\": 2, \"color\": \"rgb(0, 0, 0)\"}, \"hoverinfo\": \"none\"}, {\"y\": [1.0], \"mode\": \"markers+text\", \"marker\": {\"line\": {\"width\": 2, \"color\": \"rgb(0, 0, 0)\"}, \"color\": \"rgb(255, 0, 0)\", \"size\": 20}, \"textposition\": \"middle center\", \"x\": [0.0], \"hoverinfo\": \"none\", \"textfont\": {\"color\": \"rgb(255, 255, 255)\"}, \"text\": [\"1\"]}, {\"y\": [1.0], \"mode\": \"markers+text\", \"marker\": {\"line\": {\"width\": 2, \"color\": \"rgb(0, 0, 0)\"}, \"color\": \"rgb(0, 0, 255)\", \"size\": 20}, \"textposition\": \"middle center\", \"x\": [0.3], \"hoverinfo\": \"none\", \"textfont\": {\"color\": \"rgb(255, 255, 255)\"}, \"text\": [\"0\"]}, {\"y\": [1.0], \"mode\": \"markers+text\", \"marker\": {\"line\": {\"width\": 2, \"color\": \"rgb(0, 0, 0)\"}, \"color\": \"rgb(255, 255, 255)\", \"size\": 20}, \"textposition\": \"middle center\", \"x\": [0.7], \"hoverinfo\": \"none\", \"textfont\": {\"color\": \"rgb(0, 0, 0)\"}, \"text\": [\"\\u221e\"]}, {\"y\": [1.0], \"mode\": \"markers+text\", \"marker\": {\"line\": {\"width\": 2, \"color\": \"rgb(0, 0, 0)\"}, \"color\": \"rgb(255, 255, 255)\", \"size\": 20}, \"textposition\": \"middle center\", \"x\": [1.0], \"hoverinfo\": \"none\", \"textfont\": {\"color\": \"rgb(0, 0, 0)\"}, \"text\": [\"\\u221e\"]}, {\"y\": [0.0], \"mode\": \"markers+text\", \"marker\": {\"line\": {\"width\": 2, \"color\": \"rgb(0, 0, 0)\"}, \"color\": \"rgb(255, 255, 255)\", \"size\": 20}, \"textposition\": \"middle center\", \"x\": [0.0], \"hoverinfo\": \"none\", \"textfont\": {\"color\": \"rgb(0, 0, 0)\"}, \"text\": [\"\\u221e\"]}, {\"y\": [0.0], \"mode\": \"markers+text\", \"marker\": {\"line\": {\"width\": 2, \"color\": \"rgb(0, 0, 0)\"}, \"color\": \"rgb(255, 255, 255)\", \"size\": 20}, \"textposition\": \"middle center\", \"x\": [0.3], \"hoverinfo\": \"none\", \"textfont\": {\"color\": \"rgb(0, 0, 0)\"}, \"text\": [\"1\"]}, {\"y\": [0.0], \"mode\": \"markers+text\", \"marker\": {\"line\": {\"width\": 2, \"color\": \"rgb(0, 0, 0)\"}, \"color\": \"rgb(255, 255, 255)\", \"size\": 20}, \"textposition\": \"middle center\", \"x\": [0.7], \"hoverinfo\": \"none\", \"textfont\": {\"color\": \"rgb(0, 0, 0)\"}, \"text\": [\"\\u221e\"]}, {\"y\": [0.0], \"mode\": \"markers+text\", \"marker\": {\"line\": {\"width\": 2, \"color\": \"rgb(0, 0, 0)\"}, \"color\": \"rgb(255, 255, 255)\", \"size\": 20}, \"textposition\": \"middle center\", \"x\": [1.0], \"hoverinfo\": \"none\", \"textfont\": {\"color\": \"rgb(0, 0, 0)\"}, \"text\": [\"\\u221e\"]}], \"name\": 9}, {\"data\": [{\"y\": [1.0, 1.0, null], \"mode\": \"lines\", \"x\": [0.0, 0.3, null], \"line\": {\"width\": 2, \"color\": \"rgb(0, 0, 0)\"}, \"hoverinfo\": \"none\"}, {\"y\": [1.0, 0.0, null], \"mode\": \"lines\", \"x\": [0.0, 0.0, null], \"line\": {\"width\": 2, \"color\": \"rgb(255, 0, 0)\"}, \"hoverinfo\": \"none\"}, {\"y\": [1.0, 0.0, null], \"mode\": \"lines\", \"x\": [0.3, 0.3, null], \"line\": {\"width\": 2, \"color\": \"rgb(0, 0, 0)\"}, \"hoverinfo\": \"none\"}, {\"y\": [1.0, 1.0, null], \"mode\": \"lines\", \"x\": [0.7, 1.0, null], \"line\": {\"width\": 2, \"color\": \"rgb(0, 0, 0)\"}, \"hoverinfo\": \"none\"}, {\"y\": [1.0, 0.0, null], \"mode\": \"lines\", \"x\": [0.7, 0.3, null], \"line\": {\"width\": 2, \"color\": \"rgb(0, 0, 0)\"}, \"hoverinfo\": \"none\"}, {\"y\": [1.0, 0.0, null], \"mode\": \"lines\", \"x\": [0.7, 0.7, null], \"line\": {\"width\": 2, \"color\": \"rgb(0, 0, 0)\"}, \"hoverinfo\": \"none\"}, {\"y\": [1.0, 0.0, null], \"mode\": \"lines\", \"x\": [1.0, 0.7, null], \"line\": {\"width\": 2, \"color\": \"rgb(0, 0, 0)\"}, \"hoverinfo\": \"none\"}, {\"y\": [1.0, 0.0, null], \"mode\": \"lines\", \"x\": [1.0, 1.0, null], \"line\": {\"width\": 2, \"color\": \"rgb(0, 0, 0)\"}, \"hoverinfo\": \"none\"}, {\"y\": [0.0, 0.0, null], \"mode\": \"lines\", \"x\": [0.3, 0.7, null], \"line\": {\"width\": 2, \"color\": \"rgb(0, 0, 0)\"}, \"hoverinfo\": \"none\"}, {\"y\": [0.0, 0.0, null], \"mode\": \"lines\", \"x\": [0.7, 1.0, null], \"line\": {\"width\": 2, \"color\": \"rgb(0, 0, 0)\"}, \"hoverinfo\": \"none\"}, {\"y\": [1.0], \"mode\": \"markers+text\", \"marker\": {\"line\": {\"width\": 2, \"color\": \"rgb(0, 0, 0)\"}, \"color\": \"rgb(255, 0, 0)\", \"size\": 20}, \"textposition\": \"middle center\", \"x\": [0.0], \"hoverinfo\": \"none\", \"textfont\": {\"color\": \"rgb(255, 255, 255)\"}, \"text\": [\"1\"]}, {\"y\": [1.0], \"mode\": \"markers+text\", \"marker\": {\"line\": {\"width\": 2, \"color\": \"rgb(0, 0, 0)\"}, \"color\": \"rgb(0, 0, 255)\", \"size\": 20}, \"textposition\": \"middle center\", \"x\": [0.3], \"hoverinfo\": \"none\", \"textfont\": {\"color\": \"rgb(255, 255, 255)\"}, \"text\": [\"0\"]}, {\"y\": [1.0], \"mode\": \"markers+text\", \"marker\": {\"line\": {\"width\": 2, \"color\": \"rgb(0, 0, 0)\"}, \"color\": \"rgb(255, 255, 255)\", \"size\": 20}, \"textposition\": \"middle center\", \"x\": [0.7], \"hoverinfo\": \"none\", \"textfont\": {\"color\": \"rgb(0, 0, 0)\"}, \"text\": [\"\\u221e\"]}, {\"y\": [1.0], \"mode\": \"markers+text\", \"marker\": {\"line\": {\"width\": 2, \"color\": \"rgb(0, 0, 0)\"}, \"color\": \"rgb(255, 255, 255)\", \"size\": 20}, \"textposition\": \"middle center\", \"x\": [1.0], \"hoverinfo\": \"none\", \"textfont\": {\"color\": \"rgb(0, 0, 0)\"}, \"text\": [\"\\u221e\"]}, {\"y\": [0.0], \"mode\": \"markers+text\", \"marker\": {\"line\": {\"width\": 2, \"color\": \"rgb(0, 0, 0)\"}, \"color\": \"rgb(255, 255, 255)\", \"size\": 20}, \"textposition\": \"middle center\", \"x\": [0.0], \"hoverinfo\": \"none\", \"textfont\": {\"color\": \"rgb(0, 0, 0)\"}, \"text\": [\"\\u221e\"]}, {\"y\": [0.0], \"mode\": \"markers+text\", \"marker\": {\"line\": {\"width\": 2, \"color\": \"rgb(0, 0, 0)\"}, \"color\": \"rgb(255, 255, 255)\", \"size\": 20}, \"textposition\": \"middle center\", \"x\": [0.3], \"hoverinfo\": \"none\", \"textfont\": {\"color\": \"rgb(0, 0, 0)\"}, \"text\": [\"1\"]}, {\"y\": [0.0], \"mode\": \"markers+text\", \"marker\": {\"line\": {\"width\": 2, \"color\": \"rgb(0, 0, 0)\"}, \"color\": \"rgb(255, 255, 255)\", \"size\": 20}, \"textposition\": \"middle center\", \"x\": [0.7], \"hoverinfo\": \"none\", \"textfont\": {\"color\": \"rgb(0, 0, 0)\"}, \"text\": [\"\\u221e\"]}, {\"y\": [0.0], \"mode\": \"markers+text\", \"marker\": {\"line\": {\"width\": 2, \"color\": \"rgb(0, 0, 0)\"}, \"color\": \"rgb(255, 255, 255)\", \"size\": 20}, \"textposition\": \"middle center\", \"x\": [1.0], \"hoverinfo\": \"none\", \"textfont\": {\"color\": \"rgb(0, 0, 0)\"}, \"text\": [\"\\u221e\"]}], \"name\": 10}, {\"data\": [{\"y\": [1.0, 1.0, null], \"mode\": \"lines\", \"x\": [0.0, 0.3, null], \"line\": {\"width\": 2, \"color\": \"rgb(0, 0, 0)\"}, \"hoverinfo\": \"none\"}, {\"y\": [1.0, 0.0, null], \"mode\": \"lines\", \"x\": [0.0, 0.0, null], \"line\": {\"width\": 2, \"color\": \"rgb(0, 0, 0)\"}, \"hoverinfo\": \"none\"}, {\"y\": [1.0, 0.0, null], \"mode\": \"lines\", \"x\": [0.3, 0.3, null], \"line\": {\"width\": 2, \"color\": \"rgb(0, 0, 0)\"}, \"hoverinfo\": \"none\"}, {\"y\": [1.0, 1.0, null], \"mode\": \"lines\", \"x\": [0.7, 1.0, null], \"line\": {\"width\": 2, \"color\": \"rgb(0, 0, 0)\"}, \"hoverinfo\": \"none\"}, {\"y\": [1.0, 0.0, null], \"mode\": \"lines\", \"x\": [0.7, 0.3, null], \"line\": {\"width\": 2, \"color\": \"rgb(0, 0, 0)\"}, \"hoverinfo\": \"none\"}, {\"y\": [1.0, 0.0, null], \"mode\": \"lines\", \"x\": [0.7, 0.7, null], \"line\": {\"width\": 2, \"color\": \"rgb(0, 0, 0)\"}, \"hoverinfo\": \"none\"}, {\"y\": [1.0, 0.0, null], \"mode\": \"lines\", \"x\": [1.0, 0.7, null], \"line\": {\"width\": 2, \"color\": \"rgb(0, 0, 0)\"}, \"hoverinfo\": \"none\"}, {\"y\": [1.0, 0.0, null], \"mode\": \"lines\", \"x\": [1.0, 1.0, null], \"line\": {\"width\": 2, \"color\": \"rgb(0, 0, 0)\"}, \"hoverinfo\": \"none\"}, {\"y\": [0.0, 0.0, null], \"mode\": \"lines\", \"x\": [0.3, 0.7, null], \"line\": {\"width\": 2, \"color\": \"rgb(0, 0, 0)\"}, \"hoverinfo\": \"none\"}, {\"y\": [0.0, 0.0, null], \"mode\": \"lines\", \"x\": [0.7, 1.0, null], \"line\": {\"width\": 2, \"color\": \"rgb(0, 0, 0)\"}, \"hoverinfo\": \"none\"}, {\"y\": [1.0], \"mode\": \"markers+text\", \"marker\": {\"line\": {\"width\": 2, \"color\": \"rgb(0, 0, 0)\"}, \"color\": \"rgb(255, 0, 0)\", \"size\": 20}, \"textposition\": \"middle center\", \"x\": [0.0], \"hoverinfo\": \"none\", \"textfont\": {\"color\": \"rgb(255, 255, 255)\"}, \"text\": [\"1\"]}, {\"y\": [1.0], \"mode\": \"markers+text\", \"marker\": {\"line\": {\"width\": 2, \"color\": \"rgb(0, 0, 0)\"}, \"color\": \"rgb(0, 0, 255)\", \"size\": 20}, \"textposition\": \"middle center\", \"x\": [0.3], \"hoverinfo\": \"none\", \"textfont\": {\"color\": \"rgb(255, 255, 255)\"}, \"text\": [\"0\"]}, {\"y\": [1.0], \"mode\": \"markers+text\", \"marker\": {\"line\": {\"width\": 2, \"color\": \"rgb(0, 0, 0)\"}, \"color\": \"rgb(255, 255, 255)\", \"size\": 20}, \"textposition\": \"middle center\", \"x\": [0.7], \"hoverinfo\": \"none\", \"textfont\": {\"color\": \"rgb(0, 0, 0)\"}, \"text\": [\"\\u221e\"]}, {\"y\": [1.0], \"mode\": \"markers+text\", \"marker\": {\"line\": {\"width\": 2, \"color\": \"rgb(0, 0, 0)\"}, \"color\": \"rgb(255, 255, 255)\", \"size\": 20}, \"textposition\": \"middle center\", \"x\": [1.0], \"hoverinfo\": \"none\", \"textfont\": {\"color\": \"rgb(0, 0, 0)\"}, \"text\": [\"\\u221e\"]}, {\"y\": [0.0], \"mode\": \"markers+text\", \"marker\": {\"line\": {\"width\": 2, \"color\": \"rgb(0, 0, 0)\"}, \"color\": \"rgb(255, 255, 255)\", \"size\": 20}, \"textposition\": \"middle center\", \"x\": [0.0], \"hoverinfo\": \"none\", \"textfont\": {\"color\": \"rgb(0, 0, 0)\"}, \"text\": [\"2\"]}, {\"y\": [0.0], \"mode\": \"markers+text\", \"marker\": {\"line\": {\"width\": 2, \"color\": \"rgb(0, 0, 0)\"}, \"color\": \"rgb(255, 255, 255)\", \"size\": 20}, \"textposition\": \"middle center\", \"x\": [0.3], \"hoverinfo\": \"none\", \"textfont\": {\"color\": \"rgb(0, 0, 0)\"}, \"text\": [\"1\"]}, {\"y\": [0.0], \"mode\": \"markers+text\", \"marker\": {\"line\": {\"width\": 2, \"color\": \"rgb(0, 0, 0)\"}, \"color\": \"rgb(255, 255, 255)\", \"size\": 20}, \"textposition\": \"middle center\", \"x\": [0.7], \"hoverinfo\": \"none\", \"textfont\": {\"color\": \"rgb(0, 0, 0)\"}, \"text\": [\"\\u221e\"]}, {\"y\": [0.0], \"mode\": \"markers+text\", \"marker\": {\"line\": {\"width\": 2, \"color\": \"rgb(0, 0, 0)\"}, \"color\": \"rgb(255, 255, 255)\", \"size\": 20}, \"textposition\": \"middle center\", \"x\": [1.0], \"hoverinfo\": \"none\", \"textfont\": {\"color\": \"rgb(0, 0, 0)\"}, \"text\": [\"\\u221e\"]}], \"name\": 11}, {\"data\": [{\"y\": [1.0, 1.0, null], \"mode\": \"lines\", \"x\": [0.0, 0.3, null], \"line\": {\"width\": 2, \"color\": \"rgb(0, 0, 0)\"}, \"hoverinfo\": \"none\"}, {\"y\": [1.0, 0.0, null], \"mode\": \"lines\", \"x\": [0.0, 0.0, null], \"line\": {\"width\": 2, \"color\": \"rgb(0, 0, 0)\"}, \"hoverinfo\": \"none\"}, {\"y\": [1.0, 0.0, null], \"mode\": \"lines\", \"x\": [0.3, 0.3, null], \"line\": {\"width\": 2, \"color\": \"rgb(0, 0, 0)\"}, \"hoverinfo\": \"none\"}, {\"y\": [1.0, 1.0, null], \"mode\": \"lines\", \"x\": [0.7, 1.0, null], \"line\": {\"width\": 2, \"color\": \"rgb(0, 0, 0)\"}, \"hoverinfo\": \"none\"}, {\"y\": [1.0, 0.0, null], \"mode\": \"lines\", \"x\": [0.7, 0.3, null], \"line\": {\"width\": 2, \"color\": \"rgb(0, 0, 0)\"}, \"hoverinfo\": \"none\"}, {\"y\": [1.0, 0.0, null], \"mode\": \"lines\", \"x\": [0.7, 0.7, null], \"line\": {\"width\": 2, \"color\": \"rgb(0, 0, 0)\"}, \"hoverinfo\": \"none\"}, {\"y\": [1.0, 0.0, null], \"mode\": \"lines\", \"x\": [1.0, 0.7, null], \"line\": {\"width\": 2, \"color\": \"rgb(0, 0, 0)\"}, \"hoverinfo\": \"none\"}, {\"y\": [1.0, 0.0, null], \"mode\": \"lines\", \"x\": [1.0, 1.0, null], \"line\": {\"width\": 2, \"color\": \"rgb(0, 0, 0)\"}, \"hoverinfo\": \"none\"}, {\"y\": [0.0, 0.0, null], \"mode\": \"lines\", \"x\": [0.3, 0.7, null], \"line\": {\"width\": 2, \"color\": \"rgb(0, 0, 0)\"}, \"hoverinfo\": \"none\"}, {\"y\": [0.0, 0.0, null], \"mode\": \"lines\", \"x\": [0.7, 1.0, null], \"line\": {\"width\": 2, \"color\": \"rgb(0, 0, 0)\"}, \"hoverinfo\": \"none\"}, {\"y\": [1.0], \"mode\": \"markers+text\", \"marker\": {\"line\": {\"width\": 2, \"color\": \"rgb(0, 0, 0)\"}, \"color\": \"rgb(0, 0, 255)\", \"size\": 20}, \"textposition\": \"middle center\", \"x\": [0.0], \"hoverinfo\": \"none\", \"textfont\": {\"color\": \"rgb(255, 255, 255)\"}, \"text\": [\"1\"]}, {\"y\": [1.0], \"mode\": \"markers+text\", \"marker\": {\"line\": {\"width\": 2, \"color\": \"rgb(0, 0, 0)\"}, \"color\": \"rgb(0, 0, 255)\", \"size\": 20}, \"textposition\": \"middle center\", \"x\": [0.3], \"hoverinfo\": \"none\", \"textfont\": {\"color\": \"rgb(255, 255, 255)\"}, \"text\": [\"0\"]}, {\"y\": [1.0], \"mode\": \"markers+text\", \"marker\": {\"line\": {\"width\": 2, \"color\": \"rgb(0, 0, 0)\"}, \"color\": \"rgb(255, 255, 255)\", \"size\": 20}, \"textposition\": \"middle center\", \"x\": [0.7], \"hoverinfo\": \"none\", \"textfont\": {\"color\": \"rgb(0, 0, 0)\"}, \"text\": [\"\\u221e\"]}, {\"y\": [1.0], \"mode\": \"markers+text\", \"marker\": {\"line\": {\"width\": 2, \"color\": \"rgb(0, 0, 0)\"}, \"color\": \"rgb(255, 255, 255)\", \"size\": 20}, \"textposition\": \"middle center\", \"x\": [1.0], \"hoverinfo\": \"none\", \"textfont\": {\"color\": \"rgb(0, 0, 0)\"}, \"text\": [\"\\u221e\"]}, {\"y\": [0.0], \"mode\": \"markers+text\", \"marker\": {\"line\": {\"width\": 2, \"color\": \"rgb(0, 0, 0)\"}, \"color\": \"rgb(255, 255, 255)\", \"size\": 20}, \"textposition\": \"middle center\", \"x\": [0.0], \"hoverinfo\": \"none\", \"textfont\": {\"color\": \"rgb(0, 0, 0)\"}, \"text\": [\"2\"]}, {\"y\": [0.0], \"mode\": \"markers+text\", \"marker\": {\"line\": {\"width\": 2, \"color\": \"rgb(0, 0, 0)\"}, \"color\": \"rgb(255, 255, 255)\", \"size\": 20}, \"textposition\": \"middle center\", \"x\": [0.3], \"hoverinfo\": \"none\", \"textfont\": {\"color\": \"rgb(0, 0, 0)\"}, \"text\": [\"1\"]}, {\"y\": [0.0], \"mode\": \"markers+text\", \"marker\": {\"line\": {\"width\": 2, \"color\": \"rgb(0, 0, 0)\"}, \"color\": \"rgb(255, 255, 255)\", \"size\": 20}, \"textposition\": \"middle center\", \"x\": [0.7], \"hoverinfo\": \"none\", \"textfont\": {\"color\": \"rgb(0, 0, 0)\"}, \"text\": [\"\\u221e\"]}, {\"y\": [0.0], \"mode\": \"markers+text\", \"marker\": {\"line\": {\"width\": 2, \"color\": \"rgb(0, 0, 0)\"}, \"color\": \"rgb(255, 255, 255)\", \"size\": 20}, \"textposition\": \"middle center\", \"x\": [1.0], \"hoverinfo\": \"none\", \"textfont\": {\"color\": \"rgb(0, 0, 0)\"}, \"text\": [\"\\u221e\"]}], \"name\": 12}, {\"data\": [{\"y\": [1.0, 1.0, null], \"mode\": \"lines\", \"x\": [0.0, 0.3, null], \"line\": {\"width\": 2, \"color\": \"rgb(0, 0, 0)\"}, \"hoverinfo\": \"none\"}, {\"y\": [1.0, 0.0, null], \"mode\": \"lines\", \"x\": [0.0, 0.0, null], \"line\": {\"width\": 2, \"color\": \"rgb(0, 0, 0)\"}, \"hoverinfo\": \"none\"}, {\"y\": [1.0, 0.0, null], \"mode\": \"lines\", \"x\": [0.3, 0.3, null], \"line\": {\"width\": 2, \"color\": \"rgb(0, 0, 0)\"}, \"hoverinfo\": \"none\"}, {\"y\": [1.0, 1.0, null], \"mode\": \"lines\", \"x\": [0.7, 1.0, null], \"line\": {\"width\": 2, \"color\": \"rgb(0, 0, 0)\"}, \"hoverinfo\": \"none\"}, {\"y\": [1.0, 0.0, null], \"mode\": \"lines\", \"x\": [0.7, 0.3, null], \"line\": {\"width\": 2, \"color\": \"rgb(0, 0, 0)\"}, \"hoverinfo\": \"none\"}, {\"y\": [1.0, 0.0, null], \"mode\": \"lines\", \"x\": [0.7, 0.7, null], \"line\": {\"width\": 2, \"color\": \"rgb(0, 0, 0)\"}, \"hoverinfo\": \"none\"}, {\"y\": [1.0, 0.0, null], \"mode\": \"lines\", \"x\": [1.0, 0.7, null], \"line\": {\"width\": 2, \"color\": \"rgb(0, 0, 0)\"}, \"hoverinfo\": \"none\"}, {\"y\": [1.0, 0.0, null], \"mode\": \"lines\", \"x\": [1.0, 1.0, null], \"line\": {\"width\": 2, \"color\": \"rgb(0, 0, 0)\"}, \"hoverinfo\": \"none\"}, {\"y\": [0.0, 0.0, null], \"mode\": \"lines\", \"x\": [0.3, 0.7, null], \"line\": {\"width\": 2, \"color\": \"rgb(0, 0, 0)\"}, \"hoverinfo\": \"none\"}, {\"y\": [0.0, 0.0, null], \"mode\": \"lines\", \"x\": [0.7, 1.0, null], \"line\": {\"width\": 2, \"color\": \"rgb(0, 0, 0)\"}, \"hoverinfo\": \"none\"}, {\"y\": [1.0], \"mode\": \"markers+text\", \"marker\": {\"line\": {\"width\": 2, \"color\": \"rgb(0, 0, 0)\"}, \"color\": \"rgb(0, 0, 255)\", \"size\": 20}, \"textposition\": \"middle center\", \"x\": [0.0], \"hoverinfo\": \"none\", \"textfont\": {\"color\": \"rgb(255, 255, 255)\"}, \"text\": [\"1\"]}, {\"y\": [1.0], \"mode\": \"markers+text\", \"marker\": {\"line\": {\"width\": 2, \"color\": \"rgb(0, 0, 0)\"}, \"color\": \"rgb(0, 0, 255)\", \"size\": 20}, \"textposition\": \"middle center\", \"x\": [0.3], \"hoverinfo\": \"none\", \"textfont\": {\"color\": \"rgb(255, 255, 255)\"}, \"text\": [\"0\"]}, {\"y\": [1.0], \"mode\": \"markers+text\", \"marker\": {\"line\": {\"width\": 2, \"color\": \"rgb(0, 0, 0)\"}, \"color\": \"rgb(255, 255, 255)\", \"size\": 20}, \"textposition\": \"middle center\", \"x\": [0.7], \"hoverinfo\": \"none\", \"textfont\": {\"color\": \"rgb(0, 0, 0)\"}, \"text\": [\"\\u221e\"]}, {\"y\": [1.0], \"mode\": \"markers+text\", \"marker\": {\"line\": {\"width\": 2, \"color\": \"rgb(0, 0, 0)\"}, \"color\": \"rgb(255, 255, 255)\", \"size\": 20}, \"textposition\": \"middle center\", \"x\": [1.0], \"hoverinfo\": \"none\", \"textfont\": {\"color\": \"rgb(0, 0, 0)\"}, \"text\": [\"\\u221e\"]}, {\"y\": [0.0], \"mode\": \"markers+text\", \"marker\": {\"line\": {\"width\": 2, \"color\": \"rgb(0, 0, 0)\"}, \"color\": \"rgb(255, 255, 255)\", \"size\": 20}, \"textposition\": \"middle center\", \"x\": [0.0], \"hoverinfo\": \"none\", \"textfont\": {\"color\": \"rgb(0, 0, 0)\"}, \"text\": [\"2\"]}, {\"y\": [0.0], \"mode\": \"markers+text\", \"marker\": {\"line\": {\"width\": 2, \"color\": \"rgb(0, 0, 0)\"}, \"color\": \"rgb(255, 0, 0)\", \"size\": 20}, \"textposition\": \"middle center\", \"x\": [0.3], \"hoverinfo\": \"none\", \"textfont\": {\"color\": \"rgb(255, 255, 255)\"}, \"text\": [\"1\"]}, {\"y\": [0.0], \"mode\": \"markers+text\", \"marker\": {\"line\": {\"width\": 2, \"color\": \"rgb(0, 0, 0)\"}, \"color\": \"rgb(255, 255, 255)\", \"size\": 20}, \"textposition\": \"middle center\", \"x\": [0.7], \"hoverinfo\": \"none\", \"textfont\": {\"color\": \"rgb(0, 0, 0)\"}, \"text\": [\"\\u221e\"]}, {\"y\": [0.0], \"mode\": \"markers+text\", \"marker\": {\"line\": {\"width\": 2, \"color\": \"rgb(0, 0, 0)\"}, \"color\": \"rgb(255, 255, 255)\", \"size\": 20}, \"textposition\": \"middle center\", \"x\": [1.0], \"hoverinfo\": \"none\", \"textfont\": {\"color\": \"rgb(0, 0, 0)\"}, \"text\": [\"\\u221e\"]}], \"name\": 13}, {\"data\": [{\"y\": [1.0, 1.0, null], \"mode\": \"lines\", \"x\": [0.0, 0.3, null], \"line\": {\"width\": 2, \"color\": \"rgb(0, 0, 0)\"}, \"hoverinfo\": \"none\"}, {\"y\": [1.0, 0.0, null], \"mode\": \"lines\", \"x\": [0.0, 0.0, null], \"line\": {\"width\": 2, \"color\": \"rgb(0, 0, 0)\"}, \"hoverinfo\": \"none\"}, {\"y\": [1.0, 0.0, null], \"mode\": \"lines\", \"x\": [0.3, 0.3, null], \"line\": {\"width\": 2, \"color\": \"rgb(255, 0, 0)\"}, \"hoverinfo\": \"none\"}, {\"y\": [1.0, 1.0, null], \"mode\": \"lines\", \"x\": [0.7, 1.0, null], \"line\": {\"width\": 2, \"color\": \"rgb(0, 0, 0)\"}, \"hoverinfo\": \"none\"}, {\"y\": [1.0, 0.0, null], \"mode\": \"lines\", \"x\": [0.7, 0.3, null], \"line\": {\"width\": 2, \"color\": \"rgb(0, 0, 0)\"}, \"hoverinfo\": \"none\"}, {\"y\": [1.0, 0.0, null], \"mode\": \"lines\", \"x\": [0.7, 0.7, null], \"line\": {\"width\": 2, \"color\": \"rgb(0, 0, 0)\"}, \"hoverinfo\": \"none\"}, {\"y\": [1.0, 0.0, null], \"mode\": \"lines\", \"x\": [1.0, 0.7, null], \"line\": {\"width\": 2, \"color\": \"rgb(0, 0, 0)\"}, \"hoverinfo\": \"none\"}, {\"y\": [1.0, 0.0, null], \"mode\": \"lines\", \"x\": [1.0, 1.0, null], \"line\": {\"width\": 2, \"color\": \"rgb(0, 0, 0)\"}, \"hoverinfo\": \"none\"}, {\"y\": [0.0, 0.0, null], \"mode\": \"lines\", \"x\": [0.3, 0.7, null], \"line\": {\"width\": 2, \"color\": \"rgb(0, 0, 0)\"}, \"hoverinfo\": \"none\"}, {\"y\": [0.0, 0.0, null], \"mode\": \"lines\", \"x\": [0.7, 1.0, null], \"line\": {\"width\": 2, \"color\": \"rgb(0, 0, 0)\"}, \"hoverinfo\": \"none\"}, {\"y\": [1.0], \"mode\": \"markers+text\", \"marker\": {\"line\": {\"width\": 2, \"color\": \"rgb(0, 0, 0)\"}, \"color\": \"rgb(0, 0, 255)\", \"size\": 20}, \"textposition\": \"middle center\", \"x\": [0.0], \"hoverinfo\": \"none\", \"textfont\": {\"color\": \"rgb(255, 255, 255)\"}, \"text\": [\"1\"]}, {\"y\": [1.0], \"mode\": \"markers+text\", \"marker\": {\"line\": {\"width\": 2, \"color\": \"rgb(0, 0, 0)\"}, \"color\": \"rgb(0, 0, 255)\", \"size\": 20}, \"textposition\": \"middle center\", \"x\": [0.3], \"hoverinfo\": \"none\", \"textfont\": {\"color\": \"rgb(255, 255, 255)\"}, \"text\": [\"0\"]}, {\"y\": [1.0], \"mode\": \"markers+text\", \"marker\": {\"line\": {\"width\": 2, \"color\": \"rgb(0, 0, 0)\"}, \"color\": \"rgb(255, 255, 255)\", \"size\": 20}, \"textposition\": \"middle center\", \"x\": [0.7], \"hoverinfo\": \"none\", \"textfont\": {\"color\": \"rgb(0, 0, 0)\"}, \"text\": [\"\\u221e\"]}, {\"y\": [1.0], \"mode\": \"markers+text\", \"marker\": {\"line\": {\"width\": 2, \"color\": \"rgb(0, 0, 0)\"}, \"color\": \"rgb(255, 255, 255)\", \"size\": 20}, \"textposition\": \"middle center\", \"x\": [1.0], \"hoverinfo\": \"none\", \"textfont\": {\"color\": \"rgb(0, 0, 0)\"}, \"text\": [\"\\u221e\"]}, {\"y\": [0.0], \"mode\": \"markers+text\", \"marker\": {\"line\": {\"width\": 2, \"color\": \"rgb(0, 0, 0)\"}, \"color\": \"rgb(255, 255, 255)\", \"size\": 20}, \"textposition\": \"middle center\", \"x\": [0.0], \"hoverinfo\": \"none\", \"textfont\": {\"color\": \"rgb(0, 0, 0)\"}, \"text\": [\"2\"]}, {\"y\": [0.0], \"mode\": \"markers+text\", \"marker\": {\"line\": {\"width\": 2, \"color\": \"rgb(0, 0, 0)\"}, \"color\": \"rgb(255, 0, 0)\", \"size\": 20}, \"textposition\": \"middle center\", \"x\": [0.3], \"hoverinfo\": \"none\", \"textfont\": {\"color\": \"rgb(255, 255, 255)\"}, \"text\": [\"1\"]}, {\"y\": [0.0], \"mode\": \"markers+text\", \"marker\": {\"line\": {\"width\": 2, \"color\": \"rgb(0, 0, 0)\"}, \"color\": \"rgb(255, 255, 255)\", \"size\": 20}, \"textposition\": \"middle center\", \"x\": [0.7], \"hoverinfo\": \"none\", \"textfont\": {\"color\": \"rgb(0, 0, 0)\"}, \"text\": [\"\\u221e\"]}, {\"y\": [0.0], \"mode\": \"markers+text\", \"marker\": {\"line\": {\"width\": 2, \"color\": \"rgb(0, 0, 0)\"}, \"color\": \"rgb(255, 255, 255)\", \"size\": 20}, \"textposition\": \"middle center\", \"x\": [1.0], \"hoverinfo\": \"none\", \"textfont\": {\"color\": \"rgb(0, 0, 0)\"}, \"text\": [\"\\u221e\"]}], \"name\": 14}, {\"data\": [{\"y\": [1.0, 1.0, null], \"mode\": \"lines\", \"x\": [0.0, 0.3, null], \"line\": {\"width\": 2, \"color\": \"rgb(0, 0, 0)\"}, \"hoverinfo\": \"none\"}, {\"y\": [1.0, 0.0, null], \"mode\": \"lines\", \"x\": [0.0, 0.0, null], \"line\": {\"width\": 2, \"color\": \"rgb(0, 0, 0)\"}, \"hoverinfo\": \"none\"}, {\"y\": [1.0, 0.0, null], \"mode\": \"lines\", \"x\": [0.3, 0.3, null], \"line\": {\"width\": 2, \"color\": \"rgb(0, 0, 0)\"}, \"hoverinfo\": \"none\"}, {\"y\": [1.0, 1.0, null], \"mode\": \"lines\", \"x\": [0.7, 1.0, null], \"line\": {\"width\": 2, \"color\": \"rgb(0, 0, 0)\"}, \"hoverinfo\": \"none\"}, {\"y\": [1.0, 0.0, null], \"mode\": \"lines\", \"x\": [0.7, 0.3, null], \"line\": {\"width\": 2, \"color\": \"rgb(0, 0, 0)\"}, \"hoverinfo\": \"none\"}, {\"y\": [1.0, 0.0, null], \"mode\": \"lines\", \"x\": [0.7, 0.7, null], \"line\": {\"width\": 2, \"color\": \"rgb(0, 0, 0)\"}, \"hoverinfo\": \"none\"}, {\"y\": [1.0, 0.0, null], \"mode\": \"lines\", \"x\": [1.0, 0.7, null], \"line\": {\"width\": 2, \"color\": \"rgb(0, 0, 0)\"}, \"hoverinfo\": \"none\"}, {\"y\": [1.0, 0.0, null], \"mode\": \"lines\", \"x\": [1.0, 1.0, null], \"line\": {\"width\": 2, \"color\": \"rgb(0, 0, 0)\"}, \"hoverinfo\": \"none\"}, {\"y\": [0.0, 0.0, null], \"mode\": \"lines\", \"x\": [0.3, 0.7, null], \"line\": {\"width\": 2, \"color\": \"rgb(0, 0, 0)\"}, \"hoverinfo\": \"none\"}, {\"y\": [0.0, 0.0, null], \"mode\": \"lines\", \"x\": [0.7, 1.0, null], \"line\": {\"width\": 2, \"color\": \"rgb(0, 0, 0)\"}, \"hoverinfo\": \"none\"}, {\"y\": [1.0], \"mode\": \"markers+text\", \"marker\": {\"line\": {\"width\": 2, \"color\": \"rgb(0, 0, 0)\"}, \"color\": \"rgb(0, 0, 255)\", \"size\": 20}, \"textposition\": \"middle center\", \"x\": [0.0], \"hoverinfo\": \"none\", \"textfont\": {\"color\": \"rgb(255, 255, 255)\"}, \"text\": [\"1\"]}, {\"y\": [1.0], \"mode\": \"markers+text\", \"marker\": {\"line\": {\"width\": 2, \"color\": \"rgb(0, 0, 0)\"}, \"color\": \"rgb(0, 0, 255)\", \"size\": 20}, \"textposition\": \"middle center\", \"x\": [0.3], \"hoverinfo\": \"none\", \"textfont\": {\"color\": \"rgb(255, 255, 255)\"}, \"text\": [\"0\"]}, {\"y\": [1.0], \"mode\": \"markers+text\", \"marker\": {\"line\": {\"width\": 2, \"color\": \"rgb(0, 0, 0)\"}, \"color\": \"rgb(255, 255, 255)\", \"size\": 20}, \"textposition\": \"middle center\", \"x\": [0.7], \"hoverinfo\": \"none\", \"textfont\": {\"color\": \"rgb(0, 0, 0)\"}, \"text\": [\"\\u221e\"]}, {\"y\": [1.0], \"mode\": \"markers+text\", \"marker\": {\"line\": {\"width\": 2, \"color\": \"rgb(0, 0, 0)\"}, \"color\": \"rgb(255, 255, 255)\", \"size\": 20}, \"textposition\": \"middle center\", \"x\": [1.0], \"hoverinfo\": \"none\", \"textfont\": {\"color\": \"rgb(0, 0, 0)\"}, \"text\": [\"\\u221e\"]}, {\"y\": [0.0], \"mode\": \"markers+text\", \"marker\": {\"line\": {\"width\": 2, \"color\": \"rgb(0, 0, 0)\"}, \"color\": \"rgb(255, 255, 255)\", \"size\": 20}, \"textposition\": \"middle center\", \"x\": [0.0], \"hoverinfo\": \"none\", \"textfont\": {\"color\": \"rgb(0, 0, 0)\"}, \"text\": [\"2\"]}, {\"y\": [0.0], \"mode\": \"markers+text\", \"marker\": {\"line\": {\"width\": 2, \"color\": \"rgb(0, 0, 0)\"}, \"color\": \"rgb(255, 0, 0)\", \"size\": 20}, \"textposition\": \"middle center\", \"x\": [0.3], \"hoverinfo\": \"none\", \"textfont\": {\"color\": \"rgb(255, 255, 255)\"}, \"text\": [\"1\"]}, {\"y\": [0.0], \"mode\": \"markers+text\", \"marker\": {\"line\": {\"width\": 2, \"color\": \"rgb(0, 0, 0)\"}, \"color\": \"rgb(255, 255, 255)\", \"size\": 20}, \"textposition\": \"middle center\", \"x\": [0.7], \"hoverinfo\": \"none\", \"textfont\": {\"color\": \"rgb(0, 0, 0)\"}, \"text\": [\"\\u221e\"]}, {\"y\": [0.0], \"mode\": \"markers+text\", \"marker\": {\"line\": {\"width\": 2, \"color\": \"rgb(0, 0, 0)\"}, \"color\": \"rgb(255, 255, 255)\", \"size\": 20}, \"textposition\": \"middle center\", \"x\": [1.0], \"hoverinfo\": \"none\", \"textfont\": {\"color\": \"rgb(0, 0, 0)\"}, \"text\": [\"\\u221e\"]}], \"name\": 15}, {\"data\": [{\"y\": [1.0, 1.0, null], \"mode\": \"lines\", \"x\": [0.0, 0.3, null], \"line\": {\"width\": 2, \"color\": \"rgb(0, 0, 0)\"}, \"hoverinfo\": \"none\"}, {\"y\": [1.0, 0.0, null], \"mode\": \"lines\", \"x\": [0.0, 0.0, null], \"line\": {\"width\": 2, \"color\": \"rgb(0, 0, 0)\"}, \"hoverinfo\": \"none\"}, {\"y\": [1.0, 0.0, null], \"mode\": \"lines\", \"x\": [0.3, 0.3, null], \"line\": {\"width\": 2, \"color\": \"rgb(0, 0, 0)\"}, \"hoverinfo\": \"none\"}, {\"y\": [1.0, 1.0, null], \"mode\": \"lines\", \"x\": [0.7, 1.0, null], \"line\": {\"width\": 2, \"color\": \"rgb(0, 0, 0)\"}, \"hoverinfo\": \"none\"}, {\"y\": [1.0, 0.0, null], \"mode\": \"lines\", \"x\": [0.7, 0.3, null], \"line\": {\"width\": 2, \"color\": \"rgb(255, 0, 0)\"}, \"hoverinfo\": \"none\"}, {\"y\": [1.0, 0.0, null], \"mode\": \"lines\", \"x\": [0.7, 0.7, null], \"line\": {\"width\": 2, \"color\": \"rgb(0, 0, 0)\"}, \"hoverinfo\": \"none\"}, {\"y\": [1.0, 0.0, null], \"mode\": \"lines\", \"x\": [1.0, 0.7, null], \"line\": {\"width\": 2, \"color\": \"rgb(0, 0, 0)\"}, \"hoverinfo\": \"none\"}, {\"y\": [1.0, 0.0, null], \"mode\": \"lines\", \"x\": [1.0, 1.0, null], \"line\": {\"width\": 2, \"color\": \"rgb(0, 0, 0)\"}, \"hoverinfo\": \"none\"}, {\"y\": [0.0, 0.0, null], \"mode\": \"lines\", \"x\": [0.3, 0.7, null], \"line\": {\"width\": 2, \"color\": \"rgb(0, 0, 0)\"}, \"hoverinfo\": \"none\"}, {\"y\": [0.0, 0.0, null], \"mode\": \"lines\", \"x\": [0.7, 1.0, null], \"line\": {\"width\": 2, \"color\": \"rgb(0, 0, 0)\"}, \"hoverinfo\": \"none\"}, {\"y\": [1.0], \"mode\": \"markers+text\", \"marker\": {\"line\": {\"width\": 2, \"color\": \"rgb(0, 0, 0)\"}, \"color\": \"rgb(0, 0, 255)\", \"size\": 20}, \"textposition\": \"middle center\", \"x\": [0.0], \"hoverinfo\": \"none\", \"textfont\": {\"color\": \"rgb(255, 255, 255)\"}, \"text\": [\"1\"]}, {\"y\": [1.0], \"mode\": \"markers+text\", \"marker\": {\"line\": {\"width\": 2, \"color\": \"rgb(0, 0, 0)\"}, \"color\": \"rgb(0, 0, 255)\", \"size\": 20}, \"textposition\": \"middle center\", \"x\": [0.3], \"hoverinfo\": \"none\", \"textfont\": {\"color\": \"rgb(255, 255, 255)\"}, \"text\": [\"0\"]}, {\"y\": [1.0], \"mode\": \"markers+text\", \"marker\": {\"line\": {\"width\": 2, \"color\": \"rgb(0, 0, 0)\"}, \"color\": \"rgb(255, 255, 255)\", \"size\": 20}, \"textposition\": \"middle center\", \"x\": [0.7], \"hoverinfo\": \"none\", \"textfont\": {\"color\": \"rgb(0, 0, 0)\"}, \"text\": [\"\\u221e\"]}, {\"y\": [1.0], \"mode\": \"markers+text\", \"marker\": {\"line\": {\"width\": 2, \"color\": \"rgb(0, 0, 0)\"}, \"color\": \"rgb(255, 255, 255)\", \"size\": 20}, \"textposition\": \"middle center\", \"x\": [1.0], \"hoverinfo\": \"none\", \"textfont\": {\"color\": \"rgb(0, 0, 0)\"}, \"text\": [\"\\u221e\"]}, {\"y\": [0.0], \"mode\": \"markers+text\", \"marker\": {\"line\": {\"width\": 2, \"color\": \"rgb(0, 0, 0)\"}, \"color\": \"rgb(255, 255, 255)\", \"size\": 20}, \"textposition\": \"middle center\", \"x\": [0.0], \"hoverinfo\": \"none\", \"textfont\": {\"color\": \"rgb(0, 0, 0)\"}, \"text\": [\"2\"]}, {\"y\": [0.0], \"mode\": \"markers+text\", \"marker\": {\"line\": {\"width\": 2, \"color\": \"rgb(0, 0, 0)\"}, \"color\": \"rgb(255, 0, 0)\", \"size\": 20}, \"textposition\": \"middle center\", \"x\": [0.3], \"hoverinfo\": \"none\", \"textfont\": {\"color\": \"rgb(255, 255, 255)\"}, \"text\": [\"1\"]}, {\"y\": [0.0], \"mode\": \"markers+text\", \"marker\": {\"line\": {\"width\": 2, \"color\": \"rgb(0, 0, 0)\"}, \"color\": \"rgb(255, 255, 255)\", \"size\": 20}, \"textposition\": \"middle center\", \"x\": [0.7], \"hoverinfo\": \"none\", \"textfont\": {\"color\": \"rgb(0, 0, 0)\"}, \"text\": [\"\\u221e\"]}, {\"y\": [0.0], \"mode\": \"markers+text\", \"marker\": {\"line\": {\"width\": 2, \"color\": \"rgb(0, 0, 0)\"}, \"color\": \"rgb(255, 255, 255)\", \"size\": 20}, \"textposition\": \"middle center\", \"x\": [1.0], \"hoverinfo\": \"none\", \"textfont\": {\"color\": \"rgb(0, 0, 0)\"}, \"text\": [\"\\u221e\"]}], \"name\": 16}, {\"data\": [{\"y\": [1.0, 1.0, null], \"mode\": \"lines\", \"x\": [0.0, 0.3, null], \"line\": {\"width\": 2, \"color\": \"rgb(0, 0, 0)\"}, \"hoverinfo\": \"none\"}, {\"y\": [1.0, 0.0, null], \"mode\": \"lines\", \"x\": [0.0, 0.0, null], \"line\": {\"width\": 2, \"color\": \"rgb(0, 0, 0)\"}, \"hoverinfo\": \"none\"}, {\"y\": [1.0, 0.0, null], \"mode\": \"lines\", \"x\": [0.3, 0.3, null], \"line\": {\"width\": 2, \"color\": \"rgb(0, 0, 0)\"}, \"hoverinfo\": \"none\"}, {\"y\": [1.0, 1.0, null], \"mode\": \"lines\", \"x\": [0.7, 1.0, null], \"line\": {\"width\": 2, \"color\": \"rgb(0, 0, 0)\"}, \"hoverinfo\": \"none\"}, {\"y\": [1.0, 0.0, null], \"mode\": \"lines\", \"x\": [0.7, 0.3, null], \"line\": {\"width\": 2, \"color\": \"rgb(0, 0, 0)\"}, \"hoverinfo\": \"none\"}, {\"y\": [1.0, 0.0, null], \"mode\": \"lines\", \"x\": [0.7, 0.7, null], \"line\": {\"width\": 2, \"color\": \"rgb(0, 0, 0)\"}, \"hoverinfo\": \"none\"}, {\"y\": [1.0, 0.0, null], \"mode\": \"lines\", \"x\": [1.0, 0.7, null], \"line\": {\"width\": 2, \"color\": \"rgb(0, 0, 0)\"}, \"hoverinfo\": \"none\"}, {\"y\": [1.0, 0.0, null], \"mode\": \"lines\", \"x\": [1.0, 1.0, null], \"line\": {\"width\": 2, \"color\": \"rgb(0, 0, 0)\"}, \"hoverinfo\": \"none\"}, {\"y\": [0.0, 0.0, null], \"mode\": \"lines\", \"x\": [0.3, 0.7, null], \"line\": {\"width\": 2, \"color\": \"rgb(0, 0, 0)\"}, \"hoverinfo\": \"none\"}, {\"y\": [0.0, 0.0, null], \"mode\": \"lines\", \"x\": [0.7, 1.0, null], \"line\": {\"width\": 2, \"color\": \"rgb(0, 0, 0)\"}, \"hoverinfo\": \"none\"}, {\"y\": [1.0], \"mode\": \"markers+text\", \"marker\": {\"line\": {\"width\": 2, \"color\": \"rgb(0, 0, 0)\"}, \"color\": \"rgb(0, 0, 255)\", \"size\": 20}, \"textposition\": \"middle center\", \"x\": [0.0], \"hoverinfo\": \"none\", \"textfont\": {\"color\": \"rgb(255, 255, 255)\"}, \"text\": [\"1\"]}, {\"y\": [1.0], \"mode\": \"markers+text\", \"marker\": {\"line\": {\"width\": 2, \"color\": \"rgb(0, 0, 0)\"}, \"color\": \"rgb(0, 0, 255)\", \"size\": 20}, \"textposition\": \"middle center\", \"x\": [0.3], \"hoverinfo\": \"none\", \"textfont\": {\"color\": \"rgb(255, 255, 255)\"}, \"text\": [\"0\"]}, {\"y\": [1.0], \"mode\": \"markers+text\", \"marker\": {\"line\": {\"width\": 2, \"color\": \"rgb(0, 0, 0)\"}, \"color\": \"rgb(255, 255, 255)\", \"size\": 20}, \"textposition\": \"middle center\", \"x\": [0.7], \"hoverinfo\": \"none\", \"textfont\": {\"color\": \"rgb(0, 0, 0)\"}, \"text\": [\"2\"]}, {\"y\": [1.0], \"mode\": \"markers+text\", \"marker\": {\"line\": {\"width\": 2, \"color\": \"rgb(0, 0, 0)\"}, \"color\": \"rgb(255, 255, 255)\", \"size\": 20}, \"textposition\": \"middle center\", \"x\": [1.0], \"hoverinfo\": \"none\", \"textfont\": {\"color\": \"rgb(0, 0, 0)\"}, \"text\": [\"\\u221e\"]}, {\"y\": [0.0], \"mode\": \"markers+text\", \"marker\": {\"line\": {\"width\": 2, \"color\": \"rgb(0, 0, 0)\"}, \"color\": \"rgb(255, 255, 255)\", \"size\": 20}, \"textposition\": \"middle center\", \"x\": [0.0], \"hoverinfo\": \"none\", \"textfont\": {\"color\": \"rgb(0, 0, 0)\"}, \"text\": [\"2\"]}, {\"y\": [0.0], \"mode\": \"markers+text\", \"marker\": {\"line\": {\"width\": 2, \"color\": \"rgb(0, 0, 0)\"}, \"color\": \"rgb(255, 0, 0)\", \"size\": 20}, \"textposition\": \"middle center\", \"x\": [0.3], \"hoverinfo\": \"none\", \"textfont\": {\"color\": \"rgb(255, 255, 255)\"}, \"text\": [\"1\"]}, {\"y\": [0.0], \"mode\": \"markers+text\", \"marker\": {\"line\": {\"width\": 2, \"color\": \"rgb(0, 0, 0)\"}, \"color\": \"rgb(255, 255, 255)\", \"size\": 20}, \"textposition\": \"middle center\", \"x\": [0.7], \"hoverinfo\": \"none\", \"textfont\": {\"color\": \"rgb(0, 0, 0)\"}, \"text\": [\"\\u221e\"]}, {\"y\": [0.0], \"mode\": \"markers+text\", \"marker\": {\"line\": {\"width\": 2, \"color\": \"rgb(0, 0, 0)\"}, \"color\": \"rgb(255, 255, 255)\", \"size\": 20}, \"textposition\": \"middle center\", \"x\": [1.0], \"hoverinfo\": \"none\", \"textfont\": {\"color\": \"rgb(0, 0, 0)\"}, \"text\": [\"\\u221e\"]}], \"name\": 17}, {\"data\": [{\"y\": [1.0, 1.0, null], \"mode\": \"lines\", \"x\": [0.0, 0.3, null], \"line\": {\"width\": 2, \"color\": \"rgb(0, 0, 0)\"}, \"hoverinfo\": \"none\"}, {\"y\": [1.0, 0.0, null], \"mode\": \"lines\", \"x\": [0.0, 0.0, null], \"line\": {\"width\": 2, \"color\": \"rgb(0, 0, 0)\"}, \"hoverinfo\": \"none\"}, {\"y\": [1.0, 0.0, null], \"mode\": \"lines\", \"x\": [0.3, 0.3, null], \"line\": {\"width\": 2, \"color\": \"rgb(0, 0, 0)\"}, \"hoverinfo\": \"none\"}, {\"y\": [1.0, 1.0, null], \"mode\": \"lines\", \"x\": [0.7, 1.0, null], \"line\": {\"width\": 2, \"color\": \"rgb(0, 0, 0)\"}, \"hoverinfo\": \"none\"}, {\"y\": [1.0, 0.0, null], \"mode\": \"lines\", \"x\": [0.7, 0.3, null], \"line\": {\"width\": 2, \"color\": \"rgb(0, 0, 0)\"}, \"hoverinfo\": \"none\"}, {\"y\": [1.0, 0.0, null], \"mode\": \"lines\", \"x\": [0.7, 0.7, null], \"line\": {\"width\": 2, \"color\": \"rgb(0, 0, 0)\"}, \"hoverinfo\": \"none\"}, {\"y\": [1.0, 0.0, null], \"mode\": \"lines\", \"x\": [1.0, 0.7, null], \"line\": {\"width\": 2, \"color\": \"rgb(0, 0, 0)\"}, \"hoverinfo\": \"none\"}, {\"y\": [1.0, 0.0, null], \"mode\": \"lines\", \"x\": [1.0, 1.0, null], \"line\": {\"width\": 2, \"color\": \"rgb(0, 0, 0)\"}, \"hoverinfo\": \"none\"}, {\"y\": [0.0, 0.0, null], \"mode\": \"lines\", \"x\": [0.3, 0.7, null], \"line\": {\"width\": 2, \"color\": \"rgb(255, 0, 0)\"}, \"hoverinfo\": \"none\"}, {\"y\": [0.0, 0.0, null], \"mode\": \"lines\", \"x\": [0.7, 1.0, null], \"line\": {\"width\": 2, \"color\": \"rgb(0, 0, 0)\"}, \"hoverinfo\": \"none\"}, {\"y\": [1.0], \"mode\": \"markers+text\", \"marker\": {\"line\": {\"width\": 2, \"color\": \"rgb(0, 0, 0)\"}, \"color\": \"rgb(0, 0, 255)\", \"size\": 20}, \"textposition\": \"middle center\", \"x\": [0.0], \"hoverinfo\": \"none\", \"textfont\": {\"color\": \"rgb(255, 255, 255)\"}, \"text\": [\"1\"]}, {\"y\": [1.0], \"mode\": \"markers+text\", \"marker\": {\"line\": {\"width\": 2, \"color\": \"rgb(0, 0, 0)\"}, \"color\": \"rgb(0, 0, 255)\", \"size\": 20}, \"textposition\": \"middle center\", \"x\": [0.3], \"hoverinfo\": \"none\", \"textfont\": {\"color\": \"rgb(255, 255, 255)\"}, \"text\": [\"0\"]}, {\"y\": [1.0], \"mode\": \"markers+text\", \"marker\": {\"line\": {\"width\": 2, \"color\": \"rgb(0, 0, 0)\"}, \"color\": \"rgb(255, 255, 255)\", \"size\": 20}, \"textposition\": \"middle center\", \"x\": [0.7], \"hoverinfo\": \"none\", \"textfont\": {\"color\": \"rgb(0, 0, 0)\"}, \"text\": [\"2\"]}, {\"y\": [1.0], \"mode\": \"markers+text\", \"marker\": {\"line\": {\"width\": 2, \"color\": \"rgb(0, 0, 0)\"}, \"color\": \"rgb(255, 255, 255)\", \"size\": 20}, \"textposition\": \"middle center\", \"x\": [1.0], \"hoverinfo\": \"none\", \"textfont\": {\"color\": \"rgb(0, 0, 0)\"}, \"text\": [\"\\u221e\"]}, {\"y\": [0.0], \"mode\": \"markers+text\", \"marker\": {\"line\": {\"width\": 2, \"color\": \"rgb(0, 0, 0)\"}, \"color\": \"rgb(255, 255, 255)\", \"size\": 20}, \"textposition\": \"middle center\", \"x\": [0.0], \"hoverinfo\": \"none\", \"textfont\": {\"color\": \"rgb(0, 0, 0)\"}, \"text\": [\"2\"]}, {\"y\": [0.0], \"mode\": \"markers+text\", \"marker\": {\"line\": {\"width\": 2, \"color\": \"rgb(0, 0, 0)\"}, \"color\": \"rgb(255, 0, 0)\", \"size\": 20}, \"textposition\": \"middle center\", \"x\": [0.3], \"hoverinfo\": \"none\", \"textfont\": {\"color\": \"rgb(255, 255, 255)\"}, \"text\": [\"1\"]}, {\"y\": [0.0], \"mode\": \"markers+text\", \"marker\": {\"line\": {\"width\": 2, \"color\": \"rgb(0, 0, 0)\"}, \"color\": \"rgb(255, 255, 255)\", \"size\": 20}, \"textposition\": \"middle center\", \"x\": [0.7], \"hoverinfo\": \"none\", \"textfont\": {\"color\": \"rgb(0, 0, 0)\"}, \"text\": [\"\\u221e\"]}, {\"y\": [0.0], \"mode\": \"markers+text\", \"marker\": {\"line\": {\"width\": 2, \"color\": \"rgb(0, 0, 0)\"}, \"color\": \"rgb(255, 255, 255)\", \"size\": 20}, \"textposition\": \"middle center\", \"x\": [1.0], \"hoverinfo\": \"none\", \"textfont\": {\"color\": \"rgb(0, 0, 0)\"}, \"text\": [\"\\u221e\"]}], \"name\": 18}, {\"data\": [{\"y\": [1.0, 1.0, null], \"mode\": \"lines\", \"x\": [0.0, 0.3, null], \"line\": {\"width\": 2, \"color\": \"rgb(0, 0, 0)\"}, \"hoverinfo\": \"none\"}, {\"y\": [1.0, 0.0, null], \"mode\": \"lines\", \"x\": [0.0, 0.0, null], \"line\": {\"width\": 2, \"color\": \"rgb(0, 0, 0)\"}, \"hoverinfo\": \"none\"}, {\"y\": [1.0, 0.0, null], \"mode\": \"lines\", \"x\": [0.3, 0.3, null], \"line\": {\"width\": 2, \"color\": \"rgb(0, 0, 0)\"}, \"hoverinfo\": \"none\"}, {\"y\": [1.0, 1.0, null], \"mode\": \"lines\", \"x\": [0.7, 1.0, null], \"line\": {\"width\": 2, \"color\": \"rgb(0, 0, 0)\"}, \"hoverinfo\": \"none\"}, {\"y\": [1.0, 0.0, null], \"mode\": \"lines\", \"x\": [0.7, 0.3, null], \"line\": {\"width\": 2, \"color\": \"rgb(0, 0, 0)\"}, \"hoverinfo\": \"none\"}, {\"y\": [1.0, 0.0, null], \"mode\": \"lines\", \"x\": [0.7, 0.7, null], \"line\": {\"width\": 2, \"color\": \"rgb(0, 0, 0)\"}, \"hoverinfo\": \"none\"}, {\"y\": [1.0, 0.0, null], \"mode\": \"lines\", \"x\": [1.0, 0.7, null], \"line\": {\"width\": 2, \"color\": \"rgb(0, 0, 0)\"}, \"hoverinfo\": \"none\"}, {\"y\": [1.0, 0.0, null], \"mode\": \"lines\", \"x\": [1.0, 1.0, null], \"line\": {\"width\": 2, \"color\": \"rgb(0, 0, 0)\"}, \"hoverinfo\": \"none\"}, {\"y\": [0.0, 0.0, null], \"mode\": \"lines\", \"x\": [0.3, 0.7, null], \"line\": {\"width\": 2, \"color\": \"rgb(0, 0, 0)\"}, \"hoverinfo\": \"none\"}, {\"y\": [0.0, 0.0, null], \"mode\": \"lines\", \"x\": [0.7, 1.0, null], \"line\": {\"width\": 2, \"color\": \"rgb(0, 0, 0)\"}, \"hoverinfo\": \"none\"}, {\"y\": [1.0], \"mode\": \"markers+text\", \"marker\": {\"line\": {\"width\": 2, \"color\": \"rgb(0, 0, 0)\"}, \"color\": \"rgb(0, 0, 255)\", \"size\": 20}, \"textposition\": \"middle center\", \"x\": [0.0], \"hoverinfo\": \"none\", \"textfont\": {\"color\": \"rgb(255, 255, 255)\"}, \"text\": [\"1\"]}, {\"y\": [1.0], \"mode\": \"markers+text\", \"marker\": {\"line\": {\"width\": 2, \"color\": \"rgb(0, 0, 0)\"}, \"color\": \"rgb(0, 0, 255)\", \"size\": 20}, \"textposition\": \"middle center\", \"x\": [0.3], \"hoverinfo\": \"none\", \"textfont\": {\"color\": \"rgb(255, 255, 255)\"}, \"text\": [\"0\"]}, {\"y\": [1.0], \"mode\": \"markers+text\", \"marker\": {\"line\": {\"width\": 2, \"color\": \"rgb(0, 0, 0)\"}, \"color\": \"rgb(255, 255, 255)\", \"size\": 20}, \"textposition\": \"middle center\", \"x\": [0.7], \"hoverinfo\": \"none\", \"textfont\": {\"color\": \"rgb(0, 0, 0)\"}, \"text\": [\"2\"]}, {\"y\": [1.0], \"mode\": \"markers+text\", \"marker\": {\"line\": {\"width\": 2, \"color\": \"rgb(0, 0, 0)\"}, \"color\": \"rgb(255, 255, 255)\", \"size\": 20}, \"textposition\": \"middle center\", \"x\": [1.0], \"hoverinfo\": \"none\", \"textfont\": {\"color\": \"rgb(0, 0, 0)\"}, \"text\": [\"\\u221e\"]}, {\"y\": [0.0], \"mode\": \"markers+text\", \"marker\": {\"line\": {\"width\": 2, \"color\": \"rgb(0, 0, 0)\"}, \"color\": \"rgb(255, 255, 255)\", \"size\": 20}, \"textposition\": \"middle center\", \"x\": [0.0], \"hoverinfo\": \"none\", \"textfont\": {\"color\": \"rgb(0, 0, 0)\"}, \"text\": [\"2\"]}, {\"y\": [0.0], \"mode\": \"markers+text\", \"marker\": {\"line\": {\"width\": 2, \"color\": \"rgb(0, 0, 0)\"}, \"color\": \"rgb(255, 0, 0)\", \"size\": 20}, \"textposition\": \"middle center\", \"x\": [0.3], \"hoverinfo\": \"none\", \"textfont\": {\"color\": \"rgb(255, 255, 255)\"}, \"text\": [\"1\"]}, {\"y\": [0.0], \"mode\": \"markers+text\", \"marker\": {\"line\": {\"width\": 2, \"color\": \"rgb(0, 0, 0)\"}, \"color\": \"rgb(255, 255, 255)\", \"size\": 20}, \"textposition\": \"middle center\", \"x\": [0.7], \"hoverinfo\": \"none\", \"textfont\": {\"color\": \"rgb(0, 0, 0)\"}, \"text\": [\"2\"]}, {\"y\": [0.0], \"mode\": \"markers+text\", \"marker\": {\"line\": {\"width\": 2, \"color\": \"rgb(0, 0, 0)\"}, \"color\": \"rgb(255, 255, 255)\", \"size\": 20}, \"textposition\": \"middle center\", \"x\": [1.0], \"hoverinfo\": \"none\", \"textfont\": {\"color\": \"rgb(0, 0, 0)\"}, \"text\": [\"\\u221e\"]}], \"name\": 19}, {\"data\": [{\"y\": [1.0, 1.0, null], \"mode\": \"lines\", \"x\": [0.0, 0.3, null], \"line\": {\"width\": 2, \"color\": \"rgb(0, 0, 0)\"}, \"hoverinfo\": \"none\"}, {\"y\": [1.0, 0.0, null], \"mode\": \"lines\", \"x\": [0.0, 0.0, null], \"line\": {\"width\": 2, \"color\": \"rgb(0, 0, 0)\"}, \"hoverinfo\": \"none\"}, {\"y\": [1.0, 0.0, null], \"mode\": \"lines\", \"x\": [0.3, 0.3, null], \"line\": {\"width\": 2, \"color\": \"rgb(0, 0, 0)\"}, \"hoverinfo\": \"none\"}, {\"y\": [1.0, 1.0, null], \"mode\": \"lines\", \"x\": [0.7, 1.0, null], \"line\": {\"width\": 2, \"color\": \"rgb(0, 0, 0)\"}, \"hoverinfo\": \"none\"}, {\"y\": [1.0, 0.0, null], \"mode\": \"lines\", \"x\": [0.7, 0.3, null], \"line\": {\"width\": 2, \"color\": \"rgb(0, 0, 0)\"}, \"hoverinfo\": \"none\"}, {\"y\": [1.0, 0.0, null], \"mode\": \"lines\", \"x\": [0.7, 0.7, null], \"line\": {\"width\": 2, \"color\": \"rgb(0, 0, 0)\"}, \"hoverinfo\": \"none\"}, {\"y\": [1.0, 0.0, null], \"mode\": \"lines\", \"x\": [1.0, 0.7, null], \"line\": {\"width\": 2, \"color\": \"rgb(0, 0, 0)\"}, \"hoverinfo\": \"none\"}, {\"y\": [1.0, 0.0, null], \"mode\": \"lines\", \"x\": [1.0, 1.0, null], \"line\": {\"width\": 2, \"color\": \"rgb(0, 0, 0)\"}, \"hoverinfo\": \"none\"}, {\"y\": [0.0, 0.0, null], \"mode\": \"lines\", \"x\": [0.3, 0.7, null], \"line\": {\"width\": 2, \"color\": \"rgb(0, 0, 0)\"}, \"hoverinfo\": \"none\"}, {\"y\": [0.0, 0.0, null], \"mode\": \"lines\", \"x\": [0.7, 1.0, null], \"line\": {\"width\": 2, \"color\": \"rgb(0, 0, 0)\"}, \"hoverinfo\": \"none\"}, {\"y\": [1.0], \"mode\": \"markers+text\", \"marker\": {\"line\": {\"width\": 2, \"color\": \"rgb(0, 0, 0)\"}, \"color\": \"rgb(0, 0, 255)\", \"size\": 20}, \"textposition\": \"middle center\", \"x\": [0.0], \"hoverinfo\": \"none\", \"textfont\": {\"color\": \"rgb(255, 255, 255)\"}, \"text\": [\"1\"]}, {\"y\": [1.0], \"mode\": \"markers+text\", \"marker\": {\"line\": {\"width\": 2, \"color\": \"rgb(0, 0, 0)\"}, \"color\": \"rgb(0, 0, 255)\", \"size\": 20}, \"textposition\": \"middle center\", \"x\": [0.3], \"hoverinfo\": \"none\", \"textfont\": {\"color\": \"rgb(255, 255, 255)\"}, \"text\": [\"0\"]}, {\"y\": [1.0], \"mode\": \"markers+text\", \"marker\": {\"line\": {\"width\": 2, \"color\": \"rgb(0, 0, 0)\"}, \"color\": \"rgb(255, 255, 255)\", \"size\": 20}, \"textposition\": \"middle center\", \"x\": [0.7], \"hoverinfo\": \"none\", \"textfont\": {\"color\": \"rgb(0, 0, 0)\"}, \"text\": [\"2\"]}, {\"y\": [1.0], \"mode\": \"markers+text\", \"marker\": {\"line\": {\"width\": 2, \"color\": \"rgb(0, 0, 0)\"}, \"color\": \"rgb(255, 255, 255)\", \"size\": 20}, \"textposition\": \"middle center\", \"x\": [1.0], \"hoverinfo\": \"none\", \"textfont\": {\"color\": \"rgb(0, 0, 0)\"}, \"text\": [\"\\u221e\"]}, {\"y\": [0.0], \"mode\": \"markers+text\", \"marker\": {\"line\": {\"width\": 2, \"color\": \"rgb(0, 0, 0)\"}, \"color\": \"rgb(255, 255, 255)\", \"size\": 20}, \"textposition\": \"middle center\", \"x\": [0.0], \"hoverinfo\": \"none\", \"textfont\": {\"color\": \"rgb(0, 0, 0)\"}, \"text\": [\"2\"]}, {\"y\": [0.0], \"mode\": \"markers+text\", \"marker\": {\"line\": {\"width\": 2, \"color\": \"rgb(0, 0, 0)\"}, \"color\": \"rgb(0, 0, 255)\", \"size\": 20}, \"textposition\": \"middle center\", \"x\": [0.3], \"hoverinfo\": \"none\", \"textfont\": {\"color\": \"rgb(255, 255, 255)\"}, \"text\": [\"1\"]}, {\"y\": [0.0], \"mode\": \"markers+text\", \"marker\": {\"line\": {\"width\": 2, \"color\": \"rgb(0, 0, 0)\"}, \"color\": \"rgb(255, 255, 255)\", \"size\": 20}, \"textposition\": \"middle center\", \"x\": [0.7], \"hoverinfo\": \"none\", \"textfont\": {\"color\": \"rgb(0, 0, 0)\"}, \"text\": [\"2\"]}, {\"y\": [0.0], \"mode\": \"markers+text\", \"marker\": {\"line\": {\"width\": 2, \"color\": \"rgb(0, 0, 0)\"}, \"color\": \"rgb(255, 255, 255)\", \"size\": 20}, \"textposition\": \"middle center\", \"x\": [1.0], \"hoverinfo\": \"none\", \"textfont\": {\"color\": \"rgb(0, 0, 0)\"}, \"text\": [\"\\u221e\"]}], \"name\": 20}, {\"data\": [{\"y\": [1.0, 1.0, null], \"mode\": \"lines\", \"x\": [0.0, 0.3, null], \"line\": {\"width\": 2, \"color\": \"rgb(0, 0, 0)\"}, \"hoverinfo\": \"none\"}, {\"y\": [1.0, 0.0, null], \"mode\": \"lines\", \"x\": [0.0, 0.0, null], \"line\": {\"width\": 2, \"color\": \"rgb(0, 0, 0)\"}, \"hoverinfo\": \"none\"}, {\"y\": [1.0, 0.0, null], \"mode\": \"lines\", \"x\": [0.3, 0.3, null], \"line\": {\"width\": 2, \"color\": \"rgb(0, 0, 0)\"}, \"hoverinfo\": \"none\"}, {\"y\": [1.0, 1.0, null], \"mode\": \"lines\", \"x\": [0.7, 1.0, null], \"line\": {\"width\": 2, \"color\": \"rgb(0, 0, 0)\"}, \"hoverinfo\": \"none\"}, {\"y\": [1.0, 0.0, null], \"mode\": \"lines\", \"x\": [0.7, 0.3, null], \"line\": {\"width\": 2, \"color\": \"rgb(0, 0, 0)\"}, \"hoverinfo\": \"none\"}, {\"y\": [1.0, 0.0, null], \"mode\": \"lines\", \"x\": [0.7, 0.7, null], \"line\": {\"width\": 2, \"color\": \"rgb(0, 0, 0)\"}, \"hoverinfo\": \"none\"}, {\"y\": [1.0, 0.0, null], \"mode\": \"lines\", \"x\": [1.0, 0.7, null], \"line\": {\"width\": 2, \"color\": \"rgb(0, 0, 0)\"}, \"hoverinfo\": \"none\"}, {\"y\": [1.0, 0.0, null], \"mode\": \"lines\", \"x\": [1.0, 1.0, null], \"line\": {\"width\": 2, \"color\": \"rgb(0, 0, 0)\"}, \"hoverinfo\": \"none\"}, {\"y\": [0.0, 0.0, null], \"mode\": \"lines\", \"x\": [0.3, 0.7, null], \"line\": {\"width\": 2, \"color\": \"rgb(0, 0, 0)\"}, \"hoverinfo\": \"none\"}, {\"y\": [0.0, 0.0, null], \"mode\": \"lines\", \"x\": [0.7, 1.0, null], \"line\": {\"width\": 2, \"color\": \"rgb(0, 0, 0)\"}, \"hoverinfo\": \"none\"}, {\"y\": [1.0], \"mode\": \"markers+text\", \"marker\": {\"line\": {\"width\": 2, \"color\": \"rgb(0, 0, 0)\"}, \"color\": \"rgb(0, 0, 255)\", \"size\": 20}, \"textposition\": \"middle center\", \"x\": [0.0], \"hoverinfo\": \"none\", \"textfont\": {\"color\": \"rgb(255, 255, 255)\"}, \"text\": [\"1\"]}, {\"y\": [1.0], \"mode\": \"markers+text\", \"marker\": {\"line\": {\"width\": 2, \"color\": \"rgb(0, 0, 0)\"}, \"color\": \"rgb(0, 0, 255)\", \"size\": 20}, \"textposition\": \"middle center\", \"x\": [0.3], \"hoverinfo\": \"none\", \"textfont\": {\"color\": \"rgb(255, 255, 255)\"}, \"text\": [\"0\"]}, {\"y\": [1.0], \"mode\": \"markers+text\", \"marker\": {\"line\": {\"width\": 2, \"color\": \"rgb(0, 0, 0)\"}, \"color\": \"rgb(255, 255, 255)\", \"size\": 20}, \"textposition\": \"middle center\", \"x\": [0.7], \"hoverinfo\": \"none\", \"textfont\": {\"color\": \"rgb(0, 0, 0)\"}, \"text\": [\"2\"]}, {\"y\": [1.0], \"mode\": \"markers+text\", \"marker\": {\"line\": {\"width\": 2, \"color\": \"rgb(0, 0, 0)\"}, \"color\": \"rgb(255, 255, 255)\", \"size\": 20}, \"textposition\": \"middle center\", \"x\": [1.0], \"hoverinfo\": \"none\", \"textfont\": {\"color\": \"rgb(0, 0, 0)\"}, \"text\": [\"\\u221e\"]}, {\"y\": [0.0], \"mode\": \"markers+text\", \"marker\": {\"line\": {\"width\": 2, \"color\": \"rgb(0, 0, 0)\"}, \"color\": \"rgb(255, 0, 0)\", \"size\": 20}, \"textposition\": \"middle center\", \"x\": [0.0], \"hoverinfo\": \"none\", \"textfont\": {\"color\": \"rgb(255, 255, 255)\"}, \"text\": [\"2\"]}, {\"y\": [0.0], \"mode\": \"markers+text\", \"marker\": {\"line\": {\"width\": 2, \"color\": \"rgb(0, 0, 0)\"}, \"color\": \"rgb(0, 0, 255)\", \"size\": 20}, \"textposition\": \"middle center\", \"x\": [0.3], \"hoverinfo\": \"none\", \"textfont\": {\"color\": \"rgb(255, 255, 255)\"}, \"text\": [\"1\"]}, {\"y\": [0.0], \"mode\": \"markers+text\", \"marker\": {\"line\": {\"width\": 2, \"color\": \"rgb(0, 0, 0)\"}, \"color\": \"rgb(255, 255, 255)\", \"size\": 20}, \"textposition\": \"middle center\", \"x\": [0.7], \"hoverinfo\": \"none\", \"textfont\": {\"color\": \"rgb(0, 0, 0)\"}, \"text\": [\"2\"]}, {\"y\": [0.0], \"mode\": \"markers+text\", \"marker\": {\"line\": {\"width\": 2, \"color\": \"rgb(0, 0, 0)\"}, \"color\": \"rgb(255, 255, 255)\", \"size\": 20}, \"textposition\": \"middle center\", \"x\": [1.0], \"hoverinfo\": \"none\", \"textfont\": {\"color\": \"rgb(0, 0, 0)\"}, \"text\": [\"\\u221e\"]}], \"name\": 21}, {\"data\": [{\"y\": [1.0, 1.0, null], \"mode\": \"lines\", \"x\": [0.0, 0.3, null], \"line\": {\"width\": 2, \"color\": \"rgb(0, 0, 0)\"}, \"hoverinfo\": \"none\"}, {\"y\": [1.0, 0.0, null], \"mode\": \"lines\", \"x\": [0.0, 0.0, null], \"line\": {\"width\": 2, \"color\": \"rgb(255, 0, 0)\"}, \"hoverinfo\": \"none\"}, {\"y\": [1.0, 0.0, null], \"mode\": \"lines\", \"x\": [0.3, 0.3, null], \"line\": {\"width\": 2, \"color\": \"rgb(0, 0, 0)\"}, \"hoverinfo\": \"none\"}, {\"y\": [1.0, 1.0, null], \"mode\": \"lines\", \"x\": [0.7, 1.0, null], \"line\": {\"width\": 2, \"color\": \"rgb(0, 0, 0)\"}, \"hoverinfo\": \"none\"}, {\"y\": [1.0, 0.0, null], \"mode\": \"lines\", \"x\": [0.7, 0.3, null], \"line\": {\"width\": 2, \"color\": \"rgb(0, 0, 0)\"}, \"hoverinfo\": \"none\"}, {\"y\": [1.0, 0.0, null], \"mode\": \"lines\", \"x\": [0.7, 0.7, null], \"line\": {\"width\": 2, \"color\": \"rgb(0, 0, 0)\"}, \"hoverinfo\": \"none\"}, {\"y\": [1.0, 0.0, null], \"mode\": \"lines\", \"x\": [1.0, 0.7, null], \"line\": {\"width\": 2, \"color\": \"rgb(0, 0, 0)\"}, \"hoverinfo\": \"none\"}, {\"y\": [1.0, 0.0, null], \"mode\": \"lines\", \"x\": [1.0, 1.0, null], \"line\": {\"width\": 2, \"color\": \"rgb(0, 0, 0)\"}, \"hoverinfo\": \"none\"}, {\"y\": [0.0, 0.0, null], \"mode\": \"lines\", \"x\": [0.3, 0.7, null], \"line\": {\"width\": 2, \"color\": \"rgb(0, 0, 0)\"}, \"hoverinfo\": \"none\"}, {\"y\": [0.0, 0.0, null], \"mode\": \"lines\", \"x\": [0.7, 1.0, null], \"line\": {\"width\": 2, \"color\": \"rgb(0, 0, 0)\"}, \"hoverinfo\": \"none\"}, {\"y\": [1.0], \"mode\": \"markers+text\", \"marker\": {\"line\": {\"width\": 2, \"color\": \"rgb(0, 0, 0)\"}, \"color\": \"rgb(0, 0, 255)\", \"size\": 20}, \"textposition\": \"middle center\", \"x\": [0.0], \"hoverinfo\": \"none\", \"textfont\": {\"color\": \"rgb(255, 255, 255)\"}, \"text\": [\"1\"]}, {\"y\": [1.0], \"mode\": \"markers+text\", \"marker\": {\"line\": {\"width\": 2, \"color\": \"rgb(0, 0, 0)\"}, \"color\": \"rgb(0, 0, 255)\", \"size\": 20}, \"textposition\": \"middle center\", \"x\": [0.3], \"hoverinfo\": \"none\", \"textfont\": {\"color\": \"rgb(255, 255, 255)\"}, \"text\": [\"0\"]}, {\"y\": [1.0], \"mode\": \"markers+text\", \"marker\": {\"line\": {\"width\": 2, \"color\": \"rgb(0, 0, 0)\"}, \"color\": \"rgb(255, 255, 255)\", \"size\": 20}, \"textposition\": \"middle center\", \"x\": [0.7], \"hoverinfo\": \"none\", \"textfont\": {\"color\": \"rgb(0, 0, 0)\"}, \"text\": [\"2\"]}, {\"y\": [1.0], \"mode\": \"markers+text\", \"marker\": {\"line\": {\"width\": 2, \"color\": \"rgb(0, 0, 0)\"}, \"color\": \"rgb(255, 255, 255)\", \"size\": 20}, \"textposition\": \"middle center\", \"x\": [1.0], \"hoverinfo\": \"none\", \"textfont\": {\"color\": \"rgb(0, 0, 0)\"}, \"text\": [\"\\u221e\"]}, {\"y\": [0.0], \"mode\": \"markers+text\", \"marker\": {\"line\": {\"width\": 2, \"color\": \"rgb(0, 0, 0)\"}, \"color\": \"rgb(255, 0, 0)\", \"size\": 20}, \"textposition\": \"middle center\", \"x\": [0.0], \"hoverinfo\": \"none\", \"textfont\": {\"color\": \"rgb(255, 255, 255)\"}, \"text\": [\"2\"]}, {\"y\": [0.0], \"mode\": \"markers+text\", \"marker\": {\"line\": {\"width\": 2, \"color\": \"rgb(0, 0, 0)\"}, \"color\": \"rgb(0, 0, 255)\", \"size\": 20}, \"textposition\": \"middle center\", \"x\": [0.3], \"hoverinfo\": \"none\", \"textfont\": {\"color\": \"rgb(255, 255, 255)\"}, \"text\": [\"1\"]}, {\"y\": [0.0], \"mode\": \"markers+text\", \"marker\": {\"line\": {\"width\": 2, \"color\": \"rgb(0, 0, 0)\"}, \"color\": \"rgb(255, 255, 255)\", \"size\": 20}, \"textposition\": \"middle center\", \"x\": [0.7], \"hoverinfo\": \"none\", \"textfont\": {\"color\": \"rgb(0, 0, 0)\"}, \"text\": [\"2\"]}, {\"y\": [0.0], \"mode\": \"markers+text\", \"marker\": {\"line\": {\"width\": 2, \"color\": \"rgb(0, 0, 0)\"}, \"color\": \"rgb(255, 255, 255)\", \"size\": 20}, \"textposition\": \"middle center\", \"x\": [1.0], \"hoverinfo\": \"none\", \"textfont\": {\"color\": \"rgb(0, 0, 0)\"}, \"text\": [\"\\u221e\"]}], \"name\": 22}, {\"data\": [{\"y\": [1.0, 1.0, null], \"mode\": \"lines\", \"x\": [0.0, 0.3, null], \"line\": {\"width\": 2, \"color\": \"rgb(0, 0, 0)\"}, \"hoverinfo\": \"none\"}, {\"y\": [1.0, 0.0, null], \"mode\": \"lines\", \"x\": [0.0, 0.0, null], \"line\": {\"width\": 2, \"color\": \"rgb(0, 0, 0)\"}, \"hoverinfo\": \"none\"}, {\"y\": [1.0, 0.0, null], \"mode\": \"lines\", \"x\": [0.3, 0.3, null], \"line\": {\"width\": 2, \"color\": \"rgb(0, 0, 0)\"}, \"hoverinfo\": \"none\"}, {\"y\": [1.0, 1.0, null], \"mode\": \"lines\", \"x\": [0.7, 1.0, null], \"line\": {\"width\": 2, \"color\": \"rgb(0, 0, 0)\"}, \"hoverinfo\": \"none\"}, {\"y\": [1.0, 0.0, null], \"mode\": \"lines\", \"x\": [0.7, 0.3, null], \"line\": {\"width\": 2, \"color\": \"rgb(0, 0, 0)\"}, \"hoverinfo\": \"none\"}, {\"y\": [1.0, 0.0, null], \"mode\": \"lines\", \"x\": [0.7, 0.7, null], \"line\": {\"width\": 2, \"color\": \"rgb(0, 0, 0)\"}, \"hoverinfo\": \"none\"}, {\"y\": [1.0, 0.0, null], \"mode\": \"lines\", \"x\": [1.0, 0.7, null], \"line\": {\"width\": 2, \"color\": \"rgb(0, 0, 0)\"}, \"hoverinfo\": \"none\"}, {\"y\": [1.0, 0.0, null], \"mode\": \"lines\", \"x\": [1.0, 1.0, null], \"line\": {\"width\": 2, \"color\": \"rgb(0, 0, 0)\"}, \"hoverinfo\": \"none\"}, {\"y\": [0.0, 0.0, null], \"mode\": \"lines\", \"x\": [0.3, 0.7, null], \"line\": {\"width\": 2, \"color\": \"rgb(0, 0, 0)\"}, \"hoverinfo\": \"none\"}, {\"y\": [0.0, 0.0, null], \"mode\": \"lines\", \"x\": [0.7, 1.0, null], \"line\": {\"width\": 2, \"color\": \"rgb(0, 0, 0)\"}, \"hoverinfo\": \"none\"}, {\"y\": [1.0], \"mode\": \"markers+text\", \"marker\": {\"line\": {\"width\": 2, \"color\": \"rgb(0, 0, 0)\"}, \"color\": \"rgb(0, 0, 255)\", \"size\": 20}, \"textposition\": \"middle center\", \"x\": [0.0], \"hoverinfo\": \"none\", \"textfont\": {\"color\": \"rgb(255, 255, 255)\"}, \"text\": [\"1\"]}, {\"y\": [1.0], \"mode\": \"markers+text\", \"marker\": {\"line\": {\"width\": 2, \"color\": \"rgb(0, 0, 0)\"}, \"color\": \"rgb(0, 0, 255)\", \"size\": 20}, \"textposition\": \"middle center\", \"x\": [0.3], \"hoverinfo\": \"none\", \"textfont\": {\"color\": \"rgb(255, 255, 255)\"}, \"text\": [\"0\"]}, {\"y\": [1.0], \"mode\": \"markers+text\", \"marker\": {\"line\": {\"width\": 2, \"color\": \"rgb(0, 0, 0)\"}, \"color\": \"rgb(255, 255, 255)\", \"size\": 20}, \"textposition\": \"middle center\", \"x\": [0.7], \"hoverinfo\": \"none\", \"textfont\": {\"color\": \"rgb(0, 0, 0)\"}, \"text\": [\"2\"]}, {\"y\": [1.0], \"mode\": \"markers+text\", \"marker\": {\"line\": {\"width\": 2, \"color\": \"rgb(0, 0, 0)\"}, \"color\": \"rgb(255, 255, 255)\", \"size\": 20}, \"textposition\": \"middle center\", \"x\": [1.0], \"hoverinfo\": \"none\", \"textfont\": {\"color\": \"rgb(0, 0, 0)\"}, \"text\": [\"\\u221e\"]}, {\"y\": [0.0], \"mode\": \"markers+text\", \"marker\": {\"line\": {\"width\": 2, \"color\": \"rgb(0, 0, 0)\"}, \"color\": \"rgb(255, 0, 0)\", \"size\": 20}, \"textposition\": \"middle center\", \"x\": [0.0], \"hoverinfo\": \"none\", \"textfont\": {\"color\": \"rgb(255, 255, 255)\"}, \"text\": [\"2\"]}, {\"y\": [0.0], \"mode\": \"markers+text\", \"marker\": {\"line\": {\"width\": 2, \"color\": \"rgb(0, 0, 0)\"}, \"color\": \"rgb(0, 0, 255)\", \"size\": 20}, \"textposition\": \"middle center\", \"x\": [0.3], \"hoverinfo\": \"none\", \"textfont\": {\"color\": \"rgb(255, 255, 255)\"}, \"text\": [\"1\"]}, {\"y\": [0.0], \"mode\": \"markers+text\", \"marker\": {\"line\": {\"width\": 2, \"color\": \"rgb(0, 0, 0)\"}, \"color\": \"rgb(255, 255, 255)\", \"size\": 20}, \"textposition\": \"middle center\", \"x\": [0.7], \"hoverinfo\": \"none\", \"textfont\": {\"color\": \"rgb(0, 0, 0)\"}, \"text\": [\"2\"]}, {\"y\": [0.0], \"mode\": \"markers+text\", \"marker\": {\"line\": {\"width\": 2, \"color\": \"rgb(0, 0, 0)\"}, \"color\": \"rgb(255, 255, 255)\", \"size\": 20}, \"textposition\": \"middle center\", \"x\": [1.0], \"hoverinfo\": \"none\", \"textfont\": {\"color\": \"rgb(0, 0, 0)\"}, \"text\": [\"\\u221e\"]}], \"name\": 23}, {\"data\": [{\"y\": [1.0, 1.0, null], \"mode\": \"lines\", \"x\": [0.0, 0.3, null], \"line\": {\"width\": 2, \"color\": \"rgb(0, 0, 0)\"}, \"hoverinfo\": \"none\"}, {\"y\": [1.0, 0.0, null], \"mode\": \"lines\", \"x\": [0.0, 0.0, null], \"line\": {\"width\": 2, \"color\": \"rgb(0, 0, 0)\"}, \"hoverinfo\": \"none\"}, {\"y\": [1.0, 0.0, null], \"mode\": \"lines\", \"x\": [0.3, 0.3, null], \"line\": {\"width\": 2, \"color\": \"rgb(0, 0, 0)\"}, \"hoverinfo\": \"none\"}, {\"y\": [1.0, 1.0, null], \"mode\": \"lines\", \"x\": [0.7, 1.0, null], \"line\": {\"width\": 2, \"color\": \"rgb(0, 0, 0)\"}, \"hoverinfo\": \"none\"}, {\"y\": [1.0, 0.0, null], \"mode\": \"lines\", \"x\": [0.7, 0.3, null], \"line\": {\"width\": 2, \"color\": \"rgb(0, 0, 0)\"}, \"hoverinfo\": \"none\"}, {\"y\": [1.0, 0.0, null], \"mode\": \"lines\", \"x\": [0.7, 0.7, null], \"line\": {\"width\": 2, \"color\": \"rgb(0, 0, 0)\"}, \"hoverinfo\": \"none\"}, {\"y\": [1.0, 0.0, null], \"mode\": \"lines\", \"x\": [1.0, 0.7, null], \"line\": {\"width\": 2, \"color\": \"rgb(0, 0, 0)\"}, \"hoverinfo\": \"none\"}, {\"y\": [1.0, 0.0, null], \"mode\": \"lines\", \"x\": [1.0, 1.0, null], \"line\": {\"width\": 2, \"color\": \"rgb(0, 0, 0)\"}, \"hoverinfo\": \"none\"}, {\"y\": [0.0, 0.0, null], \"mode\": \"lines\", \"x\": [0.3, 0.7, null], \"line\": {\"width\": 2, \"color\": \"rgb(0, 0, 0)\"}, \"hoverinfo\": \"none\"}, {\"y\": [0.0, 0.0, null], \"mode\": \"lines\", \"x\": [0.7, 1.0, null], \"line\": {\"width\": 2, \"color\": \"rgb(0, 0, 0)\"}, \"hoverinfo\": \"none\"}, {\"y\": [1.0], \"mode\": \"markers+text\", \"marker\": {\"line\": {\"width\": 2, \"color\": \"rgb(0, 0, 0)\"}, \"color\": \"rgb(0, 0, 255)\", \"size\": 20}, \"textposition\": \"middle center\", \"x\": [0.0], \"hoverinfo\": \"none\", \"textfont\": {\"color\": \"rgb(255, 255, 255)\"}, \"text\": [\"1\"]}, {\"y\": [1.0], \"mode\": \"markers+text\", \"marker\": {\"line\": {\"width\": 2, \"color\": \"rgb(0, 0, 0)\"}, \"color\": \"rgb(0, 0, 255)\", \"size\": 20}, \"textposition\": \"middle center\", \"x\": [0.3], \"hoverinfo\": \"none\", \"textfont\": {\"color\": \"rgb(255, 255, 255)\"}, \"text\": [\"0\"]}, {\"y\": [1.0], \"mode\": \"markers+text\", \"marker\": {\"line\": {\"width\": 2, \"color\": \"rgb(0, 0, 0)\"}, \"color\": \"rgb(255, 255, 255)\", \"size\": 20}, \"textposition\": \"middle center\", \"x\": [0.7], \"hoverinfo\": \"none\", \"textfont\": {\"color\": \"rgb(0, 0, 0)\"}, \"text\": [\"2\"]}, {\"y\": [1.0], \"mode\": \"markers+text\", \"marker\": {\"line\": {\"width\": 2, \"color\": \"rgb(0, 0, 0)\"}, \"color\": \"rgb(255, 255, 255)\", \"size\": 20}, \"textposition\": \"middle center\", \"x\": [1.0], \"hoverinfo\": \"none\", \"textfont\": {\"color\": \"rgb(0, 0, 0)\"}, \"text\": [\"\\u221e\"]}, {\"y\": [0.0], \"mode\": \"markers+text\", \"marker\": {\"line\": {\"width\": 2, \"color\": \"rgb(0, 0, 0)\"}, \"color\": \"rgb(0, 0, 255)\", \"size\": 20}, \"textposition\": \"middle center\", \"x\": [0.0], \"hoverinfo\": \"none\", \"textfont\": {\"color\": \"rgb(255, 255, 255)\"}, \"text\": [\"2\"]}, {\"y\": [0.0], \"mode\": \"markers+text\", \"marker\": {\"line\": {\"width\": 2, \"color\": \"rgb(0, 0, 0)\"}, \"color\": \"rgb(0, 0, 255)\", \"size\": 20}, \"textposition\": \"middle center\", \"x\": [0.3], \"hoverinfo\": \"none\", \"textfont\": {\"color\": \"rgb(255, 255, 255)\"}, \"text\": [\"1\"]}, {\"y\": [0.0], \"mode\": \"markers+text\", \"marker\": {\"line\": {\"width\": 2, \"color\": \"rgb(0, 0, 0)\"}, \"color\": \"rgb(255, 255, 255)\", \"size\": 20}, \"textposition\": \"middle center\", \"x\": [0.7], \"hoverinfo\": \"none\", \"textfont\": {\"color\": \"rgb(0, 0, 0)\"}, \"text\": [\"2\"]}, {\"y\": [0.0], \"mode\": \"markers+text\", \"marker\": {\"line\": {\"width\": 2, \"color\": \"rgb(0, 0, 0)\"}, \"color\": \"rgb(255, 255, 255)\", \"size\": 20}, \"textposition\": \"middle center\", \"x\": [1.0], \"hoverinfo\": \"none\", \"textfont\": {\"color\": \"rgb(0, 0, 0)\"}, \"text\": [\"\\u221e\"]}], \"name\": 24}, {\"data\": [{\"y\": [1.0, 1.0, null], \"mode\": \"lines\", \"x\": [0.0, 0.3, null], \"line\": {\"width\": 2, \"color\": \"rgb(0, 0, 0)\"}, \"hoverinfo\": \"none\"}, {\"y\": [1.0, 0.0, null], \"mode\": \"lines\", \"x\": [0.0, 0.0, null], \"line\": {\"width\": 2, \"color\": \"rgb(0, 0, 0)\"}, \"hoverinfo\": \"none\"}, {\"y\": [1.0, 0.0, null], \"mode\": \"lines\", \"x\": [0.3, 0.3, null], \"line\": {\"width\": 2, \"color\": \"rgb(0, 0, 0)\"}, \"hoverinfo\": \"none\"}, {\"y\": [1.0, 1.0, null], \"mode\": \"lines\", \"x\": [0.7, 1.0, null], \"line\": {\"width\": 2, \"color\": \"rgb(0, 0, 0)\"}, \"hoverinfo\": \"none\"}, {\"y\": [1.0, 0.0, null], \"mode\": \"lines\", \"x\": [0.7, 0.3, null], \"line\": {\"width\": 2, \"color\": \"rgb(0, 0, 0)\"}, \"hoverinfo\": \"none\"}, {\"y\": [1.0, 0.0, null], \"mode\": \"lines\", \"x\": [0.7, 0.7, null], \"line\": {\"width\": 2, \"color\": \"rgb(0, 0, 0)\"}, \"hoverinfo\": \"none\"}, {\"y\": [1.0, 0.0, null], \"mode\": \"lines\", \"x\": [1.0, 0.7, null], \"line\": {\"width\": 2, \"color\": \"rgb(0, 0, 0)\"}, \"hoverinfo\": \"none\"}, {\"y\": [1.0, 0.0, null], \"mode\": \"lines\", \"x\": [1.0, 1.0, null], \"line\": {\"width\": 2, \"color\": \"rgb(0, 0, 0)\"}, \"hoverinfo\": \"none\"}, {\"y\": [0.0, 0.0, null], \"mode\": \"lines\", \"x\": [0.3, 0.7, null], \"line\": {\"width\": 2, \"color\": \"rgb(0, 0, 0)\"}, \"hoverinfo\": \"none\"}, {\"y\": [0.0, 0.0, null], \"mode\": \"lines\", \"x\": [0.7, 1.0, null], \"line\": {\"width\": 2, \"color\": \"rgb(0, 0, 0)\"}, \"hoverinfo\": \"none\"}, {\"y\": [1.0], \"mode\": \"markers+text\", \"marker\": {\"line\": {\"width\": 2, \"color\": \"rgb(0, 0, 0)\"}, \"color\": \"rgb(0, 0, 255)\", \"size\": 20}, \"textposition\": \"middle center\", \"x\": [0.0], \"hoverinfo\": \"none\", \"textfont\": {\"color\": \"rgb(255, 255, 255)\"}, \"text\": [\"1\"]}, {\"y\": [1.0], \"mode\": \"markers+text\", \"marker\": {\"line\": {\"width\": 2, \"color\": \"rgb(0, 0, 0)\"}, \"color\": \"rgb(0, 0, 255)\", \"size\": 20}, \"textposition\": \"middle center\", \"x\": [0.3], \"hoverinfo\": \"none\", \"textfont\": {\"color\": \"rgb(255, 255, 255)\"}, \"text\": [\"0\"]}, {\"y\": [1.0], \"mode\": \"markers+text\", \"marker\": {\"line\": {\"width\": 2, \"color\": \"rgb(0, 0, 0)\"}, \"color\": \"rgb(255, 0, 0)\", \"size\": 20}, \"textposition\": \"middle center\", \"x\": [0.7], \"hoverinfo\": \"none\", \"textfont\": {\"color\": \"rgb(255, 255, 255)\"}, \"text\": [\"2\"]}, {\"y\": [1.0], \"mode\": \"markers+text\", \"marker\": {\"line\": {\"width\": 2, \"color\": \"rgb(0, 0, 0)\"}, \"color\": \"rgb(255, 255, 255)\", \"size\": 20}, \"textposition\": \"middle center\", \"x\": [1.0], \"hoverinfo\": \"none\", \"textfont\": {\"color\": \"rgb(0, 0, 0)\"}, \"text\": [\"\\u221e\"]}, {\"y\": [0.0], \"mode\": \"markers+text\", \"marker\": {\"line\": {\"width\": 2, \"color\": \"rgb(0, 0, 0)\"}, \"color\": \"rgb(0, 0, 255)\", \"size\": 20}, \"textposition\": \"middle center\", \"x\": [0.0], \"hoverinfo\": \"none\", \"textfont\": {\"color\": \"rgb(255, 255, 255)\"}, \"text\": [\"2\"]}, {\"y\": [0.0], \"mode\": \"markers+text\", \"marker\": {\"line\": {\"width\": 2, \"color\": \"rgb(0, 0, 0)\"}, \"color\": \"rgb(0, 0, 255)\", \"size\": 20}, \"textposition\": \"middle center\", \"x\": [0.3], \"hoverinfo\": \"none\", \"textfont\": {\"color\": \"rgb(255, 255, 255)\"}, \"text\": [\"1\"]}, {\"y\": [0.0], \"mode\": \"markers+text\", \"marker\": {\"line\": {\"width\": 2, \"color\": \"rgb(0, 0, 0)\"}, \"color\": \"rgb(255, 255, 255)\", \"size\": 20}, \"textposition\": \"middle center\", \"x\": [0.7], \"hoverinfo\": \"none\", \"textfont\": {\"color\": \"rgb(0, 0, 0)\"}, \"text\": [\"2\"]}, {\"y\": [0.0], \"mode\": \"markers+text\", \"marker\": {\"line\": {\"width\": 2, \"color\": \"rgb(0, 0, 0)\"}, \"color\": \"rgb(255, 255, 255)\", \"size\": 20}, \"textposition\": \"middle center\", \"x\": [1.0], \"hoverinfo\": \"none\", \"textfont\": {\"color\": \"rgb(0, 0, 0)\"}, \"text\": [\"\\u221e\"]}], \"name\": 25}, {\"data\": [{\"y\": [1.0, 1.0, null], \"mode\": \"lines\", \"x\": [0.0, 0.3, null], \"line\": {\"width\": 2, \"color\": \"rgb(0, 0, 0)\"}, \"hoverinfo\": \"none\"}, {\"y\": [1.0, 0.0, null], \"mode\": \"lines\", \"x\": [0.0, 0.0, null], \"line\": {\"width\": 2, \"color\": \"rgb(0, 0, 0)\"}, \"hoverinfo\": \"none\"}, {\"y\": [1.0, 0.0, null], \"mode\": \"lines\", \"x\": [0.3, 0.3, null], \"line\": {\"width\": 2, \"color\": \"rgb(0, 0, 0)\"}, \"hoverinfo\": \"none\"}, {\"y\": [1.0, 1.0, null], \"mode\": \"lines\", \"x\": [0.7, 1.0, null], \"line\": {\"width\": 2, \"color\": \"rgb(255, 0, 0)\"}, \"hoverinfo\": \"none\"}, {\"y\": [1.0, 0.0, null], \"mode\": \"lines\", \"x\": [0.7, 0.3, null], \"line\": {\"width\": 2, \"color\": \"rgb(0, 0, 0)\"}, \"hoverinfo\": \"none\"}, {\"y\": [1.0, 0.0, null], \"mode\": \"lines\", \"x\": [0.7, 0.7, null], \"line\": {\"width\": 2, \"color\": \"rgb(0, 0, 0)\"}, \"hoverinfo\": \"none\"}, {\"y\": [1.0, 0.0, null], \"mode\": \"lines\", \"x\": [1.0, 0.7, null], \"line\": {\"width\": 2, \"color\": \"rgb(0, 0, 0)\"}, \"hoverinfo\": \"none\"}, {\"y\": [1.0, 0.0, null], \"mode\": \"lines\", \"x\": [1.0, 1.0, null], \"line\": {\"width\": 2, \"color\": \"rgb(0, 0, 0)\"}, \"hoverinfo\": \"none\"}, {\"y\": [0.0, 0.0, null], \"mode\": \"lines\", \"x\": [0.3, 0.7, null], \"line\": {\"width\": 2, \"color\": \"rgb(0, 0, 0)\"}, \"hoverinfo\": \"none\"}, {\"y\": [0.0, 0.0, null], \"mode\": \"lines\", \"x\": [0.7, 1.0, null], \"line\": {\"width\": 2, \"color\": \"rgb(0, 0, 0)\"}, \"hoverinfo\": \"none\"}, {\"y\": [1.0], \"mode\": \"markers+text\", \"marker\": {\"line\": {\"width\": 2, \"color\": \"rgb(0, 0, 0)\"}, \"color\": \"rgb(0, 0, 255)\", \"size\": 20}, \"textposition\": \"middle center\", \"x\": [0.0], \"hoverinfo\": \"none\", \"textfont\": {\"color\": \"rgb(255, 255, 255)\"}, \"text\": [\"1\"]}, {\"y\": [1.0], \"mode\": \"markers+text\", \"marker\": {\"line\": {\"width\": 2, \"color\": \"rgb(0, 0, 0)\"}, \"color\": \"rgb(0, 0, 255)\", \"size\": 20}, \"textposition\": \"middle center\", \"x\": [0.3], \"hoverinfo\": \"none\", \"textfont\": {\"color\": \"rgb(255, 255, 255)\"}, \"text\": [\"0\"]}, {\"y\": [1.0], \"mode\": \"markers+text\", \"marker\": {\"line\": {\"width\": 2, \"color\": \"rgb(0, 0, 0)\"}, \"color\": \"rgb(255, 0, 0)\", \"size\": 20}, \"textposition\": \"middle center\", \"x\": [0.7], \"hoverinfo\": \"none\", \"textfont\": {\"color\": \"rgb(255, 255, 255)\"}, \"text\": [\"2\"]}, {\"y\": [1.0], \"mode\": \"markers+text\", \"marker\": {\"line\": {\"width\": 2, \"color\": \"rgb(0, 0, 0)\"}, \"color\": \"rgb(255, 255, 255)\", \"size\": 20}, \"textposition\": \"middle center\", \"x\": [1.0], \"hoverinfo\": \"none\", \"textfont\": {\"color\": \"rgb(0, 0, 0)\"}, \"text\": [\"\\u221e\"]}, {\"y\": [0.0], \"mode\": \"markers+text\", \"marker\": {\"line\": {\"width\": 2, \"color\": \"rgb(0, 0, 0)\"}, \"color\": \"rgb(0, 0, 255)\", \"size\": 20}, \"textposition\": \"middle center\", \"x\": [0.0], \"hoverinfo\": \"none\", \"textfont\": {\"color\": \"rgb(255, 255, 255)\"}, \"text\": [\"2\"]}, {\"y\": [0.0], \"mode\": \"markers+text\", \"marker\": {\"line\": {\"width\": 2, \"color\": \"rgb(0, 0, 0)\"}, \"color\": \"rgb(0, 0, 255)\", \"size\": 20}, \"textposition\": \"middle center\", \"x\": [0.3], \"hoverinfo\": \"none\", \"textfont\": {\"color\": \"rgb(255, 255, 255)\"}, \"text\": [\"1\"]}, {\"y\": [0.0], \"mode\": \"markers+text\", \"marker\": {\"line\": {\"width\": 2, \"color\": \"rgb(0, 0, 0)\"}, \"color\": \"rgb(255, 255, 255)\", \"size\": 20}, \"textposition\": \"middle center\", \"x\": [0.7], \"hoverinfo\": \"none\", \"textfont\": {\"color\": \"rgb(0, 0, 0)\"}, \"text\": [\"2\"]}, {\"y\": [0.0], \"mode\": \"markers+text\", \"marker\": {\"line\": {\"width\": 2, \"color\": \"rgb(0, 0, 0)\"}, \"color\": \"rgb(255, 255, 255)\", \"size\": 20}, \"textposition\": \"middle center\", \"x\": [1.0], \"hoverinfo\": \"none\", \"textfont\": {\"color\": \"rgb(0, 0, 0)\"}, \"text\": [\"\\u221e\"]}], \"name\": 26}, {\"data\": [{\"y\": [1.0, 1.0, null], \"mode\": \"lines\", \"x\": [0.0, 0.3, null], \"line\": {\"width\": 2, \"color\": \"rgb(0, 0, 0)\"}, \"hoverinfo\": \"none\"}, {\"y\": [1.0, 0.0, null], \"mode\": \"lines\", \"x\": [0.0, 0.0, null], \"line\": {\"width\": 2, \"color\": \"rgb(0, 0, 0)\"}, \"hoverinfo\": \"none\"}, {\"y\": [1.0, 0.0, null], \"mode\": \"lines\", \"x\": [0.3, 0.3, null], \"line\": {\"width\": 2, \"color\": \"rgb(0, 0, 0)\"}, \"hoverinfo\": \"none\"}, {\"y\": [1.0, 1.0, null], \"mode\": \"lines\", \"x\": [0.7, 1.0, null], \"line\": {\"width\": 2, \"color\": \"rgb(0, 0, 0)\"}, \"hoverinfo\": \"none\"}, {\"y\": [1.0, 0.0, null], \"mode\": \"lines\", \"x\": [0.7, 0.3, null], \"line\": {\"width\": 2, \"color\": \"rgb(0, 0, 0)\"}, \"hoverinfo\": \"none\"}, {\"y\": [1.0, 0.0, null], \"mode\": \"lines\", \"x\": [0.7, 0.7, null], \"line\": {\"width\": 2, \"color\": \"rgb(0, 0, 0)\"}, \"hoverinfo\": \"none\"}, {\"y\": [1.0, 0.0, null], \"mode\": \"lines\", \"x\": [1.0, 0.7, null], \"line\": {\"width\": 2, \"color\": \"rgb(0, 0, 0)\"}, \"hoverinfo\": \"none\"}, {\"y\": [1.0, 0.0, null], \"mode\": \"lines\", \"x\": [1.0, 1.0, null], \"line\": {\"width\": 2, \"color\": \"rgb(0, 0, 0)\"}, \"hoverinfo\": \"none\"}, {\"y\": [0.0, 0.0, null], \"mode\": \"lines\", \"x\": [0.3, 0.7, null], \"line\": {\"width\": 2, \"color\": \"rgb(0, 0, 0)\"}, \"hoverinfo\": \"none\"}, {\"y\": [0.0, 0.0, null], \"mode\": \"lines\", \"x\": [0.7, 1.0, null], \"line\": {\"width\": 2, \"color\": \"rgb(0, 0, 0)\"}, \"hoverinfo\": \"none\"}, {\"y\": [1.0], \"mode\": \"markers+text\", \"marker\": {\"line\": {\"width\": 2, \"color\": \"rgb(0, 0, 0)\"}, \"color\": \"rgb(0, 0, 255)\", \"size\": 20}, \"textposition\": \"middle center\", \"x\": [0.0], \"hoverinfo\": \"none\", \"textfont\": {\"color\": \"rgb(255, 255, 255)\"}, \"text\": [\"1\"]}, {\"y\": [1.0], \"mode\": \"markers+text\", \"marker\": {\"line\": {\"width\": 2, \"color\": \"rgb(0, 0, 0)\"}, \"color\": \"rgb(0, 0, 255)\", \"size\": 20}, \"textposition\": \"middle center\", \"x\": [0.3], \"hoverinfo\": \"none\", \"textfont\": {\"color\": \"rgb(255, 255, 255)\"}, \"text\": [\"0\"]}, {\"y\": [1.0], \"mode\": \"markers+text\", \"marker\": {\"line\": {\"width\": 2, \"color\": \"rgb(0, 0, 0)\"}, \"color\": \"rgb(255, 0, 0)\", \"size\": 20}, \"textposition\": \"middle center\", \"x\": [0.7], \"hoverinfo\": \"none\", \"textfont\": {\"color\": \"rgb(255, 255, 255)\"}, \"text\": [\"2\"]}, {\"y\": [1.0], \"mode\": \"markers+text\", \"marker\": {\"line\": {\"width\": 2, \"color\": \"rgb(0, 0, 0)\"}, \"color\": \"rgb(255, 255, 255)\", \"size\": 20}, \"textposition\": \"middle center\", \"x\": [1.0], \"hoverinfo\": \"none\", \"textfont\": {\"color\": \"rgb(0, 0, 0)\"}, \"text\": [\"3\"]}, {\"y\": [0.0], \"mode\": \"markers+text\", \"marker\": {\"line\": {\"width\": 2, \"color\": \"rgb(0, 0, 0)\"}, \"color\": \"rgb(0, 0, 255)\", \"size\": 20}, \"textposition\": \"middle center\", \"x\": [0.0], \"hoverinfo\": \"none\", \"textfont\": {\"color\": \"rgb(255, 255, 255)\"}, \"text\": [\"2\"]}, {\"y\": [0.0], \"mode\": \"markers+text\", \"marker\": {\"line\": {\"width\": 2, \"color\": \"rgb(0, 0, 0)\"}, \"color\": \"rgb(0, 0, 255)\", \"size\": 20}, \"textposition\": \"middle center\", \"x\": [0.3], \"hoverinfo\": \"none\", \"textfont\": {\"color\": \"rgb(255, 255, 255)\"}, \"text\": [\"1\"]}, {\"y\": [0.0], \"mode\": \"markers+text\", \"marker\": {\"line\": {\"width\": 2, \"color\": \"rgb(0, 0, 0)\"}, \"color\": \"rgb(255, 255, 255)\", \"size\": 20}, \"textposition\": \"middle center\", \"x\": [0.7], \"hoverinfo\": \"none\", \"textfont\": {\"color\": \"rgb(0, 0, 0)\"}, \"text\": [\"2\"]}, {\"y\": [0.0], \"mode\": \"markers+text\", \"marker\": {\"line\": {\"width\": 2, \"color\": \"rgb(0, 0, 0)\"}, \"color\": \"rgb(255, 255, 255)\", \"size\": 20}, \"textposition\": \"middle center\", \"x\": [1.0], \"hoverinfo\": \"none\", \"textfont\": {\"color\": \"rgb(0, 0, 0)\"}, \"text\": [\"\\u221e\"]}], \"name\": 27}, {\"data\": [{\"y\": [1.0, 1.0, null], \"mode\": \"lines\", \"x\": [0.0, 0.3, null], \"line\": {\"width\": 2, \"color\": \"rgb(0, 0, 0)\"}, \"hoverinfo\": \"none\"}, {\"y\": [1.0, 0.0, null], \"mode\": \"lines\", \"x\": [0.0, 0.0, null], \"line\": {\"width\": 2, \"color\": \"rgb(0, 0, 0)\"}, \"hoverinfo\": \"none\"}, {\"y\": [1.0, 0.0, null], \"mode\": \"lines\", \"x\": [0.3, 0.3, null], \"line\": {\"width\": 2, \"color\": \"rgb(0, 0, 0)\"}, \"hoverinfo\": \"none\"}, {\"y\": [1.0, 1.0, null], \"mode\": \"lines\", \"x\": [0.7, 1.0, null], \"line\": {\"width\": 2, \"color\": \"rgb(0, 0, 0)\"}, \"hoverinfo\": \"none\"}, {\"y\": [1.0, 0.0, null], \"mode\": \"lines\", \"x\": [0.7, 0.3, null], \"line\": {\"width\": 2, \"color\": \"rgb(255, 0, 0)\"}, \"hoverinfo\": \"none\"}, {\"y\": [1.0, 0.0, null], \"mode\": \"lines\", \"x\": [0.7, 0.7, null], \"line\": {\"width\": 2, \"color\": \"rgb(0, 0, 0)\"}, \"hoverinfo\": \"none\"}, {\"y\": [1.0, 0.0, null], \"mode\": \"lines\", \"x\": [1.0, 0.7, null], \"line\": {\"width\": 2, \"color\": \"rgb(0, 0, 0)\"}, \"hoverinfo\": \"none\"}, {\"y\": [1.0, 0.0, null], \"mode\": \"lines\", \"x\": [1.0, 1.0, null], \"line\": {\"width\": 2, \"color\": \"rgb(0, 0, 0)\"}, \"hoverinfo\": \"none\"}, {\"y\": [0.0, 0.0, null], \"mode\": \"lines\", \"x\": [0.3, 0.7, null], \"line\": {\"width\": 2, \"color\": \"rgb(0, 0, 0)\"}, \"hoverinfo\": \"none\"}, {\"y\": [0.0, 0.0, null], \"mode\": \"lines\", \"x\": [0.7, 1.0, null], \"line\": {\"width\": 2, \"color\": \"rgb(0, 0, 0)\"}, \"hoverinfo\": \"none\"}, {\"y\": [1.0], \"mode\": \"markers+text\", \"marker\": {\"line\": {\"width\": 2, \"color\": \"rgb(0, 0, 0)\"}, \"color\": \"rgb(0, 0, 255)\", \"size\": 20}, \"textposition\": \"middle center\", \"x\": [0.0], \"hoverinfo\": \"none\", \"textfont\": {\"color\": \"rgb(255, 255, 255)\"}, \"text\": [\"1\"]}, {\"y\": [1.0], \"mode\": \"markers+text\", \"marker\": {\"line\": {\"width\": 2, \"color\": \"rgb(0, 0, 0)\"}, \"color\": \"rgb(0, 0, 255)\", \"size\": 20}, \"textposition\": \"middle center\", \"x\": [0.3], \"hoverinfo\": \"none\", \"textfont\": {\"color\": \"rgb(255, 255, 255)\"}, \"text\": [\"0\"]}, {\"y\": [1.0], \"mode\": \"markers+text\", \"marker\": {\"line\": {\"width\": 2, \"color\": \"rgb(0, 0, 0)\"}, \"color\": \"rgb(255, 0, 0)\", \"size\": 20}, \"textposition\": \"middle center\", \"x\": [0.7], \"hoverinfo\": \"none\", \"textfont\": {\"color\": \"rgb(255, 255, 255)\"}, \"text\": [\"2\"]}, {\"y\": [1.0], \"mode\": \"markers+text\", \"marker\": {\"line\": {\"width\": 2, \"color\": \"rgb(0, 0, 0)\"}, \"color\": \"rgb(255, 255, 255)\", \"size\": 20}, \"textposition\": \"middle center\", \"x\": [1.0], \"hoverinfo\": \"none\", \"textfont\": {\"color\": \"rgb(0, 0, 0)\"}, \"text\": [\"3\"]}, {\"y\": [0.0], \"mode\": \"markers+text\", \"marker\": {\"line\": {\"width\": 2, \"color\": \"rgb(0, 0, 0)\"}, \"color\": \"rgb(0, 0, 255)\", \"size\": 20}, \"textposition\": \"middle center\", \"x\": [0.0], \"hoverinfo\": \"none\", \"textfont\": {\"color\": \"rgb(255, 255, 255)\"}, \"text\": [\"2\"]}, {\"y\": [0.0], \"mode\": \"markers+text\", \"marker\": {\"line\": {\"width\": 2, \"color\": \"rgb(0, 0, 0)\"}, \"color\": \"rgb(0, 0, 255)\", \"size\": 20}, \"textposition\": \"middle center\", \"x\": [0.3], \"hoverinfo\": \"none\", \"textfont\": {\"color\": \"rgb(255, 255, 255)\"}, \"text\": [\"1\"]}, {\"y\": [0.0], \"mode\": \"markers+text\", \"marker\": {\"line\": {\"width\": 2, \"color\": \"rgb(0, 0, 0)\"}, \"color\": \"rgb(255, 255, 255)\", \"size\": 20}, \"textposition\": \"middle center\", \"x\": [0.7], \"hoverinfo\": \"none\", \"textfont\": {\"color\": \"rgb(0, 0, 0)\"}, \"text\": [\"2\"]}, {\"y\": [0.0], \"mode\": \"markers+text\", \"marker\": {\"line\": {\"width\": 2, \"color\": \"rgb(0, 0, 0)\"}, \"color\": \"rgb(255, 255, 255)\", \"size\": 20}, \"textposition\": \"middle center\", \"x\": [1.0], \"hoverinfo\": \"none\", \"textfont\": {\"color\": \"rgb(0, 0, 0)\"}, \"text\": [\"\\u221e\"]}], \"name\": 28}, {\"data\": [{\"y\": [1.0, 1.0, null], \"mode\": \"lines\", \"x\": [0.0, 0.3, null], \"line\": {\"width\": 2, \"color\": \"rgb(0, 0, 0)\"}, \"hoverinfo\": \"none\"}, {\"y\": [1.0, 0.0, null], \"mode\": \"lines\", \"x\": [0.0, 0.0, null], \"line\": {\"width\": 2, \"color\": \"rgb(0, 0, 0)\"}, \"hoverinfo\": \"none\"}, {\"y\": [1.0, 0.0, null], \"mode\": \"lines\", \"x\": [0.3, 0.3, null], \"line\": {\"width\": 2, \"color\": \"rgb(0, 0, 0)\"}, \"hoverinfo\": \"none\"}, {\"y\": [1.0, 1.0, null], \"mode\": \"lines\", \"x\": [0.7, 1.0, null], \"line\": {\"width\": 2, \"color\": \"rgb(0, 0, 0)\"}, \"hoverinfo\": \"none\"}, {\"y\": [1.0, 0.0, null], \"mode\": \"lines\", \"x\": [0.7, 0.3, null], \"line\": {\"width\": 2, \"color\": \"rgb(0, 0, 0)\"}, \"hoverinfo\": \"none\"}, {\"y\": [1.0, 0.0, null], \"mode\": \"lines\", \"x\": [0.7, 0.7, null], \"line\": {\"width\": 2, \"color\": \"rgb(0, 0, 0)\"}, \"hoverinfo\": \"none\"}, {\"y\": [1.0, 0.0, null], \"mode\": \"lines\", \"x\": [1.0, 0.7, null], \"line\": {\"width\": 2, \"color\": \"rgb(0, 0, 0)\"}, \"hoverinfo\": \"none\"}, {\"y\": [1.0, 0.0, null], \"mode\": \"lines\", \"x\": [1.0, 1.0, null], \"line\": {\"width\": 2, \"color\": \"rgb(0, 0, 0)\"}, \"hoverinfo\": \"none\"}, {\"y\": [0.0, 0.0, null], \"mode\": \"lines\", \"x\": [0.3, 0.7, null], \"line\": {\"width\": 2, \"color\": \"rgb(0, 0, 0)\"}, \"hoverinfo\": \"none\"}, {\"y\": [0.0, 0.0, null], \"mode\": \"lines\", \"x\": [0.7, 1.0, null], \"line\": {\"width\": 2, \"color\": \"rgb(0, 0, 0)\"}, \"hoverinfo\": \"none\"}, {\"y\": [1.0], \"mode\": \"markers+text\", \"marker\": {\"line\": {\"width\": 2, \"color\": \"rgb(0, 0, 0)\"}, \"color\": \"rgb(0, 0, 255)\", \"size\": 20}, \"textposition\": \"middle center\", \"x\": [0.0], \"hoverinfo\": \"none\", \"textfont\": {\"color\": \"rgb(255, 255, 255)\"}, \"text\": [\"1\"]}, {\"y\": [1.0], \"mode\": \"markers+text\", \"marker\": {\"line\": {\"width\": 2, \"color\": \"rgb(0, 0, 0)\"}, \"color\": \"rgb(0, 0, 255)\", \"size\": 20}, \"textposition\": \"middle center\", \"x\": [0.3], \"hoverinfo\": \"none\", \"textfont\": {\"color\": \"rgb(255, 255, 255)\"}, \"text\": [\"0\"]}, {\"y\": [1.0], \"mode\": \"markers+text\", \"marker\": {\"line\": {\"width\": 2, \"color\": \"rgb(0, 0, 0)\"}, \"color\": \"rgb(255, 0, 0)\", \"size\": 20}, \"textposition\": \"middle center\", \"x\": [0.7], \"hoverinfo\": \"none\", \"textfont\": {\"color\": \"rgb(255, 255, 255)\"}, \"text\": [\"2\"]}, {\"y\": [1.0], \"mode\": \"markers+text\", \"marker\": {\"line\": {\"width\": 2, \"color\": \"rgb(0, 0, 0)\"}, \"color\": \"rgb(255, 255, 255)\", \"size\": 20}, \"textposition\": \"middle center\", \"x\": [1.0], \"hoverinfo\": \"none\", \"textfont\": {\"color\": \"rgb(0, 0, 0)\"}, \"text\": [\"3\"]}, {\"y\": [0.0], \"mode\": \"markers+text\", \"marker\": {\"line\": {\"width\": 2, \"color\": \"rgb(0, 0, 0)\"}, \"color\": \"rgb(0, 0, 255)\", \"size\": 20}, \"textposition\": \"middle center\", \"x\": [0.0], \"hoverinfo\": \"none\", \"textfont\": {\"color\": \"rgb(255, 255, 255)\"}, \"text\": [\"2\"]}, {\"y\": [0.0], \"mode\": \"markers+text\", \"marker\": {\"line\": {\"width\": 2, \"color\": \"rgb(0, 0, 0)\"}, \"color\": \"rgb(0, 0, 255)\", \"size\": 20}, \"textposition\": \"middle center\", \"x\": [0.3], \"hoverinfo\": \"none\", \"textfont\": {\"color\": \"rgb(255, 255, 255)\"}, \"text\": [\"1\"]}, {\"y\": [0.0], \"mode\": \"markers+text\", \"marker\": {\"line\": {\"width\": 2, \"color\": \"rgb(0, 0, 0)\"}, \"color\": \"rgb(255, 255, 255)\", \"size\": 20}, \"textposition\": \"middle center\", \"x\": [0.7], \"hoverinfo\": \"none\", \"textfont\": {\"color\": \"rgb(0, 0, 0)\"}, \"text\": [\"2\"]}, {\"y\": [0.0], \"mode\": \"markers+text\", \"marker\": {\"line\": {\"width\": 2, \"color\": \"rgb(0, 0, 0)\"}, \"color\": \"rgb(255, 255, 255)\", \"size\": 20}, \"textposition\": \"middle center\", \"x\": [1.0], \"hoverinfo\": \"none\", \"textfont\": {\"color\": \"rgb(0, 0, 0)\"}, \"text\": [\"\\u221e\"]}], \"name\": 29}, {\"data\": [{\"y\": [1.0, 1.0, null], \"mode\": \"lines\", \"x\": [0.0, 0.3, null], \"line\": {\"width\": 2, \"color\": \"rgb(0, 0, 0)\"}, \"hoverinfo\": \"none\"}, {\"y\": [1.0, 0.0, null], \"mode\": \"lines\", \"x\": [0.0, 0.0, null], \"line\": {\"width\": 2, \"color\": \"rgb(0, 0, 0)\"}, \"hoverinfo\": \"none\"}, {\"y\": [1.0, 0.0, null], \"mode\": \"lines\", \"x\": [0.3, 0.3, null], \"line\": {\"width\": 2, \"color\": \"rgb(0, 0, 0)\"}, \"hoverinfo\": \"none\"}, {\"y\": [1.0, 1.0, null], \"mode\": \"lines\", \"x\": [0.7, 1.0, null], \"line\": {\"width\": 2, \"color\": \"rgb(0, 0, 0)\"}, \"hoverinfo\": \"none\"}, {\"y\": [1.0, 0.0, null], \"mode\": \"lines\", \"x\": [0.7, 0.3, null], \"line\": {\"width\": 2, \"color\": \"rgb(0, 0, 0)\"}, \"hoverinfo\": \"none\"}, {\"y\": [1.0, 0.0, null], \"mode\": \"lines\", \"x\": [0.7, 0.7, null], \"line\": {\"width\": 2, \"color\": \"rgb(255, 0, 0)\"}, \"hoverinfo\": \"none\"}, {\"y\": [1.0, 0.0, null], \"mode\": \"lines\", \"x\": [1.0, 0.7, null], \"line\": {\"width\": 2, \"color\": \"rgb(0, 0, 0)\"}, \"hoverinfo\": \"none\"}, {\"y\": [1.0, 0.0, null], \"mode\": \"lines\", \"x\": [1.0, 1.0, null], \"line\": {\"width\": 2, \"color\": \"rgb(0, 0, 0)\"}, \"hoverinfo\": \"none\"}, {\"y\": [0.0, 0.0, null], \"mode\": \"lines\", \"x\": [0.3, 0.7, null], \"line\": {\"width\": 2, \"color\": \"rgb(0, 0, 0)\"}, \"hoverinfo\": \"none\"}, {\"y\": [0.0, 0.0, null], \"mode\": \"lines\", \"x\": [0.7, 1.0, null], \"line\": {\"width\": 2, \"color\": \"rgb(0, 0, 0)\"}, \"hoverinfo\": \"none\"}, {\"y\": [1.0], \"mode\": \"markers+text\", \"marker\": {\"line\": {\"width\": 2, \"color\": \"rgb(0, 0, 0)\"}, \"color\": \"rgb(0, 0, 255)\", \"size\": 20}, \"textposition\": \"middle center\", \"x\": [0.0], \"hoverinfo\": \"none\", \"textfont\": {\"color\": \"rgb(255, 255, 255)\"}, \"text\": [\"1\"]}, {\"y\": [1.0], \"mode\": \"markers+text\", \"marker\": {\"line\": {\"width\": 2, \"color\": \"rgb(0, 0, 0)\"}, \"color\": \"rgb(0, 0, 255)\", \"size\": 20}, \"textposition\": \"middle center\", \"x\": [0.3], \"hoverinfo\": \"none\", \"textfont\": {\"color\": \"rgb(255, 255, 255)\"}, \"text\": [\"0\"]}, {\"y\": [1.0], \"mode\": \"markers+text\", \"marker\": {\"line\": {\"width\": 2, \"color\": \"rgb(0, 0, 0)\"}, \"color\": \"rgb(255, 0, 0)\", \"size\": 20}, \"textposition\": \"middle center\", \"x\": [0.7], \"hoverinfo\": \"none\", \"textfont\": {\"color\": \"rgb(255, 255, 255)\"}, \"text\": [\"2\"]}, {\"y\": [1.0], \"mode\": \"markers+text\", \"marker\": {\"line\": {\"width\": 2, \"color\": \"rgb(0, 0, 0)\"}, \"color\": \"rgb(255, 255, 255)\", \"size\": 20}, \"textposition\": \"middle center\", \"x\": [1.0], \"hoverinfo\": \"none\", \"textfont\": {\"color\": \"rgb(0, 0, 0)\"}, \"text\": [\"3\"]}, {\"y\": [0.0], \"mode\": \"markers+text\", \"marker\": {\"line\": {\"width\": 2, \"color\": \"rgb(0, 0, 0)\"}, \"color\": \"rgb(0, 0, 255)\", \"size\": 20}, \"textposition\": \"middle center\", \"x\": [0.0], \"hoverinfo\": \"none\", \"textfont\": {\"color\": \"rgb(255, 255, 255)\"}, \"text\": [\"2\"]}, {\"y\": [0.0], \"mode\": \"markers+text\", \"marker\": {\"line\": {\"width\": 2, \"color\": \"rgb(0, 0, 0)\"}, \"color\": \"rgb(0, 0, 255)\", \"size\": 20}, \"textposition\": \"middle center\", \"x\": [0.3], \"hoverinfo\": \"none\", \"textfont\": {\"color\": \"rgb(255, 255, 255)\"}, \"text\": [\"1\"]}, {\"y\": [0.0], \"mode\": \"markers+text\", \"marker\": {\"line\": {\"width\": 2, \"color\": \"rgb(0, 0, 0)\"}, \"color\": \"rgb(255, 255, 255)\", \"size\": 20}, \"textposition\": \"middle center\", \"x\": [0.7], \"hoverinfo\": \"none\", \"textfont\": {\"color\": \"rgb(0, 0, 0)\"}, \"text\": [\"2\"]}, {\"y\": [0.0], \"mode\": \"markers+text\", \"marker\": {\"line\": {\"width\": 2, \"color\": \"rgb(0, 0, 0)\"}, \"color\": \"rgb(255, 255, 255)\", \"size\": 20}, \"textposition\": \"middle center\", \"x\": [1.0], \"hoverinfo\": \"none\", \"textfont\": {\"color\": \"rgb(0, 0, 0)\"}, \"text\": [\"\\u221e\"]}], \"name\": 30}, {\"data\": [{\"y\": [1.0, 1.0, null], \"mode\": \"lines\", \"x\": [0.0, 0.3, null], \"line\": {\"width\": 2, \"color\": \"rgb(0, 0, 0)\"}, \"hoverinfo\": \"none\"}, {\"y\": [1.0, 0.0, null], \"mode\": \"lines\", \"x\": [0.0, 0.0, null], \"line\": {\"width\": 2, \"color\": \"rgb(0, 0, 0)\"}, \"hoverinfo\": \"none\"}, {\"y\": [1.0, 0.0, null], \"mode\": \"lines\", \"x\": [0.3, 0.3, null], \"line\": {\"width\": 2, \"color\": \"rgb(0, 0, 0)\"}, \"hoverinfo\": \"none\"}, {\"y\": [1.0, 1.0, null], \"mode\": \"lines\", \"x\": [0.7, 1.0, null], \"line\": {\"width\": 2, \"color\": \"rgb(0, 0, 0)\"}, \"hoverinfo\": \"none\"}, {\"y\": [1.0, 0.0, null], \"mode\": \"lines\", \"x\": [0.7, 0.3, null], \"line\": {\"width\": 2, \"color\": \"rgb(0, 0, 0)\"}, \"hoverinfo\": \"none\"}, {\"y\": [1.0, 0.0, null], \"mode\": \"lines\", \"x\": [0.7, 0.7, null], \"line\": {\"width\": 2, \"color\": \"rgb(0, 0, 0)\"}, \"hoverinfo\": \"none\"}, {\"y\": [1.0, 0.0, null], \"mode\": \"lines\", \"x\": [1.0, 0.7, null], \"line\": {\"width\": 2, \"color\": \"rgb(0, 0, 0)\"}, \"hoverinfo\": \"none\"}, {\"y\": [1.0, 0.0, null], \"mode\": \"lines\", \"x\": [1.0, 1.0, null], \"line\": {\"width\": 2, \"color\": \"rgb(0, 0, 0)\"}, \"hoverinfo\": \"none\"}, {\"y\": [0.0, 0.0, null], \"mode\": \"lines\", \"x\": [0.3, 0.7, null], \"line\": {\"width\": 2, \"color\": \"rgb(0, 0, 0)\"}, \"hoverinfo\": \"none\"}, {\"y\": [0.0, 0.0, null], \"mode\": \"lines\", \"x\": [0.7, 1.0, null], \"line\": {\"width\": 2, \"color\": \"rgb(0, 0, 0)\"}, \"hoverinfo\": \"none\"}, {\"y\": [1.0], \"mode\": \"markers+text\", \"marker\": {\"line\": {\"width\": 2, \"color\": \"rgb(0, 0, 0)\"}, \"color\": \"rgb(0, 0, 255)\", \"size\": 20}, \"textposition\": \"middle center\", \"x\": [0.0], \"hoverinfo\": \"none\", \"textfont\": {\"color\": \"rgb(255, 255, 255)\"}, \"text\": [\"1\"]}, {\"y\": [1.0], \"mode\": \"markers+text\", \"marker\": {\"line\": {\"width\": 2, \"color\": \"rgb(0, 0, 0)\"}, \"color\": \"rgb(0, 0, 255)\", \"size\": 20}, \"textposition\": \"middle center\", \"x\": [0.3], \"hoverinfo\": \"none\", \"textfont\": {\"color\": \"rgb(255, 255, 255)\"}, \"text\": [\"0\"]}, {\"y\": [1.0], \"mode\": \"markers+text\", \"marker\": {\"line\": {\"width\": 2, \"color\": \"rgb(0, 0, 0)\"}, \"color\": \"rgb(255, 0, 0)\", \"size\": 20}, \"textposition\": \"middle center\", \"x\": [0.7], \"hoverinfo\": \"none\", \"textfont\": {\"color\": \"rgb(255, 255, 255)\"}, \"text\": [\"2\"]}, {\"y\": [1.0], \"mode\": \"markers+text\", \"marker\": {\"line\": {\"width\": 2, \"color\": \"rgb(0, 0, 0)\"}, \"color\": \"rgb(255, 255, 255)\", \"size\": 20}, \"textposition\": \"middle center\", \"x\": [1.0], \"hoverinfo\": \"none\", \"textfont\": {\"color\": \"rgb(0, 0, 0)\"}, \"text\": [\"3\"]}, {\"y\": [0.0], \"mode\": \"markers+text\", \"marker\": {\"line\": {\"width\": 2, \"color\": \"rgb(0, 0, 0)\"}, \"color\": \"rgb(0, 0, 255)\", \"size\": 20}, \"textposition\": \"middle center\", \"x\": [0.0], \"hoverinfo\": \"none\", \"textfont\": {\"color\": \"rgb(255, 255, 255)\"}, \"text\": [\"2\"]}, {\"y\": [0.0], \"mode\": \"markers+text\", \"marker\": {\"line\": {\"width\": 2, \"color\": \"rgb(0, 0, 0)\"}, \"color\": \"rgb(0, 0, 255)\", \"size\": 20}, \"textposition\": \"middle center\", \"x\": [0.3], \"hoverinfo\": \"none\", \"textfont\": {\"color\": \"rgb(255, 255, 255)\"}, \"text\": [\"1\"]}, {\"y\": [0.0], \"mode\": \"markers+text\", \"marker\": {\"line\": {\"width\": 2, \"color\": \"rgb(0, 0, 0)\"}, \"color\": \"rgb(255, 255, 255)\", \"size\": 20}, \"textposition\": \"middle center\", \"x\": [0.7], \"hoverinfo\": \"none\", \"textfont\": {\"color\": \"rgb(0, 0, 0)\"}, \"text\": [\"2\"]}, {\"y\": [0.0], \"mode\": \"markers+text\", \"marker\": {\"line\": {\"width\": 2, \"color\": \"rgb(0, 0, 0)\"}, \"color\": \"rgb(255, 255, 255)\", \"size\": 20}, \"textposition\": \"middle center\", \"x\": [1.0], \"hoverinfo\": \"none\", \"textfont\": {\"color\": \"rgb(0, 0, 0)\"}, \"text\": [\"\\u221e\"]}], \"name\": 31}, {\"data\": [{\"y\": [1.0, 1.0, null], \"mode\": \"lines\", \"x\": [0.0, 0.3, null], \"line\": {\"width\": 2, \"color\": \"rgb(0, 0, 0)\"}, \"hoverinfo\": \"none\"}, {\"y\": [1.0, 0.0, null], \"mode\": \"lines\", \"x\": [0.0, 0.0, null], \"line\": {\"width\": 2, \"color\": \"rgb(0, 0, 0)\"}, \"hoverinfo\": \"none\"}, {\"y\": [1.0, 0.0, null], \"mode\": \"lines\", \"x\": [0.3, 0.3, null], \"line\": {\"width\": 2, \"color\": \"rgb(0, 0, 0)\"}, \"hoverinfo\": \"none\"}, {\"y\": [1.0, 1.0, null], \"mode\": \"lines\", \"x\": [0.7, 1.0, null], \"line\": {\"width\": 2, \"color\": \"rgb(0, 0, 0)\"}, \"hoverinfo\": \"none\"}, {\"y\": [1.0, 0.0, null], \"mode\": \"lines\", \"x\": [0.7, 0.3, null], \"line\": {\"width\": 2, \"color\": \"rgb(0, 0, 0)\"}, \"hoverinfo\": \"none\"}, {\"y\": [1.0, 0.0, null], \"mode\": \"lines\", \"x\": [0.7, 0.7, null], \"line\": {\"width\": 2, \"color\": \"rgb(0, 0, 0)\"}, \"hoverinfo\": \"none\"}, {\"y\": [1.0, 0.0, null], \"mode\": \"lines\", \"x\": [1.0, 0.7, null], \"line\": {\"width\": 2, \"color\": \"rgb(0, 0, 0)\"}, \"hoverinfo\": \"none\"}, {\"y\": [1.0, 0.0, null], \"mode\": \"lines\", \"x\": [1.0, 1.0, null], \"line\": {\"width\": 2, \"color\": \"rgb(0, 0, 0)\"}, \"hoverinfo\": \"none\"}, {\"y\": [0.0, 0.0, null], \"mode\": \"lines\", \"x\": [0.3, 0.7, null], \"line\": {\"width\": 2, \"color\": \"rgb(0, 0, 0)\"}, \"hoverinfo\": \"none\"}, {\"y\": [0.0, 0.0, null], \"mode\": \"lines\", \"x\": [0.7, 1.0, null], \"line\": {\"width\": 2, \"color\": \"rgb(0, 0, 0)\"}, \"hoverinfo\": \"none\"}, {\"y\": [1.0], \"mode\": \"markers+text\", \"marker\": {\"line\": {\"width\": 2, \"color\": \"rgb(0, 0, 0)\"}, \"color\": \"rgb(0, 0, 255)\", \"size\": 20}, \"textposition\": \"middle center\", \"x\": [0.0], \"hoverinfo\": \"none\", \"textfont\": {\"color\": \"rgb(255, 255, 255)\"}, \"text\": [\"1\"]}, {\"y\": [1.0], \"mode\": \"markers+text\", \"marker\": {\"line\": {\"width\": 2, \"color\": \"rgb(0, 0, 0)\"}, \"color\": \"rgb(0, 0, 255)\", \"size\": 20}, \"textposition\": \"middle center\", \"x\": [0.3], \"hoverinfo\": \"none\", \"textfont\": {\"color\": \"rgb(255, 255, 255)\"}, \"text\": [\"0\"]}, {\"y\": [1.0], \"mode\": \"markers+text\", \"marker\": {\"line\": {\"width\": 2, \"color\": \"rgb(0, 0, 0)\"}, \"color\": \"rgb(0, 0, 255)\", \"size\": 20}, \"textposition\": \"middle center\", \"x\": [0.7], \"hoverinfo\": \"none\", \"textfont\": {\"color\": \"rgb(255, 255, 255)\"}, \"text\": [\"2\"]}, {\"y\": [1.0], \"mode\": \"markers+text\", \"marker\": {\"line\": {\"width\": 2, \"color\": \"rgb(0, 0, 0)\"}, \"color\": \"rgb(255, 255, 255)\", \"size\": 20}, \"textposition\": \"middle center\", \"x\": [1.0], \"hoverinfo\": \"none\", \"textfont\": {\"color\": \"rgb(0, 0, 0)\"}, \"text\": [\"3\"]}, {\"y\": [0.0], \"mode\": \"markers+text\", \"marker\": {\"line\": {\"width\": 2, \"color\": \"rgb(0, 0, 0)\"}, \"color\": \"rgb(0, 0, 255)\", \"size\": 20}, \"textposition\": \"middle center\", \"x\": [0.0], \"hoverinfo\": \"none\", \"textfont\": {\"color\": \"rgb(255, 255, 255)\"}, \"text\": [\"2\"]}, {\"y\": [0.0], \"mode\": \"markers+text\", \"marker\": {\"line\": {\"width\": 2, \"color\": \"rgb(0, 0, 0)\"}, \"color\": \"rgb(0, 0, 255)\", \"size\": 20}, \"textposition\": \"middle center\", \"x\": [0.3], \"hoverinfo\": \"none\", \"textfont\": {\"color\": \"rgb(255, 255, 255)\"}, \"text\": [\"1\"]}, {\"y\": [0.0], \"mode\": \"markers+text\", \"marker\": {\"line\": {\"width\": 2, \"color\": \"rgb(0, 0, 0)\"}, \"color\": \"rgb(255, 255, 255)\", \"size\": 20}, \"textposition\": \"middle center\", \"x\": [0.7], \"hoverinfo\": \"none\", \"textfont\": {\"color\": \"rgb(0, 0, 0)\"}, \"text\": [\"2\"]}, {\"y\": [0.0], \"mode\": \"markers+text\", \"marker\": {\"line\": {\"width\": 2, \"color\": \"rgb(0, 0, 0)\"}, \"color\": \"rgb(255, 255, 255)\", \"size\": 20}, \"textposition\": \"middle center\", \"x\": [1.0], \"hoverinfo\": \"none\", \"textfont\": {\"color\": \"rgb(0, 0, 0)\"}, \"text\": [\"\\u221e\"]}], \"name\": 32}, {\"data\": [{\"y\": [1.0, 1.0, null], \"mode\": \"lines\", \"x\": [0.0, 0.3, null], \"line\": {\"width\": 2, \"color\": \"rgb(0, 0, 0)\"}, \"hoverinfo\": \"none\"}, {\"y\": [1.0, 0.0, null], \"mode\": \"lines\", \"x\": [0.0, 0.0, null], \"line\": {\"width\": 2, \"color\": \"rgb(0, 0, 0)\"}, \"hoverinfo\": \"none\"}, {\"y\": [1.0, 0.0, null], \"mode\": \"lines\", \"x\": [0.3, 0.3, null], \"line\": {\"width\": 2, \"color\": \"rgb(0, 0, 0)\"}, \"hoverinfo\": \"none\"}, {\"y\": [1.0, 1.0, null], \"mode\": \"lines\", \"x\": [0.7, 1.0, null], \"line\": {\"width\": 2, \"color\": \"rgb(0, 0, 0)\"}, \"hoverinfo\": \"none\"}, {\"y\": [1.0, 0.0, null], \"mode\": \"lines\", \"x\": [0.7, 0.3, null], \"line\": {\"width\": 2, \"color\": \"rgb(0, 0, 0)\"}, \"hoverinfo\": \"none\"}, {\"y\": [1.0, 0.0, null], \"mode\": \"lines\", \"x\": [0.7, 0.7, null], \"line\": {\"width\": 2, \"color\": \"rgb(0, 0, 0)\"}, \"hoverinfo\": \"none\"}, {\"y\": [1.0, 0.0, null], \"mode\": \"lines\", \"x\": [1.0, 0.7, null], \"line\": {\"width\": 2, \"color\": \"rgb(0, 0, 0)\"}, \"hoverinfo\": \"none\"}, {\"y\": [1.0, 0.0, null], \"mode\": \"lines\", \"x\": [1.0, 1.0, null], \"line\": {\"width\": 2, \"color\": \"rgb(0, 0, 0)\"}, \"hoverinfo\": \"none\"}, {\"y\": [0.0, 0.0, null], \"mode\": \"lines\", \"x\": [0.3, 0.7, null], \"line\": {\"width\": 2, \"color\": \"rgb(0, 0, 0)\"}, \"hoverinfo\": \"none\"}, {\"y\": [0.0, 0.0, null], \"mode\": \"lines\", \"x\": [0.7, 1.0, null], \"line\": {\"width\": 2, \"color\": \"rgb(0, 0, 0)\"}, \"hoverinfo\": \"none\"}, {\"y\": [1.0], \"mode\": \"markers+text\", \"marker\": {\"line\": {\"width\": 2, \"color\": \"rgb(0, 0, 0)\"}, \"color\": \"rgb(0, 0, 255)\", \"size\": 20}, \"textposition\": \"middle center\", \"x\": [0.0], \"hoverinfo\": \"none\", \"textfont\": {\"color\": \"rgb(255, 255, 255)\"}, \"text\": [\"1\"]}, {\"y\": [1.0], \"mode\": \"markers+text\", \"marker\": {\"line\": {\"width\": 2, \"color\": \"rgb(0, 0, 0)\"}, \"color\": \"rgb(0, 0, 255)\", \"size\": 20}, \"textposition\": \"middle center\", \"x\": [0.3], \"hoverinfo\": \"none\", \"textfont\": {\"color\": \"rgb(255, 255, 255)\"}, \"text\": [\"0\"]}, {\"y\": [1.0], \"mode\": \"markers+text\", \"marker\": {\"line\": {\"width\": 2, \"color\": \"rgb(0, 0, 0)\"}, \"color\": \"rgb(0, 0, 255)\", \"size\": 20}, \"textposition\": \"middle center\", \"x\": [0.7], \"hoverinfo\": \"none\", \"textfont\": {\"color\": \"rgb(255, 255, 255)\"}, \"text\": [\"2\"]}, {\"y\": [1.0], \"mode\": \"markers+text\", \"marker\": {\"line\": {\"width\": 2, \"color\": \"rgb(0, 0, 0)\"}, \"color\": \"rgb(255, 255, 255)\", \"size\": 20}, \"textposition\": \"middle center\", \"x\": [1.0], \"hoverinfo\": \"none\", \"textfont\": {\"color\": \"rgb(0, 0, 0)\"}, \"text\": [\"3\"]}, {\"y\": [0.0], \"mode\": \"markers+text\", \"marker\": {\"line\": {\"width\": 2, \"color\": \"rgb(0, 0, 0)\"}, \"color\": \"rgb(0, 0, 255)\", \"size\": 20}, \"textposition\": \"middle center\", \"x\": [0.0], \"hoverinfo\": \"none\", \"textfont\": {\"color\": \"rgb(255, 255, 255)\"}, \"text\": [\"2\"]}, {\"y\": [0.0], \"mode\": \"markers+text\", \"marker\": {\"line\": {\"width\": 2, \"color\": \"rgb(0, 0, 0)\"}, \"color\": \"rgb(0, 0, 255)\", \"size\": 20}, \"textposition\": \"middle center\", \"x\": [0.3], \"hoverinfo\": \"none\", \"textfont\": {\"color\": \"rgb(255, 255, 255)\"}, \"text\": [\"1\"]}, {\"y\": [0.0], \"mode\": \"markers+text\", \"marker\": {\"line\": {\"width\": 2, \"color\": \"rgb(0, 0, 0)\"}, \"color\": \"rgb(255, 0, 0)\", \"size\": 20}, \"textposition\": \"middle center\", \"x\": [0.7], \"hoverinfo\": \"none\", \"textfont\": {\"color\": \"rgb(255, 255, 255)\"}, \"text\": [\"2\"]}, {\"y\": [0.0], \"mode\": \"markers+text\", \"marker\": {\"line\": {\"width\": 2, \"color\": \"rgb(0, 0, 0)\"}, \"color\": \"rgb(255, 255, 255)\", \"size\": 20}, \"textposition\": \"middle center\", \"x\": [1.0], \"hoverinfo\": \"none\", \"textfont\": {\"color\": \"rgb(0, 0, 0)\"}, \"text\": [\"\\u221e\"]}], \"name\": 33}, {\"data\": [{\"y\": [1.0, 1.0, null], \"mode\": \"lines\", \"x\": [0.0, 0.3, null], \"line\": {\"width\": 2, \"color\": \"rgb(0, 0, 0)\"}, \"hoverinfo\": \"none\"}, {\"y\": [1.0, 0.0, null], \"mode\": \"lines\", \"x\": [0.0, 0.0, null], \"line\": {\"width\": 2, \"color\": \"rgb(0, 0, 0)\"}, \"hoverinfo\": \"none\"}, {\"y\": [1.0, 0.0, null], \"mode\": \"lines\", \"x\": [0.3, 0.3, null], \"line\": {\"width\": 2, \"color\": \"rgb(0, 0, 0)\"}, \"hoverinfo\": \"none\"}, {\"y\": [1.0, 1.0, null], \"mode\": \"lines\", \"x\": [0.7, 1.0, null], \"line\": {\"width\": 2, \"color\": \"rgb(0, 0, 0)\"}, \"hoverinfo\": \"none\"}, {\"y\": [1.0, 0.0, null], \"mode\": \"lines\", \"x\": [0.7, 0.3, null], \"line\": {\"width\": 2, \"color\": \"rgb(0, 0, 0)\"}, \"hoverinfo\": \"none\"}, {\"y\": [1.0, 0.0, null], \"mode\": \"lines\", \"x\": [0.7, 0.7, null], \"line\": {\"width\": 2, \"color\": \"rgb(255, 0, 0)\"}, \"hoverinfo\": \"none\"}, {\"y\": [1.0, 0.0, null], \"mode\": \"lines\", \"x\": [1.0, 0.7, null], \"line\": {\"width\": 2, \"color\": \"rgb(0, 0, 0)\"}, \"hoverinfo\": \"none\"}, {\"y\": [1.0, 0.0, null], \"mode\": \"lines\", \"x\": [1.0, 1.0, null], \"line\": {\"width\": 2, \"color\": \"rgb(0, 0, 0)\"}, \"hoverinfo\": \"none\"}, {\"y\": [0.0, 0.0, null], \"mode\": \"lines\", \"x\": [0.3, 0.7, null], \"line\": {\"width\": 2, \"color\": \"rgb(0, 0, 0)\"}, \"hoverinfo\": \"none\"}, {\"y\": [0.0, 0.0, null], \"mode\": \"lines\", \"x\": [0.7, 1.0, null], \"line\": {\"width\": 2, \"color\": \"rgb(0, 0, 0)\"}, \"hoverinfo\": \"none\"}, {\"y\": [1.0], \"mode\": \"markers+text\", \"marker\": {\"line\": {\"width\": 2, \"color\": \"rgb(0, 0, 0)\"}, \"color\": \"rgb(0, 0, 255)\", \"size\": 20}, \"textposition\": \"middle center\", \"x\": [0.0], \"hoverinfo\": \"none\", \"textfont\": {\"color\": \"rgb(255, 255, 255)\"}, \"text\": [\"1\"]}, {\"y\": [1.0], \"mode\": \"markers+text\", \"marker\": {\"line\": {\"width\": 2, \"color\": \"rgb(0, 0, 0)\"}, \"color\": \"rgb(0, 0, 255)\", \"size\": 20}, \"textposition\": \"middle center\", \"x\": [0.3], \"hoverinfo\": \"none\", \"textfont\": {\"color\": \"rgb(255, 255, 255)\"}, \"text\": [\"0\"]}, {\"y\": [1.0], \"mode\": \"markers+text\", \"marker\": {\"line\": {\"width\": 2, \"color\": \"rgb(0, 0, 0)\"}, \"color\": \"rgb(0, 0, 255)\", \"size\": 20}, \"textposition\": \"middle center\", \"x\": [0.7], \"hoverinfo\": \"none\", \"textfont\": {\"color\": \"rgb(255, 255, 255)\"}, \"text\": [\"2\"]}, {\"y\": [1.0], \"mode\": \"markers+text\", \"marker\": {\"line\": {\"width\": 2, \"color\": \"rgb(0, 0, 0)\"}, \"color\": \"rgb(255, 255, 255)\", \"size\": 20}, \"textposition\": \"middle center\", \"x\": [1.0], \"hoverinfo\": \"none\", \"textfont\": {\"color\": \"rgb(0, 0, 0)\"}, \"text\": [\"3\"]}, {\"y\": [0.0], \"mode\": \"markers+text\", \"marker\": {\"line\": {\"width\": 2, \"color\": \"rgb(0, 0, 0)\"}, \"color\": \"rgb(0, 0, 255)\", \"size\": 20}, \"textposition\": \"middle center\", \"x\": [0.0], \"hoverinfo\": \"none\", \"textfont\": {\"color\": \"rgb(255, 255, 255)\"}, \"text\": [\"2\"]}, {\"y\": [0.0], \"mode\": \"markers+text\", \"marker\": {\"line\": {\"width\": 2, \"color\": \"rgb(0, 0, 0)\"}, \"color\": \"rgb(0, 0, 255)\", \"size\": 20}, \"textposition\": \"middle center\", \"x\": [0.3], \"hoverinfo\": \"none\", \"textfont\": {\"color\": \"rgb(255, 255, 255)\"}, \"text\": [\"1\"]}, {\"y\": [0.0], \"mode\": \"markers+text\", \"marker\": {\"line\": {\"width\": 2, \"color\": \"rgb(0, 0, 0)\"}, \"color\": \"rgb(255, 0, 0)\", \"size\": 20}, \"textposition\": \"middle center\", \"x\": [0.7], \"hoverinfo\": \"none\", \"textfont\": {\"color\": \"rgb(255, 255, 255)\"}, \"text\": [\"2\"]}, {\"y\": [0.0], \"mode\": \"markers+text\", \"marker\": {\"line\": {\"width\": 2, \"color\": \"rgb(0, 0, 0)\"}, \"color\": \"rgb(255, 255, 255)\", \"size\": 20}, \"textposition\": \"middle center\", \"x\": [1.0], \"hoverinfo\": \"none\", \"textfont\": {\"color\": \"rgb(0, 0, 0)\"}, \"text\": [\"\\u221e\"]}], \"name\": 34}, {\"data\": [{\"y\": [1.0, 1.0, null], \"mode\": \"lines\", \"x\": [0.0, 0.3, null], \"line\": {\"width\": 2, \"color\": \"rgb(0, 0, 0)\"}, \"hoverinfo\": \"none\"}, {\"y\": [1.0, 0.0, null], \"mode\": \"lines\", \"x\": [0.0, 0.0, null], \"line\": {\"width\": 2, \"color\": \"rgb(0, 0, 0)\"}, \"hoverinfo\": \"none\"}, {\"y\": [1.0, 0.0, null], \"mode\": \"lines\", \"x\": [0.3, 0.3, null], \"line\": {\"width\": 2, \"color\": \"rgb(0, 0, 0)\"}, \"hoverinfo\": \"none\"}, {\"y\": [1.0, 1.0, null], \"mode\": \"lines\", \"x\": [0.7, 1.0, null], \"line\": {\"width\": 2, \"color\": \"rgb(0, 0, 0)\"}, \"hoverinfo\": \"none\"}, {\"y\": [1.0, 0.0, null], \"mode\": \"lines\", \"x\": [0.7, 0.3, null], \"line\": {\"width\": 2, \"color\": \"rgb(0, 0, 0)\"}, \"hoverinfo\": \"none\"}, {\"y\": [1.0, 0.0, null], \"mode\": \"lines\", \"x\": [0.7, 0.7, null], \"line\": {\"width\": 2, \"color\": \"rgb(0, 0, 0)\"}, \"hoverinfo\": \"none\"}, {\"y\": [1.0, 0.0, null], \"mode\": \"lines\", \"x\": [1.0, 0.7, null], \"line\": {\"width\": 2, \"color\": \"rgb(0, 0, 0)\"}, \"hoverinfo\": \"none\"}, {\"y\": [1.0, 0.0, null], \"mode\": \"lines\", \"x\": [1.0, 1.0, null], \"line\": {\"width\": 2, \"color\": \"rgb(0, 0, 0)\"}, \"hoverinfo\": \"none\"}, {\"y\": [0.0, 0.0, null], \"mode\": \"lines\", \"x\": [0.3, 0.7, null], \"line\": {\"width\": 2, \"color\": \"rgb(0, 0, 0)\"}, \"hoverinfo\": \"none\"}, {\"y\": [0.0, 0.0, null], \"mode\": \"lines\", \"x\": [0.7, 1.0, null], \"line\": {\"width\": 2, \"color\": \"rgb(0, 0, 0)\"}, \"hoverinfo\": \"none\"}, {\"y\": [1.0], \"mode\": \"markers+text\", \"marker\": {\"line\": {\"width\": 2, \"color\": \"rgb(0, 0, 0)\"}, \"color\": \"rgb(0, 0, 255)\", \"size\": 20}, \"textposition\": \"middle center\", \"x\": [0.0], \"hoverinfo\": \"none\", \"textfont\": {\"color\": \"rgb(255, 255, 255)\"}, \"text\": [\"1\"]}, {\"y\": [1.0], \"mode\": \"markers+text\", \"marker\": {\"line\": {\"width\": 2, \"color\": \"rgb(0, 0, 0)\"}, \"color\": \"rgb(0, 0, 255)\", \"size\": 20}, \"textposition\": \"middle center\", \"x\": [0.3], \"hoverinfo\": \"none\", \"textfont\": {\"color\": \"rgb(255, 255, 255)\"}, \"text\": [\"0\"]}, {\"y\": [1.0], \"mode\": \"markers+text\", \"marker\": {\"line\": {\"width\": 2, \"color\": \"rgb(0, 0, 0)\"}, \"color\": \"rgb(0, 0, 255)\", \"size\": 20}, \"textposition\": \"middle center\", \"x\": [0.7], \"hoverinfo\": \"none\", \"textfont\": {\"color\": \"rgb(255, 255, 255)\"}, \"text\": [\"2\"]}, {\"y\": [1.0], \"mode\": \"markers+text\", \"marker\": {\"line\": {\"width\": 2, \"color\": \"rgb(0, 0, 0)\"}, \"color\": \"rgb(255, 255, 255)\", \"size\": 20}, \"textposition\": \"middle center\", \"x\": [1.0], \"hoverinfo\": \"none\", \"textfont\": {\"color\": \"rgb(0, 0, 0)\"}, \"text\": [\"3\"]}, {\"y\": [0.0], \"mode\": \"markers+text\", \"marker\": {\"line\": {\"width\": 2, \"color\": \"rgb(0, 0, 0)\"}, \"color\": \"rgb(0, 0, 255)\", \"size\": 20}, \"textposition\": \"middle center\", \"x\": [0.0], \"hoverinfo\": \"none\", \"textfont\": {\"color\": \"rgb(255, 255, 255)\"}, \"text\": [\"2\"]}, {\"y\": [0.0], \"mode\": \"markers+text\", \"marker\": {\"line\": {\"width\": 2, \"color\": \"rgb(0, 0, 0)\"}, \"color\": \"rgb(0, 0, 255)\", \"size\": 20}, \"textposition\": \"middle center\", \"x\": [0.3], \"hoverinfo\": \"none\", \"textfont\": {\"color\": \"rgb(255, 255, 255)\"}, \"text\": [\"1\"]}, {\"y\": [0.0], \"mode\": \"markers+text\", \"marker\": {\"line\": {\"width\": 2, \"color\": \"rgb(0, 0, 0)\"}, \"color\": \"rgb(255, 0, 0)\", \"size\": 20}, \"textposition\": \"middle center\", \"x\": [0.7], \"hoverinfo\": \"none\", \"textfont\": {\"color\": \"rgb(255, 255, 255)\"}, \"text\": [\"2\"]}, {\"y\": [0.0], \"mode\": \"markers+text\", \"marker\": {\"line\": {\"width\": 2, \"color\": \"rgb(0, 0, 0)\"}, \"color\": \"rgb(255, 255, 255)\", \"size\": 20}, \"textposition\": \"middle center\", \"x\": [1.0], \"hoverinfo\": \"none\", \"textfont\": {\"color\": \"rgb(0, 0, 0)\"}, \"text\": [\"\\u221e\"]}], \"name\": 35}, {\"data\": [{\"y\": [1.0, 1.0, null], \"mode\": \"lines\", \"x\": [0.0, 0.3, null], \"line\": {\"width\": 2, \"color\": \"rgb(0, 0, 0)\"}, \"hoverinfo\": \"none\"}, {\"y\": [1.0, 0.0, null], \"mode\": \"lines\", \"x\": [0.0, 0.0, null], \"line\": {\"width\": 2, \"color\": \"rgb(0, 0, 0)\"}, \"hoverinfo\": \"none\"}, {\"y\": [1.0, 0.0, null], \"mode\": \"lines\", \"x\": [0.3, 0.3, null], \"line\": {\"width\": 2, \"color\": \"rgb(0, 0, 0)\"}, \"hoverinfo\": \"none\"}, {\"y\": [1.0, 1.0, null], \"mode\": \"lines\", \"x\": [0.7, 1.0, null], \"line\": {\"width\": 2, \"color\": \"rgb(0, 0, 0)\"}, \"hoverinfo\": \"none\"}, {\"y\": [1.0, 0.0, null], \"mode\": \"lines\", \"x\": [0.7, 0.3, null], \"line\": {\"width\": 2, \"color\": \"rgb(0, 0, 0)\"}, \"hoverinfo\": \"none\"}, {\"y\": [1.0, 0.0, null], \"mode\": \"lines\", \"x\": [0.7, 0.7, null], \"line\": {\"width\": 2, \"color\": \"rgb(0, 0, 0)\"}, \"hoverinfo\": \"none\"}, {\"y\": [1.0, 0.0, null], \"mode\": \"lines\", \"x\": [1.0, 0.7, null], \"line\": {\"width\": 2, \"color\": \"rgb(255, 0, 0)\"}, \"hoverinfo\": \"none\"}, {\"y\": [1.0, 0.0, null], \"mode\": \"lines\", \"x\": [1.0, 1.0, null], \"line\": {\"width\": 2, \"color\": \"rgb(0, 0, 0)\"}, \"hoverinfo\": \"none\"}, {\"y\": [0.0, 0.0, null], \"mode\": \"lines\", \"x\": [0.3, 0.7, null], \"line\": {\"width\": 2, \"color\": \"rgb(0, 0, 0)\"}, \"hoverinfo\": \"none\"}, {\"y\": [0.0, 0.0, null], \"mode\": \"lines\", \"x\": [0.7, 1.0, null], \"line\": {\"width\": 2, \"color\": \"rgb(0, 0, 0)\"}, \"hoverinfo\": \"none\"}, {\"y\": [1.0], \"mode\": \"markers+text\", \"marker\": {\"line\": {\"width\": 2, \"color\": \"rgb(0, 0, 0)\"}, \"color\": \"rgb(0, 0, 255)\", \"size\": 20}, \"textposition\": \"middle center\", \"x\": [0.0], \"hoverinfo\": \"none\", \"textfont\": {\"color\": \"rgb(255, 255, 255)\"}, \"text\": [\"1\"]}, {\"y\": [1.0], \"mode\": \"markers+text\", \"marker\": {\"line\": {\"width\": 2, \"color\": \"rgb(0, 0, 0)\"}, \"color\": \"rgb(0, 0, 255)\", \"size\": 20}, \"textposition\": \"middle center\", \"x\": [0.3], \"hoverinfo\": \"none\", \"textfont\": {\"color\": \"rgb(255, 255, 255)\"}, \"text\": [\"0\"]}, {\"y\": [1.0], \"mode\": \"markers+text\", \"marker\": {\"line\": {\"width\": 2, \"color\": \"rgb(0, 0, 0)\"}, \"color\": \"rgb(0, 0, 255)\", \"size\": 20}, \"textposition\": \"middle center\", \"x\": [0.7], \"hoverinfo\": \"none\", \"textfont\": {\"color\": \"rgb(255, 255, 255)\"}, \"text\": [\"2\"]}, {\"y\": [1.0], \"mode\": \"markers+text\", \"marker\": {\"line\": {\"width\": 2, \"color\": \"rgb(0, 0, 0)\"}, \"color\": \"rgb(255, 255, 255)\", \"size\": 20}, \"textposition\": \"middle center\", \"x\": [1.0], \"hoverinfo\": \"none\", \"textfont\": {\"color\": \"rgb(0, 0, 0)\"}, \"text\": [\"3\"]}, {\"y\": [0.0], \"mode\": \"markers+text\", \"marker\": {\"line\": {\"width\": 2, \"color\": \"rgb(0, 0, 0)\"}, \"color\": \"rgb(0, 0, 255)\", \"size\": 20}, \"textposition\": \"middle center\", \"x\": [0.0], \"hoverinfo\": \"none\", \"textfont\": {\"color\": \"rgb(255, 255, 255)\"}, \"text\": [\"2\"]}, {\"y\": [0.0], \"mode\": \"markers+text\", \"marker\": {\"line\": {\"width\": 2, \"color\": \"rgb(0, 0, 0)\"}, \"color\": \"rgb(0, 0, 255)\", \"size\": 20}, \"textposition\": \"middle center\", \"x\": [0.3], \"hoverinfo\": \"none\", \"textfont\": {\"color\": \"rgb(255, 255, 255)\"}, \"text\": [\"1\"]}, {\"y\": [0.0], \"mode\": \"markers+text\", \"marker\": {\"line\": {\"width\": 2, \"color\": \"rgb(0, 0, 0)\"}, \"color\": \"rgb(255, 0, 0)\", \"size\": 20}, \"textposition\": \"middle center\", \"x\": [0.7], \"hoverinfo\": \"none\", \"textfont\": {\"color\": \"rgb(255, 255, 255)\"}, \"text\": [\"2\"]}, {\"y\": [0.0], \"mode\": \"markers+text\", \"marker\": {\"line\": {\"width\": 2, \"color\": \"rgb(0, 0, 0)\"}, \"color\": \"rgb(255, 255, 255)\", \"size\": 20}, \"textposition\": \"middle center\", \"x\": [1.0], \"hoverinfo\": \"none\", \"textfont\": {\"color\": \"rgb(0, 0, 0)\"}, \"text\": [\"\\u221e\"]}], \"name\": 36}, {\"data\": [{\"y\": [1.0, 1.0, null], \"mode\": \"lines\", \"x\": [0.0, 0.3, null], \"line\": {\"width\": 2, \"color\": \"rgb(0, 0, 0)\"}, \"hoverinfo\": \"none\"}, {\"y\": [1.0, 0.0, null], \"mode\": \"lines\", \"x\": [0.0, 0.0, null], \"line\": {\"width\": 2, \"color\": \"rgb(0, 0, 0)\"}, \"hoverinfo\": \"none\"}, {\"y\": [1.0, 0.0, null], \"mode\": \"lines\", \"x\": [0.3, 0.3, null], \"line\": {\"width\": 2, \"color\": \"rgb(0, 0, 0)\"}, \"hoverinfo\": \"none\"}, {\"y\": [1.0, 1.0, null], \"mode\": \"lines\", \"x\": [0.7, 1.0, null], \"line\": {\"width\": 2, \"color\": \"rgb(0, 0, 0)\"}, \"hoverinfo\": \"none\"}, {\"y\": [1.0, 0.0, null], \"mode\": \"lines\", \"x\": [0.7, 0.3, null], \"line\": {\"width\": 2, \"color\": \"rgb(0, 0, 0)\"}, \"hoverinfo\": \"none\"}, {\"y\": [1.0, 0.0, null], \"mode\": \"lines\", \"x\": [0.7, 0.7, null], \"line\": {\"width\": 2, \"color\": \"rgb(0, 0, 0)\"}, \"hoverinfo\": \"none\"}, {\"y\": [1.0, 0.0, null], \"mode\": \"lines\", \"x\": [1.0, 0.7, null], \"line\": {\"width\": 2, \"color\": \"rgb(0, 0, 0)\"}, \"hoverinfo\": \"none\"}, {\"y\": [1.0, 0.0, null], \"mode\": \"lines\", \"x\": [1.0, 1.0, null], \"line\": {\"width\": 2, \"color\": \"rgb(0, 0, 0)\"}, \"hoverinfo\": \"none\"}, {\"y\": [0.0, 0.0, null], \"mode\": \"lines\", \"x\": [0.3, 0.7, null], \"line\": {\"width\": 2, \"color\": \"rgb(0, 0, 0)\"}, \"hoverinfo\": \"none\"}, {\"y\": [0.0, 0.0, null], \"mode\": \"lines\", \"x\": [0.7, 1.0, null], \"line\": {\"width\": 2, \"color\": \"rgb(0, 0, 0)\"}, \"hoverinfo\": \"none\"}, {\"y\": [1.0], \"mode\": \"markers+text\", \"marker\": {\"line\": {\"width\": 2, \"color\": \"rgb(0, 0, 0)\"}, \"color\": \"rgb(0, 0, 255)\", \"size\": 20}, \"textposition\": \"middle center\", \"x\": [0.0], \"hoverinfo\": \"none\", \"textfont\": {\"color\": \"rgb(255, 255, 255)\"}, \"text\": [\"1\"]}, {\"y\": [1.0], \"mode\": \"markers+text\", \"marker\": {\"line\": {\"width\": 2, \"color\": \"rgb(0, 0, 0)\"}, \"color\": \"rgb(0, 0, 255)\", \"size\": 20}, \"textposition\": \"middle center\", \"x\": [0.3], \"hoverinfo\": \"none\", \"textfont\": {\"color\": \"rgb(255, 255, 255)\"}, \"text\": [\"0\"]}, {\"y\": [1.0], \"mode\": \"markers+text\", \"marker\": {\"line\": {\"width\": 2, \"color\": \"rgb(0, 0, 0)\"}, \"color\": \"rgb(0, 0, 255)\", \"size\": 20}, \"textposition\": \"middle center\", \"x\": [0.7], \"hoverinfo\": \"none\", \"textfont\": {\"color\": \"rgb(255, 255, 255)\"}, \"text\": [\"2\"]}, {\"y\": [1.0], \"mode\": \"markers+text\", \"marker\": {\"line\": {\"width\": 2, \"color\": \"rgb(0, 0, 0)\"}, \"color\": \"rgb(255, 255, 255)\", \"size\": 20}, \"textposition\": \"middle center\", \"x\": [1.0], \"hoverinfo\": \"none\", \"textfont\": {\"color\": \"rgb(0, 0, 0)\"}, \"text\": [\"3\"]}, {\"y\": [0.0], \"mode\": \"markers+text\", \"marker\": {\"line\": {\"width\": 2, \"color\": \"rgb(0, 0, 0)\"}, \"color\": \"rgb(0, 0, 255)\", \"size\": 20}, \"textposition\": \"middle center\", \"x\": [0.0], \"hoverinfo\": \"none\", \"textfont\": {\"color\": \"rgb(255, 255, 255)\"}, \"text\": [\"2\"]}, {\"y\": [0.0], \"mode\": \"markers+text\", \"marker\": {\"line\": {\"width\": 2, \"color\": \"rgb(0, 0, 0)\"}, \"color\": \"rgb(0, 0, 255)\", \"size\": 20}, \"textposition\": \"middle center\", \"x\": [0.3], \"hoverinfo\": \"none\", \"textfont\": {\"color\": \"rgb(255, 255, 255)\"}, \"text\": [\"1\"]}, {\"y\": [0.0], \"mode\": \"markers+text\", \"marker\": {\"line\": {\"width\": 2, \"color\": \"rgb(0, 0, 0)\"}, \"color\": \"rgb(255, 0, 0)\", \"size\": 20}, \"textposition\": \"middle center\", \"x\": [0.7], \"hoverinfo\": \"none\", \"textfont\": {\"color\": \"rgb(255, 255, 255)\"}, \"text\": [\"2\"]}, {\"y\": [0.0], \"mode\": \"markers+text\", \"marker\": {\"line\": {\"width\": 2, \"color\": \"rgb(0, 0, 0)\"}, \"color\": \"rgb(255, 255, 255)\", \"size\": 20}, \"textposition\": \"middle center\", \"x\": [1.0], \"hoverinfo\": \"none\", \"textfont\": {\"color\": \"rgb(0, 0, 0)\"}, \"text\": [\"\\u221e\"]}], \"name\": 37}, {\"data\": [{\"y\": [1.0, 1.0, null], \"mode\": \"lines\", \"x\": [0.0, 0.3, null], \"line\": {\"width\": 2, \"color\": \"rgb(0, 0, 0)\"}, \"hoverinfo\": \"none\"}, {\"y\": [1.0, 0.0, null], \"mode\": \"lines\", \"x\": [0.0, 0.0, null], \"line\": {\"width\": 2, \"color\": \"rgb(0, 0, 0)\"}, \"hoverinfo\": \"none\"}, {\"y\": [1.0, 0.0, null], \"mode\": \"lines\", \"x\": [0.3, 0.3, null], \"line\": {\"width\": 2, \"color\": \"rgb(0, 0, 0)\"}, \"hoverinfo\": \"none\"}, {\"y\": [1.0, 1.0, null], \"mode\": \"lines\", \"x\": [0.7, 1.0, null], \"line\": {\"width\": 2, \"color\": \"rgb(0, 0, 0)\"}, \"hoverinfo\": \"none\"}, {\"y\": [1.0, 0.0, null], \"mode\": \"lines\", \"x\": [0.7, 0.3, null], \"line\": {\"width\": 2, \"color\": \"rgb(0, 0, 0)\"}, \"hoverinfo\": \"none\"}, {\"y\": [1.0, 0.0, null], \"mode\": \"lines\", \"x\": [0.7, 0.7, null], \"line\": {\"width\": 2, \"color\": \"rgb(0, 0, 0)\"}, \"hoverinfo\": \"none\"}, {\"y\": [1.0, 0.0, null], \"mode\": \"lines\", \"x\": [1.0, 0.7, null], \"line\": {\"width\": 2, \"color\": \"rgb(0, 0, 0)\"}, \"hoverinfo\": \"none\"}, {\"y\": [1.0, 0.0, null], \"mode\": \"lines\", \"x\": [1.0, 1.0, null], \"line\": {\"width\": 2, \"color\": \"rgb(0, 0, 0)\"}, \"hoverinfo\": \"none\"}, {\"y\": [0.0, 0.0, null], \"mode\": \"lines\", \"x\": [0.3, 0.7, null], \"line\": {\"width\": 2, \"color\": \"rgb(255, 0, 0)\"}, \"hoverinfo\": \"none\"}, {\"y\": [0.0, 0.0, null], \"mode\": \"lines\", \"x\": [0.7, 1.0, null], \"line\": {\"width\": 2, \"color\": \"rgb(0, 0, 0)\"}, \"hoverinfo\": \"none\"}, {\"y\": [1.0], \"mode\": \"markers+text\", \"marker\": {\"line\": {\"width\": 2, \"color\": \"rgb(0, 0, 0)\"}, \"color\": \"rgb(0, 0, 255)\", \"size\": 20}, \"textposition\": \"middle center\", \"x\": [0.0], \"hoverinfo\": \"none\", \"textfont\": {\"color\": \"rgb(255, 255, 255)\"}, \"text\": [\"1\"]}, {\"y\": [1.0], \"mode\": \"markers+text\", \"marker\": {\"line\": {\"width\": 2, \"color\": \"rgb(0, 0, 0)\"}, \"color\": \"rgb(0, 0, 255)\", \"size\": 20}, \"textposition\": \"middle center\", \"x\": [0.3], \"hoverinfo\": \"none\", \"textfont\": {\"color\": \"rgb(255, 255, 255)\"}, \"text\": [\"0\"]}, {\"y\": [1.0], \"mode\": \"markers+text\", \"marker\": {\"line\": {\"width\": 2, \"color\": \"rgb(0, 0, 0)\"}, \"color\": \"rgb(0, 0, 255)\", \"size\": 20}, \"textposition\": \"middle center\", \"x\": [0.7], \"hoverinfo\": \"none\", \"textfont\": {\"color\": \"rgb(255, 255, 255)\"}, \"text\": [\"2\"]}, {\"y\": [1.0], \"mode\": \"markers+text\", \"marker\": {\"line\": {\"width\": 2, \"color\": \"rgb(0, 0, 0)\"}, \"color\": \"rgb(255, 255, 255)\", \"size\": 20}, \"textposition\": \"middle center\", \"x\": [1.0], \"hoverinfo\": \"none\", \"textfont\": {\"color\": \"rgb(0, 0, 0)\"}, \"text\": [\"3\"]}, {\"y\": [0.0], \"mode\": \"markers+text\", \"marker\": {\"line\": {\"width\": 2, \"color\": \"rgb(0, 0, 0)\"}, \"color\": \"rgb(0, 0, 255)\", \"size\": 20}, \"textposition\": \"middle center\", \"x\": [0.0], \"hoverinfo\": \"none\", \"textfont\": {\"color\": \"rgb(255, 255, 255)\"}, \"text\": [\"2\"]}, {\"y\": [0.0], \"mode\": \"markers+text\", \"marker\": {\"line\": {\"width\": 2, \"color\": \"rgb(0, 0, 0)\"}, \"color\": \"rgb(0, 0, 255)\", \"size\": 20}, \"textposition\": \"middle center\", \"x\": [0.3], \"hoverinfo\": \"none\", \"textfont\": {\"color\": \"rgb(255, 255, 255)\"}, \"text\": [\"1\"]}, {\"y\": [0.0], \"mode\": \"markers+text\", \"marker\": {\"line\": {\"width\": 2, \"color\": \"rgb(0, 0, 0)\"}, \"color\": \"rgb(255, 0, 0)\", \"size\": 20}, \"textposition\": \"middle center\", \"x\": [0.7], \"hoverinfo\": \"none\", \"textfont\": {\"color\": \"rgb(255, 255, 255)\"}, \"text\": [\"2\"]}, {\"y\": [0.0], \"mode\": \"markers+text\", \"marker\": {\"line\": {\"width\": 2, \"color\": \"rgb(0, 0, 0)\"}, \"color\": \"rgb(255, 255, 255)\", \"size\": 20}, \"textposition\": \"middle center\", \"x\": [1.0], \"hoverinfo\": \"none\", \"textfont\": {\"color\": \"rgb(0, 0, 0)\"}, \"text\": [\"\\u221e\"]}], \"name\": 38}, {\"data\": [{\"y\": [1.0, 1.0, null], \"mode\": \"lines\", \"x\": [0.0, 0.3, null], \"line\": {\"width\": 2, \"color\": \"rgb(0, 0, 0)\"}, \"hoverinfo\": \"none\"}, {\"y\": [1.0, 0.0, null], \"mode\": \"lines\", \"x\": [0.0, 0.0, null], \"line\": {\"width\": 2, \"color\": \"rgb(0, 0, 0)\"}, \"hoverinfo\": \"none\"}, {\"y\": [1.0, 0.0, null], \"mode\": \"lines\", \"x\": [0.3, 0.3, null], \"line\": {\"width\": 2, \"color\": \"rgb(0, 0, 0)\"}, \"hoverinfo\": \"none\"}, {\"y\": [1.0, 1.0, null], \"mode\": \"lines\", \"x\": [0.7, 1.0, null], \"line\": {\"width\": 2, \"color\": \"rgb(0, 0, 0)\"}, \"hoverinfo\": \"none\"}, {\"y\": [1.0, 0.0, null], \"mode\": \"lines\", \"x\": [0.7, 0.3, null], \"line\": {\"width\": 2, \"color\": \"rgb(0, 0, 0)\"}, \"hoverinfo\": \"none\"}, {\"y\": [1.0, 0.0, null], \"mode\": \"lines\", \"x\": [0.7, 0.7, null], \"line\": {\"width\": 2, \"color\": \"rgb(0, 0, 0)\"}, \"hoverinfo\": \"none\"}, {\"y\": [1.0, 0.0, null], \"mode\": \"lines\", \"x\": [1.0, 0.7, null], \"line\": {\"width\": 2, \"color\": \"rgb(0, 0, 0)\"}, \"hoverinfo\": \"none\"}, {\"y\": [1.0, 0.0, null], \"mode\": \"lines\", \"x\": [1.0, 1.0, null], \"line\": {\"width\": 2, \"color\": \"rgb(0, 0, 0)\"}, \"hoverinfo\": \"none\"}, {\"y\": [0.0, 0.0, null], \"mode\": \"lines\", \"x\": [0.3, 0.7, null], \"line\": {\"width\": 2, \"color\": \"rgb(0, 0, 0)\"}, \"hoverinfo\": \"none\"}, {\"y\": [0.0, 0.0, null], \"mode\": \"lines\", \"x\": [0.7, 1.0, null], \"line\": {\"width\": 2, \"color\": \"rgb(0, 0, 0)\"}, \"hoverinfo\": \"none\"}, {\"y\": [1.0], \"mode\": \"markers+text\", \"marker\": {\"line\": {\"width\": 2, \"color\": \"rgb(0, 0, 0)\"}, \"color\": \"rgb(0, 0, 255)\", \"size\": 20}, \"textposition\": \"middle center\", \"x\": [0.0], \"hoverinfo\": \"none\", \"textfont\": {\"color\": \"rgb(255, 255, 255)\"}, \"text\": [\"1\"]}, {\"y\": [1.0], \"mode\": \"markers+text\", \"marker\": {\"line\": {\"width\": 2, \"color\": \"rgb(0, 0, 0)\"}, \"color\": \"rgb(0, 0, 255)\", \"size\": 20}, \"textposition\": \"middle center\", \"x\": [0.3], \"hoverinfo\": \"none\", \"textfont\": {\"color\": \"rgb(255, 255, 255)\"}, \"text\": [\"0\"]}, {\"y\": [1.0], \"mode\": \"markers+text\", \"marker\": {\"line\": {\"width\": 2, \"color\": \"rgb(0, 0, 0)\"}, \"color\": \"rgb(0, 0, 255)\", \"size\": 20}, \"textposition\": \"middle center\", \"x\": [0.7], \"hoverinfo\": \"none\", \"textfont\": {\"color\": \"rgb(255, 255, 255)\"}, \"text\": [\"2\"]}, {\"y\": [1.0], \"mode\": \"markers+text\", \"marker\": {\"line\": {\"width\": 2, \"color\": \"rgb(0, 0, 0)\"}, \"color\": \"rgb(255, 255, 255)\", \"size\": 20}, \"textposition\": \"middle center\", \"x\": [1.0], \"hoverinfo\": \"none\", \"textfont\": {\"color\": \"rgb(0, 0, 0)\"}, \"text\": [\"3\"]}, {\"y\": [0.0], \"mode\": \"markers+text\", \"marker\": {\"line\": {\"width\": 2, \"color\": \"rgb(0, 0, 0)\"}, \"color\": \"rgb(0, 0, 255)\", \"size\": 20}, \"textposition\": \"middle center\", \"x\": [0.0], \"hoverinfo\": \"none\", \"textfont\": {\"color\": \"rgb(255, 255, 255)\"}, \"text\": [\"2\"]}, {\"y\": [0.0], \"mode\": \"markers+text\", \"marker\": {\"line\": {\"width\": 2, \"color\": \"rgb(0, 0, 0)\"}, \"color\": \"rgb(0, 0, 255)\", \"size\": 20}, \"textposition\": \"middle center\", \"x\": [0.3], \"hoverinfo\": \"none\", \"textfont\": {\"color\": \"rgb(255, 255, 255)\"}, \"text\": [\"1\"]}, {\"y\": [0.0], \"mode\": \"markers+text\", \"marker\": {\"line\": {\"width\": 2, \"color\": \"rgb(0, 0, 0)\"}, \"color\": \"rgb(255, 0, 0)\", \"size\": 20}, \"textposition\": \"middle center\", \"x\": [0.7], \"hoverinfo\": \"none\", \"textfont\": {\"color\": \"rgb(255, 255, 255)\"}, \"text\": [\"2\"]}, {\"y\": [0.0], \"mode\": \"markers+text\", \"marker\": {\"line\": {\"width\": 2, \"color\": \"rgb(0, 0, 0)\"}, \"color\": \"rgb(255, 255, 255)\", \"size\": 20}, \"textposition\": \"middle center\", \"x\": [1.0], \"hoverinfo\": \"none\", \"textfont\": {\"color\": \"rgb(0, 0, 0)\"}, \"text\": [\"\\u221e\"]}], \"name\": 39}, {\"data\": [{\"y\": [1.0, 1.0, null], \"mode\": \"lines\", \"x\": [0.0, 0.3, null], \"line\": {\"width\": 2, \"color\": \"rgb(0, 0, 0)\"}, \"hoverinfo\": \"none\"}, {\"y\": [1.0, 0.0, null], \"mode\": \"lines\", \"x\": [0.0, 0.0, null], \"line\": {\"width\": 2, \"color\": \"rgb(0, 0, 0)\"}, \"hoverinfo\": \"none\"}, {\"y\": [1.0, 0.0, null], \"mode\": \"lines\", \"x\": [0.3, 0.3, null], \"line\": {\"width\": 2, \"color\": \"rgb(0, 0, 0)\"}, \"hoverinfo\": \"none\"}, {\"y\": [1.0, 1.0, null], \"mode\": \"lines\", \"x\": [0.7, 1.0, null], \"line\": {\"width\": 2, \"color\": \"rgb(0, 0, 0)\"}, \"hoverinfo\": \"none\"}, {\"y\": [1.0, 0.0, null], \"mode\": \"lines\", \"x\": [0.7, 0.3, null], \"line\": {\"width\": 2, \"color\": \"rgb(0, 0, 0)\"}, \"hoverinfo\": \"none\"}, {\"y\": [1.0, 0.0, null], \"mode\": \"lines\", \"x\": [0.7, 0.7, null], \"line\": {\"width\": 2, \"color\": \"rgb(0, 0, 0)\"}, \"hoverinfo\": \"none\"}, {\"y\": [1.0, 0.0, null], \"mode\": \"lines\", \"x\": [1.0, 0.7, null], \"line\": {\"width\": 2, \"color\": \"rgb(0, 0, 0)\"}, \"hoverinfo\": \"none\"}, {\"y\": [1.0, 0.0, null], \"mode\": \"lines\", \"x\": [1.0, 1.0, null], \"line\": {\"width\": 2, \"color\": \"rgb(0, 0, 0)\"}, \"hoverinfo\": \"none\"}, {\"y\": [0.0, 0.0, null], \"mode\": \"lines\", \"x\": [0.3, 0.7, null], \"line\": {\"width\": 2, \"color\": \"rgb(0, 0, 0)\"}, \"hoverinfo\": \"none\"}, {\"y\": [0.0, 0.0, null], \"mode\": \"lines\", \"x\": [0.7, 1.0, null], \"line\": {\"width\": 2, \"color\": \"rgb(255, 0, 0)\"}, \"hoverinfo\": \"none\"}, {\"y\": [1.0], \"mode\": \"markers+text\", \"marker\": {\"line\": {\"width\": 2, \"color\": \"rgb(0, 0, 0)\"}, \"color\": \"rgb(0, 0, 255)\", \"size\": 20}, \"textposition\": \"middle center\", \"x\": [0.0], \"hoverinfo\": \"none\", \"textfont\": {\"color\": \"rgb(255, 255, 255)\"}, \"text\": [\"1\"]}, {\"y\": [1.0], \"mode\": \"markers+text\", \"marker\": {\"line\": {\"width\": 2, \"color\": \"rgb(0, 0, 0)\"}, \"color\": \"rgb(0, 0, 255)\", \"size\": 20}, \"textposition\": \"middle center\", \"x\": [0.3], \"hoverinfo\": \"none\", \"textfont\": {\"color\": \"rgb(255, 255, 255)\"}, \"text\": [\"0\"]}, {\"y\": [1.0], \"mode\": \"markers+text\", \"marker\": {\"line\": {\"width\": 2, \"color\": \"rgb(0, 0, 0)\"}, \"color\": \"rgb(0, 0, 255)\", \"size\": 20}, \"textposition\": \"middle center\", \"x\": [0.7], \"hoverinfo\": \"none\", \"textfont\": {\"color\": \"rgb(255, 255, 255)\"}, \"text\": [\"2\"]}, {\"y\": [1.0], \"mode\": \"markers+text\", \"marker\": {\"line\": {\"width\": 2, \"color\": \"rgb(0, 0, 0)\"}, \"color\": \"rgb(255, 255, 255)\", \"size\": 20}, \"textposition\": \"middle center\", \"x\": [1.0], \"hoverinfo\": \"none\", \"textfont\": {\"color\": \"rgb(0, 0, 0)\"}, \"text\": [\"3\"]}, {\"y\": [0.0], \"mode\": \"markers+text\", \"marker\": {\"line\": {\"width\": 2, \"color\": \"rgb(0, 0, 0)\"}, \"color\": \"rgb(0, 0, 255)\", \"size\": 20}, \"textposition\": \"middle center\", \"x\": [0.0], \"hoverinfo\": \"none\", \"textfont\": {\"color\": \"rgb(255, 255, 255)\"}, \"text\": [\"2\"]}, {\"y\": [0.0], \"mode\": \"markers+text\", \"marker\": {\"line\": {\"width\": 2, \"color\": \"rgb(0, 0, 0)\"}, \"color\": \"rgb(0, 0, 255)\", \"size\": 20}, \"textposition\": \"middle center\", \"x\": [0.3], \"hoverinfo\": \"none\", \"textfont\": {\"color\": \"rgb(255, 255, 255)\"}, \"text\": [\"1\"]}, {\"y\": [0.0], \"mode\": \"markers+text\", \"marker\": {\"line\": {\"width\": 2, \"color\": \"rgb(0, 0, 0)\"}, \"color\": \"rgb(255, 0, 0)\", \"size\": 20}, \"textposition\": \"middle center\", \"x\": [0.7], \"hoverinfo\": \"none\", \"textfont\": {\"color\": \"rgb(255, 255, 255)\"}, \"text\": [\"2\"]}, {\"y\": [0.0], \"mode\": \"markers+text\", \"marker\": {\"line\": {\"width\": 2, \"color\": \"rgb(0, 0, 0)\"}, \"color\": \"rgb(255, 255, 255)\", \"size\": 20}, \"textposition\": \"middle center\", \"x\": [1.0], \"hoverinfo\": \"none\", \"textfont\": {\"color\": \"rgb(0, 0, 0)\"}, \"text\": [\"\\u221e\"]}], \"name\": 40}, {\"data\": [{\"y\": [1.0, 1.0, null], \"mode\": \"lines\", \"x\": [0.0, 0.3, null], \"line\": {\"width\": 2, \"color\": \"rgb(0, 0, 0)\"}, \"hoverinfo\": \"none\"}, {\"y\": [1.0, 0.0, null], \"mode\": \"lines\", \"x\": [0.0, 0.0, null], \"line\": {\"width\": 2, \"color\": \"rgb(0, 0, 0)\"}, \"hoverinfo\": \"none\"}, {\"y\": [1.0, 0.0, null], \"mode\": \"lines\", \"x\": [0.3, 0.3, null], \"line\": {\"width\": 2, \"color\": \"rgb(0, 0, 0)\"}, \"hoverinfo\": \"none\"}, {\"y\": [1.0, 1.0, null], \"mode\": \"lines\", \"x\": [0.7, 1.0, null], \"line\": {\"width\": 2, \"color\": \"rgb(0, 0, 0)\"}, \"hoverinfo\": \"none\"}, {\"y\": [1.0, 0.0, null], \"mode\": \"lines\", \"x\": [0.7, 0.3, null], \"line\": {\"width\": 2, \"color\": \"rgb(0, 0, 0)\"}, \"hoverinfo\": \"none\"}, {\"y\": [1.0, 0.0, null], \"mode\": \"lines\", \"x\": [0.7, 0.7, null], \"line\": {\"width\": 2, \"color\": \"rgb(0, 0, 0)\"}, \"hoverinfo\": \"none\"}, {\"y\": [1.0, 0.0, null], \"mode\": \"lines\", \"x\": [1.0, 0.7, null], \"line\": {\"width\": 2, \"color\": \"rgb(0, 0, 0)\"}, \"hoverinfo\": \"none\"}, {\"y\": [1.0, 0.0, null], \"mode\": \"lines\", \"x\": [1.0, 1.0, null], \"line\": {\"width\": 2, \"color\": \"rgb(0, 0, 0)\"}, \"hoverinfo\": \"none\"}, {\"y\": [0.0, 0.0, null], \"mode\": \"lines\", \"x\": [0.3, 0.7, null], \"line\": {\"width\": 2, \"color\": \"rgb(0, 0, 0)\"}, \"hoverinfo\": \"none\"}, {\"y\": [0.0, 0.0, null], \"mode\": \"lines\", \"x\": [0.7, 1.0, null], \"line\": {\"width\": 2, \"color\": \"rgb(0, 0, 0)\"}, \"hoverinfo\": \"none\"}, {\"y\": [1.0], \"mode\": \"markers+text\", \"marker\": {\"line\": {\"width\": 2, \"color\": \"rgb(0, 0, 0)\"}, \"color\": \"rgb(0, 0, 255)\", \"size\": 20}, \"textposition\": \"middle center\", \"x\": [0.0], \"hoverinfo\": \"none\", \"textfont\": {\"color\": \"rgb(255, 255, 255)\"}, \"text\": [\"1\"]}, {\"y\": [1.0], \"mode\": \"markers+text\", \"marker\": {\"line\": {\"width\": 2, \"color\": \"rgb(0, 0, 0)\"}, \"color\": \"rgb(0, 0, 255)\", \"size\": 20}, \"textposition\": \"middle center\", \"x\": [0.3], \"hoverinfo\": \"none\", \"textfont\": {\"color\": \"rgb(255, 255, 255)\"}, \"text\": [\"0\"]}, {\"y\": [1.0], \"mode\": \"markers+text\", \"marker\": {\"line\": {\"width\": 2, \"color\": \"rgb(0, 0, 0)\"}, \"color\": \"rgb(0, 0, 255)\", \"size\": 20}, \"textposition\": \"middle center\", \"x\": [0.7], \"hoverinfo\": \"none\", \"textfont\": {\"color\": \"rgb(255, 255, 255)\"}, \"text\": [\"2\"]}, {\"y\": [1.0], \"mode\": \"markers+text\", \"marker\": {\"line\": {\"width\": 2, \"color\": \"rgb(0, 0, 0)\"}, \"color\": \"rgb(255, 255, 255)\", \"size\": 20}, \"textposition\": \"middle center\", \"x\": [1.0], \"hoverinfo\": \"none\", \"textfont\": {\"color\": \"rgb(0, 0, 0)\"}, \"text\": [\"3\"]}, {\"y\": [0.0], \"mode\": \"markers+text\", \"marker\": {\"line\": {\"width\": 2, \"color\": \"rgb(0, 0, 0)\"}, \"color\": \"rgb(0, 0, 255)\", \"size\": 20}, \"textposition\": \"middle center\", \"x\": [0.0], \"hoverinfo\": \"none\", \"textfont\": {\"color\": \"rgb(255, 255, 255)\"}, \"text\": [\"2\"]}, {\"y\": [0.0], \"mode\": \"markers+text\", \"marker\": {\"line\": {\"width\": 2, \"color\": \"rgb(0, 0, 0)\"}, \"color\": \"rgb(0, 0, 255)\", \"size\": 20}, \"textposition\": \"middle center\", \"x\": [0.3], \"hoverinfo\": \"none\", \"textfont\": {\"color\": \"rgb(255, 255, 255)\"}, \"text\": [\"1\"]}, {\"y\": [0.0], \"mode\": \"markers+text\", \"marker\": {\"line\": {\"width\": 2, \"color\": \"rgb(0, 0, 0)\"}, \"color\": \"rgb(255, 0, 0)\", \"size\": 20}, \"textposition\": \"middle center\", \"x\": [0.7], \"hoverinfo\": \"none\", \"textfont\": {\"color\": \"rgb(255, 255, 255)\"}, \"text\": [\"2\"]}, {\"y\": [0.0], \"mode\": \"markers+text\", \"marker\": {\"line\": {\"width\": 2, \"color\": \"rgb(0, 0, 0)\"}, \"color\": \"rgb(255, 255, 255)\", \"size\": 20}, \"textposition\": \"middle center\", \"x\": [1.0], \"hoverinfo\": \"none\", \"textfont\": {\"color\": \"rgb(0, 0, 0)\"}, \"text\": [\"3\"]}], \"name\": 41}, {\"data\": [{\"y\": [1.0, 1.0, null], \"mode\": \"lines\", \"x\": [0.0, 0.3, null], \"line\": {\"width\": 2, \"color\": \"rgb(0, 0, 0)\"}, \"hoverinfo\": \"none\"}, {\"y\": [1.0, 0.0, null], \"mode\": \"lines\", \"x\": [0.0, 0.0, null], \"line\": {\"width\": 2, \"color\": \"rgb(0, 0, 0)\"}, \"hoverinfo\": \"none\"}, {\"y\": [1.0, 0.0, null], \"mode\": \"lines\", \"x\": [0.3, 0.3, null], \"line\": {\"width\": 2, \"color\": \"rgb(0, 0, 0)\"}, \"hoverinfo\": \"none\"}, {\"y\": [1.0, 1.0, null], \"mode\": \"lines\", \"x\": [0.7, 1.0, null], \"line\": {\"width\": 2, \"color\": \"rgb(0, 0, 0)\"}, \"hoverinfo\": \"none\"}, {\"y\": [1.0, 0.0, null], \"mode\": \"lines\", \"x\": [0.7, 0.3, null], \"line\": {\"width\": 2, \"color\": \"rgb(0, 0, 0)\"}, \"hoverinfo\": \"none\"}, {\"y\": [1.0, 0.0, null], \"mode\": \"lines\", \"x\": [0.7, 0.7, null], \"line\": {\"width\": 2, \"color\": \"rgb(0, 0, 0)\"}, \"hoverinfo\": \"none\"}, {\"y\": [1.0, 0.0, null], \"mode\": \"lines\", \"x\": [1.0, 0.7, null], \"line\": {\"width\": 2, \"color\": \"rgb(0, 0, 0)\"}, \"hoverinfo\": \"none\"}, {\"y\": [1.0, 0.0, null], \"mode\": \"lines\", \"x\": [1.0, 1.0, null], \"line\": {\"width\": 2, \"color\": \"rgb(0, 0, 0)\"}, \"hoverinfo\": \"none\"}, {\"y\": [0.0, 0.0, null], \"mode\": \"lines\", \"x\": [0.3, 0.7, null], \"line\": {\"width\": 2, \"color\": \"rgb(0, 0, 0)\"}, \"hoverinfo\": \"none\"}, {\"y\": [0.0, 0.0, null], \"mode\": \"lines\", \"x\": [0.7, 1.0, null], \"line\": {\"width\": 2, \"color\": \"rgb(0, 0, 0)\"}, \"hoverinfo\": \"none\"}, {\"y\": [1.0], \"mode\": \"markers+text\", \"marker\": {\"line\": {\"width\": 2, \"color\": \"rgb(0, 0, 0)\"}, \"color\": \"rgb(0, 0, 255)\", \"size\": 20}, \"textposition\": \"middle center\", \"x\": [0.0], \"hoverinfo\": \"none\", \"textfont\": {\"color\": \"rgb(255, 255, 255)\"}, \"text\": [\"1\"]}, {\"y\": [1.0], \"mode\": \"markers+text\", \"marker\": {\"line\": {\"width\": 2, \"color\": \"rgb(0, 0, 0)\"}, \"color\": \"rgb(0, 0, 255)\", \"size\": 20}, \"textposition\": \"middle center\", \"x\": [0.3], \"hoverinfo\": \"none\", \"textfont\": {\"color\": \"rgb(255, 255, 255)\"}, \"text\": [\"0\"]}, {\"y\": [1.0], \"mode\": \"markers+text\", \"marker\": {\"line\": {\"width\": 2, \"color\": \"rgb(0, 0, 0)\"}, \"color\": \"rgb(0, 0, 255)\", \"size\": 20}, \"textposition\": \"middle center\", \"x\": [0.7], \"hoverinfo\": \"none\", \"textfont\": {\"color\": \"rgb(255, 255, 255)\"}, \"text\": [\"2\"]}, {\"y\": [1.0], \"mode\": \"markers+text\", \"marker\": {\"line\": {\"width\": 2, \"color\": \"rgb(0, 0, 0)\"}, \"color\": \"rgb(255, 255, 255)\", \"size\": 20}, \"textposition\": \"middle center\", \"x\": [1.0], \"hoverinfo\": \"none\", \"textfont\": {\"color\": \"rgb(0, 0, 0)\"}, \"text\": [\"3\"]}, {\"y\": [0.0], \"mode\": \"markers+text\", \"marker\": {\"line\": {\"width\": 2, \"color\": \"rgb(0, 0, 0)\"}, \"color\": \"rgb(0, 0, 255)\", \"size\": 20}, \"textposition\": \"middle center\", \"x\": [0.0], \"hoverinfo\": \"none\", \"textfont\": {\"color\": \"rgb(255, 255, 255)\"}, \"text\": [\"2\"]}, {\"y\": [0.0], \"mode\": \"markers+text\", \"marker\": {\"line\": {\"width\": 2, \"color\": \"rgb(0, 0, 0)\"}, \"color\": \"rgb(0, 0, 255)\", \"size\": 20}, \"textposition\": \"middle center\", \"x\": [0.3], \"hoverinfo\": \"none\", \"textfont\": {\"color\": \"rgb(255, 255, 255)\"}, \"text\": [\"1\"]}, {\"y\": [0.0], \"mode\": \"markers+text\", \"marker\": {\"line\": {\"width\": 2, \"color\": \"rgb(0, 0, 0)\"}, \"color\": \"rgb(0, 0, 255)\", \"size\": 20}, \"textposition\": \"middle center\", \"x\": [0.7], \"hoverinfo\": \"none\", \"textfont\": {\"color\": \"rgb(255, 255, 255)\"}, \"text\": [\"2\"]}, {\"y\": [0.0], \"mode\": \"markers+text\", \"marker\": {\"line\": {\"width\": 2, \"color\": \"rgb(0, 0, 0)\"}, \"color\": \"rgb(255, 255, 255)\", \"size\": 20}, \"textposition\": \"middle center\", \"x\": [1.0], \"hoverinfo\": \"none\", \"textfont\": {\"color\": \"rgb(0, 0, 0)\"}, \"text\": [\"3\"]}], \"name\": 42}, {\"data\": [{\"y\": [1.0, 1.0, null], \"mode\": \"lines\", \"x\": [0.0, 0.3, null], \"line\": {\"width\": 2, \"color\": \"rgb(0, 0, 0)\"}, \"hoverinfo\": \"none\"}, {\"y\": [1.0, 0.0, null], \"mode\": \"lines\", \"x\": [0.0, 0.0, null], \"line\": {\"width\": 2, \"color\": \"rgb(0, 0, 0)\"}, \"hoverinfo\": \"none\"}, {\"y\": [1.0, 0.0, null], \"mode\": \"lines\", \"x\": [0.3, 0.3, null], \"line\": {\"width\": 2, \"color\": \"rgb(0, 0, 0)\"}, \"hoverinfo\": \"none\"}, {\"y\": [1.0, 1.0, null], \"mode\": \"lines\", \"x\": [0.7, 1.0, null], \"line\": {\"width\": 2, \"color\": \"rgb(0, 0, 0)\"}, \"hoverinfo\": \"none\"}, {\"y\": [1.0, 0.0, null], \"mode\": \"lines\", \"x\": [0.7, 0.3, null], \"line\": {\"width\": 2, \"color\": \"rgb(0, 0, 0)\"}, \"hoverinfo\": \"none\"}, {\"y\": [1.0, 0.0, null], \"mode\": \"lines\", \"x\": [0.7, 0.7, null], \"line\": {\"width\": 2, \"color\": \"rgb(0, 0, 0)\"}, \"hoverinfo\": \"none\"}, {\"y\": [1.0, 0.0, null], \"mode\": \"lines\", \"x\": [1.0, 0.7, null], \"line\": {\"width\": 2, \"color\": \"rgb(0, 0, 0)\"}, \"hoverinfo\": \"none\"}, {\"y\": [1.0, 0.0, null], \"mode\": \"lines\", \"x\": [1.0, 1.0, null], \"line\": {\"width\": 2, \"color\": \"rgb(0, 0, 0)\"}, \"hoverinfo\": \"none\"}, {\"y\": [0.0, 0.0, null], \"mode\": \"lines\", \"x\": [0.3, 0.7, null], \"line\": {\"width\": 2, \"color\": \"rgb(0, 0, 0)\"}, \"hoverinfo\": \"none\"}, {\"y\": [0.0, 0.0, null], \"mode\": \"lines\", \"x\": [0.7, 1.0, null], \"line\": {\"width\": 2, \"color\": \"rgb(0, 0, 0)\"}, \"hoverinfo\": \"none\"}, {\"y\": [1.0], \"mode\": \"markers+text\", \"marker\": {\"line\": {\"width\": 2, \"color\": \"rgb(0, 0, 0)\"}, \"color\": \"rgb(0, 0, 255)\", \"size\": 20}, \"textposition\": \"middle center\", \"x\": [0.0], \"hoverinfo\": \"none\", \"textfont\": {\"color\": \"rgb(255, 255, 255)\"}, \"text\": [\"1\"]}, {\"y\": [1.0], \"mode\": \"markers+text\", \"marker\": {\"line\": {\"width\": 2, \"color\": \"rgb(0, 0, 0)\"}, \"color\": \"rgb(0, 0, 255)\", \"size\": 20}, \"textposition\": \"middle center\", \"x\": [0.3], \"hoverinfo\": \"none\", \"textfont\": {\"color\": \"rgb(255, 255, 255)\"}, \"text\": [\"0\"]}, {\"y\": [1.0], \"mode\": \"markers+text\", \"marker\": {\"line\": {\"width\": 2, \"color\": \"rgb(0, 0, 0)\"}, \"color\": \"rgb(0, 0, 255)\", \"size\": 20}, \"textposition\": \"middle center\", \"x\": [0.7], \"hoverinfo\": \"none\", \"textfont\": {\"color\": \"rgb(255, 255, 255)\"}, \"text\": [\"2\"]}, {\"y\": [1.0], \"mode\": \"markers+text\", \"marker\": {\"line\": {\"width\": 2, \"color\": \"rgb(0, 0, 0)\"}, \"color\": \"rgb(255, 0, 0)\", \"size\": 20}, \"textposition\": \"middle center\", \"x\": [1.0], \"hoverinfo\": \"none\", \"textfont\": {\"color\": \"rgb(255, 255, 255)\"}, \"text\": [\"3\"]}, {\"y\": [0.0], \"mode\": \"markers+text\", \"marker\": {\"line\": {\"width\": 2, \"color\": \"rgb(0, 0, 0)\"}, \"color\": \"rgb(0, 0, 255)\", \"size\": 20}, \"textposition\": \"middle center\", \"x\": [0.0], \"hoverinfo\": \"none\", \"textfont\": {\"color\": \"rgb(255, 255, 255)\"}, \"text\": [\"2\"]}, {\"y\": [0.0], \"mode\": \"markers+text\", \"marker\": {\"line\": {\"width\": 2, \"color\": \"rgb(0, 0, 0)\"}, \"color\": \"rgb(0, 0, 255)\", \"size\": 20}, \"textposition\": \"middle center\", \"x\": [0.3], \"hoverinfo\": \"none\", \"textfont\": {\"color\": \"rgb(255, 255, 255)\"}, \"text\": [\"1\"]}, {\"y\": [0.0], \"mode\": \"markers+text\", \"marker\": {\"line\": {\"width\": 2, \"color\": \"rgb(0, 0, 0)\"}, \"color\": \"rgb(0, 0, 255)\", \"size\": 20}, \"textposition\": \"middle center\", \"x\": [0.7], \"hoverinfo\": \"none\", \"textfont\": {\"color\": \"rgb(255, 255, 255)\"}, \"text\": [\"2\"]}, {\"y\": [0.0], \"mode\": \"markers+text\", \"marker\": {\"line\": {\"width\": 2, \"color\": \"rgb(0, 0, 0)\"}, \"color\": \"rgb(255, 255, 255)\", \"size\": 20}, \"textposition\": \"middle center\", \"x\": [1.0], \"hoverinfo\": \"none\", \"textfont\": {\"color\": \"rgb(0, 0, 0)\"}, \"text\": [\"3\"]}], \"name\": 43}, {\"data\": [{\"y\": [1.0, 1.0, null], \"mode\": \"lines\", \"x\": [0.0, 0.3, null], \"line\": {\"width\": 2, \"color\": \"rgb(0, 0, 0)\"}, \"hoverinfo\": \"none\"}, {\"y\": [1.0, 0.0, null], \"mode\": \"lines\", \"x\": [0.0, 0.0, null], \"line\": {\"width\": 2, \"color\": \"rgb(0, 0, 0)\"}, \"hoverinfo\": \"none\"}, {\"y\": [1.0, 0.0, null], \"mode\": \"lines\", \"x\": [0.3, 0.3, null], \"line\": {\"width\": 2, \"color\": \"rgb(0, 0, 0)\"}, \"hoverinfo\": \"none\"}, {\"y\": [1.0, 1.0, null], \"mode\": \"lines\", \"x\": [0.7, 1.0, null], \"line\": {\"width\": 2, \"color\": \"rgb(255, 0, 0)\"}, \"hoverinfo\": \"none\"}, {\"y\": [1.0, 0.0, null], \"mode\": \"lines\", \"x\": [0.7, 0.3, null], \"line\": {\"width\": 2, \"color\": \"rgb(0, 0, 0)\"}, \"hoverinfo\": \"none\"}, {\"y\": [1.0, 0.0, null], \"mode\": \"lines\", \"x\": [0.7, 0.7, null], \"line\": {\"width\": 2, \"color\": \"rgb(0, 0, 0)\"}, \"hoverinfo\": \"none\"}, {\"y\": [1.0, 0.0, null], \"mode\": \"lines\", \"x\": [1.0, 0.7, null], \"line\": {\"width\": 2, \"color\": \"rgb(0, 0, 0)\"}, \"hoverinfo\": \"none\"}, {\"y\": [1.0, 0.0, null], \"mode\": \"lines\", \"x\": [1.0, 1.0, null], \"line\": {\"width\": 2, \"color\": \"rgb(0, 0, 0)\"}, \"hoverinfo\": \"none\"}, {\"y\": [0.0, 0.0, null], \"mode\": \"lines\", \"x\": [0.3, 0.7, null], \"line\": {\"width\": 2, \"color\": \"rgb(0, 0, 0)\"}, \"hoverinfo\": \"none\"}, {\"y\": [0.0, 0.0, null], \"mode\": \"lines\", \"x\": [0.7, 1.0, null], \"line\": {\"width\": 2, \"color\": \"rgb(0, 0, 0)\"}, \"hoverinfo\": \"none\"}, {\"y\": [1.0], \"mode\": \"markers+text\", \"marker\": {\"line\": {\"width\": 2, \"color\": \"rgb(0, 0, 0)\"}, \"color\": \"rgb(0, 0, 255)\", \"size\": 20}, \"textposition\": \"middle center\", \"x\": [0.0], \"hoverinfo\": \"none\", \"textfont\": {\"color\": \"rgb(255, 255, 255)\"}, \"text\": [\"1\"]}, {\"y\": [1.0], \"mode\": \"markers+text\", \"marker\": {\"line\": {\"width\": 2, \"color\": \"rgb(0, 0, 0)\"}, \"color\": \"rgb(0, 0, 255)\", \"size\": 20}, \"textposition\": \"middle center\", \"x\": [0.3], \"hoverinfo\": \"none\", \"textfont\": {\"color\": \"rgb(255, 255, 255)\"}, \"text\": [\"0\"]}, {\"y\": [1.0], \"mode\": \"markers+text\", \"marker\": {\"line\": {\"width\": 2, \"color\": \"rgb(0, 0, 0)\"}, \"color\": \"rgb(0, 0, 255)\", \"size\": 20}, \"textposition\": \"middle center\", \"x\": [0.7], \"hoverinfo\": \"none\", \"textfont\": {\"color\": \"rgb(255, 255, 255)\"}, \"text\": [\"2\"]}, {\"y\": [1.0], \"mode\": \"markers+text\", \"marker\": {\"line\": {\"width\": 2, \"color\": \"rgb(0, 0, 0)\"}, \"color\": \"rgb(255, 0, 0)\", \"size\": 20}, \"textposition\": \"middle center\", \"x\": [1.0], \"hoverinfo\": \"none\", \"textfont\": {\"color\": \"rgb(255, 255, 255)\"}, \"text\": [\"3\"]}, {\"y\": [0.0], \"mode\": \"markers+text\", \"marker\": {\"line\": {\"width\": 2, \"color\": \"rgb(0, 0, 0)\"}, \"color\": \"rgb(0, 0, 255)\", \"size\": 20}, \"textposition\": \"middle center\", \"x\": [0.0], \"hoverinfo\": \"none\", \"textfont\": {\"color\": \"rgb(255, 255, 255)\"}, \"text\": [\"2\"]}, {\"y\": [0.0], \"mode\": \"markers+text\", \"marker\": {\"line\": {\"width\": 2, \"color\": \"rgb(0, 0, 0)\"}, \"color\": \"rgb(0, 0, 255)\", \"size\": 20}, \"textposition\": \"middle center\", \"x\": [0.3], \"hoverinfo\": \"none\", \"textfont\": {\"color\": \"rgb(255, 255, 255)\"}, \"text\": [\"1\"]}, {\"y\": [0.0], \"mode\": \"markers+text\", \"marker\": {\"line\": {\"width\": 2, \"color\": \"rgb(0, 0, 0)\"}, \"color\": \"rgb(0, 0, 255)\", \"size\": 20}, \"textposition\": \"middle center\", \"x\": [0.7], \"hoverinfo\": \"none\", \"textfont\": {\"color\": \"rgb(255, 255, 255)\"}, \"text\": [\"2\"]}, {\"y\": [0.0], \"mode\": \"markers+text\", \"marker\": {\"line\": {\"width\": 2, \"color\": \"rgb(0, 0, 0)\"}, \"color\": \"rgb(255, 255, 255)\", \"size\": 20}, \"textposition\": \"middle center\", \"x\": [1.0], \"hoverinfo\": \"none\", \"textfont\": {\"color\": \"rgb(0, 0, 0)\"}, \"text\": [\"3\"]}], \"name\": 44}, {\"data\": [{\"y\": [1.0, 1.0, null], \"mode\": \"lines\", \"x\": [0.0, 0.3, null], \"line\": {\"width\": 2, \"color\": \"rgb(0, 0, 0)\"}, \"hoverinfo\": \"none\"}, {\"y\": [1.0, 0.0, null], \"mode\": \"lines\", \"x\": [0.0, 0.0, null], \"line\": {\"width\": 2, \"color\": \"rgb(0, 0, 0)\"}, \"hoverinfo\": \"none\"}, {\"y\": [1.0, 0.0, null], \"mode\": \"lines\", \"x\": [0.3, 0.3, null], \"line\": {\"width\": 2, \"color\": \"rgb(0, 0, 0)\"}, \"hoverinfo\": \"none\"}, {\"y\": [1.0, 1.0, null], \"mode\": \"lines\", \"x\": [0.7, 1.0, null], \"line\": {\"width\": 2, \"color\": \"rgb(0, 0, 0)\"}, \"hoverinfo\": \"none\"}, {\"y\": [1.0, 0.0, null], \"mode\": \"lines\", \"x\": [0.7, 0.3, null], \"line\": {\"width\": 2, \"color\": \"rgb(0, 0, 0)\"}, \"hoverinfo\": \"none\"}, {\"y\": [1.0, 0.0, null], \"mode\": \"lines\", \"x\": [0.7, 0.7, null], \"line\": {\"width\": 2, \"color\": \"rgb(0, 0, 0)\"}, \"hoverinfo\": \"none\"}, {\"y\": [1.0, 0.0, null], \"mode\": \"lines\", \"x\": [1.0, 0.7, null], \"line\": {\"width\": 2, \"color\": \"rgb(0, 0, 0)\"}, \"hoverinfo\": \"none\"}, {\"y\": [1.0, 0.0, null], \"mode\": \"lines\", \"x\": [1.0, 1.0, null], \"line\": {\"width\": 2, \"color\": \"rgb(0, 0, 0)\"}, \"hoverinfo\": \"none\"}, {\"y\": [0.0, 0.0, null], \"mode\": \"lines\", \"x\": [0.3, 0.7, null], \"line\": {\"width\": 2, \"color\": \"rgb(0, 0, 0)\"}, \"hoverinfo\": \"none\"}, {\"y\": [0.0, 0.0, null], \"mode\": \"lines\", \"x\": [0.7, 1.0, null], \"line\": {\"width\": 2, \"color\": \"rgb(0, 0, 0)\"}, \"hoverinfo\": \"none\"}, {\"y\": [1.0], \"mode\": \"markers+text\", \"marker\": {\"line\": {\"width\": 2, \"color\": \"rgb(0, 0, 0)\"}, \"color\": \"rgb(0, 0, 255)\", \"size\": 20}, \"textposition\": \"middle center\", \"x\": [0.0], \"hoverinfo\": \"none\", \"textfont\": {\"color\": \"rgb(255, 255, 255)\"}, \"text\": [\"1\"]}, {\"y\": [1.0], \"mode\": \"markers+text\", \"marker\": {\"line\": {\"width\": 2, \"color\": \"rgb(0, 0, 0)\"}, \"color\": \"rgb(0, 0, 255)\", \"size\": 20}, \"textposition\": \"middle center\", \"x\": [0.3], \"hoverinfo\": \"none\", \"textfont\": {\"color\": \"rgb(255, 255, 255)\"}, \"text\": [\"0\"]}, {\"y\": [1.0], \"mode\": \"markers+text\", \"marker\": {\"line\": {\"width\": 2, \"color\": \"rgb(0, 0, 0)\"}, \"color\": \"rgb(0, 0, 255)\", \"size\": 20}, \"textposition\": \"middle center\", \"x\": [0.7], \"hoverinfo\": \"none\", \"textfont\": {\"color\": \"rgb(255, 255, 255)\"}, \"text\": [\"2\"]}, {\"y\": [1.0], \"mode\": \"markers+text\", \"marker\": {\"line\": {\"width\": 2, \"color\": \"rgb(0, 0, 0)\"}, \"color\": \"rgb(255, 0, 0)\", \"size\": 20}, \"textposition\": \"middle center\", \"x\": [1.0], \"hoverinfo\": \"none\", \"textfont\": {\"color\": \"rgb(255, 255, 255)\"}, \"text\": [\"3\"]}, {\"y\": [0.0], \"mode\": \"markers+text\", \"marker\": {\"line\": {\"width\": 2, \"color\": \"rgb(0, 0, 0)\"}, \"color\": \"rgb(0, 0, 255)\", \"size\": 20}, \"textposition\": \"middle center\", \"x\": [0.0], \"hoverinfo\": \"none\", \"textfont\": {\"color\": \"rgb(255, 255, 255)\"}, \"text\": [\"2\"]}, {\"y\": [0.0], \"mode\": \"markers+text\", \"marker\": {\"line\": {\"width\": 2, \"color\": \"rgb(0, 0, 0)\"}, \"color\": \"rgb(0, 0, 255)\", \"size\": 20}, \"textposition\": \"middle center\", \"x\": [0.3], \"hoverinfo\": \"none\", \"textfont\": {\"color\": \"rgb(255, 255, 255)\"}, \"text\": [\"1\"]}, {\"y\": [0.0], \"mode\": \"markers+text\", \"marker\": {\"line\": {\"width\": 2, \"color\": \"rgb(0, 0, 0)\"}, \"color\": \"rgb(0, 0, 255)\", \"size\": 20}, \"textposition\": \"middle center\", \"x\": [0.7], \"hoverinfo\": \"none\", \"textfont\": {\"color\": \"rgb(255, 255, 255)\"}, \"text\": [\"2\"]}, {\"y\": [0.0], \"mode\": \"markers+text\", \"marker\": {\"line\": {\"width\": 2, \"color\": \"rgb(0, 0, 0)\"}, \"color\": \"rgb(255, 255, 255)\", \"size\": 20}, \"textposition\": \"middle center\", \"x\": [1.0], \"hoverinfo\": \"none\", \"textfont\": {\"color\": \"rgb(0, 0, 0)\"}, \"text\": [\"3\"]}], \"name\": 45}, {\"data\": [{\"y\": [1.0, 1.0, null], \"mode\": \"lines\", \"x\": [0.0, 0.3, null], \"line\": {\"width\": 2, \"color\": \"rgb(0, 0, 0)\"}, \"hoverinfo\": \"none\"}, {\"y\": [1.0, 0.0, null], \"mode\": \"lines\", \"x\": [0.0, 0.0, null], \"line\": {\"width\": 2, \"color\": \"rgb(0, 0, 0)\"}, \"hoverinfo\": \"none\"}, {\"y\": [1.0, 0.0, null], \"mode\": \"lines\", \"x\": [0.3, 0.3, null], \"line\": {\"width\": 2, \"color\": \"rgb(0, 0, 0)\"}, \"hoverinfo\": \"none\"}, {\"y\": [1.0, 1.0, null], \"mode\": \"lines\", \"x\": [0.7, 1.0, null], \"line\": {\"width\": 2, \"color\": \"rgb(0, 0, 0)\"}, \"hoverinfo\": \"none\"}, {\"y\": [1.0, 0.0, null], \"mode\": \"lines\", \"x\": [0.7, 0.3, null], \"line\": {\"width\": 2, \"color\": \"rgb(0, 0, 0)\"}, \"hoverinfo\": \"none\"}, {\"y\": [1.0, 0.0, null], \"mode\": \"lines\", \"x\": [0.7, 0.7, null], \"line\": {\"width\": 2, \"color\": \"rgb(0, 0, 0)\"}, \"hoverinfo\": \"none\"}, {\"y\": [1.0, 0.0, null], \"mode\": \"lines\", \"x\": [1.0, 0.7, null], \"line\": {\"width\": 2, \"color\": \"rgb(255, 0, 0)\"}, \"hoverinfo\": \"none\"}, {\"y\": [1.0, 0.0, null], \"mode\": \"lines\", \"x\": [1.0, 1.0, null], \"line\": {\"width\": 2, \"color\": \"rgb(0, 0, 0)\"}, \"hoverinfo\": \"none\"}, {\"y\": [0.0, 0.0, null], \"mode\": \"lines\", \"x\": [0.3, 0.7, null], \"line\": {\"width\": 2, \"color\": \"rgb(0, 0, 0)\"}, \"hoverinfo\": \"none\"}, {\"y\": [0.0, 0.0, null], \"mode\": \"lines\", \"x\": [0.7, 1.0, null], \"line\": {\"width\": 2, \"color\": \"rgb(0, 0, 0)\"}, \"hoverinfo\": \"none\"}, {\"y\": [1.0], \"mode\": \"markers+text\", \"marker\": {\"line\": {\"width\": 2, \"color\": \"rgb(0, 0, 0)\"}, \"color\": \"rgb(0, 0, 255)\", \"size\": 20}, \"textposition\": \"middle center\", \"x\": [0.0], \"hoverinfo\": \"none\", \"textfont\": {\"color\": \"rgb(255, 255, 255)\"}, \"text\": [\"1\"]}, {\"y\": [1.0], \"mode\": \"markers+text\", \"marker\": {\"line\": {\"width\": 2, \"color\": \"rgb(0, 0, 0)\"}, \"color\": \"rgb(0, 0, 255)\", \"size\": 20}, \"textposition\": \"middle center\", \"x\": [0.3], \"hoverinfo\": \"none\", \"textfont\": {\"color\": \"rgb(255, 255, 255)\"}, \"text\": [\"0\"]}, {\"y\": [1.0], \"mode\": \"markers+text\", \"marker\": {\"line\": {\"width\": 2, \"color\": \"rgb(0, 0, 0)\"}, \"color\": \"rgb(0, 0, 255)\", \"size\": 20}, \"textposition\": \"middle center\", \"x\": [0.7], \"hoverinfo\": \"none\", \"textfont\": {\"color\": \"rgb(255, 255, 255)\"}, \"text\": [\"2\"]}, {\"y\": [1.0], \"mode\": \"markers+text\", \"marker\": {\"line\": {\"width\": 2, \"color\": \"rgb(0, 0, 0)\"}, \"color\": \"rgb(255, 0, 0)\", \"size\": 20}, \"textposition\": \"middle center\", \"x\": [1.0], \"hoverinfo\": \"none\", \"textfont\": {\"color\": \"rgb(255, 255, 255)\"}, \"text\": [\"3\"]}, {\"y\": [0.0], \"mode\": \"markers+text\", \"marker\": {\"line\": {\"width\": 2, \"color\": \"rgb(0, 0, 0)\"}, \"color\": \"rgb(0, 0, 255)\", \"size\": 20}, \"textposition\": \"middle center\", \"x\": [0.0], \"hoverinfo\": \"none\", \"textfont\": {\"color\": \"rgb(255, 255, 255)\"}, \"text\": [\"2\"]}, {\"y\": [0.0], \"mode\": \"markers+text\", \"marker\": {\"line\": {\"width\": 2, \"color\": \"rgb(0, 0, 0)\"}, \"color\": \"rgb(0, 0, 255)\", \"size\": 20}, \"textposition\": \"middle center\", \"x\": [0.3], \"hoverinfo\": \"none\", \"textfont\": {\"color\": \"rgb(255, 255, 255)\"}, \"text\": [\"1\"]}, {\"y\": [0.0], \"mode\": \"markers+text\", \"marker\": {\"line\": {\"width\": 2, \"color\": \"rgb(0, 0, 0)\"}, \"color\": \"rgb(0, 0, 255)\", \"size\": 20}, \"textposition\": \"middle center\", \"x\": [0.7], \"hoverinfo\": \"none\", \"textfont\": {\"color\": \"rgb(255, 255, 255)\"}, \"text\": [\"2\"]}, {\"y\": [0.0], \"mode\": \"markers+text\", \"marker\": {\"line\": {\"width\": 2, \"color\": \"rgb(0, 0, 0)\"}, \"color\": \"rgb(255, 255, 255)\", \"size\": 20}, \"textposition\": \"middle center\", \"x\": [1.0], \"hoverinfo\": \"none\", \"textfont\": {\"color\": \"rgb(0, 0, 0)\"}, \"text\": [\"3\"]}], \"name\": 46}, {\"data\": [{\"y\": [1.0, 1.0, null], \"mode\": \"lines\", \"x\": [0.0, 0.3, null], \"line\": {\"width\": 2, \"color\": \"rgb(0, 0, 0)\"}, \"hoverinfo\": \"none\"}, {\"y\": [1.0, 0.0, null], \"mode\": \"lines\", \"x\": [0.0, 0.0, null], \"line\": {\"width\": 2, \"color\": \"rgb(0, 0, 0)\"}, \"hoverinfo\": \"none\"}, {\"y\": [1.0, 0.0, null], \"mode\": \"lines\", \"x\": [0.3, 0.3, null], \"line\": {\"width\": 2, \"color\": \"rgb(0, 0, 0)\"}, \"hoverinfo\": \"none\"}, {\"y\": [1.0, 1.0, null], \"mode\": \"lines\", \"x\": [0.7, 1.0, null], \"line\": {\"width\": 2, \"color\": \"rgb(0, 0, 0)\"}, \"hoverinfo\": \"none\"}, {\"y\": [1.0, 0.0, null], \"mode\": \"lines\", \"x\": [0.7, 0.3, null], \"line\": {\"width\": 2, \"color\": \"rgb(0, 0, 0)\"}, \"hoverinfo\": \"none\"}, {\"y\": [1.0, 0.0, null], \"mode\": \"lines\", \"x\": [0.7, 0.7, null], \"line\": {\"width\": 2, \"color\": \"rgb(0, 0, 0)\"}, \"hoverinfo\": \"none\"}, {\"y\": [1.0, 0.0, null], \"mode\": \"lines\", \"x\": [1.0, 0.7, null], \"line\": {\"width\": 2, \"color\": \"rgb(0, 0, 0)\"}, \"hoverinfo\": \"none\"}, {\"y\": [1.0, 0.0, null], \"mode\": \"lines\", \"x\": [1.0, 1.0, null], \"line\": {\"width\": 2, \"color\": \"rgb(0, 0, 0)\"}, \"hoverinfo\": \"none\"}, {\"y\": [0.0, 0.0, null], \"mode\": \"lines\", \"x\": [0.3, 0.7, null], \"line\": {\"width\": 2, \"color\": \"rgb(0, 0, 0)\"}, \"hoverinfo\": \"none\"}, {\"y\": [0.0, 0.0, null], \"mode\": \"lines\", \"x\": [0.7, 1.0, null], \"line\": {\"width\": 2, \"color\": \"rgb(0, 0, 0)\"}, \"hoverinfo\": \"none\"}, {\"y\": [1.0], \"mode\": \"markers+text\", \"marker\": {\"line\": {\"width\": 2, \"color\": \"rgb(0, 0, 0)\"}, \"color\": \"rgb(0, 0, 255)\", \"size\": 20}, \"textposition\": \"middle center\", \"x\": [0.0], \"hoverinfo\": \"none\", \"textfont\": {\"color\": \"rgb(255, 255, 255)\"}, \"text\": [\"1\"]}, {\"y\": [1.0], \"mode\": \"markers+text\", \"marker\": {\"line\": {\"width\": 2, \"color\": \"rgb(0, 0, 0)\"}, \"color\": \"rgb(0, 0, 255)\", \"size\": 20}, \"textposition\": \"middle center\", \"x\": [0.3], \"hoverinfo\": \"none\", \"textfont\": {\"color\": \"rgb(255, 255, 255)\"}, \"text\": [\"0\"]}, {\"y\": [1.0], \"mode\": \"markers+text\", \"marker\": {\"line\": {\"width\": 2, \"color\": \"rgb(0, 0, 0)\"}, \"color\": \"rgb(0, 0, 255)\", \"size\": 20}, \"textposition\": \"middle center\", \"x\": [0.7], \"hoverinfo\": \"none\", \"textfont\": {\"color\": \"rgb(255, 255, 255)\"}, \"text\": [\"2\"]}, {\"y\": [1.0], \"mode\": \"markers+text\", \"marker\": {\"line\": {\"width\": 2, \"color\": \"rgb(0, 0, 0)\"}, \"color\": \"rgb(255, 0, 0)\", \"size\": 20}, \"textposition\": \"middle center\", \"x\": [1.0], \"hoverinfo\": \"none\", \"textfont\": {\"color\": \"rgb(255, 255, 255)\"}, \"text\": [\"3\"]}, {\"y\": [0.0], \"mode\": \"markers+text\", \"marker\": {\"line\": {\"width\": 2, \"color\": \"rgb(0, 0, 0)\"}, \"color\": \"rgb(0, 0, 255)\", \"size\": 20}, \"textposition\": \"middle center\", \"x\": [0.0], \"hoverinfo\": \"none\", \"textfont\": {\"color\": \"rgb(255, 255, 255)\"}, \"text\": [\"2\"]}, {\"y\": [0.0], \"mode\": \"markers+text\", \"marker\": {\"line\": {\"width\": 2, \"color\": \"rgb(0, 0, 0)\"}, \"color\": \"rgb(0, 0, 255)\", \"size\": 20}, \"textposition\": \"middle center\", \"x\": [0.3], \"hoverinfo\": \"none\", \"textfont\": {\"color\": \"rgb(255, 255, 255)\"}, \"text\": [\"1\"]}, {\"y\": [0.0], \"mode\": \"markers+text\", \"marker\": {\"line\": {\"width\": 2, \"color\": \"rgb(0, 0, 0)\"}, \"color\": \"rgb(0, 0, 255)\", \"size\": 20}, \"textposition\": \"middle center\", \"x\": [0.7], \"hoverinfo\": \"none\", \"textfont\": {\"color\": \"rgb(255, 255, 255)\"}, \"text\": [\"2\"]}, {\"y\": [0.0], \"mode\": \"markers+text\", \"marker\": {\"line\": {\"width\": 2, \"color\": \"rgb(0, 0, 0)\"}, \"color\": \"rgb(255, 255, 255)\", \"size\": 20}, \"textposition\": \"middle center\", \"x\": [1.0], \"hoverinfo\": \"none\", \"textfont\": {\"color\": \"rgb(0, 0, 0)\"}, \"text\": [\"3\"]}], \"name\": 47}, {\"data\": [{\"y\": [1.0, 1.0, null], \"mode\": \"lines\", \"x\": [0.0, 0.3, null], \"line\": {\"width\": 2, \"color\": \"rgb(0, 0, 0)\"}, \"hoverinfo\": \"none\"}, {\"y\": [1.0, 0.0, null], \"mode\": \"lines\", \"x\": [0.0, 0.0, null], \"line\": {\"width\": 2, \"color\": \"rgb(0, 0, 0)\"}, \"hoverinfo\": \"none\"}, {\"y\": [1.0, 0.0, null], \"mode\": \"lines\", \"x\": [0.3, 0.3, null], \"line\": {\"width\": 2, \"color\": \"rgb(0, 0, 0)\"}, \"hoverinfo\": \"none\"}, {\"y\": [1.0, 1.0, null], \"mode\": \"lines\", \"x\": [0.7, 1.0, null], \"line\": {\"width\": 2, \"color\": \"rgb(0, 0, 0)\"}, \"hoverinfo\": \"none\"}, {\"y\": [1.0, 0.0, null], \"mode\": \"lines\", \"x\": [0.7, 0.3, null], \"line\": {\"width\": 2, \"color\": \"rgb(0, 0, 0)\"}, \"hoverinfo\": \"none\"}, {\"y\": [1.0, 0.0, null], \"mode\": \"lines\", \"x\": [0.7, 0.7, null], \"line\": {\"width\": 2, \"color\": \"rgb(0, 0, 0)\"}, \"hoverinfo\": \"none\"}, {\"y\": [1.0, 0.0, null], \"mode\": \"lines\", \"x\": [1.0, 0.7, null], \"line\": {\"width\": 2, \"color\": \"rgb(0, 0, 0)\"}, \"hoverinfo\": \"none\"}, {\"y\": [1.0, 0.0, null], \"mode\": \"lines\", \"x\": [1.0, 1.0, null], \"line\": {\"width\": 2, \"color\": \"rgb(255, 0, 0)\"}, \"hoverinfo\": \"none\"}, {\"y\": [0.0, 0.0, null], \"mode\": \"lines\", \"x\": [0.3, 0.7, null], \"line\": {\"width\": 2, \"color\": \"rgb(0, 0, 0)\"}, \"hoverinfo\": \"none\"}, {\"y\": [0.0, 0.0, null], \"mode\": \"lines\", \"x\": [0.7, 1.0, null], \"line\": {\"width\": 2, \"color\": \"rgb(0, 0, 0)\"}, \"hoverinfo\": \"none\"}, {\"y\": [1.0], \"mode\": \"markers+text\", \"marker\": {\"line\": {\"width\": 2, \"color\": \"rgb(0, 0, 0)\"}, \"color\": \"rgb(0, 0, 255)\", \"size\": 20}, \"textposition\": \"middle center\", \"x\": [0.0], \"hoverinfo\": \"none\", \"textfont\": {\"color\": \"rgb(255, 255, 255)\"}, \"text\": [\"1\"]}, {\"y\": [1.0], \"mode\": \"markers+text\", \"marker\": {\"line\": {\"width\": 2, \"color\": \"rgb(0, 0, 0)\"}, \"color\": \"rgb(0, 0, 255)\", \"size\": 20}, \"textposition\": \"middle center\", \"x\": [0.3], \"hoverinfo\": \"none\", \"textfont\": {\"color\": \"rgb(255, 255, 255)\"}, \"text\": [\"0\"]}, {\"y\": [1.0], \"mode\": \"markers+text\", \"marker\": {\"line\": {\"width\": 2, \"color\": \"rgb(0, 0, 0)\"}, \"color\": \"rgb(0, 0, 255)\", \"size\": 20}, \"textposition\": \"middle center\", \"x\": [0.7], \"hoverinfo\": \"none\", \"textfont\": {\"color\": \"rgb(255, 255, 255)\"}, \"text\": [\"2\"]}, {\"y\": [1.0], \"mode\": \"markers+text\", \"marker\": {\"line\": {\"width\": 2, \"color\": \"rgb(0, 0, 0)\"}, \"color\": \"rgb(255, 0, 0)\", \"size\": 20}, \"textposition\": \"middle center\", \"x\": [1.0], \"hoverinfo\": \"none\", \"textfont\": {\"color\": \"rgb(255, 255, 255)\"}, \"text\": [\"3\"]}, {\"y\": [0.0], \"mode\": \"markers+text\", \"marker\": {\"line\": {\"width\": 2, \"color\": \"rgb(0, 0, 0)\"}, \"color\": \"rgb(0, 0, 255)\", \"size\": 20}, \"textposition\": \"middle center\", \"x\": [0.0], \"hoverinfo\": \"none\", \"textfont\": {\"color\": \"rgb(255, 255, 255)\"}, \"text\": [\"2\"]}, {\"y\": [0.0], \"mode\": \"markers+text\", \"marker\": {\"line\": {\"width\": 2, \"color\": \"rgb(0, 0, 0)\"}, \"color\": \"rgb(0, 0, 255)\", \"size\": 20}, \"textposition\": \"middle center\", \"x\": [0.3], \"hoverinfo\": \"none\", \"textfont\": {\"color\": \"rgb(255, 255, 255)\"}, \"text\": [\"1\"]}, {\"y\": [0.0], \"mode\": \"markers+text\", \"marker\": {\"line\": {\"width\": 2, \"color\": \"rgb(0, 0, 0)\"}, \"color\": \"rgb(0, 0, 255)\", \"size\": 20}, \"textposition\": \"middle center\", \"x\": [0.7], \"hoverinfo\": \"none\", \"textfont\": {\"color\": \"rgb(255, 255, 255)\"}, \"text\": [\"2\"]}, {\"y\": [0.0], \"mode\": \"markers+text\", \"marker\": {\"line\": {\"width\": 2, \"color\": \"rgb(0, 0, 0)\"}, \"color\": \"rgb(255, 255, 255)\", \"size\": 20}, \"textposition\": \"middle center\", \"x\": [1.0], \"hoverinfo\": \"none\", \"textfont\": {\"color\": \"rgb(0, 0, 0)\"}, \"text\": [\"3\"]}], \"name\": 48}, {\"data\": [{\"y\": [1.0, 1.0, null], \"mode\": \"lines\", \"x\": [0.0, 0.3, null], \"line\": {\"width\": 2, \"color\": \"rgb(0, 0, 0)\"}, \"hoverinfo\": \"none\"}, {\"y\": [1.0, 0.0, null], \"mode\": \"lines\", \"x\": [0.0, 0.0, null], \"line\": {\"width\": 2, \"color\": \"rgb(0, 0, 0)\"}, \"hoverinfo\": \"none\"}, {\"y\": [1.0, 0.0, null], \"mode\": \"lines\", \"x\": [0.3, 0.3, null], \"line\": {\"width\": 2, \"color\": \"rgb(0, 0, 0)\"}, \"hoverinfo\": \"none\"}, {\"y\": [1.0, 1.0, null], \"mode\": \"lines\", \"x\": [0.7, 1.0, null], \"line\": {\"width\": 2, \"color\": \"rgb(0, 0, 0)\"}, \"hoverinfo\": \"none\"}, {\"y\": [1.0, 0.0, null], \"mode\": \"lines\", \"x\": [0.7, 0.3, null], \"line\": {\"width\": 2, \"color\": \"rgb(0, 0, 0)\"}, \"hoverinfo\": \"none\"}, {\"y\": [1.0, 0.0, null], \"mode\": \"lines\", \"x\": [0.7, 0.7, null], \"line\": {\"width\": 2, \"color\": \"rgb(0, 0, 0)\"}, \"hoverinfo\": \"none\"}, {\"y\": [1.0, 0.0, null], \"mode\": \"lines\", \"x\": [1.0, 0.7, null], \"line\": {\"width\": 2, \"color\": \"rgb(0, 0, 0)\"}, \"hoverinfo\": \"none\"}, {\"y\": [1.0, 0.0, null], \"mode\": \"lines\", \"x\": [1.0, 1.0, null], \"line\": {\"width\": 2, \"color\": \"rgb(0, 0, 0)\"}, \"hoverinfo\": \"none\"}, {\"y\": [0.0, 0.0, null], \"mode\": \"lines\", \"x\": [0.3, 0.7, null], \"line\": {\"width\": 2, \"color\": \"rgb(0, 0, 0)\"}, \"hoverinfo\": \"none\"}, {\"y\": [0.0, 0.0, null], \"mode\": \"lines\", \"x\": [0.7, 1.0, null], \"line\": {\"width\": 2, \"color\": \"rgb(0, 0, 0)\"}, \"hoverinfo\": \"none\"}, {\"y\": [1.0], \"mode\": \"markers+text\", \"marker\": {\"line\": {\"width\": 2, \"color\": \"rgb(0, 0, 0)\"}, \"color\": \"rgb(0, 0, 255)\", \"size\": 20}, \"textposition\": \"middle center\", \"x\": [0.0], \"hoverinfo\": \"none\", \"textfont\": {\"color\": \"rgb(255, 255, 255)\"}, \"text\": [\"1\"]}, {\"y\": [1.0], \"mode\": \"markers+text\", \"marker\": {\"line\": {\"width\": 2, \"color\": \"rgb(0, 0, 0)\"}, \"color\": \"rgb(0, 0, 255)\", \"size\": 20}, \"textposition\": \"middle center\", \"x\": [0.3], \"hoverinfo\": \"none\", \"textfont\": {\"color\": \"rgb(255, 255, 255)\"}, \"text\": [\"0\"]}, {\"y\": [1.0], \"mode\": \"markers+text\", \"marker\": {\"line\": {\"width\": 2, \"color\": \"rgb(0, 0, 0)\"}, \"color\": \"rgb(0, 0, 255)\", \"size\": 20}, \"textposition\": \"middle center\", \"x\": [0.7], \"hoverinfo\": \"none\", \"textfont\": {\"color\": \"rgb(255, 255, 255)\"}, \"text\": [\"2\"]}, {\"y\": [1.0], \"mode\": \"markers+text\", \"marker\": {\"line\": {\"width\": 2, \"color\": \"rgb(0, 0, 0)\"}, \"color\": \"rgb(255, 0, 0)\", \"size\": 20}, \"textposition\": \"middle center\", \"x\": [1.0], \"hoverinfo\": \"none\", \"textfont\": {\"color\": \"rgb(255, 255, 255)\"}, \"text\": [\"3\"]}, {\"y\": [0.0], \"mode\": \"markers+text\", \"marker\": {\"line\": {\"width\": 2, \"color\": \"rgb(0, 0, 0)\"}, \"color\": \"rgb(0, 0, 255)\", \"size\": 20}, \"textposition\": \"middle center\", \"x\": [0.0], \"hoverinfo\": \"none\", \"textfont\": {\"color\": \"rgb(255, 255, 255)\"}, \"text\": [\"2\"]}, {\"y\": [0.0], \"mode\": \"markers+text\", \"marker\": {\"line\": {\"width\": 2, \"color\": \"rgb(0, 0, 0)\"}, \"color\": \"rgb(0, 0, 255)\", \"size\": 20}, \"textposition\": \"middle center\", \"x\": [0.3], \"hoverinfo\": \"none\", \"textfont\": {\"color\": \"rgb(255, 255, 255)\"}, \"text\": [\"1\"]}, {\"y\": [0.0], \"mode\": \"markers+text\", \"marker\": {\"line\": {\"width\": 2, \"color\": \"rgb(0, 0, 0)\"}, \"color\": \"rgb(0, 0, 255)\", \"size\": 20}, \"textposition\": \"middle center\", \"x\": [0.7], \"hoverinfo\": \"none\", \"textfont\": {\"color\": \"rgb(255, 255, 255)\"}, \"text\": [\"2\"]}, {\"y\": [0.0], \"mode\": \"markers+text\", \"marker\": {\"line\": {\"width\": 2, \"color\": \"rgb(0, 0, 0)\"}, \"color\": \"rgb(255, 255, 255)\", \"size\": 20}, \"textposition\": \"middle center\", \"x\": [1.0], \"hoverinfo\": \"none\", \"textfont\": {\"color\": \"rgb(0, 0, 0)\"}, \"text\": [\"3\"]}], \"name\": 49}, {\"data\": [{\"y\": [1.0, 1.0, null], \"mode\": \"lines\", \"x\": [0.0, 0.3, null], \"line\": {\"width\": 2, \"color\": \"rgb(0, 0, 0)\"}, \"hoverinfo\": \"none\"}, {\"y\": [1.0, 0.0, null], \"mode\": \"lines\", \"x\": [0.0, 0.0, null], \"line\": {\"width\": 2, \"color\": \"rgb(0, 0, 0)\"}, \"hoverinfo\": \"none\"}, {\"y\": [1.0, 0.0, null], \"mode\": \"lines\", \"x\": [0.3, 0.3, null], \"line\": {\"width\": 2, \"color\": \"rgb(0, 0, 0)\"}, \"hoverinfo\": \"none\"}, {\"y\": [1.0, 1.0, null], \"mode\": \"lines\", \"x\": [0.7, 1.0, null], \"line\": {\"width\": 2, \"color\": \"rgb(0, 0, 0)\"}, \"hoverinfo\": \"none\"}, {\"y\": [1.0, 0.0, null], \"mode\": \"lines\", \"x\": [0.7, 0.3, null], \"line\": {\"width\": 2, \"color\": \"rgb(0, 0, 0)\"}, \"hoverinfo\": \"none\"}, {\"y\": [1.0, 0.0, null], \"mode\": \"lines\", \"x\": [0.7, 0.7, null], \"line\": {\"width\": 2, \"color\": \"rgb(0, 0, 0)\"}, \"hoverinfo\": \"none\"}, {\"y\": [1.0, 0.0, null], \"mode\": \"lines\", \"x\": [1.0, 0.7, null], \"line\": {\"width\": 2, \"color\": \"rgb(0, 0, 0)\"}, \"hoverinfo\": \"none\"}, {\"y\": [1.0, 0.0, null], \"mode\": \"lines\", \"x\": [1.0, 1.0, null], \"line\": {\"width\": 2, \"color\": \"rgb(0, 0, 0)\"}, \"hoverinfo\": \"none\"}, {\"y\": [0.0, 0.0, null], \"mode\": \"lines\", \"x\": [0.3, 0.7, null], \"line\": {\"width\": 2, \"color\": \"rgb(0, 0, 0)\"}, \"hoverinfo\": \"none\"}, {\"y\": [0.0, 0.0, null], \"mode\": \"lines\", \"x\": [0.7, 1.0, null], \"line\": {\"width\": 2, \"color\": \"rgb(0, 0, 0)\"}, \"hoverinfo\": \"none\"}, {\"y\": [1.0], \"mode\": \"markers+text\", \"marker\": {\"line\": {\"width\": 2, \"color\": \"rgb(0, 0, 0)\"}, \"color\": \"rgb(0, 0, 255)\", \"size\": 20}, \"textposition\": \"middle center\", \"x\": [0.0], \"hoverinfo\": \"none\", \"textfont\": {\"color\": \"rgb(255, 255, 255)\"}, \"text\": [\"1\"]}, {\"y\": [1.0], \"mode\": \"markers+text\", \"marker\": {\"line\": {\"width\": 2, \"color\": \"rgb(0, 0, 0)\"}, \"color\": \"rgb(0, 0, 255)\", \"size\": 20}, \"textposition\": \"middle center\", \"x\": [0.3], \"hoverinfo\": \"none\", \"textfont\": {\"color\": \"rgb(255, 255, 255)\"}, \"text\": [\"0\"]}, {\"y\": [1.0], \"mode\": \"markers+text\", \"marker\": {\"line\": {\"width\": 2, \"color\": \"rgb(0, 0, 0)\"}, \"color\": \"rgb(0, 0, 255)\", \"size\": 20}, \"textposition\": \"middle center\", \"x\": [0.7], \"hoverinfo\": \"none\", \"textfont\": {\"color\": \"rgb(255, 255, 255)\"}, \"text\": [\"2\"]}, {\"y\": [1.0], \"mode\": \"markers+text\", \"marker\": {\"line\": {\"width\": 2, \"color\": \"rgb(0, 0, 0)\"}, \"color\": \"rgb(0, 0, 255)\", \"size\": 20}, \"textposition\": \"middle center\", \"x\": [1.0], \"hoverinfo\": \"none\", \"textfont\": {\"color\": \"rgb(255, 255, 255)\"}, \"text\": [\"3\"]}, {\"y\": [0.0], \"mode\": \"markers+text\", \"marker\": {\"line\": {\"width\": 2, \"color\": \"rgb(0, 0, 0)\"}, \"color\": \"rgb(0, 0, 255)\", \"size\": 20}, \"textposition\": \"middle center\", \"x\": [0.0], \"hoverinfo\": \"none\", \"textfont\": {\"color\": \"rgb(255, 255, 255)\"}, \"text\": [\"2\"]}, {\"y\": [0.0], \"mode\": \"markers+text\", \"marker\": {\"line\": {\"width\": 2, \"color\": \"rgb(0, 0, 0)\"}, \"color\": \"rgb(0, 0, 255)\", \"size\": 20}, \"textposition\": \"middle center\", \"x\": [0.3], \"hoverinfo\": \"none\", \"textfont\": {\"color\": \"rgb(255, 255, 255)\"}, \"text\": [\"1\"]}, {\"y\": [0.0], \"mode\": \"markers+text\", \"marker\": {\"line\": {\"width\": 2, \"color\": \"rgb(0, 0, 0)\"}, \"color\": \"rgb(0, 0, 255)\", \"size\": 20}, \"textposition\": \"middle center\", \"x\": [0.7], \"hoverinfo\": \"none\", \"textfont\": {\"color\": \"rgb(255, 255, 255)\"}, \"text\": [\"2\"]}, {\"y\": [0.0], \"mode\": \"markers+text\", \"marker\": {\"line\": {\"width\": 2, \"color\": \"rgb(0, 0, 0)\"}, \"color\": \"rgb(255, 255, 255)\", \"size\": 20}, \"textposition\": \"middle center\", \"x\": [1.0], \"hoverinfo\": \"none\", \"textfont\": {\"color\": \"rgb(0, 0, 0)\"}, \"text\": [\"3\"]}], \"name\": 50}, {\"data\": [{\"y\": [1.0, 1.0, null], \"mode\": \"lines\", \"x\": [0.0, 0.3, null], \"line\": {\"width\": 2, \"color\": \"rgb(0, 0, 0)\"}, \"hoverinfo\": \"none\"}, {\"y\": [1.0, 0.0, null], \"mode\": \"lines\", \"x\": [0.0, 0.0, null], \"line\": {\"width\": 2, \"color\": \"rgb(0, 0, 0)\"}, \"hoverinfo\": \"none\"}, {\"y\": [1.0, 0.0, null], \"mode\": \"lines\", \"x\": [0.3, 0.3, null], \"line\": {\"width\": 2, \"color\": \"rgb(0, 0, 0)\"}, \"hoverinfo\": \"none\"}, {\"y\": [1.0, 1.0, null], \"mode\": \"lines\", \"x\": [0.7, 1.0, null], \"line\": {\"width\": 2, \"color\": \"rgb(0, 0, 0)\"}, \"hoverinfo\": \"none\"}, {\"y\": [1.0, 0.0, null], \"mode\": \"lines\", \"x\": [0.7, 0.3, null], \"line\": {\"width\": 2, \"color\": \"rgb(0, 0, 0)\"}, \"hoverinfo\": \"none\"}, {\"y\": [1.0, 0.0, null], \"mode\": \"lines\", \"x\": [0.7, 0.7, null], \"line\": {\"width\": 2, \"color\": \"rgb(0, 0, 0)\"}, \"hoverinfo\": \"none\"}, {\"y\": [1.0, 0.0, null], \"mode\": \"lines\", \"x\": [1.0, 0.7, null], \"line\": {\"width\": 2, \"color\": \"rgb(0, 0, 0)\"}, \"hoverinfo\": \"none\"}, {\"y\": [1.0, 0.0, null], \"mode\": \"lines\", \"x\": [1.0, 1.0, null], \"line\": {\"width\": 2, \"color\": \"rgb(0, 0, 0)\"}, \"hoverinfo\": \"none\"}, {\"y\": [0.0, 0.0, null], \"mode\": \"lines\", \"x\": [0.3, 0.7, null], \"line\": {\"width\": 2, \"color\": \"rgb(0, 0, 0)\"}, \"hoverinfo\": \"none\"}, {\"y\": [0.0, 0.0, null], \"mode\": \"lines\", \"x\": [0.7, 1.0, null], \"line\": {\"width\": 2, \"color\": \"rgb(0, 0, 0)\"}, \"hoverinfo\": \"none\"}, {\"y\": [1.0], \"mode\": \"markers+text\", \"marker\": {\"line\": {\"width\": 2, \"color\": \"rgb(0, 0, 0)\"}, \"color\": \"rgb(0, 0, 255)\", \"size\": 20}, \"textposition\": \"middle center\", \"x\": [0.0], \"hoverinfo\": \"none\", \"textfont\": {\"color\": \"rgb(255, 255, 255)\"}, \"text\": [\"1\"]}, {\"y\": [1.0], \"mode\": \"markers+text\", \"marker\": {\"line\": {\"width\": 2, \"color\": \"rgb(0, 0, 0)\"}, \"color\": \"rgb(0, 0, 255)\", \"size\": 20}, \"textposition\": \"middle center\", \"x\": [0.3], \"hoverinfo\": \"none\", \"textfont\": {\"color\": \"rgb(255, 255, 255)\"}, \"text\": [\"0\"]}, {\"y\": [1.0], \"mode\": \"markers+text\", \"marker\": {\"line\": {\"width\": 2, \"color\": \"rgb(0, 0, 0)\"}, \"color\": \"rgb(0, 0, 255)\", \"size\": 20}, \"textposition\": \"middle center\", \"x\": [0.7], \"hoverinfo\": \"none\", \"textfont\": {\"color\": \"rgb(255, 255, 255)\"}, \"text\": [\"2\"]}, {\"y\": [1.0], \"mode\": \"markers+text\", \"marker\": {\"line\": {\"width\": 2, \"color\": \"rgb(0, 0, 0)\"}, \"color\": \"rgb(0, 0, 255)\", \"size\": 20}, \"textposition\": \"middle center\", \"x\": [1.0], \"hoverinfo\": \"none\", \"textfont\": {\"color\": \"rgb(255, 255, 255)\"}, \"text\": [\"3\"]}, {\"y\": [0.0], \"mode\": \"markers+text\", \"marker\": {\"line\": {\"width\": 2, \"color\": \"rgb(0, 0, 0)\"}, \"color\": \"rgb(0, 0, 255)\", \"size\": 20}, \"textposition\": \"middle center\", \"x\": [0.0], \"hoverinfo\": \"none\", \"textfont\": {\"color\": \"rgb(255, 255, 255)\"}, \"text\": [\"2\"]}, {\"y\": [0.0], \"mode\": \"markers+text\", \"marker\": {\"line\": {\"width\": 2, \"color\": \"rgb(0, 0, 0)\"}, \"color\": \"rgb(0, 0, 255)\", \"size\": 20}, \"textposition\": \"middle center\", \"x\": [0.3], \"hoverinfo\": \"none\", \"textfont\": {\"color\": \"rgb(255, 255, 255)\"}, \"text\": [\"1\"]}, {\"y\": [0.0], \"mode\": \"markers+text\", \"marker\": {\"line\": {\"width\": 2, \"color\": \"rgb(0, 0, 0)\"}, \"color\": \"rgb(0, 0, 255)\", \"size\": 20}, \"textposition\": \"middle center\", \"x\": [0.7], \"hoverinfo\": \"none\", \"textfont\": {\"color\": \"rgb(255, 255, 255)\"}, \"text\": [\"2\"]}, {\"y\": [0.0], \"mode\": \"markers+text\", \"marker\": {\"line\": {\"width\": 2, \"color\": \"rgb(0, 0, 0)\"}, \"color\": \"rgb(255, 0, 0)\", \"size\": 20}, \"textposition\": \"middle center\", \"x\": [1.0], \"hoverinfo\": \"none\", \"textfont\": {\"color\": \"rgb(255, 255, 255)\"}, \"text\": [\"3\"]}], \"name\": 51}, {\"data\": [{\"y\": [1.0, 1.0, null], \"mode\": \"lines\", \"x\": [0.0, 0.3, null], \"line\": {\"width\": 2, \"color\": \"rgb(0, 0, 0)\"}, \"hoverinfo\": \"none\"}, {\"y\": [1.0, 0.0, null], \"mode\": \"lines\", \"x\": [0.0, 0.0, null], \"line\": {\"width\": 2, \"color\": \"rgb(0, 0, 0)\"}, \"hoverinfo\": \"none\"}, {\"y\": [1.0, 0.0, null], \"mode\": \"lines\", \"x\": [0.3, 0.3, null], \"line\": {\"width\": 2, \"color\": \"rgb(0, 0, 0)\"}, \"hoverinfo\": \"none\"}, {\"y\": [1.0, 1.0, null], \"mode\": \"lines\", \"x\": [0.7, 1.0, null], \"line\": {\"width\": 2, \"color\": \"rgb(0, 0, 0)\"}, \"hoverinfo\": \"none\"}, {\"y\": [1.0, 0.0, null], \"mode\": \"lines\", \"x\": [0.7, 0.3, null], \"line\": {\"width\": 2, \"color\": \"rgb(0, 0, 0)\"}, \"hoverinfo\": \"none\"}, {\"y\": [1.0, 0.0, null], \"mode\": \"lines\", \"x\": [0.7, 0.7, null], \"line\": {\"width\": 2, \"color\": \"rgb(0, 0, 0)\"}, \"hoverinfo\": \"none\"}, {\"y\": [1.0, 0.0, null], \"mode\": \"lines\", \"x\": [1.0, 0.7, null], \"line\": {\"width\": 2, \"color\": \"rgb(0, 0, 0)\"}, \"hoverinfo\": \"none\"}, {\"y\": [1.0, 0.0, null], \"mode\": \"lines\", \"x\": [1.0, 1.0, null], \"line\": {\"width\": 2, \"color\": \"rgb(255, 0, 0)\"}, \"hoverinfo\": \"none\"}, {\"y\": [0.0, 0.0, null], \"mode\": \"lines\", \"x\": [0.3, 0.7, null], \"line\": {\"width\": 2, \"color\": \"rgb(0, 0, 0)\"}, \"hoverinfo\": \"none\"}, {\"y\": [0.0, 0.0, null], \"mode\": \"lines\", \"x\": [0.7, 1.0, null], \"line\": {\"width\": 2, \"color\": \"rgb(0, 0, 0)\"}, \"hoverinfo\": \"none\"}, {\"y\": [1.0], \"mode\": \"markers+text\", \"marker\": {\"line\": {\"width\": 2, \"color\": \"rgb(0, 0, 0)\"}, \"color\": \"rgb(0, 0, 255)\", \"size\": 20}, \"textposition\": \"middle center\", \"x\": [0.0], \"hoverinfo\": \"none\", \"textfont\": {\"color\": \"rgb(255, 255, 255)\"}, \"text\": [\"1\"]}, {\"y\": [1.0], \"mode\": \"markers+text\", \"marker\": {\"line\": {\"width\": 2, \"color\": \"rgb(0, 0, 0)\"}, \"color\": \"rgb(0, 0, 255)\", \"size\": 20}, \"textposition\": \"middle center\", \"x\": [0.3], \"hoverinfo\": \"none\", \"textfont\": {\"color\": \"rgb(255, 255, 255)\"}, \"text\": [\"0\"]}, {\"y\": [1.0], \"mode\": \"markers+text\", \"marker\": {\"line\": {\"width\": 2, \"color\": \"rgb(0, 0, 0)\"}, \"color\": \"rgb(0, 0, 255)\", \"size\": 20}, \"textposition\": \"middle center\", \"x\": [0.7], \"hoverinfo\": \"none\", \"textfont\": {\"color\": \"rgb(255, 255, 255)\"}, \"text\": [\"2\"]}, {\"y\": [1.0], \"mode\": \"markers+text\", \"marker\": {\"line\": {\"width\": 2, \"color\": \"rgb(0, 0, 0)\"}, \"color\": \"rgb(0, 0, 255)\", \"size\": 20}, \"textposition\": \"middle center\", \"x\": [1.0], \"hoverinfo\": \"none\", \"textfont\": {\"color\": \"rgb(255, 255, 255)\"}, \"text\": [\"3\"]}, {\"y\": [0.0], \"mode\": \"markers+text\", \"marker\": {\"line\": {\"width\": 2, \"color\": \"rgb(0, 0, 0)\"}, \"color\": \"rgb(0, 0, 255)\", \"size\": 20}, \"textposition\": \"middle center\", \"x\": [0.0], \"hoverinfo\": \"none\", \"textfont\": {\"color\": \"rgb(255, 255, 255)\"}, \"text\": [\"2\"]}, {\"y\": [0.0], \"mode\": \"markers+text\", \"marker\": {\"line\": {\"width\": 2, \"color\": \"rgb(0, 0, 0)\"}, \"color\": \"rgb(0, 0, 255)\", \"size\": 20}, \"textposition\": \"middle center\", \"x\": [0.3], \"hoverinfo\": \"none\", \"textfont\": {\"color\": \"rgb(255, 255, 255)\"}, \"text\": [\"1\"]}, {\"y\": [0.0], \"mode\": \"markers+text\", \"marker\": {\"line\": {\"width\": 2, \"color\": \"rgb(0, 0, 0)\"}, \"color\": \"rgb(0, 0, 255)\", \"size\": 20}, \"textposition\": \"middle center\", \"x\": [0.7], \"hoverinfo\": \"none\", \"textfont\": {\"color\": \"rgb(255, 255, 255)\"}, \"text\": [\"2\"]}, {\"y\": [0.0], \"mode\": \"markers+text\", \"marker\": {\"line\": {\"width\": 2, \"color\": \"rgb(0, 0, 0)\"}, \"color\": \"rgb(255, 0, 0)\", \"size\": 20}, \"textposition\": \"middle center\", \"x\": [1.0], \"hoverinfo\": \"none\", \"textfont\": {\"color\": \"rgb(255, 255, 255)\"}, \"text\": [\"3\"]}], \"name\": 52}, {\"data\": [{\"y\": [1.0, 1.0, null], \"mode\": \"lines\", \"x\": [0.0, 0.3, null], \"line\": {\"width\": 2, \"color\": \"rgb(0, 0, 0)\"}, \"hoverinfo\": \"none\"}, {\"y\": [1.0, 0.0, null], \"mode\": \"lines\", \"x\": [0.0, 0.0, null], \"line\": {\"width\": 2, \"color\": \"rgb(0, 0, 0)\"}, \"hoverinfo\": \"none\"}, {\"y\": [1.0, 0.0, null], \"mode\": \"lines\", \"x\": [0.3, 0.3, null], \"line\": {\"width\": 2, \"color\": \"rgb(0, 0, 0)\"}, \"hoverinfo\": \"none\"}, {\"y\": [1.0, 1.0, null], \"mode\": \"lines\", \"x\": [0.7, 1.0, null], \"line\": {\"width\": 2, \"color\": \"rgb(0, 0, 0)\"}, \"hoverinfo\": \"none\"}, {\"y\": [1.0, 0.0, null], \"mode\": \"lines\", \"x\": [0.7, 0.3, null], \"line\": {\"width\": 2, \"color\": \"rgb(0, 0, 0)\"}, \"hoverinfo\": \"none\"}, {\"y\": [1.0, 0.0, null], \"mode\": \"lines\", \"x\": [0.7, 0.7, null], \"line\": {\"width\": 2, \"color\": \"rgb(0, 0, 0)\"}, \"hoverinfo\": \"none\"}, {\"y\": [1.0, 0.0, null], \"mode\": \"lines\", \"x\": [1.0, 0.7, null], \"line\": {\"width\": 2, \"color\": \"rgb(0, 0, 0)\"}, \"hoverinfo\": \"none\"}, {\"y\": [1.0, 0.0, null], \"mode\": \"lines\", \"x\": [1.0, 1.0, null], \"line\": {\"width\": 2, \"color\": \"rgb(0, 0, 0)\"}, \"hoverinfo\": \"none\"}, {\"y\": [0.0, 0.0, null], \"mode\": \"lines\", \"x\": [0.3, 0.7, null], \"line\": {\"width\": 2, \"color\": \"rgb(0, 0, 0)\"}, \"hoverinfo\": \"none\"}, {\"y\": [0.0, 0.0, null], \"mode\": \"lines\", \"x\": [0.7, 1.0, null], \"line\": {\"width\": 2, \"color\": \"rgb(0, 0, 0)\"}, \"hoverinfo\": \"none\"}, {\"y\": [1.0], \"mode\": \"markers+text\", \"marker\": {\"line\": {\"width\": 2, \"color\": \"rgb(0, 0, 0)\"}, \"color\": \"rgb(0, 0, 255)\", \"size\": 20}, \"textposition\": \"middle center\", \"x\": [0.0], \"hoverinfo\": \"none\", \"textfont\": {\"color\": \"rgb(255, 255, 255)\"}, \"text\": [\"1\"]}, {\"y\": [1.0], \"mode\": \"markers+text\", \"marker\": {\"line\": {\"width\": 2, \"color\": \"rgb(0, 0, 0)\"}, \"color\": \"rgb(0, 0, 255)\", \"size\": 20}, \"textposition\": \"middle center\", \"x\": [0.3], \"hoverinfo\": \"none\", \"textfont\": {\"color\": \"rgb(255, 255, 255)\"}, \"text\": [\"0\"]}, {\"y\": [1.0], \"mode\": \"markers+text\", \"marker\": {\"line\": {\"width\": 2, \"color\": \"rgb(0, 0, 0)\"}, \"color\": \"rgb(0, 0, 255)\", \"size\": 20}, \"textposition\": \"middle center\", \"x\": [0.7], \"hoverinfo\": \"none\", \"textfont\": {\"color\": \"rgb(255, 255, 255)\"}, \"text\": [\"2\"]}, {\"y\": [1.0], \"mode\": \"markers+text\", \"marker\": {\"line\": {\"width\": 2, \"color\": \"rgb(0, 0, 0)\"}, \"color\": \"rgb(0, 0, 255)\", \"size\": 20}, \"textposition\": \"middle center\", \"x\": [1.0], \"hoverinfo\": \"none\", \"textfont\": {\"color\": \"rgb(255, 255, 255)\"}, \"text\": [\"3\"]}, {\"y\": [0.0], \"mode\": \"markers+text\", \"marker\": {\"line\": {\"width\": 2, \"color\": \"rgb(0, 0, 0)\"}, \"color\": \"rgb(0, 0, 255)\", \"size\": 20}, \"textposition\": \"middle center\", \"x\": [0.0], \"hoverinfo\": \"none\", \"textfont\": {\"color\": \"rgb(255, 255, 255)\"}, \"text\": [\"2\"]}, {\"y\": [0.0], \"mode\": \"markers+text\", \"marker\": {\"line\": {\"width\": 2, \"color\": \"rgb(0, 0, 0)\"}, \"color\": \"rgb(0, 0, 255)\", \"size\": 20}, \"textposition\": \"middle center\", \"x\": [0.3], \"hoverinfo\": \"none\", \"textfont\": {\"color\": \"rgb(255, 255, 255)\"}, \"text\": [\"1\"]}, {\"y\": [0.0], \"mode\": \"markers+text\", \"marker\": {\"line\": {\"width\": 2, \"color\": \"rgb(0, 0, 0)\"}, \"color\": \"rgb(0, 0, 255)\", \"size\": 20}, \"textposition\": \"middle center\", \"x\": [0.7], \"hoverinfo\": \"none\", \"textfont\": {\"color\": \"rgb(255, 255, 255)\"}, \"text\": [\"2\"]}, {\"y\": [0.0], \"mode\": \"markers+text\", \"marker\": {\"line\": {\"width\": 2, \"color\": \"rgb(0, 0, 0)\"}, \"color\": \"rgb(255, 0, 0)\", \"size\": 20}, \"textposition\": \"middle center\", \"x\": [1.0], \"hoverinfo\": \"none\", \"textfont\": {\"color\": \"rgb(255, 255, 255)\"}, \"text\": [\"3\"]}], \"name\": 53}, {\"data\": [{\"y\": [1.0, 1.0, null], \"mode\": \"lines\", \"x\": [0.0, 0.3, null], \"line\": {\"width\": 2, \"color\": \"rgb(0, 0, 0)\"}, \"hoverinfo\": \"none\"}, {\"y\": [1.0, 0.0, null], \"mode\": \"lines\", \"x\": [0.0, 0.0, null], \"line\": {\"width\": 2, \"color\": \"rgb(0, 0, 0)\"}, \"hoverinfo\": \"none\"}, {\"y\": [1.0, 0.0, null], \"mode\": \"lines\", \"x\": [0.3, 0.3, null], \"line\": {\"width\": 2, \"color\": \"rgb(0, 0, 0)\"}, \"hoverinfo\": \"none\"}, {\"y\": [1.0, 1.0, null], \"mode\": \"lines\", \"x\": [0.7, 1.0, null], \"line\": {\"width\": 2, \"color\": \"rgb(0, 0, 0)\"}, \"hoverinfo\": \"none\"}, {\"y\": [1.0, 0.0, null], \"mode\": \"lines\", \"x\": [0.7, 0.3, null], \"line\": {\"width\": 2, \"color\": \"rgb(0, 0, 0)\"}, \"hoverinfo\": \"none\"}, {\"y\": [1.0, 0.0, null], \"mode\": \"lines\", \"x\": [0.7, 0.7, null], \"line\": {\"width\": 2, \"color\": \"rgb(0, 0, 0)\"}, \"hoverinfo\": \"none\"}, {\"y\": [1.0, 0.0, null], \"mode\": \"lines\", \"x\": [1.0, 0.7, null], \"line\": {\"width\": 2, \"color\": \"rgb(0, 0, 0)\"}, \"hoverinfo\": \"none\"}, {\"y\": [1.0, 0.0, null], \"mode\": \"lines\", \"x\": [1.0, 1.0, null], \"line\": {\"width\": 2, \"color\": \"rgb(0, 0, 0)\"}, \"hoverinfo\": \"none\"}, {\"y\": [0.0, 0.0, null], \"mode\": \"lines\", \"x\": [0.3, 0.7, null], \"line\": {\"width\": 2, \"color\": \"rgb(0, 0, 0)\"}, \"hoverinfo\": \"none\"}, {\"y\": [0.0, 0.0, null], \"mode\": \"lines\", \"x\": [0.7, 1.0, null], \"line\": {\"width\": 2, \"color\": \"rgb(255, 0, 0)\"}, \"hoverinfo\": \"none\"}, {\"y\": [1.0], \"mode\": \"markers+text\", \"marker\": {\"line\": {\"width\": 2, \"color\": \"rgb(0, 0, 0)\"}, \"color\": \"rgb(0, 0, 255)\", \"size\": 20}, \"textposition\": \"middle center\", \"x\": [0.0], \"hoverinfo\": \"none\", \"textfont\": {\"color\": \"rgb(255, 255, 255)\"}, \"text\": [\"1\"]}, {\"y\": [1.0], \"mode\": \"markers+text\", \"marker\": {\"line\": {\"width\": 2, \"color\": \"rgb(0, 0, 0)\"}, \"color\": \"rgb(0, 0, 255)\", \"size\": 20}, \"textposition\": \"middle center\", \"x\": [0.3], \"hoverinfo\": \"none\", \"textfont\": {\"color\": \"rgb(255, 255, 255)\"}, \"text\": [\"0\"]}, {\"y\": [1.0], \"mode\": \"markers+text\", \"marker\": {\"line\": {\"width\": 2, \"color\": \"rgb(0, 0, 0)\"}, \"color\": \"rgb(0, 0, 255)\", \"size\": 20}, \"textposition\": \"middle center\", \"x\": [0.7], \"hoverinfo\": \"none\", \"textfont\": {\"color\": \"rgb(255, 255, 255)\"}, \"text\": [\"2\"]}, {\"y\": [1.0], \"mode\": \"markers+text\", \"marker\": {\"line\": {\"width\": 2, \"color\": \"rgb(0, 0, 0)\"}, \"color\": \"rgb(0, 0, 255)\", \"size\": 20}, \"textposition\": \"middle center\", \"x\": [1.0], \"hoverinfo\": \"none\", \"textfont\": {\"color\": \"rgb(255, 255, 255)\"}, \"text\": [\"3\"]}, {\"y\": [0.0], \"mode\": \"markers+text\", \"marker\": {\"line\": {\"width\": 2, \"color\": \"rgb(0, 0, 0)\"}, \"color\": \"rgb(0, 0, 255)\", \"size\": 20}, \"textposition\": \"middle center\", \"x\": [0.0], \"hoverinfo\": \"none\", \"textfont\": {\"color\": \"rgb(255, 255, 255)\"}, \"text\": [\"2\"]}, {\"y\": [0.0], \"mode\": \"markers+text\", \"marker\": {\"line\": {\"width\": 2, \"color\": \"rgb(0, 0, 0)\"}, \"color\": \"rgb(0, 0, 255)\", \"size\": 20}, \"textposition\": \"middle center\", \"x\": [0.3], \"hoverinfo\": \"none\", \"textfont\": {\"color\": \"rgb(255, 255, 255)\"}, \"text\": [\"1\"]}, {\"y\": [0.0], \"mode\": \"markers+text\", \"marker\": {\"line\": {\"width\": 2, \"color\": \"rgb(0, 0, 0)\"}, \"color\": \"rgb(0, 0, 255)\", \"size\": 20}, \"textposition\": \"middle center\", \"x\": [0.7], \"hoverinfo\": \"none\", \"textfont\": {\"color\": \"rgb(255, 255, 255)\"}, \"text\": [\"2\"]}, {\"y\": [0.0], \"mode\": \"markers+text\", \"marker\": {\"line\": {\"width\": 2, \"color\": \"rgb(0, 0, 0)\"}, \"color\": \"rgb(255, 0, 0)\", \"size\": 20}, \"textposition\": \"middle center\", \"x\": [1.0], \"hoverinfo\": \"none\", \"textfont\": {\"color\": \"rgb(255, 255, 255)\"}, \"text\": [\"3\"]}], \"name\": 54}, {\"data\": [{\"y\": [1.0, 1.0, null], \"mode\": \"lines\", \"x\": [0.0, 0.3, null], \"line\": {\"width\": 2, \"color\": \"rgb(0, 0, 0)\"}, \"hoverinfo\": \"none\"}, {\"y\": [1.0, 0.0, null], \"mode\": \"lines\", \"x\": [0.0, 0.0, null], \"line\": {\"width\": 2, \"color\": \"rgb(0, 0, 0)\"}, \"hoverinfo\": \"none\"}, {\"y\": [1.0, 0.0, null], \"mode\": \"lines\", \"x\": [0.3, 0.3, null], \"line\": {\"width\": 2, \"color\": \"rgb(0, 0, 0)\"}, \"hoverinfo\": \"none\"}, {\"y\": [1.0, 1.0, null], \"mode\": \"lines\", \"x\": [0.7, 1.0, null], \"line\": {\"width\": 2, \"color\": \"rgb(0, 0, 0)\"}, \"hoverinfo\": \"none\"}, {\"y\": [1.0, 0.0, null], \"mode\": \"lines\", \"x\": [0.7, 0.3, null], \"line\": {\"width\": 2, \"color\": \"rgb(0, 0, 0)\"}, \"hoverinfo\": \"none\"}, {\"y\": [1.0, 0.0, null], \"mode\": \"lines\", \"x\": [0.7, 0.7, null], \"line\": {\"width\": 2, \"color\": \"rgb(0, 0, 0)\"}, \"hoverinfo\": \"none\"}, {\"y\": [1.0, 0.0, null], \"mode\": \"lines\", \"x\": [1.0, 0.7, null], \"line\": {\"width\": 2, \"color\": \"rgb(0, 0, 0)\"}, \"hoverinfo\": \"none\"}, {\"y\": [1.0, 0.0, null], \"mode\": \"lines\", \"x\": [1.0, 1.0, null], \"line\": {\"width\": 2, \"color\": \"rgb(0, 0, 0)\"}, \"hoverinfo\": \"none\"}, {\"y\": [0.0, 0.0, null], \"mode\": \"lines\", \"x\": [0.3, 0.7, null], \"line\": {\"width\": 2, \"color\": \"rgb(0, 0, 0)\"}, \"hoverinfo\": \"none\"}, {\"y\": [0.0, 0.0, null], \"mode\": \"lines\", \"x\": [0.7, 1.0, null], \"line\": {\"width\": 2, \"color\": \"rgb(0, 0, 0)\"}, \"hoverinfo\": \"none\"}, {\"y\": [1.0], \"mode\": \"markers+text\", \"marker\": {\"line\": {\"width\": 2, \"color\": \"rgb(0, 0, 0)\"}, \"color\": \"rgb(0, 0, 255)\", \"size\": 20}, \"textposition\": \"middle center\", \"x\": [0.0], \"hoverinfo\": \"none\", \"textfont\": {\"color\": \"rgb(255, 255, 255)\"}, \"text\": [\"1\"]}, {\"y\": [1.0], \"mode\": \"markers+text\", \"marker\": {\"line\": {\"width\": 2, \"color\": \"rgb(0, 0, 0)\"}, \"color\": \"rgb(0, 0, 255)\", \"size\": 20}, \"textposition\": \"middle center\", \"x\": [0.3], \"hoverinfo\": \"none\", \"textfont\": {\"color\": \"rgb(255, 255, 255)\"}, \"text\": [\"0\"]}, {\"y\": [1.0], \"mode\": \"markers+text\", \"marker\": {\"line\": {\"width\": 2, \"color\": \"rgb(0, 0, 0)\"}, \"color\": \"rgb(0, 0, 255)\", \"size\": 20}, \"textposition\": \"middle center\", \"x\": [0.7], \"hoverinfo\": \"none\", \"textfont\": {\"color\": \"rgb(255, 255, 255)\"}, \"text\": [\"2\"]}, {\"y\": [1.0], \"mode\": \"markers+text\", \"marker\": {\"line\": {\"width\": 2, \"color\": \"rgb(0, 0, 0)\"}, \"color\": \"rgb(0, 0, 255)\", \"size\": 20}, \"textposition\": \"middle center\", \"x\": [1.0], \"hoverinfo\": \"none\", \"textfont\": {\"color\": \"rgb(255, 255, 255)\"}, \"text\": [\"3\"]}, {\"y\": [0.0], \"mode\": \"markers+text\", \"marker\": {\"line\": {\"width\": 2, \"color\": \"rgb(0, 0, 0)\"}, \"color\": \"rgb(0, 0, 255)\", \"size\": 20}, \"textposition\": \"middle center\", \"x\": [0.0], \"hoverinfo\": \"none\", \"textfont\": {\"color\": \"rgb(255, 255, 255)\"}, \"text\": [\"2\"]}, {\"y\": [0.0], \"mode\": \"markers+text\", \"marker\": {\"line\": {\"width\": 2, \"color\": \"rgb(0, 0, 0)\"}, \"color\": \"rgb(0, 0, 255)\", \"size\": 20}, \"textposition\": \"middle center\", \"x\": [0.3], \"hoverinfo\": \"none\", \"textfont\": {\"color\": \"rgb(255, 255, 255)\"}, \"text\": [\"1\"]}, {\"y\": [0.0], \"mode\": \"markers+text\", \"marker\": {\"line\": {\"width\": 2, \"color\": \"rgb(0, 0, 0)\"}, \"color\": \"rgb(0, 0, 255)\", \"size\": 20}, \"textposition\": \"middle center\", \"x\": [0.7], \"hoverinfo\": \"none\", \"textfont\": {\"color\": \"rgb(255, 255, 255)\"}, \"text\": [\"2\"]}, {\"y\": [0.0], \"mode\": \"markers+text\", \"marker\": {\"line\": {\"width\": 2, \"color\": \"rgb(0, 0, 0)\"}, \"color\": \"rgb(255, 0, 0)\", \"size\": 20}, \"textposition\": \"middle center\", \"x\": [1.0], \"hoverinfo\": \"none\", \"textfont\": {\"color\": \"rgb(255, 255, 255)\"}, \"text\": [\"3\"]}], \"name\": 55}, {\"data\": [{\"y\": [1.0, 1.0, null], \"mode\": \"lines\", \"x\": [0.0, 0.3, null], \"line\": {\"width\": 2, \"color\": \"rgb(0, 0, 0)\"}, \"hoverinfo\": \"none\"}, {\"y\": [1.0, 0.0, null], \"mode\": \"lines\", \"x\": [0.0, 0.0, null], \"line\": {\"width\": 2, \"color\": \"rgb(0, 0, 0)\"}, \"hoverinfo\": \"none\"}, {\"y\": [1.0, 0.0, null], \"mode\": \"lines\", \"x\": [0.3, 0.3, null], \"line\": {\"width\": 2, \"color\": \"rgb(0, 0, 0)\"}, \"hoverinfo\": \"none\"}, {\"y\": [1.0, 1.0, null], \"mode\": \"lines\", \"x\": [0.7, 1.0, null], \"line\": {\"width\": 2, \"color\": \"rgb(0, 0, 0)\"}, \"hoverinfo\": \"none\"}, {\"y\": [1.0, 0.0, null], \"mode\": \"lines\", \"x\": [0.7, 0.3, null], \"line\": {\"width\": 2, \"color\": \"rgb(0, 0, 0)\"}, \"hoverinfo\": \"none\"}, {\"y\": [1.0, 0.0, null], \"mode\": \"lines\", \"x\": [0.7, 0.7, null], \"line\": {\"width\": 2, \"color\": \"rgb(0, 0, 0)\"}, \"hoverinfo\": \"none\"}, {\"y\": [1.0, 0.0, null], \"mode\": \"lines\", \"x\": [1.0, 0.7, null], \"line\": {\"width\": 2, \"color\": \"rgb(0, 0, 0)\"}, \"hoverinfo\": \"none\"}, {\"y\": [1.0, 0.0, null], \"mode\": \"lines\", \"x\": [1.0, 1.0, null], \"line\": {\"width\": 2, \"color\": \"rgb(0, 0, 0)\"}, \"hoverinfo\": \"none\"}, {\"y\": [0.0, 0.0, null], \"mode\": \"lines\", \"x\": [0.3, 0.7, null], \"line\": {\"width\": 2, \"color\": \"rgb(0, 0, 0)\"}, \"hoverinfo\": \"none\"}, {\"y\": [0.0, 0.0, null], \"mode\": \"lines\", \"x\": [0.7, 1.0, null], \"line\": {\"width\": 2, \"color\": \"rgb(0, 0, 0)\"}, \"hoverinfo\": \"none\"}, {\"y\": [1.0], \"mode\": \"markers+text\", \"marker\": {\"line\": {\"width\": 2, \"color\": \"rgb(0, 0, 0)\"}, \"color\": \"rgb(0, 0, 255)\", \"size\": 20}, \"textposition\": \"middle center\", \"x\": [0.0], \"hoverinfo\": \"none\", \"textfont\": {\"color\": \"rgb(255, 255, 255)\"}, \"text\": [\"1\"]}, {\"y\": [1.0], \"mode\": \"markers+text\", \"marker\": {\"line\": {\"width\": 2, \"color\": \"rgb(0, 0, 0)\"}, \"color\": \"rgb(0, 0, 255)\", \"size\": 20}, \"textposition\": \"middle center\", \"x\": [0.3], \"hoverinfo\": \"none\", \"textfont\": {\"color\": \"rgb(255, 255, 255)\"}, \"text\": [\"0\"]}, {\"y\": [1.0], \"mode\": \"markers+text\", \"marker\": {\"line\": {\"width\": 2, \"color\": \"rgb(0, 0, 0)\"}, \"color\": \"rgb(0, 0, 255)\", \"size\": 20}, \"textposition\": \"middle center\", \"x\": [0.7], \"hoverinfo\": \"none\", \"textfont\": {\"color\": \"rgb(255, 255, 255)\"}, \"text\": [\"2\"]}, {\"y\": [1.0], \"mode\": \"markers+text\", \"marker\": {\"line\": {\"width\": 2, \"color\": \"rgb(0, 0, 0)\"}, \"color\": \"rgb(0, 0, 255)\", \"size\": 20}, \"textposition\": \"middle center\", \"x\": [1.0], \"hoverinfo\": \"none\", \"textfont\": {\"color\": \"rgb(255, 255, 255)\"}, \"text\": [\"3\"]}, {\"y\": [0.0], \"mode\": \"markers+text\", \"marker\": {\"line\": {\"width\": 2, \"color\": \"rgb(0, 0, 0)\"}, \"color\": \"rgb(0, 0, 255)\", \"size\": 20}, \"textposition\": \"middle center\", \"x\": [0.0], \"hoverinfo\": \"none\", \"textfont\": {\"color\": \"rgb(255, 255, 255)\"}, \"text\": [\"2\"]}, {\"y\": [0.0], \"mode\": \"markers+text\", \"marker\": {\"line\": {\"width\": 2, \"color\": \"rgb(0, 0, 0)\"}, \"color\": \"rgb(0, 0, 255)\", \"size\": 20}, \"textposition\": \"middle center\", \"x\": [0.3], \"hoverinfo\": \"none\", \"textfont\": {\"color\": \"rgb(255, 255, 255)\"}, \"text\": [\"1\"]}, {\"y\": [0.0], \"mode\": \"markers+text\", \"marker\": {\"line\": {\"width\": 2, \"color\": \"rgb(0, 0, 0)\"}, \"color\": \"rgb(0, 0, 255)\", \"size\": 20}, \"textposition\": \"middle center\", \"x\": [0.7], \"hoverinfo\": \"none\", \"textfont\": {\"color\": \"rgb(255, 255, 255)\"}, \"text\": [\"2\"]}, {\"y\": [0.0], \"mode\": \"markers+text\", \"marker\": {\"line\": {\"width\": 2, \"color\": \"rgb(0, 0, 0)\"}, \"color\": \"rgb(0, 0, 255)\", \"size\": 20}, \"textposition\": \"middle center\", \"x\": [1.0], \"hoverinfo\": \"none\", \"textfont\": {\"color\": \"rgb(255, 255, 255)\"}, \"text\": [\"3\"]}], \"name\": 56}]);}).then(function(){Plotly.animate('0775b808-1e6a-4987-a4fe-d9d6dad76465');})\n",
       "        });</script>"
      ]
     },
     "metadata": {},
     "output_type": "display_data"
    }
   ],
   "source": [
    "red = (255, 0, 0)  # linha nova\n",
    "blue = (0, 0, 255) # linha nova\n",
    "frames = []        # linha nova\n",
    "\n",
    "s = 1\n",
    "q = Queue()\n",
    "\n",
    "for n in g.nodes():\n",
    "    g.node[n]['d'] = inf\n",
    "\n",
    "g.node[s]['d'] = 0\n",
    "q.put(s)\n",
    "\n",
    "sn.reset_node_colors(g) # linha nova\n",
    "sn.reset_edge_colors(g) # linha nova\n",
    "snapshot(g, frames)     # linha nova\n",
    "\n",
    "while not q.empty():\n",
    "    n = q.get()\n",
    "\n",
    "    g.node[n]['color'] = red # linha nova\n",
    "    snapshot(g, frames)      # linha nova\n",
    "\n",
    "    for m in g.neighbors(n):\n",
    "        g.edge[n][m]['color'] = red # linha nova\n",
    "        snapshot(g, frames)         # linha nova\n",
    "\n",
    "        if isinf(g.node[m]['d']):\n",
    "            g.node[m]['d'] = g.node[n]['d'] + 1\n",
    "            q.put(m)\n",
    "\n",
    "        g.edge[n][m]['color'] = sn.edge_color # linha nova\n",
    "        snapshot(g, frames)                   # linha nova\n",
    "\n",
    "    g.node[n]['color'] = blue # linha nova\n",
    "    snapshot(g, frames)       # linha nova\n",
    "\n",
    "sn.show_animation(frames)"
   ]
  },
  {
   "cell_type": "markdown",
   "metadata": {
    "collapsed": true
   },
   "source": [
    "Ao longo da disciplina, usaremos as seguintes regras de escalabilidade:\n",
    "\n",
    "* visualizações animadas para depurar algoritmos em grafos pequenos;\n",
    "* visualizações estáticas para verificar resultados em grafos médios;\n",
    "* terminal para processar grafos grandes;\n",
    "* Fabio Ayres para processar megagrafos. (se houver oportunidade)"
   ]
  }
 ],
 "metadata": {
  "kernelspec": {
   "display_name": "Python 3",
   "language": "python",
   "name": "python3"
  },
  "language_info": {
   "codemirror_mode": {
    "name": "ipython",
    "version": 3
   },
   "file_extension": ".py",
   "mimetype": "text/x-python",
   "name": "python",
   "nbconvert_exporter": "python",
   "pygments_lexer": "ipython3",
   "version": "3.5.2"
  }
 },
 "nbformat": 4,
 "nbformat_minor": 1
}
