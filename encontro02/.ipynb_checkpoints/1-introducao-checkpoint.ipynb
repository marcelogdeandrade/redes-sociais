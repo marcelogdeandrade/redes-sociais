{
 "cells": [
  {
   "cell_type": "markdown",
   "metadata": {},
   "source": [
    "# Encontro 02, Parte 1: Revisão de Grafos\n",
    "\n",
    "Este guia foi escrito para ajudar você a atingir os seguintes objetivos:\n",
    "\n",
    "* formalizar conceitos básicos de teoria dos grafos;\n",
    "* usar funcionalidades básicas da biblioteca da disciplina.\n",
    "\n",
    "\n",
    "## Grafos não-dirigidos\n",
    "\n",
    "Um **grafo não-dirigido** (*undirected graph*) é um par\n",
    "\n",
    "$(N, E)$,\n",
    "\n",
    "onde $N$ é um conjunto qualquer e $E$ é um conjunto de pares *não-ordenados* de elementos de $N$, ou seja,\n",
    "\n",
    "$E \\subseteq \\{\\{n, m\\} \\colon n \\in N \\textrm{ e } m \\in N\\}$.\n",
    "\n",
    "Um elemento de $N$ chama-se **nó** (*node*) e um elemento de $E$ chama-se **aresta** (*edge*). Em alguns trabalhos, usa-se $V$ e *vértice* em vez de $N$ e nó.\n",
    "\n",
    "\n",
    "## Grafos dirigidos\n",
    "\n",
    "Formalmente, um **grafo dirigido** (*directed graph*) é um par\n",
    "\n",
    "$(N, E)$,\n",
    "\n",
    "onde $N$ é um conjunto qualquer e $E$ é um conjunto de pares *ordenados* de elementos de *N*, ou seja,\n",
    "\n",
    "$E \\subseteq \\{(n, m) \\colon n \\in N \\textrm{ e } m \\in N\\}$.\n",
    "\n",
    "Um elemento de $N$ chama-se **nó** (*node*) e um elemento de $E$ chama-se **aresta** (*edge*). Em alguns trabalhos, usa-se $V$ e *vértice* em vez de $N$ e nó e usa-se $A$ e *arco* em vez de $E$ e aresta.\n",
    "\n",
    "\n",
    "## Instalando as dependências\n",
    "\n",
    "Antes de continuar, instale as duas dependências da biblioteca da disciplina:\n",
    "\n",
    "> `pip install networkx plotly`\n",
    "\n",
    "Em algumas distribuições Linux você deve usar o comando `pip3`, pois o comando `pip` está associado a Python 2 por padrão.\n",
    "\n",
    "\n",
    "## Importando a biblioteca\n",
    "\n",
    "Não mova ou renomeie os arquivos do repositório, a menos que você esteja disposto a adaptar os notebooks de acordo.\n",
    "\n",
    "Vamos importar a biblioteca da disciplina no notebook:"
   ]
  },
  {
   "cell_type": "code",
   "execution_count": 27,
   "metadata": {},
   "outputs": [],
   "source": [
    "import sys\n",
    "sys.path.append('..')\n",
    "\n",
    "import socnet as sn"
   ]
  },
  {
   "cell_type": "markdown",
   "metadata": {},
   "source": [
    "## Configurando a biblioteca\n",
    "\n",
    "A `socnet` disponibiliza variáveis de módulo que permitem configurar propriedades visuais. Os nomes são auto-explicativos e os valores abaixo são padrão."
   ]
  },
  {
   "cell_type": "code",
   "execution_count": 28,
   "metadata": {
    "collapsed": true
   },
   "outputs": [],
   "source": [
    "sn.graph_width = 800\n",
    "sn.graph_height = 450\n",
    "\n",
    "sn.node_size = 20\n",
    "sn.node_color = (255, 255, 255)\n",
    "\n",
    "sn.edge_width = 2\n",
    "sn.edge_color = (0, 0, 0)\n",
    "\n",
    "sn.node_label_position = 'middle center'\n",
    "sn.edge_label_distance = 10"
   ]
  },
  {
   "cell_type": "markdown",
   "metadata": {},
   "source": [
    "Uma variável de cor armazena uma tupla contendo três inteiros entre *0* e *255* que representam intensidades de *vermelho*, *verde* e *azul* respectivamente.\n",
    "\n",
    "Uma variável de posição armazena uma string contendo duas palavras separadas por um espaço:\n",
    "* a primeira representa o alinhamento vertical e pode ser `top`, `middle` ou `bottom`;\n",
    "* a segunda representa o alinhamento horizontal e pode ser `left`, `center` ou `right`.\n",
    "\n",
    "## Carregando grafos\n",
    "\n",
    "Vamos carregar dois grafos no [formato GML](http://www.fim.uni-passau.de/fileadmin/files/lehrstuhl/brandenburg/projekte/gml/gml-technical-report.pdf):"
   ]
  },
  {
   "cell_type": "code",
   "execution_count": 29,
   "metadata": {
    "collapsed": true
   },
   "outputs": [],
   "source": [
    "ug = sn.load_graph('5-kruskal.gml', has_pos=True)\n",
    "dg = sn.load_graph('4-dijkstra.gml', has_pos=True)"
   ]
  },
  {
   "cell_type": "markdown",
   "metadata": {},
   "source": [
    "Abra esses arquivos em um editor de texto e note como o formato é auto-explicativo.\n",
    "\n",
    "## Visualizando grafos\n",
    "\n",
    "Vamos visualizar o primeiro grafo, que é não-dirigido:"
   ]
  },
  {
   "cell_type": "code",
   "execution_count": 30,
   "metadata": {},
   "outputs": [
    {
     "data": {
      "application/vnd.plotly.v1+json": {
       "data": [
        {
         "hoverinfo": "none",
         "line": {
          "color": "rgb(0, 0, 0)",
          "width": 2
         },
         "mode": "lines",
         "x": [
          0,
          0.25,
          null,
          0,
          0.25,
          null,
          0.25,
          0.5,
          null,
          0.25,
          0.25,
          null,
          0.5,
          0.375,
          null,
          0.5,
          0.75,
          null,
          0.5,
          0.75,
          null,
          0.75,
          1,
          null,
          0.75,
          0.75,
          null,
          1,
          0.75,
          null,
          0.75,
          0.5,
          null,
          0.5,
          0.375,
          null,
          0.5,
          0.25,
          null,
          0.25,
          0.375,
          null
         ],
         "y": [
          0.5,
          1,
          null,
          0.5,
          0,
          null,
          1,
          1,
          null,
          1,
          0,
          null,
          1,
          0.5,
          null,
          1,
          1,
          null,
          1,
          0,
          null,
          1,
          0.5,
          null,
          1,
          0,
          null,
          0.5,
          0,
          null,
          0,
          0,
          null,
          0,
          0.5,
          null,
          0,
          0,
          null,
          0,
          0.5,
          null
         ]
        },
        {
         "hoverinfo": "none",
         "marker": {
          "color": "rgb(255, 255, 255)",
          "line": {
           "color": "rgb(0, 0, 0)",
           "width": 2
          },
          "size": 20
         },
         "mode": "markers+text",
         "text": [],
         "textfont": {
          "color": "rgb(0, 0, 0)"
         },
         "textposition": "middle center",
         "x": [
          0,
          0.25,
          0.5,
          0.75,
          1,
          0.75,
          0.5,
          0.25,
          0.375
         ],
         "y": [
          0.5,
          1,
          1,
          1,
          0.5,
          0,
          0,
          0,
          0.5
         ]
        }
       ],
       "layout": {
        "height": 180,
        "margin": {
         "b": 0,
         "l": 0,
         "r": 0,
         "t": 0
        },
        "showlegend": false,
        "width": 320,
        "xaxis": {
         "showgrid": false,
         "showticklabels": false,
         "zeroline": false
        },
        "yaxis": {
         "showgrid": false,
         "showticklabels": false,
         "zeroline": false
        }
       }
      },
      "text/html": [
       "<div id=\"b452929d-59ee-4f2b-80dd-b03274a207ae\" style=\"height: 180px; width: 320px;\" class=\"plotly-graph-div\"></div><script type=\"text/javascript\">require([\"plotly\"], function(Plotly) { window.PLOTLYENV=window.PLOTLYENV || {};window.PLOTLYENV.BASE_URL=\"https://plot.ly\";Plotly.newPlot(\"b452929d-59ee-4f2b-80dd-b03274a207ae\", [{\"y\": [0.5, 1.0, null, 0.5, 0.0, null, 1.0, 1.0, null, 1.0, 0.0, null, 1.0, 0.5, null, 1.0, 1.0, null, 1.0, 0.0, null, 1.0, 0.5, null, 1.0, 0.0, null, 0.5, 0.0, null, 0.0, 0.0, null, 0.0, 0.5, null, 0.0, 0.0, null, 0.0, 0.5, null], \"line\": {\"width\": 2, \"color\": \"rgb(0, 0, 0)\"}, \"x\": [0.0, 0.25, null, 0.0, 0.25, null, 0.25, 0.5, null, 0.25, 0.25, null, 0.5, 0.375, null, 0.5, 0.75, null, 0.5, 0.75, null, 0.75, 1.0, null, 0.75, 0.75, null, 1.0, 0.75, null, 0.75, 0.5, null, 0.5, 0.375, null, 0.5, 0.25, null, 0.25, 0.375, null], \"hoverinfo\": \"none\", \"mode\": \"lines\"}, {\"y\": [0.5, 1.0, 1.0, 1.0, 0.5, 0.0, 0.0, 0.0, 0.5], \"x\": [0.0, 0.25, 0.5, 0.75, 1.0, 0.75, 0.5, 0.25, 0.375], \"hoverinfo\": \"none\", \"marker\": {\"line\": {\"width\": 2, \"color\": \"rgb(0, 0, 0)\"}, \"size\": 20, \"color\": \"rgb(255, 255, 255)\"}, \"textfont\": {\"color\": \"rgb(0, 0, 0)\"}, \"text\": [], \"mode\": \"markers+text\", \"textposition\": \"middle center\"}], {\"height\": 180, \"yaxis\": {\"showticklabels\": false, \"showgrid\": false, \"zeroline\": false}, \"margin\": {\"l\": 0, \"t\": 0, \"b\": 0, \"r\": 0}, \"xaxis\": {\"showticklabels\": false, \"showgrid\": false, \"zeroline\": false}, \"showlegend\": false, \"width\": 320}, {\"linkText\": \"Export to plot.ly\", \"displayModeBar\": false, \"showLink\": false})});</script>"
      ],
      "text/vnd.plotly.v1+html": [
       "<div id=\"b452929d-59ee-4f2b-80dd-b03274a207ae\" style=\"height: 180px; width: 320px;\" class=\"plotly-graph-div\"></div><script type=\"text/javascript\">require([\"plotly\"], function(Plotly) { window.PLOTLYENV=window.PLOTLYENV || {};window.PLOTLYENV.BASE_URL=\"https://plot.ly\";Plotly.newPlot(\"b452929d-59ee-4f2b-80dd-b03274a207ae\", [{\"y\": [0.5, 1.0, null, 0.5, 0.0, null, 1.0, 1.0, null, 1.0, 0.0, null, 1.0, 0.5, null, 1.0, 1.0, null, 1.0, 0.0, null, 1.0, 0.5, null, 1.0, 0.0, null, 0.5, 0.0, null, 0.0, 0.0, null, 0.0, 0.5, null, 0.0, 0.0, null, 0.0, 0.5, null], \"line\": {\"width\": 2, \"color\": \"rgb(0, 0, 0)\"}, \"x\": [0.0, 0.25, null, 0.0, 0.25, null, 0.25, 0.5, null, 0.25, 0.25, null, 0.5, 0.375, null, 0.5, 0.75, null, 0.5, 0.75, null, 0.75, 1.0, null, 0.75, 0.75, null, 1.0, 0.75, null, 0.75, 0.5, null, 0.5, 0.375, null, 0.5, 0.25, null, 0.25, 0.375, null], \"hoverinfo\": \"none\", \"mode\": \"lines\"}, {\"y\": [0.5, 1.0, 1.0, 1.0, 0.5, 0.0, 0.0, 0.0, 0.5], \"x\": [0.0, 0.25, 0.5, 0.75, 1.0, 0.75, 0.5, 0.25, 0.375], \"hoverinfo\": \"none\", \"marker\": {\"line\": {\"width\": 2, \"color\": \"rgb(0, 0, 0)\"}, \"size\": 20, \"color\": \"rgb(255, 255, 255)\"}, \"textfont\": {\"color\": \"rgb(0, 0, 0)\"}, \"text\": [], \"mode\": \"markers+text\", \"textposition\": \"middle center\"}], {\"height\": 180, \"yaxis\": {\"showticklabels\": false, \"showgrid\": false, \"zeroline\": false}, \"margin\": {\"l\": 0, \"t\": 0, \"b\": 0, \"r\": 0}, \"xaxis\": {\"showticklabels\": false, \"showgrid\": false, \"zeroline\": false}, \"showlegend\": false, \"width\": 320}, {\"linkText\": \"Export to plot.ly\", \"displayModeBar\": false, \"showLink\": false})});</script>"
      ]
     },
     "metadata": {},
     "output_type": "display_data"
    }
   ],
   "source": [
    "sn.graph_width = 320\n",
    "sn.graph_height = 180\n",
    "\n",
    "sn.show_graph(ug)"
   ]
  },
  {
   "cell_type": "markdown",
   "metadata": {},
   "source": [
    "Essa é a representação mais comum de grafos não-dirigidos: círculos como nós e retas como arestas. Se uma reta *conecta* o círculo que representa $n$ ao círculo que representa $m$, ela representa a aresta $\\{n, m\\}$.\n",
    "\n",
    "Vamos agora visualizar o segundo grafo, que é dirigido:"
   ]
  },
  {
   "cell_type": "code",
   "execution_count": 31,
   "metadata": {},
   "outputs": [
    {
     "data": {
      "application/vnd.plotly.v1+json": {
       "data": [
        {
         "hoverinfo": "none",
         "line": {
          "color": "rgb(0, 0, 0)",
          "width": 2
         },
         "mode": "lines",
         "x": [
          0,
          0.5,
          null,
          0.46643085439538495,
          0.44538388103556675,
          null,
          0.46643085439538495,
          0.4285584341548651,
          null,
          0,
          0.5,
          null,
          0.46643085439538495,
          0.4285584341548651,
          null,
          0.46643085439538495,
          0.44538388103556675,
          null,
          0.5,
          1,
          null,
          0.9621212121212122,
          0.9288794484132434,
          null,
          0.9621212121212122,
          0.9288794484132434,
          null,
          0.5075757575757576,
          0.5075757575757576,
          null,
          0.5075757575757576,
          0.5257358158562198,
          null,
          1.0075757575757576,
          1.0075757575757576,
          null,
          1.0075757575757576,
          1.0257358158562198,
          null,
          0.49242424242424243,
          0.49242424242424243,
          null,
          0.49242424242424243,
          0.4742641841437802,
          null,
          0.5,
          1,
          null,
          0.9738173240163878,
          0.9639630823912474,
          null,
          0.9738173240163878,
          0.9377166459078401,
          null,
          0.5,
          1,
          null,
          0.9621212121212122,
          0.9288794484132434,
          null,
          0.9621212121212122,
          0.9288794484132434,
          null,
          1,
          0,
          null,
          0.03664774299318793,
          0.07340128670201525,
          null,
          0.03664774299318793,
          0.06421703965128427,
          null,
          0.9924242424242424,
          0.9924242424242424,
          null,
          0.9924242424242424,
          0.9742641841437802,
          null
         ],
         "y": [
          0.5,
          1,
          null,
          0.966430854395385,
          0.906182816233176,
          null,
          0.966430854395385,
          0.967759498957256,
          null,
          0.5,
          0,
          null,
          0.03356914560461503,
          0.032240501042743994,
          null,
          0.03356914560461503,
          0.09381718376682407,
          null,
          1,
          1,
          null,
          1,
          0.9652590189417244,
          null,
          1,
          1.0347409810582755,
          null,
          1,
          0,
          null,
          0.07246376811594203,
          0.13605670738336034,
          null,
          1,
          0,
          null,
          0.07246376811594203,
          0.13605670738336034,
          null,
          0,
          1,
          null,
          0.927536231884058,
          0.8639432926166397,
          null,
          0,
          1,
          null,
          0.9476346480327754,
          0.8776659754484841,
          null,
          0.9476346480327754,
          0.9256934811496907,
          null,
          0,
          0,
          null,
          0,
          -0.03474098105827558,
          null,
          0,
          0.03474098105827558,
          null,
          0,
          0.5,
          null,
          0.481676128503406,
          0.4992073320037643,
          null,
          0.481676128503406,
          0.4319835048195859,
          null,
          0,
          1,
          null,
          0.927536231884058,
          0.8639432926166397,
          null
         ]
        },
        {
         "hoverinfo": "none",
         "marker": {
          "color": "rgb(255, 255, 255)",
          "line": {
           "color": "rgb(0, 0, 0)",
           "width": 2
          },
          "size": 20
         },
         "mode": "markers+text",
         "text": [],
         "textfont": {
          "color": "rgb(0, 0, 0)"
         },
         "textposition": "middle center",
         "x": [
          0,
          0.5,
          1,
          0.5,
          1
         ],
         "y": [
          0.5,
          1,
          1,
          0,
          0
         ]
        }
       ],
       "layout": {
        "height": 180,
        "margin": {
         "b": 0,
         "l": 0,
         "r": 0,
         "t": 0
        },
        "showlegend": false,
        "width": 320,
        "xaxis": {
         "showgrid": false,
         "showticklabels": false,
         "zeroline": false
        },
        "yaxis": {
         "showgrid": false,
         "showticklabels": false,
         "zeroline": false
        }
       }
      },
      "text/html": [
       "<div id=\"fc2bb8d6-3c03-403c-8964-ce13871f2e47\" style=\"height: 180px; width: 320px;\" class=\"plotly-graph-div\"></div><script type=\"text/javascript\">require([\"plotly\"], function(Plotly) { window.PLOTLYENV=window.PLOTLYENV || {};window.PLOTLYENV.BASE_URL=\"https://plot.ly\";Plotly.newPlot(\"fc2bb8d6-3c03-403c-8964-ce13871f2e47\", [{\"y\": [0.5, 1.0, null, 0.966430854395385, 0.906182816233176, null, 0.966430854395385, 0.967759498957256, null, 0.5, 0.0, null, 0.03356914560461503, 0.032240501042743994, null, 0.03356914560461503, 0.09381718376682407, null, 1.0, 1.0, null, 1.0, 0.9652590189417244, null, 1.0, 1.0347409810582755, null, 1.0, 0.0, null, 0.07246376811594203, 0.13605670738336034, null, 1.0, 0.0, null, 0.07246376811594203, 0.13605670738336034, null, 0.0, 1.0, null, 0.927536231884058, 0.8639432926166397, null, 0.0, 1.0, null, 0.9476346480327754, 0.8776659754484841, null, 0.9476346480327754, 0.9256934811496907, null, 0.0, 0.0, null, 0.0, -0.03474098105827558, null, 0.0, 0.03474098105827558, null, 0.0, 0.5, null, 0.481676128503406, 0.4992073320037643, null, 0.481676128503406, 0.4319835048195859, null, 0.0, 1.0, null, 0.927536231884058, 0.8639432926166397, null], \"line\": {\"width\": 2, \"color\": \"rgb(0, 0, 0)\"}, \"x\": [0.0, 0.5, null, 0.46643085439538495, 0.44538388103556675, null, 0.46643085439538495, 0.4285584341548651, null, 0.0, 0.5, null, 0.46643085439538495, 0.4285584341548651, null, 0.46643085439538495, 0.44538388103556675, null, 0.5, 1.0, null, 0.9621212121212122, 0.9288794484132434, null, 0.9621212121212122, 0.9288794484132434, null, 0.5075757575757576, 0.5075757575757576, null, 0.5075757575757576, 0.5257358158562198, null, 1.0075757575757576, 1.0075757575757576, null, 1.0075757575757576, 1.0257358158562198, null, 0.49242424242424243, 0.49242424242424243, null, 0.49242424242424243, 0.4742641841437802, null, 0.5, 1.0, null, 0.9738173240163878, 0.9639630823912474, null, 0.9738173240163878, 0.9377166459078401, null, 0.5, 1.0, null, 0.9621212121212122, 0.9288794484132434, null, 0.9621212121212122, 0.9288794484132434, null, 1.0, 0.0, null, 0.03664774299318793, 0.07340128670201525, null, 0.03664774299318793, 0.06421703965128427, null, 0.9924242424242424, 0.9924242424242424, null, 0.9924242424242424, 0.9742641841437802, null], \"hoverinfo\": \"none\", \"mode\": \"lines\"}, {\"y\": [0.5, 1.0, 1.0, 0.0, 0.0], \"x\": [0.0, 0.5, 1.0, 0.5, 1.0], \"hoverinfo\": \"none\", \"marker\": {\"line\": {\"width\": 2, \"color\": \"rgb(0, 0, 0)\"}, \"size\": 20, \"color\": \"rgb(255, 255, 255)\"}, \"textfont\": {\"color\": \"rgb(0, 0, 0)\"}, \"text\": [], \"mode\": \"markers+text\", \"textposition\": \"middle center\"}], {\"height\": 180, \"yaxis\": {\"showticklabels\": false, \"showgrid\": false, \"zeroline\": false}, \"margin\": {\"l\": 0, \"t\": 0, \"b\": 0, \"r\": 0}, \"xaxis\": {\"showticklabels\": false, \"showgrid\": false, \"zeroline\": false}, \"showlegend\": false, \"width\": 320}, {\"linkText\": \"Export to plot.ly\", \"displayModeBar\": false, \"showLink\": false})});</script>"
      ],
      "text/vnd.plotly.v1+html": [
       "<div id=\"fc2bb8d6-3c03-403c-8964-ce13871f2e47\" style=\"height: 180px; width: 320px;\" class=\"plotly-graph-div\"></div><script type=\"text/javascript\">require([\"plotly\"], function(Plotly) { window.PLOTLYENV=window.PLOTLYENV || {};window.PLOTLYENV.BASE_URL=\"https://plot.ly\";Plotly.newPlot(\"fc2bb8d6-3c03-403c-8964-ce13871f2e47\", [{\"y\": [0.5, 1.0, null, 0.966430854395385, 0.906182816233176, null, 0.966430854395385, 0.967759498957256, null, 0.5, 0.0, null, 0.03356914560461503, 0.032240501042743994, null, 0.03356914560461503, 0.09381718376682407, null, 1.0, 1.0, null, 1.0, 0.9652590189417244, null, 1.0, 1.0347409810582755, null, 1.0, 0.0, null, 0.07246376811594203, 0.13605670738336034, null, 1.0, 0.0, null, 0.07246376811594203, 0.13605670738336034, null, 0.0, 1.0, null, 0.927536231884058, 0.8639432926166397, null, 0.0, 1.0, null, 0.9476346480327754, 0.8776659754484841, null, 0.9476346480327754, 0.9256934811496907, null, 0.0, 0.0, null, 0.0, -0.03474098105827558, null, 0.0, 0.03474098105827558, null, 0.0, 0.5, null, 0.481676128503406, 0.4992073320037643, null, 0.481676128503406, 0.4319835048195859, null, 0.0, 1.0, null, 0.927536231884058, 0.8639432926166397, null], \"line\": {\"width\": 2, \"color\": \"rgb(0, 0, 0)\"}, \"x\": [0.0, 0.5, null, 0.46643085439538495, 0.44538388103556675, null, 0.46643085439538495, 0.4285584341548651, null, 0.0, 0.5, null, 0.46643085439538495, 0.4285584341548651, null, 0.46643085439538495, 0.44538388103556675, null, 0.5, 1.0, null, 0.9621212121212122, 0.9288794484132434, null, 0.9621212121212122, 0.9288794484132434, null, 0.5075757575757576, 0.5075757575757576, null, 0.5075757575757576, 0.5257358158562198, null, 1.0075757575757576, 1.0075757575757576, null, 1.0075757575757576, 1.0257358158562198, null, 0.49242424242424243, 0.49242424242424243, null, 0.49242424242424243, 0.4742641841437802, null, 0.5, 1.0, null, 0.9738173240163878, 0.9639630823912474, null, 0.9738173240163878, 0.9377166459078401, null, 0.5, 1.0, null, 0.9621212121212122, 0.9288794484132434, null, 0.9621212121212122, 0.9288794484132434, null, 1.0, 0.0, null, 0.03664774299318793, 0.07340128670201525, null, 0.03664774299318793, 0.06421703965128427, null, 0.9924242424242424, 0.9924242424242424, null, 0.9924242424242424, 0.9742641841437802, null], \"hoverinfo\": \"none\", \"mode\": \"lines\"}, {\"y\": [0.5, 1.0, 1.0, 0.0, 0.0], \"x\": [0.0, 0.5, 1.0, 0.5, 1.0], \"hoverinfo\": \"none\", \"marker\": {\"line\": {\"width\": 2, \"color\": \"rgb(0, 0, 0)\"}, \"size\": 20, \"color\": \"rgb(255, 255, 255)\"}, \"textfont\": {\"color\": \"rgb(0, 0, 0)\"}, \"text\": [], \"mode\": \"markers+text\", \"textposition\": \"middle center\"}], {\"height\": 180, \"yaxis\": {\"showticklabels\": false, \"showgrid\": false, \"zeroline\": false}, \"margin\": {\"l\": 0, \"t\": 0, \"b\": 0, \"r\": 0}, \"xaxis\": {\"showticklabels\": false, \"showgrid\": false, \"zeroline\": false}, \"showlegend\": false, \"width\": 320}, {\"linkText\": \"Export to plot.ly\", \"displayModeBar\": false, \"showLink\": false})});</script>"
      ]
     },
     "metadata": {},
     "output_type": "display_data"
    }
   ],
   "source": [
    "sn.graph_width = 320\n",
    "sn.graph_height = 180\n",
    "\n",
    "sn.show_graph(dg)"
   ]
  },
  {
   "cell_type": "markdown",
   "metadata": {},
   "source": [
    "Essa é a representação mais comum de grafos dirigidos: círculos como nós e setas como arestas. Se uma seta *sai* do círculo que representa $n$ e *entra* no círculo que representa $m$, ela representa a aresta $(n, m)$.\n",
    "\n",
    "Note que as duas primeiras linhas não são necessárias se você rodou a célula anterior, pois os valores atribuídos a `graph_width` e `graph_height` são exatamente iguais.\n",
    "\n",
    "\n",
    "## Atributos de nós e arestas\n",
    "\n",
    "Na estrutura de dados usada pela `socnet`, os nós são *inteiros* e cada nó é asssociado a um *dicionário* que armazena seus atributos. Vamos modificar e imprimir o atributo `color` do nó $0$ do grafo `ug`. Esse atributo existe por padrão."
   ]
  },
  {
   "cell_type": "code",
   "execution_count": 44,
   "metadata": {},
   "outputs": [
    {
     "name": "stdout",
     "output_type": "stream",
     "text": [
      "(255, 0, 0)\n"
     ]
    }
   ],
   "source": [
    "ug.node[0]['color'] = (255, 0, 0)\n",
    "\n",
    "print(ug.node[0]['color'])"
   ]
  },
  {
   "cell_type": "markdown",
   "metadata": {},
   "source": [
    "Cada aresta também é asssociada a um dicionário que armazena seus atributos. Vamos modificar e imprimir o atributo `color` da aresta $\\{1, 2\\}$ do grafo `ug`. Esse atributo existe por padrão."
   ]
  },
  {
   "cell_type": "code",
   "execution_count": 45,
   "metadata": {},
   "outputs": [
    {
     "name": "stdout",
     "output_type": "stream",
     "text": [
      "(0, 255, 0)\n"
     ]
    }
   ],
   "source": [
    "ug.edge[1][2]['color'] = (0, 255, 0)\n",
    "\n",
    "print(ug.edge[1][2]['color'])"
   ]
  },
  {
   "cell_type": "markdown",
   "metadata": {},
   "source": [
    "Note que a ordem dos nós não importa, pois `ug` é um grafo não-dirigido."
   ]
  },
  {
   "cell_type": "code",
   "execution_count": 46,
   "metadata": {},
   "outputs": [
    {
     "name": "stdout",
     "output_type": "stream",
     "text": [
      "(0, 0, 255)\n"
     ]
    }
   ],
   "source": [
    "ug.edge[2][1]['color'] = (0, 0, 255)\n",
    "\n",
    "print(ug.edge[1][2]['color'])"
   ]
  },
  {
   "cell_type": "markdown",
   "metadata": {},
   "source": [
    "Os atributos `color` são exibidos na visualização."
   ]
  },
  {
   "cell_type": "code",
   "execution_count": 47,
   "metadata": {},
   "outputs": [
    {
     "data": {
      "application/vnd.plotly.v1+json": {
       "data": [
        {
         "hoverinfo": "none",
         "line": {
          "color": "rgb(0, 0, 255)",
          "width": 2
         },
         "mode": "lines",
         "x": [
          0.25,
          0.5,
          null
         ],
         "y": [
          1,
          1,
          null
         ]
        },
        {
         "hoverinfo": "none",
         "line": {
          "color": "rgb(0, 0, 0)",
          "width": 2
         },
         "mode": "lines",
         "x": [
          0,
          0.25,
          null,
          0,
          0.25,
          null,
          0.25,
          0.25,
          null,
          0.5,
          0.375,
          null,
          0.5,
          0.75,
          null,
          0.5,
          0.75,
          null,
          0.75,
          1,
          null,
          0.75,
          0.75,
          null,
          1,
          0.75,
          null,
          0.75,
          0.5,
          null,
          0.5,
          0.375,
          null,
          0.5,
          0.25,
          null,
          0.25,
          0.375,
          null
         ],
         "y": [
          0.5,
          1,
          null,
          0.5,
          0,
          null,
          1,
          0,
          null,
          1,
          0.5,
          null,
          1,
          1,
          null,
          1,
          0,
          null,
          1,
          0.5,
          null,
          1,
          0,
          null,
          0.5,
          0,
          null,
          0,
          0,
          null,
          0,
          0.5,
          null,
          0,
          0,
          null,
          0,
          0.5,
          null
         ]
        },
        {
         "hoverinfo": "none",
         "marker": {
          "color": "rgb(255, 255, 255)",
          "line": {
           "color": "rgb(0, 0, 0)",
           "width": 2
          },
          "size": 20
         },
         "mode": "markers+text",
         "text": [],
         "textfont": {
          "color": "rgb(0, 0, 0)"
         },
         "textposition": "middle center",
         "x": [
          0.25,
          0.5,
          0.75,
          1,
          0.75,
          0.5,
          0.25,
          0.375
         ],
         "y": [
          1,
          1,
          1,
          0.5,
          0,
          0,
          0,
          0.5
         ]
        },
        {
         "hoverinfo": "none",
         "marker": {
          "color": "rgb(255, 0, 0)",
          "line": {
           "color": "rgb(0, 0, 0)",
           "width": 2
          },
          "size": 20
         },
         "mode": "markers+text",
         "text": [],
         "textfont": {
          "color": "rgb(255, 255, 255)"
         },
         "textposition": "middle center",
         "x": [
          0
         ],
         "y": [
          0.5
         ]
        }
       ],
       "layout": {
        "height": 180,
        "margin": {
         "b": 0,
         "l": 0,
         "r": 0,
         "t": 0
        },
        "showlegend": false,
        "width": 320,
        "xaxis": {
         "showgrid": false,
         "showticklabels": false,
         "zeroline": false
        },
        "yaxis": {
         "showgrid": false,
         "showticklabels": false,
         "zeroline": false
        }
       }
      },
      "text/html": [
       "<div id=\"f7200f9e-299a-4c1b-bed0-5c34bb21daf1\" style=\"height: 180px; width: 320px;\" class=\"plotly-graph-div\"></div><script type=\"text/javascript\">require([\"plotly\"], function(Plotly) { window.PLOTLYENV=window.PLOTLYENV || {};window.PLOTLYENV.BASE_URL=\"https://plot.ly\";Plotly.newPlot(\"f7200f9e-299a-4c1b-bed0-5c34bb21daf1\", [{\"y\": [1.0, 1.0, null], \"line\": {\"width\": 2, \"color\": \"rgb(0, 0, 255)\"}, \"x\": [0.25, 0.5, null], \"hoverinfo\": \"none\", \"mode\": \"lines\"}, {\"y\": [0.5, 1.0, null, 0.5, 0.0, null, 1.0, 0.0, null, 1.0, 0.5, null, 1.0, 1.0, null, 1.0, 0.0, null, 1.0, 0.5, null, 1.0, 0.0, null, 0.5, 0.0, null, 0.0, 0.0, null, 0.0, 0.5, null, 0.0, 0.0, null, 0.0, 0.5, null], \"line\": {\"width\": 2, \"color\": \"rgb(0, 0, 0)\"}, \"x\": [0.0, 0.25, null, 0.0, 0.25, null, 0.25, 0.25, null, 0.5, 0.375, null, 0.5, 0.75, null, 0.5, 0.75, null, 0.75, 1.0, null, 0.75, 0.75, null, 1.0, 0.75, null, 0.75, 0.5, null, 0.5, 0.375, null, 0.5, 0.25, null, 0.25, 0.375, null], \"hoverinfo\": \"none\", \"mode\": \"lines\"}, {\"y\": [1.0, 1.0, 1.0, 0.5, 0.0, 0.0, 0.0, 0.5], \"x\": [0.25, 0.5, 0.75, 1.0, 0.75, 0.5, 0.25, 0.375], \"hoverinfo\": \"none\", \"marker\": {\"line\": {\"width\": 2, \"color\": \"rgb(0, 0, 0)\"}, \"size\": 20, \"color\": \"rgb(255, 255, 255)\"}, \"textfont\": {\"color\": \"rgb(0, 0, 0)\"}, \"text\": [], \"mode\": \"markers+text\", \"textposition\": \"middle center\"}, {\"y\": [0.5], \"x\": [0.0], \"hoverinfo\": \"none\", \"marker\": {\"line\": {\"width\": 2, \"color\": \"rgb(0, 0, 0)\"}, \"size\": 20, \"color\": \"rgb(255, 0, 0)\"}, \"textfont\": {\"color\": \"rgb(255, 255, 255)\"}, \"text\": [], \"mode\": \"markers+text\", \"textposition\": \"middle center\"}], {\"height\": 180, \"yaxis\": {\"showticklabels\": false, \"showgrid\": false, \"zeroline\": false}, \"margin\": {\"l\": 0, \"t\": 0, \"b\": 0, \"r\": 0}, \"xaxis\": {\"showticklabels\": false, \"showgrid\": false, \"zeroline\": false}, \"showlegend\": false, \"width\": 320}, {\"linkText\": \"Export to plot.ly\", \"displayModeBar\": false, \"showLink\": false})});</script>"
      ],
      "text/vnd.plotly.v1+html": [
       "<div id=\"f7200f9e-299a-4c1b-bed0-5c34bb21daf1\" style=\"height: 180px; width: 320px;\" class=\"plotly-graph-div\"></div><script type=\"text/javascript\">require([\"plotly\"], function(Plotly) { window.PLOTLYENV=window.PLOTLYENV || {};window.PLOTLYENV.BASE_URL=\"https://plot.ly\";Plotly.newPlot(\"f7200f9e-299a-4c1b-bed0-5c34bb21daf1\", [{\"y\": [1.0, 1.0, null], \"line\": {\"width\": 2, \"color\": \"rgb(0, 0, 255)\"}, \"x\": [0.25, 0.5, null], \"hoverinfo\": \"none\", \"mode\": \"lines\"}, {\"y\": [0.5, 1.0, null, 0.5, 0.0, null, 1.0, 0.0, null, 1.0, 0.5, null, 1.0, 1.0, null, 1.0, 0.0, null, 1.0, 0.5, null, 1.0, 0.0, null, 0.5, 0.0, null, 0.0, 0.0, null, 0.0, 0.5, null, 0.0, 0.0, null, 0.0, 0.5, null], \"line\": {\"width\": 2, \"color\": \"rgb(0, 0, 0)\"}, \"x\": [0.0, 0.25, null, 0.0, 0.25, null, 0.25, 0.25, null, 0.5, 0.375, null, 0.5, 0.75, null, 0.5, 0.75, null, 0.75, 1.0, null, 0.75, 0.75, null, 1.0, 0.75, null, 0.75, 0.5, null, 0.5, 0.375, null, 0.5, 0.25, null, 0.25, 0.375, null], \"hoverinfo\": \"none\", \"mode\": \"lines\"}, {\"y\": [1.0, 1.0, 1.0, 0.5, 0.0, 0.0, 0.0, 0.5], \"x\": [0.25, 0.5, 0.75, 1.0, 0.75, 0.5, 0.25, 0.375], \"hoverinfo\": \"none\", \"marker\": {\"line\": {\"width\": 2, \"color\": \"rgb(0, 0, 0)\"}, \"size\": 20, \"color\": \"rgb(255, 255, 255)\"}, \"textfont\": {\"color\": \"rgb(0, 0, 0)\"}, \"text\": [], \"mode\": \"markers+text\", \"textposition\": \"middle center\"}, {\"y\": [0.5], \"x\": [0.0], \"hoverinfo\": \"none\", \"marker\": {\"line\": {\"width\": 2, \"color\": \"rgb(0, 0, 0)\"}, \"size\": 20, \"color\": \"rgb(255, 0, 0)\"}, \"textfont\": {\"color\": \"rgb(255, 255, 255)\"}, \"text\": [], \"mode\": \"markers+text\", \"textposition\": \"middle center\"}], {\"height\": 180, \"yaxis\": {\"showticklabels\": false, \"showgrid\": false, \"zeroline\": false}, \"margin\": {\"l\": 0, \"t\": 0, \"b\": 0, \"r\": 0}, \"xaxis\": {\"showticklabels\": false, \"showgrid\": false, \"zeroline\": false}, \"showlegend\": false, \"width\": 320}, {\"linkText\": \"Export to plot.ly\", \"displayModeBar\": false, \"showLink\": false})});</script>"
      ]
     },
     "metadata": {},
     "output_type": "display_data"
    }
   ],
   "source": [
    "sn.show_graph(ug)"
   ]
  },
  {
   "cell_type": "markdown",
   "metadata": {},
   "source": [
    "Podemos usar funções de conveniência para reinicializar as cores."
   ]
  },
  {
   "cell_type": "code",
   "execution_count": 48,
   "metadata": {},
   "outputs": [
    {
     "data": {
      "application/vnd.plotly.v1+json": {
       "data": [
        {
         "hoverinfo": "none",
         "line": {
          "color": "rgb(0, 0, 0)",
          "width": 2
         },
         "mode": "lines",
         "x": [
          0,
          0.25,
          null,
          0,
          0.25,
          null,
          0.25,
          0.5,
          null,
          0.25,
          0.25,
          null,
          0.5,
          0.375,
          null,
          0.5,
          0.75,
          null,
          0.5,
          0.75,
          null,
          0.75,
          1,
          null,
          0.75,
          0.75,
          null,
          1,
          0.75,
          null,
          0.75,
          0.5,
          null,
          0.5,
          0.375,
          null,
          0.5,
          0.25,
          null,
          0.25,
          0.375,
          null
         ],
         "y": [
          0.5,
          1,
          null,
          0.5,
          0,
          null,
          1,
          1,
          null,
          1,
          0,
          null,
          1,
          0.5,
          null,
          1,
          1,
          null,
          1,
          0,
          null,
          1,
          0.5,
          null,
          1,
          0,
          null,
          0.5,
          0,
          null,
          0,
          0,
          null,
          0,
          0.5,
          null,
          0,
          0,
          null,
          0,
          0.5,
          null
         ]
        },
        {
         "hoverinfo": "none",
         "marker": {
          "color": "rgb(255, 255, 255)",
          "line": {
           "color": "rgb(0, 0, 0)",
           "width": 2
          },
          "size": 20
         },
         "mode": "markers+text",
         "text": [],
         "textfont": {
          "color": "rgb(0, 0, 0)"
         },
         "textposition": "middle center",
         "x": [
          0,
          0.25,
          0.5,
          0.75,
          1,
          0.75,
          0.5,
          0.25,
          0.375
         ],
         "y": [
          0.5,
          1,
          1,
          1,
          0.5,
          0,
          0,
          0,
          0.5
         ]
        }
       ],
       "layout": {
        "height": 180,
        "margin": {
         "b": 0,
         "l": 0,
         "r": 0,
         "t": 0
        },
        "showlegend": false,
        "width": 320,
        "xaxis": {
         "showgrid": false,
         "showticklabels": false,
         "zeroline": false
        },
        "yaxis": {
         "showgrid": false,
         "showticklabels": false,
         "zeroline": false
        }
       }
      },
      "text/html": [
       "<div id=\"c88efbd7-2ad2-4e40-825e-3b544023db22\" style=\"height: 180px; width: 320px;\" class=\"plotly-graph-div\"></div><script type=\"text/javascript\">require([\"plotly\"], function(Plotly) { window.PLOTLYENV=window.PLOTLYENV || {};window.PLOTLYENV.BASE_URL=\"https://plot.ly\";Plotly.newPlot(\"c88efbd7-2ad2-4e40-825e-3b544023db22\", [{\"y\": [0.5, 1.0, null, 0.5, 0.0, null, 1.0, 1.0, null, 1.0, 0.0, null, 1.0, 0.5, null, 1.0, 1.0, null, 1.0, 0.0, null, 1.0, 0.5, null, 1.0, 0.0, null, 0.5, 0.0, null, 0.0, 0.0, null, 0.0, 0.5, null, 0.0, 0.0, null, 0.0, 0.5, null], \"line\": {\"width\": 2, \"color\": \"rgb(0, 0, 0)\"}, \"x\": [0.0, 0.25, null, 0.0, 0.25, null, 0.25, 0.5, null, 0.25, 0.25, null, 0.5, 0.375, null, 0.5, 0.75, null, 0.5, 0.75, null, 0.75, 1.0, null, 0.75, 0.75, null, 1.0, 0.75, null, 0.75, 0.5, null, 0.5, 0.375, null, 0.5, 0.25, null, 0.25, 0.375, null], \"hoverinfo\": \"none\", \"mode\": \"lines\"}, {\"y\": [0.5, 1.0, 1.0, 1.0, 0.5, 0.0, 0.0, 0.0, 0.5], \"x\": [0.0, 0.25, 0.5, 0.75, 1.0, 0.75, 0.5, 0.25, 0.375], \"hoverinfo\": \"none\", \"marker\": {\"line\": {\"width\": 2, \"color\": \"rgb(0, 0, 0)\"}, \"size\": 20, \"color\": \"rgb(255, 255, 255)\"}, \"textfont\": {\"color\": \"rgb(0, 0, 0)\"}, \"text\": [], \"mode\": \"markers+text\", \"textposition\": \"middle center\"}], {\"height\": 180, \"yaxis\": {\"showticklabels\": false, \"showgrid\": false, \"zeroline\": false}, \"margin\": {\"l\": 0, \"t\": 0, \"b\": 0, \"r\": 0}, \"xaxis\": {\"showticklabels\": false, \"showgrid\": false, \"zeroline\": false}, \"showlegend\": false, \"width\": 320}, {\"linkText\": \"Export to plot.ly\", \"displayModeBar\": false, \"showLink\": false})});</script>"
      ],
      "text/vnd.plotly.v1+html": [
       "<div id=\"c88efbd7-2ad2-4e40-825e-3b544023db22\" style=\"height: 180px; width: 320px;\" class=\"plotly-graph-div\"></div><script type=\"text/javascript\">require([\"plotly\"], function(Plotly) { window.PLOTLYENV=window.PLOTLYENV || {};window.PLOTLYENV.BASE_URL=\"https://plot.ly\";Plotly.newPlot(\"c88efbd7-2ad2-4e40-825e-3b544023db22\", [{\"y\": [0.5, 1.0, null, 0.5, 0.0, null, 1.0, 1.0, null, 1.0, 0.0, null, 1.0, 0.5, null, 1.0, 1.0, null, 1.0, 0.0, null, 1.0, 0.5, null, 1.0, 0.0, null, 0.5, 0.0, null, 0.0, 0.0, null, 0.0, 0.5, null, 0.0, 0.0, null, 0.0, 0.5, null], \"line\": {\"width\": 2, \"color\": \"rgb(0, 0, 0)\"}, \"x\": [0.0, 0.25, null, 0.0, 0.25, null, 0.25, 0.5, null, 0.25, 0.25, null, 0.5, 0.375, null, 0.5, 0.75, null, 0.5, 0.75, null, 0.75, 1.0, null, 0.75, 0.75, null, 1.0, 0.75, null, 0.75, 0.5, null, 0.5, 0.375, null, 0.5, 0.25, null, 0.25, 0.375, null], \"hoverinfo\": \"none\", \"mode\": \"lines\"}, {\"y\": [0.5, 1.0, 1.0, 1.0, 0.5, 0.0, 0.0, 0.0, 0.5], \"x\": [0.0, 0.25, 0.5, 0.75, 1.0, 0.75, 0.5, 0.25, 0.375], \"hoverinfo\": \"none\", \"marker\": {\"line\": {\"width\": 2, \"color\": \"rgb(0, 0, 0)\"}, \"size\": 20, \"color\": \"rgb(255, 255, 255)\"}, \"textfont\": {\"color\": \"rgb(0, 0, 0)\"}, \"text\": [], \"mode\": \"markers+text\", \"textposition\": \"middle center\"}], {\"height\": 180, \"yaxis\": {\"showticklabels\": false, \"showgrid\": false, \"zeroline\": false}, \"margin\": {\"l\": 0, \"t\": 0, \"b\": 0, \"r\": 0}, \"xaxis\": {\"showticklabels\": false, \"showgrid\": false, \"zeroline\": false}, \"showlegend\": false, \"width\": 320}, {\"linkText\": \"Export to plot.ly\", \"displayModeBar\": false, \"showLink\": false})});</script>"
      ]
     },
     "metadata": {},
     "output_type": "display_data"
    }
   ],
   "source": [
    "sn.reset_node_colors(ug)\n",
    "sn.reset_edge_colors(ug)\n",
    "\n",
    "sn.show_graph(ug)"
   ]
  },
  {
   "cell_type": "markdown",
   "metadata": {},
   "source": [
    "Os atributos `label` também podem ser exibidos na visualização, mas não existem por padrão. Primeiramente, precisamos criá-los."
   ]
  },
  {
   "cell_type": "code",
   "execution_count": 49,
   "metadata": {
    "collapsed": true
   },
   "outputs": [],
   "source": [
    "for n in ug.nodes():\n",
    "    ug.node[n]['label'] = str(n)\n",
    "for n, m in ug.edges():\n",
    "    ug.edge[n][m]['label'] = '?'\n",
    "\n",
    "for n in dg.nodes():\n",
    "    dg.node[n]['label'] = str(n)\n",
    "for n, m in dg.edges():\n",
    "    dg.edge[n][m]['label'] = '?'"
   ]
  },
  {
   "cell_type": "markdown",
   "metadata": {},
   "source": [
    "Depois, precisamos usar os argumentos `nlab` e `elab` para indicar que queremos exibi-los. Esses argumentos são `False` por padrão. "
   ]
  },
  {
   "cell_type": "code",
   "execution_count": 50,
   "metadata": {},
   "outputs": [
    {
     "data": {
      "application/vnd.plotly.v1+json": {
       "data": [
        {
         "hoverinfo": "none",
         "line": {
          "color": "rgb(0, 0, 0)",
          "width": 2
         },
         "mode": "lines",
         "x": [
          0,
          0.25,
          null,
          0,
          0.25,
          null,
          0.25,
          0.5,
          null,
          0.25,
          0.25,
          null,
          0.5,
          0.375,
          null,
          0.5,
          0.75,
          null,
          0.5,
          0.75,
          null,
          0.75,
          1,
          null,
          0.75,
          0.75,
          null,
          1,
          0.75,
          null,
          0.75,
          0.5,
          null,
          0.5,
          0.375,
          null,
          0.5,
          0.25,
          null,
          0.25,
          0.375,
          null
         ],
         "y": [
          0.5,
          1,
          null,
          0.5,
          0,
          null,
          1,
          1,
          null,
          1,
          0,
          null,
          1,
          0.5,
          null,
          1,
          1,
          null,
          1,
          0,
          null,
          1,
          0.5,
          null,
          1,
          0,
          null,
          0.5,
          0,
          null,
          0,
          0,
          null,
          0,
          0.5,
          null,
          0,
          0,
          null,
          0,
          0.5,
          null
         ]
        },
        {
         "hoverinfo": "none",
         "marker": {
          "color": "rgb(255, 255, 255)",
          "line": {
           "color": "rgb(0, 0, 0)",
           "width": 2
          },
          "size": 20
         },
         "mode": "markers+text",
         "text": [
          "0",
          "1",
          "2",
          "3",
          "4",
          "5",
          "6",
          "7",
          "8"
         ],
         "textfont": {
          "color": "rgb(0, 0, 0)"
         },
         "textposition": "middle center",
         "x": [
          0,
          0.25,
          0.5,
          0.75,
          1,
          0.75,
          0.5,
          0.25,
          0.375
         ],
         "y": [
          0.5,
          1,
          1,
          1,
          0.5,
          0,
          0,
          0,
          0.5
         ]
        },
        {
         "hoverinfo": "none",
         "mode": "text",
         "text": [
          "?",
          "?",
          "?",
          "?",
          "?",
          "?",
          "?",
          "?",
          "?",
          "?",
          "?",
          "?",
          "?",
          "?"
         ],
         "textfont": {
          "color": "rgb(0, 0, 0)"
         },
         "textposition": "middle center",
         "x": [
          0.08835225700681207,
          0.16164774299318793,
          0.375,
          0.2878787878787879,
          0.4750594305323629,
          0.625,
          0.6625594305323629,
          0.911647742993188,
          0.7878787878787878,
          0.911647742993188,
          0.625,
          0.3999405694676371,
          0.375,
          0.2749405694676371
         ],
         "y": [
          0.768323871496594,
          0.268323871496594,
          1.0724637681159421,
          0.5,
          0.7406101423669093,
          1.0724637681159421,
          0.5093898576330907,
          0.768323871496594,
          0.5,
          0.23167612850340602,
          -0.07246376811594203,
          0.24061014236690928,
          -0.07246376811594203,
          0.2593898576330907
         ]
        }
       ],
       "layout": {
        "height": 180,
        "margin": {
         "b": 0,
         "l": 0,
         "r": 0,
         "t": 0
        },
        "showlegend": false,
        "width": 320,
        "xaxis": {
         "showgrid": false,
         "showticklabels": false,
         "zeroline": false
        },
        "yaxis": {
         "showgrid": false,
         "showticklabels": false,
         "zeroline": false
        }
       }
      },
      "text/html": [
       "<div id=\"d6e025fa-830d-4d57-a1a1-91bfe3b801e7\" style=\"height: 180px; width: 320px;\" class=\"plotly-graph-div\"></div><script type=\"text/javascript\">require([\"plotly\"], function(Plotly) { window.PLOTLYENV=window.PLOTLYENV || {};window.PLOTLYENV.BASE_URL=\"https://plot.ly\";Plotly.newPlot(\"d6e025fa-830d-4d57-a1a1-91bfe3b801e7\", [{\"y\": [0.5, 1.0, null, 0.5, 0.0, null, 1.0, 1.0, null, 1.0, 0.0, null, 1.0, 0.5, null, 1.0, 1.0, null, 1.0, 0.0, null, 1.0, 0.5, null, 1.0, 0.0, null, 0.5, 0.0, null, 0.0, 0.0, null, 0.0, 0.5, null, 0.0, 0.0, null, 0.0, 0.5, null], \"line\": {\"width\": 2, \"color\": \"rgb(0, 0, 0)\"}, \"x\": [0.0, 0.25, null, 0.0, 0.25, null, 0.25, 0.5, null, 0.25, 0.25, null, 0.5, 0.375, null, 0.5, 0.75, null, 0.5, 0.75, null, 0.75, 1.0, null, 0.75, 0.75, null, 1.0, 0.75, null, 0.75, 0.5, null, 0.5, 0.375, null, 0.5, 0.25, null, 0.25, 0.375, null], \"hoverinfo\": \"none\", \"mode\": \"lines\"}, {\"y\": [0.5, 1.0, 1.0, 1.0, 0.5, 0.0, 0.0, 0.0, 0.5], \"x\": [0.0, 0.25, 0.5, 0.75, 1.0, 0.75, 0.5, 0.25, 0.375], \"hoverinfo\": \"none\", \"marker\": {\"line\": {\"width\": 2, \"color\": \"rgb(0, 0, 0)\"}, \"size\": 20, \"color\": \"rgb(255, 255, 255)\"}, \"textfont\": {\"color\": \"rgb(0, 0, 0)\"}, \"text\": [\"0\", \"1\", \"2\", \"3\", \"4\", \"5\", \"6\", \"7\", \"8\"], \"mode\": \"markers+text\", \"textposition\": \"middle center\"}, {\"y\": [0.768323871496594, 0.268323871496594, 1.0724637681159421, 0.5, 0.7406101423669093, 1.0724637681159421, 0.5093898576330907, 0.768323871496594, 0.5, 0.23167612850340602, -0.07246376811594203, 0.24061014236690928, -0.07246376811594203, 0.2593898576330907], \"x\": [0.08835225700681207, 0.16164774299318793, 0.375, 0.2878787878787879, 0.4750594305323629, 0.625, 0.6625594305323629, 0.911647742993188, 0.7878787878787878, 0.911647742993188, 0.625, 0.3999405694676371, 0.375, 0.2749405694676371], \"hoverinfo\": \"none\", \"textfont\": {\"color\": \"rgb(0, 0, 0)\"}, \"textposition\": \"middle center\", \"mode\": \"text\", \"text\": [\"?\", \"?\", \"?\", \"?\", \"?\", \"?\", \"?\", \"?\", \"?\", \"?\", \"?\", \"?\", \"?\", \"?\"]}], {\"height\": 180, \"yaxis\": {\"showticklabels\": false, \"showgrid\": false, \"zeroline\": false}, \"margin\": {\"l\": 0, \"t\": 0, \"b\": 0, \"r\": 0}, \"xaxis\": {\"showticklabels\": false, \"showgrid\": false, \"zeroline\": false}, \"showlegend\": false, \"width\": 320}, {\"linkText\": \"Export to plot.ly\", \"displayModeBar\": false, \"showLink\": false})});</script>"
      ],
      "text/vnd.plotly.v1+html": [
       "<div id=\"d6e025fa-830d-4d57-a1a1-91bfe3b801e7\" style=\"height: 180px; width: 320px;\" class=\"plotly-graph-div\"></div><script type=\"text/javascript\">require([\"plotly\"], function(Plotly) { window.PLOTLYENV=window.PLOTLYENV || {};window.PLOTLYENV.BASE_URL=\"https://plot.ly\";Plotly.newPlot(\"d6e025fa-830d-4d57-a1a1-91bfe3b801e7\", [{\"y\": [0.5, 1.0, null, 0.5, 0.0, null, 1.0, 1.0, null, 1.0, 0.0, null, 1.0, 0.5, null, 1.0, 1.0, null, 1.0, 0.0, null, 1.0, 0.5, null, 1.0, 0.0, null, 0.5, 0.0, null, 0.0, 0.0, null, 0.0, 0.5, null, 0.0, 0.0, null, 0.0, 0.5, null], \"line\": {\"width\": 2, \"color\": \"rgb(0, 0, 0)\"}, \"x\": [0.0, 0.25, null, 0.0, 0.25, null, 0.25, 0.5, null, 0.25, 0.25, null, 0.5, 0.375, null, 0.5, 0.75, null, 0.5, 0.75, null, 0.75, 1.0, null, 0.75, 0.75, null, 1.0, 0.75, null, 0.75, 0.5, null, 0.5, 0.375, null, 0.5, 0.25, null, 0.25, 0.375, null], \"hoverinfo\": \"none\", \"mode\": \"lines\"}, {\"y\": [0.5, 1.0, 1.0, 1.0, 0.5, 0.0, 0.0, 0.0, 0.5], \"x\": [0.0, 0.25, 0.5, 0.75, 1.0, 0.75, 0.5, 0.25, 0.375], \"hoverinfo\": \"none\", \"marker\": {\"line\": {\"width\": 2, \"color\": \"rgb(0, 0, 0)\"}, \"size\": 20, \"color\": \"rgb(255, 255, 255)\"}, \"textfont\": {\"color\": \"rgb(0, 0, 0)\"}, \"text\": [\"0\", \"1\", \"2\", \"3\", \"4\", \"5\", \"6\", \"7\", \"8\"], \"mode\": \"markers+text\", \"textposition\": \"middle center\"}, {\"y\": [0.768323871496594, 0.268323871496594, 1.0724637681159421, 0.5, 0.7406101423669093, 1.0724637681159421, 0.5093898576330907, 0.768323871496594, 0.5, 0.23167612850340602, -0.07246376811594203, 0.24061014236690928, -0.07246376811594203, 0.2593898576330907], \"x\": [0.08835225700681207, 0.16164774299318793, 0.375, 0.2878787878787879, 0.4750594305323629, 0.625, 0.6625594305323629, 0.911647742993188, 0.7878787878787878, 0.911647742993188, 0.625, 0.3999405694676371, 0.375, 0.2749405694676371], \"hoverinfo\": \"none\", \"textfont\": {\"color\": \"rgb(0, 0, 0)\"}, \"textposition\": \"middle center\", \"mode\": \"text\", \"text\": [\"?\", \"?\", \"?\", \"?\", \"?\", \"?\", \"?\", \"?\", \"?\", \"?\", \"?\", \"?\", \"?\", \"?\"]}], {\"height\": 180, \"yaxis\": {\"showticklabels\": false, \"showgrid\": false, \"zeroline\": false}, \"margin\": {\"l\": 0, \"t\": 0, \"b\": 0, \"r\": 0}, \"xaxis\": {\"showticklabels\": false, \"showgrid\": false, \"zeroline\": false}, \"showlegend\": false, \"width\": 320}, {\"linkText\": \"Export to plot.ly\", \"displayModeBar\": false, \"showLink\": false})});</script>"
      ]
     },
     "metadata": {},
     "output_type": "display_data"
    },
    {
     "data": {
      "application/vnd.plotly.v1+json": {
       "data": [
        {
         "hoverinfo": "none",
         "line": {
          "color": "rgb(0, 0, 0)",
          "width": 2
         },
         "mode": "lines",
         "x": [
          0,
          0.5,
          null,
          0.46643085439538495,
          0.44538388103556675,
          null,
          0.46643085439538495,
          0.4285584341548651,
          null,
          0,
          0.5,
          null,
          0.46643085439538495,
          0.4285584341548651,
          null,
          0.46643085439538495,
          0.44538388103556675,
          null,
          0.5,
          1,
          null,
          0.9621212121212122,
          0.9288794484132434,
          null,
          0.9621212121212122,
          0.9288794484132434,
          null,
          0.5075757575757576,
          0.5075757575757576,
          null,
          0.5075757575757576,
          0.5257358158562198,
          null,
          1.0075757575757576,
          1.0075757575757576,
          null,
          1.0075757575757576,
          1.0257358158562198,
          null,
          0.49242424242424243,
          0.49242424242424243,
          null,
          0.49242424242424243,
          0.4742641841437802,
          null,
          0.5,
          1,
          null,
          0.9738173240163878,
          0.9639630823912474,
          null,
          0.9738173240163878,
          0.9377166459078401,
          null,
          0.5,
          1,
          null,
          0.9621212121212122,
          0.9288794484132434,
          null,
          0.9621212121212122,
          0.9288794484132434,
          null,
          1,
          0,
          null,
          0.03664774299318793,
          0.07340128670201525,
          null,
          0.03664774299318793,
          0.06421703965128427,
          null,
          0.9924242424242424,
          0.9924242424242424,
          null,
          0.9924242424242424,
          0.9742641841437802,
          null
         ],
         "y": [
          0.5,
          1,
          null,
          0.966430854395385,
          0.906182816233176,
          null,
          0.966430854395385,
          0.967759498957256,
          null,
          0.5,
          0,
          null,
          0.03356914560461503,
          0.032240501042743994,
          null,
          0.03356914560461503,
          0.09381718376682407,
          null,
          1,
          1,
          null,
          1,
          0.9652590189417244,
          null,
          1,
          1.0347409810582755,
          null,
          1,
          0,
          null,
          0.07246376811594203,
          0.13605670738336034,
          null,
          1,
          0,
          null,
          0.07246376811594203,
          0.13605670738336034,
          null,
          0,
          1,
          null,
          0.927536231884058,
          0.8639432926166397,
          null,
          0,
          1,
          null,
          0.9476346480327754,
          0.8776659754484841,
          null,
          0.9476346480327754,
          0.9256934811496907,
          null,
          0,
          0,
          null,
          0,
          -0.03474098105827558,
          null,
          0,
          0.03474098105827558,
          null,
          0,
          0.5,
          null,
          0.481676128503406,
          0.4992073320037643,
          null,
          0.481676128503406,
          0.4319835048195859,
          null,
          0,
          1,
          null,
          0.927536231884058,
          0.8639432926166397,
          null
         ]
        },
        {
         "hoverinfo": "none",
         "marker": {
          "color": "rgb(255, 255, 255)",
          "line": {
           "color": "rgb(0, 0, 0)",
           "width": 2
          },
          "size": 20
         },
         "mode": "markers+text",
         "text": [
          "0",
          "1",
          "2",
          "3",
          "4"
         ],
         "textfont": {
          "color": "rgb(0, 0, 0)"
         },
         "textposition": "middle center",
         "x": [
          0,
          0.5,
          1,
          0.5,
          1
         ],
         "y": [
          0.5,
          1,
          1,
          0,
          0
         ]
        },
        {
         "hoverinfo": "none",
         "mode": "text",
         "text": [
          "?",
          "?",
          "?",
          "?",
          "?",
          "?",
          "?",
          "?",
          "?",
          "?"
         ],
         "textfont": {
          "color": "rgb(0, 0, 0)"
         },
         "textposition": "middle center",
         "x": [
          0.21643085439538495,
          0.28356914560461505,
          0.75,
          0.5454545454545454,
          1.0454545454545454,
          0.45454545454545453,
          0.713352257006812,
          0.75,
          0.4738173240163877,
          0.9545454545454546
         ],
         "y": [
          0.783569145604615,
          0.28356914560461505,
          1.0724637681159421,
          0.5,
          0.5,
          0.5,
          0.518323871496594,
          0.07246376811594203,
          0.19763464803277542,
          0.5
         ]
        }
       ],
       "layout": {
        "height": 180,
        "margin": {
         "b": 0,
         "l": 0,
         "r": 0,
         "t": 0
        },
        "showlegend": false,
        "width": 320,
        "xaxis": {
         "showgrid": false,
         "showticklabels": false,
         "zeroline": false
        },
        "yaxis": {
         "showgrid": false,
         "showticklabels": false,
         "zeroline": false
        }
       }
      },
      "text/html": [
       "<div id=\"f2f8f9aa-e295-464a-87b9-577a82f6707f\" style=\"height: 180px; width: 320px;\" class=\"plotly-graph-div\"></div><script type=\"text/javascript\">require([\"plotly\"], function(Plotly) { window.PLOTLYENV=window.PLOTLYENV || {};window.PLOTLYENV.BASE_URL=\"https://plot.ly\";Plotly.newPlot(\"f2f8f9aa-e295-464a-87b9-577a82f6707f\", [{\"y\": [0.5, 1.0, null, 0.966430854395385, 0.906182816233176, null, 0.966430854395385, 0.967759498957256, null, 0.5, 0.0, null, 0.03356914560461503, 0.032240501042743994, null, 0.03356914560461503, 0.09381718376682407, null, 1.0, 1.0, null, 1.0, 0.9652590189417244, null, 1.0, 1.0347409810582755, null, 1.0, 0.0, null, 0.07246376811594203, 0.13605670738336034, null, 1.0, 0.0, null, 0.07246376811594203, 0.13605670738336034, null, 0.0, 1.0, null, 0.927536231884058, 0.8639432926166397, null, 0.0, 1.0, null, 0.9476346480327754, 0.8776659754484841, null, 0.9476346480327754, 0.9256934811496907, null, 0.0, 0.0, null, 0.0, -0.03474098105827558, null, 0.0, 0.03474098105827558, null, 0.0, 0.5, null, 0.481676128503406, 0.4992073320037643, null, 0.481676128503406, 0.4319835048195859, null, 0.0, 1.0, null, 0.927536231884058, 0.8639432926166397, null], \"line\": {\"width\": 2, \"color\": \"rgb(0, 0, 0)\"}, \"x\": [0.0, 0.5, null, 0.46643085439538495, 0.44538388103556675, null, 0.46643085439538495, 0.4285584341548651, null, 0.0, 0.5, null, 0.46643085439538495, 0.4285584341548651, null, 0.46643085439538495, 0.44538388103556675, null, 0.5, 1.0, null, 0.9621212121212122, 0.9288794484132434, null, 0.9621212121212122, 0.9288794484132434, null, 0.5075757575757576, 0.5075757575757576, null, 0.5075757575757576, 0.5257358158562198, null, 1.0075757575757576, 1.0075757575757576, null, 1.0075757575757576, 1.0257358158562198, null, 0.49242424242424243, 0.49242424242424243, null, 0.49242424242424243, 0.4742641841437802, null, 0.5, 1.0, null, 0.9738173240163878, 0.9639630823912474, null, 0.9738173240163878, 0.9377166459078401, null, 0.5, 1.0, null, 0.9621212121212122, 0.9288794484132434, null, 0.9621212121212122, 0.9288794484132434, null, 1.0, 0.0, null, 0.03664774299318793, 0.07340128670201525, null, 0.03664774299318793, 0.06421703965128427, null, 0.9924242424242424, 0.9924242424242424, null, 0.9924242424242424, 0.9742641841437802, null], \"hoverinfo\": \"none\", \"mode\": \"lines\"}, {\"y\": [0.5, 1.0, 1.0, 0.0, 0.0], \"x\": [0.0, 0.5, 1.0, 0.5, 1.0], \"hoverinfo\": \"none\", \"marker\": {\"line\": {\"width\": 2, \"color\": \"rgb(0, 0, 0)\"}, \"size\": 20, \"color\": \"rgb(255, 255, 255)\"}, \"textfont\": {\"color\": \"rgb(0, 0, 0)\"}, \"text\": [\"0\", \"1\", \"2\", \"3\", \"4\"], \"mode\": \"markers+text\", \"textposition\": \"middle center\"}, {\"y\": [0.783569145604615, 0.28356914560461505, 1.0724637681159421, 0.5, 0.5, 0.5, 0.518323871496594, 0.07246376811594203, 0.19763464803277542, 0.5], \"x\": [0.21643085439538495, 0.28356914560461505, 0.75, 0.5454545454545454, 1.0454545454545454, 0.45454545454545453, 0.713352257006812, 0.75, 0.4738173240163877, 0.9545454545454546], \"hoverinfo\": \"none\", \"textfont\": {\"color\": \"rgb(0, 0, 0)\"}, \"textposition\": \"middle center\", \"mode\": \"text\", \"text\": [\"?\", \"?\", \"?\", \"?\", \"?\", \"?\", \"?\", \"?\", \"?\", \"?\"]}], {\"height\": 180, \"yaxis\": {\"showticklabels\": false, \"showgrid\": false, \"zeroline\": false}, \"margin\": {\"l\": 0, \"t\": 0, \"b\": 0, \"r\": 0}, \"xaxis\": {\"showticklabels\": false, \"showgrid\": false, \"zeroline\": false}, \"showlegend\": false, \"width\": 320}, {\"linkText\": \"Export to plot.ly\", \"displayModeBar\": false, \"showLink\": false})});</script>"
      ],
      "text/vnd.plotly.v1+html": [
       "<div id=\"f2f8f9aa-e295-464a-87b9-577a82f6707f\" style=\"height: 180px; width: 320px;\" class=\"plotly-graph-div\"></div><script type=\"text/javascript\">require([\"plotly\"], function(Plotly) { window.PLOTLYENV=window.PLOTLYENV || {};window.PLOTLYENV.BASE_URL=\"https://plot.ly\";Plotly.newPlot(\"f2f8f9aa-e295-464a-87b9-577a82f6707f\", [{\"y\": [0.5, 1.0, null, 0.966430854395385, 0.906182816233176, null, 0.966430854395385, 0.967759498957256, null, 0.5, 0.0, null, 0.03356914560461503, 0.032240501042743994, null, 0.03356914560461503, 0.09381718376682407, null, 1.0, 1.0, null, 1.0, 0.9652590189417244, null, 1.0, 1.0347409810582755, null, 1.0, 0.0, null, 0.07246376811594203, 0.13605670738336034, null, 1.0, 0.0, null, 0.07246376811594203, 0.13605670738336034, null, 0.0, 1.0, null, 0.927536231884058, 0.8639432926166397, null, 0.0, 1.0, null, 0.9476346480327754, 0.8776659754484841, null, 0.9476346480327754, 0.9256934811496907, null, 0.0, 0.0, null, 0.0, -0.03474098105827558, null, 0.0, 0.03474098105827558, null, 0.0, 0.5, null, 0.481676128503406, 0.4992073320037643, null, 0.481676128503406, 0.4319835048195859, null, 0.0, 1.0, null, 0.927536231884058, 0.8639432926166397, null], \"line\": {\"width\": 2, \"color\": \"rgb(0, 0, 0)\"}, \"x\": [0.0, 0.5, null, 0.46643085439538495, 0.44538388103556675, null, 0.46643085439538495, 0.4285584341548651, null, 0.0, 0.5, null, 0.46643085439538495, 0.4285584341548651, null, 0.46643085439538495, 0.44538388103556675, null, 0.5, 1.0, null, 0.9621212121212122, 0.9288794484132434, null, 0.9621212121212122, 0.9288794484132434, null, 0.5075757575757576, 0.5075757575757576, null, 0.5075757575757576, 0.5257358158562198, null, 1.0075757575757576, 1.0075757575757576, null, 1.0075757575757576, 1.0257358158562198, null, 0.49242424242424243, 0.49242424242424243, null, 0.49242424242424243, 0.4742641841437802, null, 0.5, 1.0, null, 0.9738173240163878, 0.9639630823912474, null, 0.9738173240163878, 0.9377166459078401, null, 0.5, 1.0, null, 0.9621212121212122, 0.9288794484132434, null, 0.9621212121212122, 0.9288794484132434, null, 1.0, 0.0, null, 0.03664774299318793, 0.07340128670201525, null, 0.03664774299318793, 0.06421703965128427, null, 0.9924242424242424, 0.9924242424242424, null, 0.9924242424242424, 0.9742641841437802, null], \"hoverinfo\": \"none\", \"mode\": \"lines\"}, {\"y\": [0.5, 1.0, 1.0, 0.0, 0.0], \"x\": [0.0, 0.5, 1.0, 0.5, 1.0], \"hoverinfo\": \"none\", \"marker\": {\"line\": {\"width\": 2, \"color\": \"rgb(0, 0, 0)\"}, \"size\": 20, \"color\": \"rgb(255, 255, 255)\"}, \"textfont\": {\"color\": \"rgb(0, 0, 0)\"}, \"text\": [\"0\", \"1\", \"2\", \"3\", \"4\"], \"mode\": \"markers+text\", \"textposition\": \"middle center\"}, {\"y\": [0.783569145604615, 0.28356914560461505, 1.0724637681159421, 0.5, 0.5, 0.5, 0.518323871496594, 0.07246376811594203, 0.19763464803277542, 0.5], \"x\": [0.21643085439538495, 0.28356914560461505, 0.75, 0.5454545454545454, 1.0454545454545454, 0.45454545454545453, 0.713352257006812, 0.75, 0.4738173240163877, 0.9545454545454546], \"hoverinfo\": \"none\", \"textfont\": {\"color\": \"rgb(0, 0, 0)\"}, \"textposition\": \"middle center\", \"mode\": \"text\", \"text\": [\"?\", \"?\", \"?\", \"?\", \"?\", \"?\", \"?\", \"?\", \"?\", \"?\"]}], {\"height\": 180, \"yaxis\": {\"showticklabels\": false, \"showgrid\": false, \"zeroline\": false}, \"margin\": {\"l\": 0, \"t\": 0, \"b\": 0, \"r\": 0}, \"xaxis\": {\"showticklabels\": false, \"showgrid\": false, \"zeroline\": false}, \"showlegend\": false, \"width\": 320}, {\"linkText\": \"Export to plot.ly\", \"displayModeBar\": false, \"showLink\": false})});</script>"
      ]
     },
     "metadata": {},
     "output_type": "display_data"
    }
   ],
   "source": [
    "sn.show_graph(ug, nlab=True, elab=True)\n",
    "sn.show_graph(dg, nlab=True, elab=True)"
   ]
  },
  {
   "cell_type": "markdown",
   "metadata": {},
   "source": [
    "## Vizinhos, predecessores e sucessores\n",
    "\n",
    "Considere um grafo $(N, E)$ e um nó $n$. Suponha que esse grafo é não-dirigido.\n",
    "\n",
    "Nesse caso, dizemos que $n$ é **vizinho** (*neighbor*) de $m$ se $\\{n, m\\} \\in E$. Denotamos por $\\mathcal{N}(n)$ o conjunto dos vizinhos de $n$."
   ]
  },
  {
   "cell_type": "code",
   "execution_count": 51,
   "metadata": {},
   "outputs": [
    {
     "name": "stdout",
     "output_type": "stream",
     "text": [
      "[1, 7]\n"
     ]
    }
   ],
   "source": [
    "print(ug.neighbors(0))"
   ]
  },
  {
   "cell_type": "markdown",
   "metadata": {},
   "source": [
    "Suponha agora que o grafo $(N, E)$ é dirigido.\n",
    "\n",
    "Nesse caso, dizemos que $n$ é **predecessor** de $m$ se $(n, m) \\in E$ e dizemos que $n$ é **sucessor** de $m$ se $(m, n) \\in E$. Denotamos por $\\mathcal{P}(n)$ o conjunto dos predecessores de $n$ e denotamos por $\\mathcal{S}(n)$ o conjunto dos sucessores de $n$."
   ]
  },
  {
   "cell_type": "code",
   "execution_count": 52,
   "metadata": {},
   "outputs": [
    {
     "name": "stdout",
     "output_type": "stream",
     "text": [
      "[1, 3]\n",
      "[0, 3]\n"
     ]
    }
   ],
   "source": [
    "print(dg.successors(0))\n",
    "print(dg.predecessors(1))"
   ]
  },
  {
   "cell_type": "markdown",
   "metadata": {},
   "source": [
    "## Passeios, trilhas e caminhos\n",
    "\n",
    "Se $(N, E)$ é um grafo não-dirigido:\n",
    "\n",
    "* um **passeio** (*walk*) é uma sequência de nós $\\langle n_0, n_1, \\ldots, n_{k-1} \\rangle$ tal que, para todo $i$ entre $0$ e $k-2$, temos que $\\{n_i, n_{i + 1}\\} \\in E$;\n",
    "\n",
    "* uma **trilha** (*trail*) é um passeio $\\langle n_0, n_1, \\ldots, n_{k-1} \\rangle$ no qual não existem índices $i$ e $j$ entre $0$ e $k-2$ tais que $i \\neq j$ e $\\{n_i, n_{i+1}\\} = \\{n_j, n_{j+1}\\}$;\n",
    "\n",
    "* um **caminho** (*path*) é um passeio $\\langle n_0, n_1, \\ldots, n_{k-1} \\rangle$ no qual não existem índices $i$ e $j$ entre $0$ e $k-1$ tais que $i \\neq j$ e $n_i = n_j$.\n",
    "\n",
    "Se $(N, E)$ é um grafo dirigido:\n",
    "\n",
    "* um **passeio** (*walk*) é uma sequência de nós $\\langle n_0, n_1, \\ldots, n_{k-1} \\rangle$ tal que, para todo $i$ entre $0$ e $k-2$, temos que $(n_i, n_{i + 1}) \\in E$;\n",
    "\n",
    "* uma **trilha** (*trail*) é um passeio $\\langle n_0, n_1, \\ldots, n_{k-1} \\rangle$ no qual não existem índices $i$ e $j$ entre $0$ e $k-2$ tais que $i \\neq j$ e $(n_i, n_{i+1}) = (n_j, n_{j+1})$;\n",
    "\n",
    "* um **caminho** (*path*) é um passeio $\\langle n_0, n_1, \\ldots, n_{k-1} \\rangle$ no qual não existem índices $i$ e $j$ entre $0$ e $k-1$ tais que $i \\neq j$ e $n_i = n_j$.\n",
    "\n",
    "Pode-se dizer que uma trilha é um passeio que não repete arestas e um caminho é um passeio que não repete nós.\n",
    "\n",
    "### Exercício 1\n",
    "\n",
    "Dê um exemplo de passeio que não é trilha no grafo `ug`."
   ]
  },
  {
   "cell_type": "markdown",
   "metadata": {},
   "source": [
    "Um exemplo de passeio que não é trilha, é uma sequência de nós que acabam tendo arestas repetidas, exemplo:\n",
    "\n",
    "1-2-8-7-1-2"
   ]
  },
  {
   "cell_type": "markdown",
   "metadata": {},
   "source": [
    "### Exercício 2\n",
    "\n",
    "Dê um exemplo de passeio que não é trilha no grafo `dg`."
   ]
  },
  {
   "cell_type": "markdown",
   "metadata": {},
   "source": [
    "Um exemplo de passeio que não é trilha, é uma sequência de nós que acabam tendo arestas repetidas, exemplo:\n",
    "\n",
    "0-1-3-1-3-1-3"
   ]
  },
  {
   "cell_type": "markdown",
   "metadata": {},
   "source": [
    "### Exercício 3\n",
    "\n",
    "Dê um exemplo de trilha que não é caminho no grafo `ug`."
   ]
  },
  {
   "cell_type": "markdown",
   "metadata": {},
   "source": [
    "Uma trilha que não é caminho é uma sequência de nós que em um vértice acaba se repetindo, exemplo:\n",
    "\n",
    "0-1-2-8-6-5-2-3"
   ]
  },
  {
   "cell_type": "markdown",
   "metadata": {},
   "source": [
    "### Exercício 4\n",
    "\n",
    "Dê um exemplo de trilha que não é caminho no grafo `dg`."
   ]
  },
  {
   "cell_type": "markdown",
   "metadata": {},
   "source": [
    "Uma trilha que não é caminho é uma sequência de nós que em um vértice acaba se repetindo, exemplo:\n",
    "\n",
    "0-1-3-1-2"
   ]
  },
  {
   "cell_type": "markdown",
   "metadata": {},
   "source": [
    "### Exercício 5\n",
    "\n",
    "Use cores para dar um exemplo de caminho no grafo `ug`."
   ]
  },
  {
   "cell_type": "code",
   "execution_count": 63,
   "metadata": {},
   "outputs": [
    {
     "data": {
      "application/vnd.plotly.v1+json": {
       "data": [
        {
         "hoverinfo": "none",
         "line": {
          "color": "rgb(0, 0, 255)",
          "width": 2
         },
         "mode": "lines",
         "x": [
          0,
          0.25,
          null,
          0.25,
          0.5,
          null,
          0.5,
          0.75,
          null,
          0.75,
          0.75,
          null
         ],
         "y": [
          0.5,
          1,
          null,
          1,
          1,
          null,
          1,
          0,
          null,
          1,
          0,
          null
         ]
        },
        {
         "hoverinfo": "none",
         "line": {
          "color": "rgb(0, 0, 0)",
          "width": 2
         },
         "mode": "lines",
         "x": [
          0,
          0.25,
          null,
          0.25,
          0.25,
          null,
          0.5,
          0.375,
          null,
          0.5,
          0.75,
          null,
          0.75,
          1,
          null,
          1,
          0.75,
          null,
          0.75,
          0.5,
          null,
          0.5,
          0.375,
          null,
          0.5,
          0.25,
          null,
          0.25,
          0.375,
          null
         ],
         "y": [
          0.5,
          0,
          null,
          1,
          0,
          null,
          1,
          0.5,
          null,
          1,
          1,
          null,
          1,
          0.5,
          null,
          0.5,
          0,
          null,
          0,
          0,
          null,
          0,
          0.5,
          null,
          0,
          0,
          null,
          0,
          0.5,
          null
         ]
        },
        {
         "hoverinfo": "none",
         "marker": {
          "color": "rgb(255, 255, 255)",
          "line": {
           "color": "rgb(0, 0, 0)",
           "width": 2
          },
          "size": 20
         },
         "mode": "markers+text",
         "text": [
          "0",
          "1",
          "2",
          "3",
          "4",
          "5",
          "6",
          "7",
          "8"
         ],
         "textfont": {
          "color": "rgb(0, 0, 0)"
         },
         "textposition": "middle center",
         "x": [
          0,
          0.25,
          0.5,
          0.75,
          1,
          0.75,
          0.5,
          0.25,
          0.375
         ],
         "y": [
          0.5,
          1,
          1,
          1,
          0.5,
          0,
          0,
          0,
          0.5
         ]
        }
       ],
       "layout": {
        "height": 180,
        "margin": {
         "b": 0,
         "l": 0,
         "r": 0,
         "t": 0
        },
        "showlegend": false,
        "width": 320,
        "xaxis": {
         "showgrid": false,
         "showticklabels": false,
         "zeroline": false
        },
        "yaxis": {
         "showgrid": false,
         "showticklabels": false,
         "zeroline": false
        }
       }
      },
      "text/html": [
       "<div id=\"0fcd2f9b-67f7-4b2f-ae8e-4125343d2b9a\" style=\"height: 180px; width: 320px;\" class=\"plotly-graph-div\"></div><script type=\"text/javascript\">require([\"plotly\"], function(Plotly) { window.PLOTLYENV=window.PLOTLYENV || {};window.PLOTLYENV.BASE_URL=\"https://plot.ly\";Plotly.newPlot(\"0fcd2f9b-67f7-4b2f-ae8e-4125343d2b9a\", [{\"y\": [0.5, 1.0, null, 1.0, 1.0, null, 1.0, 0.0, null, 1.0, 0.0, null], \"line\": {\"width\": 2, \"color\": \"rgb(0, 0, 255)\"}, \"x\": [0.0, 0.25, null, 0.25, 0.5, null, 0.5, 0.75, null, 0.75, 0.75, null], \"hoverinfo\": \"none\", \"mode\": \"lines\"}, {\"y\": [0.5, 0.0, null, 1.0, 0.0, null, 1.0, 0.5, null, 1.0, 1.0, null, 1.0, 0.5, null, 0.5, 0.0, null, 0.0, 0.0, null, 0.0, 0.5, null, 0.0, 0.0, null, 0.0, 0.5, null], \"line\": {\"width\": 2, \"color\": \"rgb(0, 0, 0)\"}, \"x\": [0.0, 0.25, null, 0.25, 0.25, null, 0.5, 0.375, null, 0.5, 0.75, null, 0.75, 1.0, null, 1.0, 0.75, null, 0.75, 0.5, null, 0.5, 0.375, null, 0.5, 0.25, null, 0.25, 0.375, null], \"hoverinfo\": \"none\", \"mode\": \"lines\"}, {\"y\": [0.5, 1.0, 1.0, 1.0, 0.5, 0.0, 0.0, 0.0, 0.5], \"x\": [0.0, 0.25, 0.5, 0.75, 1.0, 0.75, 0.5, 0.25, 0.375], \"hoverinfo\": \"none\", \"marker\": {\"line\": {\"width\": 2, \"color\": \"rgb(0, 0, 0)\"}, \"size\": 20, \"color\": \"rgb(255, 255, 255)\"}, \"textfont\": {\"color\": \"rgb(0, 0, 0)\"}, \"text\": [\"0\", \"1\", \"2\", \"3\", \"4\", \"5\", \"6\", \"7\", \"8\"], \"mode\": \"markers+text\", \"textposition\": \"middle center\"}], {\"height\": 180, \"yaxis\": {\"showticklabels\": false, \"showgrid\": false, \"zeroline\": false}, \"margin\": {\"l\": 0, \"t\": 0, \"b\": 0, \"r\": 0}, \"xaxis\": {\"showticklabels\": false, \"showgrid\": false, \"zeroline\": false}, \"showlegend\": false, \"width\": 320}, {\"linkText\": \"Export to plot.ly\", \"displayModeBar\": false, \"showLink\": false})});</script>"
      ],
      "text/vnd.plotly.v1+html": [
       "<div id=\"0fcd2f9b-67f7-4b2f-ae8e-4125343d2b9a\" style=\"height: 180px; width: 320px;\" class=\"plotly-graph-div\"></div><script type=\"text/javascript\">require([\"plotly\"], function(Plotly) { window.PLOTLYENV=window.PLOTLYENV || {};window.PLOTLYENV.BASE_URL=\"https://plot.ly\";Plotly.newPlot(\"0fcd2f9b-67f7-4b2f-ae8e-4125343d2b9a\", [{\"y\": [0.5, 1.0, null, 1.0, 1.0, null, 1.0, 0.0, null, 1.0, 0.0, null], \"line\": {\"width\": 2, \"color\": \"rgb(0, 0, 255)\"}, \"x\": [0.0, 0.25, null, 0.25, 0.5, null, 0.5, 0.75, null, 0.75, 0.75, null], \"hoverinfo\": \"none\", \"mode\": \"lines\"}, {\"y\": [0.5, 0.0, null, 1.0, 0.0, null, 1.0, 0.5, null, 1.0, 1.0, null, 1.0, 0.5, null, 0.5, 0.0, null, 0.0, 0.0, null, 0.0, 0.5, null, 0.0, 0.0, null, 0.0, 0.5, null], \"line\": {\"width\": 2, \"color\": \"rgb(0, 0, 0)\"}, \"x\": [0.0, 0.25, null, 0.25, 0.25, null, 0.5, 0.375, null, 0.5, 0.75, null, 0.75, 1.0, null, 1.0, 0.75, null, 0.75, 0.5, null, 0.5, 0.375, null, 0.5, 0.25, null, 0.25, 0.375, null], \"hoverinfo\": \"none\", \"mode\": \"lines\"}, {\"y\": [0.5, 1.0, 1.0, 1.0, 0.5, 0.0, 0.0, 0.0, 0.5], \"x\": [0.0, 0.25, 0.5, 0.75, 1.0, 0.75, 0.5, 0.25, 0.375], \"hoverinfo\": \"none\", \"marker\": {\"line\": {\"width\": 2, \"color\": \"rgb(0, 0, 0)\"}, \"size\": 20, \"color\": \"rgb(255, 255, 255)\"}, \"textfont\": {\"color\": \"rgb(0, 0, 0)\"}, \"text\": [\"0\", \"1\", \"2\", \"3\", \"4\", \"5\", \"6\", \"7\", \"8\"], \"mode\": \"markers+text\", \"textposition\": \"middle center\"}], {\"height\": 180, \"yaxis\": {\"showticklabels\": false, \"showgrid\": false, \"zeroline\": false}, \"margin\": {\"l\": 0, \"t\": 0, \"b\": 0, \"r\": 0}, \"xaxis\": {\"showticklabels\": false, \"showgrid\": false, \"zeroline\": false}, \"showlegend\": false, \"width\": 320}, {\"linkText\": \"Export to plot.ly\", \"displayModeBar\": false, \"showLink\": false})});</script>"
      ]
     },
     "metadata": {},
     "output_type": "display_data"
    }
   ],
   "source": [
    "#Caminho 0-1-2-5-3\n",
    "sn.reset_node_colors(ug)\n",
    "sn.reset_edge_colors(ug)\n",
    "ug.edge[0][1]['color'] = (0, 0, 255)\n",
    "ug.edge[1][2]['color'] = (0, 0, 255)\n",
    "ug.edge[2][5]['color'] = (0, 0, 255)\n",
    "ug.edge[5][3]['color'] = (0, 0, 255)\n",
    "sn.show_graph(ug, nlab=True)"
   ]
  },
  {
   "cell_type": "markdown",
   "metadata": {},
   "source": [
    "### Exercício 6\n",
    "\n",
    "Use cores para dar um exemplo de caminho no grafo `dg`."
   ]
  },
  {
   "cell_type": "code",
   "execution_count": 66,
   "metadata": {},
   "outputs": [
    {
     "data": {
      "application/vnd.plotly.v1+json": {
       "data": [
        {
         "hoverinfo": "none",
         "line": {
          "color": "rgb(0, 0, 255)",
          "width": 2
         },
         "mode": "lines",
         "x": [
          0,
          0.5,
          null,
          0.46643085439538495,
          0.44538388103556675,
          null,
          0.46643085439538495,
          0.4285584341548651,
          null,
          0.5075757575757576,
          0.5075757575757576,
          null,
          0.5075757575757576,
          0.5257358158562198,
          null,
          1.0075757575757576,
          1.0075757575757576,
          null,
          1.0075757575757576,
          1.0257358158562198,
          null,
          0.5,
          1,
          null,
          0.9738173240163878,
          0.9639630823912474,
          null,
          0.9738173240163878,
          0.9377166459078401,
          null
         ],
         "y": [
          0.5,
          1,
          null,
          0.966430854395385,
          0.906182816233176,
          null,
          0.966430854395385,
          0.967759498957256,
          null,
          1,
          0,
          null,
          0.07246376811594203,
          0.13605670738336034,
          null,
          1,
          0,
          null,
          0.07246376811594203,
          0.13605670738336034,
          null,
          0,
          1,
          null,
          0.9476346480327754,
          0.8776659754484841,
          null,
          0.9476346480327754,
          0.9256934811496907,
          null
         ]
        },
        {
         "hoverinfo": "none",
         "line": {
          "color": "rgb(0, 0, 0)",
          "width": 2
         },
         "mode": "lines",
         "x": [
          0,
          0.5,
          null,
          0.46643085439538495,
          0.4285584341548651,
          null,
          0.46643085439538495,
          0.44538388103556675,
          null,
          0.5,
          1,
          null,
          0.9621212121212122,
          0.9288794484132434,
          null,
          0.9621212121212122,
          0.9288794484132434,
          null,
          0.49242424242424243,
          0.49242424242424243,
          null,
          0.49242424242424243,
          0.4742641841437802,
          null,
          0.5,
          1,
          null,
          0.9621212121212122,
          0.9288794484132434,
          null,
          0.9621212121212122,
          0.9288794484132434,
          null,
          1,
          0,
          null,
          0.03664774299318793,
          0.07340128670201525,
          null,
          0.03664774299318793,
          0.06421703965128427,
          null,
          0.9924242424242424,
          0.9924242424242424,
          null,
          0.9924242424242424,
          0.9742641841437802,
          null
         ],
         "y": [
          0.5,
          0,
          null,
          0.03356914560461503,
          0.032240501042743994,
          null,
          0.03356914560461503,
          0.09381718376682407,
          null,
          1,
          1,
          null,
          1,
          0.9652590189417244,
          null,
          1,
          1.0347409810582755,
          null,
          0,
          1,
          null,
          0.927536231884058,
          0.8639432926166397,
          null,
          0,
          0,
          null,
          0,
          -0.03474098105827558,
          null,
          0,
          0.03474098105827558,
          null,
          0,
          0.5,
          null,
          0.481676128503406,
          0.4992073320037643,
          null,
          0.481676128503406,
          0.4319835048195859,
          null,
          0,
          1,
          null,
          0.927536231884058,
          0.8639432926166397,
          null
         ]
        },
        {
         "hoverinfo": "none",
         "marker": {
          "color": "rgb(255, 255, 255)",
          "line": {
           "color": "rgb(0, 0, 0)",
           "width": 2
          },
          "size": 20
         },
         "mode": "markers+text",
         "text": [
          "0",
          "1",
          "2",
          "3",
          "4"
         ],
         "textfont": {
          "color": "rgb(0, 0, 0)"
         },
         "textposition": "middle center",
         "x": [
          0,
          0.5,
          1,
          0.5,
          1
         ],
         "y": [
          0.5,
          1,
          1,
          0,
          0
         ]
        }
       ],
       "layout": {
        "height": 180,
        "margin": {
         "b": 0,
         "l": 0,
         "r": 0,
         "t": 0
        },
        "showlegend": false,
        "width": 320,
        "xaxis": {
         "showgrid": false,
         "showticklabels": false,
         "zeroline": false
        },
        "yaxis": {
         "showgrid": false,
         "showticklabels": false,
         "zeroline": false
        }
       }
      },
      "text/html": [
       "<div id=\"58b1b49c-5803-4c19-8e83-bae5d76c7039\" style=\"height: 180px; width: 320px;\" class=\"plotly-graph-div\"></div><script type=\"text/javascript\">require([\"plotly\"], function(Plotly) { window.PLOTLYENV=window.PLOTLYENV || {};window.PLOTLYENV.BASE_URL=\"https://plot.ly\";Plotly.newPlot(\"58b1b49c-5803-4c19-8e83-bae5d76c7039\", [{\"y\": [0.5, 1.0, null, 0.966430854395385, 0.906182816233176, null, 0.966430854395385, 0.967759498957256, null, 1.0, 0.0, null, 0.07246376811594203, 0.13605670738336034, null, 1.0, 0.0, null, 0.07246376811594203, 0.13605670738336034, null, 0.0, 1.0, null, 0.9476346480327754, 0.8776659754484841, null, 0.9476346480327754, 0.9256934811496907, null], \"line\": {\"width\": 2, \"color\": \"rgb(0, 0, 255)\"}, \"x\": [0.0, 0.5, null, 0.46643085439538495, 0.44538388103556675, null, 0.46643085439538495, 0.4285584341548651, null, 0.5075757575757576, 0.5075757575757576, null, 0.5075757575757576, 0.5257358158562198, null, 1.0075757575757576, 1.0075757575757576, null, 1.0075757575757576, 1.0257358158562198, null, 0.5, 1.0, null, 0.9738173240163878, 0.9639630823912474, null, 0.9738173240163878, 0.9377166459078401, null], \"hoverinfo\": \"none\", \"mode\": \"lines\"}, {\"y\": [0.5, 0.0, null, 0.03356914560461503, 0.032240501042743994, null, 0.03356914560461503, 0.09381718376682407, null, 1.0, 1.0, null, 1.0, 0.9652590189417244, null, 1.0, 1.0347409810582755, null, 0.0, 1.0, null, 0.927536231884058, 0.8639432926166397, null, 0.0, 0.0, null, 0.0, -0.03474098105827558, null, 0.0, 0.03474098105827558, null, 0.0, 0.5, null, 0.481676128503406, 0.4992073320037643, null, 0.481676128503406, 0.4319835048195859, null, 0.0, 1.0, null, 0.927536231884058, 0.8639432926166397, null], \"line\": {\"width\": 2, \"color\": \"rgb(0, 0, 0)\"}, \"x\": [0.0, 0.5, null, 0.46643085439538495, 0.4285584341548651, null, 0.46643085439538495, 0.44538388103556675, null, 0.5, 1.0, null, 0.9621212121212122, 0.9288794484132434, null, 0.9621212121212122, 0.9288794484132434, null, 0.49242424242424243, 0.49242424242424243, null, 0.49242424242424243, 0.4742641841437802, null, 0.5, 1.0, null, 0.9621212121212122, 0.9288794484132434, null, 0.9621212121212122, 0.9288794484132434, null, 1.0, 0.0, null, 0.03664774299318793, 0.07340128670201525, null, 0.03664774299318793, 0.06421703965128427, null, 0.9924242424242424, 0.9924242424242424, null, 0.9924242424242424, 0.9742641841437802, null], \"hoverinfo\": \"none\", \"mode\": \"lines\"}, {\"y\": [0.5, 1.0, 1.0, 0.0, 0.0], \"x\": [0.0, 0.5, 1.0, 0.5, 1.0], \"hoverinfo\": \"none\", \"marker\": {\"line\": {\"width\": 2, \"color\": \"rgb(0, 0, 0)\"}, \"size\": 20, \"color\": \"rgb(255, 255, 255)\"}, \"textfont\": {\"color\": \"rgb(0, 0, 0)\"}, \"text\": [\"0\", \"1\", \"2\", \"3\", \"4\"], \"mode\": \"markers+text\", \"textposition\": \"middle center\"}], {\"height\": 180, \"yaxis\": {\"showticklabels\": false, \"showgrid\": false, \"zeroline\": false}, \"margin\": {\"l\": 0, \"t\": 0, \"b\": 0, \"r\": 0}, \"xaxis\": {\"showticklabels\": false, \"showgrid\": false, \"zeroline\": false}, \"showlegend\": false, \"width\": 320}, {\"linkText\": \"Export to plot.ly\", \"displayModeBar\": false, \"showLink\": false})});</script>"
      ],
      "text/vnd.plotly.v1+html": [
       "<div id=\"58b1b49c-5803-4c19-8e83-bae5d76c7039\" style=\"height: 180px; width: 320px;\" class=\"plotly-graph-div\"></div><script type=\"text/javascript\">require([\"plotly\"], function(Plotly) { window.PLOTLYENV=window.PLOTLYENV || {};window.PLOTLYENV.BASE_URL=\"https://plot.ly\";Plotly.newPlot(\"58b1b49c-5803-4c19-8e83-bae5d76c7039\", [{\"y\": [0.5, 1.0, null, 0.966430854395385, 0.906182816233176, null, 0.966430854395385, 0.967759498957256, null, 1.0, 0.0, null, 0.07246376811594203, 0.13605670738336034, null, 1.0, 0.0, null, 0.07246376811594203, 0.13605670738336034, null, 0.0, 1.0, null, 0.9476346480327754, 0.8776659754484841, null, 0.9476346480327754, 0.9256934811496907, null], \"line\": {\"width\": 2, \"color\": \"rgb(0, 0, 255)\"}, \"x\": [0.0, 0.5, null, 0.46643085439538495, 0.44538388103556675, null, 0.46643085439538495, 0.4285584341548651, null, 0.5075757575757576, 0.5075757575757576, null, 0.5075757575757576, 0.5257358158562198, null, 1.0075757575757576, 1.0075757575757576, null, 1.0075757575757576, 1.0257358158562198, null, 0.5, 1.0, null, 0.9738173240163878, 0.9639630823912474, null, 0.9738173240163878, 0.9377166459078401, null], \"hoverinfo\": \"none\", \"mode\": \"lines\"}, {\"y\": [0.5, 0.0, null, 0.03356914560461503, 0.032240501042743994, null, 0.03356914560461503, 0.09381718376682407, null, 1.0, 1.0, null, 1.0, 0.9652590189417244, null, 1.0, 1.0347409810582755, null, 0.0, 1.0, null, 0.927536231884058, 0.8639432926166397, null, 0.0, 0.0, null, 0.0, -0.03474098105827558, null, 0.0, 0.03474098105827558, null, 0.0, 0.5, null, 0.481676128503406, 0.4992073320037643, null, 0.481676128503406, 0.4319835048195859, null, 0.0, 1.0, null, 0.927536231884058, 0.8639432926166397, null], \"line\": {\"width\": 2, \"color\": \"rgb(0, 0, 0)\"}, \"x\": [0.0, 0.5, null, 0.46643085439538495, 0.4285584341548651, null, 0.46643085439538495, 0.44538388103556675, null, 0.5, 1.0, null, 0.9621212121212122, 0.9288794484132434, null, 0.9621212121212122, 0.9288794484132434, null, 0.49242424242424243, 0.49242424242424243, null, 0.49242424242424243, 0.4742641841437802, null, 0.5, 1.0, null, 0.9621212121212122, 0.9288794484132434, null, 0.9621212121212122, 0.9288794484132434, null, 1.0, 0.0, null, 0.03664774299318793, 0.07340128670201525, null, 0.03664774299318793, 0.06421703965128427, null, 0.9924242424242424, 0.9924242424242424, null, 0.9924242424242424, 0.9742641841437802, null], \"hoverinfo\": \"none\", \"mode\": \"lines\"}, {\"y\": [0.5, 1.0, 1.0, 0.0, 0.0], \"x\": [0.0, 0.5, 1.0, 0.5, 1.0], \"hoverinfo\": \"none\", \"marker\": {\"line\": {\"width\": 2, \"color\": \"rgb(0, 0, 0)\"}, \"size\": 20, \"color\": \"rgb(255, 255, 255)\"}, \"textfont\": {\"color\": \"rgb(0, 0, 0)\"}, \"text\": [\"0\", \"1\", \"2\", \"3\", \"4\"], \"mode\": \"markers+text\", \"textposition\": \"middle center\"}], {\"height\": 180, \"yaxis\": {\"showticklabels\": false, \"showgrid\": false, \"zeroline\": false}, \"margin\": {\"l\": 0, \"t\": 0, \"b\": 0, \"r\": 0}, \"xaxis\": {\"showticklabels\": false, \"showgrid\": false, \"zeroline\": false}, \"showlegend\": false, \"width\": 320}, {\"linkText\": \"Export to plot.ly\", \"displayModeBar\": false, \"showLink\": false})});</script>"
      ]
     },
     "metadata": {},
     "output_type": "display_data"
    }
   ],
   "source": [
    "#Caminho 0-1-3-2-4\n",
    "sn.reset_node_colors(dg)\n",
    "sn.reset_edge_colors(dg)\n",
    "dg.edge[0][1]['color'] = (0, 0, 255)\n",
    "dg.edge[1][3]['color'] = (0, 0, 255)\n",
    "dg.edge[3][2]['color'] = (0, 0, 255)\n",
    "dg.edge[2][4]['color'] = (0, 0, 255)\n",
    "\n",
    "sn.show_graph(dg, nlab=True)"
   ]
  },
  {
   "cell_type": "markdown",
   "metadata": {},
   "source": [
    "## Posicionamento dos nós\n",
    "\n",
    "Para encerrar, vamos carregar o grafo do encontro anterior. O próprio arquivo atribui `label` aos nós, portanto não é necessário criá-los."
   ]
  },
  {
   "cell_type": "code",
   "execution_count": 67,
   "metadata": {},
   "outputs": [
    {
     "data": {
      "application/vnd.plotly.v1+json": {
       "data": [
        {
         "hoverinfo": "none",
         "line": {
          "color": "rgb(0, 0, 0)",
          "width": 2
         },
         "mode": "lines",
         "x": [
          0.4963144963144963,
          0.05405405405405406,
          null,
          0.4963144963144963,
          0.10319410319410319,
          null,
          0.4963144963144963,
          0.25061425061425063,
          null,
          0.4963144963144963,
          0.9115479115479116,
          null,
          0.4963144963144963,
          0.9877149877149877,
          null,
          0.4963144963144963,
          0.941031941031941,
          null,
          0.4963144963144963,
          0.8304668304668305,
          null,
          0.3022113022113022,
          0.4004914004914005,
          null,
          0.3022113022113022,
          0.742014742014742,
          null,
          0.3022113022113022,
          0.009828009828009828,
          null,
          0.3022113022113022,
          0.10319410319410319,
          null,
          0.3022113022113022,
          1,
          null,
          0.15233415233415235,
          0.6953316953316954,
          null,
          0.15233415233415235,
          0.742014742014742,
          null,
          0.15233415233415235,
          1,
          null,
          0.05405405405405406,
          0,
          null,
          0.05405405405405406,
          0.25061425061425063,
          null,
          0.05405405405405406,
          0.597051597051597,
          null,
          0.05405405405405406,
          0.9115479115479116,
          null,
          0.05405405405405406,
          0.9877149877149877,
          null,
          0.05405405405405406,
          0.941031941031941,
          null,
          0.05405405405405406,
          0.8304668304668305,
          null,
          0,
          0.597051597051597,
          null,
          0,
          0.25061425061425063,
          null,
          0.009828009828009828,
          0.6953316953316954,
          null,
          0.009828009828009828,
          0.742014742014742,
          null,
          0.009828009828009828,
          1,
          null,
          0.009828009828009828,
          0.4004914004914005,
          null,
          0.10319410319410319,
          0.742014742014742,
          null,
          0.10319410319410319,
          0.9115479115479116,
          null,
          0.25061425061425063,
          0.9115479115479116,
          null,
          0.25061425061425063,
          0.9877149877149877,
          null,
          0.25061425061425063,
          0.8304668304668305,
          null,
          0.4004914004914005,
          1,
          null,
          0.597051597051597,
          0.9877149877149877,
          null,
          0.742014742014742,
          0.6953316953316954,
          null,
          0.742014742014742,
          1,
          null,
          0.9115479115479116,
          0.9877149877149877,
          null,
          0.9115479115479116,
          0.941031941031941,
          null,
          0.9877149877149877,
          0.8304668304668305,
          null,
          1,
          0.6953316953316954,
          null
         ],
         "y": [
          1,
          0.7213930348258706,
          null,
          1,
          0.20149253731343286,
          null,
          1,
          0.07213930348258701,
          null,
          1,
          0.20149253731343286,
          null,
          1,
          0.3731343283582089,
          null,
          1,
          0.7238805970149254,
          null,
          1,
          0.8706467661691543,
          null,
          0.9701492537313433,
          0,
          null,
          0.9701492537313433,
          0.07462686567164178,
          null,
          0.9701492537313433,
          0.37064676616915426,
          null,
          0.9701492537313433,
          0.20149253731343286,
          null,
          0.9701492537313433,
          0.5472636815920398,
          null,
          0.8731343283582089,
          0.9676616915422885,
          null,
          0.8731343283582089,
          0.07462686567164178,
          null,
          0.8731343283582089,
          0.5472636815920398,
          null,
          0.7213930348258706,
          0.5447761194029851,
          null,
          0.7213930348258706,
          0.07213930348258701,
          null,
          0.7213930348258706,
          0,
          null,
          0.7213930348258706,
          0.20149253731343286,
          null,
          0.7213930348258706,
          0.3731343283582089,
          null,
          0.7213930348258706,
          0.7238805970149254,
          null,
          0.7213930348258706,
          0.8706467661691543,
          null,
          0.5447761194029851,
          0,
          null,
          0.5447761194029851,
          0.07213930348258701,
          null,
          0.37064676616915426,
          0.9676616915422885,
          null,
          0.37064676616915426,
          0.07462686567164178,
          null,
          0.37064676616915426,
          0.5472636815920398,
          null,
          0.37064676616915426,
          0,
          null,
          0.20149253731343286,
          0.07462686567164178,
          null,
          0.20149253731343286,
          0.20149253731343286,
          null,
          0.07213930348258701,
          0.20149253731343286,
          null,
          0.07213930348258701,
          0.3731343283582089,
          null,
          0.07213930348258701,
          0.8706467661691543,
          null,
          0,
          0.5472636815920398,
          null,
          0,
          0.3731343283582089,
          null,
          0.07462686567164178,
          0.9676616915422885,
          null,
          0.07462686567164178,
          0.5472636815920398,
          null,
          0.20149253731343286,
          0.3731343283582089,
          null,
          0.20149253731343286,
          0.7238805970149254,
          null,
          0.3731343283582089,
          0.8706467661691543,
          null,
          0.5472636815920398,
          0.9676616915422885,
          null
         ]
        },
        {
         "hoverinfo": "text",
         "marker": {
          "color": "rgb(255, 255, 255)",
          "line": {
           "color": "rgb(0, 0, 0)",
           "width": 2
          },
          "size": 20
         },
         "mode": "markers",
         "text": [
          "Rogerio",
          "Roberto",
          "Renato",
          "Larissa",
          "Jorge",
          "Sueli",
          "Conrado",
          "Ricardo",
          "Pamela",
          "Fabio",
          "Paulo",
          "William",
          "Tiago",
          "Sandra",
          "Patrick",
          "Jose",
          "Caio"
         ],
         "textfont": {
          "color": "rgb(0, 0, 0)"
         },
         "textposition": "hover",
         "x": [
          0.4963144963144963,
          0.3022113022113022,
          0.15233415233415235,
          0.05405405405405406,
          0,
          0.009828009828009828,
          0.10319410319410319,
          0.25061425061425063,
          0.4004914004914005,
          0.597051597051597,
          0.742014742014742,
          0.9115479115479116,
          0.9877149877149877,
          1,
          0.941031941031941,
          0.8304668304668305,
          0.6953316953316954
         ],
         "y": [
          1,
          0.9701492537313433,
          0.8731343283582089,
          0.7213930348258706,
          0.5447761194029851,
          0.37064676616915426,
          0.20149253731343286,
          0.07213930348258701,
          0,
          0,
          0.07462686567164178,
          0.20149253731343286,
          0.3731343283582089,
          0.5472636815920398,
          0.7238805970149254,
          0.8706467661691543,
          0.9676616915422885
         ]
        }
       ],
       "layout": {
        "height": 450,
        "margin": {
         "b": 0,
         "l": 0,
         "r": 0,
         "t": 0
        },
        "showlegend": false,
        "width": 450,
        "xaxis": {
         "showgrid": false,
         "showticklabels": false,
         "zeroline": false
        },
        "yaxis": {
         "showgrid": false,
         "showticklabels": false,
         "zeroline": false
        }
       }
      },
      "text/html": [
       "<div id=\"b2cb2e39-78eb-4524-8878-bf7858b558a3\" style=\"height: 450px; width: 450px;\" class=\"plotly-graph-div\"></div><script type=\"text/javascript\">require([\"plotly\"], function(Plotly) { window.PLOTLYENV=window.PLOTLYENV || {};window.PLOTLYENV.BASE_URL=\"https://plot.ly\";Plotly.newPlot(\"b2cb2e39-78eb-4524-8878-bf7858b558a3\", [{\"y\": [1.0, 0.7213930348258706, null, 1.0, 0.20149253731343286, null, 1.0, 0.07213930348258701, null, 1.0, 0.20149253731343286, null, 1.0, 0.3731343283582089, null, 1.0, 0.7238805970149254, null, 1.0, 0.8706467661691543, null, 0.9701492537313433, 0.0, null, 0.9701492537313433, 0.07462686567164178, null, 0.9701492537313433, 0.37064676616915426, null, 0.9701492537313433, 0.20149253731343286, null, 0.9701492537313433, 0.5472636815920398, null, 0.8731343283582089, 0.9676616915422885, null, 0.8731343283582089, 0.07462686567164178, null, 0.8731343283582089, 0.5472636815920398, null, 0.7213930348258706, 0.5447761194029851, null, 0.7213930348258706, 0.07213930348258701, null, 0.7213930348258706, 0.0, null, 0.7213930348258706, 0.20149253731343286, null, 0.7213930348258706, 0.3731343283582089, null, 0.7213930348258706, 0.7238805970149254, null, 0.7213930348258706, 0.8706467661691543, null, 0.5447761194029851, 0.0, null, 0.5447761194029851, 0.07213930348258701, null, 0.37064676616915426, 0.9676616915422885, null, 0.37064676616915426, 0.07462686567164178, null, 0.37064676616915426, 0.5472636815920398, null, 0.37064676616915426, 0.0, null, 0.20149253731343286, 0.07462686567164178, null, 0.20149253731343286, 0.20149253731343286, null, 0.07213930348258701, 0.20149253731343286, null, 0.07213930348258701, 0.3731343283582089, null, 0.07213930348258701, 0.8706467661691543, null, 0.0, 0.5472636815920398, null, 0.0, 0.3731343283582089, null, 0.07462686567164178, 0.9676616915422885, null, 0.07462686567164178, 0.5472636815920398, null, 0.20149253731343286, 0.3731343283582089, null, 0.20149253731343286, 0.7238805970149254, null, 0.3731343283582089, 0.8706467661691543, null, 0.5472636815920398, 0.9676616915422885, null], \"line\": {\"width\": 2, \"color\": \"rgb(0, 0, 0)\"}, \"x\": [0.4963144963144963, 0.05405405405405406, null, 0.4963144963144963, 0.10319410319410319, null, 0.4963144963144963, 0.25061425061425063, null, 0.4963144963144963, 0.9115479115479116, null, 0.4963144963144963, 0.9877149877149877, null, 0.4963144963144963, 0.941031941031941, null, 0.4963144963144963, 0.8304668304668305, null, 0.3022113022113022, 0.4004914004914005, null, 0.3022113022113022, 0.742014742014742, null, 0.3022113022113022, 0.009828009828009828, null, 0.3022113022113022, 0.10319410319410319, null, 0.3022113022113022, 1.0, null, 0.15233415233415235, 0.6953316953316954, null, 0.15233415233415235, 0.742014742014742, null, 0.15233415233415235, 1.0, null, 0.05405405405405406, 0.0, null, 0.05405405405405406, 0.25061425061425063, null, 0.05405405405405406, 0.597051597051597, null, 0.05405405405405406, 0.9115479115479116, null, 0.05405405405405406, 0.9877149877149877, null, 0.05405405405405406, 0.941031941031941, null, 0.05405405405405406, 0.8304668304668305, null, 0.0, 0.597051597051597, null, 0.0, 0.25061425061425063, null, 0.009828009828009828, 0.6953316953316954, null, 0.009828009828009828, 0.742014742014742, null, 0.009828009828009828, 1.0, null, 0.009828009828009828, 0.4004914004914005, null, 0.10319410319410319, 0.742014742014742, null, 0.10319410319410319, 0.9115479115479116, null, 0.25061425061425063, 0.9115479115479116, null, 0.25061425061425063, 0.9877149877149877, null, 0.25061425061425063, 0.8304668304668305, null, 0.4004914004914005, 1.0, null, 0.597051597051597, 0.9877149877149877, null, 0.742014742014742, 0.6953316953316954, null, 0.742014742014742, 1.0, null, 0.9115479115479116, 0.9877149877149877, null, 0.9115479115479116, 0.941031941031941, null, 0.9877149877149877, 0.8304668304668305, null, 1.0, 0.6953316953316954, null], \"hoverinfo\": \"none\", \"mode\": \"lines\"}, {\"y\": [1.0, 0.9701492537313433, 0.8731343283582089, 0.7213930348258706, 0.5447761194029851, 0.37064676616915426, 0.20149253731343286, 0.07213930348258701, 0.0, 0.0, 0.07462686567164178, 0.20149253731343286, 0.3731343283582089, 0.5472636815920398, 0.7238805970149254, 0.8706467661691543, 0.9676616915422885], \"x\": [0.4963144963144963, 0.3022113022113022, 0.15233415233415235, 0.05405405405405406, 0.0, 0.009828009828009828, 0.10319410319410319, 0.25061425061425063, 0.4004914004914005, 0.597051597051597, 0.742014742014742, 0.9115479115479116, 0.9877149877149877, 1.0, 0.941031941031941, 0.8304668304668305, 0.6953316953316954], \"hoverinfo\": \"text\", \"marker\": {\"line\": {\"width\": 2, \"color\": \"rgb(0, 0, 0)\"}, \"size\": 20, \"color\": \"rgb(255, 255, 255)\"}, \"textfont\": {\"color\": \"rgb(0, 0, 0)\"}, \"text\": [\"Rogerio\", \"Roberto\", \"Renato\", \"Larissa\", \"Jorge\", \"Sueli\", \"Conrado\", \"Ricardo\", \"Pamela\", \"Fabio\", \"Paulo\", \"William\", \"Tiago\", \"Sandra\", \"Patrick\", \"Jose\", \"Caio\"], \"mode\": \"markers\", \"textposition\": \"hover\"}], {\"height\": 450, \"yaxis\": {\"showticklabels\": false, \"showgrid\": false, \"zeroline\": false}, \"margin\": {\"l\": 0, \"t\": 0, \"b\": 0, \"r\": 0}, \"xaxis\": {\"showticklabels\": false, \"showgrid\": false, \"zeroline\": false}, \"showlegend\": false, \"width\": 450}, {\"linkText\": \"Export to plot.ly\", \"displayModeBar\": false, \"showLink\": false})});</script>"
      ],
      "text/vnd.plotly.v1+html": [
       "<div id=\"b2cb2e39-78eb-4524-8878-bf7858b558a3\" style=\"height: 450px; width: 450px;\" class=\"plotly-graph-div\"></div><script type=\"text/javascript\">require([\"plotly\"], function(Plotly) { window.PLOTLYENV=window.PLOTLYENV || {};window.PLOTLYENV.BASE_URL=\"https://plot.ly\";Plotly.newPlot(\"b2cb2e39-78eb-4524-8878-bf7858b558a3\", [{\"y\": [1.0, 0.7213930348258706, null, 1.0, 0.20149253731343286, null, 1.0, 0.07213930348258701, null, 1.0, 0.20149253731343286, null, 1.0, 0.3731343283582089, null, 1.0, 0.7238805970149254, null, 1.0, 0.8706467661691543, null, 0.9701492537313433, 0.0, null, 0.9701492537313433, 0.07462686567164178, null, 0.9701492537313433, 0.37064676616915426, null, 0.9701492537313433, 0.20149253731343286, null, 0.9701492537313433, 0.5472636815920398, null, 0.8731343283582089, 0.9676616915422885, null, 0.8731343283582089, 0.07462686567164178, null, 0.8731343283582089, 0.5472636815920398, null, 0.7213930348258706, 0.5447761194029851, null, 0.7213930348258706, 0.07213930348258701, null, 0.7213930348258706, 0.0, null, 0.7213930348258706, 0.20149253731343286, null, 0.7213930348258706, 0.3731343283582089, null, 0.7213930348258706, 0.7238805970149254, null, 0.7213930348258706, 0.8706467661691543, null, 0.5447761194029851, 0.0, null, 0.5447761194029851, 0.07213930348258701, null, 0.37064676616915426, 0.9676616915422885, null, 0.37064676616915426, 0.07462686567164178, null, 0.37064676616915426, 0.5472636815920398, null, 0.37064676616915426, 0.0, null, 0.20149253731343286, 0.07462686567164178, null, 0.20149253731343286, 0.20149253731343286, null, 0.07213930348258701, 0.20149253731343286, null, 0.07213930348258701, 0.3731343283582089, null, 0.07213930348258701, 0.8706467661691543, null, 0.0, 0.5472636815920398, null, 0.0, 0.3731343283582089, null, 0.07462686567164178, 0.9676616915422885, null, 0.07462686567164178, 0.5472636815920398, null, 0.20149253731343286, 0.3731343283582089, null, 0.20149253731343286, 0.7238805970149254, null, 0.3731343283582089, 0.8706467661691543, null, 0.5472636815920398, 0.9676616915422885, null], \"line\": {\"width\": 2, \"color\": \"rgb(0, 0, 0)\"}, \"x\": [0.4963144963144963, 0.05405405405405406, null, 0.4963144963144963, 0.10319410319410319, null, 0.4963144963144963, 0.25061425061425063, null, 0.4963144963144963, 0.9115479115479116, null, 0.4963144963144963, 0.9877149877149877, null, 0.4963144963144963, 0.941031941031941, null, 0.4963144963144963, 0.8304668304668305, null, 0.3022113022113022, 0.4004914004914005, null, 0.3022113022113022, 0.742014742014742, null, 0.3022113022113022, 0.009828009828009828, null, 0.3022113022113022, 0.10319410319410319, null, 0.3022113022113022, 1.0, null, 0.15233415233415235, 0.6953316953316954, null, 0.15233415233415235, 0.742014742014742, null, 0.15233415233415235, 1.0, null, 0.05405405405405406, 0.0, null, 0.05405405405405406, 0.25061425061425063, null, 0.05405405405405406, 0.597051597051597, null, 0.05405405405405406, 0.9115479115479116, null, 0.05405405405405406, 0.9877149877149877, null, 0.05405405405405406, 0.941031941031941, null, 0.05405405405405406, 0.8304668304668305, null, 0.0, 0.597051597051597, null, 0.0, 0.25061425061425063, null, 0.009828009828009828, 0.6953316953316954, null, 0.009828009828009828, 0.742014742014742, null, 0.009828009828009828, 1.0, null, 0.009828009828009828, 0.4004914004914005, null, 0.10319410319410319, 0.742014742014742, null, 0.10319410319410319, 0.9115479115479116, null, 0.25061425061425063, 0.9115479115479116, null, 0.25061425061425063, 0.9877149877149877, null, 0.25061425061425063, 0.8304668304668305, null, 0.4004914004914005, 1.0, null, 0.597051597051597, 0.9877149877149877, null, 0.742014742014742, 0.6953316953316954, null, 0.742014742014742, 1.0, null, 0.9115479115479116, 0.9877149877149877, null, 0.9115479115479116, 0.941031941031941, null, 0.9877149877149877, 0.8304668304668305, null, 1.0, 0.6953316953316954, null], \"hoverinfo\": \"none\", \"mode\": \"lines\"}, {\"y\": [1.0, 0.9701492537313433, 0.8731343283582089, 0.7213930348258706, 0.5447761194029851, 0.37064676616915426, 0.20149253731343286, 0.07213930348258701, 0.0, 0.0, 0.07462686567164178, 0.20149253731343286, 0.3731343283582089, 0.5472636815920398, 0.7238805970149254, 0.8706467661691543, 0.9676616915422885], \"x\": [0.4963144963144963, 0.3022113022113022, 0.15233415233415235, 0.05405405405405406, 0.0, 0.009828009828009828, 0.10319410319410319, 0.25061425061425063, 0.4004914004914005, 0.597051597051597, 0.742014742014742, 0.9115479115479116, 0.9877149877149877, 1.0, 0.941031941031941, 0.8304668304668305, 0.6953316953316954], \"hoverinfo\": \"text\", \"marker\": {\"line\": {\"width\": 2, \"color\": \"rgb(0, 0, 0)\"}, \"size\": 20, \"color\": \"rgb(255, 255, 255)\"}, \"textfont\": {\"color\": \"rgb(0, 0, 0)\"}, \"text\": [\"Rogerio\", \"Roberto\", \"Renato\", \"Larissa\", \"Jorge\", \"Sueli\", \"Conrado\", \"Ricardo\", \"Pamela\", \"Fabio\", \"Paulo\", \"William\", \"Tiago\", \"Sandra\", \"Patrick\", \"Jose\", \"Caio\"], \"mode\": \"markers\", \"textposition\": \"hover\"}], {\"height\": 450, \"yaxis\": {\"showticklabels\": false, \"showgrid\": false, \"zeroline\": false}, \"margin\": {\"l\": 0, \"t\": 0, \"b\": 0, \"r\": 0}, \"xaxis\": {\"showticklabels\": false, \"showgrid\": false, \"zeroline\": false}, \"showlegend\": false, \"width\": 450}, {\"linkText\": \"Export to plot.ly\", \"displayModeBar\": false, \"showLink\": false})});</script>"
      ]
     },
     "metadata": {},
     "output_type": "display_data"
    }
   ],
   "source": [
    "sn.graph_width = 450\n",
    "sn.graph_height = 450\n",
    "\n",
    "sn.node_label_position = 'hover' # easter egg!\n",
    "\n",
    "g = sn.load_graph('1-introducao.gml', has_pos=True)\n",
    "\n",
    "sn.show_graph(g, nlab=True)"
   ]
  },
  {
   "cell_type": "markdown",
   "metadata": {},
   "source": [
    "Usamos o argumento `has_pos` para indicar que os atributos `x` e `y` devem ser usados para posicionar os nós. Esse argumento é `False` por padrão, pois nem todo arquivo atribui essas coordenadas.\n",
    "\n",
    "Se elas não forem usadas, a visualização usa um tipo de [force-directed graph drawing](https://en.wikipedia.org/wiki/Force-directed_graph_drawing)."
   ]
  },
  {
   "cell_type": "code",
   "execution_count": 69,
   "metadata": {},
   "outputs": [
    {
     "data": {
      "application/vnd.plotly.v1+json": {
       "data": [
        {
         "hoverinfo": "none",
         "line": {
          "color": "rgb(0, 0, 0)",
          "width": 2
         },
         "mode": "lines",
         "x": [
          0.5405932034862981,
          0.7003920816087065,
          null,
          0.5405932034862981,
          0.3913335562428768,
          null,
          0.5405932034862981,
          0.47826716635686983,
          null,
          0.5405932034862981,
          0.4003649554658202,
          null,
          0.5405932034862981,
          0.6238610770844496,
          null,
          0.5405932034862981,
          0.8290703246072453,
          null,
          0.5405932034862981,
          0.30051169333066996,
          null,
          0.5730423798180674,
          0.72458733659341,
          null,
          0.5730423798180674,
          0.26721906505286275,
          null,
          0.5730423798180674,
          0.4744215935573458,
          null,
          0.5730423798180674,
          0.3913335562428768,
          null,
          0.5730423798180674,
          0.3162394474372791,
          null,
          0,
          0.1291488301505298,
          null,
          0,
          0.26721906505286275,
          null,
          0,
          0.3162394474372791,
          null,
          0.7003920816087065,
          0.8638733072066744,
          null,
          0.7003920816087065,
          0.47826716635686983,
          null,
          0.7003920816087065,
          1,
          null,
          0.7003920816087065,
          0.4003649554658202,
          null,
          0.7003920816087065,
          0.6238610770844496,
          null,
          0.7003920816087065,
          0.8290703246072453,
          null,
          0.7003920816087065,
          0.30051169333066996,
          null,
          0.8638733072066744,
          1,
          null,
          0.8638733072066744,
          0.47826716635686983,
          null,
          0.4744215935573458,
          0.1291488301505298,
          null,
          0.4744215935573458,
          0.26721906505286275,
          null,
          0.4744215935573458,
          0.3162394474372791,
          null,
          0.4744215935573458,
          0.72458733659341,
          null,
          0.3913335562428768,
          0.26721906505286275,
          null,
          0.3913335562428768,
          0.4003649554658202,
          null,
          0.47826716635686983,
          0.4003649554658202,
          null,
          0.47826716635686983,
          0.6238610770844496,
          null,
          0.47826716635686983,
          0.30051169333066996,
          null,
          0.72458733659341,
          0.3162394474372791,
          null,
          1,
          0.6238610770844496,
          null,
          0.26721906505286275,
          0.1291488301505298,
          null,
          0.26721906505286275,
          0.3162394474372791,
          null,
          0.4003649554658202,
          0.6238610770844496,
          null,
          0.4003649554658202,
          0.8290703246072453,
          null,
          0.6238610770844496,
          0.30051169333066996,
          null,
          0.3162394474372791,
          0.1291488301505298,
          null
         ],
         "y": [
          0.23711542546142275,
          0.1138771301080113,
          null,
          0.23711542546142275,
          0.5433135051782009,
          null,
          0.23711542546142275,
          0,
          null,
          0.23711542546142275,
          0.22742279305865518,
          null,
          0.23711542546142275,
          0.020543667314040184,
          null,
          0.23711542546142275,
          0.3471431988584695,
          null,
          0.23711542546142275,
          0.036888220121044285,
          null,
          0.8600219854392022,
          0.9783933176871378,
          null,
          0.8600219854392022,
          0.816335900506184,
          null,
          0.8600219854392022,
          1,
          null,
          0.8600219854392022,
          0.5433135051782009,
          null,
          0.8600219854392022,
          0.9699007987291859,
          null,
          0.7499172016642963,
          0.8851463036389655,
          null,
          0.7499172016642963,
          0.816335900506184,
          null,
          0.7499172016642963,
          0.9699007987291859,
          null,
          0.1138771301080113,
          0.08296858376041817,
          null,
          0.1138771301080113,
          0,
          null,
          0.1138771301080113,
          0.19484651467302025,
          null,
          0.1138771301080113,
          0.22742279305865518,
          null,
          0.1138771301080113,
          0.020543667314040184,
          null,
          0.1138771301080113,
          0.3471431988584695,
          null,
          0.1138771301080113,
          0.036888220121044285,
          null,
          0.08296858376041817,
          0.19484651467302025,
          null,
          0.08296858376041817,
          0,
          null,
          1,
          0.8851463036389655,
          null,
          1,
          0.816335900506184,
          null,
          1,
          0.9699007987291859,
          null,
          1,
          0.9783933176871378,
          null,
          0.5433135051782009,
          0.816335900506184,
          null,
          0.5433135051782009,
          0.22742279305865518,
          null,
          0,
          0.22742279305865518,
          null,
          0,
          0.020543667314040184,
          null,
          0,
          0.036888220121044285,
          null,
          0.9783933176871378,
          0.9699007987291859,
          null,
          0.19484651467302025,
          0.020543667314040184,
          null,
          0.816335900506184,
          0.8851463036389655,
          null,
          0.816335900506184,
          0.9699007987291859,
          null,
          0.22742279305865518,
          0.020543667314040184,
          null,
          0.22742279305865518,
          0.3471431988584695,
          null,
          0.020543667314040184,
          0.036888220121044285,
          null,
          0.9699007987291859,
          0.8851463036389655,
          null
         ]
        },
        {
         "hoverinfo": "text",
         "marker": {
          "color": "rgb(255, 255, 255)",
          "line": {
           "color": "rgb(0, 0, 0)",
           "width": 2
          },
          "size": 20
         },
         "mode": "markers",
         "text": [
          "Rogerio",
          "Roberto",
          "Renato",
          "Larissa",
          "Jorge",
          "Sueli",
          "Conrado",
          "Ricardo",
          "Pamela",
          "Fabio",
          "Paulo",
          "William",
          "Tiago",
          "Sandra",
          "Patrick",
          "Jose",
          "Caio"
         ],
         "textfont": {
          "color": "rgb(0, 0, 0)"
         },
         "textposition": "hover",
         "x": [
          0.5405932034862981,
          0.5730423798180674,
          0,
          0.7003920816087065,
          0.8638733072066744,
          0.4744215935573458,
          0.3913335562428768,
          0.47826716635686983,
          0.72458733659341,
          1,
          0.26721906505286275,
          0.4003649554658202,
          0.6238610770844496,
          0.3162394474372791,
          0.8290703246072453,
          0.30051169333066996,
          0.1291488301505298
         ],
         "y": [
          0.23711542546142275,
          0.8600219854392022,
          0.7499172016642963,
          0.1138771301080113,
          0.08296858376041817,
          1,
          0.5433135051782009,
          0,
          0.9783933176871378,
          0.19484651467302025,
          0.816335900506184,
          0.22742279305865518,
          0.020543667314040184,
          0.9699007987291859,
          0.3471431988584695,
          0.036888220121044285,
          0.8851463036389655
         ]
        }
       ],
       "layout": {
        "height": 450,
        "margin": {
         "b": 0,
         "l": 0,
         "r": 0,
         "t": 0
        },
        "showlegend": false,
        "width": 450,
        "xaxis": {
         "showgrid": false,
         "showticklabels": false,
         "zeroline": false
        },
        "yaxis": {
         "showgrid": false,
         "showticklabels": false,
         "zeroline": false
        }
       }
      },
      "text/html": [
       "<div id=\"f311d8df-cd03-48f7-8087-1e2ba1ae3d99\" style=\"height: 450px; width: 450px;\" class=\"plotly-graph-div\"></div><script type=\"text/javascript\">require([\"plotly\"], function(Plotly) { window.PLOTLYENV=window.PLOTLYENV || {};window.PLOTLYENV.BASE_URL=\"https://plot.ly\";Plotly.newPlot(\"f311d8df-cd03-48f7-8087-1e2ba1ae3d99\", [{\"y\": [0.23711542546142275, 0.1138771301080113, null, 0.23711542546142275, 0.5433135051782009, null, 0.23711542546142275, 0.0, null, 0.23711542546142275, 0.22742279305865518, null, 0.23711542546142275, 0.020543667314040184, null, 0.23711542546142275, 0.3471431988584695, null, 0.23711542546142275, 0.036888220121044285, null, 0.8600219854392022, 0.9783933176871378, null, 0.8600219854392022, 0.816335900506184, null, 0.8600219854392022, 1.0, null, 0.8600219854392022, 0.5433135051782009, null, 0.8600219854392022, 0.9699007987291859, null, 0.7499172016642963, 0.8851463036389655, null, 0.7499172016642963, 0.816335900506184, null, 0.7499172016642963, 0.9699007987291859, null, 0.1138771301080113, 0.08296858376041817, null, 0.1138771301080113, 0.0, null, 0.1138771301080113, 0.19484651467302025, null, 0.1138771301080113, 0.22742279305865518, null, 0.1138771301080113, 0.020543667314040184, null, 0.1138771301080113, 0.3471431988584695, null, 0.1138771301080113, 0.036888220121044285, null, 0.08296858376041817, 0.19484651467302025, null, 0.08296858376041817, 0.0, null, 1.0, 0.8851463036389655, null, 1.0, 0.816335900506184, null, 1.0, 0.9699007987291859, null, 1.0, 0.9783933176871378, null, 0.5433135051782009, 0.816335900506184, null, 0.5433135051782009, 0.22742279305865518, null, 0.0, 0.22742279305865518, null, 0.0, 0.020543667314040184, null, 0.0, 0.036888220121044285, null, 0.9783933176871378, 0.9699007987291859, null, 0.19484651467302025, 0.020543667314040184, null, 0.816335900506184, 0.8851463036389655, null, 0.816335900506184, 0.9699007987291859, null, 0.22742279305865518, 0.020543667314040184, null, 0.22742279305865518, 0.3471431988584695, null, 0.020543667314040184, 0.036888220121044285, null, 0.9699007987291859, 0.8851463036389655, null], \"line\": {\"width\": 2, \"color\": \"rgb(0, 0, 0)\"}, \"x\": [0.5405932034862981, 0.7003920816087065, null, 0.5405932034862981, 0.3913335562428768, null, 0.5405932034862981, 0.47826716635686983, null, 0.5405932034862981, 0.4003649554658202, null, 0.5405932034862981, 0.6238610770844496, null, 0.5405932034862981, 0.8290703246072453, null, 0.5405932034862981, 0.30051169333066996, null, 0.5730423798180674, 0.72458733659341, null, 0.5730423798180674, 0.26721906505286275, null, 0.5730423798180674, 0.4744215935573458, null, 0.5730423798180674, 0.3913335562428768, null, 0.5730423798180674, 0.3162394474372791, null, 0.0, 0.1291488301505298, null, 0.0, 0.26721906505286275, null, 0.0, 0.3162394474372791, null, 0.7003920816087065, 0.8638733072066744, null, 0.7003920816087065, 0.47826716635686983, null, 0.7003920816087065, 1.0, null, 0.7003920816087065, 0.4003649554658202, null, 0.7003920816087065, 0.6238610770844496, null, 0.7003920816087065, 0.8290703246072453, null, 0.7003920816087065, 0.30051169333066996, null, 0.8638733072066744, 1.0, null, 0.8638733072066744, 0.47826716635686983, null, 0.4744215935573458, 0.1291488301505298, null, 0.4744215935573458, 0.26721906505286275, null, 0.4744215935573458, 0.3162394474372791, null, 0.4744215935573458, 0.72458733659341, null, 0.3913335562428768, 0.26721906505286275, null, 0.3913335562428768, 0.4003649554658202, null, 0.47826716635686983, 0.4003649554658202, null, 0.47826716635686983, 0.6238610770844496, null, 0.47826716635686983, 0.30051169333066996, null, 0.72458733659341, 0.3162394474372791, null, 1.0, 0.6238610770844496, null, 0.26721906505286275, 0.1291488301505298, null, 0.26721906505286275, 0.3162394474372791, null, 0.4003649554658202, 0.6238610770844496, null, 0.4003649554658202, 0.8290703246072453, null, 0.6238610770844496, 0.30051169333066996, null, 0.3162394474372791, 0.1291488301505298, null], \"hoverinfo\": \"none\", \"mode\": \"lines\"}, {\"y\": [0.23711542546142275, 0.8600219854392022, 0.7499172016642963, 0.1138771301080113, 0.08296858376041817, 1.0, 0.5433135051782009, 0.0, 0.9783933176871378, 0.19484651467302025, 0.816335900506184, 0.22742279305865518, 0.020543667314040184, 0.9699007987291859, 0.3471431988584695, 0.036888220121044285, 0.8851463036389655], \"x\": [0.5405932034862981, 0.5730423798180674, 0.0, 0.7003920816087065, 0.8638733072066744, 0.4744215935573458, 0.3913335562428768, 0.47826716635686983, 0.72458733659341, 1.0, 0.26721906505286275, 0.4003649554658202, 0.6238610770844496, 0.3162394474372791, 0.8290703246072453, 0.30051169333066996, 0.1291488301505298], \"hoverinfo\": \"text\", \"marker\": {\"line\": {\"width\": 2, \"color\": \"rgb(0, 0, 0)\"}, \"size\": 20, \"color\": \"rgb(255, 255, 255)\"}, \"textfont\": {\"color\": \"rgb(0, 0, 0)\"}, \"text\": [\"Rogerio\", \"Roberto\", \"Renato\", \"Larissa\", \"Jorge\", \"Sueli\", \"Conrado\", \"Ricardo\", \"Pamela\", \"Fabio\", \"Paulo\", \"William\", \"Tiago\", \"Sandra\", \"Patrick\", \"Jose\", \"Caio\"], \"mode\": \"markers\", \"textposition\": \"hover\"}], {\"height\": 450, \"yaxis\": {\"showticklabels\": false, \"showgrid\": false, \"zeroline\": false}, \"margin\": {\"l\": 0, \"t\": 0, \"b\": 0, \"r\": 0}, \"xaxis\": {\"showticklabels\": false, \"showgrid\": false, \"zeroline\": false}, \"showlegend\": false, \"width\": 450}, {\"linkText\": \"Export to plot.ly\", \"displayModeBar\": false, \"showLink\": false})});</script>"
      ],
      "text/vnd.plotly.v1+html": [
       "<div id=\"f311d8df-cd03-48f7-8087-1e2ba1ae3d99\" style=\"height: 450px; width: 450px;\" class=\"plotly-graph-div\"></div><script type=\"text/javascript\">require([\"plotly\"], function(Plotly) { window.PLOTLYENV=window.PLOTLYENV || {};window.PLOTLYENV.BASE_URL=\"https://plot.ly\";Plotly.newPlot(\"f311d8df-cd03-48f7-8087-1e2ba1ae3d99\", [{\"y\": [0.23711542546142275, 0.1138771301080113, null, 0.23711542546142275, 0.5433135051782009, null, 0.23711542546142275, 0.0, null, 0.23711542546142275, 0.22742279305865518, null, 0.23711542546142275, 0.020543667314040184, null, 0.23711542546142275, 0.3471431988584695, null, 0.23711542546142275, 0.036888220121044285, null, 0.8600219854392022, 0.9783933176871378, null, 0.8600219854392022, 0.816335900506184, null, 0.8600219854392022, 1.0, null, 0.8600219854392022, 0.5433135051782009, null, 0.8600219854392022, 0.9699007987291859, null, 0.7499172016642963, 0.8851463036389655, null, 0.7499172016642963, 0.816335900506184, null, 0.7499172016642963, 0.9699007987291859, null, 0.1138771301080113, 0.08296858376041817, null, 0.1138771301080113, 0.0, null, 0.1138771301080113, 0.19484651467302025, null, 0.1138771301080113, 0.22742279305865518, null, 0.1138771301080113, 0.020543667314040184, null, 0.1138771301080113, 0.3471431988584695, null, 0.1138771301080113, 0.036888220121044285, null, 0.08296858376041817, 0.19484651467302025, null, 0.08296858376041817, 0.0, null, 1.0, 0.8851463036389655, null, 1.0, 0.816335900506184, null, 1.0, 0.9699007987291859, null, 1.0, 0.9783933176871378, null, 0.5433135051782009, 0.816335900506184, null, 0.5433135051782009, 0.22742279305865518, null, 0.0, 0.22742279305865518, null, 0.0, 0.020543667314040184, null, 0.0, 0.036888220121044285, null, 0.9783933176871378, 0.9699007987291859, null, 0.19484651467302025, 0.020543667314040184, null, 0.816335900506184, 0.8851463036389655, null, 0.816335900506184, 0.9699007987291859, null, 0.22742279305865518, 0.020543667314040184, null, 0.22742279305865518, 0.3471431988584695, null, 0.020543667314040184, 0.036888220121044285, null, 0.9699007987291859, 0.8851463036389655, null], \"line\": {\"width\": 2, \"color\": \"rgb(0, 0, 0)\"}, \"x\": [0.5405932034862981, 0.7003920816087065, null, 0.5405932034862981, 0.3913335562428768, null, 0.5405932034862981, 0.47826716635686983, null, 0.5405932034862981, 0.4003649554658202, null, 0.5405932034862981, 0.6238610770844496, null, 0.5405932034862981, 0.8290703246072453, null, 0.5405932034862981, 0.30051169333066996, null, 0.5730423798180674, 0.72458733659341, null, 0.5730423798180674, 0.26721906505286275, null, 0.5730423798180674, 0.4744215935573458, null, 0.5730423798180674, 0.3913335562428768, null, 0.5730423798180674, 0.3162394474372791, null, 0.0, 0.1291488301505298, null, 0.0, 0.26721906505286275, null, 0.0, 0.3162394474372791, null, 0.7003920816087065, 0.8638733072066744, null, 0.7003920816087065, 0.47826716635686983, null, 0.7003920816087065, 1.0, null, 0.7003920816087065, 0.4003649554658202, null, 0.7003920816087065, 0.6238610770844496, null, 0.7003920816087065, 0.8290703246072453, null, 0.7003920816087065, 0.30051169333066996, null, 0.8638733072066744, 1.0, null, 0.8638733072066744, 0.47826716635686983, null, 0.4744215935573458, 0.1291488301505298, null, 0.4744215935573458, 0.26721906505286275, null, 0.4744215935573458, 0.3162394474372791, null, 0.4744215935573458, 0.72458733659341, null, 0.3913335562428768, 0.26721906505286275, null, 0.3913335562428768, 0.4003649554658202, null, 0.47826716635686983, 0.4003649554658202, null, 0.47826716635686983, 0.6238610770844496, null, 0.47826716635686983, 0.30051169333066996, null, 0.72458733659341, 0.3162394474372791, null, 1.0, 0.6238610770844496, null, 0.26721906505286275, 0.1291488301505298, null, 0.26721906505286275, 0.3162394474372791, null, 0.4003649554658202, 0.6238610770844496, null, 0.4003649554658202, 0.8290703246072453, null, 0.6238610770844496, 0.30051169333066996, null, 0.3162394474372791, 0.1291488301505298, null], \"hoverinfo\": \"none\", \"mode\": \"lines\"}, {\"y\": [0.23711542546142275, 0.8600219854392022, 0.7499172016642963, 0.1138771301080113, 0.08296858376041817, 1.0, 0.5433135051782009, 0.0, 0.9783933176871378, 0.19484651467302025, 0.816335900506184, 0.22742279305865518, 0.020543667314040184, 0.9699007987291859, 0.3471431988584695, 0.036888220121044285, 0.8851463036389655], \"x\": [0.5405932034862981, 0.5730423798180674, 0.0, 0.7003920816087065, 0.8638733072066744, 0.4744215935573458, 0.3913335562428768, 0.47826716635686983, 0.72458733659341, 1.0, 0.26721906505286275, 0.4003649554658202, 0.6238610770844496, 0.3162394474372791, 0.8290703246072453, 0.30051169333066996, 0.1291488301505298], \"hoverinfo\": \"text\", \"marker\": {\"line\": {\"width\": 2, \"color\": \"rgb(0, 0, 0)\"}, \"size\": 20, \"color\": \"rgb(255, 255, 255)\"}, \"textfont\": {\"color\": \"rgb(0, 0, 0)\"}, \"text\": [\"Rogerio\", \"Roberto\", \"Renato\", \"Larissa\", \"Jorge\", \"Sueli\", \"Conrado\", \"Ricardo\", \"Pamela\", \"Fabio\", \"Paulo\", \"William\", \"Tiago\", \"Sandra\", \"Patrick\", \"Jose\", \"Caio\"], \"mode\": \"markers\", \"textposition\": \"hover\"}], {\"height\": 450, \"yaxis\": {\"showticklabels\": false, \"showgrid\": false, \"zeroline\": false}, \"margin\": {\"l\": 0, \"t\": 0, \"b\": 0, \"r\": 0}, \"xaxis\": {\"showticklabels\": false, \"showgrid\": false, \"zeroline\": false}, \"showlegend\": false, \"width\": 450}, {\"linkText\": \"Export to plot.ly\", \"displayModeBar\": false, \"showLink\": false})});</script>"
      ]
     },
     "metadata": {},
     "output_type": "display_data"
    }
   ],
   "source": [
    "g = sn.load_graph('1-introducao.gml')\n",
    "\n",
    "sn.show_graph(g, nlab=True)"
   ]
  },
  {
   "cell_type": "markdown",
   "metadata": {},
   "source": [
    "Esse posicionamento parece familiar?"
   ]
  }
 ],
 "metadata": {
  "kernelspec": {
   "display_name": "Python 3",
   "language": "python",
   "name": "python3"
  },
  "language_info": {
   "codemirror_mode": {
    "name": "ipython",
    "version": 3
   },
   "file_extension": ".py",
   "mimetype": "text/x-python",
   "name": "python",
   "nbconvert_exporter": "python",
   "pygments_lexer": "ipython3",
   "version": "3.5.2"
  }
 },
 "nbformat": 4,
 "nbformat_minor": 1
}
