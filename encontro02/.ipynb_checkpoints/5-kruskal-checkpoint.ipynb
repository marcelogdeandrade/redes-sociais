{
 "cells": [
  {
   "cell_type": "markdown",
   "metadata": {},
   "source": [
    "# Encontro 02, Parte 5: Algoritmo de Kruskal\n",
    "\n",
    "Este guia foi escrito para ajudar você a atingir os seguintes objetivos:\n",
    "\n",
    "* implementar o algoritmo de Kruskal;\n",
    "* praticar o uso da biblioteca da disciplina.\n",
    "\n",
    "Primeiramente, vamos importar a biblioteca:"
   ]
  },
  {
   "cell_type": "code",
   "execution_count": null,
   "metadata": {
    "collapsed": true
   },
   "outputs": [],
   "source": [
    "import sys\n",
    "sys.path.append('..')\n",
    "\n",
    "import socnet as sn"
   ]
  },
  {
   "cell_type": "markdown",
   "metadata": {},
   "source": [
    "A seguir, vamos configurar as propriedades visuais:"
   ]
  },
  {
   "cell_type": "code",
   "execution_count": null,
   "metadata": {
    "collapsed": true
   },
   "outputs": [],
   "source": [
    "sn.graph_width = 320\n",
    "sn.graph_height = 180"
   ]
  },
  {
   "cell_type": "markdown",
   "metadata": {},
   "source": [
    "Por fim, vamos carregar e visualizar um grafo:"
   ]
  },
  {
   "cell_type": "code",
   "execution_count": null,
   "metadata": {
    "collapsed": true
   },
   "outputs": [],
   "source": [
    "g = sn.load_graph('5-kruskal.gml', has_pos=True)\n",
    "\n",
    "for e in g.edges_iter():\n",
    "    g.edge[e[0]][e[1]]['label'] = g.edge[e[0]][e[1]]['c']\n",
    "\n",
    "for n in g.nodes():\n",
    "    g.node[n]['label'] = str(n)\n",
    "    \n",
    "sn.show_graph(g, elab=True, nlab=True)"
   ]
  },
  {
   "cell_type": "markdown",
   "metadata": {},
   "source": [
    "## Árvores geradoras mínimas\n",
    "\n",
    "Dizemos que:\n",
    "* um passeio $\\langle n_0, n_1, \\ldots, n_{k-1} \\rangle$ é um **circuito** se $\\langle n_0, n_1, \\ldots, n_{k-2} \\rangle$ é um caminho e $n_0 = n_{k-1}$;\n",
    "* um conjunto de arestas $F$ é uma **floresta** se não existem circuitos no grafo $(N, F)$;\n",
    "* um grafo é **conexo** se para quaisquer nós $s$ e $t$ existe um caminho de $s$ a $t$;\n",
    "* uma floresta $T$ é uma **árvore geradora** se o grafo $(N, T)$ é conexo.\n",
    "\n",
    "O **custo** de uma árvore geradora $T$ é\n",
    "\n",
    "$\\sum_{\\{n, m\\} \\in T} c(n, m)$.\n",
    "\n",
    "Uma árvore geradora é **mínima** se não existe outra árvore geradora de custo menor. Note que podem existir múltiplas árvores geradoras mínimas.\n",
    "\n",
    "## Algoritmo de Kruskal\n",
    "\n",
    "Podemos eficientemente obter uma árvore geradora mínima usando o **algoritmo de Kruskal**. A ideia desse algoritmo é simples: inicializamos uma floresta $F$ como o conjunto vazio e verificamos todas as arestas em ordem não-decrescente de custo. Para cada aresta, adicionamos ela a $F$ se essa adição não formar circuito no grafo $(N, F)$.\n",
    "\n",
    "Vamos especificar uma classe que representa a floresta. Não é necessário entender todos os detalhes dela, apenas que o atributo `f` é o conjunto das arestas e os dois últimos métodos são auto-explicativos."
   ]
  },
  {
   "cell_type": "code",
   "execution_count": null,
   "metadata": {
    "collapsed": true
   },
   "outputs": [],
   "source": [
    "class Forest(object):\n",
    "    def __init__(self, g):\n",
    "        self.g = g\n",
    "        self.f = set()\n",
    "        for n in g.nodes():\n",
    "            self._make_set(n)\n",
    "\n",
    "    def _make_set(self, x):\n",
    "        g.node[x]['p'] = x\n",
    "        g.node[x]['rank'] = 0\n",
    "\n",
    "    def _union(self, x, y):\n",
    "        self._link(self._find_set(x), self._find_set(y))\n",
    "\n",
    "    def _link(self, x, y):\n",
    "        if g.node[x]['rank'] > g.node[y]['rank']:\n",
    "            g.node[y]['p'] = x\n",
    "        else:\n",
    "            g.node[x]['p'] = y\n",
    "            if g.node[x]['rank'] == g.node[y]['rank']:\n",
    "                g.node[y]['rank'] = g.node[y]['rank'] + 1\n",
    "\n",
    "    def _find_set(self, x):\n",
    "        if x != g.node[x]['p']:\n",
    "            g.node[x]['p'] = self._find_set(g.node[x]['p'])\n",
    "        return g.node[x]['p']\n",
    "\n",
    "    def adding_does_not_form_circuit(self, n, m):\n",
    "        return self._find_set(n) != self._find_set(m)\n",
    "\n",
    "    def add(self, n, m):\n",
    "        self.f.add((n, m))\n",
    "        self._union(n, m)"
   ]
  },
  {
   "cell_type": "markdown",
   "metadata": {},
   "source": [
    "### Exercício\n",
    "\n",
    "Monte uma visualização do algoritmo de Kruskal. Use a classe `Forest`."
   ]
  },
  {
   "cell_type": "code",
   "execution_count": null,
   "metadata": {
    "collapsed": true
   },
   "outputs": [],
   "source": [
    "#Snapshot\n",
    "def snapshot(g, frames):\n",
    "\n",
    "    frame = sn.generate_frame(g, nlab=True)\n",
    "\n",
    "    frames.append(frame)"
   ]
  },
  {
   "cell_type": "code",
   "execution_count": null,
   "metadata": {
    "collapsed": true
   },
   "outputs": [],
   "source": [
    "#Kruskal\n",
    "red = (255, 0, 0)  # linha nova\n",
    "blue = (0, 0, 255) # linha nova\n",
    "green = (0, 255, 0)\n",
    "frames = []        # linha nova\n",
    "\n",
    "sn.reset_node_colors(g) # linha nova\n",
    "sn.reset_edge_colors(g) # linha nova\n",
    "snapshot(g, frames)     # linha nova\n",
    "\n",
    "\n",
    "from math import inf, isinf\n",
    "\n",
    "\n",
    "#Organize edges\n",
    "organized_edges = []\n",
    "for i in g.edges_iter():\n",
    "    organized_edges.append((i[0],i[1],g.get_edge_data(i[0],i[1])['c']))\n",
    "    \n",
    "#Sort edges\n",
    "organized_edges.sort(reverse=True, key=lambda x: (-x[2],x[0])) #relying on tuples\n",
    "\n",
    "f = Forest(g)\n",
    "for n,m,c in organized_edges:\n",
    "    if (f.adding_does_not_form_circuit(n,m)):\n",
    "        g.edge[m][n]['color'] = blue # linha nova\n",
    "        snapshot(g, frames)  \n",
    "        f.add(n,m)\n",
    "\n",
    "sn.show_animation(frames)"
   ]
  },
  {
   "cell_type": "code",
   "execution_count": null,
   "metadata": {
    "collapsed": true
   },
   "outputs": [],
   "source": []
  }
 ],
 "metadata": {
  "kernelspec": {
   "display_name": "Python 3",
   "language": "python",
   "name": "python3"
  },
  "language_info": {
   "codemirror_mode": {
    "name": "ipython",
    "version": 3
   },
   "file_extension": ".py",
   "mimetype": "text/x-python",
   "name": "python",
   "nbconvert_exporter": "python",
   "pygments_lexer": "ipython3",
   "version": "3.5.2"
  }
 },
 "nbformat": 4,
 "nbformat_minor": 1
}
