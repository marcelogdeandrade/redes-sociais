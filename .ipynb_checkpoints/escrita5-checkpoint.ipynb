{
 "cells": [
  {
   "cell_type": "code",
   "execution_count": 104,
   "metadata": {},
   "outputs": [],
   "source": [
    "import sys\n",
    "sys.path.append('..')\n",
    "\n",
    "import numpy as np\n",
    "import socnet as sn"
   ]
  },
  {
   "cell_type": "code",
   "execution_count": 105,
   "metadata": {
    "collapsed": true
   },
   "outputs": [],
   "source": [
    "sn.graph_width = 500\n",
    "sn.graph_height = 500\n",
    "sn.node_size = 10\n",
    "sn.edge_width = 1\n",
    "sn.edge_color = (192, 192, 192)\n",
    "sn.node_label_position = 'top center'"
   ]
  },
  {
   "cell_type": "code",
   "execution_count": 106,
   "metadata": {},
   "outputs": [
    {
     "name": "stdout",
     "output_type": "stream",
     "text": [
      "['HEAD_ANGLE', '__builtins__', '__cached__', '__doc__', '__file__', '__loader__', '__name__', '__package__', '__spec__', '_add_edge', '_add_node', '_build_edge_trace', '_build_label_trace', '_build_layout', '_build_node_trace', '_convert', '_normalize_positions', '_rotate', '_scale', '_set_layout', 'build_betweenness', 'build_matrix', 'build_shortest_paths', 'cos', 'edge_color', 'edge_label_distance', 'edge_width', 'generate_complete_graph', 'generate_empty_graph', 'generate_frame', 'graph_height', 'graph_width', 'load_graph', 'networkx', 'node_color', 'node_label_position', 'node_size', 'plotly', 'random', 'randomize_positions', 'reset_edge_colors', 'reset_node_colors', 'reset_positions', 'show_animation', 'show_graph', 'sin', 'sqrt', 'update_positions']\n"
     ]
    }
   ],
   "source": [
    "print(dir(sn))"
   ]
  },
  {
   "cell_type": "code",
   "execution_count": 111,
   "metadata": {},
   "outputs": [],
   "source": [
    "total_nodes = 50\n",
    "percentage_women = 0.2\n",
    "percentage_man = 1 - percentage_women\n",
    "\n",
    "constant_prejudice_women = 0.8\n",
    "\n",
    "g = sn.generate_empty_graph(total_nodes)"
   ]
  },
  {
   "cell_type": "code",
   "execution_count": 112,
   "metadata": {
    "collapsed": true
   },
   "outputs": [],
   "source": [
    "from random import randint\n",
    "\n",
    "for n in range(int(total_nodes * percentage_man)):\n",
    "    g.node[n]['gender'] = 'male'\n",
    "    g.node[n]['ability'] = randint(0, 4)\n",
    "    g.node[n]['color'] = (255,255,0)\n",
    "    \n",
    "for n in range(int(total_nodes * percentage_man), total_nodes):\n",
    "    g.node[n]['gender'] = 'female'\n",
    "    g.node[n]['ability'] = randint(0, 4)\n",
    "    g.node[n]['color'] = (255,0,255)\n"
   ]
  },
  {
   "cell_type": "code",
   "execution_count": 113,
   "metadata": {},
   "outputs": [],
   "source": [
    "for n in g.nodes():\n",
    "    for i in g.nodes():\n",
    "        if n != i:\n",
    "            ability_n = g.node[n]['ability']\n",
    "            ability_i = g.node[i]['ability']\n",
    "            if g.node[n]['gender'] == 'male' and g.node[i]['gender'] == 'female':\n",
    "                ability_i = max(ability_i - 2,0)\n",
    "            if ability_i == ability_n and randint(0, 5) == 5:\n",
    "                g.add_edge(n,i)"
   ]
  },
  {
   "cell_type": "code",
   "execution_count": 115,
   "metadata": {},
   "outputs": [
    {
     "ename": "KeyError",
     "evalue": "'label'",
     "output_type": "error",
     "traceback": [
      "\u001b[0;31m---------------------------------------------------------------------------\u001b[0m",
      "\u001b[0;31mKeyError\u001b[0m                                  Traceback (most recent call last)",
      "\u001b[0;32m<ipython-input-115-421d3c7c1e5a>\u001b[0m in \u001b[0;36m<module>\u001b[0;34m()\u001b[0m\n\u001b[1;32m      1\u001b[0m \u001b[0msn\u001b[0m\u001b[0;34m.\u001b[0m\u001b[0mreset_edge_colors\u001b[0m\u001b[0;34m(\u001b[0m\u001b[0mg\u001b[0m\u001b[0;34m)\u001b[0m\u001b[0;34m\u001b[0m\u001b[0m\n\u001b[0;32m----> 2\u001b[0;31m \u001b[0msn\u001b[0m\u001b[0;34m.\u001b[0m\u001b[0mshow_graph\u001b[0m\u001b[0;34m(\u001b[0m\u001b[0mg\u001b[0m\u001b[0;34m,\u001b[0m  \u001b[0mnlab\u001b[0m\u001b[0;34m=\u001b[0m\u001b[0;32mTrue\u001b[0m\u001b[0;34m)\u001b[0m\u001b[0;34m\u001b[0m\u001b[0m\n\u001b[0m",
      "\u001b[0;32m~/Documents/Insper/6_Semestre/RedesSociais/redes-sociais/socnet.py\u001b[0m in \u001b[0;36mshow_graph\u001b[0;34m(g, nlab, elab)\u001b[0m\n\u001b[1;32m    267\u001b[0m         \u001b[0m_add_node\u001b[0m\u001b[0;34m(\u001b[0m\u001b[0mg\u001b[0m\u001b[0;34m,\u001b[0m \u001b[0mn\u001b[0m\u001b[0;34m,\u001b[0m \u001b[0mnode_traces\u001b[0m\u001b[0;34m[\u001b[0m\u001b[0mcolor\u001b[0m\u001b[0;34m]\u001b[0m\u001b[0;34m)\u001b[0m\u001b[0;34m\u001b[0m\u001b[0m\n\u001b[1;32m    268\u001b[0m         \u001b[0;32mif\u001b[0m \u001b[0mnlab\u001b[0m\u001b[0;34m:\u001b[0m\u001b[0;34m\u001b[0m\u001b[0m\n\u001b[0;32m--> 269\u001b[0;31m             \u001b[0mnode_traces\u001b[0m\u001b[0;34m[\u001b[0m\u001b[0mcolor\u001b[0m\u001b[0;34m]\u001b[0m\u001b[0;34m[\u001b[0m\u001b[0;34m'text'\u001b[0m\u001b[0;34m]\u001b[0m\u001b[0;34m.\u001b[0m\u001b[0mappend\u001b[0m\u001b[0;34m(\u001b[0m\u001b[0mg\u001b[0m\u001b[0;34m.\u001b[0m\u001b[0mnodes\u001b[0m\u001b[0;34m[\u001b[0m\u001b[0mn\u001b[0m\u001b[0;34m]\u001b[0m\u001b[0;34m[\u001b[0m\u001b[0;34m'label'\u001b[0m\u001b[0;34m]\u001b[0m\u001b[0;34m)\u001b[0m\u001b[0;34m\u001b[0m\u001b[0m\n\u001b[0m\u001b[1;32m    270\u001b[0m \u001b[0;34m\u001b[0m\u001b[0m\n\u001b[1;32m    271\u001b[0m     \u001b[0medge_traces\u001b[0m \u001b[0;34m=\u001b[0m \u001b[0;34m{\u001b[0m\u001b[0;34m}\u001b[0m\u001b[0;34m\u001b[0m\u001b[0m\n",
      "\u001b[0;31mKeyError\u001b[0m: 'label'"
     ]
    }
   ],
   "source": [
    "sn.reset_edge_colors(g)\n",
    "sn.show_graph(g)"
   ]
  },
  {
   "cell_type": "code",
   "execution_count": null,
   "metadata": {
    "collapsed": true
   },
   "outputs": [],
   "source": []
  }
 ],
 "metadata": {
  "kernelspec": {
   "display_name": "Python 3",
   "language": "python",
   "name": "python3"
  },
  "language_info": {
   "codemirror_mode": {
    "name": "ipython",
    "version": 3
   },
   "file_extension": ".py",
   "mimetype": "text/x-python",
   "name": "python",
   "nbconvert_exporter": "python",
   "pygments_lexer": "ipython3",
   "version": "3.5.2"
  }
 },
 "nbformat": 4,
 "nbformat_minor": 2
}
