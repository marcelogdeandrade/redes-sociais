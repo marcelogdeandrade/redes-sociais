{
 "cells": [
  {
   "cell_type": "markdown",
   "metadata": {},
   "source": [
    "# Encontro 03: Grafos Reais\n",
    "\n",
    "Importando a biblioteca:"
   ]
  },
  {
   "cell_type": "code",
   "execution_count": null,
   "metadata": {},
   "outputs": [],
   "source": [
    "import sys\n",
    "sys.path.append('..')\n",
    "\n",
    "import socnet as sn"
   ]
  },
  {
   "cell_type": "markdown",
   "metadata": {},
   "source": [
    "Carregando e visualizando o grafo:"
   ]
  },
  {
   "cell_type": "code",
   "execution_count": null,
   "metadata": {
    "scrolled": true
   },
   "outputs": [],
   "source": [
    "\n",
    "sn.node_size = 3\n",
    "sn.node_color = (0, 0, 0)\n",
    "sn.edge_width = 1\n",
    "sn.edge_color = (192, 192, 192)\n",
    "sn.node_label_position = 'top center'\n",
    "\n",
    "g = sn.load_graph('mySpotify.gml')\n",
    "\n",
    "sn.show_graph(g, nlab=True)"
   ]
  },
  {
   "cell_type": "markdown",
   "metadata": {},
   "source": [
    "Dependendo do tamanho, o grafo pode demorar um pouco para aparecer."
   ]
  },
  {
   "cell_type": "code",
   "execution_count": null,
   "metadata": {
    "collapsed": true
   },
   "outputs": [],
   "source": [
    "def simulate_betweenness_transfer_geodesic(g):\n",
    "\n",
    "    # Inicialização das médias.\n",
    "\n",
    "    for n in g.nodes():\n",
    "        g.node[n]['simulated_betweenness'] = 0\n",
    "\n",
    "    for _ in range(TIMES):\n",
    "\n",
    "        # Inicialização de todos os betweenness.\n",
    "        for n in g.nodes():\n",
    "            g.node[n]['betweenness'] = 0\n",
    "\n",
    "        for s in g.nodes():\n",
    "            for t in g.nodes():\n",
    "                if s != t:\n",
    "\n",
    "                    # Função caixa-preta que calcula, para cada nó, seu subconjunto\n",
    "                    # de vizinhos que pertencem a geodésicas de s a t. Esse subconjunto\n",
    "                    # é armazenado no atributo shortest_neighbors. Vocês vão aprender\n",
    "                    # a abrir essa caixa-preta em encontros posteriores.\n",
    "                    sn.build_shortest_paths(g, s, t)\n",
    "\n",
    "                    # Dependendo do processo, o fluxo pode não ter sucesso, ou seja,\n",
    "                    # pode ficar preso em uma parte do grafo sem nunca atingir t.\n",
    "                    # Quando isso acontece, simplesmente tenta-se novamente.\n",
    "\n",
    "                    success = False\n",
    "\n",
    "                    while not success:\n",
    "\n",
    "                        # Chamamos de \"dono\" um nó que possui o bem conduzido pelo\n",
    "                        # fluxo. No início do processo, sabemos que o único dono é s.\n",
    "                        for n in g.nodes():\n",
    "                            g.node[n]['owner'] = False\n",
    "                        g.node[s]['owner'] = True\n",
    "\n",
    "                        for n in g.nodes():\n",
    "                            if n != s and n != t:\n",
    "                                g.node[n]['partial_betweenness'] = 0\n",
    "\n",
    "                        while True:\n",
    "\n",
    "                            # O conjunto nodes_reached indica os nós que o fluxo\n",
    "                            # alcança ao \"avançar mais um passo\".\n",
    "                            nodes_reached = set()\n",
    "\n",
    "                            for n in g.nodes():\n",
    "                                if g.node[n]['owner']:\n",
    "\n",
    "                                    # TRANSFERÊNCIA: Escolhemos aleatoriamente um dos vizinhos válidos.\n",
    "                                    # GEODÉSICA: Os vizinhos válidos são os que pertencem a geodésicas.\n",
    "                                    m = choice(g.node[n]['shortest_neighbors'])\n",
    "                                    nodes_reached.add(m)\n",
    "\n",
    "                                    # TRANSFERÊNCIA: O fluxo transfere o bem para os nós que o fluxo\n",
    "                                    # alcança, portanto o nó deixa de ser dono. Nos processos baseados\n",
    "                                    # em duplicação, a linha abaixo não pode ser executada.\n",
    "                                    g.node[n]['owner'] = False\n",
    "\n",
    "                            # Todos os nós que o fluxo alcança tornam-se donos.\n",
    "                            for n in nodes_reached:\n",
    "                                g.node[n]['owner'] = True\n",
    "\n",
    "                            # Se alcançamos t, interrompemos o fluxo e paramos de tentar.\n",
    "                            if t in nodes_reached:\n",
    "                                success = True\n",
    "                                break\n",
    "\n",
    "                            # Se não alcançamos ninguém, interrompemos o fluxo e tentamos novamente.\n",
    "                            if not nodes_reached:\n",
    "                                break\n",
    "\n",
    "                            for n in nodes_reached:\n",
    "                                if n != s and n != t:\n",
    "                                    g.node[n]['partial_betweenness'] += 1\n",
    "\n",
    "                    # Soma de todos os betweenness parciais dos intermediários.\n",
    "                    for n in g.nodes():\n",
    "                        if n != s and n != t:\n",
    "                            g.node[n]['betweenness'] += g.node[n]['partial_betweenness']\n",
    "\n",
    "        # Incremento das médias. Divide-se o valor por 2 para\n",
    "        # desconsiderar a simetria de um grafo não-dirigido.\n",
    "        for n in g.nodes():\n",
    "            g.node[n]['simulated_abetweenness'] += g.node[n]['betweenness'] / 2\n",
    "\n",
    "    # Finalização das médias.\n",
    "    for n in g.nodes():\n",
    "        g.node[n]['simulated_betweenness'] /= TIMES"
   ]
  },
  {
   "cell_type": "code",
   "execution_count": null,
   "metadata": {
    "collapsed": true
   },
   "outputs": [],
   "source": [
    "from random import choice\n",
    "\n",
    "TIMES = 1000"
   ]
  },
  {
   "cell_type": "code",
   "execution_count": null,
   "metadata": {},
   "outputs": [],
   "source": [
    "sn.build_betweenness(g)\n",
    "\n",
    "result = []\n",
    "for n in g.nodes():\n",
    "    result.append((g.node[n]['label'], g.node[n]['theoretical_betweenness']))\n",
    "from operator import itemgetter\n",
    "print(sorted(result,key=itemgetter(1), reverse=True))\n",
    "    "
   ]
  },
  {
   "cell_type": "code",
   "execution_count": null,
   "metadata": {
    "collapsed": true
   },
   "outputs": [],
   "source": [
    "result_degree = []\n",
    "for n in g.nodes():\n",
    "    result_degree.append((g.node[n]['label'], g.degree(n)))\n",
    "from operator import itemgetter\n",
    "print(sorted(result_degree,key=itemgetter(1), reverse=True))"
   ]
  },
  {
   "cell_type": "code",
   "execution_count": null,
   "metadata": {
    "collapsed": true
   },
   "outputs": [],
   "source": []
  }
 ],
 "metadata": {
  "kernelspec": {
   "display_name": "Python 3",
   "language": "python",
   "name": "python3"
  },
  "language_info": {
   "codemirror_mode": {
    "name": "ipython",
    "version": 3
   },
   "file_extension": ".py",
   "mimetype": "text/x-python",
   "name": "python",
   "nbconvert_exporter": "python",
   "pygments_lexer": "ipython3",
   "version": "3.5.2"
  }
 },
 "nbformat": 4,
 "nbformat_minor": 1
}
