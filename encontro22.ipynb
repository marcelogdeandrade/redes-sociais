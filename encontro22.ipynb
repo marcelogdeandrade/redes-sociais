{
 "cells": [
  {
   "cell_type": "markdown",
   "metadata": {},
   "source": [
    "# Encontro 22: Mundos Pequenos\n",
    "\n",
    "Importando as bibliotecas:"
   ]
  },
  {
   "cell_type": "code",
   "execution_count": null,
   "metadata": {
    "collapsed": true,
    "scrolled": true
   },
   "outputs": [],
   "source": [
    "import sys\n",
    "sys.path.append('..')\n",
    "\n",
    "import socnet as sn\n",
    "import matplotlib.pyplot as plt\n",
    "\n",
    "%matplotlib inline  "
   ]
  },
  {
   "cell_type": "markdown",
   "metadata": {},
   "source": [
    "## Atividade 1\n",
    "\n",
    "Definindo uma função que gera um grafo aleatório tal que a probabilidade de uma aresta existir é `c` sobre o número de nós:"
   ]
  },
  {
   "cell_type": "code",
   "execution_count": null,
   "metadata": {
    "collapsed": true
   },
   "outputs": [],
   "source": [
    "from random import random\n",
    "\n",
    "\n",
    "def generate_random_graph(num_nodes, c):\n",
    "    g = sn.generate_empty_graph(num_nodes)\n",
    "\n",
    "    # Antes de completar essa função, estime qual\n",
    "    # vai ser a aparência dos dois gráficos abaixo.\n",
    "\n",
    "    return g"
   ]
  },
  {
   "cell_type": "markdown",
   "metadata": {},
   "source": [
    "Gerando um grafo passando parâmetros específicos para a função acima."
   ]
  },
  {
   "cell_type": "code",
   "execution_count": null,
   "metadata": {
    "collapsed": true
   },
   "outputs": [],
   "source": [
    "N = 100\n",
    "C = 10\n",
    "\n",
    "rg = generate_random_graph(N, C)"
   ]
  },
  {
   "cell_type": "markdown",
   "metadata": {},
   "source": [
    "Verificando se a distribuição dos graus de `pg` segue uma Poisson com média `C`:"
   ]
  },
  {
   "cell_type": "code",
   "execution_count": null,
   "metadata": {
    "collapsed": true
   },
   "outputs": [],
   "source": [
    "from scipy.stats import poisson\n",
    "\n",
    "\n",
    "x = range(N)\n",
    "\n",
    "plt.hist([rg.degree(n) for n in rg.nodes], x, normed=True)\n",
    "\n",
    "plt.plot(x, poisson.pmf(C, x));"
   ]
  },
  {
   "cell_type": "markdown",
   "metadata": {},
   "source": [
    "Calculando variação de *clustering coefficient* e *average distance* conforme aumentamos `num_nodes`:"
   ]
  },
  {
   "cell_type": "code",
   "execution_count": null,
   "metadata": {
    "collapsed": true
   },
   "outputs": [],
   "source": [
    "x = []\n",
    "\n",
    "rcc = []\n",
    "rad = []\n",
    "\n",
    "for num_nodes in range(C + 1, N):\n",
    "    g = generate_random_graph(num_nodes, C)\n",
    "\n",
    "    x.append(num_nodes)\n",
    "\n",
    "    rcc.append(sn.clustering_coefficient(g))\n",
    "    rad.append(sn.average_distance(g))"
   ]
  },
  {
   "cell_type": "markdown",
   "metadata": {},
   "source": [
    "Plotando variação de *clustering coefficient*:"
   ]
  },
  {
   "cell_type": "code",
   "execution_count": null,
   "metadata": {
    "collapsed": true
   },
   "outputs": [],
   "source": [
    "plt.plot(x, rcc);"
   ]
  },
  {
   "cell_type": "markdown",
   "metadata": {},
   "source": [
    "Plotando variação de *average distance*:"
   ]
  },
  {
   "cell_type": "code",
   "execution_count": null,
   "metadata": {
    "collapsed": true
   },
   "outputs": [],
   "source": [
    "plt.plot(x, rad);"
   ]
  },
  {
   "cell_type": "markdown",
   "metadata": {},
   "source": [
    "## Atividade 2\n",
    "\n",
    "Definindo uma função que gera um grafo circular:"
   ]
  },
  {
   "cell_type": "code",
   "execution_count": null,
   "metadata": {
    "collapsed": true
   },
   "outputs": [],
   "source": [
    "def generate_circular_graph(num_nodes, c):\n",
    "    g = sn.generate_empty_graph(num_nodes)\n",
    "\n",
    "    # Antes de completar essa função, estime qual\n",
    "    # vai ser a aparência dos dois gráficos abaixo.\n",
    "\n",
    "    return g"
   ]
  },
  {
   "cell_type": "markdown",
   "metadata": {},
   "source": [
    "Calculando variação de *clustering coefficient* e *average distance* conforme aumentamos `num_nodes`:"
   ]
  },
  {
   "cell_type": "code",
   "execution_count": null,
   "metadata": {
    "collapsed": true
   },
   "outputs": [],
   "source": [
    "ccc = []\n",
    "cad = []\n",
    "\n",
    "for num_nodes in x:\n",
    "    g = generate_circular_graph(num_nodes, C)\n",
    "\n",
    "    ccc.append(sn.clustering_coefficient(g))\n",
    "    cad.append(sn.average_distance(g))"
   ]
  },
  {
   "cell_type": "markdown",
   "metadata": {},
   "source": [
    "Plotando variação de *clustering coefficient*:"
   ]
  },
  {
   "cell_type": "code",
   "execution_count": null,
   "metadata": {
    "collapsed": true
   },
   "outputs": [],
   "source": [
    "plt.plot(x, ccc);"
   ]
  },
  {
   "cell_type": "markdown",
   "metadata": {},
   "source": [
    "Plotando variação de *average distance*:"
   ]
  },
  {
   "cell_type": "code",
   "execution_count": null,
   "metadata": {
    "collapsed": true
   },
   "outputs": [],
   "source": [
    "plt.plot(x, cad);"
   ]
  },
  {
   "cell_type": "markdown",
   "metadata": {},
   "source": [
    "## Atividade 3\n",
    "\n",
    "Definindo uma função que gera um grafo híbrido:"
   ]
  },
  {
   "cell_type": "code",
   "execution_count": null,
   "metadata": {
    "collapsed": true
   },
   "outputs": [],
   "source": [
    "from random import choice\n",
    "\n",
    "\n",
    "def generate_hybrid_graph(num_nodes, c, p):\n",
    "    g = generate_circular_graph(num_nodes, c)\n",
    "\n",
    "    # Antes de completar essa função, estime qual\n",
    "    # vai ser a aparência dos dois gráficos abaixo.\n",
    "\n",
    "    return g"
   ]
  },
  {
   "cell_type": "markdown",
   "metadata": {},
   "source": [
    "Os próximos gráficos serão para `N` e `C` fixos. Por conveniência, vamos repetir a definição."
   ]
  },
  {
   "cell_type": "code",
   "execution_count": null,
   "metadata": {
    "collapsed": true
   },
   "outputs": [],
   "source": [
    "N = 100\n",
    "C = 10"
   ]
  },
  {
   "cell_type": "markdown",
   "metadata": {},
   "source": [
    "Calculando variação de *clustering coefficient* e *average distance* conforme aumentamos `p`:"
   ]
  },
  {
   "cell_type": "code",
   "execution_count": null,
   "metadata": {
    "collapsed": true
   },
   "outputs": [],
   "source": [
    "x = []\n",
    "\n",
    "hcc = []\n",
    "had = []\n",
    "\n",
    "for ip in range(0, 11):\n",
    "    p = ip / 10\n",
    "\n",
    "    g = generate_hybrid_graph(N, C, p)\n",
    "\n",
    "    x.append(p)\n",
    "\n",
    "    hcc.append(sn.clustering_coefficient(g))\n",
    "    had.append(sn.average_distance(g))"
   ]
  },
  {
   "cell_type": "markdown",
   "metadata": {},
   "source": [
    "Comparando variação de *clustering coefficient* com o valor de referência do modelo aleatório.\n",
    "\n",
    "Em um \"pequeno mundo\", espera-se um *clustering coefficient* acima desse valor de referência."
   ]
  },
  {
   "cell_type": "code",
   "execution_count": null,
   "metadata": {
    "collapsed": true
   },
   "outputs": [],
   "source": [
    "plt.plot(x, 11 * [C / N])\n",
    "plt.plot(x, hcc);"
   ]
  },
  {
   "cell_type": "markdown",
   "metadata": {},
   "source": [
    "Comparando variação de *average distance* com o valor de referência do modelo circular.\n",
    "\n",
    "Em um \"pequeno mundo\", espera-se um *average distance* abaixo desse valor de referência."
   ]
  },
  {
   "cell_type": "code",
   "execution_count": null,
   "metadata": {
    "collapsed": true
   },
   "outputs": [],
   "source": [
    "plt.plot(x, 11 * [N / (2 * C)])\n",
    "plt.plot(x, had);"
   ]
  },
  {
   "cell_type": "markdown",
   "metadata": {},
   "source": [
    "Para qual valor de `p` temos um \"pequeno mundo\"?"
   ]
  }
 ],
 "metadata": {
  "kernelspec": {
   "display_name": "Python 3",
   "language": "python",
   "name": "python3"
  },
  "language_info": {
   "codemirror_mode": {
    "name": "ipython",
    "version": 3
   },
   "file_extension": ".py",
   "mimetype": "text/x-python",
   "name": "python",
   "nbconvert_exporter": "python",
   "pygments_lexer": "ipython3",
   "version": "3.6.1"
  }
 },
 "nbformat": 4,
 "nbformat_minor": 1
}
